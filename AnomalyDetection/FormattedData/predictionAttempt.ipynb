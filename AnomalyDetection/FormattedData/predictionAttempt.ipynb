{
 "cells": [
  {
   "cell_type": "code",
   "execution_count": 2,
   "metadata": {},
   "outputs": [],
   "source": [
    "import pandas as pd\n",
    "import numpy as np\n",
    "%matplotlib inline\n",
    "import matplotlib.pyplot as plt"
   ]
  },
  {
   "cell_type": "code",
   "execution_count": 12,
   "metadata": {},
   "outputs": [],
   "source": [
    "df = pd.read_csv('trainTest.csv',index_col='Timestamp',infer_datetime_format=True)"
   ]
  },
  {
   "cell_type": "code",
   "execution_count": 13,
   "metadata": {},
   "outputs": [
    {
     "data": {
      "text/html": [
       "<div>\n",
       "<style scoped>\n",
       "    .dataframe tbody tr th:only-of-type {\n",
       "        vertical-align: middle;\n",
       "    }\n",
       "\n",
       "    .dataframe tbody tr th {\n",
       "        vertical-align: top;\n",
       "    }\n",
       "\n",
       "    .dataframe thead th {\n",
       "        text-align: right;\n",
       "    }\n",
       "</style>\n",
       "<table border=\"1\" class=\"dataframe\">\n",
       "  <thead>\n",
       "    <tr style=\"text-align: right;\">\n",
       "      <th></th>\n",
       "      <th>MON1 CL DDM (?A)</th>\n",
       "      <th>MON1 CL RF (dB)</th>\n",
       "      <th>MON1 DS DDM (?A)</th>\n",
       "      <th>MON1 DS RF (dB)</th>\n",
       "      <th>MON1 NF DDM (?A)</th>\n",
       "      <th>MON1 NF RF (dB)</th>\n",
       "      <th>MON1 CLR DDM (?A)</th>\n",
       "      <th>MON1 CLR RF (dB)</th>\n",
       "      <th>TEMP1</th>\n",
       "      <th>TEMP2</th>\n",
       "      <th>TRYKK</th>\n",
       "      <th>SIKT</th>\n",
       "    </tr>\n",
       "    <tr>\n",
       "      <th>Timestamp</th>\n",
       "      <th></th>\n",
       "      <th></th>\n",
       "      <th></th>\n",
       "      <th></th>\n",
       "      <th></th>\n",
       "      <th></th>\n",
       "      <th></th>\n",
       "      <th></th>\n",
       "      <th></th>\n",
       "      <th></th>\n",
       "      <th></th>\n",
       "      <th></th>\n",
       "    </tr>\n",
       "  </thead>\n",
       "  <tbody>\n",
       "    <tr>\n",
       "      <th>2022-01-28 14:11:19</th>\n",
       "      <td>2.02</td>\n",
       "      <td>0.32</td>\n",
       "      <td>0.87</td>\n",
       "      <td>0.29</td>\n",
       "      <td>-3.18</td>\n",
       "      <td>0.19</td>\n",
       "      <td>2.31</td>\n",
       "      <td>0.34</td>\n",
       "      <td>0</td>\n",
       "      <td>-5</td>\n",
       "      <td>1005</td>\n",
       "      <td>9999</td>\n",
       "    </tr>\n",
       "    <tr>\n",
       "      <th>2022-01-28 14:16:19</th>\n",
       "      <td>1.74</td>\n",
       "      <td>0.32</td>\n",
       "      <td>0.87</td>\n",
       "      <td>0.29</td>\n",
       "      <td>-2.89</td>\n",
       "      <td>0.19</td>\n",
       "      <td>2.31</td>\n",
       "      <td>0.34</td>\n",
       "      <td>0</td>\n",
       "      <td>-5</td>\n",
       "      <td>1005</td>\n",
       "      <td>9999</td>\n",
       "    </tr>\n",
       "    <tr>\n",
       "      <th>2022-01-28 14:21:20</th>\n",
       "      <td>1.74</td>\n",
       "      <td>0.32</td>\n",
       "      <td>0.87</td>\n",
       "      <td>0.29</td>\n",
       "      <td>-3.18</td>\n",
       "      <td>0.19</td>\n",
       "      <td>2.60</td>\n",
       "      <td>0.34</td>\n",
       "      <td>0</td>\n",
       "      <td>-6</td>\n",
       "      <td>1005</td>\n",
       "      <td>9999</td>\n",
       "    </tr>\n",
       "    <tr>\n",
       "      <th>2022-01-28 14:26:20</th>\n",
       "      <td>0.29</td>\n",
       "      <td>-39.90</td>\n",
       "      <td>-76.94</td>\n",
       "      <td>-39.90</td>\n",
       "      <td>0.00</td>\n",
       "      <td>-39.90</td>\n",
       "      <td>-322.78</td>\n",
       "      <td>-35.61</td>\n",
       "      <td>0</td>\n",
       "      <td>-6</td>\n",
       "      <td>1005</td>\n",
       "      <td>9999</td>\n",
       "    </tr>\n",
       "    <tr>\n",
       "      <th>2022-01-28 14:31:20</th>\n",
       "      <td>0.00</td>\n",
       "      <td>-39.90</td>\n",
       "      <td>-76.94</td>\n",
       "      <td>-39.90</td>\n",
       "      <td>0.00</td>\n",
       "      <td>-39.90</td>\n",
       "      <td>-322.49</td>\n",
       "      <td>-35.61</td>\n",
       "      <td>0</td>\n",
       "      <td>-6</td>\n",
       "      <td>1005</td>\n",
       "      <td>9999</td>\n",
       "    </tr>\n",
       "  </tbody>\n",
       "</table>\n",
       "</div>"
      ],
      "text/plain": [
       "                     MON1 CL DDM (?A)  MON1 CL RF (dB)  MON1 DS DDM (?A)  \\\n",
       "Timestamp                                                                  \n",
       "2022-01-28 14:11:19              2.02             0.32              0.87   \n",
       "2022-01-28 14:16:19              1.74             0.32              0.87   \n",
       "2022-01-28 14:21:20              1.74             0.32              0.87   \n",
       "2022-01-28 14:26:20              0.29           -39.90            -76.94   \n",
       "2022-01-28 14:31:20              0.00           -39.90            -76.94   \n",
       "\n",
       "                     MON1 DS RF (dB)  MON1 NF DDM (?A)  MON1 NF RF (dB)  \\\n",
       "Timestamp                                                                 \n",
       "2022-01-28 14:11:19             0.29             -3.18             0.19   \n",
       "2022-01-28 14:16:19             0.29             -2.89             0.19   \n",
       "2022-01-28 14:21:20             0.29             -3.18             0.19   \n",
       "2022-01-28 14:26:20           -39.90              0.00           -39.90   \n",
       "2022-01-28 14:31:20           -39.90              0.00           -39.90   \n",
       "\n",
       "                     MON1 CLR DDM (?A)  MON1 CLR RF (dB)  TEMP1  TEMP2  TRYKK  \\\n",
       "Timestamp                                                                       \n",
       "2022-01-28 14:11:19               2.31              0.34      0     -5   1005   \n",
       "2022-01-28 14:16:19               2.31              0.34      0     -5   1005   \n",
       "2022-01-28 14:21:20               2.60              0.34      0     -6   1005   \n",
       "2022-01-28 14:26:20            -322.78            -35.61      0     -6   1005   \n",
       "2022-01-28 14:31:20            -322.49            -35.61      0     -6   1005   \n",
       "\n",
       "                     SIKT  \n",
       "Timestamp                  \n",
       "2022-01-28 14:11:19  9999  \n",
       "2022-01-28 14:16:19  9999  \n",
       "2022-01-28 14:21:20  9999  \n",
       "2022-01-28 14:26:20  9999  \n",
       "2022-01-28 14:31:20  9999  "
      ]
     },
     "execution_count": 13,
     "metadata": {},
     "output_type": "execute_result"
    }
   ],
   "source": [
    "df.head()"
   ]
  },
  {
   "cell_type": "code",
   "execution_count": 14,
   "metadata": {},
   "outputs": [
    {
     "name": "stdout",
     "output_type": "stream",
     "text": [
      "<class 'pandas.core.frame.DataFrame'>\n",
      "Index: 3371 entries, 2022-01-28 14:11:19 to 2022-02-09 07:20:39\n",
      "Data columns (total 12 columns):\n",
      " #   Column             Non-Null Count  Dtype  \n",
      "---  ------             --------------  -----  \n",
      " 0   MON1 CL DDM (?A)   3371 non-null   float64\n",
      " 1   MON1 CL RF (dB)    3371 non-null   float64\n",
      " 2   MON1 DS DDM (?A)   3371 non-null   float64\n",
      " 3   MON1 DS RF (dB)    3371 non-null   float64\n",
      " 4   MON1 NF DDM (?A)   3371 non-null   float64\n",
      " 5   MON1 NF RF (dB)    3371 non-null   float64\n",
      " 6   MON1 CLR DDM (?A)  3371 non-null   float64\n",
      " 7   MON1 CLR RF (dB)   3371 non-null   float64\n",
      " 8   TEMP1              3371 non-null   int64  \n",
      " 9   TEMP2              3371 non-null   int64  \n",
      " 10  TRYKK              3371 non-null   int64  \n",
      " 11  SIKT               3371 non-null   int64  \n",
      "dtypes: float64(8), int64(4)\n",
      "memory usage: 342.4+ KB\n"
     ]
    }
   ],
   "source": [
    "df.info()"
   ]
  },
  {
   "cell_type": "code",
   "execution_count": 15,
   "metadata": {},
   "outputs": [],
   "source": [
    "df = df.round(2)"
   ]
  },
  {
   "cell_type": "code",
   "execution_count": 16,
   "metadata": {},
   "outputs": [
    {
     "data": {
      "text/plain": [
       "3371"
      ]
     },
     "execution_count": 16,
     "metadata": {},
     "output_type": "execute_result"
    }
   ],
   "source": [
    "len(df)"
   ]
  }
 ],
 "metadata": {
  "interpreter": {
   "hash": "1baa965d5efe3ac65b79dfc60c0d706280b1da80fedb7760faf2759126c4f253"
  },
  "kernelspec": {
   "display_name": "Python 3.8.5 64-bit",
   "language": "python",
   "name": "python3"
  },
  "language_info": {
   "codemirror_mode": {
    "name": "ipython",
    "version": 3
   },
   "file_extension": ".py",
   "mimetype": "text/x-python",
   "name": "python",
   "nbconvert_exporter": "python",
   "pygments_lexer": "ipython3",
   "version": "3.8.5"
  },
  "orig_nbformat": 4
 },
 "nbformat": 4,
 "nbformat_minor": 2
}
