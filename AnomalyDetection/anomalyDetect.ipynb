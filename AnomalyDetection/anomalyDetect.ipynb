{
 "cells": [
  {
   "cell_type": "code",
   "execution_count": 22,
   "metadata": {},
   "outputs": [
    {
     "data": {
      "text/html": [
       "<style type=\"text/css\">\n",
       "#T_0d498_row21_col1 {\n",
       "  background-color: lightgreen;\n",
       "}\n",
       "</style>\n",
       "<table id=\"T_0d498\">\n",
       "  <thead>\n",
       "    <tr>\n",
       "      <th class=\"blank level0\" >&nbsp;</th>\n",
       "      <th id=\"T_0d498_level0_col0\" class=\"col_heading level0 col0\" >Description</th>\n",
       "      <th id=\"T_0d498_level0_col1\" class=\"col_heading level0 col1\" >Value</th>\n",
       "    </tr>\n",
       "  </thead>\n",
       "  <tbody>\n",
       "    <tr>\n",
       "      <th id=\"T_0d498_level0_row0\" class=\"row_heading level0 row0\" >0</th>\n",
       "      <td id=\"T_0d498_row0_col0\" class=\"data row0 col0\" >session_id</td>\n",
       "      <td id=\"T_0d498_row0_col1\" class=\"data row0 col1\" >123</td>\n",
       "    </tr>\n",
       "    <tr>\n",
       "      <th id=\"T_0d498_level0_row1\" class=\"row_heading level0 row1\" >1</th>\n",
       "      <td id=\"T_0d498_row1_col0\" class=\"data row1 col0\" >Original Data</td>\n",
       "      <td id=\"T_0d498_row1_col1\" class=\"data row1 col1\" >(3371, 9)</td>\n",
       "    </tr>\n",
       "    <tr>\n",
       "      <th id=\"T_0d498_level0_row2\" class=\"row_heading level0 row2\" >2</th>\n",
       "      <td id=\"T_0d498_row2_col0\" class=\"data row2 col0\" >Missing Values</td>\n",
       "      <td id=\"T_0d498_row2_col1\" class=\"data row2 col1\" >0</td>\n",
       "    </tr>\n",
       "    <tr>\n",
       "      <th id=\"T_0d498_level0_row3\" class=\"row_heading level0 row3\" >3</th>\n",
       "      <td id=\"T_0d498_row3_col0\" class=\"data row3 col0\" >Numeric Features</td>\n",
       "      <td id=\"T_0d498_row3_col1\" class=\"data row3 col1\" >8</td>\n",
       "    </tr>\n",
       "    <tr>\n",
       "      <th id=\"T_0d498_level0_row4\" class=\"row_heading level0 row4\" >4</th>\n",
       "      <td id=\"T_0d498_row4_col0\" class=\"data row4 col0\" >Categorical Features</td>\n",
       "      <td id=\"T_0d498_row4_col1\" class=\"data row4 col1\" >0</td>\n",
       "    </tr>\n",
       "    <tr>\n",
       "      <th id=\"T_0d498_level0_row5\" class=\"row_heading level0 row5\" >5</th>\n",
       "      <td id=\"T_0d498_row5_col0\" class=\"data row5 col0\" >Ordinal Features</td>\n",
       "      <td id=\"T_0d498_row5_col1\" class=\"data row5 col1\" >0</td>\n",
       "    </tr>\n",
       "    <tr>\n",
       "      <th id=\"T_0d498_level0_row6\" class=\"row_heading level0 row6\" >6</th>\n",
       "      <td id=\"T_0d498_row6_col0\" class=\"data row6 col0\" >High Cardinality Features</td>\n",
       "      <td id=\"T_0d498_row6_col1\" class=\"data row6 col1\" >0</td>\n",
       "    </tr>\n",
       "    <tr>\n",
       "      <th id=\"T_0d498_level0_row7\" class=\"row_heading level0 row7\" >7</th>\n",
       "      <td id=\"T_0d498_row7_col0\" class=\"data row7 col0\" >High Cardinality Method</td>\n",
       "      <td id=\"T_0d498_row7_col1\" class=\"data row7 col1\" >None</td>\n",
       "    </tr>\n",
       "    <tr>\n",
       "      <th id=\"T_0d498_level0_row8\" class=\"row_heading level0 row8\" >8</th>\n",
       "      <td id=\"T_0d498_row8_col0\" class=\"data row8 col0\" >Transformed Data</td>\n",
       "      <td id=\"T_0d498_row8_col1\" class=\"data row8 col1\" >(3371, 8)</td>\n",
       "    </tr>\n",
       "    <tr>\n",
       "      <th id=\"T_0d498_level0_row9\" class=\"row_heading level0 row9\" >9</th>\n",
       "      <td id=\"T_0d498_row9_col0\" class=\"data row9 col0\" >CPU Jobs</td>\n",
       "      <td id=\"T_0d498_row9_col1\" class=\"data row9 col1\" >-1</td>\n",
       "    </tr>\n",
       "    <tr>\n",
       "      <th id=\"T_0d498_level0_row10\" class=\"row_heading level0 row10\" >10</th>\n",
       "      <td id=\"T_0d498_row10_col0\" class=\"data row10 col0\" >Use GPU</td>\n",
       "      <td id=\"T_0d498_row10_col1\" class=\"data row10 col1\" >0</td>\n",
       "    </tr>\n",
       "    <tr>\n",
       "      <th id=\"T_0d498_level0_row11\" class=\"row_heading level0 row11\" >11</th>\n",
       "      <td id=\"T_0d498_row11_col0\" class=\"data row11 col0\" >Log Experiment</td>\n",
       "      <td id=\"T_0d498_row11_col1\" class=\"data row11 col1\" >0</td>\n",
       "    </tr>\n",
       "    <tr>\n",
       "      <th id=\"T_0d498_level0_row12\" class=\"row_heading level0 row12\" >12</th>\n",
       "      <td id=\"T_0d498_row12_col0\" class=\"data row12 col0\" >Experiment Name</td>\n",
       "      <td id=\"T_0d498_row12_col1\" class=\"data row12 col1\" >anomaly-default-name</td>\n",
       "    </tr>\n",
       "    <tr>\n",
       "      <th id=\"T_0d498_level0_row13\" class=\"row_heading level0 row13\" >13</th>\n",
       "      <td id=\"T_0d498_row13_col0\" class=\"data row13 col0\" >USI</td>\n",
       "      <td id=\"T_0d498_row13_col1\" class=\"data row13 col1\" >313f</td>\n",
       "    </tr>\n",
       "    <tr>\n",
       "      <th id=\"T_0d498_level0_row14\" class=\"row_heading level0 row14\" >14</th>\n",
       "      <td id=\"T_0d498_row14_col0\" class=\"data row14 col0\" >Imputation Type</td>\n",
       "      <td id=\"T_0d498_row14_col1\" class=\"data row14 col1\" >simple</td>\n",
       "    </tr>\n",
       "    <tr>\n",
       "      <th id=\"T_0d498_level0_row15\" class=\"row_heading level0 row15\" >15</th>\n",
       "      <td id=\"T_0d498_row15_col0\" class=\"data row15 col0\" >Iterative Imputation Iteration</td>\n",
       "      <td id=\"T_0d498_row15_col1\" class=\"data row15 col1\" >None</td>\n",
       "    </tr>\n",
       "    <tr>\n",
       "      <th id=\"T_0d498_level0_row16\" class=\"row_heading level0 row16\" >16</th>\n",
       "      <td id=\"T_0d498_row16_col0\" class=\"data row16 col0\" >Numeric Imputer</td>\n",
       "      <td id=\"T_0d498_row16_col1\" class=\"data row16 col1\" >mean</td>\n",
       "    </tr>\n",
       "    <tr>\n",
       "      <th id=\"T_0d498_level0_row17\" class=\"row_heading level0 row17\" >17</th>\n",
       "      <td id=\"T_0d498_row17_col0\" class=\"data row17 col0\" >Iterative Imputation Numeric Model</td>\n",
       "      <td id=\"T_0d498_row17_col1\" class=\"data row17 col1\" >None</td>\n",
       "    </tr>\n",
       "    <tr>\n",
       "      <th id=\"T_0d498_level0_row18\" class=\"row_heading level0 row18\" >18</th>\n",
       "      <td id=\"T_0d498_row18_col0\" class=\"data row18 col0\" >Categorical Imputer</td>\n",
       "      <td id=\"T_0d498_row18_col1\" class=\"data row18 col1\" >mode</td>\n",
       "    </tr>\n",
       "    <tr>\n",
       "      <th id=\"T_0d498_level0_row19\" class=\"row_heading level0 row19\" >19</th>\n",
       "      <td id=\"T_0d498_row19_col0\" class=\"data row19 col0\" >Iterative Imputation Categorical Model</td>\n",
       "      <td id=\"T_0d498_row19_col1\" class=\"data row19 col1\" >None</td>\n",
       "    </tr>\n",
       "    <tr>\n",
       "      <th id=\"T_0d498_level0_row20\" class=\"row_heading level0 row20\" >20</th>\n",
       "      <td id=\"T_0d498_row20_col0\" class=\"data row20 col0\" >Unknown Categoricals Handling</td>\n",
       "      <td id=\"T_0d498_row20_col1\" class=\"data row20 col1\" >least_frequent</td>\n",
       "    </tr>\n",
       "    <tr>\n",
       "      <th id=\"T_0d498_level0_row21\" class=\"row_heading level0 row21\" >21</th>\n",
       "      <td id=\"T_0d498_row21_col0\" class=\"data row21 col0\" >Normalize</td>\n",
       "      <td id=\"T_0d498_row21_col1\" class=\"data row21 col1\" >1</td>\n",
       "    </tr>\n",
       "    <tr>\n",
       "      <th id=\"T_0d498_level0_row22\" class=\"row_heading level0 row22\" >22</th>\n",
       "      <td id=\"T_0d498_row22_col0\" class=\"data row22 col0\" >Normalize Method</td>\n",
       "      <td id=\"T_0d498_row22_col1\" class=\"data row22 col1\" >zscore</td>\n",
       "    </tr>\n",
       "    <tr>\n",
       "      <th id=\"T_0d498_level0_row23\" class=\"row_heading level0 row23\" >23</th>\n",
       "      <td id=\"T_0d498_row23_col0\" class=\"data row23 col0\" >Transformation</td>\n",
       "      <td id=\"T_0d498_row23_col1\" class=\"data row23 col1\" >0</td>\n",
       "    </tr>\n",
       "    <tr>\n",
       "      <th id=\"T_0d498_level0_row24\" class=\"row_heading level0 row24\" >24</th>\n",
       "      <td id=\"T_0d498_row24_col0\" class=\"data row24 col0\" >Transformation Method</td>\n",
       "      <td id=\"T_0d498_row24_col1\" class=\"data row24 col1\" >None</td>\n",
       "    </tr>\n",
       "    <tr>\n",
       "      <th id=\"T_0d498_level0_row25\" class=\"row_heading level0 row25\" >25</th>\n",
       "      <td id=\"T_0d498_row25_col0\" class=\"data row25 col0\" >PCA</td>\n",
       "      <td id=\"T_0d498_row25_col1\" class=\"data row25 col1\" >0</td>\n",
       "    </tr>\n",
       "    <tr>\n",
       "      <th id=\"T_0d498_level0_row26\" class=\"row_heading level0 row26\" >26</th>\n",
       "      <td id=\"T_0d498_row26_col0\" class=\"data row26 col0\" >PCA Method</td>\n",
       "      <td id=\"T_0d498_row26_col1\" class=\"data row26 col1\" >None</td>\n",
       "    </tr>\n",
       "    <tr>\n",
       "      <th id=\"T_0d498_level0_row27\" class=\"row_heading level0 row27\" >27</th>\n",
       "      <td id=\"T_0d498_row27_col0\" class=\"data row27 col0\" >PCA Components</td>\n",
       "      <td id=\"T_0d498_row27_col1\" class=\"data row27 col1\" >None</td>\n",
       "    </tr>\n",
       "    <tr>\n",
       "      <th id=\"T_0d498_level0_row28\" class=\"row_heading level0 row28\" >28</th>\n",
       "      <td id=\"T_0d498_row28_col0\" class=\"data row28 col0\" >Ignore Low Variance</td>\n",
       "      <td id=\"T_0d498_row28_col1\" class=\"data row28 col1\" >0</td>\n",
       "    </tr>\n",
       "    <tr>\n",
       "      <th id=\"T_0d498_level0_row29\" class=\"row_heading level0 row29\" >29</th>\n",
       "      <td id=\"T_0d498_row29_col0\" class=\"data row29 col0\" >Combine Rare Levels</td>\n",
       "      <td id=\"T_0d498_row29_col1\" class=\"data row29 col1\" >0</td>\n",
       "    </tr>\n",
       "    <tr>\n",
       "      <th id=\"T_0d498_level0_row30\" class=\"row_heading level0 row30\" >30</th>\n",
       "      <td id=\"T_0d498_row30_col0\" class=\"data row30 col0\" >Rare Level Threshold</td>\n",
       "      <td id=\"T_0d498_row30_col1\" class=\"data row30 col1\" >None</td>\n",
       "    </tr>\n",
       "    <tr>\n",
       "      <th id=\"T_0d498_level0_row31\" class=\"row_heading level0 row31\" >31</th>\n",
       "      <td id=\"T_0d498_row31_col0\" class=\"data row31 col0\" >Numeric Binning</td>\n",
       "      <td id=\"T_0d498_row31_col1\" class=\"data row31 col1\" >0</td>\n",
       "    </tr>\n",
       "    <tr>\n",
       "      <th id=\"T_0d498_level0_row32\" class=\"row_heading level0 row32\" >32</th>\n",
       "      <td id=\"T_0d498_row32_col0\" class=\"data row32 col0\" >Remove Outliers</td>\n",
       "      <td id=\"T_0d498_row32_col1\" class=\"data row32 col1\" >0</td>\n",
       "    </tr>\n",
       "    <tr>\n",
       "      <th id=\"T_0d498_level0_row33\" class=\"row_heading level0 row33\" >33</th>\n",
       "      <td id=\"T_0d498_row33_col0\" class=\"data row33 col0\" >Outliers Threshold</td>\n",
       "      <td id=\"T_0d498_row33_col1\" class=\"data row33 col1\" >None</td>\n",
       "    </tr>\n",
       "    <tr>\n",
       "      <th id=\"T_0d498_level0_row34\" class=\"row_heading level0 row34\" >34</th>\n",
       "      <td id=\"T_0d498_row34_col0\" class=\"data row34 col0\" >Remove Multicollinearity</td>\n",
       "      <td id=\"T_0d498_row34_col1\" class=\"data row34 col1\" >0</td>\n",
       "    </tr>\n",
       "    <tr>\n",
       "      <th id=\"T_0d498_level0_row35\" class=\"row_heading level0 row35\" >35</th>\n",
       "      <td id=\"T_0d498_row35_col0\" class=\"data row35 col0\" >Multicollinearity Threshold</td>\n",
       "      <td id=\"T_0d498_row35_col1\" class=\"data row35 col1\" >None</td>\n",
       "    </tr>\n",
       "    <tr>\n",
       "      <th id=\"T_0d498_level0_row36\" class=\"row_heading level0 row36\" >36</th>\n",
       "      <td id=\"T_0d498_row36_col0\" class=\"data row36 col0\" >Remove Perfect Collinearity</td>\n",
       "      <td id=\"T_0d498_row36_col1\" class=\"data row36 col1\" >0</td>\n",
       "    </tr>\n",
       "    <tr>\n",
       "      <th id=\"T_0d498_level0_row37\" class=\"row_heading level0 row37\" >37</th>\n",
       "      <td id=\"T_0d498_row37_col0\" class=\"data row37 col0\" >Clustering</td>\n",
       "      <td id=\"T_0d498_row37_col1\" class=\"data row37 col1\" >0</td>\n",
       "    </tr>\n",
       "    <tr>\n",
       "      <th id=\"T_0d498_level0_row38\" class=\"row_heading level0 row38\" >38</th>\n",
       "      <td id=\"T_0d498_row38_col0\" class=\"data row38 col0\" >Clustering Iteration</td>\n",
       "      <td id=\"T_0d498_row38_col1\" class=\"data row38 col1\" >None</td>\n",
       "    </tr>\n",
       "    <tr>\n",
       "      <th id=\"T_0d498_level0_row39\" class=\"row_heading level0 row39\" >39</th>\n",
       "      <td id=\"T_0d498_row39_col0\" class=\"data row39 col0\" >Polynomial Features</td>\n",
       "      <td id=\"T_0d498_row39_col1\" class=\"data row39 col1\" >0</td>\n",
       "    </tr>\n",
       "    <tr>\n",
       "      <th id=\"T_0d498_level0_row40\" class=\"row_heading level0 row40\" >40</th>\n",
       "      <td id=\"T_0d498_row40_col0\" class=\"data row40 col0\" >Polynomial Degree</td>\n",
       "      <td id=\"T_0d498_row40_col1\" class=\"data row40 col1\" >None</td>\n",
       "    </tr>\n",
       "    <tr>\n",
       "      <th id=\"T_0d498_level0_row41\" class=\"row_heading level0 row41\" >41</th>\n",
       "      <td id=\"T_0d498_row41_col0\" class=\"data row41 col0\" >Trignometry Features</td>\n",
       "      <td id=\"T_0d498_row41_col1\" class=\"data row41 col1\" >0</td>\n",
       "    </tr>\n",
       "    <tr>\n",
       "      <th id=\"T_0d498_level0_row42\" class=\"row_heading level0 row42\" >42</th>\n",
       "      <td id=\"T_0d498_row42_col0\" class=\"data row42 col0\" >Polynomial Threshold</td>\n",
       "      <td id=\"T_0d498_row42_col1\" class=\"data row42 col1\" >None</td>\n",
       "    </tr>\n",
       "    <tr>\n",
       "      <th id=\"T_0d498_level0_row43\" class=\"row_heading level0 row43\" >43</th>\n",
       "      <td id=\"T_0d498_row43_col0\" class=\"data row43 col0\" >Group Features</td>\n",
       "      <td id=\"T_0d498_row43_col1\" class=\"data row43 col1\" >0</td>\n",
       "    </tr>\n",
       "    <tr>\n",
       "      <th id=\"T_0d498_level0_row44\" class=\"row_heading level0 row44\" >44</th>\n",
       "      <td id=\"T_0d498_row44_col0\" class=\"data row44 col0\" >Feature Selection</td>\n",
       "      <td id=\"T_0d498_row44_col1\" class=\"data row44 col1\" >0</td>\n",
       "    </tr>\n",
       "    <tr>\n",
       "      <th id=\"T_0d498_level0_row45\" class=\"row_heading level0 row45\" >45</th>\n",
       "      <td id=\"T_0d498_row45_col0\" class=\"data row45 col0\" >Feature Selection Method</td>\n",
       "      <td id=\"T_0d498_row45_col1\" class=\"data row45 col1\" >classic</td>\n",
       "    </tr>\n",
       "    <tr>\n",
       "      <th id=\"T_0d498_level0_row46\" class=\"row_heading level0 row46\" >46</th>\n",
       "      <td id=\"T_0d498_row46_col0\" class=\"data row46 col0\" >Features Selection Threshold</td>\n",
       "      <td id=\"T_0d498_row46_col1\" class=\"data row46 col1\" >None</td>\n",
       "    </tr>\n",
       "    <tr>\n",
       "      <th id=\"T_0d498_level0_row47\" class=\"row_heading level0 row47\" >47</th>\n",
       "      <td id=\"T_0d498_row47_col0\" class=\"data row47 col0\" >Feature Interaction</td>\n",
       "      <td id=\"T_0d498_row47_col1\" class=\"data row47 col1\" >0</td>\n",
       "    </tr>\n",
       "    <tr>\n",
       "      <th id=\"T_0d498_level0_row48\" class=\"row_heading level0 row48\" >48</th>\n",
       "      <td id=\"T_0d498_row48_col0\" class=\"data row48 col0\" >Feature Ratio</td>\n",
       "      <td id=\"T_0d498_row48_col1\" class=\"data row48 col1\" >0</td>\n",
       "    </tr>\n",
       "    <tr>\n",
       "      <th id=\"T_0d498_level0_row49\" class=\"row_heading level0 row49\" >49</th>\n",
       "      <td id=\"T_0d498_row49_col0\" class=\"data row49 col0\" >Interaction Threshold</td>\n",
       "      <td id=\"T_0d498_row49_col1\" class=\"data row49 col1\" >None</td>\n",
       "    </tr>\n",
       "  </tbody>\n",
       "</table>\n"
      ],
      "text/plain": [
       "<pandas.io.formats.style.Styler at 0x7fa45158dca0>"
      ]
     },
     "metadata": {},
     "output_type": "display_data"
    }
   ],
   "source": [
    "from pycaret.datasets import get_data\n",
    "from pycaret.anomaly import *\n",
    "\n",
    "import pandas as pd\n",
    "\n",
    "data = pd.read_csv('FormattedData/train.csv')\n",
    "data_unseen = pd.read_csv('FormattedData/test.csv')\n",
    "\n",
    "data.reset_index(drop=True, inplace=True)\n",
    "data_unseen.reset_index(drop=True, inplace=True)\n",
    "\n",
    "print('Data for Modeling: ' + str(data.shape))\n",
    "print('Unseen Data For Predictions: ' + str(data_unseen.shape))\n",
    "\n",
    "exp_ano101 = setup(data, normalize = True, \n",
    "                   ignore_features = ['Timestamp'],\n",
    "                   session_id = 123)\n",
    "\n",
    "\n",
    "\n",
    "\n"
   ]
  },
  {
   "cell_type": "code",
   "execution_count": 23,
   "metadata": {},
   "outputs": [
    {
     "data": {
      "text/html": [
       "<div>\n",
       "<style scoped>\n",
       "    .dataframe tbody tr th:only-of-type {\n",
       "        vertical-align: middle;\n",
       "    }\n",
       "\n",
       "    .dataframe tbody tr th {\n",
       "        vertical-align: top;\n",
       "    }\n",
       "\n",
       "    .dataframe thead th {\n",
       "        text-align: right;\n",
       "    }\n",
       "</style>\n",
       "<table border=\"1\" class=\"dataframe\">\n",
       "  <thead>\n",
       "    <tr style=\"text-align: right;\">\n",
       "      <th></th>\n",
       "      <th>Timestamp</th>\n",
       "      <th>MON1 CL DDM (?A)</th>\n",
       "      <th>MON1 CL RF (dB)</th>\n",
       "      <th>MON1 DS DDM (?A)</th>\n",
       "      <th>MON1 DS RF (dB)</th>\n",
       "      <th>MON1 NF DDM (?A)</th>\n",
       "      <th>MON1 NF RF (dB)</th>\n",
       "      <th>MON1 CLR DDM (?A)</th>\n",
       "      <th>MON1 CLR RF (dB)</th>\n",
       "      <th>Anomaly</th>\n",
       "      <th>Anomaly_Score</th>\n",
       "    </tr>\n",
       "  </thead>\n",
       "  <tbody>\n",
       "    <tr>\n",
       "      <th>0</th>\n",
       "      <td>2022-01-28 14:11:19</td>\n",
       "      <td>2.02</td>\n",
       "      <td>0.32</td>\n",
       "      <td>0.87</td>\n",
       "      <td>0.29</td>\n",
       "      <td>-3.18</td>\n",
       "      <td>0.19</td>\n",
       "      <td>2.31</td>\n",
       "      <td>0.34</td>\n",
       "      <td>0</td>\n",
       "      <td>0.988443</td>\n",
       "    </tr>\n",
       "    <tr>\n",
       "      <th>1</th>\n",
       "      <td>2022-01-28 14:16:19</td>\n",
       "      <td>1.74</td>\n",
       "      <td>0.32</td>\n",
       "      <td>0.87</td>\n",
       "      <td>0.29</td>\n",
       "      <td>-2.89</td>\n",
       "      <td>0.19</td>\n",
       "      <td>2.31</td>\n",
       "      <td>0.34</td>\n",
       "      <td>0</td>\n",
       "      <td>0.994925</td>\n",
       "    </tr>\n",
       "    <tr>\n",
       "      <th>2</th>\n",
       "      <td>2022-01-28 14:21:20</td>\n",
       "      <td>1.74</td>\n",
       "      <td>0.32</td>\n",
       "      <td>0.87</td>\n",
       "      <td>0.29</td>\n",
       "      <td>-3.18</td>\n",
       "      <td>0.19</td>\n",
       "      <td>2.60</td>\n",
       "      <td>0.34</td>\n",
       "      <td>0</td>\n",
       "      <td>1.058274</td>\n",
       "    </tr>\n",
       "    <tr>\n",
       "      <th>3</th>\n",
       "      <td>2022-01-28 14:26:20</td>\n",
       "      <td>0.29</td>\n",
       "      <td>-39.90</td>\n",
       "      <td>-76.94</td>\n",
       "      <td>-39.90</td>\n",
       "      <td>0.00</td>\n",
       "      <td>-39.90</td>\n",
       "      <td>-322.78</td>\n",
       "      <td>-35.61</td>\n",
       "      <td>0</td>\n",
       "      <td>0.991616</td>\n",
       "    </tr>\n",
       "    <tr>\n",
       "      <th>4</th>\n",
       "      <td>2022-01-28 14:31:20</td>\n",
       "      <td>0.00</td>\n",
       "      <td>-39.90</td>\n",
       "      <td>-76.94</td>\n",
       "      <td>-39.90</td>\n",
       "      <td>0.00</td>\n",
       "      <td>-39.90</td>\n",
       "      <td>-322.49</td>\n",
       "      <td>-35.61</td>\n",
       "      <td>0</td>\n",
       "      <td>1.010978</td>\n",
       "    </tr>\n",
       "  </tbody>\n",
       "</table>\n",
       "</div>"
      ],
      "text/plain": [
       "             Timestamp  MON1 CL DDM (?A)  MON1 CL RF (dB)  MON1 DS DDM (?A)  \\\n",
       "0  2022-01-28 14:11:19              2.02             0.32              0.87   \n",
       "1  2022-01-28 14:16:19              1.74             0.32              0.87   \n",
       "2  2022-01-28 14:21:20              1.74             0.32              0.87   \n",
       "3  2022-01-28 14:26:20              0.29           -39.90            -76.94   \n",
       "4  2022-01-28 14:31:20              0.00           -39.90            -76.94   \n",
       "\n",
       "   MON1 DS RF (dB)  MON1 NF DDM (?A)  MON1 NF RF (dB)  MON1 CLR DDM (?A)  \\\n",
       "0             0.29             -3.18             0.19               2.31   \n",
       "1             0.29             -2.89             0.19               2.31   \n",
       "2             0.29             -3.18             0.19               2.60   \n",
       "3           -39.90              0.00           -39.90            -322.78   \n",
       "4           -39.90              0.00           -39.90            -322.49   \n",
       "\n",
       "   MON1 CLR RF (dB)  Anomaly  Anomaly_Score  \n",
       "0              0.34        0       0.988443  \n",
       "1              0.34        0       0.994925  \n",
       "2              0.34        0       1.058274  \n",
       "3            -35.61        0       0.991616  \n",
       "4            -35.61        0       1.010978  "
      ]
     },
     "execution_count": 23,
     "metadata": {},
     "output_type": "execute_result"
    }
   ],
   "source": [
    "#Create model: LOF\n",
    "lof = create_model('lof')\n",
    "lof_results = assign_model(lof)\n",
    "lof_results.head()"
   ]
  },
  {
   "cell_type": "code",
   "execution_count": 24,
   "metadata": {},
   "outputs": [],
   "source": [
    "#Load model\n",
    "#saved_iforest = load_model('SavedModels/IFOREST100322CN_GP03_new')\n",
    "\n",
    "\n",
    "#Predict on test data\n",
    "unseen_predictions = predict_model(lof, data=data_unseen)\n",
    "unseen_predictions.head()\n",
    "\n",
    "unseen_predictions.to_csv('FormattedData/resultsLOF.csv')\n"
   ]
  },
  {
   "cell_type": "code",
   "execution_count": 25,
   "metadata": {},
   "outputs": [
    {
     "name": "stderr",
     "output_type": "stream",
     "text": [
      "*c* argument looks like a single numeric RGB or RGBA sequence, which should be avoided as value-mapping will have precedence in case its length matches with *x* & *y*.  Please use the *color* keyword-argument or provide a 2-D array with a single row if you intend to specify the same RGB or RGBA value for all points.\n"
     ]
    },
    {
     "data": {
      "text/plain": [
       "<AxesSubplot:xlabel='Timestamp', ylabel='Anomaly_Score'>"
      ]
     },
     "execution_count": 25,
     "metadata": {},
     "output_type": "execute_result"
    },
    {
     "name": "stderr",
     "output_type": "stream",
     "text": [
      "findfont: Font family ['sans-serif'] not found. Falling back to DejaVu Sans.\n",
      "findfont: Font family ['sans-serif'] not found. Falling back to DejaVu Sans.\n"
     ]
    },
    {
     "data": {
      "image/png": "[encoded data removed]",
      "text/plain": [
       "<Figure size 1440x504 with 1 Axes>"
      ]
     },
     "metadata": {},
     "output_type": "display_data"
    }
   ],
   "source": [
    "unseen_predictions.plot(x = 'Timestamp', y = 'Anomaly_Score', kind = 'scatter', figsize = (20,7))"
   ]
  },
  {
   "cell_type": "code",
   "execution_count": 26,
   "metadata": {},
   "outputs": [
    {
     "data": {
      "application/vnd.plotly.v1+json": {
       "config": {
        "plotlyServerURL": "https://plot.ly"
       },
       "data": [
        {
         "customdata": [
          [
           "2022-01-28 14:11:19"
          ],
          [
           "2022-01-28 14:16:19"
          ],
          [
           "2022-01-28 14:21:20"
          ],
          [
           "2022-01-28 14:26:20"
          ],
          [
           "2022-01-28 14:31:20"
          ],
          [
           "2022-01-28 14:36:21"
          ],
          [
           "2022-01-28 14:41:21"
          ],
          [
           "2022-01-28 14:46:22"
          ],
          [
           "2022-01-28 14:51:22"
          ],
          [
           "2022-01-28 14:56:23"
          ],
          [
           "2022-01-28 15:01:23"
          ],
          [
           "2022-01-28 15:06:24"
          ],
          [
           "2022-01-28 15:11:24"
          ],
          [
           "2022-01-28 15:16:24"
          ],
          [
           "2022-01-28 15:21:24"
          ],
          [
           "2022-01-28 15:26:25"
          ],
          [
           "2022-01-28 15:31:25"
          ],
          [
           "2022-01-28 15:36:26"
          ],
          [
           "2022-01-28 15:41:26"
          ],
          [
           "2022-01-28 15:46:26"
          ],
          [
           "2022-01-28 15:51:27"
          ],
          [
           "2022-01-28 15:56:28"
          ],
          [
           "2022-01-28 16:01:28"
          ],
          [
           "2022-01-28 16:06:29"
          ],
          [
           "2022-01-28 16:11:29"
          ],
          [
           "2022-01-28 16:16:29"
          ],
          [
           "2022-01-28 16:21:29"
          ],
          [
           "2022-01-28 16:26:29"
          ],
          [
           "2022-01-28 16:31:29"
          ],
          [
           "2022-01-28 16:36:29"
          ],
          [
           "2022-01-28 16:41:29"
          ],
          [
           "2022-01-28 16:46:30"
          ],
          [
           "2022-01-28 16:51:30"
          ],
          [
           "2022-01-28 16:56:31"
          ],
          [
           "2022-01-28 17:01:31"
          ],
          [
           "2022-01-28 17:06:32"
          ],
          [
           "2022-01-28 17:11:32"
          ],
          [
           "2022-01-28 17:16:32"
          ],
          [
           "2022-01-28 17:21:32"
          ],
          [
           "2022-01-28 17:26:33"
          ],
          [
           "2022-01-28 17:31:33"
          ],
          [
           "2022-01-28 17:36:34"
          ],
          [
           "2022-01-28 17:41:33"
          ],
          [
           "2022-01-28 17:46:34"
          ],
          [
           "2022-01-28 17:51:34"
          ],
          [
           "2022-01-28 17:56:34"
          ],
          [
           "2022-01-28 18:01:35"
          ],
          [
           "2022-01-28 18:06:35"
          ],
          [
           "2022-01-28 18:11:35"
          ],
          [
           "2022-01-28 18:16:35"
          ],
          [
           "2022-01-28 18:21:36"
          ],
          [
           "2022-01-28 18:26:36"
          ],
          [
           "2022-01-28 18:31:36"
          ],
          [
           "2022-01-28 18:36:36"
          ],
          [
           "2022-01-28 18:41:37"
          ],
          [
           "2022-01-28 18:46:37"
          ],
          [
           "2022-01-28 18:51:38"
          ],
          [
           "2022-01-28 18:56:38"
          ],
          [
           "2022-01-28 19:01:38"
          ],
          [
           "2022-01-28 19:06:39"
          ],
          [
           "2022-01-28 19:11:39"
          ],
          [
           "2022-01-28 19:16:40"
          ],
          [
           "2022-01-28 19:21:40"
          ],
          [
           "2022-01-28 19:26:41"
          ],
          [
           "2022-01-28 19:31:40"
          ],
          [
           "2022-01-28 19:36:41"
          ],
          [
           "2022-01-28 19:41:42"
          ],
          [
           "2022-01-28 19:46:42"
          ],
          [
           "2022-01-28 19:51:43"
          ],
          [
           "2022-01-28 19:56:43"
          ],
          [
           "2022-01-28 20:01:43"
          ],
          [
           "2022-01-28 20:06:43"
          ],
          [
           "2022-01-28 20:11:44"
          ],
          [
           "2022-01-28 20:16:44"
          ],
          [
           "2022-01-28 20:21:45"
          ],
          [
           "2022-01-28 20:26:45"
          ],
          [
           "2022-01-28 20:31:45"
          ],
          [
           "2022-01-28 20:36:45"
          ],
          [
           "2022-01-28 20:41:45"
          ],
          [
           "2022-01-28 20:46:46"
          ],
          [
           "2022-01-28 20:51:46"
          ],
          [
           "2022-01-28 20:56:46"
          ],
          [
           "2022-01-28 21:01:46"
          ],
          [
           "2022-01-28 21:06:46"
          ],
          [
           "2022-01-28 21:11:47"
          ],
          [
           "2022-01-28 21:16:47"
          ],
          [
           "2022-01-28 21:21:47"
          ],
          [
           "2022-01-28 21:26:48"
          ],
          [
           "2022-01-28 21:31:48"
          ],
          [
           "2022-01-28 21:36:49"
          ],
          [
           "2022-01-28 21:41:49"
          ],
          [
           "2022-01-28 21:46:49"
          ],
          [
           "2022-01-28 21:51:49"
          ],
          [
           "2022-01-28 21:56:50"
          ],
          [
           "2022-01-28 22:01:50"
          ],
          [
           "2022-01-28 22:06:50"
          ],
          [
           "2022-01-28 22:11:50"
          ],
          [
           "2022-01-28 22:16:51"
          ],
          [
           "2022-01-28 22:21:51"
          ],
          [
           "2022-01-28 22:26:52"
          ],
          [
           "2022-01-28 22:31:51"
          ],
          [
           "2022-01-28 22:36:52"
          ],
          [
           "2022-01-28 22:41:52"
          ],
          [
           "2022-01-28 22:46:53"
          ],
          [
           "2022-01-28 22:51:53"
          ],
          [
           "2022-01-28 22:56:53"
          ],
          [
           "2022-01-28 23:01:53"
          ],
          [
           "2022-01-28 23:06:54"
          ],
          [
           "2022-01-28 23:11:55"
          ],
          [
           "2022-01-28 23:16:54"
          ],
          [
           "2022-01-28 23:21:55"
          ],
          [
           "2022-01-28 23:26:55"
          ],
          [
           "2022-01-28 23:31:56"
          ],
          [
           "2022-01-28 23:36:56"
          ],
          [
           "2022-01-28 23:41:56"
          ],
          [
           "2022-01-28 23:46:56"
          ],
          [
           "2022-01-28 23:51:57"
          ],
          [
           "2022-01-28 23:56:57"
          ],
          [
           "2022-01-29 00:01:58"
          ],
          [
           "2022-01-29 00:06:58"
          ],
          [
           "2022-01-29 00:11:59"
          ],
          [
           "2022-01-29 00:16:59"
          ],
          [
           "2022-01-29 00:22:00"
          ],
          [
           "2022-01-29 00:27:00"
          ],
          [
           "2022-01-29 00:32:01"
          ],
          [
           "2022-01-29 00:37:01"
          ],
          [
           "2022-01-29 00:42:02"
          ],
          [
           "2022-01-29 00:47:03"
          ],
          [
           "2022-01-29 00:52:03"
          ],
          [
           "2022-01-29 00:57:03"
          ],
          [
           "2022-01-29 01:02:04"
          ],
          [
           "2022-01-29 01:07:03"
          ],
          [
           "2022-01-29 01:12:04"
          ],
          [
           "2022-01-29 01:17:04"
          ],
          [
           "2022-01-29 01:22:05"
          ],
          [
           "2022-01-29 01:27:05"
          ],
          [
           "2022-01-29 01:32:06"
          ],
          [
           "2022-01-29 01:37:06"
          ],
          [
           "2022-01-29 01:42:07"
          ],
          [
           "2022-01-29 01:47:07"
          ],
          [
           "2022-01-29 01:52:07"
          ],
          [
           "2022-01-29 01:57:07"
          ],
          [
           "2022-01-29 02:02:08"
          ],
          [
           "2022-01-29 02:07:08"
          ],
          [
           "2022-01-29 02:12:09"
          ],
          [
           "2022-01-29 02:17:09"
          ],
          [
           "2022-01-29 02:22:10"
          ],
          [
           "2022-01-29 02:27:10"
          ],
          [
           "2022-01-29 02:32:10"
          ],
          [
           "2022-01-29 02:37:11"
          ],
          [
           "2022-01-29 02:42:11"
          ],
          [
           "2022-01-29 02:47:11"
          ],
          [
           "2022-01-29 02:52:11"
          ],
          [
           "2022-01-29 02:57:12"
          ],
          [
           "2022-01-29 03:02:12"
          ],
          [
           "2022-01-29 03:07:12"
          ],
          [
           "2022-01-29 03:12:13"
          ],
          [
           "2022-01-29 03:17:13"
          ],
          [
           "2022-01-29 03:22:13"
          ],
          [
           "2022-01-29 03:27:13"
          ],
          [
           "2022-01-29 03:32:14"
          ],
          [
           "2022-01-29 03:37:14"
          ],
          [
           "2022-01-29 03:42:15"
          ],
          [
           "2022-01-29 03:47:15"
          ],
          [
           "2022-01-29 03:52:16"
          ],
          [
           "2022-01-29 03:57:16"
          ],
          [
           "2022-01-29 04:02:16"
          ],
          [
           "2022-01-29 04:07:17"
          ],
          [
           "2022-01-29 04:12:17"
          ],
          [
           "2022-01-29 04:17:18"
          ],
          [
           "2022-01-29 04:22:18"
          ],
          [
           "2022-01-29 04:27:18"
          ],
          [
           "2022-01-29 04:32:19"
          ],
          [
           "2022-01-29 04:37:19"
          ],
          [
           "2022-01-29 04:42:19"
          ],
          [
           "2022-01-29 04:47:20"
          ],
          [
           "2022-01-29 04:52:20"
          ],
          [
           "2022-01-29 04:57:21"
          ],
          [
           "2022-01-29 05:02:21"
          ],
          [
           "2022-01-29 05:07:21"
          ],
          [
           "2022-01-29 05:12:22"
          ],
          [
           "2022-01-29 05:17:22"
          ],
          [
           "2022-01-29 05:22:22"
          ],
          [
           "2022-01-29 05:27:22"
          ],
          [
           "2022-01-29 05:32:23"
          ],
          [
           "2022-01-29 05:37:23"
          ],
          [
           "2022-01-29 05:42:24"
          ],
          [
           "2022-01-29 05:47:24"
          ],
          [
           "2022-01-29 05:52:24"
          ],
          [
           "2022-01-29 05:57:25"
          ],
          [
           "2022-01-29 06:02:25"
          ],
          [
           "2022-01-29 06:07:25"
          ],
          [
           "2022-01-29 06:12:25"
          ],
          [
           "2022-01-29 06:17:26"
          ],
          [
           "2022-01-29 06:22:26"
          ],
          [
           "2022-01-29 06:27:27"
          ],
          [
           "2022-01-29 06:32:27"
          ],
          [
           "2022-01-29 06:37:28"
          ],
          [
           "2022-01-29 06:42:28"
          ],
          [
           "2022-01-29 06:47:28"
          ],
          [
           "2022-01-29 06:52:28"
          ],
          [
           "2022-01-29 06:57:29"
          ],
          [
           "2022-01-29 07:02:30"
          ],
          [
           "2022-01-29 07:07:30"
          ],
          [
           "2022-01-29 07:12:31"
          ],
          [
           "2022-01-29 07:17:32"
          ],
          [
           "2022-01-29 07:22:32"
          ],
          [
           "2022-01-29 07:27:32"
          ],
          [
           "2022-01-29 07:32:33"
          ],
          [
           "2022-01-29 07:37:33"
          ],
          [
           "2022-01-29 07:42:34"
          ],
          [
           "2022-01-29 07:47:34"
          ],
          [
           "2022-01-29 07:52:34"
          ],
          [
           "2022-01-29 07:57:34"
          ],
          [
           "2022-01-29 08:02:35"
          ],
          [
           "2022-01-29 08:07:35"
          ],
          [
           "2022-01-29 08:12:35"
          ],
          [
           "2022-01-29 08:17:35"
          ],
          [
           "2022-01-29 08:22:36"
          ],
          [
           "2022-01-29 08:27:37"
          ],
          [
           "2022-01-29 08:32:37"
          ],
          [
           "2022-01-29 08:37:37"
          ],
          [
           "2022-01-29 08:42:37"
          ],
          [
           "2022-01-29 08:47:37"
          ],
          [
           "2022-01-29 08:52:37"
          ],
          [
           "2022-01-29 08:57:37"
          ],
          [
           "2022-01-29 09:02:38"
          ],
          [
           "2022-01-29 09:07:38"
          ],
          [
           "2022-01-29 09:12:39"
          ],
          [
           "2022-01-29 09:17:39"
          ],
          [
           "2022-01-29 09:22:40"
          ],
          [
           "2022-01-29 09:27:40"
          ],
          [
           "2022-01-29 09:32:41"
          ],
          [
           "2022-01-29 09:37:41"
          ],
          [
           "2022-01-29 09:42:42"
          ],
          [
           "2022-01-29 09:47:42"
          ],
          [
           "2022-01-29 09:52:42"
          ],
          [
           "2022-01-29 09:57:42"
          ],
          [
           "2022-01-29 10:02:42"
          ],
          [
           "2022-01-29 10:07:43"
          ],
          [
           "2022-01-29 10:12:43"
          ],
          [
           "2022-01-29 10:17:43"
          ],
          [
           "2022-01-29 10:22:44"
          ],
          [
           "2022-01-29 10:27:44"
          ],
          [
           "2022-01-29 10:32:45"
          ],
          [
           "2022-01-29 10:37:46"
          ],
          [
           "2022-01-29 10:42:46"
          ],
          [
           "2022-01-29 10:47:46"
          ],
          [
           "2022-01-29 10:52:46"
          ],
          [
           "2022-01-29 10:57:47"
          ],
          [
           "2022-01-29 11:02:47"
          ],
          [
           "2022-01-29 11:07:46"
          ],
          [
           "2022-01-29 11:12:47"
          ],
          [
           "2022-01-29 11:17:47"
          ],
          [
           "2022-01-29 11:22:48"
          ],
          [
           "2022-01-29 11:27:48"
          ],
          [
           "2022-01-29 11:32:49"
          ],
          [
           "2022-01-29 11:37:49"
          ],
          [
           "2022-01-29 11:42:49"
          ],
          [
           "2022-01-29 11:47:49"
          ],
          [
           "2022-01-29 11:52:50"
          ],
          [
           "2022-01-29 11:57:50"
          ],
          [
           "2022-01-29 12:02:51"
          ],
          [
           "2022-01-29 12:07:52"
          ],
          [
           "2022-01-29 12:12:52"
          ],
          [
           "2022-01-29 12:17:52"
          ],
          [
           "2022-01-29 12:22:52"
          ],
          [
           "2022-01-29 12:27:52"
          ],
          [
           "2022-01-29 12:32:53"
          ],
          [
           "2022-01-29 12:37:53"
          ],
          [
           "2022-01-29 12:42:53"
          ],
          [
           "2022-01-29 12:47:54"
          ],
          [
           "2022-01-29 12:52:55"
          ],
          [
           "2022-01-29 12:57:55"
          ],
          [
           "2022-01-29 13:02:55"
          ],
          [
           "2022-01-29 13:07:55"
          ],
          [
           "2022-01-29 13:12:56"
          ],
          [
           "2022-01-29 13:17:56"
          ],
          [
           "2022-01-29 13:22:56"
          ],
          [
           "2022-01-29 13:27:57"
          ],
          [
           "2022-01-29 13:32:57"
          ],
          [
           "2022-01-29 13:37:57"
          ],
          [
           "2022-01-29 13:42:57"
          ],
          [
           "2022-01-29 13:47:58"
          ],
          [
           "2022-01-29 13:52:59"
          ],
          [
           "2022-01-29 13:57:59"
          ],
          [
           "2022-01-29 14:02:59"
          ],
          [
           "2022-01-29 14:07:59"
          ],
          [
           "2022-01-29 14:13:00"
          ],
          [
           "2022-01-29 14:18:00"
          ],
          [
           "2022-01-29 14:23:00"
          ],
          [
           "2022-01-29 14:28:01"
          ],
          [
           "2022-01-29 14:33:01"
          ],
          [
           "2022-01-29 14:38:01"
          ],
          [
           "2022-01-29 14:43:02"
          ],
          [
           "2022-01-29 14:48:02"
          ],
          [
           "2022-01-29 14:53:03"
          ],
          [
           "2022-01-29 14:58:03"
          ],
          [
           "2022-01-29 15:03:03"
          ],
          [
           "2022-01-29 15:08:04"
          ],
          [
           "2022-01-29 15:13:04"
          ],
          [
           "2022-01-29 15:18:04"
          ],
          [
           "2022-01-29 15:23:04"
          ],
          [
           "2022-01-29 15:28:04"
          ],
          [
           "2022-01-29 15:33:05"
          ],
          [
           "2022-01-29 15:38:06"
          ],
          [
           "2022-01-29 15:43:06"
          ],
          [
           "2022-01-29 15:48:06"
          ],
          [
           "2022-01-29 15:53:07"
          ],
          [
           "2022-01-29 15:58:06"
          ],
          [
           "2022-01-29 16:03:07"
          ],
          [
           "2022-01-29 16:08:08"
          ],
          [
           "2022-01-29 16:13:08"
          ],
          [
           "2022-01-29 16:18:08"
          ],
          [
           "2022-01-29 16:23:08"
          ],
          [
           "2022-01-29 16:28:09"
          ],
          [
           "2022-01-29 16:33:09"
          ],
          [
           "2022-01-29 16:38:09"
          ],
          [
           "2022-01-29 16:43:10"
          ],
          [
           "2022-01-29 16:48:10"
          ],
          [
           "2022-01-29 16:53:11"
          ],
          [
           "2022-01-29 16:58:11"
          ],
          [
           "2022-01-29 17:03:11"
          ],
          [
           "2022-01-29 17:08:12"
          ],
          [
           "2022-01-29 17:13:12"
          ],
          [
           "2022-01-29 17:18:12"
          ],
          [
           "2022-01-29 17:23:13"
          ],
          [
           "2022-01-29 17:28:13"
          ],
          [
           "2022-01-29 17:33:13"
          ],
          [
           "2022-01-29 17:38:13"
          ],
          [
           "2022-01-29 17:43:14"
          ],
          [
           "2022-01-29 17:48:14"
          ],
          [
           "2022-01-29 17:53:14"
          ],
          [
           "2022-01-29 17:58:14"
          ],
          [
           "2022-01-29 18:03:15"
          ],
          [
           "2022-01-29 18:08:15"
          ],
          [
           "2022-01-29 18:13:16"
          ],
          [
           "2022-01-29 18:18:16"
          ],
          [
           "2022-01-29 18:23:16"
          ],
          [
           "2022-01-29 18:28:16"
          ],
          [
           "2022-01-29 18:33:17"
          ],
          [
           "2022-01-29 18:38:17"
          ],
          [
           "2022-01-29 18:43:17"
          ],
          [
           "2022-01-29 18:48:18"
          ],
          [
           "2022-01-29 18:53:18"
          ],
          [
           "2022-01-29 18:58:18"
          ],
          [
           "2022-01-29 19:03:19"
          ],
          [
           "2022-01-29 19:08:19"
          ],
          [
           "2022-01-29 19:13:19"
          ],
          [
           "2022-01-29 19:18:19"
          ],
          [
           "2022-01-29 19:23:20"
          ],
          [
           "2022-01-29 19:28:20"
          ],
          [
           "2022-01-29 19:33:21"
          ],
          [
           "2022-01-29 19:38:21"
          ],
          [
           "2022-01-29 19:43:21"
          ],
          [
           "2022-01-29 19:48:22"
          ],
          [
           "2022-01-29 19:53:22"
          ],
          [
           "2022-01-29 19:58:23"
          ],
          [
           "2022-01-29 20:03:23"
          ],
          [
           "2022-01-29 20:08:23"
          ],
          [
           "2022-01-29 20:13:23"
          ],
          [
           "2022-01-29 20:18:24"
          ],
          [
           "2022-01-29 20:23:24"
          ],
          [
           "2022-01-29 20:28:24"
          ],
          [
           "2022-01-29 20:33:24"
          ],
          [
           "2022-01-29 20:38:25"
          ],
          [
           "2022-01-29 20:43:25"
          ],
          [
           "2022-01-29 20:48:25"
          ],
          [
           "2022-01-29 20:53:25"
          ],
          [
           "2022-01-29 20:58:26"
          ],
          [
           "2022-01-29 21:03:26"
          ],
          [
           "2022-01-29 21:08:27"
          ],
          [
           "2022-01-29 21:13:27"
          ],
          [
           "2022-01-29 21:18:27"
          ],
          [
           "2022-01-29 21:23:27"
          ],
          [
           "2022-01-29 21:28:27"
          ],
          [
           "2022-01-29 21:33:28"
          ],
          [
           "2022-01-29 21:38:28"
          ],
          [
           "2022-01-29 21:43:29"
          ],
          [
           "2022-01-29 21:48:30"
          ],
          [
           "2022-01-29 21:53:30"
          ],
          [
           "2022-01-29 21:58:30"
          ],
          [
           "2022-01-29 22:03:30"
          ],
          [
           "2022-01-29 22:08:30"
          ],
          [
           "2022-01-29 22:13:31"
          ],
          [
           "2022-01-29 22:18:31"
          ],
          [
           "2022-01-29 22:23:31"
          ],
          [
           "2022-01-29 22:28:31"
          ],
          [
           "2022-01-29 22:33:32"
          ],
          [
           "2022-01-29 22:38:32"
          ],
          [
           "2022-01-29 22:43:33"
          ],
          [
           "2022-01-29 22:48:33"
          ],
          [
           "2022-01-29 22:53:34"
          ],
          [
           "2022-01-29 22:58:35"
          ],
          [
           "2022-01-29 23:03:35"
          ],
          [
           "2022-01-29 23:08:35"
          ],
          [
           "2022-01-29 23:13:36"
          ],
          [
           "2022-01-29 23:18:36"
          ],
          [
           "2022-01-29 23:23:36"
          ],
          [
           "2022-01-29 23:28:36"
          ],
          [
           "2022-01-29 23:33:36"
          ],
          [
           "2022-01-29 23:38:36"
          ],
          [
           "2022-01-29 23:43:36"
          ],
          [
           "2022-01-29 23:48:37"
          ],
          [
           "2022-01-29 23:53:37"
          ],
          [
           "2022-01-29 23:58:38"
          ],
          [
           "2022-01-30 00:03:38"
          ],
          [
           "2022-01-30 00:08:38"
          ],
          [
           "2022-01-30 00:13:39"
          ],
          [
           "2022-01-30 00:18:39"
          ],
          [
           "2022-01-30 00:23:39"
          ],
          [
           "2022-01-30 00:28:40"
          ],
          [
           "2022-01-30 00:33:40"
          ],
          [
           "2022-01-30 00:38:40"
          ],
          [
           "2022-01-30 00:43:41"
          ],
          [
           "2022-01-30 00:48:41"
          ],
          [
           "2022-01-30 00:53:42"
          ],
          [
           "2022-01-30 00:58:42"
          ],
          [
           "2022-01-30 01:03:42"
          ],
          [
           "2022-01-30 01:08:42"
          ],
          [
           "2022-01-30 01:13:43"
          ],
          [
           "2022-01-30 01:18:43"
          ],
          [
           "2022-01-30 01:23:44"
          ],
          [
           "2022-01-30 01:28:44"
          ],
          [
           "2022-01-30 01:33:44"
          ],
          [
           "2022-01-30 01:38:45"
          ],
          [
           "2022-01-30 01:43:45"
          ],
          [
           "2022-01-30 01:48:45"
          ],
          [
           "2022-01-30 01:53:45"
          ],
          [
           "2022-01-30 01:58:46"
          ],
          [
           "2022-01-30 02:03:46"
          ],
          [
           "2022-01-30 02:08:46"
          ],
          [
           "2022-01-30 02:13:47"
          ],
          [
           "2022-01-30 02:18:47"
          ],
          [
           "2022-01-30 02:23:48"
          ],
          [
           "2022-01-30 02:28:48"
          ],
          [
           "2022-01-30 02:33:48"
          ],
          [
           "2022-01-30 02:38:48"
          ],
          [
           "2022-01-30 02:43:48"
          ],
          [
           "2022-01-30 02:48:49"
          ],
          [
           "2022-01-30 02:53:48"
          ],
          [
           "2022-01-30 02:58:49"
          ],
          [
           "2022-01-30 03:03:49"
          ],
          [
           "2022-01-30 03:08:50"
          ],
          [
           "2022-01-30 03:13:50"
          ],
          [
           "2022-01-30 03:18:50"
          ],
          [
           "2022-01-30 03:23:50"
          ],
          [
           "2022-01-30 03:28:51"
          ],
          [
           "2022-01-30 03:33:51"
          ],
          [
           "2022-01-30 03:38:51"
          ],
          [
           "2022-01-30 03:43:52"
          ],
          [
           "2022-01-30 03:48:52"
          ],
          [
           "2022-01-30 03:53:52"
          ],
          [
           "2022-01-30 03:58:52"
          ],
          [
           "2022-01-30 04:03:53"
          ],
          [
           "2022-01-30 04:08:53"
          ],
          [
           "2022-01-30 04:13:53"
          ],
          [
           "2022-01-30 04:18:53"
          ],
          [
           "2022-01-30 04:23:54"
          ],
          [
           "2022-01-30 04:28:55"
          ],
          [
           "2022-01-30 04:33:55"
          ],
          [
           "2022-01-30 04:38:55"
          ],
          [
           "2022-01-30 04:43:56"
          ],
          [
           "2022-01-30 04:48:56"
          ],
          [
           "2022-01-30 04:53:57"
          ],
          [
           "2022-01-30 04:58:57"
          ],
          [
           "2022-01-30 05:03:58"
          ],
          [
           "2022-01-30 05:08:58"
          ],
          [
           "2022-01-30 05:13:58"
          ],
          [
           "2022-01-30 05:18:58"
          ],
          [
           "2022-01-30 05:23:58"
          ],
          [
           "2022-01-30 05:28:58"
          ],
          [
           "2022-01-30 05:33:59"
          ],
          [
           "2022-01-30 05:38:59"
          ],
          [
           "2022-01-30 05:43:59"
          ],
          [
           "2022-01-30 05:49:00"
          ],
          [
           "2022-01-30 05:54:00"
          ],
          [
           "2022-01-30 05:59:00"
          ],
          [
           "2022-01-30 06:04:00"
          ],
          [
           "2022-01-30 06:09:01"
          ],
          [
           "2022-01-30 06:14:01"
          ],
          [
           "2022-01-30 06:19:01"
          ],
          [
           "2022-01-30 06:24:02"
          ],
          [
           "2022-01-30 06:29:02"
          ],
          [
           "2022-01-30 06:34:02"
          ],
          [
           "2022-01-30 06:39:03"
          ],
          [
           "2022-01-30 06:44:03"
          ],
          [
           "2022-01-30 06:49:03"
          ],
          [
           "2022-01-30 06:54:04"
          ],
          [
           "2022-01-30 06:59:04"
          ],
          [
           "2022-01-30 07:04:05"
          ],
          [
           "2022-01-30 07:09:05"
          ],
          [
           "2022-01-30 07:14:06"
          ],
          [
           "2022-01-30 07:19:06"
          ],
          [
           "2022-01-30 07:24:07"
          ],
          [
           "2022-01-30 07:29:07"
          ],
          [
           "2022-01-30 07:34:07"
          ],
          [
           "2022-01-30 07:39:08"
          ],
          [
           "2022-01-30 07:44:08"
          ],
          [
           "2022-01-30 07:49:08"
          ],
          [
           "2022-01-30 07:54:08"
          ],
          [
           "2022-01-30 07:59:09"
          ],
          [
           "2022-01-30 08:04:09"
          ],
          [
           "2022-01-30 08:09:10"
          ],
          [
           "2022-01-30 08:14:10"
          ],
          [
           "2022-01-30 08:19:11"
          ],
          [
           "2022-01-30 08:24:11"
          ],
          [
           "2022-01-30 08:29:11"
          ],
          [
           "2022-01-30 08:34:12"
          ],
          [
           "2022-01-30 08:39:12"
          ],
          [
           "2022-01-30 08:44:12"
          ],
          [
           "2022-01-30 08:49:12"
          ],
          [
           "2022-01-30 08:54:13"
          ],
          [
           "2022-01-30 08:59:13"
          ],
          [
           "2022-01-30 09:04:15"
          ],
          [
           "2022-01-30 09:09:14"
          ],
          [
           "2022-01-30 09:14:15"
          ],
          [
           "2022-01-30 09:19:15"
          ],
          [
           "2022-01-30 09:24:16"
          ],
          [
           "2022-01-30 09:29:16"
          ],
          [
           "2022-01-30 09:34:16"
          ],
          [
           "2022-01-30 09:39:16"
          ],
          [
           "2022-01-30 09:44:17"
          ],
          [
           "2022-01-30 09:49:17"
          ],
          [
           "2022-01-30 09:54:18"
          ],
          [
           "2022-01-30 09:59:18"
          ],
          [
           "2022-01-30 10:04:19"
          ],
          [
           "2022-01-30 10:09:19"
          ],
          [
           "2022-01-30 10:14:20"
          ],
          [
           "2022-01-30 10:19:21"
          ],
          [
           "2022-01-30 10:24:21"
          ],
          [
           "2022-01-30 10:29:21"
          ],
          [
           "2022-01-30 10:34:21"
          ],
          [
           "2022-01-30 10:39:21"
          ],
          [
           "2022-01-30 10:44:22"
          ],
          [
           "2022-01-30 10:49:23"
          ],
          [
           "2022-01-30 10:54:23"
          ],
          [
           "2022-01-30 10:59:24"
          ],
          [
           "2022-01-30 11:04:24"
          ],
          [
           "2022-01-30 11:09:24"
          ],
          [
           "2022-01-30 11:14:24"
          ],
          [
           "2022-01-30 11:19:24"
          ],
          [
           "2022-01-30 11:24:24"
          ],
          [
           "2022-01-30 11:29:25"
          ],
          [
           "2022-01-30 11:34:25"
          ],
          [
           "2022-01-30 11:39:25"
          ],
          [
           "2022-01-30 11:44:26"
          ],
          [
           "2022-01-30 11:49:27"
          ],
          [
           "2022-01-30 11:54:27"
          ],
          [
           "2022-01-30 11:59:27"
          ],
          [
           "2022-01-30 12:04:28"
          ],
          [
           "2022-01-30 12:09:28"
          ],
          [
           "2022-01-30 12:14:29"
          ],
          [
           "2022-01-30 12:19:29"
          ],
          [
           "2022-01-30 12:24:30"
          ],
          [
           "2022-01-30 12:29:30"
          ],
          [
           "2022-01-30 12:34:31"
          ],
          [
           "2022-01-30 12:39:31"
          ],
          [
           "2022-01-30 12:44:32"
          ],
          [
           "2022-01-30 12:49:32"
          ],
          [
           "2022-01-30 12:54:32"
          ],
          [
           "2022-01-30 12:59:32"
          ],
          [
           "2022-01-30 13:04:33"
          ],
          [
           "2022-01-30 13:09:33"
          ],
          [
           "2022-01-30 13:14:34"
          ],
          [
           "2022-01-30 13:19:35"
          ],
          [
           "2022-01-30 13:24:35"
          ],
          [
           "2022-01-30 13:29:35"
          ],
          [
           "2022-01-30 13:34:36"
          ],
          [
           "2022-01-30 13:39:36"
          ],
          [
           "2022-01-30 13:44:36"
          ],
          [
           "2022-01-30 13:49:37"
          ],
          [
           "2022-01-30 13:54:37"
          ],
          [
           "2022-01-30 13:59:37"
          ],
          [
           "2022-01-30 14:04:38"
          ],
          [
           "2022-01-30 14:09:38"
          ],
          [
           "2022-01-30 14:14:39"
          ],
          [
           "2022-01-30 14:19:39"
          ],
          [
           "2022-01-30 14:24:39"
          ],
          [
           "2022-01-30 14:29:39"
          ],
          [
           "2022-01-30 14:34:40"
          ],
          [
           "2022-01-30 14:39:40"
          ],
          [
           "2022-01-30 14:44:41"
          ],
          [
           "2022-01-30 14:49:41"
          ],
          [
           "2022-01-30 14:54:41"
          ],
          [
           "2022-01-30 14:59:41"
          ],
          [
           "2022-01-30 15:04:42"
          ],
          [
           "2022-01-30 15:09:42"
          ],
          [
           "2022-01-30 15:14:43"
          ],
          [
           "2022-01-30 15:19:43"
          ],
          [
           "2022-01-30 15:24:43"
          ],
          [
           "2022-01-30 15:29:44"
          ],
          [
           "2022-01-30 15:34:44"
          ],
          [
           "2022-01-30 15:39:45"
          ],
          [
           "2022-01-30 15:44:45"
          ],
          [
           "2022-01-30 15:49:46"
          ],
          [
           "2022-01-30 15:54:46"
          ],
          [
           "2022-01-30 15:59:46"
          ],
          [
           "2022-01-30 16:04:47"
          ],
          [
           "2022-01-30 16:09:47"
          ],
          [
           "2022-01-30 16:14:48"
          ],
          [
           "2022-01-30 16:19:48"
          ],
          [
           "2022-01-30 16:24:48"
          ],
          [
           "2022-01-30 16:29:49"
          ],
          [
           "2022-01-30 16:34:49"
          ],
          [
           "2022-01-30 16:39:49"
          ],
          [
           "2022-01-30 16:44:50"
          ],
          [
           "2022-01-30 16:49:50"
          ],
          [
           "2022-01-30 16:54:50"
          ],
          [
           "2022-01-30 16:59:50"
          ],
          [
           "2022-01-30 17:04:51"
          ],
          [
           "2022-01-30 17:09:51"
          ],
          [
           "2022-01-30 17:14:51"
          ],
          [
           "2022-01-30 17:19:52"
          ],
          [
           "2022-01-30 17:24:52"
          ],
          [
           "2022-01-30 17:29:52"
          ],
          [
           "2022-01-30 17:34:53"
          ],
          [
           "2022-01-30 17:39:53"
          ],
          [
           "2022-01-30 17:44:54"
          ],
          [
           "2022-01-30 17:49:54"
          ],
          [
           "2022-01-30 17:54:54"
          ],
          [
           "2022-01-30 17:59:55"
          ],
          [
           "2022-01-30 18:04:55"
          ],
          [
           "2022-01-30 18:09:55"
          ],
          [
           "2022-01-30 18:14:55"
          ],
          [
           "2022-01-30 18:19:56"
          ],
          [
           "2022-01-30 18:24:56"
          ],
          [
           "2022-01-30 18:29:57"
          ],
          [
           "2022-01-30 18:34:57"
          ],
          [
           "2022-01-30 18:39:57"
          ],
          [
           "2022-01-30 18:44:57"
          ],
          [
           "2022-01-30 18:49:57"
          ],
          [
           "2022-01-30 18:54:58"
          ],
          [
           "2022-01-30 18:59:58"
          ],
          [
           "2022-01-30 19:04:58"
          ],
          [
           "2022-01-30 19:09:59"
          ],
          [
           "2022-01-30 19:14:59"
          ],
          [
           "2022-01-30 19:19:59"
          ],
          [
           "2022-01-30 19:25:00"
          ],
          [
           "2022-01-30 19:30:00"
          ],
          [
           "2022-01-30 19:34:59"
          ],
          [
           "2022-01-30 19:40:00"
          ],
          [
           "2022-01-30 19:45:00"
          ],
          [
           "2022-01-30 19:50:00"
          ],
          [
           "2022-01-30 19:55:00"
          ],
          [
           "2022-01-30 20:00:00"
          ],
          [
           "2022-01-30 20:05:01"
          ],
          [
           "2022-01-30 20:10:01"
          ],
          [
           "2022-01-30 20:15:02"
          ],
          [
           "2022-01-30 20:20:02"
          ],
          [
           "2022-01-30 20:25:02"
          ],
          [
           "2022-01-30 20:30:03"
          ],
          [
           "2022-01-30 20:35:03"
          ],
          [
           "2022-01-30 20:40:04"
          ],
          [
           "2022-01-30 20:45:04"
          ],
          [
           "2022-01-30 20:50:05"
          ],
          [
           "2022-01-30 20:55:05"
          ],
          [
           "2022-01-30 21:00:05"
          ],
          [
           "2022-01-30 21:05:05"
          ],
          [
           "2022-01-30 21:10:06"
          ],
          [
           "2022-01-30 21:15:06"
          ],
          [
           "2022-01-30 21:20:06"
          ],
          [
           "2022-01-30 21:25:07"
          ],
          [
           "2022-01-30 21:30:07"
          ],
          [
           "2022-01-30 21:35:08"
          ],
          [
           "2022-01-30 21:40:08"
          ],
          [
           "2022-01-30 21:45:09"
          ],
          [
           "2022-01-30 21:50:09"
          ],
          [
           "2022-01-30 21:55:10"
          ],
          [
           "2022-01-30 22:00:10"
          ],
          [
           "2022-01-30 22:05:11"
          ],
          [
           "2022-01-30 22:10:11"
          ],
          [
           "2022-01-30 22:15:12"
          ],
          [
           "2022-01-30 22:20:12"
          ],
          [
           "2022-01-30 22:25:12"
          ],
          [
           "2022-01-30 22:30:12"
          ],
          [
           "2022-01-30 22:35:13"
          ],
          [
           "2022-01-30 22:40:13"
          ],
          [
           "2022-01-30 22:45:13"
          ],
          [
           "2022-01-30 22:50:14"
          ],
          [
           "2022-01-30 22:55:14"
          ],
          [
           "2022-01-30 23:00:15"
          ],
          [
           "2022-01-30 23:05:15"
          ],
          [
           "2022-01-30 23:10:16"
          ],
          [
           "2022-01-30 23:15:16"
          ],
          [
           "2022-01-30 23:20:17"
          ],
          [
           "2022-01-30 23:25:17"
          ],
          [
           "2022-01-30 23:30:18"
          ],
          [
           "2022-01-30 23:35:18"
          ],
          [
           "2022-01-30 23:40:19"
          ],
          [
           "2022-01-30 23:45:19"
          ],
          [
           "2022-01-30 23:50:20"
          ],
          [
           "2022-01-30 23:55:20"
          ],
          [
           "2022-01-31 00:00:21"
          ],
          [
           "2022-01-31 00:05:21"
          ],
          [
           "2022-01-31 00:10:22"
          ],
          [
           "2022-01-31 00:15:22"
          ],
          [
           "2022-01-31 00:20:22"
          ],
          [
           "2022-01-31 00:25:22"
          ],
          [
           "2022-01-31 00:30:23"
          ],
          [
           "2022-01-31 00:35:23"
          ],
          [
           "2022-01-31 00:40:23"
          ],
          [
           "2022-01-31 00:45:23"
          ],
          [
           "2022-01-31 00:50:24"
          ],
          [
           "2022-01-31 00:55:25"
          ],
          [
           "2022-01-31 01:00:25"
          ],
          [
           "2022-01-31 01:05:25"
          ],
          [
           "2022-01-31 01:10:26"
          ],
          [
           "2022-01-31 01:15:26"
          ],
          [
           "2022-01-31 01:20:26"
          ],
          [
           "2022-01-31 01:25:27"
          ],
          [
           "2022-01-31 01:30:27"
          ],
          [
           "2022-01-31 01:35:28"
          ],
          [
           "2022-01-31 01:40:28"
          ],
          [
           "2022-01-31 01:45:28"
          ],
          [
           "2022-01-31 01:50:29"
          ],
          [
           "2022-01-31 01:55:29"
          ],
          [
           "2022-01-31 02:00:30"
          ],
          [
           "2022-01-31 02:05:30"
          ],
          [
           "2022-01-31 02:10:30"
          ],
          [
           "2022-01-31 02:15:31"
          ],
          [
           "2022-01-31 02:20:31"
          ],
          [
           "2022-01-31 02:25:32"
          ],
          [
           "2022-01-31 02:30:32"
          ],
          [
           "2022-01-31 02:35:33"
          ],
          [
           "2022-01-31 02:40:33"
          ],
          [
           "2022-01-31 02:45:33"
          ],
          [
           "2022-01-31 02:50:33"
          ],
          [
           "2022-01-31 02:55:34"
          ],
          [
           "2022-01-31 03:00:34"
          ],
          [
           "2022-01-31 03:05:35"
          ],
          [
           "2022-01-31 03:10:35"
          ],
          [
           "2022-01-31 03:15:36"
          ],
          [
           "2022-01-31 03:20:36"
          ],
          [
           "2022-01-31 03:25:37"
          ],
          [
           "2022-01-31 03:30:37"
          ],
          [
           "2022-01-31 03:35:38"
          ],
          [
           "2022-01-31 03:40:39"
          ],
          [
           "2022-01-31 03:45:39"
          ],
          [
           "2022-01-31 03:50:39"
          ],
          [
           "2022-01-31 03:55:40"
          ],
          [
           "2022-01-31 04:00:40"
          ],
          [
           "2022-01-31 04:05:40"
          ],
          [
           "2022-01-31 04:10:40"
          ],
          [
           "2022-01-31 04:15:41"
          ],
          [
           "2022-01-31 04:20:41"
          ],
          [
           "2022-01-31 04:25:41"
          ],
          [
           "2022-01-31 04:30:41"
          ],
          [
           "2022-01-31 04:35:42"
          ],
          [
           "2022-01-31 04:40:42"
          ],
          [
           "2022-01-31 04:45:43"
          ],
          [
           "2022-01-31 04:50:43"
          ],
          [
           "2022-01-31 04:55:43"
          ],
          [
           "2022-01-31 05:00:43"
          ],
          [
           "2022-01-31 05:05:44"
          ],
          [
           "2022-01-31 05:10:44"
          ],
          [
           "2022-01-31 05:15:44"
          ],
          [
           "2022-01-31 05:20:45"
          ],
          [
           "2022-01-31 05:25:45"
          ],
          [
           "2022-01-31 05:30:45"
          ],
          [
           "2022-01-31 05:35:45"
          ],
          [
           "2022-01-31 05:40:45"
          ],
          [
           "2022-01-31 05:45:46"
          ],
          [
           "2022-01-31 05:50:47"
          ],
          [
           "2022-01-31 05:55:47"
          ],
          [
           "2022-01-31 06:00:47"
          ],
          [
           "2022-01-31 06:05:48"
          ],
          [
           "2022-01-31 06:10:48"
          ],
          [
           "2022-01-31 06:15:48"
          ],
          [
           "2022-01-31 06:20:49"
          ],
          [
           "2022-01-31 06:25:49"
          ],
          [
           "2022-01-31 06:30:48"
          ],
          [
           "2022-01-31 06:35:49"
          ],
          [
           "2022-01-31 06:40:50"
          ],
          [
           "2022-01-31 06:45:50"
          ],
          [
           "2022-01-31 06:50:50"
          ],
          [
           "2022-01-31 06:55:50"
          ],
          [
           "2022-01-31 07:00:51"
          ],
          [
           "2022-01-31 07:05:51"
          ],
          [
           "2022-01-31 07:10:51"
          ],
          [
           "2022-01-31 07:15:52"
          ],
          [
           "2022-01-31 07:20:52"
          ],
          [
           "2022-01-31 07:25:52"
          ],
          [
           "2022-01-31 07:30:53"
          ],
          [
           "2022-01-31 07:35:53"
          ],
          [
           "2022-01-31 07:40:53"
          ],
          [
           "2022-01-31 07:45:54"
          ],
          [
           "2022-01-31 07:50:54"
          ],
          [
           "2022-01-31 07:55:55"
          ],
          [
           "2022-01-31 08:00:55"
          ],
          [
           "2022-01-31 08:05:55"
          ],
          [
           "2022-01-31 08:10:56"
          ],
          [
           "2022-01-31 08:15:57"
          ],
          [
           "2022-01-31 08:20:57"
          ],
          [
           "2022-01-31 08:25:57"
          ],
          [
           "2022-01-31 08:30:58"
          ],
          [
           "2022-01-31 08:35:59"
          ],
          [
           "2022-01-31 08:40:59"
          ],
          [
           "2022-01-31 08:45:59"
          ],
          [
           "2022-01-31 08:50:59"
          ],
          [
           "2022-01-31 08:56:00"
          ],
          [
           "2022-01-31 09:01:00"
          ],
          [
           "2022-01-31 09:06:00"
          ],
          [
           "2022-01-31 09:11:01"
          ],
          [
           "2022-01-31 09:16:01"
          ],
          [
           "2022-01-31 09:21:01"
          ],
          [
           "2022-01-31 09:26:02"
          ],
          [
           "2022-01-31 09:31:02"
          ],
          [
           "2022-01-31 09:36:02"
          ],
          [
           "2022-01-31 09:41:03"
          ],
          [
           "2022-01-31 09:46:03"
          ],
          [
           "2022-01-31 09:51:03"
          ],
          [
           "2022-01-31 09:56:03"
          ],
          [
           "2022-01-31 10:01:03"
          ],
          [
           "2022-01-31 10:06:04"
          ],
          [
           "2022-01-31 10:11:04"
          ],
          [
           "2022-01-31 10:16:05"
          ],
          [
           "2022-01-31 10:21:05"
          ],
          [
           "2022-01-31 10:26:06"
          ],
          [
           "2022-01-31 10:31:06"
          ],
          [
           "2022-01-31 10:36:06"
          ],
          [
           "2022-01-31 10:41:07"
          ],
          [
           "2022-01-31 10:46:07"
          ],
          [
           "2022-01-31 10:51:08"
          ],
          [
           "2022-01-31 10:56:08"
          ],
          [
           "2022-01-31 11:01:08"
          ],
          [
           "2022-01-31 11:06:09"
          ],
          [
           "2022-01-31 11:11:09"
          ],
          [
           "2022-01-31 11:16:09"
          ],
          [
           "2022-01-31 11:21:10"
          ],
          [
           "2022-01-31 11:26:10"
          ],
          [
           "2022-01-31 11:31:10"
          ],
          [
           "2022-01-31 11:36:10"
          ],
          [
           "2022-01-31 11:41:11"
          ],
          [
           "2022-01-31 11:46:11"
          ],
          [
           "2022-01-31 11:51:11"
          ],
          [
           "2022-01-31 11:56:12"
          ],
          [
           "2022-01-31 12:01:12"
          ],
          [
           "2022-01-31 12:06:12"
          ],
          [
           "2022-01-31 12:11:13"
          ],
          [
           "2022-01-31 12:16:13"
          ],
          [
           "2022-01-31 12:21:13"
          ],
          [
           "2022-01-31 12:26:14"
          ],
          [
           "2022-01-31 12:31:14"
          ],
          [
           "2022-01-31 12:36:15"
          ],
          [
           "2022-01-31 12:41:15"
          ],
          [
           "2022-01-31 12:46:16"
          ],
          [
           "2022-01-31 12:51:16"
          ],
          [
           "2022-01-31 12:56:16"
          ],
          [
           "2022-01-31 13:01:17"
          ],
          [
           "2022-01-31 13:06:17"
          ],
          [
           "2022-01-31 13:11:18"
          ],
          [
           "2022-01-31 13:16:17"
          ],
          [
           "2022-01-31 13:21:18"
          ],
          [
           "2022-01-31 13:26:18"
          ],
          [
           "2022-01-31 13:31:19"
          ],
          [
           "2022-01-31 13:36:19"
          ],
          [
           "2022-01-31 13:41:20"
          ],
          [
           "2022-01-31 13:46:20"
          ],
          [
           "2022-01-31 13:51:21"
          ],
          [
           "2022-01-31 13:56:21"
          ],
          [
           "2022-01-31 14:01:21"
          ],
          [
           "2022-01-31 14:06:21"
          ],
          [
           "2022-01-31 14:11:22"
          ],
          [
           "2022-01-31 14:16:23"
          ],
          [
           "2022-01-31 14:21:23"
          ],
          [
           "2022-01-31 14:26:23"
          ],
          [
           "2022-01-31 14:31:24"
          ],
          [
           "2022-01-31 14:36:24"
          ],
          [
           "2022-01-31 14:41:25"
          ],
          [
           "2022-01-31 14:46:25"
          ],
          [
           "2022-01-31 14:51:26"
          ],
          [
           "2022-01-31 14:56:26"
          ],
          [
           "2022-01-31 15:01:26"
          ],
          [
           "2022-01-31 15:06:26"
          ],
          [
           "2022-01-31 15:11:27"
          ],
          [
           "2022-01-31 15:16:28"
          ],
          [
           "2022-01-31 15:21:28"
          ],
          [
           "2022-01-31 15:26:29"
          ],
          [
           "2022-01-31 15:31:29"
          ],
          [
           "2022-01-31 15:36:29"
          ],
          [
           "2022-01-31 15:41:30"
          ],
          [
           "2022-01-31 15:46:30"
          ],
          [
           "2022-01-31 15:51:31"
          ],
          [
           "2022-01-31 15:56:31"
          ],
          [
           "2022-01-31 16:01:32"
          ],
          [
           "2022-01-31 16:06:32"
          ],
          [
           "2022-01-31 16:11:31"
          ],
          [
           "2022-01-31 16:16:32"
          ],
          [
           "2022-01-31 16:21:32"
          ],
          [
           "2022-01-31 16:26:32"
          ],
          [
           "2022-01-31 16:31:33"
          ],
          [
           "2022-01-31 16:36:34"
          ],
          [
           "2022-01-31 16:41:34"
          ],
          [
           "2022-01-31 16:46:35"
          ],
          [
           "2022-01-31 16:51:35"
          ],
          [
           "2022-01-31 16:56:36"
          ],
          [
           "2022-01-31 17:01:36"
          ],
          [
           "2022-01-31 17:06:36"
          ],
          [
           "2022-01-31 17:11:37"
          ],
          [
           "2022-01-31 17:16:37"
          ],
          [
           "2022-01-31 17:21:38"
          ],
          [
           "2022-01-31 17:26:38"
          ],
          [
           "2022-01-31 17:31:39"
          ],
          [
           "2022-01-31 17:36:39"
          ],
          [
           "2022-01-31 17:41:40"
          ],
          [
           "2022-01-31 17:46:40"
          ],
          [
           "2022-01-31 17:51:40"
          ],
          [
           "2022-01-31 17:56:40"
          ],
          [
           "2022-01-31 18:01:40"
          ],
          [
           "2022-01-31 18:06:40"
          ],
          [
           "2022-01-31 18:11:41"
          ],
          [
           "2022-01-31 18:16:41"
          ],
          [
           "2022-01-31 18:21:41"
          ],
          [
           "2022-01-31 18:26:42"
          ],
          [
           "2022-01-31 18:31:43"
          ],
          [
           "2022-01-31 18:36:43"
          ],
          [
           "2022-01-31 18:41:43"
          ],
          [
           "2022-01-31 18:46:43"
          ],
          [
           "2022-01-31 18:51:44"
          ],
          [
           "2022-01-31 18:56:44"
          ],
          [
           "2022-01-31 19:01:45"
          ],
          [
           "2022-01-31 19:06:45"
          ],
          [
           "2022-01-31 19:11:45"
          ],
          [
           "2022-01-31 19:16:46"
          ],
          [
           "2022-01-31 19:21:46"
          ],
          [
           "2022-01-31 19:26:47"
          ],
          [
           "2022-01-31 19:31:47"
          ],
          [
           "2022-01-31 19:36:48"
          ],
          [
           "2022-01-31 19:41:48"
          ],
          [
           "2022-01-31 19:46:49"
          ],
          [
           "2022-01-31 19:51:49"
          ],
          [
           "2022-01-31 19:56:49"
          ],
          [
           "2022-01-31 20:01:49"
          ],
          [
           "2022-01-31 20:06:49"
          ],
          [
           "2022-01-31 20:11:50"
          ],
          [
           "2022-01-31 20:16:50"
          ],
          [
           "2022-01-31 20:21:50"
          ],
          [
           "2022-01-31 20:26:50"
          ],
          [
           "2022-01-31 20:31:50"
          ],
          [
           "2022-01-31 20:36:51"
          ],
          [
           "2022-01-31 20:41:51"
          ],
          [
           "2022-01-31 20:46:51"
          ],
          [
           "2022-01-31 20:51:52"
          ],
          [
           "2022-01-31 20:56:52"
          ],
          [
           "2022-01-31 21:01:52"
          ],
          [
           "2022-01-31 21:06:52"
          ],
          [
           "2022-01-31 21:11:52"
          ],
          [
           "2022-01-31 21:16:52"
          ],
          [
           "2022-01-31 21:21:52"
          ],
          [
           "2022-01-31 21:26:53"
          ],
          [
           "2022-01-31 21:31:53"
          ],
          [
           "2022-01-31 21:36:54"
          ],
          [
           "2022-01-31 21:41:54"
          ],
          [
           "2022-01-31 21:46:54"
          ],
          [
           "2022-01-31 21:51:54"
          ],
          [
           "2022-01-31 21:56:54"
          ],
          [
           "2022-01-31 22:01:55"
          ],
          [
           "2022-01-31 22:06:55"
          ],
          [
           "2022-01-31 22:11:56"
          ],
          [
           "2022-01-31 22:16:56"
          ],
          [
           "2022-01-31 22:21:57"
          ],
          [
           "2022-01-31 22:26:57"
          ],
          [
           "2022-01-31 22:31:57"
          ],
          [
           "2022-01-31 22:36:57"
          ],
          [
           "2022-01-31 22:41:58"
          ],
          [
           "2022-01-31 22:46:59"
          ],
          [
           "2022-01-31 22:51:59"
          ],
          [
           "2022-01-31 22:56:59"
          ],
          [
           "2022-01-31 23:02:00"
          ],
          [
           "2022-01-31 23:07:00"
          ],
          [
           "2022-01-31 23:12:01"
          ],
          [
           "2022-01-31 23:17:01"
          ],
          [
           "2022-01-31 23:22:02"
          ],
          [
           "2022-01-31 23:27:02"
          ],
          [
           "2022-01-31 23:32:03"
          ],
          [
           "2022-01-31 23:37:03"
          ],
          [
           "2022-01-31 23:42:03"
          ],
          [
           "2022-01-31 23:47:04"
          ],
          [
           "2022-01-31 23:52:04"
          ],
          [
           "2022-01-31 23:57:05"
          ],
          [
           "2022-02-01 00:02:05"
          ],
          [
           "2022-02-01 00:07:05"
          ],
          [
           "2022-02-01 00:12:06"
          ],
          [
           "2022-02-01 00:17:06"
          ],
          [
           "2022-02-01 00:22:07"
          ],
          [
           "2022-02-01 00:27:07"
          ],
          [
           "2022-02-01 00:32:07"
          ],
          [
           "2022-02-01 00:37:08"
          ],
          [
           "2022-02-01 00:42:08"
          ],
          [
           "2022-02-01 00:47:09"
          ],
          [
           "2022-02-01 00:52:09"
          ],
          [
           "2022-02-01 00:57:10"
          ],
          [
           "2022-02-01 01:02:10"
          ],
          [
           "2022-02-01 01:07:11"
          ],
          [
           "2022-02-01 01:12:11"
          ],
          [
           "2022-02-01 01:17:11"
          ],
          [
           "2022-02-01 01:22:11"
          ],
          [
           "2022-02-01 01:27:12"
          ],
          [
           "2022-02-01 01:32:12"
          ],
          [
           "2022-02-01 01:37:13"
          ],
          [
           "2022-02-01 01:42:13"
          ],
          [
           "2022-02-01 01:47:13"
          ],
          [
           "2022-02-01 01:52:13"
          ],
          [
           "2022-02-01 01:57:13"
          ],
          [
           "2022-02-01 02:02:14"
          ],
          [
           "2022-02-01 02:07:14"
          ],
          [
           "2022-02-01 02:12:15"
          ],
          [
           "2022-02-01 02:17:15"
          ],
          [
           "2022-02-01 02:22:15"
          ],
          [
           "2022-02-01 02:27:16"
          ],
          [
           "2022-02-01 02:32:16"
          ],
          [
           "2022-02-01 02:37:17"
          ],
          [
           "2022-02-01 02:42:17"
          ],
          [
           "2022-02-01 02:47:18"
          ],
          [
           "2022-02-01 02:52:18"
          ],
          [
           "2022-02-01 02:57:19"
          ],
          [
           "2022-02-01 03:02:20"
          ],
          [
           "2022-02-01 03:07:20"
          ],
          [
           "2022-02-01 03:12:20"
          ],
          [
           "2022-02-01 03:17:21"
          ],
          [
           "2022-02-01 03:22:21"
          ],
          [
           "2022-02-01 03:27:21"
          ],
          [
           "2022-02-01 03:32:22"
          ],
          [
           "2022-02-01 03:37:22"
          ],
          [
           "2022-02-01 03:42:22"
          ],
          [
           "2022-02-01 03:47:23"
          ],
          [
           "2022-02-01 03:52:23"
          ],
          [
           "2022-02-01 03:57:24"
          ],
          [
           "2022-02-01 04:02:24"
          ],
          [
           "2022-02-01 04:07:25"
          ],
          [
           "2022-02-01 04:12:25"
          ],
          [
           "2022-02-01 04:17:26"
          ],
          [
           "2022-02-01 04:22:26"
          ],
          [
           "2022-02-01 04:27:26"
          ],
          [
           "2022-02-01 04:32:27"
          ],
          [
           "2022-02-01 04:37:27"
          ],
          [
           "2022-02-01 04:42:28"
          ],
          [
           "2022-02-01 04:47:28"
          ],
          [
           "2022-02-01 04:52:29"
          ],
          [
           "2022-02-01 04:57:29"
          ],
          [
           "2022-02-01 05:02:30"
          ],
          [
           "2022-02-01 05:07:30"
          ],
          [
           "2022-02-01 05:12:30"
          ],
          [
           "2022-02-01 05:17:30"
          ],
          [
           "2022-02-01 05:22:31"
          ],
          [
           "2022-02-01 05:27:31"
          ],
          [
           "2022-02-01 05:32:31"
          ],
          [
           "2022-02-01 05:37:32"
          ],
          [
           "2022-02-01 05:42:32"
          ],
          [
           "2022-02-01 05:47:32"
          ],
          [
           "2022-02-01 05:52:33"
          ],
          [
           "2022-02-01 05:57:33"
          ],
          [
           "2022-02-01 06:02:33"
          ],
          [
           "2022-02-01 06:07:33"
          ],
          [
           "2022-02-01 06:12:34"
          ],
          [
           "2022-02-01 06:17:34"
          ],
          [
           "2022-02-01 06:22:35"
          ],
          [
           "2022-02-01 06:27:35"
          ],
          [
           "2022-02-01 06:32:36"
          ],
          [
           "2022-02-01 06:37:36"
          ],
          [
           "2022-02-01 06:42:37"
          ],
          [
           "2022-02-01 06:47:37"
          ],
          [
           "2022-02-01 06:52:37"
          ],
          [
           "2022-02-01 06:57:37"
          ],
          [
           "2022-02-01 07:02:37"
          ],
          [
           "2022-02-01 07:07:38"
          ],
          [
           "2022-02-01 07:12:38"
          ],
          [
           "2022-02-01 07:17:38"
          ],
          [
           "2022-02-01 07:22:38"
          ],
          [
           "2022-02-01 07:27:39"
          ],
          [
           "2022-02-01 07:32:39"
          ],
          [
           "2022-02-01 07:37:40"
          ],
          [
           "2022-02-01 07:42:40"
          ],
          [
           "2022-02-01 07:47:41"
          ],
          [
           "2022-02-01 07:52:41"
          ],
          [
           "2022-02-01 07:57:42"
          ],
          [
           "2022-02-01 08:02:42"
          ],
          [
           "2022-02-01 08:07:43"
          ],
          [
           "2022-02-01 08:12:43"
          ],
          [
           "2022-02-01 08:17:43"
          ],
          [
           "2022-02-01 08:22:43"
          ],
          [
           "2022-02-01 08:27:44"
          ],
          [
           "2022-02-01 08:32:44"
          ],
          [
           "2022-02-01 08:37:45"
          ],
          [
           "2022-02-01 08:42:45"
          ],
          [
           "2022-02-01 08:47:45"
          ],
          [
           "2022-02-01 08:52:46"
          ],
          [
           "2022-02-01 08:57:47"
          ],
          [
           "2022-02-01 09:02:47"
          ],
          [
           "2022-02-01 09:07:47"
          ],
          [
           "2022-02-01 09:12:47"
          ],
          [
           "2022-02-01 09:17:47"
          ],
          [
           "2022-02-01 09:22:48"
          ],
          [
           "2022-02-01 09:27:48"
          ],
          [
           "2022-02-01 09:32:48"
          ],
          [
           "2022-02-01 09:37:48"
          ],
          [
           "2022-02-01 09:42:48"
          ],
          [
           "2022-02-01 09:47:49"
          ],
          [
           "2022-02-01 09:52:49"
          ],
          [
           "2022-02-01 09:57:49"
          ],
          [
           "2022-02-01 10:02:49"
          ],
          [
           "2022-02-01 10:07:50"
          ],
          [
           "2022-02-01 10:12:50"
          ],
          [
           "2022-02-01 10:17:51"
          ],
          [
           "2022-02-01 10:22:51"
          ],
          [
           "2022-02-01 10:27:52"
          ],
          [
           "2022-02-01 10:32:52"
          ],
          [
           "2022-02-01 10:37:52"
          ],
          [
           "2022-02-01 10:42:52"
          ],
          [
           "2022-02-01 10:47:52"
          ],
          [
           "2022-02-01 10:52:52"
          ],
          [
           "2022-02-01 10:57:53"
          ],
          [
           "2022-02-01 11:02:53"
          ],
          [
           "2022-02-01 11:07:53"
          ],
          [
           "2022-02-01 11:12:54"
          ],
          [
           "2022-02-01 11:17:54"
          ],
          [
           "2022-02-01 11:22:55"
          ],
          [
           "2022-02-01 11:27:55"
          ],
          [
           "2022-02-01 11:32:56"
          ],
          [
           "2022-02-01 11:37:56"
          ],
          [
           "2022-02-01 11:42:57"
          ],
          [
           "2022-02-01 11:47:57"
          ],
          [
           "2022-02-01 11:52:58"
          ],
          [
           "2022-02-01 11:57:58"
          ],
          [
           "2022-02-01 12:02:58"
          ],
          [
           "2022-02-01 12:07:59"
          ],
          [
           "2022-02-01 12:12:58"
          ],
          [
           "2022-02-01 12:17:59"
          ],
          [
           "2022-02-01 12:23:00"
          ],
          [
           "2022-02-01 12:28:00"
          ],
          [
           "2022-02-01 12:33:00"
          ],
          [
           "2022-02-01 12:38:01"
          ],
          [
           "2022-02-01 12:43:02"
          ],
          [
           "2022-02-01 12:48:02"
          ],
          [
           "2022-02-01 12:53:02"
          ],
          [
           "2022-02-01 12:58:02"
          ],
          [
           "2022-02-01 13:03:03"
          ],
          [
           "2022-02-01 13:08:03"
          ],
          [
           "2022-02-01 13:13:03"
          ],
          [
           "2022-02-01 13:18:04"
          ],
          [
           "2022-02-01 13:23:04"
          ],
          [
           "2022-02-01 13:28:05"
          ],
          [
           "2022-02-01 13:33:05"
          ],
          [
           "2022-02-01 13:38:05"
          ],
          [
           "2022-02-01 13:43:05"
          ],
          [
           "2022-02-01 13:48:06"
          ],
          [
           "2022-02-01 13:53:06"
          ],
          [
           "2022-02-01 13:58:07"
          ],
          [
           "2022-02-01 14:03:07"
          ],
          [
           "2022-02-01 14:08:08"
          ],
          [
           "2022-02-01 14:13:08"
          ],
          [
           "2022-02-01 14:18:08"
          ],
          [
           "2022-02-01 14:23:08"
          ],
          [
           "2022-02-01 14:28:08"
          ],
          [
           "2022-02-01 14:33:09"
          ],
          [
           "2022-02-01 14:38:08"
          ],
          [
           "2022-02-01 14:43:09"
          ],
          [
           "2022-02-01 14:48:09"
          ],
          [
           "2022-02-01 14:53:10"
          ],
          [
           "2022-02-01 14:58:10"
          ],
          [
           "2022-02-01 15:03:10"
          ],
          [
           "2022-02-01 15:08:11"
          ],
          [
           "2022-02-01 15:13:12"
          ],
          [
           "2022-02-01 15:18:12"
          ],
          [
           "2022-02-01 15:23:12"
          ],
          [
           "2022-02-01 15:28:12"
          ],
          [
           "2022-02-01 15:33:12"
          ],
          [
           "2022-02-01 15:38:13"
          ],
          [
           "2022-02-01 15:43:14"
          ],
          [
           "2022-02-01 15:48:14"
          ],
          [
           "2022-02-01 15:53:15"
          ],
          [
           "2022-02-01 15:58:15"
          ],
          [
           "2022-02-01 16:03:16"
          ],
          [
           "2022-02-01 16:08:16"
          ],
          [
           "2022-02-01 16:13:16"
          ],
          [
           "2022-02-01 16:18:17"
          ],
          [
           "2022-02-01 16:23:17"
          ],
          [
           "2022-02-01 16:28:18"
          ],
          [
           "2022-02-01 16:33:18"
          ],
          [
           "2022-02-01 16:38:19"
          ],
          [
           "2022-02-01 16:43:19"
          ],
          [
           "2022-02-01 16:48:20"
          ],
          [
           "2022-02-01 16:53:20"
          ],
          [
           "2022-02-01 16:58:20"
          ],
          [
           "2022-02-01 17:03:21"
          ],
          [
           "2022-02-01 17:08:21"
          ],
          [
           "2022-02-01 17:13:21"
          ],
          [
           "2022-02-01 17:18:22"
          ],
          [
           "2022-02-01 17:23:22"
          ],
          [
           "2022-02-01 17:28:23"
          ],
          [
           "2022-02-01 17:33:23"
          ],
          [
           "2022-02-01 17:38:24"
          ],
          [
           "2022-02-01 17:43:24"
          ],
          [
           "2022-02-01 17:48:24"
          ],
          [
           "2022-02-01 17:53:25"
          ],
          [
           "2022-02-01 17:58:25"
          ],
          [
           "2022-02-01 18:03:26"
          ],
          [
           "2022-02-01 18:08:26"
          ],
          [
           "2022-02-01 18:13:27"
          ],
          [
           "2022-02-01 18:18:27"
          ],
          [
           "2022-02-01 18:23:27"
          ],
          [
           "2022-02-01 18:28:27"
          ],
          [
           "2022-02-01 18:33:28"
          ],
          [
           "2022-02-01 18:38:28"
          ],
          [
           "2022-02-01 18:43:28"
          ],
          [
           "2022-02-01 18:48:29"
          ],
          [
           "2022-02-01 18:53:29"
          ],
          [
           "2022-02-01 18:58:30"
          ],
          [
           "2022-02-01 19:03:30"
          ],
          [
           "2022-02-01 19:08:30"
          ],
          [
           "2022-02-01 19:13:30"
          ],
          [
           "2022-02-01 19:18:31"
          ],
          [
           "2022-02-01 19:23:31"
          ],
          [
           "2022-02-01 19:28:32"
          ],
          [
           "2022-02-01 19:33:32"
          ],
          [
           "2022-02-01 19:38:33"
          ],
          [
           "2022-02-01 19:43:33"
          ],
          [
           "2022-02-01 19:48:34"
          ],
          [
           "2022-02-01 19:53:34"
          ],
          [
           "2022-02-01 19:58:34"
          ],
          [
           "2022-02-01 20:03:35"
          ],
          [
           "2022-02-01 20:08:35"
          ],
          [
           "2022-02-01 20:13:35"
          ],
          [
           "2022-02-01 20:18:35"
          ],
          [
           "2022-02-01 20:23:35"
          ],
          [
           "2022-02-01 20:28:35"
          ],
          [
           "2022-02-01 20:33:36"
          ],
          [
           "2022-02-01 20:38:37"
          ],
          [
           "2022-02-01 20:43:37"
          ],
          [
           "2022-02-01 20:48:36"
          ],
          [
           "2022-02-01 20:53:37"
          ],
          [
           "2022-02-01 20:58:37"
          ],
          [
           "2022-02-01 21:03:38"
          ],
          [
           "2022-02-01 21:08:38"
          ],
          [
           "2022-02-01 21:13:39"
          ],
          [
           "2022-02-01 21:18:39"
          ],
          [
           "2022-02-01 21:23:39"
          ],
          [
           "2022-02-01 21:28:39"
          ],
          [
           "2022-02-01 21:33:39"
          ],
          [
           "2022-02-01 21:38:40"
          ],
          [
           "2022-02-01 21:43:40"
          ],
          [
           "2022-02-01 21:48:40"
          ],
          [
           "2022-02-01 21:53:40"
          ],
          [
           "2022-02-01 21:58:40"
          ],
          [
           "2022-02-01 22:03:41"
          ],
          [
           "2022-02-01 22:08:41"
          ],
          [
           "2022-02-01 22:13:41"
          ],
          [
           "2022-02-01 22:18:42"
          ],
          [
           "2022-02-01 22:23:42"
          ],
          [
           "2022-02-01 22:28:43"
          ],
          [
           "2022-02-01 22:33:43"
          ],
          [
           "2022-02-01 22:38:44"
          ],
          [
           "2022-02-01 22:43:44"
          ],
          [
           "2022-02-01 22:48:45"
          ],
          [
           "2022-02-01 22:53:45"
          ],
          [
           "2022-02-01 22:58:46"
          ],
          [
           "2022-02-01 23:03:46"
          ],
          [
           "2022-02-01 23:08:46"
          ],
          [
           "2022-02-01 23:13:47"
          ],
          [
           "2022-02-01 23:18:48"
          ],
          [
           "2022-02-01 23:23:48"
          ],
          [
           "2022-02-01 23:28:49"
          ],
          [
           "2022-02-01 23:33:49"
          ],
          [
           "2022-02-01 23:38:49"
          ],
          [
           "2022-02-01 23:43:49"
          ],
          [
           "2022-02-01 23:48:49"
          ],
          [
           "2022-02-01 23:53:49"
          ],
          [
           "2022-02-01 23:58:50"
          ],
          [
           "2022-02-02 00:03:50"
          ],
          [
           "2022-02-02 00:08:51"
          ],
          [
           "2022-02-02 00:13:51"
          ],
          [
           "2022-02-02 00:18:51"
          ],
          [
           "2022-02-02 00:23:52"
          ],
          [
           "2022-02-02 00:28:52"
          ],
          [
           "2022-02-02 00:33:53"
          ],
          [
           "2022-02-02 00:38:53"
          ],
          [
           "2022-02-02 00:43:54"
          ],
          [
           "2022-02-02 00:48:54"
          ],
          [
           "2022-02-02 00:53:54"
          ],
          [
           "2022-02-02 00:58:55"
          ],
          [
           "2022-02-02 01:03:55"
          ],
          [
           "2022-02-02 01:08:55"
          ],
          [
           "2022-02-02 01:13:55"
          ],
          [
           "2022-02-02 01:18:55"
          ],
          [
           "2022-02-02 01:23:56"
          ],
          [
           "2022-02-02 01:28:55"
          ],
          [
           "2022-02-02 01:33:55"
          ],
          [
           "2022-02-02 01:38:56"
          ],
          [
           "2022-02-02 01:43:56"
          ],
          [
           "2022-02-02 01:48:56"
          ],
          [
           "2022-02-02 01:53:57"
          ],
          [
           "2022-02-02 01:58:57"
          ],
          [
           "2022-02-02 02:03:58"
          ],
          [
           "2022-02-02 02:08:58"
          ],
          [
           "2022-02-02 02:13:58"
          ],
          [
           "2022-02-02 02:18:59"
          ],
          [
           "2022-02-02 02:23:59"
          ],
          [
           "2022-02-02 02:29:00"
          ],
          [
           "2022-02-02 02:34:00"
          ],
          [
           "2022-02-02 02:39:00"
          ],
          [
           "2022-02-02 02:44:00"
          ],
          [
           "2022-02-02 02:49:01"
          ],
          [
           "2022-02-02 02:54:01"
          ],
          [
           "2022-02-02 02:59:01"
          ],
          [
           "2022-02-02 03:04:01"
          ],
          [
           "2022-02-02 03:09:02"
          ],
          [
           "2022-02-02 03:14:02"
          ],
          [
           "2022-02-02 03:19:02"
          ],
          [
           "2022-02-02 03:24:03"
          ],
          [
           "2022-02-02 03:29:03"
          ],
          [
           "2022-02-02 03:34:03"
          ],
          [
           "2022-02-02 03:39:03"
          ],
          [
           "2022-02-02 03:44:04"
          ],
          [
           "2022-02-02 03:49:05"
          ],
          [
           "2022-02-02 03:54:04"
          ],
          [
           "2022-02-02 03:59:05"
          ],
          [
           "2022-02-02 04:04:05"
          ],
          [
           "2022-02-02 04:09:05"
          ],
          [
           "2022-02-02 04:14:05"
          ],
          [
           "2022-02-02 04:19:06"
          ],
          [
           "2022-02-02 04:24:06"
          ],
          [
           "2022-02-02 04:29:07"
          ],
          [
           "2022-02-02 04:34:07"
          ],
          [
           "2022-02-02 04:39:08"
          ],
          [
           "2022-02-02 04:44:08"
          ],
          [
           "2022-02-02 04:49:09"
          ],
          [
           "2022-02-02 04:54:09"
          ],
          [
           "2022-02-02 04:59:09"
          ],
          [
           "2022-02-02 05:04:09"
          ],
          [
           "2022-02-02 05:09:09"
          ],
          [
           "2022-02-02 05:14:10"
          ],
          [
           "2022-02-02 05:19:10"
          ],
          [
           "2022-02-02 05:24:10"
          ],
          [
           "2022-02-02 05:29:11"
          ],
          [
           "2022-02-02 05:34:11"
          ],
          [
           "2022-02-02 05:39:12"
          ],
          [
           "2022-02-02 05:44:12"
          ],
          [
           "2022-02-02 05:49:13"
          ],
          [
           "2022-02-02 05:54:14"
          ],
          [
           "2022-02-02 05:59:14"
          ],
          [
           "2022-02-02 06:04:14"
          ],
          [
           "2022-02-02 06:09:15"
          ],
          [
           "2022-02-02 06:14:15"
          ],
          [
           "2022-02-02 06:19:15"
          ],
          [
           "2022-02-02 06:24:16"
          ],
          [
           "2022-02-02 06:29:16"
          ],
          [
           "2022-02-02 06:34:16"
          ],
          [
           "2022-02-02 06:39:16"
          ],
          [
           "2022-02-02 06:44:16"
          ],
          [
           "2022-02-02 06:49:17"
          ],
          [
           "2022-02-02 06:54:17"
          ],
          [
           "2022-02-02 06:59:17"
          ],
          [
           "2022-02-02 07:04:17"
          ],
          [
           "2022-02-02 07:09:17"
          ],
          [
           "2022-02-02 07:14:18"
          ],
          [
           "2022-02-02 07:19:18"
          ],
          [
           "2022-02-02 07:24:19"
          ],
          [
           "2022-02-02 07:29:19"
          ],
          [
           "2022-02-02 07:34:19"
          ],
          [
           "2022-02-02 07:39:19"
          ],
          [
           "2022-02-02 07:44:20"
          ],
          [
           "2022-02-02 07:49:20"
          ],
          [
           "2022-02-02 07:54:21"
          ],
          [
           "2022-02-02 07:59:21"
          ],
          [
           "2022-02-02 08:04:21"
          ],
          [
           "2022-02-02 08:09:22"
          ],
          [
           "2022-02-02 08:14:22"
          ],
          [
           "2022-02-02 08:19:22"
          ],
          [
           "2022-02-02 08:24:23"
          ],
          [
           "2022-02-02 08:29:23"
          ],
          [
           "2022-02-02 08:34:24"
          ],
          [
           "2022-02-02 08:39:24"
          ],
          [
           "2022-02-02 08:44:24"
          ],
          [
           "2022-02-02 08:49:24"
          ],
          [
           "2022-02-02 08:54:24"
          ],
          [
           "2022-02-02 08:59:24"
          ],
          [
           "2022-02-02 09:04:25"
          ],
          [
           "2022-02-02 09:09:26"
          ],
          [
           "2022-02-02 09:14:26"
          ],
          [
           "2022-02-02 09:19:26"
          ],
          [
           "2022-02-02 09:24:27"
          ],
          [
           "2022-02-02 09:29:27"
          ],
          [
           "2022-02-02 09:34:27"
          ],
          [
           "2022-02-02 09:39:27"
          ],
          [
           "2022-02-02 09:44:28"
          ],
          [
           "2022-02-02 09:49:28"
          ],
          [
           "2022-02-02 09:54:28"
          ],
          [
           "2022-02-02 09:59:28"
          ],
          [
           "2022-02-02 10:04:29"
          ],
          [
           "2022-02-02 10:09:29"
          ],
          [
           "2022-02-02 10:14:29"
          ],
          [
           "2022-02-02 10:19:29"
          ],
          [
           "2022-02-02 10:24:30"
          ],
          [
           "2022-02-02 10:29:30"
          ],
          [
           "2022-02-02 10:34:30"
          ],
          [
           "2022-02-02 10:39:31"
          ],
          [
           "2022-02-02 10:44:31"
          ],
          [
           "2022-02-02 10:49:32"
          ],
          [
           "2022-02-02 10:54:32"
          ],
          [
           "2022-02-02 10:59:32"
          ],
          [
           "2022-02-02 11:04:32"
          ],
          [
           "2022-02-02 11:09:32"
          ],
          [
           "2022-02-02 11:14:32"
          ],
          [
           "2022-02-02 11:19:33"
          ],
          [
           "2022-02-02 11:24:32"
          ],
          [
           "2022-02-02 11:29:33"
          ],
          [
           "2022-02-02 11:34:34"
          ],
          [
           "2022-02-02 11:39:34"
          ],
          [
           "2022-02-02 11:44:34"
          ],
          [
           "2022-02-02 11:49:34"
          ],
          [
           "2022-02-02 11:54:34"
          ],
          [
           "2022-02-02 11:59:35"
          ],
          [
           "2022-02-02 12:04:35"
          ],
          [
           "2022-02-02 12:09:36"
          ],
          [
           "2022-02-02 12:14:36"
          ],
          [
           "2022-02-02 12:19:36"
          ],
          [
           "2022-02-02 12:24:37"
          ],
          [
           "2022-02-02 12:29:37"
          ],
          [
           "2022-02-02 12:34:38"
          ],
          [
           "2022-02-02 12:39:38"
          ],
          [
           "2022-02-02 12:44:38"
          ],
          [
           "2022-02-02 12:49:39"
          ],
          [
           "2022-02-02 12:54:39"
          ],
          [
           "2022-02-02 12:59:40"
          ],
          [
           "2022-02-02 13:04:40"
          ],
          [
           "2022-02-02 13:09:40"
          ],
          [
           "2022-02-02 13:14:41"
          ],
          [
           "2022-02-02 13:19:41"
          ],
          [
           "2022-02-02 13:24:41"
          ],
          [
           "2022-02-02 13:29:42"
          ],
          [
           "2022-02-02 13:34:42"
          ],
          [
           "2022-02-02 13:39:42"
          ],
          [
           "2022-02-02 13:44:42"
          ],
          [
           "2022-02-02 13:49:43"
          ],
          [
           "2022-02-02 13:54:43"
          ],
          [
           "2022-02-02 13:59:44"
          ],
          [
           "2022-02-02 14:04:44"
          ],
          [
           "2022-02-02 14:09:44"
          ],
          [
           "2022-02-02 14:14:45"
          ],
          [
           "2022-02-02 14:19:45"
          ],
          [
           "2022-02-02 14:24:45"
          ],
          [
           "2022-02-02 14:29:46"
          ],
          [
           "2022-02-02 14:34:47"
          ],
          [
           "2022-02-02 14:39:47"
          ],
          [
           "2022-02-02 14:44:47"
          ],
          [
           "2022-02-02 14:49:48"
          ],
          [
           "2022-02-02 14:54:48"
          ],
          [
           "2022-02-02 14:59:48"
          ],
          [
           "2022-02-02 15:04:49"
          ],
          [
           "2022-02-02 15:09:49"
          ],
          [
           "2022-02-02 15:14:49"
          ],
          [
           "2022-02-02 15:19:49"
          ],
          [
           "2022-02-02 15:24:50"
          ],
          [
           "2022-02-02 15:29:51"
          ],
          [
           "2022-02-02 15:34:51"
          ],
          [
           "2022-02-02 15:39:51"
          ],
          [
           "2022-02-02 15:44:51"
          ],
          [
           "2022-02-02 15:49:52"
          ],
          [
           "2022-02-02 15:54:52"
          ],
          [
           "2022-02-02 15:59:53"
          ],
          [
           "2022-02-02 16:04:54"
          ],
          [
           "2022-02-02 16:09:54"
          ],
          [
           "2022-02-02 16:14:55"
          ],
          [
           "2022-02-02 16:19:55"
          ],
          [
           "2022-02-02 16:24:56"
          ],
          [
           "2022-02-02 16:29:56"
          ],
          [
           "2022-02-02 16:34:57"
          ],
          [
           "2022-02-02 16:39:57"
          ],
          [
           "2022-02-02 16:44:58"
          ],
          [
           "2022-02-02 16:49:58"
          ],
          [
           "2022-02-02 16:54:58"
          ],
          [
           "2022-02-02 16:59:58"
          ],
          [
           "2022-02-02 17:04:59"
          ],
          [
           "2022-02-02 17:09:59"
          ],
          [
           "2022-02-02 17:15:00"
          ],
          [
           "2022-02-02 17:20:00"
          ],
          [
           "2022-02-02 17:25:00"
          ],
          [
           "2022-02-02 17:30:01"
          ],
          [
           "2022-02-02 17:35:01"
          ],
          [
           "2022-02-02 17:40:01"
          ],
          [
           "2022-02-02 17:45:01"
          ],
          [
           "2022-02-02 17:50:01"
          ],
          [
           "2022-02-02 17:55:01"
          ],
          [
           "2022-02-02 18:00:02"
          ],
          [
           "2022-02-02 18:05:02"
          ],
          [
           "2022-02-02 18:10:03"
          ],
          [
           "2022-02-02 18:15:03"
          ],
          [
           "2022-02-02 18:20:04"
          ],
          [
           "2022-02-02 18:25:04"
          ],
          [
           "2022-02-02 18:30:04"
          ],
          [
           "2022-02-02 18:35:04"
          ],
          [
           "2022-02-02 18:40:05"
          ],
          [
           "2022-02-02 18:45:05"
          ],
          [
           "2022-02-02 18:50:06"
          ],
          [
           "2022-02-02 18:55:06"
          ],
          [
           "2022-02-02 19:00:06"
          ],
          [
           "2022-02-02 19:05:07"
          ],
          [
           "2022-02-02 19:10:07"
          ],
          [
           "2022-02-02 19:15:07"
          ],
          [
           "2022-02-02 19:20:07"
          ],
          [
           "2022-02-02 19:25:08"
          ],
          [
           "2022-02-02 19:30:08"
          ],
          [
           "2022-02-02 19:35:09"
          ],
          [
           "2022-02-02 19:40:09"
          ],
          [
           "2022-02-02 19:45:09"
          ],
          [
           "2022-02-02 19:50:10"
          ],
          [
           "2022-02-02 19:55:10"
          ],
          [
           "2022-02-02 20:00:10"
          ],
          [
           "2022-02-02 20:05:11"
          ],
          [
           "2022-02-02 20:10:11"
          ],
          [
           "2022-02-02 20:15:12"
          ],
          [
           "2022-02-02 20:20:12"
          ],
          [
           "2022-02-02 20:25:12"
          ],
          [
           "2022-02-02 20:30:12"
          ],
          [
           "2022-02-02 20:35:13"
          ],
          [
           "2022-02-02 20:40:13"
          ],
          [
           "2022-02-02 20:45:14"
          ],
          [
           "2022-02-02 20:50:14"
          ],
          [
           "2022-02-02 20:55:15"
          ],
          [
           "2022-02-02 21:00:15"
          ],
          [
           "2022-02-02 21:05:16"
          ],
          [
           "2022-02-02 21:10:16"
          ],
          [
           "2022-02-02 21:15:16"
          ],
          [
           "2022-02-02 21:20:16"
          ],
          [
           "2022-02-02 21:25:17"
          ],
          [
           "2022-02-02 21:30:18"
          ],
          [
           "2022-02-02 21:35:18"
          ],
          [
           "2022-02-02 21:40:19"
          ],
          [
           "2022-02-02 21:45:19"
          ],
          [
           "2022-02-02 21:50:19"
          ],
          [
           "2022-02-02 21:55:20"
          ],
          [
           "2022-02-02 22:00:19"
          ],
          [
           "2022-02-02 22:05:20"
          ],
          [
           "2022-02-02 22:10:20"
          ],
          [
           "2022-02-02 22:15:20"
          ],
          [
           "2022-02-02 22:20:20"
          ],
          [
           "2022-02-02 22:25:21"
          ],
          [
           "2022-02-02 22:30:21"
          ],
          [
           "2022-02-02 22:35:21"
          ],
          [
           "2022-02-02 22:40:21"
          ],
          [
           "2022-02-02 22:45:21"
          ],
          [
           "2022-02-02 22:50:22"
          ],
          [
           "2022-02-02 22:55:22"
          ],
          [
           "2022-02-02 23:00:22"
          ],
          [
           "2022-02-02 23:05:23"
          ],
          [
           "2022-02-02 23:10:23"
          ],
          [
           "2022-02-02 23:15:23"
          ],
          [
           "2022-02-02 23:20:23"
          ],
          [
           "2022-02-02 23:25:23"
          ],
          [
           "2022-02-02 23:30:24"
          ],
          [
           "2022-02-02 23:35:24"
          ],
          [
           "2022-02-02 23:40:24"
          ],
          [
           "2022-02-02 23:45:24"
          ],
          [
           "2022-02-02 23:50:25"
          ],
          [
           "2022-02-02 23:55:25"
          ],
          [
           "2022-02-03 00:00:25"
          ],
          [
           "2022-02-03 00:05:26"
          ],
          [
           "2022-02-03 00:10:26"
          ],
          [
           "2022-02-03 00:15:26"
          ],
          [
           "2022-02-03 00:20:27"
          ],
          [
           "2022-02-03 00:25:27"
          ],
          [
           "2022-02-03 00:30:28"
          ],
          [
           "2022-02-03 00:35:28"
          ],
          [
           "2022-02-03 00:40:28"
          ],
          [
           "2022-02-03 00:45:29"
          ],
          [
           "2022-02-03 00:50:29"
          ],
          [
           "2022-02-03 00:55:29"
          ],
          [
           "2022-02-03 01:00:29"
          ],
          [
           "2022-02-03 01:05:29"
          ],
          [
           "2022-02-03 01:10:30"
          ],
          [
           "2022-02-03 01:15:31"
          ],
          [
           "2022-02-03 01:20:31"
          ],
          [
           "2022-02-03 01:25:31"
          ],
          [
           "2022-02-03 01:30:31"
          ],
          [
           "2022-02-03 01:35:31"
          ],
          [
           "2022-02-03 01:40:32"
          ],
          [
           "2022-02-03 01:45:32"
          ],
          [
           "2022-02-03 01:50:32"
          ],
          [
           "2022-02-03 01:55:32"
          ],
          [
           "2022-02-03 02:00:33"
          ],
          [
           "2022-02-03 02:05:33"
          ],
          [
           "2022-02-03 02:10:33"
          ],
          [
           "2022-02-03 02:15:34"
          ],
          [
           "2022-02-03 02:20:34"
          ],
          [
           "2022-02-03 02:25:34"
          ],
          [
           "2022-02-03 02:30:35"
          ],
          [
           "2022-02-03 02:35:35"
          ],
          [
           "2022-02-03 02:40:35"
          ],
          [
           "2022-02-03 02:45:36"
          ],
          [
           "2022-02-03 02:50:36"
          ],
          [
           "2022-02-03 02:55:37"
          ],
          [
           "2022-02-03 03:00:36"
          ],
          [
           "2022-02-03 03:05:37"
          ],
          [
           "2022-02-03 03:10:37"
          ],
          [
           "2022-02-03 03:15:37"
          ],
          [
           "2022-02-03 03:20:38"
          ],
          [
           "2022-02-03 03:25:38"
          ],
          [
           "2022-02-03 03:30:39"
          ],
          [
           "2022-02-03 03:35:38"
          ],
          [
           "2022-02-03 03:40:39"
          ],
          [
           "2022-02-03 03:45:39"
          ],
          [
           "2022-02-03 03:50:40"
          ],
          [
           "2022-02-03 03:55:41"
          ],
          [
           "2022-02-03 04:00:41"
          ],
          [
           "2022-02-03 04:05:42"
          ],
          [
           "2022-02-03 04:10:42"
          ],
          [
           "2022-02-03 04:15:42"
          ],
          [
           "2022-02-03 04:20:43"
          ],
          [
           "2022-02-03 04:25:43"
          ],
          [
           "2022-02-03 04:30:44"
          ],
          [
           "2022-02-03 04:35:44"
          ],
          [
           "2022-02-03 04:40:44"
          ],
          [
           "2022-02-03 04:45:44"
          ],
          [
           "2022-02-03 04:50:45"
          ],
          [
           "2022-02-03 04:55:45"
          ],
          [
           "2022-02-03 05:00:45"
          ],
          [
           "2022-02-03 05:05:45"
          ],
          [
           "2022-02-03 05:10:45"
          ],
          [
           "2022-02-03 05:15:45"
          ],
          [
           "2022-02-03 05:20:46"
          ],
          [
           "2022-02-03 05:25:46"
          ],
          [
           "2022-02-03 05:30:47"
          ],
          [
           "2022-02-03 05:35:47"
          ],
          [
           "2022-02-03 05:40:47"
          ],
          [
           "2022-02-03 05:45:47"
          ],
          [
           "2022-02-03 05:50:48"
          ],
          [
           "2022-02-03 05:55:48"
          ],
          [
           "2022-02-03 06:00:49"
          ],
          [
           "2022-02-03 06:05:49"
          ],
          [
           "2022-02-03 06:10:49"
          ],
          [
           "2022-02-03 06:15:49"
          ],
          [
           "2022-02-03 06:20:49"
          ],
          [
           "2022-02-03 06:25:49"
          ],
          [
           "2022-02-03 06:30:50"
          ],
          [
           "2022-02-03 06:35:50"
          ],
          [
           "2022-02-03 06:40:50"
          ],
          [
           "2022-02-03 06:45:50"
          ],
          [
           "2022-02-03 06:50:51"
          ],
          [
           "2022-02-03 06:55:51"
          ],
          [
           "2022-02-03 07:00:51"
          ],
          [
           "2022-02-03 07:05:51"
          ],
          [
           "2022-02-03 07:10:52"
          ],
          [
           "2022-02-03 07:15:52"
          ],
          [
           "2022-02-03 07:20:52"
          ],
          [
           "2022-02-03 07:25:53"
          ],
          [
           "2022-02-03 07:30:53"
          ],
          [
           "2022-02-03 07:35:54"
          ],
          [
           "2022-02-03 07:40:54"
          ],
          [
           "2022-02-03 07:45:54"
          ],
          [
           "2022-02-03 07:50:54"
          ],
          [
           "2022-02-03 07:55:54"
          ],
          [
           "2022-02-03 08:00:54"
          ],
          [
           "2022-02-03 08:05:54"
          ],
          [
           "2022-02-03 08:10:54"
          ],
          [
           "2022-02-03 08:15:54"
          ],
          [
           "2022-02-03 08:20:55"
          ],
          [
           "2022-02-03 08:25:55"
          ],
          [
           "2022-02-03 08:30:55"
          ],
          [
           "2022-02-03 08:35:56"
          ],
          [
           "2022-02-03 08:40:56"
          ],
          [
           "2022-02-03 08:45:56"
          ],
          [
           "2022-02-03 08:50:56"
          ],
          [
           "2022-02-03 08:55:56"
          ],
          [
           "2022-02-03 09:00:57"
          ],
          [
           "2022-02-03 09:05:58"
          ],
          [
           "2022-02-03 09:10:58"
          ],
          [
           "2022-02-03 09:15:58"
          ],
          [
           "2022-02-03 09:20:58"
          ],
          [
           "2022-02-03 09:25:59"
          ],
          [
           "2022-02-03 09:30:59"
          ],
          [
           "2022-02-03 09:35:59"
          ],
          [
           "2022-02-03 09:40:59"
          ],
          [
           "2022-02-03 09:46:00"
          ],
          [
           "2022-02-03 09:51:00"
          ],
          [
           "2022-02-03 09:56:00"
          ],
          [
           "2022-02-03 10:01:00"
          ],
          [
           "2022-02-03 10:06:00"
          ],
          [
           "2022-02-03 10:11:00"
          ],
          [
           "2022-02-03 10:16:01"
          ],
          [
           "2022-02-03 10:21:01"
          ],
          [
           "2022-02-03 10:26:01"
          ],
          [
           "2022-02-03 10:31:02"
          ],
          [
           "2022-02-03 10:36:02"
          ],
          [
           "2022-02-03 10:41:02"
          ],
          [
           "2022-02-03 10:46:02"
          ],
          [
           "2022-02-03 10:51:03"
          ],
          [
           "2022-02-03 10:56:03"
          ],
          [
           "2022-02-03 11:01:04"
          ],
          [
           "2022-02-03 11:06:04"
          ],
          [
           "2022-02-03 11:11:05"
          ],
          [
           "2022-02-03 11:16:05"
          ],
          [
           "2022-02-03 11:21:05"
          ],
          [
           "2022-02-03 11:26:05"
          ],
          [
           "2022-02-03 11:31:05"
          ],
          [
           "2022-02-03 11:36:05"
          ],
          [
           "2022-02-03 11:41:05"
          ],
          [
           "2022-02-03 11:46:06"
          ],
          [
           "2022-02-03 11:51:06"
          ],
          [
           "2022-02-03 11:56:07"
          ],
          [
           "2022-02-03 12:01:07"
          ],
          [
           "2022-02-03 12:06:07"
          ],
          [
           "2022-02-03 12:11:08"
          ],
          [
           "2022-02-03 12:16:08"
          ],
          [
           "2022-02-03 12:21:08"
          ],
          [
           "2022-02-03 12:26:08"
          ],
          [
           "2022-02-03 12:31:09"
          ],
          [
           "2022-02-03 12:36:09"
          ],
          [
           "2022-02-03 12:41:09"
          ],
          [
           "2022-02-03 12:46:10"
          ],
          [
           "2022-02-03 12:51:10"
          ],
          [
           "2022-02-03 12:56:10"
          ],
          [
           "2022-02-03 13:01:10"
          ],
          [
           "2022-02-03 13:06:11"
          ],
          [
           "2022-02-03 13:11:11"
          ],
          [
           "2022-02-03 13:16:11"
          ],
          [
           "2022-02-03 13:21:11"
          ],
          [
           "2022-02-03 13:26:11"
          ],
          [
           "2022-02-03 13:31:12"
          ],
          [
           "2022-02-03 13:36:12"
          ],
          [
           "2022-02-03 13:41:13"
          ],
          [
           "2022-02-03 13:46:13"
          ],
          [
           "2022-02-03 13:51:13"
          ],
          [
           "2022-02-03 13:56:13"
          ],
          [
           "2022-02-03 14:01:14"
          ],
          [
           "2022-02-03 14:06:14"
          ],
          [
           "2022-02-03 14:11:15"
          ],
          [
           "2022-02-03 14:16:15"
          ],
          [
           "2022-02-03 14:21:15"
          ],
          [
           "2022-02-03 14:26:15"
          ],
          [
           "2022-02-03 14:31:15"
          ],
          [
           "2022-02-03 14:36:16"
          ],
          [
           "2022-02-03 14:41:16"
          ],
          [
           "2022-02-03 14:46:17"
          ],
          [
           "2022-02-03 14:51:17"
          ],
          [
           "2022-02-03 14:56:17"
          ],
          [
           "2022-02-03 15:01:18"
          ],
          [
           "2022-02-03 15:06:18"
          ],
          [
           "2022-02-03 15:11:18"
          ],
          [
           "2022-02-03 15:16:19"
          ],
          [
           "2022-02-03 15:21:19"
          ],
          [
           "2022-02-03 15:26:19"
          ],
          [
           "2022-02-03 15:31:20"
          ],
          [
           "2022-02-03 15:36:20"
          ],
          [
           "2022-02-03 15:41:20"
          ],
          [
           "2022-02-03 15:46:21"
          ],
          [
           "2022-02-03 15:51:21"
          ],
          [
           "2022-02-03 15:56:21"
          ],
          [
           "2022-02-03 16:01:21"
          ],
          [
           "2022-02-03 16:06:21"
          ],
          [
           "2022-02-03 16:11:21"
          ],
          [
           "2022-02-03 16:16:22"
          ],
          [
           "2022-02-03 16:21:22"
          ],
          [
           "2022-02-03 16:26:23"
          ],
          [
           "2022-02-03 16:31:23"
          ],
          [
           "2022-02-03 16:36:24"
          ],
          [
           "2022-02-03 16:41:24"
          ],
          [
           "2022-02-03 16:46:24"
          ],
          [
           "2022-02-03 16:51:25"
          ],
          [
           "2022-02-03 16:56:26"
          ],
          [
           "2022-02-03 17:01:26"
          ],
          [
           "2022-02-03 17:06:26"
          ],
          [
           "2022-02-03 17:11:27"
          ],
          [
           "2022-02-03 17:16:27"
          ],
          [
           "2022-02-03 17:21:27"
          ],
          [
           "2022-02-03 17:26:27"
          ],
          [
           "2022-02-03 17:31:28"
          ],
          [
           "2022-02-03 17:36:28"
          ],
          [
           "2022-02-03 17:41:28"
          ],
          [
           "2022-02-03 17:46:28"
          ],
          [
           "2022-02-03 17:51:28"
          ],
          [
           "2022-02-03 17:56:29"
          ],
          [
           "2022-02-03 18:01:29"
          ],
          [
           "2022-02-03 18:06:30"
          ],
          [
           "2022-02-03 18:11:30"
          ],
          [
           "2022-02-03 18:16:30"
          ],
          [
           "2022-02-03 18:21:31"
          ],
          [
           "2022-02-03 18:26:31"
          ],
          [
           "2022-02-03 18:31:31"
          ],
          [
           "2022-02-03 18:36:32"
          ],
          [
           "2022-02-03 18:41:32"
          ],
          [
           "2022-02-03 18:46:32"
          ],
          [
           "2022-02-03 18:51:33"
          ],
          [
           "2022-02-03 18:56:33"
          ],
          [
           "2022-02-03 19:01:33"
          ],
          [
           "2022-02-03 19:06:34"
          ],
          [
           "2022-02-03 19:11:34"
          ],
          [
           "2022-02-03 19:16:34"
          ],
          [
           "2022-02-03 19:21:34"
          ],
          [
           "2022-02-03 19:26:35"
          ],
          [
           "2022-02-03 19:31:36"
          ],
          [
           "2022-02-03 19:36:36"
          ],
          [
           "2022-02-03 19:41:36"
          ],
          [
           "2022-02-03 19:46:36"
          ],
          [
           "2022-02-03 19:51:36"
          ],
          [
           "2022-02-03 19:56:37"
          ],
          [
           "2022-02-03 20:01:37"
          ],
          [
           "2022-02-03 20:06:37"
          ],
          [
           "2022-02-03 20:11:38"
          ],
          [
           "2022-02-03 20:16:38"
          ],
          [
           "2022-02-03 20:21:38"
          ],
          [
           "2022-02-03 20:26:39"
          ],
          [
           "2022-02-03 20:31:39"
          ],
          [
           "2022-02-03 20:36:40"
          ],
          [
           "2022-02-03 20:41:40"
          ],
          [
           "2022-02-03 20:46:40"
          ],
          [
           "2022-02-03 20:51:40"
          ],
          [
           "2022-02-03 20:56:40"
          ],
          [
           "2022-02-03 21:01:40"
          ],
          [
           "2022-02-03 21:06:40"
          ],
          [
           "2022-02-03 21:11:40"
          ],
          [
           "2022-02-03 21:16:41"
          ],
          [
           "2022-02-03 21:21:41"
          ],
          [
           "2022-02-03 21:26:41"
          ],
          [
           "2022-02-03 21:31:42"
          ],
          [
           "2022-02-03 21:36:42"
          ],
          [
           "2022-02-03 21:41:43"
          ],
          [
           "2022-02-03 21:46:43"
          ],
          [
           "2022-02-03 21:51:44"
          ],
          [
           "2022-02-03 21:56:45"
          ],
          [
           "2022-02-03 22:01:45"
          ],
          [
           "2022-02-03 22:06:45"
          ],
          [
           "2022-02-03 22:11:45"
          ],
          [
           "2022-02-03 22:16:46"
          ],
          [
           "2022-02-03 22:21:46"
          ],
          [
           "2022-02-03 22:26:46"
          ],
          [
           "2022-02-03 22:31:47"
          ],
          [
           "2022-02-03 22:36:47"
          ],
          [
           "2022-02-03 22:41:47"
          ],
          [
           "2022-02-03 22:46:48"
          ],
          [
           "2022-02-03 22:51:48"
          ],
          [
           "2022-02-03 22:56:48"
          ],
          [
           "2022-02-03 23:01:49"
          ],
          [
           "2022-02-03 23:06:49"
          ],
          [
           "2022-02-03 23:11:49"
          ],
          [
           "2022-02-03 23:16:50"
          ],
          [
           "2022-02-03 23:21:50"
          ],
          [
           "2022-02-03 23:26:50"
          ],
          [
           "2022-02-03 23:31:50"
          ],
          [
           "2022-02-03 23:36:50"
          ],
          [
           "2022-02-03 23:41:51"
          ],
          [
           "2022-02-03 23:46:51"
          ],
          [
           "2022-02-03 23:51:51"
          ],
          [
           "2022-02-03 23:56:51"
          ],
          [
           "2022-02-04 00:01:52"
          ],
          [
           "2022-02-04 00:06:52"
          ],
          [
           "2022-02-04 00:11:52"
          ],
          [
           "2022-02-04 00:16:52"
          ],
          [
           "2022-02-04 00:21:52"
          ],
          [
           "2022-02-04 00:26:52"
          ],
          [
           "2022-02-04 00:31:52"
          ],
          [
           "2022-02-04 00:36:53"
          ],
          [
           "2022-02-04 00:41:53"
          ],
          [
           "2022-02-04 00:46:53"
          ],
          [
           "2022-02-04 00:51:53"
          ],
          [
           "2022-02-04 00:56:54"
          ],
          [
           "2022-02-04 01:01:54"
          ],
          [
           "2022-02-04 01:06:54"
          ],
          [
           "2022-02-04 01:11:54"
          ],
          [
           "2022-02-04 01:16:55"
          ],
          [
           "2022-02-04 01:21:55"
          ],
          [
           "2022-02-04 01:26:55"
          ],
          [
           "2022-02-04 01:31:55"
          ],
          [
           "2022-02-04 01:36:55"
          ],
          [
           "2022-02-04 01:41:55"
          ],
          [
           "2022-02-04 01:46:56"
          ],
          [
           "2022-02-04 01:51:56"
          ],
          [
           "2022-02-04 01:56:56"
          ],
          [
           "2022-02-04 02:01:56"
          ],
          [
           "2022-02-04 02:06:57"
          ],
          [
           "2022-02-04 02:11:57"
          ],
          [
           "2022-02-04 02:16:57"
          ],
          [
           "2022-02-04 02:21:58"
          ],
          [
           "2022-02-04 02:26:58"
          ],
          [
           "2022-02-04 02:31:59"
          ],
          [
           "2022-02-04 02:36:59"
          ],
          [
           "2022-02-04 02:41:59"
          ],
          [
           "2022-02-04 02:46:59"
          ],
          [
           "2022-02-04 02:52:00"
          ],
          [
           "2022-02-04 02:57:00"
          ],
          [
           "2022-02-04 03:02:01"
          ],
          [
           "2022-02-04 03:07:01"
          ],
          [
           "2022-02-04 03:12:01"
          ],
          [
           "2022-02-04 03:17:02"
          ],
          [
           "2022-02-04 03:22:02"
          ],
          [
           "2022-02-04 03:27:02"
          ],
          [
           "2022-02-04 03:32:02"
          ],
          [
           "2022-02-04 03:37:03"
          ],
          [
           "2022-02-04 03:42:03"
          ],
          [
           "2022-02-04 03:47:04"
          ],
          [
           "2022-02-04 03:52:04"
          ],
          [
           "2022-02-04 03:57:04"
          ],
          [
           "2022-02-04 04:02:05"
          ],
          [
           "2022-02-04 04:07:05"
          ],
          [
           "2022-02-04 04:12:06"
          ],
          [
           "2022-02-04 04:17:06"
          ],
          [
           "2022-02-04 04:22:06"
          ],
          [
           "2022-02-04 04:27:07"
          ],
          [
           "2022-02-04 04:32:07"
          ],
          [
           "2022-02-04 04:37:08"
          ],
          [
           "2022-02-04 04:42:08"
          ],
          [
           "2022-02-04 04:47:09"
          ],
          [
           "2022-02-04 04:52:10"
          ],
          [
           "2022-02-04 04:57:10"
          ],
          [
           "2022-02-04 05:02:11"
          ],
          [
           "2022-02-04 05:07:11"
          ],
          [
           "2022-02-04 05:12:11"
          ],
          [
           "2022-02-04 05:17:12"
          ],
          [
           "2022-02-04 05:22:12"
          ],
          [
           "2022-02-04 05:27:13"
          ],
          [
           "2022-02-04 05:32:13"
          ],
          [
           "2022-02-04 05:37:13"
          ],
          [
           "2022-02-04 05:42:14"
          ],
          [
           "2022-02-04 05:47:15"
          ],
          [
           "2022-02-04 05:52:14"
          ],
          [
           "2022-02-04 05:57:15"
          ],
          [
           "2022-02-04 06:02:16"
          ],
          [
           "2022-02-04 06:07:16"
          ],
          [
           "2022-02-04 06:12:16"
          ],
          [
           "2022-02-04 06:17:17"
          ],
          [
           "2022-02-04 06:22:17"
          ],
          [
           "2022-02-04 06:27:18"
          ],
          [
           "2022-02-04 06:32:18"
          ],
          [
           "2022-02-04 06:37:18"
          ],
          [
           "2022-02-04 06:42:19"
          ],
          [
           "2022-02-04 06:47:19"
          ],
          [
           "2022-02-04 06:52:20"
          ],
          [
           "2022-02-04 06:57:20"
          ],
          [
           "2022-02-04 07:02:20"
          ],
          [
           "2022-02-04 07:07:20"
          ],
          [
           "2022-02-04 07:12:20"
          ],
          [
           "2022-02-04 07:17:21"
          ],
          [
           "2022-02-04 07:22:21"
          ],
          [
           "2022-02-04 07:27:22"
          ],
          [
           "2022-02-04 07:32:22"
          ],
          [
           "2022-02-04 07:37:23"
          ],
          [
           "2022-02-04 07:42:23"
          ],
          [
           "2022-02-04 07:47:23"
          ],
          [
           "2022-02-04 07:52:23"
          ],
          [
           "2022-02-04 07:57:23"
          ],
          [
           "2022-02-04 08:02:24"
          ],
          [
           "2022-02-04 08:07:24"
          ],
          [
           "2022-02-04 08:12:25"
          ],
          [
           "2022-02-04 08:17:25"
          ],
          [
           "2022-02-04 08:22:26"
          ],
          [
           "2022-02-04 08:27:26"
          ],
          [
           "2022-02-04 08:32:26"
          ],
          [
           "2022-02-04 08:37:26"
          ],
          [
           "2022-02-04 08:42:27"
          ],
          [
           "2022-02-04 08:47:27"
          ],
          [
           "2022-02-04 08:52:27"
          ],
          [
           "2022-02-04 08:57:28"
          ],
          [
           "2022-02-04 09:02:29"
          ],
          [
           "2022-02-04 09:07:29"
          ],
          [
           "2022-02-04 09:12:30"
          ],
          [
           "2022-02-04 09:17:30"
          ],
          [
           "2022-02-04 09:22:30"
          ],
          [
           "2022-02-04 09:27:30"
          ],
          [
           "2022-02-04 09:32:31"
          ],
          [
           "2022-02-04 09:37:31"
          ],
          [
           "2022-02-04 09:42:31"
          ],
          [
           "2022-02-04 09:47:31"
          ],
          [
           "2022-02-04 09:52:32"
          ],
          [
           "2022-02-04 09:57:32"
          ],
          [
           "2022-02-04 10:02:32"
          ],
          [
           "2022-02-04 10:07:33"
          ],
          [
           "2022-02-04 10:12:33"
          ],
          [
           "2022-02-04 10:17:33"
          ],
          [
           "2022-02-04 10:22:33"
          ],
          [
           "2022-02-04 10:27:34"
          ],
          [
           "2022-02-04 10:32:34"
          ],
          [
           "2022-02-04 10:37:34"
          ],
          [
           "2022-02-04 10:42:34"
          ],
          [
           "2022-02-04 10:47:35"
          ],
          [
           "2022-02-04 10:52:35"
          ],
          [
           "2022-02-04 10:57:35"
          ],
          [
           "2022-02-04 11:02:36"
          ],
          [
           "2022-02-04 11:07:37"
          ],
          [
           "2022-02-04 11:12:37"
          ],
          [
           "2022-02-04 11:17:37"
          ],
          [
           "2022-02-04 11:22:38"
          ],
          [
           "2022-02-04 11:27:38"
          ],
          [
           "2022-02-04 11:32:38"
          ],
          [
           "2022-02-04 11:37:39"
          ],
          [
           "2022-02-04 11:42:39"
          ],
          [
           "2022-02-04 11:47:40"
          ],
          [
           "2022-02-04 11:52:40"
          ],
          [
           "2022-02-04 11:57:40"
          ],
          [
           "2022-02-04 12:02:40"
          ],
          [
           "2022-02-04 12:07:40"
          ],
          [
           "2022-02-04 12:12:40"
          ],
          [
           "2022-02-04 12:17:41"
          ],
          [
           "2022-02-04 12:22:41"
          ],
          [
           "2022-02-04 12:27:41"
          ],
          [
           "2022-02-04 12:32:41"
          ],
          [
           "2022-02-04 12:37:42"
          ],
          [
           "2022-02-04 12:42:42"
          ],
          [
           "2022-02-04 12:47:43"
          ],
          [
           "2022-02-04 12:52:43"
          ],
          [
           "2022-02-04 12:57:43"
          ],
          [
           "2022-02-04 13:02:43"
          ],
          [
           "2022-02-04 13:07:44"
          ],
          [
           "2022-02-04 13:12:44"
          ],
          [
           "2022-02-04 13:17:45"
          ],
          [
           "2022-02-04 13:22:45"
          ],
          [
           "2022-02-04 13:27:45"
          ],
          [
           "2022-02-04 13:32:46"
          ],
          [
           "2022-02-04 13:37:47"
          ],
          [
           "2022-02-04 13:42:47"
          ],
          [
           "2022-02-04 13:47:48"
          ],
          [
           "2022-02-04 13:52:48"
          ],
          [
           "2022-02-04 13:57:48"
          ],
          [
           "2022-02-04 14:02:49"
          ],
          [
           "2022-02-04 14:07:49"
          ],
          [
           "2022-02-04 14:12:49"
          ],
          [
           "2022-02-04 14:17:50"
          ],
          [
           "2022-02-04 14:22:50"
          ],
          [
           "2022-02-04 14:27:50"
          ],
          [
           "2022-02-04 14:32:50"
          ],
          [
           "2022-02-04 14:37:50"
          ],
          [
           "2022-02-04 14:42:51"
          ],
          [
           "2022-02-04 14:47:51"
          ],
          [
           "2022-02-04 14:52:51"
          ],
          [
           "2022-02-04 14:57:51"
          ],
          [
           "2022-02-04 15:02:52"
          ],
          [
           "2022-02-04 15:07:53"
          ],
          [
           "2022-02-04 15:12:53"
          ],
          [
           "2022-02-04 15:17:53"
          ],
          [
           "2022-02-04 15:22:54"
          ],
          [
           "2022-02-04 15:27:54"
          ],
          [
           "2022-02-04 15:32:54"
          ],
          [
           "2022-02-04 15:37:55"
          ],
          [
           "2022-02-04 15:42:55"
          ],
          [
           "2022-02-04 15:47:55"
          ],
          [
           "2022-02-04 15:52:56"
          ],
          [
           "2022-02-04 15:57:56"
          ],
          [
           "2022-02-04 16:02:57"
          ],
          [
           "2022-02-04 16:07:58"
          ],
          [
           "2022-02-04 16:12:58"
          ],
          [
           "2022-02-04 16:17:58"
          ],
          [
           "2022-02-04 16:22:58"
          ],
          [
           "2022-02-04 16:27:59"
          ],
          [
           "2022-02-04 16:32:59"
          ],
          [
           "2022-02-04 16:38:00"
          ],
          [
           "2022-02-04 16:43:00"
          ],
          [
           "2022-02-04 16:48:01"
          ],
          [
           "2022-02-04 16:53:01"
          ],
          [
           "2022-02-04 16:58:01"
          ],
          [
           "2022-02-04 17:03:01"
          ],
          [
           "2022-02-04 17:08:02"
          ],
          [
           "2022-02-04 17:13:02"
          ],
          [
           "2022-02-04 17:18:03"
          ],
          [
           "2022-02-04 17:23:04"
          ],
          [
           "2022-02-04 17:28:04"
          ],
          [
           "2022-02-04 17:33:04"
          ],
          [
           "2022-02-04 17:38:04"
          ],
          [
           "2022-02-04 17:43:04"
          ],
          [
           "2022-02-04 17:48:04"
          ],
          [
           "2022-02-04 17:53:04"
          ],
          [
           "2022-02-04 17:58:05"
          ],
          [
           "2022-02-04 18:03:05"
          ],
          [
           "2022-02-04 18:08:06"
          ],
          [
           "2022-02-04 18:13:06"
          ],
          [
           "2022-02-04 18:18:06"
          ],
          [
           "2022-02-04 18:23:07"
          ],
          [
           "2022-02-04 18:28:07"
          ],
          [
           "2022-02-04 18:33:08"
          ],
          [
           "2022-02-04 18:38:08"
          ],
          [
           "2022-02-04 18:43:08"
          ],
          [
           "2022-02-04 18:48:09"
          ],
          [
           "2022-02-04 18:53:09"
          ],
          [
           "2022-02-04 18:58:09"
          ],
          [
           "2022-02-04 19:03:09"
          ],
          [
           "2022-02-04 19:08:10"
          ],
          [
           "2022-02-04 19:13:10"
          ],
          [
           "2022-02-04 19:18:11"
          ],
          [
           "2022-02-04 19:23:11"
          ],
          [
           "2022-02-04 19:28:11"
          ],
          [
           "2022-02-04 19:33:11"
          ],
          [
           "2022-02-04 19:38:11"
          ],
          [
           "2022-02-04 19:43:11"
          ],
          [
           "2022-02-04 19:48:12"
          ],
          [
           "2022-02-04 19:53:12"
          ],
          [
           "2022-02-04 19:58:12"
          ],
          [
           "2022-02-04 20:03:13"
          ],
          [
           "2022-02-04 20:08:13"
          ],
          [
           "2022-02-04 20:13:13"
          ],
          [
           "2022-02-04 20:18:14"
          ],
          [
           "2022-02-04 20:23:14"
          ],
          [
           "2022-02-04 20:28:14"
          ],
          [
           "2022-02-04 20:33:15"
          ],
          [
           "2022-02-04 20:38:15"
          ],
          [
           "2022-02-04 20:43:15"
          ],
          [
           "2022-02-04 20:48:16"
          ],
          [
           "2022-02-04 20:53:16"
          ],
          [
           "2022-02-04 20:58:17"
          ],
          [
           "2022-02-04 21:03:17"
          ],
          [
           "2022-02-04 21:08:17"
          ],
          [
           "2022-02-04 21:13:17"
          ],
          [
           "2022-02-04 21:18:17"
          ],
          [
           "2022-02-04 21:23:17"
          ],
          [
           "2022-02-04 21:28:18"
          ],
          [
           "2022-02-04 21:33:18"
          ],
          [
           "2022-02-04 21:38:18"
          ],
          [
           "2022-02-04 21:43:18"
          ],
          [
           "2022-02-04 21:48:18"
          ],
          [
           "2022-02-04 21:53:19"
          ],
          [
           "2022-02-04 21:58:19"
          ],
          [
           "2022-02-04 22:03:19"
          ],
          [
           "2022-02-04 22:08:20"
          ],
          [
           "2022-02-04 22:13:20"
          ],
          [
           "2022-02-04 22:18:21"
          ],
          [
           "2022-02-04 22:23:21"
          ],
          [
           "2022-02-04 22:28:22"
          ],
          [
           "2022-02-04 22:33:22"
          ],
          [
           "2022-02-04 22:38:22"
          ],
          [
           "2022-02-04 22:43:22"
          ],
          [
           "2022-02-04 22:48:23"
          ],
          [
           "2022-02-04 22:53:24"
          ],
          [
           "2022-02-04 22:58:24"
          ],
          [
           "2022-02-04 23:03:24"
          ],
          [
           "2022-02-04 23:08:25"
          ],
          [
           "2022-02-04 23:13:25"
          ],
          [
           "2022-02-04 23:18:25"
          ],
          [
           "2022-02-04 23:23:25"
          ],
          [
           "2022-02-04 23:28:25"
          ],
          [
           "2022-02-04 23:33:26"
          ],
          [
           "2022-02-04 23:38:26"
          ],
          [
           "2022-02-04 23:43:26"
          ],
          [
           "2022-02-04 23:48:26"
          ],
          [
           "2022-02-04 23:53:26"
          ],
          [
           "2022-02-04 23:58:27"
          ],
          [
           "2022-02-05 00:03:27"
          ],
          [
           "2022-02-05 00:08:27"
          ],
          [
           "2022-02-05 00:13:27"
          ],
          [
           "2022-02-05 00:18:27"
          ],
          [
           "2022-02-05 00:23:27"
          ],
          [
           "2022-02-05 00:28:28"
          ],
          [
           "2022-02-05 00:33:28"
          ],
          [
           "2022-02-05 00:38:29"
          ],
          [
           "2022-02-05 00:43:29"
          ],
          [
           "2022-02-05 00:48:29"
          ],
          [
           "2022-02-05 00:53:29"
          ],
          [
           "2022-02-05 00:58:29"
          ],
          [
           "2022-02-05 01:03:29"
          ],
          [
           "2022-02-05 01:08:29"
          ],
          [
           "2022-02-05 01:13:29"
          ],
          [
           "2022-02-05 01:18:30"
          ],
          [
           "2022-02-05 01:23:30"
          ],
          [
           "2022-02-05 01:28:30"
          ],
          [
           "2022-02-05 01:33:30"
          ],
          [
           "2022-02-05 01:38:31"
          ],
          [
           "2022-02-05 01:43:31"
          ],
          [
           "2022-02-05 01:48:31"
          ],
          [
           "2022-02-05 01:53:31"
          ],
          [
           "2022-02-05 01:58:32"
          ],
          [
           "2022-02-05 02:03:32"
          ],
          [
           "2022-02-05 02:08:32"
          ],
          [
           "2022-02-05 02:13:33"
          ],
          [
           "2022-02-05 02:18:33"
          ],
          [
           "2022-02-05 02:23:34"
          ],
          [
           "2022-02-05 02:28:34"
          ],
          [
           "2022-02-05 02:33:34"
          ],
          [
           "2022-02-05 02:38:35"
          ],
          [
           "2022-02-05 02:43:36"
          ],
          [
           "2022-02-05 02:48:36"
          ],
          [
           "2022-02-05 02:53:36"
          ],
          [
           "2022-02-05 02:58:36"
          ],
          [
           "2022-02-05 03:03:36"
          ],
          [
           "2022-02-05 03:08:37"
          ],
          [
           "2022-02-05 03:13:37"
          ],
          [
           "2022-02-05 03:18:37"
          ],
          [
           "2022-02-05 03:23:38"
          ],
          [
           "2022-02-05 03:28:38"
          ],
          [
           "2022-02-05 03:33:38"
          ],
          [
           "2022-02-05 03:38:38"
          ],
          [
           "2022-02-05 03:43:39"
          ],
          [
           "2022-02-05 03:48:39"
          ],
          [
           "2022-02-05 03:53:39"
          ],
          [
           "2022-02-05 03:58:39"
          ],
          [
           "2022-02-05 04:03:40"
          ],
          [
           "2022-02-05 04:08:40"
          ],
          [
           "2022-02-05 04:13:41"
          ],
          [
           "2022-02-05 04:18:41"
          ],
          [
           "2022-02-05 04:23:41"
          ],
          [
           "2022-02-05 04:28:41"
          ],
          [
           "2022-02-05 04:33:41"
          ],
          [
           "2022-02-05 04:38:42"
          ],
          [
           "2022-02-05 04:43:42"
          ],
          [
           "2022-02-05 04:48:42"
          ],
          [
           "2022-02-05 04:53:42"
          ],
          [
           "2022-02-05 04:58:42"
          ],
          [
           "2022-02-05 05:03:43"
          ],
          [
           "2022-02-05 05:08:43"
          ],
          [
           "2022-02-05 05:13:44"
          ],
          [
           "2022-02-05 05:18:44"
          ],
          [
           "2022-02-05 05:23:45"
          ],
          [
           "2022-02-05 05:28:45"
          ],
          [
           "2022-02-05 05:33:45"
          ],
          [
           "2022-02-05 05:38:46"
          ],
          [
           "2022-02-05 05:43:46"
          ],
          [
           "2022-02-05 05:48:47"
          ],
          [
           "2022-02-05 05:53:47"
          ],
          [
           "2022-02-05 05:58:48"
          ],
          [
           "2022-02-05 06:03:48"
          ],
          [
           "2022-02-05 06:08:48"
          ],
          [
           "2022-02-05 06:13:49"
          ],
          [
           "2022-02-05 06:18:49"
          ],
          [
           "2022-02-05 06:23:49"
          ],
          [
           "2022-02-05 06:28:50"
          ],
          [
           "2022-02-05 06:33:50"
          ],
          [
           "2022-02-05 06:38:50"
          ],
          [
           "2022-02-05 06:43:50"
          ],
          [
           "2022-02-05 06:48:51"
          ],
          [
           "2022-02-05 06:53:51"
          ],
          [
           "2022-02-05 06:58:51"
          ],
          [
           "2022-02-05 07:03:51"
          ],
          [
           "2022-02-05 07:08:51"
          ],
          [
           "2022-02-05 07:13:51"
          ],
          [
           "2022-02-05 07:18:52"
          ],
          [
           "2022-02-05 07:23:52"
          ],
          [
           "2022-02-05 07:28:52"
          ],
          [
           "2022-02-05 07:33:53"
          ],
          [
           "2022-02-05 07:38:53"
          ],
          [
           "2022-02-05 07:43:53"
          ],
          [
           "2022-02-05 07:48:54"
          ],
          [
           "2022-02-05 07:53:54"
          ],
          [
           "2022-02-05 07:58:55"
          ],
          [
           "2022-02-05 08:03:55"
          ],
          [
           "2022-02-05 08:08:55"
          ],
          [
           "2022-02-05 08:13:56"
          ],
          [
           "2022-02-05 08:18:56"
          ],
          [
           "2022-02-05 08:23:56"
          ],
          [
           "2022-02-05 08:28:57"
          ],
          [
           "2022-02-05 08:33:57"
          ],
          [
           "2022-02-05 08:38:57"
          ],
          [
           "2022-02-05 08:43:58"
          ],
          [
           "2022-02-05 08:48:58"
          ],
          [
           "2022-02-05 08:53:59"
          ],
          [
           "2022-02-05 08:58:59"
          ],
          [
           "2022-02-05 09:03:59"
          ],
          [
           "2022-02-05 09:08:59"
          ],
          [
           "2022-02-05 09:13:59"
          ],
          [
           "2022-02-05 09:19:00"
          ],
          [
           "2022-02-05 09:24:00"
          ],
          [
           "2022-02-05 09:29:00"
          ],
          [
           "2022-02-05 09:34:01"
          ],
          [
           "2022-02-05 09:39:01"
          ],
          [
           "2022-02-05 09:44:01"
          ],
          [
           "2022-02-05 09:49:01"
          ],
          [
           "2022-02-05 09:54:02"
          ],
          [
           "2022-02-05 09:59:02"
          ],
          [
           "2022-02-05 10:04:02"
          ],
          [
           "2022-02-05 10:09:02"
          ],
          [
           "2022-02-05 10:14:02"
          ],
          [
           "2022-02-05 10:19:02"
          ],
          [
           "2022-02-05 10:24:03"
          ],
          [
           "2022-02-05 10:29:03"
          ],
          [
           "2022-02-05 10:34:03"
          ],
          [
           "2022-02-05 10:39:04"
          ],
          [
           "2022-02-05 10:44:04"
          ],
          [
           "2022-02-05 10:49:04"
          ],
          [
           "2022-02-05 10:54:04"
          ],
          [
           "2022-02-05 10:59:04"
          ],
          [
           "2022-02-05 11:04:05"
          ],
          [
           "2022-02-05 11:09:05"
          ],
          [
           "2022-02-05 11:14:05"
          ],
          [
           "2022-02-05 11:19:05"
          ],
          [
           "2022-02-05 11:24:05"
          ],
          [
           "2022-02-05 11:29:06"
          ],
          [
           "2022-02-05 11:34:06"
          ],
          [
           "2022-02-05 11:39:07"
          ],
          [
           "2022-02-05 11:44:07"
          ],
          [
           "2022-02-05 11:49:07"
          ],
          [
           "2022-02-05 11:54:07"
          ],
          [
           "2022-02-05 11:59:08"
          ],
          [
           "2022-02-05 12:04:08"
          ],
          [
           "2022-02-05 12:09:08"
          ],
          [
           "2022-02-05 12:14:09"
          ],
          [
           "2022-02-05 12:19:09"
          ],
          [
           "2022-02-05 12:24:10"
          ],
          [
           "2022-02-05 12:29:10"
          ],
          [
           "2022-02-05 12:34:10"
          ],
          [
           "2022-02-05 12:39:10"
          ],
          [
           "2022-02-05 12:44:11"
          ],
          [
           "2022-02-05 12:49:12"
          ],
          [
           "2022-02-05 12:54:12"
          ],
          [
           "2022-02-05 12:59:13"
          ],
          [
           "2022-02-05 13:04:13"
          ],
          [
           "2022-02-05 13:09:13"
          ],
          [
           "2022-02-05 13:14:13"
          ],
          [
           "2022-02-05 13:19:14"
          ],
          [
           "2022-02-05 13:24:14"
          ],
          [
           "2022-02-05 13:29:14"
          ],
          [
           "2022-02-05 13:34:15"
          ],
          [
           "2022-02-05 13:39:15"
          ],
          [
           "2022-02-05 13:44:16"
          ],
          [
           "2022-02-05 13:49:17"
          ],
          [
           "2022-02-05 13:54:17"
          ],
          [
           "2022-02-05 13:59:17"
          ],
          [
           "2022-02-05 14:04:17"
          ],
          [
           "2022-02-05 14:09:18"
          ],
          [
           "2022-02-05 14:14:18"
          ],
          [
           "2022-02-05 14:19:19"
          ],
          [
           "2022-02-05 14:24:19"
          ],
          [
           "2022-02-05 14:29:19"
          ],
          [
           "2022-02-05 14:34:19"
          ],
          [
           "2022-02-05 14:39:19"
          ],
          [
           "2022-02-05 14:44:20"
          ],
          [
           "2022-02-05 14:49:21"
          ],
          [
           "2022-02-05 14:54:21"
          ],
          [
           "2022-02-05 14:59:22"
          ],
          [
           "2022-02-05 15:04:22"
          ],
          [
           "2022-02-05 15:09:22"
          ],
          [
           "2022-02-05 15:14:23"
          ],
          [
           "2022-02-05 15:19:23"
          ],
          [
           "2022-02-05 15:24:23"
          ],
          [
           "2022-02-05 15:29:23"
          ],
          [
           "2022-02-05 15:34:24"
          ],
          [
           "2022-02-05 15:39:24"
          ],
          [
           "2022-02-05 15:44:25"
          ],
          [
           "2022-02-05 15:49:25"
          ],
          [
           "2022-02-05 15:54:25"
          ],
          [
           "2022-02-05 15:59:25"
          ],
          [
           "2022-02-05 16:04:25"
          ],
          [
           "2022-02-05 16:09:25"
          ],
          [
           "2022-02-05 16:14:26"
          ],
          [
           "2022-02-05 16:19:26"
          ],
          [
           "2022-02-05 16:24:27"
          ],
          [
           "2022-02-05 16:29:27"
          ],
          [
           "2022-02-05 16:34:27"
          ],
          [
           "2022-02-05 16:39:27"
          ],
          [
           "2022-02-05 16:44:28"
          ],
          [
           "2022-02-05 16:49:28"
          ],
          [
           "2022-02-05 16:54:29"
          ],
          [
           "2022-02-05 16:59:29"
          ],
          [
           "2022-02-05 17:04:30"
          ],
          [
           "2022-02-05 17:09:30"
          ],
          [
           "2022-02-05 17:14:31"
          ],
          [
           "2022-02-05 17:19:31"
          ],
          [
           "2022-02-05 17:24:31"
          ],
          [
           "2022-02-05 17:29:31"
          ],
          [
           "2022-02-05 17:34:32"
          ],
          [
           "2022-02-05 17:39:32"
          ],
          [
           "2022-02-05 17:44:32"
          ],
          [
           "2022-02-05 17:49:32"
          ],
          [
           "2022-02-05 17:54:33"
          ],
          [
           "2022-02-05 17:59:33"
          ],
          [
           "2022-02-05 18:04:33"
          ],
          [
           "2022-02-05 18:09:34"
          ],
          [
           "2022-02-05 18:14:34"
          ],
          [
           "2022-02-05 18:19:34"
          ],
          [
           "2022-02-05 18:24:35"
          ],
          [
           "2022-02-05 18:29:35"
          ],
          [
           "2022-02-05 18:34:35"
          ],
          [
           "2022-02-05 18:39:35"
          ],
          [
           "2022-02-05 18:44:35"
          ],
          [
           "2022-02-05 18:49:35"
          ],
          [
           "2022-02-05 18:54:35"
          ],
          [
           "2022-02-05 18:59:36"
          ],
          [
           "2022-02-05 19:04:37"
          ],
          [
           "2022-02-05 19:09:37"
          ],
          [
           "2022-02-05 19:14:37"
          ],
          [
           "2022-02-05 19:19:37"
          ],
          [
           "2022-02-05 19:24:37"
          ],
          [
           "2022-02-05 19:29:37"
          ],
          [
           "2022-02-05 19:34:38"
          ],
          [
           "2022-02-05 19:39:38"
          ],
          [
           "2022-02-05 19:44:38"
          ],
          [
           "2022-02-05 19:49:39"
          ],
          [
           "2022-02-05 19:54:39"
          ],
          [
           "2022-02-05 19:59:40"
          ],
          [
           "2022-02-05 20:04:40"
          ],
          [
           "2022-02-05 20:09:40"
          ],
          [
           "2022-02-05 20:14:41"
          ],
          [
           "2022-02-05 20:19:41"
          ],
          [
           "2022-02-05 20:24:41"
          ],
          [
           "2022-02-05 20:29:41"
          ],
          [
           "2022-02-05 20:34:42"
          ],
          [
           "2022-02-05 20:39:42"
          ],
          [
           "2022-02-05 20:44:42"
          ],
          [
           "2022-02-05 20:49:43"
          ],
          [
           "2022-02-05 20:54:43"
          ],
          [
           "2022-02-05 20:59:44"
          ],
          [
           "2022-02-05 21:04:44"
          ],
          [
           "2022-02-05 21:09:45"
          ],
          [
           "2022-02-05 21:14:45"
          ],
          [
           "2022-02-05 21:19:45"
          ],
          [
           "2022-02-05 21:24:45"
          ],
          [
           "2022-02-05 21:29:46"
          ],
          [
           "2022-02-05 21:34:46"
          ],
          [
           "2022-02-05 21:39:46"
          ],
          [
           "2022-02-05 21:44:47"
          ],
          [
           "2022-02-05 21:49:47"
          ],
          [
           "2022-02-05 21:54:48"
          ],
          [
           "2022-02-05 21:59:48"
          ],
          [
           "2022-02-05 22:04:48"
          ],
          [
           "2022-02-05 22:09:49"
          ],
          [
           "2022-02-05 22:14:49"
          ],
          [
           "2022-02-05 22:19:49"
          ],
          [
           "2022-02-05 22:24:50"
          ],
          [
           "2022-02-05 22:29:50"
          ],
          [
           "2022-02-05 22:34:51"
          ],
          [
           "2022-02-05 22:39:51"
          ],
          [
           "2022-02-05 22:44:51"
          ],
          [
           "2022-02-05 22:49:51"
          ],
          [
           "2022-02-05 22:54:52"
          ],
          [
           "2022-02-05 22:59:52"
          ],
          [
           "2022-02-05 23:04:52"
          ],
          [
           "2022-02-05 23:09:52"
          ],
          [
           "2022-02-05 23:14:52"
          ],
          [
           "2022-02-05 23:19:53"
          ],
          [
           "2022-02-05 23:24:54"
          ],
          [
           "2022-02-05 23:29:54"
          ],
          [
           "2022-02-05 23:34:54"
          ],
          [
           "2022-02-05 23:39:55"
          ],
          [
           "2022-02-05 23:44:55"
          ],
          [
           "2022-02-05 23:49:55"
          ],
          [
           "2022-02-05 23:54:56"
          ],
          [
           "2022-02-05 23:59:56"
          ],
          [
           "2022-02-06 00:04:57"
          ],
          [
           "2022-02-06 00:09:57"
          ],
          [
           "2022-02-06 00:14:58"
          ],
          [
           "2022-02-06 00:19:58"
          ],
          [
           "2022-02-06 00:24:58"
          ],
          [
           "2022-02-06 00:29:58"
          ],
          [
           "2022-02-06 00:34:58"
          ],
          [
           "2022-02-06 00:39:59"
          ],
          [
           "2022-02-06 00:44:59"
          ],
          [
           "2022-02-06 00:49:59"
          ],
          [
           "2022-02-06 00:55:00"
          ],
          [
           "2022-02-06 01:00:00"
          ],
          [
           "2022-02-06 01:05:00"
          ],
          [
           "2022-02-06 01:10:00"
          ],
          [
           "2022-02-06 01:15:00"
          ],
          [
           "2022-02-06 01:20:00"
          ],
          [
           "2022-02-06 01:25:00"
          ],
          [
           "2022-02-06 01:30:01"
          ],
          [
           "2022-02-06 01:35:01"
          ],
          [
           "2022-02-06 01:40:02"
          ],
          [
           "2022-02-06 01:45:02"
          ],
          [
           "2022-02-06 01:50:03"
          ],
          [
           "2022-02-06 01:55:02"
          ],
          [
           "2022-02-06 02:00:02"
          ],
          [
           "2022-02-06 02:05:03"
          ],
          [
           "2022-02-06 02:10:03"
          ],
          [
           "2022-02-06 02:15:03"
          ],
          [
           "2022-02-06 02:20:03"
          ],
          [
           "2022-02-06 02:25:04"
          ],
          [
           "2022-02-06 02:30:04"
          ],
          [
           "2022-02-06 02:35:05"
          ],
          [
           "2022-02-06 02:40:05"
          ],
          [
           "2022-02-06 02:45:05"
          ],
          [
           "2022-02-06 02:50:05"
          ],
          [
           "2022-02-06 02:55:06"
          ],
          [
           "2022-02-06 03:00:06"
          ],
          [
           "2022-02-06 03:05:06"
          ],
          [
           "2022-02-06 03:10:07"
          ],
          [
           "2022-02-06 03:15:07"
          ],
          [
           "2022-02-06 03:20:07"
          ],
          [
           "2022-02-06 03:25:07"
          ],
          [
           "2022-02-06 03:30:08"
          ],
          [
           "2022-02-06 03:35:08"
          ],
          [
           "2022-02-06 03:40:08"
          ],
          [
           "2022-02-06 03:45:09"
          ],
          [
           "2022-02-06 03:50:09"
          ],
          [
           "2022-02-06 03:55:09"
          ],
          [
           "2022-02-06 04:00:09"
          ],
          [
           "2022-02-06 04:05:09"
          ],
          [
           "2022-02-06 04:10:10"
          ],
          [
           "2022-02-06 04:15:10"
          ],
          [
           "2022-02-06 04:20:10"
          ],
          [
           "2022-02-06 04:25:11"
          ],
          [
           "2022-02-06 04:30:11"
          ],
          [
           "2022-02-06 04:35:11"
          ],
          [
           "2022-02-06 04:40:12"
          ],
          [
           "2022-02-06 04:45:12"
          ],
          [
           "2022-02-06 04:50:12"
          ],
          [
           "2022-02-06 04:55:12"
          ],
          [
           "2022-02-06 05:00:12"
          ],
          [
           "2022-02-06 05:05:13"
          ],
          [
           "2022-02-06 05:10:13"
          ],
          [
           "2022-02-06 05:15:14"
          ],
          [
           "2022-02-06 05:20:14"
          ],
          [
           "2022-02-06 05:25:15"
          ],
          [
           "2022-02-06 05:30:15"
          ],
          [
           "2022-02-06 05:35:15"
          ],
          [
           "2022-02-06 05:40:16"
          ],
          [
           "2022-02-06 05:45:16"
          ],
          [
           "2022-02-06 05:50:16"
          ],
          [
           "2022-02-06 05:55:17"
          ],
          [
           "2022-02-06 06:00:17"
          ],
          [
           "2022-02-06 06:05:18"
          ],
          [
           "2022-02-06 06:10:19"
          ],
          [
           "2022-02-06 06:15:19"
          ],
          [
           "2022-02-06 06:20:19"
          ],
          [
           "2022-02-06 06:25:20"
          ],
          [
           "2022-02-06 06:30:20"
          ],
          [
           "2022-02-06 06:35:20"
          ],
          [
           "2022-02-06 06:40:21"
          ],
          [
           "2022-02-06 06:45:21"
          ],
          [
           "2022-02-06 06:50:21"
          ],
          [
           "2022-02-06 06:55:21"
          ],
          [
           "2022-02-06 07:00:21"
          ],
          [
           "2022-02-06 07:05:21"
          ],
          [
           "2022-02-06 07:10:22"
          ],
          [
           "2022-02-06 07:15:22"
          ],
          [
           "2022-02-06 07:20:23"
          ],
          [
           "2022-02-06 07:25:23"
          ],
          [
           "2022-02-06 07:30:24"
          ],
          [
           "2022-02-06 07:35:25"
          ],
          [
           "2022-02-06 07:40:26"
          ],
          [
           "2022-02-06 07:45:26"
          ],
          [
           "2022-02-06 07:50:26"
          ],
          [
           "2022-02-06 07:55:26"
          ],
          [
           "2022-02-06 08:00:26"
          ],
          [
           "2022-02-06 08:05:27"
          ],
          [
           "2022-02-06 08:10:28"
          ],
          [
           "2022-02-06 08:15:27"
          ],
          [
           "2022-02-06 08:20:28"
          ],
          [
           "2022-02-06 08:25:28"
          ],
          [
           "2022-02-06 08:30:28"
          ],
          [
           "2022-02-06 08:35:29"
          ],
          [
           "2022-02-06 08:40:29"
          ],
          [
           "2022-02-06 08:45:30"
          ],
          [
           "2022-02-06 08:50:30"
          ],
          [
           "2022-02-06 08:55:30"
          ],
          [
           "2022-02-06 09:00:31"
          ],
          [
           "2022-02-06 09:05:31"
          ],
          [
           "2022-02-06 09:10:31"
          ],
          [
           "2022-02-06 09:15:32"
          ],
          [
           "2022-02-06 09:20:32"
          ],
          [
           "2022-02-06 09:25:33"
          ],
          [
           "2022-02-06 09:30:33"
          ],
          [
           "2022-02-06 09:35:33"
          ],
          [
           "2022-02-06 09:40:33"
          ],
          [
           "2022-02-06 09:45:34"
          ],
          [
           "2022-02-06 09:50:34"
          ],
          [
           "2022-02-06 09:55:35"
          ],
          [
           "2022-02-06 10:00:35"
          ],
          [
           "2022-02-06 10:05:35"
          ],
          [
           "2022-02-06 10:10:36"
          ],
          [
           "2022-02-06 10:15:37"
          ],
          [
           "2022-02-06 10:20:37"
          ],
          [
           "2022-02-06 10:25:37"
          ],
          [
           "2022-02-06 10:30:37"
          ],
          [
           "2022-02-06 10:35:38"
          ],
          [
           "2022-02-06 10:40:38"
          ],
          [
           "2022-02-06 10:45:38"
          ],
          [
           "2022-02-06 10:50:38"
          ],
          [
           "2022-02-06 10:55:39"
          ],
          [
           "2022-02-06 11:00:39"
          ],
          [
           "2022-02-06 11:05:40"
          ],
          [
           "2022-02-06 11:10:40"
          ],
          [
           "2022-02-06 11:15:41"
          ],
          [
           "2022-02-06 11:20:41"
          ],
          [
           "2022-02-06 11:25:41"
          ],
          [
           "2022-02-06 11:30:42"
          ],
          [
           "2022-02-06 11:35:42"
          ],
          [
           "2022-02-06 11:40:43"
          ],
          [
           "2022-02-06 11:45:43"
          ],
          [
           "2022-02-06 11:50:43"
          ],
          [
           "2022-02-06 11:55:44"
          ],
          [
           "2022-02-06 12:00:44"
          ],
          [
           "2022-02-06 12:05:44"
          ],
          [
           "2022-02-06 12:10:45"
          ],
          [
           "2022-02-06 12:15:45"
          ],
          [
           "2022-02-06 12:20:45"
          ],
          [
           "2022-02-06 12:25:46"
          ],
          [
           "2022-02-06 12:30:47"
          ],
          [
           "2022-02-06 12:35:47"
          ],
          [
           "2022-02-06 12:40:47"
          ],
          [
           "2022-02-06 12:45:47"
          ],
          [
           "2022-02-06 12:50:48"
          ],
          [
           "2022-02-06 12:55:48"
          ],
          [
           "2022-02-06 13:00:49"
          ],
          [
           "2022-02-06 13:05:49"
          ],
          [
           "2022-02-06 13:10:50"
          ],
          [
           "2022-02-06 13:15:50"
          ],
          [
           "2022-02-06 13:20:50"
          ],
          [
           "2022-02-06 13:25:50"
          ],
          [
           "2022-02-06 13:30:50"
          ],
          [
           "2022-02-06 13:35:51"
          ],
          [
           "2022-02-06 13:40:51"
          ],
          [
           "2022-02-06 13:45:52"
          ],
          [
           "2022-02-06 13:50:51"
          ],
          [
           "2022-02-06 13:55:52"
          ],
          [
           "2022-02-06 14:00:52"
          ],
          [
           "2022-02-06 14:05:52"
          ],
          [
           "2022-02-06 14:10:53"
          ],
          [
           "2022-02-06 14:15:53"
          ],
          [
           "2022-02-06 14:20:54"
          ],
          [
           "2022-02-06 14:25:54"
          ],
          [
           "2022-02-06 14:30:55"
          ],
          [
           "2022-02-06 14:35:55"
          ],
          [
           "2022-02-06 14:40:55"
          ],
          [
           "2022-02-06 14:45:56"
          ],
          [
           "2022-02-06 14:50:56"
          ],
          [
           "2022-02-06 14:55:56"
          ],
          [
           "2022-02-06 15:00:57"
          ],
          [
           "2022-02-06 15:05:57"
          ],
          [
           "2022-02-06 15:10:58"
          ],
          [
           "2022-02-06 15:15:58"
          ],
          [
           "2022-02-06 15:20:58"
          ],
          [
           "2022-02-06 15:25:59"
          ],
          [
           "2022-02-06 15:30:59"
          ],
          [
           "2022-02-06 15:35:59"
          ],
          [
           "2022-02-06 15:40:59"
          ],
          [
           "2022-02-06 15:46:00"
          ],
          [
           "2022-02-06 15:51:00"
          ],
          [
           "2022-02-06 15:56:01"
          ],
          [
           "2022-02-06 16:01:01"
          ],
          [
           "2022-02-06 16:06:01"
          ],
          [
           "2022-02-06 16:11:02"
          ],
          [
           "2022-02-06 16:16:02"
          ],
          [
           "2022-02-06 16:21:03"
          ],
          [
           "2022-02-06 16:26:03"
          ],
          [
           "2022-02-06 16:31:03"
          ],
          [
           "2022-02-06 16:36:03"
          ],
          [
           "2022-02-06 16:41:04"
          ],
          [
           "2022-02-06 16:46:05"
          ],
          [
           "2022-02-06 16:51:05"
          ],
          [
           "2022-02-06 16:56:05"
          ],
          [
           "2022-02-06 17:01:05"
          ],
          [
           "2022-02-06 17:06:05"
          ],
          [
           "2022-02-06 17:11:06"
          ],
          [
           "2022-02-06 17:16:07"
          ],
          [
           "2022-02-06 17:21:07"
          ],
          [
           "2022-02-06 17:26:07"
          ],
          [
           "2022-02-06 17:31:08"
          ],
          [
           "2022-02-06 17:36:08"
          ],
          [
           "2022-02-06 17:41:08"
          ],
          [
           "2022-02-06 17:46:09"
          ],
          [
           "2022-02-06 17:51:09"
          ],
          [
           "2022-02-06 17:56:10"
          ],
          [
           "2022-02-06 18:01:10"
          ],
          [
           "2022-02-06 18:06:11"
          ],
          [
           "2022-02-06 18:11:11"
          ],
          [
           "2022-02-06 18:16:12"
          ],
          [
           "2022-02-06 18:21:12"
          ],
          [
           "2022-02-06 18:26:13"
          ],
          [
           "2022-02-06 18:31:13"
          ],
          [
           "2022-02-06 18:36:13"
          ],
          [
           "2022-02-06 18:41:14"
          ],
          [
           "2022-02-06 18:46:14"
          ],
          [
           "2022-02-06 18:51:14"
          ],
          [
           "2022-02-06 18:56:15"
          ],
          [
           "2022-02-06 19:01:15"
          ],
          [
           "2022-02-06 19:06:15"
          ],
          [
           "2022-02-06 19:11:15"
          ],
          [
           "2022-02-06 19:16:16"
          ],
          [
           "2022-02-06 19:21:16"
          ],
          [
           "2022-02-06 19:26:17"
          ],
          [
           "2022-02-06 19:31:17"
          ],
          [
           "2022-02-06 19:36:18"
          ],
          [
           "2022-02-06 19:41:18"
          ],
          [
           "2022-02-06 19:46:18"
          ],
          [
           "2022-02-06 19:51:19"
          ],
          [
           "2022-02-06 19:56:19"
          ],
          [
           "2022-02-06 20:01:20"
          ],
          [
           "2022-02-06 20:06:20"
          ],
          [
           "2022-02-06 20:11:21"
          ],
          [
           "2022-02-06 20:16:21"
          ],
          [
           "2022-02-06 20:21:21"
          ],
          [
           "2022-02-06 20:26:21"
          ],
          [
           "2022-02-06 20:31:22"
          ],
          [
           "2022-02-06 20:36:22"
          ],
          [
           "2022-02-06 20:41:23"
          ],
          [
           "2022-02-06 20:46:23"
          ],
          [
           "2022-02-06 20:51:23"
          ],
          [
           "2022-02-06 20:56:23"
          ],
          [
           "2022-02-06 21:01:24"
          ],
          [
           "2022-02-06 21:06:25"
          ],
          [
           "2022-02-06 21:11:25"
          ],
          [
           "2022-02-06 21:16:25"
          ],
          [
           "2022-02-06 21:21:25"
          ],
          [
           "2022-02-06 21:26:25"
          ],
          [
           "2022-02-06 21:31:26"
          ],
          [
           "2022-02-06 21:36:26"
          ],
          [
           "2022-02-06 21:41:26"
          ],
          [
           "2022-02-06 21:46:27"
          ],
          [
           "2022-02-06 21:51:27"
          ],
          [
           "2022-02-06 21:56:28"
          ],
          [
           "2022-02-06 22:01:28"
          ],
          [
           "2022-02-06 22:06:28"
          ],
          [
           "2022-02-06 22:11:29"
          ],
          [
           "2022-02-06 22:16:29"
          ],
          [
           "2022-02-06 22:21:30"
          ],
          [
           "2022-02-06 22:26:30"
          ],
          [
           "2022-02-06 22:31:31"
          ],
          [
           "2022-02-06 22:36:31"
          ],
          [
           "2022-02-06 22:41:31"
          ],
          [
           "2022-02-06 22:46:32"
          ],
          [
           "2022-02-06 22:51:33"
          ],
          [
           "2022-02-06 22:56:33"
          ],
          [
           "2022-02-06 23:01:33"
          ],
          [
           "2022-02-06 23:06:34"
          ],
          [
           "2022-02-06 23:11:34"
          ],
          [
           "2022-02-06 23:16:35"
          ],
          [
           "2022-02-06 23:21:36"
          ],
          [
           "2022-02-06 23:26:36"
          ],
          [
           "2022-02-06 23:31:36"
          ],
          [
           "2022-02-06 23:36:36"
          ],
          [
           "2022-02-06 23:41:36"
          ],
          [
           "2022-02-06 23:46:37"
          ],
          [
           "2022-02-06 23:51:37"
          ],
          [
           "2022-02-06 23:56:37"
          ],
          [
           "2022-02-07 00:01:38"
          ],
          [
           "2022-02-07 00:06:38"
          ],
          [
           "2022-02-07 00:11:39"
          ],
          [
           "2022-02-07 00:16:39"
          ],
          [
           "2022-02-07 00:21:40"
          ],
          [
           "2022-02-07 00:26:40"
          ],
          [
           "2022-02-07 00:31:41"
          ],
          [
           "2022-02-07 00:36:41"
          ],
          [
           "2022-02-07 00:41:42"
          ],
          [
           "2022-02-07 00:46:42"
          ],
          [
           "2022-02-07 00:51:43"
          ],
          [
           "2022-02-07 00:56:43"
          ],
          [
           "2022-02-07 01:01:44"
          ],
          [
           "2022-02-07 01:06:44"
          ],
          [
           "2022-02-07 01:11:45"
          ],
          [
           "2022-02-07 01:16:45"
          ],
          [
           "2022-02-07 01:21:45"
          ],
          [
           "2022-02-07 01:26:45"
          ],
          [
           "2022-02-07 01:31:46"
          ],
          [
           "2022-02-07 01:36:46"
          ],
          [
           "2022-02-07 01:41:46"
          ],
          [
           "2022-02-07 01:46:47"
          ],
          [
           "2022-02-07 01:51:47"
          ],
          [
           "2022-02-07 01:56:47"
          ],
          [
           "2022-02-07 02:01:48"
          ],
          [
           "2022-02-07 02:06:48"
          ],
          [
           "2022-02-07 02:11:48"
          ],
          [
           "2022-02-07 02:16:49"
          ],
          [
           "2022-02-07 02:21:49"
          ],
          [
           "2022-02-07 02:26:50"
          ],
          [
           "2022-02-07 02:31:50"
          ],
          [
           "2022-02-07 02:36:50"
          ],
          [
           "2022-02-07 02:41:50"
          ],
          [
           "2022-02-07 02:46:51"
          ],
          [
           "2022-02-07 02:51:51"
          ],
          [
           "2022-02-07 02:56:52"
          ],
          [
           "2022-02-07 03:01:52"
          ],
          [
           "2022-02-07 03:06:53"
          ],
          [
           "2022-02-07 03:11:53"
          ],
          [
           "2022-02-07 03:16:54"
          ],
          [
           "2022-02-07 03:21:54"
          ],
          [
           "2022-02-07 03:26:54"
          ],
          [
           "2022-02-07 03:31:55"
          ],
          [
           "2022-02-07 03:36:55"
          ],
          [
           "2022-02-07 03:41:55"
          ],
          [
           "2022-02-07 03:46:56"
          ],
          [
           "2022-02-07 03:51:55"
          ],
          [
           "2022-02-07 03:56:56"
          ],
          [
           "2022-02-07 04:01:56"
          ],
          [
           "2022-02-07 04:06:56"
          ],
          [
           "2022-02-07 04:11:57"
          ],
          [
           "2022-02-07 04:16:57"
          ],
          [
           "2022-02-07 04:21:58"
          ],
          [
           "2022-02-07 04:26:58"
          ],
          [
           "2022-02-07 04:31:58"
          ],
          [
           "2022-02-07 04:36:59"
          ],
          [
           "2022-02-07 04:41:59"
          ],
          [
           "2022-02-07 04:47:00"
          ],
          [
           "2022-02-07 04:52:00"
          ],
          [
           "2022-02-07 04:57:01"
          ],
          [
           "2022-02-07 05:02:01"
          ],
          [
           "2022-02-07 05:07:01"
          ],
          [
           "2022-02-07 05:12:02"
          ],
          [
           "2022-02-07 05:17:02"
          ],
          [
           "2022-02-07 05:22:03"
          ],
          [
           "2022-02-07 05:27:03"
          ],
          [
           "2022-02-07 05:32:03"
          ],
          [
           "2022-02-07 05:37:04"
          ],
          [
           "2022-02-07 05:42:04"
          ],
          [
           "2022-02-07 05:47:04"
          ],
          [
           "2022-02-07 05:52:05"
          ],
          [
           "2022-02-07 05:57:05"
          ],
          [
           "2022-02-07 06:02:05"
          ],
          [
           "2022-02-07 06:07:05"
          ],
          [
           "2022-02-07 06:12:06"
          ],
          [
           "2022-02-07 06:17:06"
          ],
          [
           "2022-02-07 06:22:07"
          ],
          [
           "2022-02-07 06:27:07"
          ],
          [
           "2022-02-07 06:32:07"
          ],
          [
           "2022-02-07 06:37:08"
          ],
          [
           "2022-02-07 06:42:08"
          ],
          [
           "2022-02-07 06:47:09"
          ],
          [
           "2022-02-07 06:52:09"
          ],
          [
           "2022-02-07 06:57:09"
          ],
          [
           "2022-02-07 07:02:09"
          ],
          [
           "2022-02-07 07:07:10"
          ],
          [
           "2022-02-07 07:12:10"
          ],
          [
           "2022-02-07 07:17:10"
          ],
          [
           "2022-02-07 07:22:11"
          ],
          [
           "2022-02-07 07:27:11"
          ],
          [
           "2022-02-07 07:32:12"
          ],
          [
           "2022-02-07 07:37:12"
          ],
          [
           "2022-02-07 07:42:12"
          ],
          [
           "2022-02-07 07:47:12"
          ],
          [
           "2022-02-07 07:52:12"
          ],
          [
           "2022-02-07 07:57:13"
          ],
          [
           "2022-02-07 08:02:13"
          ],
          [
           "2022-02-07 08:07:13"
          ],
          [
           "2022-02-07 08:12:13"
          ],
          [
           "2022-02-07 08:17:13"
          ],
          [
           "2022-02-07 08:22:13"
          ],
          [
           "2022-02-07 08:27:14"
          ],
          [
           "2022-02-07 08:32:14"
          ],
          [
           "2022-02-07 08:37:15"
          ],
          [
           "2022-02-07 08:42:15"
          ],
          [
           "2022-02-07 08:47:15"
          ],
          [
           "2022-02-07 08:52:16"
          ],
          [
           "2022-02-07 08:57:16"
          ],
          [
           "2022-02-07 09:02:17"
          ],
          [
           "2022-02-07 09:07:17"
          ],
          [
           "2022-02-07 09:12:17"
          ],
          [
           "2022-02-07 09:17:18"
          ],
          [
           "2022-02-07 09:22:18"
          ],
          [
           "2022-02-07 09:27:18"
          ],
          [
           "2022-02-07 09:32:19"
          ],
          [
           "2022-02-07 09:37:19"
          ],
          [
           "2022-02-07 09:42:20"
          ],
          [
           "2022-02-07 09:47:20"
          ],
          [
           "2022-02-07 09:52:20"
          ],
          [
           "2022-02-07 09:57:21"
          ],
          [
           "2022-02-07 10:02:21"
          ],
          [
           "2022-02-07 10:07:22"
          ],
          [
           "2022-02-07 10:12:22"
          ],
          [
           "2022-02-07 10:17:23"
          ],
          [
           "2022-02-07 10:22:23"
          ],
          [
           "2022-02-07 10:27:24"
          ],
          [
           "2022-02-07 10:32:24"
          ],
          [
           "2022-02-07 10:37:24"
          ],
          [
           "2022-02-07 10:42:24"
          ],
          [
           "2022-02-07 10:47:24"
          ],
          [
           "2022-02-07 10:52:25"
          ],
          [
           "2022-02-07 10:57:26"
          ],
          [
           "2022-02-07 11:02:26"
          ],
          [
           "2022-02-07 11:07:27"
          ],
          [
           "2022-02-07 11:12:27"
          ],
          [
           "2022-02-07 11:17:27"
          ],
          [
           "2022-02-07 11:22:27"
          ],
          [
           "2022-02-07 11:27:28"
          ],
          [
           "2022-02-07 11:32:28"
          ],
          [
           "2022-02-07 11:37:28"
          ],
          [
           "2022-02-07 11:42:29"
          ],
          [
           "2022-02-07 11:47:29"
          ],
          [
           "2022-02-07 11:52:29"
          ],
          [
           "2022-02-07 11:57:30"
          ],
          [
           "2022-02-07 12:02:30"
          ],
          [
           "2022-02-07 12:07:30"
          ],
          [
           "2022-02-07 12:12:31"
          ],
          [
           "2022-02-07 12:17:31"
          ],
          [
           "2022-02-07 12:22:31"
          ],
          [
           "2022-02-07 12:27:32"
          ],
          [
           "2022-02-07 12:32:32"
          ],
          [
           "2022-02-07 12:37:32"
          ],
          [
           "2022-02-07 12:42:33"
          ],
          [
           "2022-02-07 12:47:33"
          ],
          [
           "2022-02-07 12:52:33"
          ],
          [
           "2022-02-07 12:57:33"
          ],
          [
           "2022-02-07 13:02:34"
          ],
          [
           "2022-02-07 13:07:34"
          ],
          [
           "2022-02-07 13:12:34"
          ],
          [
           "2022-02-07 13:17:34"
          ],
          [
           "2022-02-07 13:22:34"
          ],
          [
           "2022-02-07 13:27:35"
          ],
          [
           "2022-02-07 13:32:35"
          ],
          [
           "2022-02-07 13:37:36"
          ],
          [
           "2022-02-07 13:42:36"
          ],
          [
           "2022-02-07 13:47:37"
          ],
          [
           "2022-02-07 13:52:37"
          ],
          [
           "2022-02-07 13:57:38"
          ],
          [
           "2022-02-07 14:02:38"
          ],
          [
           "2022-02-07 14:07:39"
          ],
          [
           "2022-02-07 14:12:39"
          ],
          [
           "2022-02-07 14:17:40"
          ],
          [
           "2022-02-07 14:22:41"
          ],
          [
           "2022-02-07 14:27:41"
          ],
          [
           "2022-02-07 14:32:41"
          ],
          [
           "2022-02-07 14:37:42"
          ],
          [
           "2022-02-07 14:42:42"
          ],
          [
           "2022-02-07 14:47:42"
          ],
          [
           "2022-02-07 14:52:42"
          ],
          [
           "2022-02-07 14:57:43"
          ],
          [
           "2022-02-07 15:02:44"
          ],
          [
           "2022-02-07 15:07:44"
          ],
          [
           "2022-02-07 15:12:44"
          ],
          [
           "2022-02-07 15:17:44"
          ],
          [
           "2022-02-07 15:22:45"
          ],
          [
           "2022-02-07 15:27:45"
          ],
          [
           "2022-02-07 15:32:45"
          ],
          [
           "2022-02-07 15:37:46"
          ],
          [
           "2022-02-07 15:42:46"
          ],
          [
           "2022-02-07 15:47:47"
          ],
          [
           "2022-02-07 15:52:47"
          ],
          [
           "2022-02-07 15:57:48"
          ],
          [
           "2022-02-07 16:02:48"
          ],
          [
           "2022-02-07 16:07:49"
          ],
          [
           "2022-02-07 16:12:49"
          ],
          [
           "2022-02-07 16:17:49"
          ],
          [
           "2022-02-07 16:22:50"
          ],
          [
           "2022-02-07 16:27:50"
          ],
          [
           "2022-02-07 16:32:51"
          ],
          [
           "2022-02-07 16:37:51"
          ],
          [
           "2022-02-07 16:42:51"
          ],
          [
           "2022-02-07 16:47:51"
          ],
          [
           "2022-02-07 16:52:51"
          ],
          [
           "2022-02-07 16:57:52"
          ],
          [
           "2022-02-07 17:02:52"
          ],
          [
           "2022-02-07 17:07:53"
          ],
          [
           "2022-02-07 17:12:53"
          ],
          [
           "2022-02-07 17:17:53"
          ],
          [
           "2022-02-07 17:22:53"
          ],
          [
           "2022-02-07 17:27:54"
          ],
          [
           "2022-02-07 17:32:54"
          ],
          [
           "2022-02-07 17:37:54"
          ],
          [
           "2022-02-07 17:42:55"
          ],
          [
           "2022-02-07 17:47:55"
          ],
          [
           "2022-02-07 17:52:56"
          ],
          [
           "2022-02-07 17:57:56"
          ],
          [
           "2022-02-07 18:02:56"
          ],
          [
           "2022-02-07 18:07:57"
          ],
          [
           "2022-02-07 18:12:57"
          ],
          [
           "2022-02-07 18:17:57"
          ],
          [
           "2022-02-07 18:22:57"
          ],
          [
           "2022-02-07 18:27:58"
          ],
          [
           "2022-02-07 18:32:58"
          ],
          [
           "2022-02-07 18:37:59"
          ],
          [
           "2022-02-07 18:42:59"
          ],
          [
           "2022-02-07 18:47:59"
          ],
          [
           "2022-02-07 18:53:00"
          ],
          [
           "2022-02-07 18:58:01"
          ],
          [
           "2022-02-07 19:03:01"
          ],
          [
           "2022-02-07 19:08:01"
          ],
          [
           "2022-02-07 19:13:02"
          ],
          [
           "2022-02-07 19:18:02"
          ],
          [
           "2022-02-07 19:23:02"
          ],
          [
           "2022-02-07 19:28:03"
          ],
          [
           "2022-02-07 19:33:04"
          ],
          [
           "2022-02-07 19:38:04"
          ],
          [
           "2022-02-07 19:43:04"
          ],
          [
           "2022-02-07 19:48:05"
          ],
          [
           "2022-02-07 19:53:05"
          ],
          [
           "2022-02-07 19:58:05"
          ],
          [
           "2022-02-07 20:03:06"
          ],
          [
           "2022-02-07 20:08:06"
          ],
          [
           "2022-02-07 20:13:06"
          ],
          [
           "2022-02-07 20:18:06"
          ],
          [
           "2022-02-07 20:23:06"
          ],
          [
           "2022-02-07 20:28:07"
          ],
          [
           "2022-02-07 20:33:07"
          ],
          [
           "2022-02-07 20:38:08"
          ],
          [
           "2022-02-07 20:43:08"
          ],
          [
           "2022-02-07 20:48:08"
          ],
          [
           "2022-02-07 20:53:08"
          ],
          [
           "2022-02-07 20:58:09"
          ],
          [
           "2022-02-07 21:03:09"
          ],
          [
           "2022-02-07 21:08:09"
          ],
          [
           "2022-02-07 21:13:10"
          ],
          [
           "2022-02-07 21:18:10"
          ],
          [
           "2022-02-07 21:23:10"
          ],
          [
           "2022-02-07 21:28:11"
          ],
          [
           "2022-02-07 21:33:12"
          ],
          [
           "2022-02-07 21:38:12"
          ],
          [
           "2022-02-07 21:43:13"
          ],
          [
           "2022-02-07 21:48:13"
          ],
          [
           "2022-02-07 21:53:13"
          ],
          [
           "2022-02-07 21:58:14"
          ],
          [
           "2022-02-07 22:03:14"
          ],
          [
           "2022-02-07 22:08:15"
          ],
          [
           "2022-02-07 22:13:16"
          ],
          [
           "2022-02-07 22:18:16"
          ],
          [
           "2022-02-07 22:23:17"
          ],
          [
           "2022-02-07 22:28:17"
          ],
          [
           "2022-02-07 22:33:18"
          ],
          [
           "2022-02-07 22:38:18"
          ],
          [
           "2022-02-07 22:43:19"
          ],
          [
           "2022-02-07 22:48:19"
          ],
          [
           "2022-02-07 22:53:19"
          ],
          [
           "2022-02-07 22:58:20"
          ],
          [
           "2022-02-07 23:03:20"
          ],
          [
           "2022-02-07 23:08:20"
          ],
          [
           "2022-02-07 23:13:21"
          ],
          [
           "2022-02-07 23:18:21"
          ],
          [
           "2022-02-07 23:23:21"
          ],
          [
           "2022-02-07 23:28:22"
          ],
          [
           "2022-02-07 23:33:23"
          ],
          [
           "2022-02-07 23:38:23"
          ],
          [
           "2022-02-07 23:43:24"
          ],
          [
           "2022-02-07 23:48:24"
          ],
          [
           "2022-02-07 23:53:24"
          ],
          [
           "2022-02-07 23:58:25"
          ],
          [
           "2022-02-08 00:03:25"
          ],
          [
           "2022-02-08 00:08:25"
          ],
          [
           "2022-02-08 00:13:25"
          ],
          [
           "2022-02-08 00:18:26"
          ],
          [
           "2022-02-08 00:23:26"
          ],
          [
           "2022-02-08 00:28:27"
          ],
          [
           "2022-02-08 00:33:27"
          ],
          [
           "2022-02-08 00:38:28"
          ],
          [
           "2022-02-08 00:43:28"
          ],
          [
           "2022-02-08 00:48:28"
          ],
          [
           "2022-02-08 00:53:28"
          ],
          [
           "2022-02-08 00:58:29"
          ],
          [
           "2022-02-08 01:03:29"
          ],
          [
           "2022-02-08 01:08:30"
          ],
          [
           "2022-02-08 01:13:30"
          ],
          [
           "2022-02-08 01:18:31"
          ],
          [
           "2022-02-08 01:23:31"
          ],
          [
           "2022-02-08 01:28:31"
          ],
          [
           "2022-02-08 01:33:32"
          ],
          [
           "2022-02-08 01:38:32"
          ],
          [
           "2022-02-08 01:43:32"
          ],
          [
           "2022-02-08 01:48:33"
          ],
          [
           "2022-02-08 01:53:33"
          ],
          [
           "2022-02-08 01:58:33"
          ],
          [
           "2022-02-08 02:03:34"
          ],
          [
           "2022-02-08 02:08:34"
          ],
          [
           "2022-02-08 02:13:35"
          ],
          [
           "2022-02-08 02:18:35"
          ],
          [
           "2022-02-08 02:23:35"
          ],
          [
           "2022-02-08 02:28:36"
          ],
          [
           "2022-02-08 02:33:36"
          ],
          [
           "2022-02-08 02:38:36"
          ],
          [
           "2022-02-08 02:43:36"
          ],
          [
           "2022-02-08 02:48:37"
          ],
          [
           "2022-02-08 02:53:37"
          ],
          [
           "2022-02-08 02:58:38"
          ],
          [
           "2022-02-08 03:03:38"
          ],
          [
           "2022-02-08 03:08:38"
          ],
          [
           "2022-02-08 03:13:39"
          ],
          [
           "2022-02-08 03:18:39"
          ],
          [
           "2022-02-08 03:23:39"
          ],
          [
           "2022-02-08 03:28:40"
          ],
          [
           "2022-02-08 03:33:40"
          ],
          [
           "2022-02-08 03:38:40"
          ],
          [
           "2022-02-08 03:43:41"
          ],
          [
           "2022-02-08 03:48:41"
          ],
          [
           "2022-02-08 03:53:41"
          ],
          [
           "2022-02-08 03:58:41"
          ],
          [
           "2022-02-08 04:03:41"
          ],
          [
           "2022-02-08 04:08:42"
          ],
          [
           "2022-02-08 04:13:42"
          ],
          [
           "2022-02-08 04:18:43"
          ],
          [
           "2022-02-08 04:23:43"
          ],
          [
           "2022-02-08 04:28:43"
          ],
          [
           "2022-02-08 04:33:43"
          ],
          [
           "2022-02-08 04:38:43"
          ],
          [
           "2022-02-08 04:43:43"
          ],
          [
           "2022-02-08 04:48:44"
          ],
          [
           "2022-02-08 04:53:44"
          ],
          [
           "2022-02-08 04:58:44"
          ],
          [
           "2022-02-08 05:03:45"
          ],
          [
           "2022-02-08 05:08:44"
          ],
          [
           "2022-02-08 05:13:45"
          ],
          [
           "2022-02-08 05:18:46"
          ],
          [
           "2022-02-08 05:23:47"
          ],
          [
           "2022-02-08 05:28:47"
          ],
          [
           "2022-02-08 05:33:47"
          ],
          [
           "2022-02-08 05:38:47"
          ],
          [
           "2022-02-08 05:43:47"
          ],
          [
           "2022-02-08 05:48:48"
          ],
          [
           "2022-02-08 05:53:48"
          ],
          [
           "2022-02-08 05:58:49"
          ],
          [
           "2022-02-08 06:03:49"
          ],
          [
           "2022-02-08 06:08:49"
          ],
          [
           "2022-02-08 06:13:49"
          ],
          [
           "2022-02-08 06:18:49"
          ],
          [
           "2022-02-08 06:23:50"
          ],
          [
           "2022-02-08 06:28:50"
          ],
          [
           "2022-02-08 06:33:50"
          ],
          [
           "2022-02-08 06:38:51"
          ],
          [
           "2022-02-08 06:43:51"
          ],
          [
           "2022-02-08 06:48:51"
          ],
          [
           "2022-02-08 06:53:51"
          ],
          [
           "2022-02-08 06:58:52"
          ],
          [
           "2022-02-08 07:03:52"
          ],
          [
           "2022-02-08 07:08:52"
          ],
          [
           "2022-02-08 07:13:53"
          ],
          [
           "2022-02-08 07:18:53"
          ],
          [
           "2022-02-08 07:23:54"
          ],
          [
           "2022-02-08 07:28:54"
          ],
          [
           "2022-02-08 07:33:54"
          ],
          [
           "2022-02-08 07:38:55"
          ],
          [
           "2022-02-08 07:43:55"
          ],
          [
           "2022-02-08 07:48:55"
          ],
          [
           "2022-02-08 07:53:56"
          ],
          [
           "2022-02-08 07:58:56"
          ],
          [
           "2022-02-08 08:03:56"
          ],
          [
           "2022-02-08 08:08:57"
          ],
          [
           "2022-02-08 08:13:57"
          ],
          [
           "2022-02-08 08:18:58"
          ],
          [
           "2022-02-08 08:23:58"
          ],
          [
           "2022-02-08 08:28:58"
          ],
          [
           "2022-02-08 08:33:59"
          ],
          [
           "2022-02-08 08:38:59"
          ],
          [
           "2022-02-08 08:43:59"
          ],
          [
           "2022-02-08 08:49:00"
          ],
          [
           "2022-02-08 08:54:00"
          ],
          [
           "2022-02-08 08:59:00"
          ],
          [
           "2022-02-08 09:04:01"
          ],
          [
           "2022-02-08 09:09:02"
          ],
          [
           "2022-02-08 09:14:02"
          ],
          [
           "2022-02-08 09:19:03"
          ],
          [
           "2022-02-08 09:24:03"
          ],
          [
           "2022-02-08 09:29:03"
          ],
          [
           "2022-02-08 09:34:04"
          ],
          [
           "2022-02-08 09:39:04"
          ],
          [
           "2022-02-08 09:44:05"
          ],
          [
           "2022-02-08 09:49:05"
          ],
          [
           "2022-02-08 09:54:06"
          ],
          [
           "2022-02-08 09:59:06"
          ],
          [
           "2022-02-08 10:04:06"
          ],
          [
           "2022-02-08 10:09:06"
          ],
          [
           "2022-02-08 10:14:07"
          ],
          [
           "2022-02-08 10:19:07"
          ],
          [
           "2022-02-08 10:24:08"
          ],
          [
           "2022-02-08 10:29:08"
          ],
          [
           "2022-02-08 10:34:08"
          ],
          [
           "2022-02-08 10:39:08"
          ],
          [
           "2022-02-08 10:44:08"
          ],
          [
           "2022-02-08 10:49:09"
          ],
          [
           "2022-02-08 10:54:09"
          ],
          [
           "2022-02-08 10:59:10"
          ],
          [
           "2022-02-08 11:04:10"
          ],
          [
           "2022-02-08 11:09:11"
          ],
          [
           "2022-02-08 11:14:11"
          ],
          [
           "2022-02-08 11:19:11"
          ],
          [
           "2022-02-08 11:24:11"
          ],
          [
           "2022-02-08 11:29:12"
          ],
          [
           "2022-02-08 11:34:12"
          ],
          [
           "2022-02-08 11:39:13"
          ],
          [
           "2022-02-08 11:44:13"
          ],
          [
           "2022-02-08 11:49:13"
          ],
          [
           "2022-02-08 11:54:14"
          ],
          [
           "2022-02-08 11:59:14"
          ],
          [
           "2022-02-08 12:04:14"
          ],
          [
           "2022-02-08 12:09:15"
          ],
          [
           "2022-02-08 12:14:15"
          ],
          [
           "2022-02-08 12:19:15"
          ],
          [
           "2022-02-08 12:24:16"
          ],
          [
           "2022-02-08 12:29:16"
          ],
          [
           "2022-02-08 12:34:17"
          ],
          [
           "2022-02-08 12:39:16"
          ],
          [
           "2022-02-08 12:44:17"
          ],
          [
           "2022-02-08 12:49:17"
          ],
          [
           "2022-02-08 12:54:18"
          ],
          [
           "2022-02-08 12:59:18"
          ],
          [
           "2022-02-08 13:04:19"
          ],
          [
           "2022-02-08 13:09:19"
          ],
          [
           "2022-02-08 13:14:20"
          ],
          [
           "2022-02-08 13:19:20"
          ],
          [
           "2022-02-08 13:24:21"
          ],
          [
           "2022-02-08 13:29:21"
          ],
          [
           "2022-02-08 13:34:21"
          ],
          [
           "2022-02-08 13:39:22"
          ],
          [
           "2022-02-08 13:44:22"
          ],
          [
           "2022-02-08 13:49:23"
          ],
          [
           "2022-02-08 13:54:23"
          ],
          [
           "2022-02-08 13:59:23"
          ],
          [
           "2022-02-08 14:04:24"
          ],
          [
           "2022-02-08 14:09:25"
          ],
          [
           "2022-02-08 14:14:25"
          ],
          [
           "2022-02-08 14:19:26"
          ],
          [
           "2022-02-08 14:24:26"
          ],
          [
           "2022-02-08 14:29:27"
          ],
          [
           "2022-02-08 14:34:27"
          ],
          [
           "2022-02-08 14:39:28"
          ],
          [
           "2022-02-08 14:44:28"
          ],
          [
           "2022-02-08 14:49:29"
          ],
          [
           "2022-02-08 14:54:28"
          ],
          [
           "2022-02-08 14:59:29"
          ],
          [
           "2022-02-08 15:04:29"
          ],
          [
           "2022-02-08 15:09:29"
          ],
          [
           "2022-02-08 15:14:29"
          ],
          [
           "2022-02-08 15:19:29"
          ],
          [
           "2022-02-08 15:24:30"
          ],
          [
           "2022-02-08 15:29:30"
          ],
          [
           "2022-02-08 15:34:31"
          ],
          [
           "2022-02-08 15:39:31"
          ],
          [
           "2022-02-08 15:44:32"
          ],
          [
           "2022-02-08 15:49:32"
          ],
          [
           "2022-02-08 15:54:32"
          ],
          [
           "2022-02-08 15:59:32"
          ],
          [
           "2022-02-08 16:04:33"
          ],
          [
           "2022-02-08 16:09:34"
          ],
          [
           "2022-02-08 16:14:34"
          ],
          [
           "2022-02-08 16:19:34"
          ],
          [
           "2022-02-08 16:24:35"
          ],
          [
           "2022-02-08 16:29:35"
          ],
          [
           "2022-02-08 16:34:36"
          ],
          [
           "2022-02-08 16:39:36"
          ],
          [
           "2022-02-08 16:44:36"
          ],
          [
           "2022-02-08 16:49:37"
          ],
          [
           "2022-02-08 16:54:37"
          ],
          [
           "2022-02-08 16:59:37"
          ],
          [
           "2022-02-08 17:04:37"
          ],
          [
           "2022-02-08 17:09:38"
          ],
          [
           "2022-02-08 17:14:38"
          ],
          [
           "2022-02-08 17:19:38"
          ],
          [
           "2022-02-08 17:24:39"
          ],
          [
           "2022-02-08 17:29:39"
          ],
          [
           "2022-02-08 17:34:39"
          ],
          [
           "2022-02-08 17:39:39"
          ],
          [
           "2022-02-08 17:44:40"
          ],
          [
           "2022-02-08 17:49:40"
          ],
          [
           "2022-02-08 17:54:40"
          ],
          [
           "2022-02-08 17:59:41"
          ],
          [
           "2022-02-08 18:04:41"
          ],
          [
           "2022-02-08 18:09:41"
          ],
          [
           "2022-02-08 18:14:42"
          ],
          [
           "2022-02-08 18:19:42"
          ],
          [
           "2022-02-08 18:24:42"
          ],
          [
           "2022-02-08 18:29:42"
          ],
          [
           "2022-02-08 18:34:43"
          ],
          [
           "2022-02-08 18:39:43"
          ],
          [
           "2022-02-08 18:44:43"
          ],
          [
           "2022-02-08 18:49:44"
          ],
          [
           "2022-02-08 18:54:44"
          ],
          [
           "2022-02-08 18:59:45"
          ],
          [
           "2022-02-08 19:04:45"
          ],
          [
           "2022-02-08 19:09:45"
          ],
          [
           "2022-02-08 19:14:46"
          ],
          [
           "2022-02-08 19:19:46"
          ],
          [
           "2022-02-08 19:24:47"
          ],
          [
           "2022-02-08 19:29:47"
          ],
          [
           "2022-02-08 19:34:47"
          ],
          [
           "2022-02-08 19:39:48"
          ],
          [
           "2022-02-08 19:44:48"
          ],
          [
           "2022-02-08 19:49:49"
          ],
          [
           "2022-02-08 19:54:49"
          ],
          [
           "2022-02-08 19:59:49"
          ],
          [
           "2022-02-08 20:04:49"
          ],
          [
           "2022-02-08 20:09:50"
          ],
          [
           "2022-02-08 20:14:50"
          ],
          [
           "2022-02-08 20:19:51"
          ],
          [
           "2022-02-08 20:24:51"
          ],
          [
           "2022-02-08 20:29:52"
          ],
          [
           "2022-02-08 20:34:52"
          ],
          [
           "2022-02-08 20:39:53"
          ],
          [
           "2022-02-08 20:44:54"
          ],
          [
           "2022-02-08 20:49:54"
          ],
          [
           "2022-02-08 20:54:55"
          ],
          [
           "2022-02-08 20:59:55"
          ],
          [
           "2022-02-08 21:04:55"
          ],
          [
           "2022-02-08 21:09:55"
          ],
          [
           "2022-02-08 21:14:55"
          ],
          [
           "2022-02-08 21:19:56"
          ],
          [
           "2022-02-08 21:24:56"
          ],
          [
           "2022-02-08 21:29:56"
          ],
          [
           "2022-02-08 21:34:56"
          ],
          [
           "2022-02-08 21:39:57"
          ],
          [
           "2022-02-08 21:44:57"
          ],
          [
           "2022-02-08 21:49:58"
          ],
          [
           "2022-02-08 21:54:58"
          ],
          [
           "2022-02-08 21:59:58"
          ],
          [
           "2022-02-08 22:04:59"
          ],
          [
           "2022-02-08 22:10:00"
          ],
          [
           "2022-02-08 22:15:00"
          ],
          [
           "2022-02-08 22:19:59"
          ],
          [
           "2022-02-08 22:25:00"
          ],
          [
           "2022-02-08 22:30:01"
          ],
          [
           "2022-02-08 22:35:01"
          ],
          [
           "2022-02-08 22:40:02"
          ],
          [
           "2022-02-08 22:45:02"
          ],
          [
           "2022-02-08 22:50:02"
          ],
          [
           "2022-02-08 22:55:03"
          ],
          [
           "2022-02-08 23:00:04"
          ],
          [
           "2022-02-08 23:05:04"
          ],
          [
           "2022-02-08 23:10:04"
          ],
          [
           "2022-02-08 23:15:04"
          ],
          [
           "2022-02-08 23:20:05"
          ],
          [
           "2022-02-08 23:25:05"
          ],
          [
           "2022-02-08 23:30:05"
          ],
          [
           "2022-02-08 23:35:05"
          ],
          [
           "2022-02-08 23:40:05"
          ],
          [
           "2022-02-08 23:45:06"
          ],
          [
           "2022-02-08 23:50:06"
          ],
          [
           "2022-02-08 23:55:06"
          ],
          [
           "2022-02-09 00:00:07"
          ],
          [
           "2022-02-09 00:05:07"
          ],
          [
           "2022-02-09 00:10:08"
          ],
          [
           "2022-02-09 00:15:08"
          ],
          [
           "2022-02-09 00:20:08"
          ],
          [
           "2022-02-09 00:25:09"
          ],
          [
           "2022-02-09 00:30:09"
          ],
          [
           "2022-02-09 00:35:09"
          ],
          [
           "2022-02-09 00:40:10"
          ],
          [
           "2022-02-09 00:45:10"
          ],
          [
           "2022-02-09 00:50:10"
          ],
          [
           "2022-02-09 00:55:11"
          ],
          [
           "2022-02-09 01:00:11"
          ],
          [
           "2022-02-09 01:05:12"
          ],
          [
           "2022-02-09 01:10:12"
          ],
          [
           "2022-02-09 01:15:12"
          ],
          [
           "2022-02-09 01:20:13"
          ],
          [
           "2022-02-09 01:25:13"
          ],
          [
           "2022-02-09 01:30:13"
          ],
          [
           "2022-02-09 01:35:13"
          ],
          [
           "2022-02-09 01:40:14"
          ],
          [
           "2022-02-09 01:45:15"
          ],
          [
           "2022-02-09 01:50:15"
          ],
          [
           "2022-02-09 01:55:15"
          ],
          [
           "2022-02-09 02:00:16"
          ],
          [
           "2022-02-09 02:05:17"
          ],
          [
           "2022-02-09 02:10:17"
          ],
          [
           "2022-02-09 02:15:17"
          ],
          [
           "2022-02-09 02:20:17"
          ],
          [
           "2022-02-09 02:25:18"
          ],
          [
           "2022-02-09 02:30:19"
          ],
          [
           "2022-02-09 02:35:19"
          ],
          [
           "2022-02-09 02:40:20"
          ],
          [
           "2022-02-09 02:45:20"
          ],
          [
           "2022-02-09 02:50:20"
          ],
          [
           "2022-02-09 02:55:20"
          ],
          [
           "2022-02-09 03:00:21"
          ],
          [
           "2022-02-09 03:05:22"
          ],
          [
           "2022-02-09 03:10:22"
          ],
          [
           "2022-02-09 03:15:22"
          ],
          [
           "2022-02-09 03:20:22"
          ],
          [
           "2022-02-09 03:25:22"
          ],
          [
           "2022-02-09 03:30:23"
          ],
          [
           "2022-02-09 03:35:23"
          ],
          [
           "2022-02-09 03:40:24"
          ],
          [
           "2022-02-09 03:45:24"
          ],
          [
           "2022-02-09 03:50:24"
          ],
          [
           "2022-02-09 03:55:24"
          ],
          [
           "2022-02-09 04:00:24"
          ],
          [
           "2022-02-09 04:05:25"
          ],
          [
           "2022-02-09 04:10:25"
          ],
          [
           "2022-02-09 04:15:25"
          ],
          [
           "2022-02-09 04:20:25"
          ],
          [
           "2022-02-09 04:25:26"
          ],
          [
           "2022-02-09 04:30:26"
          ],
          [
           "2022-02-09 04:35:26"
          ],
          [
           "2022-02-09 04:40:26"
          ],
          [
           "2022-02-09 04:45:27"
          ],
          [
           "2022-02-09 04:50:27"
          ],
          [
           "2022-02-09 04:55:27"
          ],
          [
           "2022-02-09 05:00:28"
          ],
          [
           "2022-02-09 05:05:28"
          ],
          [
           "2022-02-09 05:10:28"
          ],
          [
           "2022-02-09 05:15:29"
          ],
          [
           "2022-02-09 05:20:29"
          ],
          [
           "2022-02-09 05:25:29"
          ],
          [
           "2022-02-09 05:30:30"
          ],
          [
           "2022-02-09 05:35:30"
          ],
          [
           "2022-02-09 05:40:31"
          ],
          [
           "2022-02-09 05:45:31"
          ],
          [
           "2022-02-09 05:50:32"
          ],
          [
           "2022-02-09 05:55:32"
          ],
          [
           "2022-02-09 06:00:32"
          ],
          [
           "2022-02-09 06:05:33"
          ],
          [
           "2022-02-09 06:10:33"
          ],
          [
           "2022-02-09 06:15:34"
          ],
          [
           "2022-02-09 06:20:34"
          ],
          [
           "2022-02-09 06:25:34"
          ],
          [
           "2022-02-09 06:30:35"
          ],
          [
           "2022-02-09 06:35:35"
          ],
          [
           "2022-02-09 06:40:36"
          ],
          [
           "2022-02-09 06:45:36"
          ],
          [
           "2022-02-09 06:50:37"
          ],
          [
           "2022-02-09 06:55:37"
          ],
          [
           "2022-02-09 07:00:38"
          ],
          [
           "2022-02-09 07:05:38"
          ],
          [
           "2022-02-09 07:10:38"
          ],
          [
           "2022-02-09 07:15:38"
          ],
          [
           "2022-02-09 07:20:39"
          ]
         ],
         "hovertemplate": "0=%{x}<br>1=%{y}<br>2=%{z}<br>Feature=%{customdata[0]}<br>Anomaly=%{marker.color}<extra></extra>",
         "legendgroup": "",
         "marker": {
          "color": [
           0,
           0,
           0,
           0,
           0,
           0,
           0,
           0,
           0,
           0,
           0,
           0,
           0,
           0,
           0,
           0,
           0,
           0,
           0,
           0,
           0,
           0,
           0,
           0,
           0,
           0,
           0,
           0,
           0,
           0,
           0,
           0,
           0,
           0,
           0,
           0,
           0,
           0,
           0,
           0,
           0,
           0,
           0,
           0,
           0,
           0,
           0,
           0,
           0,
           0,
           0,
           1,
           0,
           0,
           0,
           0,
           0,
           0,
           0,
           0,
           0,
           0,
           0,
           0,
           0,
           0,
           0,
           0,
           0,
           0,
           0,
           0,
           0,
           0,
           0,
           0,
           0,
           0,
           0,
           0,
           0,
           0,
           0,
           0,
           0,
           0,
           0,
           0,
           0,
           0,
           0,
           0,
           0,
           0,
           0,
           0,
           0,
           0,
           0,
           0,
           0,
           0,
           0,
           0,
           0,
           0,
           0,
           0,
           0,
           0,
           0,
           0,
           0,
           0,
           0,
           0,
           0,
           0,
           0,
           0,
           0,
           0,
           0,
           0,
           0,
           0,
           0,
           0,
           0,
           0,
           0,
           0,
           0,
           0,
           0,
           0,
           0,
           0,
           0,
           0,
           0,
           0,
           0,
           0,
           0,
           0,
           0,
           0,
           0,
           0,
           0,
           0,
           0,
           0,
           0,
           0,
           0,
           0,
           0,
           0,
           0,
           0,
           0,
           0,
           0,
           0,
           0,
           0,
           0,
           0,
           0,
           0,
           0,
           0,
           0,
           0,
           0,
           0,
           0,
           0,
           0,
           0,
           0,
           0,
           0,
           0,
           0,
           0,
           0,
           0,
           0,
           0,
           0,
           0,
           0,
           0,
           0,
           0,
           0,
           0,
           0,
           0,
           0,
           0,
           0,
           0,
           0,
           0,
           0,
           0,
           0,
           0,
           0,
           0,
           0,
           0,
           0,
           0,
           0,
           0,
           0,
           0,
           0,
           0,
           0,
           0,
           0,
           0,
           0,
           0,
           0,
           0,
           0,
           0,
           0,
           0,
           0,
           0,
           0,
           0,
           0,
           0,
           0,
           0,
           0,
           0,
           0,
           0,
           0,
           0,
           1,
           0,
           0,
           0,
           0,
           0,
           0,
           0,
           0,
           0,
           0,
           0,
           0,
           0,
           0,
           0,
           0,
           0,
           0,
           0,
           0,
           0,
           0,
           0,
           0,
           0,
           0,
           0,
           1,
           1,
           0,
           0,
           0,
           0,
           0,
           0,
           0,
           0,
           0,
           0,
           0,
           0,
           0,
           0,
           0,
           0,
           0,
           0,
           0,
           0,
           0,
           0,
           0,
           0,
           0,
           0,
           0,
           0,
           0,
           0,
           0,
           0,
           0,
           0,
           0,
           0,
           0,
           0,
           0,
           0,
           0,
           0,
           0,
           0,
           0,
           0,
           0,
           0,
           0,
           0,
           0,
           0,
           0,
           0,
           0,
           0,
           0,
           0,
           0,
           0,
           0,
           0,
           1,
           0,
           0,
           0,
           0,
           0,
           0,
           0,
           0,
           0,
           1,
           0,
           0,
           0,
           0,
           0,
           0,
           0,
           0,
           0,
           0,
           0,
           0,
           0,
           0,
           0,
           0,
           0,
           0,
           0,
           0,
           0,
           0,
           0,
           0,
           0,
           0,
           0,
           0,
           0,
           0,
           0,
           0,
           0,
           0,
           0,
           0,
           0,
           0,
           0,
           0,
           0,
           1,
           0,
           0,
           0,
           0,
           0,
           0,
           0,
           0,
           0,
           0,
           0,
           0,
           0,
           0,
           0,
           0,
           0,
           0,
           0,
           0,
           0,
           0,
           0,
           0,
           0,
           0,
           0,
           0,
           0,
           0,
           0,
           0,
           0,
           0,
           0,
           0,
           0,
           0,
           0,
           0,
           0,
           0,
           0,
           0,
           0,
           0,
           0,
           0,
           0,
           0,
           0,
           0,
           0,
           0,
           0,
           0,
           0,
           0,
           0,
           0,
           0,
           0,
           0,
           0,
           0,
           0,
           0,
           0,
           0,
           0,
           0,
           0,
           0,
           0,
           0,
           0,
           0,
           0,
           0,
           1,
           0,
           0,
           0,
           0,
           0,
           0,
           0,
           0,
           0,
           0,
           0,
           0,
           0,
           0,
           0,
           0,
           0,
           0,
           0,
           0,
           1,
           0,
           0,
           0,
           0,
           0,
           0,
           0,
           0,
           0,
           0,
           0,
           0,
           0,
           0,
           0,
           0,
           0,
           0,
           0,
           0,
           0,
           0,
           0,
           0,
           0,
           0,
           0,
           0,
           0,
           0,
           0,
           0,
           0,
           0,
           0,
           0,
           0,
           0,
           0,
           0,
           0,
           0,
           0,
           0,
           0,
           0,
           0,
           0,
           0,
           0,
           0,
           1,
           0,
           1,
           1,
           0,
           0,
           0,
           0,
           0,
           0,
           0,
           0,
           0,
           0,
           0,
           0,
           0,
           0,
           0,
           0,
           0,
           0,
           0,
           0,
           0,
           0,
           0,
           0,
           0,
           0,
           0,
           0,
           0,
           0,
           0,
           0,
           0,
           0,
           0,
           0,
           0,
           0,
           0,
           0,
           0,
           0,
           0,
           0,
           0,
           0,
           0,
           0,
           0,
           0,
           0,
           0,
           0,
           0,
           0,
           0,
           0,
           0,
           0,
           0,
           0,
           0,
           0,
           0,
           0,
           0,
           0,
           0,
           0,
           0,
           0,
           0,
           0,
           0,
           0,
           0,
           0,
           0,
           0,
           0,
           0,
           0,
           0,
           0,
           0,
           0,
           0,
           0,
           0,
           0,
           0,
           0,
           0,
           0,
           0,
           0,
           0,
           0,
           0,
           0,
           0,
           0,
           0,
           0,
           0,
           0,
           0,
           1,
           0,
           0,
           1,
           0,
           0,
           0,
           0,
           0,
           0,
           0,
           0,
           0,
           0,
           0,
           0,
           1,
           0,
           0,
           0,
           0,
           0,
           0,
           0,
           0,
           0,
           0,
           0,
           0,
           0,
           0,
           1,
           1,
           1,
           1,
           1,
           1,
           0,
           0,
           0,
           0,
           0,
           0,
           0,
           1,
           0,
           0,
           0,
           0,
           0,
           0,
           0,
           0,
           1,
           0,
           1,
           0,
           1,
           1,
           0,
           1,
           0,
           0,
           0,
           0,
           0,
           0,
           0,
           0,
           0,
           0,
           0,
           0,
           0,
           0,
           1,
           0,
           0,
           1,
           0,
           1,
           0,
           0,
           0,
           0,
           0,
           0,
           1,
           0,
           0,
           0,
           0,
           0,
           0,
           0,
           0,
           0,
           0,
           0,
           1,
           0,
           0,
           0,
           0,
           0,
           0,
           0,
           0,
           0,
           0,
           0,
           0,
           0,
           0,
           0,
           0,
           0,
           0,
           0,
           0,
           0,
           0,
           0,
           0,
           0,
           0,
           0,
           0,
           0,
           0,
           0,
           0,
           0,
           0,
           0,
           0,
           0,
           0,
           0,
           0,
           0,
           0,
           0,
           0,
           0,
           0,
           0,
           0,
           0,
           0,
           0,
           0,
           0,
           0,
           0,
           0,
           0,
           0,
           0,
           0,
           0,
           0,
           0,
           0,
           0,
           0,
           0,
           0,
           0,
           0,
           0,
           0,
           0,
           0,
           0,
           0,
           0,
           0,
           0,
           0,
           0,
           0,
           0,
           0,
           0,
           0,
           0,
           0,
           0,
           0,
           0,
           0,
           0,
           0,
           0,
           0,
           0,
           0,
           0,
           0,
           0,
           0,
           0,
           0,
           0,
           0,
           0,
           0,
           0,
           0,
           0,
           0,
           0,
           0,
           0,
           0,
           0,
           0,
           0,
           0,
           0,
           0,
           0,
           0,
           0,
           0,
           0,
           0,
           0,
           0,
           0,
           0,
           0,
           0,
           0,
           0,
           0,
           0,
           0,
           0,
           0,
           0,
           0,
           0,
           0,
           0,
           0,
           0,
           0,
           0,
           0,
           0,
           0,
           0,
           0,
           0,
           0,
           0,
           0,
           0,
           0,
           0,
           0,
           0,
           0,
           0,
           0,
           0,
           0,
           0,
           0,
           0,
           0,
           0,
           0,
           0,
           0,
           0,
           0,
           0,
           0,
           0,
           0,
           0,
           0,
           0,
           0,
           0,
           0,
           0,
           0,
           0,
           0,
           0,
           0,
           0,
           0,
           0,
           0,
           0,
           0,
           0,
           0,
           0,
           0,
           0,
           0,
           0,
           0,
           0,
           0,
           0,
           0,
           0,
           0,
           0,
           0,
           0,
           0,
           0,
           0,
           0,
           0,
           0,
           0,
           0,
           0,
           0,
           0,
           0,
           0,
           0,
           0,
           0,
           0,
           0,
           0,
           0,
           0,
           0,
           0,
           0,
           0,
           0,
           0,
           0,
           0,
           0,
           0,
           0,
           0,
           0,
           0,
           0,
           0,
           0,
           0,
           0,
           0,
           0,
           0,
           0,
           0,
           0,
           0,
           0,
           0,
           0,
           0,
           0,
           0,
           0,
           0,
           0,
           0,
           0,
           0,
           0,
           0,
           0,
           0,
           0,
           0,
           0,
           0,
           0,
           0,
           0,
           0,
           0,
           0,
           0,
           0,
           0,
           0,
           0,
           0,
           0,
           0,
           0,
           0,
           0,
           0,
           1,
           0,
           0,
           0,
           0,
           0,
           0,
           0,
           0,
           0,
           0,
           0,
           0,
           0,
           1,
           0,
           0,
           0,
           0,
           0,
           0,
           0,
           0,
           0,
           0,
           0,
           0,
           0,
           0,
           0,
           0,
           1,
           1,
           1,
           1,
           1,
           0,
           0,
           0,
           0,
           0,
           0,
           0,
           0,
           0,
           0,
           0,
           0,
           1,
           1,
           1,
           1,
           1,
           1,
           1,
           1,
           0,
           0,
           1,
           1,
           1,
           1,
           1,
           1,
           0,
           1,
           1,
           1,
           1,
           1,
           0,
           0,
           0,
           0,
           0,
           0,
           0,
           1,
           0,
           0,
           0,
           0,
           0,
           0,
           0,
           0,
           0,
           0,
           0,
           0,
           0,
           0,
           0,
           0,
           0,
           0,
           0,
           0,
           0,
           0,
           0,
           0,
           0,
           0,
           0,
           1,
           0,
           1,
           1,
           1,
           0,
           0,
           0,
           0,
           0,
           0,
           0,
           0,
           0,
           0,
           0,
           0,
           0,
           0,
           0,
           0,
           0,
           0,
           0,
           0,
           0,
           0,
           0,
           0,
           0,
           0,
           0,
           0,
           0,
           0,
           0,
           0,
           0,
           0,
           0,
           0,
           0,
           0,
           0,
           0,
           0,
           0,
           0,
           0,
           0,
           0,
           0,
           0,
           0,
           0,
           0,
           0,
           0,
           0,
           0,
           0,
           0,
           0,
           0,
           0,
           0,
           0,
           0,
           0,
           0,
           0,
           0,
           0,
           0,
           0,
           0,
           0,
           0,
           0,
           0,
           0,
           0,
           0,
           0,
           0,
           0,
           0,
           0,
           0,
           0,
           0,
           0,
           0,
           0,
           0,
           0,
           0,
           0,
           0,
           0,
           0,
           0,
           0,
           0,
           0,
           0,
           0,
           0,
           0,
           0,
           0,
           0,
           0,
           0,
           0,
           0,
           0,
           0,
           0,
           0,
           0,
           0,
           0,
           0,
           0,
           0,
           0,
           0,
           0,
           0,
           0,
           0,
           0,
           0,
           0,
           0,
           0,
           0,
           0,
           0,
           0,
           0,
           0,
           0,
           0,
           0,
           0,
           0,
           0,
           0,
           0,
           0,
           0,
           0,
           0,
           0,
           0,
           0,
           0,
           0,
           0,
           0,
           0,
           0,
           0,
           0,
           0,
           0,
           0,
           0,
           0,
           0,
           0,
           0,
           0,
           0,
           0,
           0,
           0,
           0,
           0,
           0,
           0,
           0,
           0,
           0,
           0,
           0,
           0,
           0,
           0,
           0,
           0,
           0,
           0,
           0,
           0,
           0,
           0,
           0,
           0,
           0,
           0,
           0,
           0,
           0,
           0,
           0,
           0,
           0,
           0,
           0,
           0,
           0,
           0,
           0,
           0,
           0,
           0,
           0,
           0,
           0,
           0,
           0,
           0,
           0,
           0,
           0,
           0,
           0,
           0,
           0,
           0,
           0,
           0,
           0,
           0,
           0,
           0,
           0,
           0,
           0,
           0,
           0,
           0,
           0,
           0,
           0,
           0,
           0,
           0,
           0,
           0,
           0,
           0,
           0,
           0,
           0,
           0,
           0,
           0,
           0,
           0,
           0,
           0,
           0,
           0,
           0,
           0,
           0,
           0,
           0,
           0,
           0,
           0,
           0,
           0,
           0,
           0,
           0,
           0,
           0,
           0,
           0,
           0,
           0,
           0,
           0,
           0,
           0,
           0,
           0,
           0,
           0,
           0,
           0,
           0,
           0,
           0,
           0,
           0,
           0,
           0,
           0,
           0,
           0,
           0,
           0,
           0,
           0,
           0,
           0,
           0,
           0,
           0,
           0,
           0,
           0,
           0,
           0,
           0,
           0,
           0,
           0,
           0,
           0,
           0,
           0,
           0,
           0,
           0,
           0,
           0,
           0,
           0,
           0,
           0,
           0,
           0,
           0,
           0,
           0,
           0,
           0,
           0,
           0,
           0,
           0,
           0,
           0,
           0,
           0,
           0,
           0,
           0,
           0,
           0,
           0,
           0,
           0,
           0,
           0,
           0,
           0,
           0,
           0,
           0,
           0,
           0,
           0,
           0,
           0,
           0,
           0,
           0,
           0,
           0,
           0,
           0,
           0,
           0,
           0,
           0,
           0,
           0,
           0,
           0,
           0,
           0,
           0,
           0,
           0,
           0,
           0,
           0,
           0,
           0,
           0,
           0,
           0,
           0,
           0,
           0,
           0,
           0,
           0,
           0,
           0,
           0,
           0,
           0,
           0,
           0,
           0,
           0,
           0,
           0,
           0,
           0,
           0,
           0,
           0,
           0,
           0,
           0,
           0,
           0,
           0,
           0,
           0,
           0,
           0,
           0,
           0,
           0,
           0,
           0,
           0,
           0,
           0,
           0,
           0,
           0,
           0,
           0,
           0,
           0,
           0,
           0,
           1,
           0,
           0,
           0,
           1,
           0,
           0,
           0,
           1,
           0,
           0,
           0,
           0,
           0,
           1,
           0,
           0,
           0,
           0,
           0,
           1,
           1,
           0,
           1,
           0,
           0,
           0,
           0,
           0,
           0,
           1,
           1,
           0,
           0,
           0,
           0,
           0,
           0,
           0,
           0,
           0,
           1,
           0,
           1,
           0,
           0,
           0,
           0,
           0,
           0,
           0,
           0,
           0,
           0,
           0,
           0,
           0,
           0,
           0,
           0,
           0,
           0,
           0,
           0,
           0,
           0,
           0,
           0,
           0,
           0,
           1,
           0,
           0,
           1,
           0,
           1,
           0,
           1,
           1,
           1,
           1,
           1,
           1,
           0,
           1,
           1,
           1,
           0,
           0,
           0,
           0,
           0,
           0,
           0,
           0,
           0,
           0,
           0,
           0,
           0,
           0,
           0,
           0,
           0,
           0,
           0,
           0,
           0,
           0,
           0,
           0,
           1,
           1,
           0,
           0,
           0,
           0,
           0,
           0,
           0,
           0,
           0,
           0,
           0,
           0,
           0,
           0,
           0,
           0,
           0,
           0,
           0,
           0,
           0,
           0,
           0,
           0,
           0,
           0,
           0,
           0,
           0,
           0,
           0,
           0,
           0,
           0,
           0,
           0,
           0,
           0,
           0,
           0,
           0,
           0,
           0,
           0,
           0,
           0,
           0,
           0,
           0,
           0,
           0,
           0,
           0,
           0,
           0,
           0,
           0,
           0,
           0,
           0,
           0,
           0,
           0,
           0,
           0,
           0,
           0,
           0,
           0,
           0,
           0,
           0,
           0,
           0,
           0,
           0,
           0,
           0,
           0,
           0,
           0,
           0,
           0,
           0,
           0,
           0,
           0,
           0,
           0,
           0,
           0,
           0,
           0,
           0,
           0,
           0,
           0,
           0,
           0,
           0,
           0,
           0,
           0,
           0,
           0,
           0,
           0,
           0,
           0,
           0,
           0,
           0,
           0,
           0,
           0,
           1,
           0,
           0,
           1,
           0,
           0,
           0,
           0,
           0,
           0,
           0,
           0,
           0,
           0,
           0,
           0,
           0,
           0,
           0,
           0,
           0,
           0,
           0,
           0,
           0,
           1,
           0,
           1,
           0,
           0,
           0,
           0,
           0,
           0,
           0,
           0,
           0,
           0,
           0,
           0,
           0,
           0,
           0,
           0,
           0,
           0,
           0,
           0,
           0,
           0,
           0,
           0,
           0,
           0,
           0,
           0,
           0,
           0,
           0,
           0,
           0,
           0,
           0,
           0,
           0,
           0,
           0,
           0,
           0,
           0,
           0,
           0,
           0,
           0,
           0,
           0,
           0,
           0,
           0,
           0,
           0,
           0,
           0,
           0,
           0,
           0,
           0,
           0,
           0,
           0,
           0,
           0,
           0,
           0,
           0,
           0,
           0,
           0,
           0,
           0,
           0,
           0,
           0,
           0,
           0,
           0,
           0,
           0,
           0,
           0,
           0,
           0,
           0,
           0,
           0,
           0,
           0,
           0,
           0,
           0,
           0,
           0,
           0,
           0,
           0,
           0,
           0,
           0,
           0,
           0,
           0,
           1,
           1,
           0,
           0,
           0,
           0,
           0,
           0,
           0,
           0,
           0,
           0,
           0,
           0,
           0,
           0,
           0,
           0,
           0,
           0,
           0,
           0,
           0,
           0,
           0,
           0,
           0,
           0,
           0,
           0,
           0,
           0,
           0,
           0,
           0,
           0,
           0,
           0,
           0,
           0,
           0,
           0,
           0,
           0,
           1,
           0,
           0,
           1,
           0,
           0,
           0,
           0,
           0,
           0,
           0,
           0,
           0,
           0,
           0,
           0,
           0,
           0,
           0,
           0,
           0,
           0,
           0,
           0,
           0,
           0,
           0,
           0,
           0,
           0,
           0,
           0,
           0,
           0,
           0,
           0,
           0,
           0,
           0,
           0,
           0,
           0,
           0,
           0,
           0,
           0,
           0,
           0,
           0,
           0,
           0,
           0,
           0,
           0,
           1,
           1,
           1,
           1,
           1,
           1,
           1,
           0,
           0,
           0,
           1,
           0,
           0,
           1,
           1,
           1,
           1,
           0,
           0,
           0,
           0,
           0,
           0,
           0,
           0,
           0,
           0,
           0,
           0,
           0,
           0,
           0,
           0,
           0,
           0,
           0,
           0,
           0,
           0,
           0,
           0,
           0,
           0,
           0,
           0,
           0,
           0,
           0,
           0,
           0,
           0,
           0,
           0,
           0,
           0,
           0,
           0,
           0,
           0,
           0,
           0,
           0,
           0,
           0,
           0,
           0,
           0,
           0,
           0,
           0,
           0,
           0,
           0,
           0,
           0,
           0,
           0,
           0,
           0,
           0,
           0,
           0,
           0,
           0,
           0,
           0,
           0,
           0,
           0,
           0,
           0,
           0,
           0,
           0,
           0,
           0,
           0,
           0,
           0,
           0,
           0,
           0,
           0,
           0,
           0,
           0,
           0,
           0,
           0,
           0,
           0,
           0,
           0,
           0,
           0,
           0,
           0,
           0,
           0,
           0,
           0,
           0,
           0,
           0,
           0,
           0,
           0,
           0,
           0,
           0,
           0,
           0,
           0,
           0,
           0,
           0,
           0,
           0,
           0,
           0,
           0,
           0,
           0,
           0,
           0,
           0,
           0,
           0,
           0,
           0,
           0,
           0,
           0,
           0,
           0,
           0,
           0,
           0,
           0,
           0,
           0,
           0,
           0,
           0,
           0,
           0,
           0,
           0,
           0,
           0,
           0,
           0,
           0,
           0,
           0,
           0,
           0,
           0,
           0,
           0,
           0,
           0,
           0,
           0,
           0,
           0,
           0,
           0,
           0,
           0,
           0,
           0,
           0,
           1,
           0,
           0,
           0,
           0,
           1,
           0,
           0,
           0,
           0,
           0,
           0,
           0,
           0,
           1,
           1,
           0,
           0,
           0,
           0,
           0,
           0,
           0,
           0,
           0,
           0,
           0,
           0,
           0,
           0,
           1,
           0,
           0,
           0,
           0,
           0,
           0,
           0,
           0,
           0,
           0,
           0,
           0,
           0,
           0,
           0,
           0,
           0,
           0,
           0,
           1,
           0,
           0,
           0,
           0,
           0,
           0,
           0,
           0,
           0,
           0,
           0,
           0,
           0,
           0,
           0,
           0,
           0,
           0,
           0,
           0,
           0,
           0,
           0,
           0,
           0,
           0,
           0,
           0,
           0,
           0,
           0,
           0,
           0,
           0,
           0,
           0,
           0,
           0,
           0,
           0,
           0,
           0,
           0,
           0,
           0,
           0,
           1,
           0,
           0,
           0,
           0,
           0,
           0,
           0,
           0,
           0,
           0,
           0,
           0,
           0,
           0,
           0,
           0,
           0,
           0,
           0,
           0,
           0,
           0,
           0,
           0,
           0,
           0,
           0,
           0,
           0,
           0,
           0,
           0,
           0,
           0,
           0,
           0,
           0,
           0,
           0,
           0,
           0,
           0,
           0,
           0,
           0,
           0,
           0,
           0,
           0,
           0,
           0,
           0,
           0,
           0,
           0,
           0,
           0,
           0,
           0,
           0,
           0,
           0,
           0,
           0,
           0,
           0,
           0,
           0,
           0,
           0,
           0,
           0,
           0,
           0,
           1,
           1,
           0,
           0,
           0,
           0,
           0,
           0,
           0,
           0,
           0,
           0,
           0,
           0,
           0,
           0,
           0,
           0,
           0,
           0,
           0,
           0,
           0,
           0,
           0,
           0,
           0,
           0,
           0,
           0,
           0,
           0,
           0,
           0,
           0,
           0,
           0,
           0,
           0,
           1,
           0,
           0,
           0,
           0,
           0,
           0,
           0,
           0,
           0,
           0,
           0,
           0,
           0,
           0,
           0,
           0,
           0,
           0,
           0,
           0,
           0,
           1,
           0,
           0,
           0,
           0,
           0,
           0,
           0,
           0,
           0,
           0,
           0,
           0,
           0,
           0,
           0,
           0,
           0,
           0,
           0,
           0,
           0,
           0,
           0,
           0,
           0,
           0,
           0,
           0,
           0,
           1,
           0,
           0,
           1,
           1,
           0,
           0,
           0,
           0,
           0,
           0,
           0,
           0,
           0,
           0,
           0,
           0,
           0,
           0,
           0,
           0,
           0,
           0,
           0,
           0,
           0,
           0,
           0,
           0,
           0,
           0,
           0,
           0,
           0,
           0,
           0,
           0,
           0,
           0,
           0,
           0,
           0,
           0,
           0,
           0,
           0,
           0,
           0,
           1,
           1,
           1,
           0,
           0,
           0,
           0,
           0,
           0,
           0,
           0,
           0,
           0,
           0,
           0,
           0,
           1,
           0,
           1,
           0,
           0,
           0,
           0,
           0,
           0,
           0,
           0,
           0,
           0,
           0,
           0,
           0,
           0,
           0,
           0,
           0,
           0,
           0,
           0,
           0,
           0,
           0,
           0,
           0,
           0,
           0,
           0,
           0,
           0,
           0,
           0,
           0,
           0,
           0,
           1,
           0,
           0,
           1,
           0,
           0,
           0,
           0,
           0,
           0,
           0,
           0,
           0,
           0,
           0,
           0,
           0,
           0,
           0,
           0,
           0,
           0,
           0,
           0,
           0,
           0,
           0,
           0,
           0,
           0,
           0,
           0,
           0,
           0,
           0,
           0,
           0,
           0,
           0,
           0,
           0,
           0,
           0,
           0,
           0,
           0,
           0,
           0,
           0,
           0,
           0,
           0,
           0,
           0,
           0,
           0,
           0,
           0,
           0,
           0,
           0,
           0,
           0,
           0,
           0,
           0,
           0,
           0,
           0,
           0,
           0,
           0,
           0,
           0,
           0,
           0,
           0,
           0,
           0,
           0,
           0,
           0,
           0,
           0,
           0,
           0,
           0,
           0,
           0,
           0,
           0,
           0,
           0,
           0,
           0,
           0,
           0,
           0,
           0,
           0,
           0,
           0,
           0,
           0,
           0,
           0,
           0,
           0,
           0,
           0,
           0,
           0,
           0,
           0,
           0,
           0,
           0,
           0,
           0,
           0,
           0,
           0,
           0,
           0,
           0,
           0,
           0,
           0,
           0,
           0,
           0,
           0,
           0,
           0,
           0,
           0,
           0,
           0,
           0,
           0,
           0,
           0,
           0,
           0,
           0,
           0,
           0,
           0,
           0,
           0,
           0,
           0,
           0,
           0,
           0,
           0,
           0,
           0,
           0,
           0,
           0,
           0,
           0,
           0,
           0,
           0,
           0,
           0,
           0,
           0,
           0,
           0,
           0,
           0,
           0,
           0,
           0,
           0,
           0,
           0,
           0,
           0,
           0,
           0,
           0,
           0,
           0,
           0,
           0,
           0,
           0,
           0,
           0,
           0,
           0,
           0,
           1,
           1,
           0,
           0,
           0,
           0,
           1,
           1,
           0,
           0,
           0,
           0,
           0,
           0,
           0,
           0,
           0,
           0,
           0,
           0,
           0,
           0,
           0,
           0,
           0,
           0,
           0,
           0,
           0,
           0,
           0,
           0,
           0,
           0,
           0,
           0,
           0,
           0,
           0,
           0,
           0,
           0,
           0,
           0,
           0,
           0,
           0,
           0,
           0,
           0,
           0,
           0,
           0,
           0,
           0,
           0,
           0,
           0,
           0,
           0,
           0,
           0,
           0,
           0,
           0,
           0,
           0,
           0,
           0,
           0,
           0,
           0,
           0,
           0,
           0,
           0,
           0,
           0,
           0,
           0,
           0,
           0,
           0,
           0,
           0,
           0,
           0,
           0,
           0,
           0,
           0,
           0,
           0,
           0,
           0,
           0,
           0,
           0,
           0,
           0,
           0,
           0,
           0,
           0,
           0,
           0,
           0,
           0,
           0,
           0,
           0,
           0,
           0,
           0,
           0,
           0,
           0,
           0,
           0,
           0,
           0,
           0,
           0,
           0,
           0,
           0,
           0,
           0,
           0,
           0,
           0,
           0,
           0,
           0,
           0,
           0,
           0,
           0,
           0,
           0,
           0,
           0,
           0,
           0,
           0,
           0,
           0,
           0,
           0,
           0,
           0,
           0,
           0,
           0,
           0,
           1,
           0,
           1,
           0,
           0,
           0,
           0,
           0,
           0,
           0,
           0,
           0,
           0,
           0,
           0,
           0,
           0,
           0,
           0,
           0,
           0,
           0,
           0,
           0,
           0,
           0,
           0,
           0,
           0,
           0,
           0,
           0,
           0,
           0,
           0,
           0,
           0,
           0,
           0,
           0,
           0,
           0,
           0,
           0,
           0,
           0,
           0,
           0,
           0,
           0,
           0,
           0,
           0,
           0,
           0,
           0,
           0,
           0,
           0,
           0,
           0,
           0,
           0,
           0,
           0,
           0,
           0,
           0,
           0,
           0,
           0,
           0,
           1,
           0,
           0,
           1,
           0,
           0,
           0,
           0,
           0,
           0,
           0,
           0,
           0,
           0,
           0,
           0,
           0,
           0,
           0,
           0,
           0,
           0,
           0,
           0,
           0,
           0,
           0,
           1,
           0,
           0,
           0,
           0,
           0,
           0,
           0,
           0,
           0,
           0,
           0,
           0,
           0,
           1,
           0,
           0,
           0,
           0,
           1,
           0,
           0,
           0,
           1,
           0,
           0,
           0,
           0,
           0,
           0,
           0,
           0,
           0,
           0,
           0,
           0,
           0,
           0,
           0,
           0,
           0,
           0,
           0,
           0,
           0,
           0,
           0,
           0,
           0,
           0,
           0,
           0,
           0,
           0,
           0,
           0,
           0,
           0,
           0,
           0,
           0,
           0,
           1,
           0,
           0,
           0,
           0,
           0,
           0,
           0,
           0,
           0,
           0,
           0,
           0,
           0,
           0,
           0,
           0,
           0,
           0,
           0,
           0,
           0,
           0,
           0,
           0,
           0,
           0,
           0,
           0,
           0,
           0,
           0,
           0,
           0,
           0,
           0,
           0,
           0,
           0,
           0,
           0,
           0,
           0,
           0,
           0,
           0,
           0,
           0,
           0,
           0,
           0,
           0,
           0,
           1,
           0,
           0,
           1,
           0,
           0,
           1,
           0,
           1,
           1,
           1,
           1,
           0,
           0,
           0,
           0,
           0,
           0,
           0,
           0,
           0,
           0,
           0,
           0,
           0,
           1,
           0,
           0,
           1,
           0,
           1,
           0,
           0,
           1,
           0,
           0,
           0,
           0,
           0,
           0,
           0,
           0,
           0,
           0,
           0,
           0,
           1,
           0,
           0,
           0,
           0,
           0,
           1,
           0,
           0,
           0,
           0,
           1,
           1,
           0,
           0,
           0,
           0,
           0,
           0,
           0,
           1,
           0,
           0,
           0,
           0,
           0,
           0,
           0,
           0,
           0,
           0,
           0,
           0,
           0,
           0,
           0,
           0,
           1,
           1,
           0,
           0,
           0,
           0,
           0,
           1,
           0,
           0,
           1,
           0,
           0,
           0,
           0,
           1,
           0,
           0,
           0,
           0,
           0,
           0,
           0,
           0,
           0,
           0,
           0,
           0,
           0,
           0,
           0,
           0,
           0,
           0,
           1,
           0,
           0,
           0,
           0,
           1,
           0,
           0,
           0,
           1,
           1,
           1,
           1,
           0,
           0,
           0,
           0,
           0,
           0,
           0,
           0,
           0,
           0,
           0,
           0,
           0,
           0,
           0,
           0,
           0,
           0,
           0,
           0,
           0,
           0,
           0,
           0,
           0,
           0,
           0,
           0,
           0,
           0,
           0,
           0,
           0,
           0,
           0,
           0,
           0,
           0,
           0,
           0,
           0,
           0,
           0,
           0,
           0,
           0
          ],
          "coloraxis": "coloraxis",
          "opacity": 0.7,
          "symbol": "circle"
         },
         "mode": "markers",
         "name": "",
         "scene": "scene",
         "showlegend": false,
         "type": "scatter3d",
         "x": [
          1.8558065,
          -0.6361722,
          -0.25722018,
          -2.8176508,
          -2.6943195,
          -2.8270612,
          -2.3135612,
          -2.4433353,
          -2.8742723,
          -2.3135612,
          -2.8742723,
          -0.07618324,
          0.04030989,
          0.03969515,
          -0.032572523,
          -2.7075908,
          -2.375886,
          -0.35689628,
          -0.30105194,
          -0.5419905,
          -0.54305863,
          -0.539787,
          -0.254256,
          -0.5371252,
          -0.14333932,
          -0.4038604,
          -0.80127436,
          -0.80184686,
          -0.9445501,
          -0.9445579,
          -1.1202507,
          -0.80887616,
          -2.8063056,
          -2.8536918,
          -0.5688313,
          -0.6906758,
          -0.51584226,
          -0.6031183,
          -0.92681044,
          1.8881555,
          1.8881555,
          -0.8474077,
          1.8981764,
          1.8981764,
          -0.9437898,
          1.8539013,
          1.8977354,
          1.8942555,
          -12.005553,
          13.93387,
          13.828336,
          13.499841,
          -12.259845,
          12.912666,
          -12.2430105,
          14.509601,
          13.187826,
          13.761678,
          -11.552833,
          12.897645,
          -10.9398575,
          -11.309639,
          -9.566259,
          11.350123,
          -22.102306,
          13.4941435,
          -20.532196,
          14.53032,
          -20.512672,
          -20.326975,
          15.133295,
          13.78374,
          -20.895988,
          -21.91744,
          -2.8408089,
          -22.747704,
          -22.652819,
          10.868249,
          -22.067106,
          -22.608126,
          -21.919512,
          12.042507,
          -21.909357,
          -21.650734,
          -22.691748,
          -22.746027,
          9.757577,
          8.920386,
          -22.802105,
          8.636353,
          9.453929,
          10.204195,
          10.55712,
          11.468972,
          11.468972,
          10.489819,
          13.072473,
          -20.693464,
          -4.204113,
          -20.19429,
          -4.5936995,
          -20.148083,
          -20.148083,
          -20.564741,
          10.869166,
          10.832148,
          -22.997105,
          -23.390816,
          7.8984013,
          -6.4514556,
          -23.27703,
          -6.428685,
          8.318436,
          -6.9039664,
          8.27026,
          -6.898466,
          -23.088072,
          8.921609,
          -23.15456,
          8.976516,
          -1.9998145,
          -2.1682193,
          9.450035,
          9.450035,
          9.506812,
          8.6213875,
          8.417015,
          8.755182,
          8.755569,
          -22.92721,
          9.787042,
          -22.356665,
          -22.356903,
          -22.043571,
          -3.018588,
          -3.2850463,
          -3.419187,
          -3.419187,
          -3.5513473,
          -3.891834,
          -3.8922422,
          -7.1279006,
          -7.5304084,
          -4.8125134,
          -4.834298,
          -7.0992374,
          -7.10051,
          -6.9441504,
          -6.8361335,
          -4.0677342,
          -4.0457845,
          -21.186869,
          -21.479116,
          -21.217264,
          -21.516346,
          12.646606,
          12.5974,
          12.224316,
          12.222821,
          12.147615,
          -9.330527,
          -9.8894005,
          -9.885316,
          -9.885316,
          -10.455902,
          -10.452015,
          -10.4395275,
          -10.4395275,
          -10.434444,
          -10.434444,
          -10.932313,
          -10.929333,
          -10.960384,
          -11.352613,
          -11.950688,
          -12.0620775,
          -12.06092,
          9.274779,
          9.222644,
          8.982175,
          8.626236,
          8.630042,
          8.206812,
          8.199253,
          7.6536913,
          7.4535265,
          6.77024,
          6.8571725,
          6.0459065,
          6.2212763,
          6.2212763,
          5.3669252,
          -10.703787,
          5.356533,
          5.359415,
          5.357948,
          4.6360035,
          -9.412143,
          4.639031,
          4.639031,
          -9.402924,
          -8.50589,
          3.8881922,
          3.8772845,
          3.283102,
          3.2073658,
          -7.3260794,
          -7.4941587,
          -8.448301,
          -7.305623,
          -7.304923,
          -6.4486785,
          -6.2159014,
          -5.2761836,
          -6.470479,
          -4.966575,
          -4.9662724,
          -4.9662724,
          -3.787048,
          -3.7528899,
          -3.787045,
          -3.772152,
          -2.5674875,
          -2.3062835,
          -2.5609653,
          -2.3062835,
          5.0083575,
          -2.3062835,
          -0.4099392,
          -2.6075225,
          -0.4088257,
          -0.39013702,
          1.3693963,
          1.3679963,
          -0.40931764,
          1.3647857,
          1.3688946,
          1.4077847,
          2.150262,
          3.6574364,
          1.907937,
          4.981489,
          3.950231,
          3.948986,
          3.252719,
          1.1801974,
          0.6925629,
          3.6440742,
          -4.379518,
          1.3204011,
          9.199051,
          5.179598,
          -11.705849,
          -16.064156,
          -17.073948,
          -7.177927,
          -7.178859,
          -10.761314,
          -8.935198,
          -8.390099,
          -10.762258,
          -12.882484,
          -12.701463,
          -12.567601,
          -11.789581,
          -12.766037,
          -10.822527,
          -12.5201435,
          -12.819067,
          -13.1356535,
          -10.879307,
          -13.438636,
          -12.709021,
          -12.450174,
          -12.209184,
          -13.168169,
          -13.103947,
          -11.730666,
          1.1046365,
          11.389583,
          1.5099089,
          7.4757686,
          8.26175,
          -10.1497755,
          7.462824,
          -10.412849,
          6.3613214,
          -12.085584,
          5.5149326,
          3.0482562,
          -13.722607,
          -15.443065,
          -12.503825,
          -10.985813,
          -10.1641,
          -11.737479,
          -12.809047,
          -13.279338,
          -13.275902,
          -13.276682,
          -13.780157,
          0.9849942,
          3.6093385,
          5.1832776,
          -10.348389,
          3.6732836,
          3.10671,
          -11.824589,
          2.6696002,
          3.1309607,
          2.2728174,
          2.3145123,
          6.819614,
          1.9907675,
          2.178671,
          6.4010367,
          6.381005,
          7.3578525,
          6.363197,
          7.3860617,
          7.347456,
          7.358565,
          7.358565,
          8.542616,
          9.2544,
          6.4328103,
          8.561264,
          -9.779192,
          9.254732,
          9.262207,
          8.56222,
          12.164225,
          12.242036,
          12.242036,
          9.261323,
          12.416066,
          12.164709,
          12.416068,
          14.358167,
          12.416068,
          1.2331288,
          0.35457534,
          13.433951,
          12.547947,
          12.340435,
          12.892207,
          12.571311,
          12.835983,
          13.001731,
          13.001731,
          12.644294,
          12.964998,
          13.462173,
          14.356572,
          14.073677,
          -9.573564,
          14.346522,
          12.547947,
          14.347151,
          14.063301,
          14.069223,
          14.0648775,
          14.070298,
          14.069225,
          9.323862,
          -9.421769,
          0.7738581,
          12.936904,
          -9.10375,
          -8.912756,
          8.190085,
          8.265364,
          8.287187,
          -10.96966,
          -8.022719,
          -3.6342058,
          -4.3529124,
          -5.730973,
          -7.016873,
          -7.9396133,
          -9.097131,
          -10.491198,
          -12.765204,
          -9.935558,
          -13.231294,
          -13.205572,
          -13.135092,
          -13.014676,
          -11.524654,
          -11.86673,
          -12.348521,
          -14.589443,
          1.199047,
          2.0963702,
          4.9859214,
          4.068208,
          1.1255037,
          4.239375,
          3.9583685,
          6.6337323,
          2.6858985,
          3.1596553,
          2.6833658,
          2.6494675,
          2.6120987,
          2.6581993,
          2.2439086,
          2.2439086,
          2.865299,
          1.8424886,
          2.2469282,
          2.208221,
          2.1715803,
          2.6372583,
          2.1229863,
          -11.481042,
          -11.480843,
          3.4311388,
          3.4310923,
          -11.416355,
          3.4263387,
          3.4154189,
          -10.961122,
          4.403338,
          5.484109,
          -10.408132,
          4.496806,
          5.1031456,
          4.469769,
          5.583034,
          -10.956371,
          5.483523,
          5.6058316,
          6.334997,
          -10.019649,
          -10.055866,
          -10.60939,
          -10.056502,
          -10.05823,
          -10.01779,
          6.324139,
          -10.086098,
          6.3423347,
          6.403289,
          1.5480237,
          6.4160805,
          6.403288,
          7.324888,
          6.403288,
          9.341508,
          9.26663,
          7.8126674,
          1.1570845,
          9.299377,
          7.3157063,
          1.4754958,
          9.2946615,
          7.2748823,
          1.1869968,
          1.1869968,
          9.2997465,
          13.041439,
          9.305689,
          9.34789,
          1.1775148,
          1.2150903,
          12.566453,
          0.37732247,
          12.376941,
          12.376941,
          0.36226198,
          9.647614,
          0.4055677,
          12.6276655,
          12.018108,
          -0.4396119,
          0.3696779,
          12.788263,
          12.815277,
          0.47080868,
          0.37206048,
          12.815277,
          -0.35442504,
          12.788263,
          1.214476,
          13.88832,
          0.42020592,
          13.9802065,
          0.4128849,
          13.894662,
          12.904253,
          13.963612,
          13.960027,
          0.40699312,
          -0.34502932,
          12.036406,
          13.907284,
          -0.35033354,
          -0.40005085,
          -0.3469537,
          -0.4008571,
          0.27483642,
          -0.35033354,
          0.2835643,
          -0.905915,
          13.399869,
          0.4720306,
          -0.36435583,
          -0.35530737,
          0.4720306,
          -0.3578739,
          -0.3611718,
          0.39638096,
          -0.8910845,
          -0.36198962,
          -0.37106347,
          -0.45977604,
          13.354339,
          -0.4695474,
          -0.80119944,
          0.47865495,
          1.2500814,
          0.49145263,
          0.4914527,
          1.324517,
          1.0867486,
          -13.5756855,
          1.8671185,
          1.33196,
          2.8402672,
          2.2765782,
          -11.705291,
          -10.86008,
          -10.374916,
          4.1799827,
          3.7414184,
          2.795447,
          5.1240473,
          6.475849,
          7.350189,
          -9.19995,
          7.36332,
          6.4949846,
          7.3945208,
          -9.198977,
          -8.762356,
          6.4645896,
          7.7484426,
          -9.200801,
          7.74538,
          7.7517576,
          6.4776154,
          -9.20742,
          -9.203105,
          5.6839757,
          5.0464926,
          -9.865393,
          -9.847961,
          5.6663837,
          4.0796413,
          3.6573162,
          -9.873655,
          4.9493003,
          -9.889231,
          3.572886,
          -11.039638,
          -10.494465,
          -11.258565,
          2.8629487,
          2.6915202,
          -11.303607,
          2.6557534,
          -11.273545,
          -11.313387,
          -11.979922,
          -11.997429,
          -11.969667,
          -11.827838,
          -12.007565,
          -12.007563,
          -12.794452,
          1.4538143,
          -12.840388,
          17.078365,
          -13.859865,
          -13.577371,
          -14.844351,
          -14.828907,
          -14.828907,
          14.363592,
          -14.986895,
          -14.986895,
          -15.777587,
          -15.770943,
          -15.777588,
          13.987196,
          -15.834939,
          -16.74347,
          -16.917774,
          -15.801732,
          -16.915651,
          -18.068996,
          -16.918713,
          -18.106798,
          -16.916136,
          13.500211,
          -18.069204,
          -18.106798,
          13.500211,
          -18.106798,
          -18.069204,
          -19.317137,
          13.516113,
          12.88104,
          13.525187,
          -18.47831,
          -18.100548,
          -19.643808,
          -18.100548,
          -18.10648,
          -18.14611,
          -18.464333,
          -19.347858,
          -18.133492,
          12.939148,
          12.939149,
          12.967214,
          -19.364487,
          12.925296,
          -19.373709,
          12.972914,
          12.592266,
          -19.384218,
          -20.384888,
          -19.706915,
          -19.43081,
          12.308971,
          -20.418818,
          12.984672,
          12.324988,
          12.358048,
          12.330707,
          -20.664738,
          -20.664738,
          12.350013,
          12.350012,
          -20.675482,
          -20.675482,
          10.999499,
          11.001903,
          13.341774,
          10.999499,
          -21.179083,
          -21.179083,
          12.110295,
          11.001903,
          9.313491,
          11.002851,
          11.15487,
          9.291528,
          12.2431,
          -21.477507,
          12.244272,
          11.010364,
          12.2431,
          11.010472,
          12.171667,
          9.258937,
          9.258938,
          9.241328,
          11.192226,
          11.158394,
          9.223693,
          9.220093,
          6.4212613,
          11.158394,
          11.042234,
          5.5737677,
          9.220093,
          5.6666155,
          5.6666155,
          5.646231,
          5.64634,
          5.891418,
          5.8112216,
          5.6666155,
          5.891418,
          6.0206985,
          5.934046,
          6.426699,
          6.424112,
          -21.601976,
          8.86183,
          -21.598705,
          6.4255877,
          6.3270636,
          6.3270636,
          6.3270636,
          6.0618515,
          10.8356495,
          6.0618515,
          10.8356495,
          6.4255877,
          5.995382,
          11.224509,
          6.0618477,
          6.3270664,
          6.373997,
          6.1647806,
          6.392321,
          6.1647806,
          9.113312,
          11.132083,
          9.113285,
          11.190934,
          8.861055,
          8.86013,
          10.700979,
          8.860401,
          10.762674,
          11.168477,
          11.1682625,
          10.710799,
          10.763297,
          10.798453,
          10.796395,
          11.138784,
          10.795127,
          11.138784,
          10.795127,
          10.795127,
          10.795127,
          12.601924,
          9.119097,
          12.674889,
          -21.233679,
          9.119097,
          10.54366,
          9.119077,
          10.54366,
          12.711877,
          12.650745,
          12.650745,
          13.197217,
          13.197217,
          9.096895,
          11.12527,
          11.12527,
          12.711746,
          12.650745,
          12.711747,
          13.599367,
          13.589558,
          13.589557,
          12.745986,
          12.693023,
          10.5593815,
          8.864844,
          13.604015,
          13.604015,
          -20.850628,
          12.866662,
          14.57302,
          14.604977,
          13.791142,
          -20.126282,
          14.564757,
          14.588777,
          14.588777,
          14.573354,
          -20.1074,
          -20.1074,
          -20.143028,
          -20.143028,
          13.840032,
          14.573353,
          -19.190617,
          15.106287,
          13.787604,
          13.811676,
          15.119619,
          15.092175,
          -19.925392,
          -19.159725,
          15.119621,
          15.122078,
          15.119621,
          15.11962,
          15.409423,
          15.400483,
          14.902622,
          15.414467,
          15.438902,
          15.433128,
          15.403946,
          15.4249525,
          15.190946,
          15.547203,
          15.548493,
          -16.101856,
          15.421721,
          -17.109,
          -16.10988,
          15.550959,
          15.428562,
          -16.108446,
          15.564856,
          15.550959,
          -16.108446,
          -15.208175,
          15.968219,
          -14.3192835,
          16.715683,
          -14.3192835,
          16.675648,
          -13.647508,
          16.634764,
          16.745846,
          16.54916,
          16.745846,
          16.654984,
          17.144833,
          16.522419,
          17.647173,
          -11.368865,
          -11.368747,
          2.661403,
          2.661403,
          2.5670362,
          2.5521088,
          -8.9981365,
          2.4958797,
          -8.996488,
          -9.555459,
          -9.006765,
          -8.340499,
          18.091805,
          -8.322613,
          18.972736,
          -7.3090215,
          0.8546901,
          -6.050365,
          19.77166,
          -7.4512825,
          -6.0297694,
          -6.0297694,
          -5.970098,
          -6.0852904,
          -0.36965942,
          -4.698659,
          20.09956,
          -4.712618,
          -4.742517,
          -4.7686825,
          -4.7323127,
          20.230043,
          -3.2667122,
          20.246645,
          20.994522,
          20.79159,
          20.347042,
          20.347042,
          20.348381,
          20.781395,
          -2.0854871,
          20.78217,
          20.35064,
          -1.9536822,
          20.338068,
          20.35064,
          20.78217,
          20.35064,
          -2.0478795,
          -2.058992,
          20.639002,
          20.7937,
          -3.516492,
          20.434076,
          20.254744,
          20.41611,
          20.40915,
          20.13523,
          19.855911,
          19.840368,
          19.84069,
          19.566137,
          19.54336,
          -7.176911,
          19.565357,
          -7.181049,
          20.095663,
          20.095282,
          -7.2021804,
          19.14469,
          -8.085519,
          19.62536,
          19.147203,
          19.147203,
          19.147203,
          19.338863,
          19.127571,
          19.337534,
          18.849136,
          -8.928902,
          18.853905,
          19.338863,
          19.338863,
          18.98344,
          18.96883,
          18.526636,
          18.518269,
          18.518269,
          -9.566785,
          18.396889,
          18.396889,
          18.372301,
          18.373117,
          -11.428897,
          18.074268,
          -11.428897,
          18.074326,
          18.68434,
          -12.041053,
          -11.972108,
          -11.994244,
          17.566982,
          17.994722,
          17.985353,
          17.98451,
          16.556553,
          17.2124,
          17.198908,
          17.201124,
          16.551252,
          -12.74708,
          15.696012,
          -14.384435,
          16.550777,
          -13.734188,
          16.218966,
          16.574104,
          -14.347339,
          16.571812,
          16.214622,
          16.242098,
          1.9801868,
          16.7278,
          16.250257,
          16.821342,
          16.796906,
          16.723976,
          16.242098,
          16.242098,
          16.242098,
          1.7861196,
          16.21462,
          16.58226,
          1.7861196,
          1.7859995,
          1.8130277,
          -13.644675,
          16.675648,
          16.737196,
          15.71103,
          15.708884,
          1.4938617,
          16.53845,
          16.58226,
          1.4938501,
          17.159092,
          1.8117571,
          17.14867,
          17.14867,
          17.14867,
          17.579935,
          1.4938501,
          17.58013,
          1.055802,
          17.58013,
          1.0558023,
          17.579935,
          17.14867,
          18.146927,
          17.58436,
          17.61808,
          17.58564,
          1.0878415,
          17.58436,
          17.897867,
          17.878061,
          17.87772,
          1.055802,
          17.897758,
          0.45350406,
          17.897758,
          17.897758,
          0.4801054,
          17.897758,
          17.897867,
          0.5186853,
          0.4804312,
          18.602398,
          17.897867,
          -0.25070572,
          17.898169,
          18.201332,
          17.744995,
          18.202917,
          -0.15146519,
          -0.2535143,
          18.205387,
          -0.16374026,
          18.205387,
          18.205387,
          -1.1112,
          18.41118,
          -0.26531702,
          18.205107,
          -0.25546753,
          -1.1400452,
          -1.1400452,
          -1.15119,
          -1.1142651,
          -1.1504918,
          -1.1292285,
          -0.30974668,
          18.889326,
          -1.1142652,
          -2.1083248,
          -1.871514,
          -1.111201,
          18.513815,
          18.41118,
          -1.0471903,
          -1.871514,
          -1.871514,
          -1.111201,
          -2.0604634,
          18.513815,
          18.513815,
          18.535942,
          -2.1092532,
          18.535942,
          -1.8775473,
          -2.0476806,
          -1.8775494,
          -2.1092532,
          -2.1092532,
          18.076683,
          18.557383,
          -1.9719496,
          -2.112749,
          -2.6342661,
          18.896101,
          18.87964,
          -2.6358144,
          18.45536,
          19.370989,
          -7.3740053,
          19.369682,
          18.943005,
          -2.9401786,
          19.3698,
          19.36736,
          19.36736,
          -6.0433598,
          -7.3578844,
          20.238232,
          19.756327,
          19.999556,
          19.756327,
          19.756325,
          19.756327,
          -5.9748588,
          20.231783,
          -3.0738382,
          -4.6989512,
          20.031406,
          19.684113,
          19.151295,
          2.5425143,
          -8.465661,
          19.077642,
          0.16844319,
          -0.067596056,
          20.2632,
          -3.0779188,
          -4.1944456,
          -2.8429213,
          -2.8426964,
          -2.8479474,
          1.2271994,
          20.712467,
          -1.9934883,
          -1.985643,
          -1.6249443,
          -1.2773992,
          1.925116,
          1.8849694,
          1.7093798,
          1.70064,
          1.4908845,
          1.4127994,
          1.3341562,
          1.1301196,
          0.37654698,
          0.0048498623,
          -0.22716635,
          -0.40862548,
          -2.2500336,
          -2.522562,
          -3.1649046,
          -3.5306618,
          -1.9461969,
          -1.9479674,
          -1.9594276,
          -2.0089047,
          -2.2724993,
          -2.357629,
          -2.2082374,
          -2.3590903,
          -2.3591287,
          -2.35902,
          -2.3589714,
          -2.4207122,
          -2.3578355,
          -2.4247942,
          -2.67975,
          -2.7013226,
          -2.766781,
          -2.831093,
          -2.74915,
          -2.7270422,
          -2.7709365,
          -2.555737,
          -2.6087098,
          -2.4295983,
          -1.1002293,
          0.9740366,
          3.6819577,
          -24.135529,
          7.8968725,
          -23.130625,
          -22.084164,
          11.883732,
          -21.990149,
          -21.738089,
          -3.1573582,
          -3.2219317,
          -3.3050199,
          -5.4649367,
          -22.361816,
          -2.5918345,
          11.322398,
          -8.51108,
          10.500245,
          -8.224851,
          -7.3949804,
          -7.8643384,
          -7.355332,
          -7.2795696,
          -7.029254,
          -7.031679,
          -6.985471,
          8.619394,
          -6.6429205,
          8.478861,
          -6.415652,
          8.503593,
          8.509045,
          8.516409,
          -6.533698,
          -6.2742743,
          -8.43112,
          1.4199752,
          8.525167,
          8.496822,
          8.515625,
          8.506436,
          8.496823,
          -11.504979,
          -11.165705,
          -11.6747055,
          7.3698134,
          -11.477212,
          -11.702202,
          -11.480814,
          -11.287206,
          -11.601198,
          -10.826498,
          -10.826498,
          4.440237,
          4.4345365,
          -9.2956505,
          -9.29565,
          -9.620128,
          -8.707565,
          -9.001355,
          -8.407423,
          -8.407422,
          -7.406973,
          -6.2810974,
          -6.398379,
          -5.002006,
          -5.1167784,
          -5.208525,
          -3.9719222,
          -0.47014195,
          -3.7609544,
          -2.745551,
          -1.4870106,
          -1.4870102,
          -4.777968,
          -4.772413,
          -4.788268,
          -0.49873036,
          0.6127059,
          0.5820773,
          -5.987443,
          0.6717221,
          -7.271601,
          -5.988945,
          0.5848774,
          -7.4614835,
          -5.9909678,
          0.7785932,
          0.77859354,
          0.7770171,
          0.770828,
          0.76864153,
          2.5411334,
          1.5071585,
          2.5411937,
          0.78423446,
          -7.2862406,
          -7.441514,
          0.76556873,
          0.78048974,
          -8.217632,
          1.5048009,
          -7.463095,
          -7.2912536,
          -7.476292,
          -7.476381,
          -7.476292,
          0.7780824,
          -6.1549506,
          -6.004722,
          -0.27516052,
          1.4992477,
          -0.27151087,
          -0.27150527,
          -0.27151087,
          1.4992378,
          -4.761982,
          -0.33408755,
          -4.778897,
          -0.23844346,
          0.542444,
          0.65905845,
          5.4692335,
          -0.10068128,
          4.4788284,
          2.8488173,
          1.8344549,
          1.5399185,
          5.009344,
          4.686332,
          -0.39037365,
          0.6081408,
          -4.745644,
          -0.09293438,
          5.6519628,
          -2.4362514,
          -2.376909,
          -1.9717786,
          -3.1022599,
          -0.71478313,
          -1.7944732,
          -1.7203065,
          -1.7275072,
          -1.7314882,
          -0.6696982,
          -1.658442,
          -1.5446254,
          -1.6649333,
          -0.6715114,
          -1.7120318,
          -4.0951357,
          -0.67194474,
          -3.009233,
          -0.4588171,
          -1.381264,
          -2.9889894,
          -2.8170614,
          -3.992014,
          -3.992014,
          -0.64102775,
          -0.6689744,
          -3.7611334,
          -3.7577338,
          -3.713034,
          -3.7130344,
          0.35160756,
          -4.839409,
          0.35160756,
          0.35739845,
          -6.2579136,
          2.1860275,
          2.2495503,
          2.2344878,
          2.2495503,
          2.1884859,
          -8.423794,
          2.9000678,
          -9.606822,
          3.582164,
          4.3110495,
          3.6156282,
          1.9268024,
          -10.183647,
          3.6227953,
          4.3851075,
          5.146663,
          5.149649,
          1.893785,
          5.13458,
          5.1450295,
          1.8392591,
          1.8396294,
          5.8325143,
          6.961987,
          7.3275986,
          7.176412,
          7.5275702,
          7.527161,
          1.742712,
          7.3380213,
          7.9350405,
          1.6375542,
          1.6377038,
          8.619703,
          8.461636,
          1.5702332,
          1.4985162,
          8.581732,
          8.582923,
          8.582923,
          8.518386,
          8.518386,
          8.518386,
          8.448523,
          8.448523,
          8.351268,
          8.3513365,
          8.353373,
          8.353004,
          8.231222,
          0.95406175,
          8.078334,
          8.076628,
          8.077801,
          8.077599,
          7.872345,
          7.8699713,
          0.7915342,
          7.605717,
          7.5860744,
          7.3335285,
          7.145049,
          7.159604,
          0.3123936,
          5.6674733,
          5.667968,
          0.16306663,
          0.16306663,
          5.69073,
          4.581864,
          -0.1808009,
          -0.18063426,
          -0.18636075,
          2.7315629,
          -0.18822156,
          3.0877118,
          -0.18813132,
          -0.18320163,
          2.704868,
          3.0863972,
          2.6681538,
          -0.41513792,
          0.5259701,
          -1.2155151,
          0.46123943,
          -0.87845534,
          -0.41830927,
          -0.64934975,
          -1.2990081,
          -2.4153001,
          -2.432155,
          -3.1467886,
          -3.1400867,
          -3.7746127,
          -3.7748744,
          -3.781851,
          -4.3333354,
          -1.5350579,
          -4.340886,
          -1.6872559,
          -4.8514504,
          -5.2665114,
          -5.581373,
          -5.7013226,
          -4.1819334,
          -5.851784,
          -5.9931097,
          -6.1104174,
          -6.087969,
          -6.0849605,
          -6.1606293,
          -6.081783,
          -4.202948,
          -6.057611,
          -5.936174,
          -6.0561895,
          -6.094962,
          -5.9887543,
          -5.9355497,
          -5.9599433,
          -5.9599466,
          -5.949993,
          -5.9220114,
          -5.831188,
          -5.830943,
          -5.947608,
          -5.947925,
          -5.6835546,
          -5.8305235,
          -5.577671,
          -5.8298464,
          -5.574373,
          -5.574373,
          -5.682803,
          -5.2590055,
          -5.679658,
          -5.325326,
          -1.8070016,
          -5.250907,
          -4.859827,
          -5.2558446,
          -4.857892,
          -4.872958,
          -4.863064,
          -4.8597393,
          -1.5358151,
          -4.361399,
          -1.5354499,
          -4.386327,
          -3.7956018,
          -3.8011537,
          -3.0863552,
          -2.1787379,
          -2.1787016,
          -2.2462254,
          -0.89987206,
          -2.2403698,
          -1.1991773,
          -1.1826572,
          -1.251489,
          -1.1937625,
          -0.6628499,
          0.8981833,
          -1.2186781,
          0.51723933,
          0.5172396,
          -0.43740848,
          0.5172395,
          -0.43343064,
          0.91560346,
          -3.8752785,
          -4.2410736,
          -3.9968002,
          -3.8878703,
          0.58117086,
          -3.9021285,
          -3.8900073,
          -3.9631956,
          -3.887872,
          -4.3291655,
          -3.3394618,
          -3.3161747,
          -3.8765745,
          -3.875724,
          -3.85972,
          5.46756,
          -3.3424115,
          -3.8589604,
          -3.3424115,
          -4.045736,
          -3.8721945,
          -4.045736,
          -4.045736,
          -4.0449276,
          -4.3391976,
          -4.057944,
          6.566546,
          5.7332497,
          -4.3404913,
          -4.6862593,
          -4.340842,
          7.073439,
          -4.348057,
          -5.1827636,
          -5.1797085,
          -4.3443184,
          -4.3830905,
          -5.1668434,
          -4.654317,
          -5.1345344,
          7.240764,
          7.2349825,
          -5.123679,
          7.594644,
          -4.701306,
          -4.720602,
          -5.1957984,
          -5.2113686,
          -5.2113686,
          -5.2113686,
          7.5942135,
          7.5942135,
          7.213422,
          -4.785221,
          7.065053,
          -4.737228,
          7.2053022,
          -4.737228,
          -4.737228,
          7.204459,
          -4.3470387,
          -4.761672,
          6.5310144,
          6.5310144,
          6.539356,
          6.4617968,
          6.452254,
          0.31172425,
          6.460701,
          6.539356,
          -3.769816,
          6.4617968,
          5.705185,
          4.52785,
          5.6806827,
          -4.0335445,
          -3.4326572,
          5.6811223,
          3.149859,
          4.529173,
          -4.009769,
          -4.009769,
          3.149857,
          3.0856788,
          4.4040375,
          4.52785,
          -4.009769,
          3.1908913,
          -4.0056357,
          2.7462108,
          3.1455374,
          3.1455374,
          -3.9040768,
          3.182763,
          -4.4761677,
          3.144482,
          3.144482,
          -3.9009717,
          3.081787,
          3.142552,
          3.2174048,
          -3.895854,
          2.743831,
          0.62437737,
          3.143802,
          2.7438447,
          0.62437737,
          0.62437737,
          0.62437737,
          -3.8987527,
          2.743831,
          -3.919513,
          0.5883294,
          0.5962786,
          0.61500734,
          3.1425557,
          -3.8800411,
          0.5926596,
          0.6150519,
          0.59164166,
          0.59164166,
          0.5797544,
          0.5889963,
          0.5916416,
          0.55522895,
          0.55522895,
          -3.5840216,
          -3.5818868,
          -3.5864825,
          -1.0635026,
          -3.6494403,
          -3.7436554,
          -3.8270872,
          4.6909995,
          5.300076,
          -3.403521,
          0.20241615,
          -4.5591593,
          5.293871,
          4.62833,
          -3.7373345,
          -4.041103,
          -6.572432,
          -6.3743362,
          -4.388873,
          -4.6424227,
          -4.173558,
          -4.175018,
          -2.439611,
          -2.281697,
          -4.1936126,
          -3.5698829,
          -4.596345,
          -4.209381,
          -4.2701693,
          -2.403732,
          -4.4297533,
          -4.645126,
          -4.6902,
          -4.280069,
          -4.6811094,
          -4.4333143,
          -4.3617506,
          -4.456043,
          -4.445665,
          -2.2795954,
          -1.9677684,
          -4.8075986,
          -4.810406,
          -1.4242266,
          -4.3922153,
          -4.386999,
          -1.7860304,
          -2.1318443,
          -4.4618,
          -1.9694213,
          -2.2812326,
          -4.2634993,
          -4.644327,
          -2.3975046,
          -4.643105,
          -4.1899495,
          -2.2791739,
          -2.4292178,
          -1.7851756,
          -4.398495,
          -1.2566574,
          -4.3940372,
          -1.2548286,
          -4.3908944,
          -1.2543793,
          -2.6801317,
          -4.3806148,
          -4.379991,
          -2.498535,
          -2.1469972,
          -2.5565336,
          -2.7147446,
          -2.499289,
          -2.6878617,
          -2.2710986,
          -2.0228217,
          -1.4250137,
          -2.0212264,
          -0.92602026,
          -1.8359722,
          -1.7287643,
          -1.7599651,
          0.17097083,
          0.16195163,
          -1.8685265,
          0.14085013,
          -1.8703697,
          0.139716,
          -1.871549,
          -1.9013823,
          -1.86909,
          -1.8690982,
          -1.8995367,
          -1.9019082,
          0.14025865,
          -1.8686743,
          -1.8710939,
          -1.8687122,
          0.14288539,
          0.14619389,
          0.14619389,
          0.05229978,
          0.0896959,
          0.052299324,
          -0.023893848,
          0.08934238,
          -0.07970512,
          -0.07558244,
          -0.07971391,
          -0.07971391,
          -0.34113598,
          -0.6854345,
          -2.429249,
          -0.62178373,
          -0.94086564,
          -0.9410486,
          -2.697782,
          -3.4274147,
          -2.9059522,
          -3.6035187,
          7.0895333,
          -4.0459266,
          5.896002,
          5.89371,
          7.281312,
          7.408088,
          7.0844593,
          7.4446874,
          7.290815,
          7.2763715,
          7.290815,
          7.4420323,
          7.4420323,
          7.290815,
          7.3206234,
          7.5308027,
          -5.185092,
          7.2465844,
          7.2059474,
          7.319648,
          7.4131103,
          7.2274694,
          7.2274694,
          6.8669577,
          6.986035,
          6.8288093,
          6.6319227,
          -5.0549693,
          -5.4517393,
          -4.8344703,
          -5.240046,
          -2.5819004,
          -5.2402782,
          -5.1026206,
          -2.5968647,
          -5.2395563,
          -5.241823,
          -5.6418686,
          -2.3681333,
          -4.8381863,
          -2.5951583,
          -5.241823,
          -4.8259788,
          -4.836059,
          -4.4041023,
          -4.822951,
          -4.4033375,
          6.5223126,
          6.476538,
          6.6109967,
          6.7935166,
          6.532762,
          6.7997146,
          6.6110425,
          -5.0456147,
          6.709473,
          -4.3981705,
          -4.4814916,
          -3.7534382,
          -3.54245,
          -2.8648405,
          -2.6720688,
          6.8409963,
          -2.6136193,
          -3.0470424,
          -3.0690193,
          -2.5980937,
          -2.672069,
          -2.6127005,
          -2.6720686,
          -3.0475123,
          -3.4007595,
          6.7965474,
          -3.2855427,
          -3.2947066,
          -3.2970252,
          -2.8648365,
          -3.2861402,
          -3.2861402,
          -2.676861,
          -2.8455877,
          -1.2933624,
          -0.6041027,
          -24.224123,
          6.9277453,
          -23.904167,
          -0.61521345,
          -1.1808428,
          -1.0762225,
          -0.6153382,
          -23.902925,
          -24.217028,
          -24.232933,
          -1.051491,
          -24.2134,
          -24.358232,
          -23.931776,
          -0.6124106,
          -23.930481,
          -0.8741203,
          -1.1750286,
          -23.87454,
          -23.761703,
          -2.2771764,
          -0.79535013,
          -0.8208556,
          -0.4611033,
          -23.874537,
          -24.223082,
          -23.868042,
          -24.220514,
          -23.948788,
          -0.45477962,
          -0.45916662,
          -0.46055686,
          -0.8706014,
          -2.4549656,
          -2.3590155,
          -2.3817291,
          6.8240037,
          -2.4204626,
          -2.4010463,
          -2.3373387,
          -0.31197044,
          -0.93527186,
          -3.5860167,
          -3.652238,
          -5.032236,
          6.867484,
          -4.7491093,
          -4.7629147,
          -4.7634697,
          -5.2359133,
          -2.6651154,
          -6.259311,
          -2.9687867,
          -6.2804885,
          -6.2510853,
          -6.28137,
          -6.2697487,
          -6.6474795,
          -6.6288977,
          -7.2897635,
          -7.503825,
          -7.2680106,
          -7.6676006,
          -7.2656593,
          -7.5295763,
          -7.339405,
          -5.3478723,
          -7.659335,
          -7.278245,
          -7.494485,
          -4.602277,
          -7.991854,
          -5.3476777,
          -19.877388,
          -4.603701,
          -3.6375055,
          -21.048975,
          -8.476769,
          -6.296271,
          -7.9951587,
          -8.828173,
          -8.380054,
          -7.98612,
          -9.147676,
          -8.370532,
          -8.559855,
          -8.73328,
          -7.9780655,
          -8.010304,
          -7.877076,
          -10.014704,
          -10.375205,
          -10.746589,
          -8.086035,
          -11.508733,
          -9.333081,
          -9.922258,
          -9.106731,
          -11.376103,
          -7.7978873,
          -18.143751,
          -17.499294,
          -17.180695,
          -11.451269,
          -11.307126,
          -11.070982,
          -11.451132,
          -11.496066,
          -11.698369,
          -11.580512,
          -15.964254,
          -16.417635,
          -16.827522,
          -10.489821,
          -17.168093,
          -17.191809,
          -17.216795,
          -17.6994,
          -8.7513275,
          -17.6994,
          -8.719302,
          -8.565639,
          -17.72091,
          -8.116336,
          -17.713734,
          -17.737535,
          -17.764008,
          -17.763544,
          -7.9943657,
          -7.970576,
          -17.967707,
          -8.363674,
          -8.491313,
          -8.364062,
          -8.365383,
          -8.46841,
          -8.812691,
          -8.4437275,
          -8.811966,
          -9.075981,
          -8.811967,
          -8.811966,
          -8.803266,
          -11.351208,
          -9.072833,
          -11.437042,
          -11.33465,
          -11.477574,
          -11.569825,
          -11.410093,
          -11.41328,
          -11.41328,
          -11.580864,
          -11.583398,
          -11.14124,
          -8.745159,
          -11.209076,
          -11.614459,
          -11.595421,
          -11.411766,
          -11.052269,
          -9.258255,
          -11.397178,
          -9.754774,
          -9.991918,
          -10.0978565,
          -16.42909,
          6.0815654,
          6.155238,
          7.162527,
          -4.157949,
          -2.9676788,
          -2.978821,
          -2.2534764,
          -2.283106,
          -1.7851913,
          -1.8069391,
          -1.937892,
          5.997287,
          -1.7217491,
          -1.4920956,
          4.9188175,
          1.5078602,
          3.815525,
          3.8177714,
          3.6684422,
          2.9316597,
          2.072375,
          2.8434756,
          2.6973774,
          2.1891758,
          2.6950648,
          2.6760464,
          2.6391172,
          1.8351948,
          7.6224,
          1.8157734,
          -2.59753,
          5.757884,
          1.9073316,
          -2.5975704,
          -2.3135612,
          -2.3666563,
          -2.3135612,
          -9.686302,
          -10.35447,
          5.1794257,
          -10.175211,
          -10.858873,
          3.3666658,
          2.0101519,
          7.945447,
          6.1311746,
          3.8461213,
          7.956708,
          6.251963,
          6.2611237,
          6.1184697,
          6.1150002,
          5.8084755,
          5.342009,
          1.0618682,
          1.1204537,
          1.1812696,
          1.34569,
          1.0389091,
          1.180085,
          1.1972128,
          1.376566,
          1.0625999,
          1.1975318,
          1.1975318,
          1.6462833,
          1.6452886,
          1.455813,
          1.798154,
          2.2666056,
          2.2562845,
          2.0384705,
          2.2924116,
          2.333212,
          2.388729,
          2.3389704,
          2.3389702,
          2.3448832,
          2.3389704,
          -11.2835245,
          2.3392172,
          1.8525532,
          -11.78432,
          1.8424633,
          -11.76994,
          -11.5733185,
          -11.899267,
          -8.462191,
          -0.75439924,
          5.64375,
          -9.445824,
          -9.192144,
          -9.230034,
          -9.230033,
          -9.299,
          -9.252873,
          -9.01424,
          -8.765524,
          12.362461,
          12.341022,
          -0.5484741,
          -0.54171306,
          -0.5576784,
          -0.554602,
          -20.68682,
          -11.581904,
          -13.8107,
          -9.640258,
          -9.582377,
          -9.580387,
          -9.585471,
          -0.4550084,
          12.188196,
          12.195056,
          -0.5067389,
          -0.41473457,
          -15.735233,
          -15.895853,
          6.0068035,
          2.295503,
          -11.75983,
          4.5356193,
          -12.075841,
          -12.133319,
          4.089456,
          4.190072,
          -11.314546,
          -10.944852,
          -14.5603075,
          -14.625403,
          -14.607537,
          -14.607641,
          -14.614239,
          -14.597736,
          -14.614899,
          -10.352206,
          -13.553944,
          1.1533631,
          -12.807576,
          -12.784735,
          5.983154,
          5.042795,
          5.453409,
          5.071228,
          -10.646035,
          5.0465403,
          5.0475073,
          -10.857478,
          -10.857478,
          -11.218275,
          -14.442926,
          -14.420504,
          -10.901308,
          -10.940909,
          -14.465608,
          -10.854073,
          -14.488977,
          -10.774938,
          -11.17472,
          -14.368734,
          -11.176947,
          -10.59259,
          5.5316124,
          5.9488854,
          5.914999,
          6.346136,
          6.2339683,
          6.2359824,
          7.368134,
          -9.910699,
          5.9009132,
          7.2930675,
          -9.031682,
          -8.706892,
          -8.705386,
          -8.660631,
          -8.577971,
          -8.577245,
          -15.368927,
          -8.522757,
          -8.609468,
          -8.70145,
          -15.094736,
          -15.065706,
          -15.150094,
          -9.030849,
          7.229417,
          -9.028637,
          5.8298807,
          6.863718,
          6.9274917,
          -15.14177,
          7.051154,
          -0.46484742,
          -0.5000961,
          -14.155363,
          -14.638839,
          -14.658195,
          7.002725,
          5.796739,
          -8.690861,
          7.0356736,
          7.0356646,
          7.090665,
          7.9157434,
          6.839834,
          7.0306,
          7.0306,
          5.786375,
          7.0306,
          5.796748,
          5.45608,
          7.0306,
          5.5985746,
          5.786375,
          5.80541,
          -8.55611,
          5.8066554,
          5.8412037,
          5.806378,
          5.793227,
          5.544473,
          5.6182127,
          6.962256,
          5.8068957,
          7.0576944,
          7.028948,
          -0.41309735,
          5.862935,
          5.943127,
          -0.28655645,
          5.621332,
          0.018298464,
          0.02208026,
          0.024799734,
          0.24159175,
          0.12755945,
          -0.032910097,
          6.993455,
          5.9830317,
          0.02176386,
          5.950512,
          0.0143397935,
          0.17327477,
          0.23340486,
          -12.434111,
          0.17457786,
          -12.542562,
          16.17974,
          -0.23325247,
          -12.510439,
          -0.04223733,
          16.182024,
          16.179667,
          -13.033125,
          -13.408136,
          0.052060436,
          16.05902,
          -13.460278,
          -13.001206,
          -0.07437365,
          -12.962383,
          16.159725,
          -12.530508,
          -12.575655,
          -12.523855,
          -12.605531,
          -2.4433353,
          -2.3666563,
          -2.768334,
          -2.3135612,
          -12.113069,
          -12.11307,
          -12.102601,
          1.6917243,
          1.7666318,
          1.6772726,
          -9.105344,
          1.3201102,
          -8.716525,
          1.3232603,
          -8.624342,
          1.348703,
          -5.7776093,
          -2.3929236,
          -2.4502363,
          -3.1809714,
          -8.165117,
          -2.8642135,
          -2.3666563,
          -7.351189,
          1.3983516,
          -1.7763308,
          -2.6417992,
          -2.640826,
          -0.89497787,
          1.408641,
          8.862357,
          13.455875,
          12.870876,
          13.510713,
          -12.071245,
          -9.850842,
          -11.741029,
          12.400555,
          10.120153,
          10.089456,
          -6.7712107,
          -10.858083,
          -10.8607025,
          6.4819746,
          -11.944759,
          -12.161307,
          7.714209,
          7.061027,
          -11.941418,
          -11.948154,
          -11.948154,
          -11.946391,
          -12.043933,
          12.92423,
          -1.3940244,
          -1.5542629,
          -4.3735914,
          -8.277033,
          -8.573445,
          -7.4756885,
          -7.601353,
          -8.831123,
          -9.165854,
          -7.338171,
          -6.462815,
          -20.665894,
          -12.048949,
          -12.049344,
          -11.941966,
          -11.993992,
          13.148463,
          8.808666,
          -11.815507,
          13.150151,
          13.173942,
          -12.033306,
          -9.422567,
          -10.351275,
          -20.586905,
          13.768741,
          -5.3226233,
          -20.278862,
          -20.036528,
          -20.594189,
          -7.8353868,
          -6.7662997,
          -7.6113467,
          -7.6386447,
          -9.56554,
          -11.080451,
          -7.4755535,
          -10.453678,
          -7.941364,
          -6.3240914,
          -8.734213,
          -8.417118,
          -11.077348,
          -11.068841,
          -10.330174,
          -11.169378,
          -12.715002,
          -12.699821,
          -8.877714,
          -8.85635,
          -10.414832,
          -14.160119,
          -12.744103,
          -12.433647,
          -11.564679,
          -13.01899,
          -13.028019,
          -16.071276,
          -14.881065,
          -12.366539,
          -14.873713,
          -12.705292,
          -15.927318,
          -13.178428,
          -10.099814,
          -9.924176,
          -15.242516,
          6.191588,
          -11.638409,
          -12.795398,
          -13.154236,
          -13.02691,
          -12.698748,
          -12.529553,
          -11.8031025,
          -13.072276,
          -12.885988,
          -11.968263,
          -15.522255,
          -15.172409,
          -11.70518,
          -12.034669,
          -11.878001,
          -12.885458,
          -11.748946,
          -15.915381,
          -16.773636,
          -12.499931,
          -11.765588,
          -12.207681,
          -15.498482,
          -16.356668,
          4.6558404,
          4.862223,
          4.4098287,
          4.6203065,
          3.930563,
          -15.331168,
          -15.352951,
          -15.082165,
          -15.079504,
          -14.670186,
          -14.921375,
          -14.711135,
          -14.446564,
          5.4272885,
          5.6940274,
          5.642496,
          0.5983836,
          1.3153539,
          -13.265127,
          4.0012617,
          3.9091346,
          4.0504265,
          1.6893843,
          1.4121462,
          1.7271699,
          1.689475,
          1.586486,
          1.0940849,
          1.1081724,
          0.7453981,
          -6.3051844,
          0.798285,
          0.8917801,
          1.4905916,
          1.5446503,
          4.054199,
          3.55571,
          3.9665656,
          3.807906,
          2.1514387,
          6.139441,
          6.1530643,
          5.7798023,
          6.141988,
          -7.5435777,
          -7.617162,
          5.819505,
          -7.7374997,
          1.4691268,
          5.9292,
          6.682556,
          6.729165,
          6.4101458,
          6.4101515,
          6.2610335,
          -7.598859,
          6.284827,
          -7.6446333,
          -7.6446333,
          5.829345,
          5.6415033,
          5.3855352,
          -9.241348,
          6.637156,
          -9.461681,
          -9.638649,
          -9.63865,
          -10.192333,
          6.2952156,
          -9.415573,
          -11.313011,
          -14.707615,
          -14.064925,
          -13.27404,
          -13.686052,
          -13.875237,
          -12.300989,
          -11.71798,
          -11.716232,
          -14.428829,
          -11.258646,
          -10.633005,
          -11.27993,
          5.377987,
          -11.683474,
          -12.01298,
          -13.7213,
          -12.491648,
          -12.578913,
          -1.3599596,
          -12.777033,
          -12.054892,
          1.2236643,
          -10.840367,
          -13.278996,
          -13.694886,
          -13.523137,
          -13.26517,
          -13.627437,
          -13.864635,
          -13.90825,
          -14.033138,
          -14.030052,
          -12.545266,
          0.68220335,
          0.6556047,
          -12.998277,
          -12.478143,
          -12.505671,
          -11.452278,
          2.3717241,
          5.6774473,
          -0.37938616,
          5.9604325,
          5.8506,
          5.6452165,
          5.785317,
          -9.364535,
          -9.760244,
          -10.412274,
          -10.2070675,
          -10.464274,
          -10.969647,
          -14.915249,
          -14.950699,
          -9.730611,
          -8.519841,
          -10.947613,
          -11.276855,
          -10.877674,
          -13.2765045,
          -11.035835,
          -11.036006,
          -13.273687,
          -13.273651,
          -11.154356,
          -14.239041,
          -12.20845,
          -13.279269,
          -12.208525,
          -12.410793,
          9.350611,
          -7.5935993,
          1.3913649,
          9.090601,
          9.032775,
          1.4941894,
          0.8341845,
          3.165781,
          2.568826,
          4.2074275,
          -11.110736,
          -11.648021,
          -11.11564,
          -14.685269,
          -14.696764,
          -14.669699,
          -14.658922,
          -14.448485,
          -14.658922,
          -10.738852,
          -14.718612,
          -14.826218,
          -11.730411,
          -12.550509,
          -13.025269,
          -14.0500145,
          2.6684701,
          3.7883952,
          3.2362146,
          5.121047,
          3.1947854,
          2.419226,
          2.3491156,
          2.3524137,
          0.6465729,
          2.2886822,
          1.2543347,
          2.2770357,
          3.0650182,
          3.3174338,
          3.125687,
          3.5560324,
          3.0553815,
          3.7903323,
          0.81636417,
          5.554556,
          5.888094,
          6.159332,
          9.631821,
          9.348571,
          9.847355,
          -16.856905,
          15.983252,
          -18.93308,
          -18.933247,
          16.358158,
          14.80698,
          14.495871,
          11.119276,
          -4.1117496,
          -3.4912682,
          -3.510631,
          2.1090794,
          1.7482159,
          -4.0873833,
          -5.3686876,
          -4.0433593,
          -3.8947554,
          -3.3251936,
          -3.7039053,
          -4.8853455,
          -6.282266,
          -6.8501215,
          -7.9311056,
          -9.419444,
          -10.321863,
          -10.97443,
          8.122251,
          -11.286161,
          -11.250205,
          5.9451528,
          -10.394252,
          4.5401993,
          -9.594808,
          -9.365691,
          -8.496429,
          -8.125714,
          -6.9927244,
          -7.1226587,
          -6.022284,
          -4.4469414,
          -4.4469414,
          -3.3998663,
          -2.5159788,
          -1.4785475,
          0.7207564,
          0.72075653,
          0.711367,
          0.7692366,
          3.8767173,
          -7.213412,
          6.092758,
          8.209503,
          5.9769764,
          6.6904297,
          6.762348,
          2.8740673,
          2.0511801,
          3.159233,
          -11.5289,
          2.572441,
          4.5426464,
          4.5426464,
          4.6289206,
          4.6289206,
          4.5643144,
          4.641923,
          5.7450814,
          5.749649,
          5.749649,
          5.771068,
          5.771071,
          6.665933,
          5.8357215,
          6.650899,
          6.686779,
          1.7458631,
          6.6943493,
          6.6943493,
          6.6943493,
          6.694364,
          6.6943493,
          6.7036624,
          6.733264,
          7.046866,
          6.7036624,
          5.9784355,
          5.9784355,
          1.9537683,
          6.742594,
          1.9415916,
          5.99897,
          6.214591,
          6.214591,
          6.003609,
          1.8465168,
          6.0237656,
          1.6831764,
          1.9150832,
          5.5820804,
          2.3010151,
          2.2707577,
          5.3917036,
          6.086007,
          5.3917036,
          5.39336,
          5.050013,
          2.25844,
          5.3988733,
          2.5672114,
          2.6724975,
          5.3988733,
          2.5672114,
          2.5693562,
          2.5672114,
          2.67179,
          4.7852926,
          2.5748582,
          2.579129,
          2.5692253,
          2.5392654,
          2.575544,
          2.533291,
          2.5787456,
          3.8137584,
          3.858048,
          2.5507736,
          -9.487335,
          2.4733863,
          2.4733024,
          2.4719536,
          2.2995682,
          2.4719403,
          2.297429,
          2.2974265,
          2.29789,
          2.3247187,
          2.3246555,
          2.3246484,
          1.7688292,
          1.7664733,
          1.7907072,
          1.7907621,
          1.7639672,
          4.028717,
          1.7871088,
          1.4877712,
          1.7664732,
          0.80335575,
          0.6907707,
          0.80669576,
          0.8066958,
          -0.6564884,
          -0.6564884,
          1.604905,
          0.03257182,
          -0.6564884,
          -0.6564884,
          0.05813,
          -0.61728853,
          -4.6515656,
          -0.40128547,
          -1.6550009,
          -0.40128547,
          -3.1629891,
          -3.1638556,
          -1.6638026,
          -3.1074681,
          -2.046244,
          -2.137343,
          -1.9084734,
          -1.9868108,
          -3.136665,
          -4.5273604,
          -1.9868108,
          -4.52028,
          -4.52028,
          -5.481628,
          -5.481628,
          0.3521841,
          -5.481628,
          0.425134,
          -5.3690658,
          -6.604524,
          -6.6046276,
          -6.6046276,
          -7.7799153,
          -7.7799363,
          -7.6012173,
          -7.569962,
          -8.73895,
          -7.5648417,
          2.8951552,
          2.8904712,
          -8.534574,
          -10.128573,
          3.586655,
          -10.72432,
          4.361593,
          -10.72432,
          3.5499544,
          -11.302437,
          -11.3009,
          5.204748,
          -11.294443,
          -11.680219,
          -11.096176,
          -11.4454975,
          6.2458506,
          -11.444353,
          5.981422,
          -11.703535,
          6.893398,
          6.7188234,
          6.7267447,
          -11.867041,
          7.2620473,
          7.278887,
          -11.678521,
          8.001299,
          7.987929,
          7.798874,
          8.210501,
          -11.674665,
          -11.287399,
          8.341258,
          -11.263676,
          -11.258675,
          8.054332,
          8.194601,
          -10.822732,
          8.239416,
          -10.856267,
          8.389551,
          8.448254,
          -10.171566,
          -10.1708,
          -10.16314,
          -10.166225,
          -9.478481,
          -8.628612,
          -8.1622095,
          -6.8949385,
          -5.5969515,
          -4.8786945,
          -3.4614117,
          -3.3273518,
          -2.9161658,
          1.4353586,
          0.97650504,
          -4.0881357,
          0.119082935,
          -4.154083,
          -4.155029,
          -4.1250596,
          0.754068,
          -3.9625092,
          -3.8641617,
          1.7801394,
          2.7579653,
          3.366265,
          3.5131176,
          4.4299903,
          3.5224314,
          4.4245424,
          4.407787,
          4.5188375,
          5.278075,
          4.4188905,
          4.399995,
          4.4000206,
          3.5069988,
          -2.9934921,
          3.501678,
          3.4968555,
          3.5030231,
          2.7889073,
          2.6777995,
          2.7867706,
          3.5169592,
          4.4041605,
          -24.441275,
          4.4163294,
          4.521209,
          3.523214,
          4.54914,
          5.3716125,
          5.381454,
          -24.305563,
          6.268965,
          5.381454,
          6.267805,
          6.1692214,
          6.1686273,
          6.859913,
          6.9354115,
          6.933244,
          7.6012173,
          7.611883,
          8.130417,
          8.134627,
          8.1425905,
          8.231738,
          8.1425905,
          8.851331,
          8.851331,
          8.825744,
          9.686654,
          9.730995,
          9.9632845,
          10.380175,
          10.860085,
          11.449001,
          11.449001,
          11.485468,
          11.448802,
          12.181887,
          12.408222,
          12.183927,
          12.970994,
          13.121932,
          13.00582,
          12.977869,
          12.977869,
          13.548573,
          13.373671,
          13.559034,
          13.706548,
          14.121355,
          14.097074,
          14.104574,
          14.131133,
          14.585244,
          14.585244,
          14.585244,
          14.588044,
          -10.345507,
          14.978408,
          14.588044,
          14.621101,
          -10.342637,
          15.053283,
          15.053282,
          15.465022,
          15.05726,
          14.038259,
          15.053355,
          15.100249,
          15.502875,
          15.500286,
          15.500286,
          15.611316,
          15.608983,
          15.494278,
          15.909985,
          15.610172,
          15.849776,
          16.48167,
          15.72471,
          15.72471,
          15.849756,
          15.849756,
          15.722617,
          16.479939,
          -9.890925,
          16.48161,
          15.849776,
          15.849776,
          15.722617,
          14.901004,
          16.130474,
          15.500531,
          15.459049,
          14.699568,
          15.50498,
          15.50498,
          15.50498,
          14.900773,
          16.128822,
          14.699568,
          15.376015,
          14.699,
          -8.9528675,
          14.699,
          15.506457,
          14.700321,
          14.635853,
          13.962664,
          -8.961146,
          13.962664,
          13.962664,
          14.029895,
          15.375085,
          14.023249,
          14.701965,
          14.755665,
          14.755665,
          14.701966,
          14.701965,
          15.374428,
          14.879065,
          14.755545,
          14.52577,
          10.264796,
          -10.833791,
          10.667886,
          -16.806347,
          15.427157,
          16.825634,
          -6.1799884,
          15.753344,
          -20.506205,
          -21.225143,
          13.311322,
          12.687386,
          12.894344,
          -3.4035692,
          -21.24966,
          -9.3690815,
          -20.670273,
          -20.130741,
          -4.7470274,
          13.883975,
          -20.229443,
          -21.019165,
          -20.981441,
          -20.98122,
          13.541405,
          -4.1742725,
          -20.541866,
          13.567435,
          -20.463387,
          -19.855133,
          -19.729145,
          -5.24315,
          -19.769335,
          -19.769335,
          -19.540693,
          -19.540693,
          -6.743313,
          -18.901676,
          -7.1614428,
          -7.1621227,
          -7.489534,
          -8.191255,
          -7.6291294,
          -18.19811,
          -18.560368,
          -18.880754,
          16.820896,
          16.444155,
          16.820896,
          16.817736,
          16.817736,
          16.517202,
          -10.007569,
          -9.591393,
          16.895855,
          16.551048,
          -9.079791,
          15.136212,
          -8.534547,
          14.428299,
          -8.027812,
          -8.560909,
          14.110506,
          14.088463,
          -8.163223,
          13.877218,
          13.065926,
          -8.866352,
          -8.928542,
          11.381897,
          -8.989547,
          11.404921,
          10.119295,
          -6.2678227,
          8.487605,
          9.04543,
          -4.812882,
          -4.9853396,
          7.9873652,
          -16.291914,
          7.103806,
          7.103806,
          5.97202,
          -16.16196,
          5.8794603,
          5.08474,
          5.8162966,
          5.9808846,
          5.9808846,
          5.9808846,
          5.980884,
          8.17563,
          -3.8729086,
          7.278428,
          7.278428,
          7.2004027,
          7.934233,
          8.370808,
          7.934233,
          8.116316,
          7.912284,
          7.2046113,
          7.9344487,
          7.9130254,
          7.9130254,
          7.2004023,
          7.9130254,
          7.934233,
          7.934233,
          7.974772,
          8.02082,
          8.077998,
          8.077902,
          6.656221,
          8.116215,
          8.116215,
          8.116215,
          7.7766476,
          6.6632557,
          7.813822,
          7.813822,
          7.0724287,
          6.595789,
          5.958316,
          5.953667,
          5.953667,
          5.670253,
          5.1646004,
          5.1646004,
          5.16459,
          5.1668296,
          4.9607186,
          4.9647384,
          3.8652432,
          -14.817586,
          4.21756,
          3.8652432,
          3.8652432,
          3.19707,
          3.2395074,
          3.1951435,
          2.320511,
          2.27374,
          1.3723828,
          1.3655987,
          1.6708467,
          1.3647519,
          1.3618681,
          0.8968153,
          0.837506,
          1.4355085,
          0.3671929,
          0.36719242,
          -0.00384307,
          -0.008096346,
          0.38144273,
          0.0011603162,
          -0.00384307,
          -0.01022499,
          0.0154842315,
          -0.014491484,
          -0.95397687,
          0.030133026,
          6.7312346,
          -0.44744146,
          -0.4571795,
          -0.43134594,
          -0.02388148,
          -11.645854,
          1.453222,
          0.29285493,
          1.3518894,
          0.27112347,
          0.27805376,
          -0.01657538,
          0.040886004,
          -0.43134594,
          -0.36821362,
          -0.36821362,
          8.144041,
          0.04284378,
          6.003288,
          -0.43137807,
          6.700553,
          0.085069075,
          1.1097778,
          6.700664,
          -0.05776641,
          -0.102478325,
          6.6982307,
          -0.09825657,
          8.1656065,
          0.26237744,
          5.9034414,
          -0.10248367,
          6.6982307,
          6.6982274,
          8.160029,
          6.6605763,
          1.1156152,
          8.166536,
          8.175574,
          7.4644556,
          1.1908051,
          7.4798374,
          1.2237377,
          8.191312,
          8.191312,
          8.191311,
          10.63091,
          10.631002,
          10.630969,
          1.091601,
          10.630969,
          11.709912,
          10.695561,
          10.69533,
          11.711162,
          10.695815,
          0.5716351,
          11.71336,
          10.635741,
          11.71336,
          11.71336,
          11.715512,
          11.717416,
          10.557709,
          8.256944,
          10.537555,
          1.6877022,
          10.635741,
          10.537407,
          8.2565155,
          8.25734,
          8.236316,
          8.256912,
          8.2565155,
          8.256912,
          1.6948357,
          11.447903,
          1.7059292,
          1.7059289,
          11.448517,
          8.216999,
          11.448517,
          1.7060497,
          1.7081275,
          11.435769,
          8.218538,
          8.218123,
          1.6220045,
          8.19296,
          8.19296,
          8.2152405,
          1.726855,
          8.215252,
          8.248252,
          8.247869,
          8.248252,
          8.248405,
          11.449333,
          8.2152405,
          8.215261,
          8.248551,
          8.248551,
          8.248551,
          11.727861,
          8.257591,
          10.675797,
          8.283473,
          10.508998,
          11.44811,
          11.458078,
          10.479714,
          10.214884,
          10.39816,
          10.435045,
          10.435093,
          10.176368,
          9.933298,
          11.716735,
          10.435013,
          10.17637,
          10.17637,
          9.9333,
          10.099184,
          10.099184,
          10.099183,
          8.351195,
          9.93331,
          9.972323,
          10.235036,
          10.235036,
          8.362237,
          10.435105,
          8.813037,
          8.3153105,
          7.7505035,
          11.447102,
          8.315021,
          8.813024,
          8.813391,
          8.813301,
          8.812926,
          11.717351,
          8.31502,
          8.828927,
          6.943527,
          8.828927,
          10.099182,
          9.93331,
          8.828927,
          6.943535,
          9.719555,
          9.719557,
          9.772862,
          9.772862,
          9.772862,
          9.7202425,
          9.7728615,
          9.636973,
          1.7737311,
          8.5998535,
          8.5998535,
          8.781482,
          8.777822,
          8.777822,
          8.777822,
          8.782011,
          8.406432,
          9.909084,
          11.45762,
          8.782011,
          8.782011,
          8.41401,
          2.4351273,
          6.965656,
          8.9140415,
          8.91405,
          8.414202,
          4.9755077,
          4.9786906,
          4.9786906,
          4.9755073,
          3.283162,
          3.2818325,
          3.284262,
          3.2844374,
          2.2152152,
          2.1814601,
          1.8765937,
          1.3654635,
          3.623223,
          1.8776765,
          4.260683,
          1.4044898,
          1.8746756,
          0.8635041,
          1.3787943,
          1.8771927,
          1.8771927,
          1.5139891,
          1.5144536,
          1.5144536,
          1.5138007,
          1.5146669,
          1.2917738,
          1.3676691,
          1.3593509,
          1.8750693,
          -0.38013697,
          0.0442701,
          -2.6644201,
          -0.41063562,
          -2.219339,
          -2.1696253,
          -1.8960267,
          -2.1683397,
          5.0219593,
          1.3482933,
          1.4512814,
          -0.3912724,
          5.1634097,
          5.8860617,
          14.18742,
          -7.3562484,
          -8.184087,
          -8.642697,
          -9.499314,
          -9.480433
         ],
         "y": [
          12.572377,
          5.500627,
          5.8171353,
          2.434701,
          2.7145302,
          3.0138721,
          2.9647503,
          2.4624257,
          2.92373,
          2.9647503,
          2.92373,
          5.651856,
          5.397319,
          5.3951335,
          5.5836134,
          2.7742321,
          2.4112647,
          4.918608,
          4.9251094,
          5.1011257,
          5.1021924,
          5.122234,
          5.8023696,
          5.289696,
          5.710987,
          4.9156857,
          5.7467985,
          5.752148,
          5.4704356,
          5.4704514,
          5.04084,
          5.6415424,
          2.4619224,
          2.4808116,
          5.294633,
          4.9991317,
          4.986881,
          5.217028,
          5.55265,
          12.601989,
          12.601989,
          5.7708745,
          12.4512615,
          12.4512615,
          5.537394,
          12.574801,
          12.450688,
          12.444738,
          -10.147123,
          8.107691,
          8.113749,
          8.140849,
          -9.089654,
          9.811914,
          -6.89832,
          8.976315,
          10.174882,
          9.975372,
          -9.509937,
          10.226942,
          -5.49092,
          -6.25493,
          -3.9470549,
          9.413312,
          -4.527404,
          9.4922905,
          -1.3267531,
          10.016381,
          -0.7995929,
          -0.84442973,
          9.93899,
          10.03755,
          -2.622045,
          -3.9785573,
          -20.729488,
          -5.0806427,
          -5.0645647,
          7.2015505,
          -4.5244093,
          -5.056383,
          -3.9775465,
          8.802851,
          -3.9746132,
          -3.3726804,
          -4.596433,
          -5.081944,
          7.91471,
          7.2933407,
          -5.097173,
          5.9204135,
          6.7639046,
          7.718737,
          7.39535,
          8.080369,
          8.080369,
          7.4204373,
          8.972319,
          -1.96694,
          -20.146347,
          -1.3300687,
          -19.85866,
          -0.6736615,
          -0.6736615,
          -1.9285623,
          7.1986756,
          7.2056146,
          -5.518984,
          -5.9797606,
          5.315942,
          -2.171822,
          -5.6069193,
          -2.1790073,
          6.384015,
          -2.3876626,
          6.4634256,
          -2.3908856,
          -5.548754,
          7.291011,
          -5.578012,
          7.2168646,
          -21.048544,
          -20.97704,
          6.759226,
          6.759226,
          6.6987457,
          5.91794,
          6.148255,
          5.768218,
          5.7696633,
          -5.5129538,
          6.445134,
          -5.0109625,
          -5.010301,
          -4.5209556,
          -20.97115,
          -20.58962,
          -20.816414,
          -20.816414,
          -21.063639,
          -20.637388,
          -20.64141,
          -5.4411273,
          -5.055598,
          -19.965584,
          -19.981361,
          -4.7477617,
          -4.7492747,
          -5.2980614,
          -5.1751204,
          -20.917894,
          -20.880226,
          -3.3245473,
          -3.8894134,
          -3.3189814,
          -3.8957372,
          8.504508,
          8.533437,
          8.709624,
          8.709224,
          8.756959,
          -3.3448656,
          -3.8133276,
          -3.8159049,
          -3.8159049,
          -4.2914033,
          -4.2956,
          -4.3250113,
          -4.325011,
          -4.330529,
          -4.330529,
          -4.9468017,
          -4.956247,
          -5.176729,
          -6.1526284,
          -6.266458,
          -6.183071,
          -6.1867414,
          16.328735,
          16.291306,
          16.111015,
          15.849579,
          15.853503,
          15.609826,
          15.599225,
          15.479733,
          15.471289,
          15.301624,
          15.278211,
          15.166168,
          15.1739,
          15.1739,
          15.120257,
          -11.587625,
          15.13406,
          15.143475,
          15.144728,
          15.078109,
          -12.022884,
          15.090216,
          15.090216,
          -12.029116,
          -12.4238615,
          15.013457,
          15.129246,
          15.045972,
          14.935992,
          -12.5408325,
          -12.617976,
          -12.429168,
          -12.546451,
          -12.541346,
          -12.621522,
          -12.598008,
          -12.472621,
          -12.618218,
          -12.496581,
          -12.495967,
          -12.495967,
          -12.212984,
          -12.217404,
          -12.212983,
          -12.221977,
          -11.536947,
          -11.814984,
          -11.54248,
          -11.814984,
          0.7102421,
          -11.814984,
          -11.374348,
          -11.499388,
          -11.379534,
          -11.372371,
          -10.74916,
          -10.757893,
          -11.375207,
          -10.7684145,
          -10.782366,
          -10.643738,
          -8.645603,
          -0.985869,
          -11.097181,
          0.73064834,
          0.0041858,
          0.0021969937,
          -7.2621603,
          -8.070173,
          -9.738654,
          -1.1392169,
          -11.8076,
          14.3826275,
          4.6799707,
          0.5424411,
          -12.239958,
          3.0883486,
          1.9713521,
          -17.890287,
          -17.889547,
          -3.0680013,
          -16.782331,
          -17.26492,
          -3.0686429,
          -3.5326297,
          -3.5091467,
          -12.071348,
          -13.204314,
          -11.425809,
          -12.650965,
          -2.6712496,
          -2.509829,
          -2.7835774,
          -3.0508122,
          4.2294526,
          -3.2507644,
          -3.1477134,
          -2.6537623,
          -3.0922477,
          -2.917638,
          -11.2677965,
          -1.764061,
          -6.1850586,
          -4.9467745,
          7.297797,
          8.585301,
          9.6290045,
          7.167331,
          8.05448,
          -13.669224,
          7.4239683,
          -12.401076,
          -2.2957754,
          4.0582,
          3.6676772,
          -2.7527869,
          -12.728539,
          -13.288595,
          -11.280642,
          -9.906223,
          -3.4585857,
          -3.5570192,
          -3.5234933,
          -8.549745,
          -2.475476,
          -7.2593737,
          8.052377,
          7.9324327,
          8.908226,
          6.3490667,
          10.558508,
          7.914673,
          8.255443,
          11.335169,
          11.4353485,
          -12.76123,
          12.105103,
          12.231349,
          -12.516555,
          -12.555045,
          -12.655679,
          -12.562736,
          -12.59626,
          -12.666376,
          -12.652871,
          -12.652863,
          -11.879034,
          -12.589983,
          -12.282076,
          -11.911284,
          7.338623,
          -12.596079,
          -12.623041,
          -11.914822,
          -13.607553,
          -13.760599,
          -13.760599,
          -12.617602,
          -13.830724,
          -13.60679,
          -13.830723,
          -15.669598,
          -13.830723,
          16.268578,
          15.760814,
          -13.596017,
          -13.392456,
          -13.435902,
          -13.949814,
          -13.505518,
          -13.532677,
          -13.727024,
          -13.727024,
          -13.36912,
          -13.811998,
          -13.608134,
          -15.67226,
          -16.3655,
          8.494221,
          -15.705825,
          -13.392456,
          -15.704097,
          -16.374165,
          -16.368677,
          -16.372059,
          -16.368294,
          -16.36868,
          -13.143991,
          8.146331,
          15.744015,
          -17.262943,
          9.404306,
          9.369218,
          -19.048504,
          -19.29108,
          -19.285515,
          5.0296936,
          -4.4095063,
          -20.245646,
          -20.29116,
          -19.232645,
          -17.63272,
          -16.37848,
          -15.197537,
          -13.367289,
          -2.7513635,
          -2.8952713,
          -3.100692,
          -2.937789,
          -2.7864494,
          -2.6153617,
          -10.947738,
          -11.412086,
          -11.000136,
          4.238089,
          -2.9268205,
          -3.4614744,
          -6.1405964,
          -4.219809,
          -2.6221273,
          -6.831604,
          -6.708796,
          2.0202937,
          -7.4679656,
          -7.602289,
          -8.793996,
          -8.822508,
          -8.847399,
          -8.838673,
          -9.989498,
          -9.989498,
          -10.19228,
          -8.522017,
          -9.946199,
          -9.976788,
          -10.009097,
          -10.272006,
          -9.989071,
          4.704539,
          4.705308,
          -11.036102,
          -11.036058,
          4.7441745,
          -11.035379,
          -11.028719,
          5.0211525,
          -11.69954,
          -12.3391695,
          4.957659,
          -11.79747,
          -12.09574,
          -11.768956,
          -12.200513,
          5.022239,
          -12.336636,
          -12.196212,
          -12.632592,
          5.5353203,
          5.47688,
          5.370175,
          5.4770265,
          5.480082,
          5.5311475,
          -12.643302,
          5.4307656,
          -12.572333,
          -12.301795,
          13.179535,
          -12.295234,
          -12.301796,
          -12.690968,
          -12.301796,
          -12.857428,
          -12.6245575,
          -13.097117,
          14.300442,
          -12.7363405,
          -12.7055235,
          14.6974325,
          -12.736612,
          -12.806713,
          14.334204,
          14.334204,
          -12.74289,
          -14.323691,
          -12.749275,
          -12.872619,
          14.332962,
          16.28323,
          -14.214813,
          15.747716,
          -14.109689,
          -14.109689,
          15.750237,
          -13.440683,
          15.723877,
          -14.077634,
          -15.000733,
          15.298656,
          15.7486925,
          -14.265524,
          -14.159615,
          15.6909,
          15.750916,
          -14.159615,
          17.529236,
          -14.265524,
          16.285152,
          -16.566872,
          15.732474,
          -16.459965,
          15.728723,
          -16.55758,
          -14.176958,
          -16.481865,
          -16.486502,
          15.726031,
          17.544409,
          -15.026658,
          -16.543217,
          17.532652,
          18.076189,
          17.53908,
          18.07138,
          17.892105,
          17.532652,
          17.88029,
          17.001734,
          -16.834127,
          15.6925955,
          17.52397,
          17.526293,
          15.6925955,
          17.528345,
          17.520845,
          15.719506,
          16.97689,
          17.518974,
          17.516226,
          15.282219,
          -16.860739,
          15.278619,
          15.188931,
          15.617219,
          16.34521,
          15.624026,
          15.624026,
          12.854982,
          14.209829,
          6.123822,
          12.018097,
          12.858598,
          9.9386635,
          11.331964,
          6.848893,
          7.1491103,
          7.9828362,
          9.244985,
          8.957051,
          -10.33663,
          8.073752,
          6.473612,
          7.2565675,
          8.995097,
          7.264433,
          6.4799623,
          7.296201,
          8.982862,
          9.331867,
          6.457071,
          3.2169406,
          8.996886,
          3.2106178,
          3.2233286,
          6.4555345,
          9.029653,
          9.0065565,
          8.694636,
          8.046951,
          8.970454,
          8.906013,
          8.692462,
          9.215093,
          8.899516,
          9.0001745,
          7.9818964,
          9.047611,
          8.8491,
          7.440138,
          8.386763,
          7.794366,
          10.093123,
          9.782056,
          7.881922,
          9.763803,
          7.8178177,
          7.897304,
          7.3261495,
          7.334115,
          7.270532,
          6.9388022,
          7.337147,
          7.3371477,
          6.8243513,
          11.775485,
          6.8739934,
          -7.1293235,
          6.406135,
          6.1565895,
          6.032333,
          5.998635,
          5.9986353,
          -4.987419,
          6.295067,
          6.295065,
          5.5118823,
          5.501088,
          5.5118823,
          -4.580283,
          5.917978,
          4.6400957,
          4.908672,
          5.5543065,
          4.886255,
          4.188613,
          4.9111176,
          4.199462,
          4.888222,
          -3.7696893,
          4.1894913,
          4.199462,
          -3.7696893,
          4.199462,
          4.1894913,
          3.5005329,
          -3.7720788,
          -2.9470575,
          -3.7714434,
          4.730405,
          4.208965,
          3.8304994,
          4.208965,
          4.2140102,
          4.22978,
          4.7226863,
          3.5157485,
          4.236759,
          -2.9177527,
          -2.917753,
          -2.915586,
          3.5311408,
          -2.927461,
          3.5328383,
          -2.9102104,
          -2.9357471,
          3.5363665,
          3.076793,
          3.8876736,
          3.5471528,
          -1.6212283,
          3.0980594,
          -2.9033895,
          -1.6171068,
          -1.5947773,
          -1.6107382,
          3.406852,
          3.406852,
          -1.6041477,
          -1.6041476,
          3.4267123,
          3.4267123,
          0.22270434,
          0.23113167,
          -1.2640082,
          0.22270434,
          3.039932,
          3.0399323,
          0.21266504,
          0.23113167,
          3.4794297,
          0.23503166,
          4.9885473,
          3.4824708,
          0.34433636,
          2.7246697,
          0.34357175,
          0.2680917,
          0.34433636,
          0.27112904,
          0.27118114,
          3.4854407,
          3.485439,
          3.4862282,
          4.748449,
          4.723449,
          3.4869537,
          3.4882371,
          5.362607,
          4.723449,
          4.994278,
          5.825249,
          3.4882371,
          5.7184377,
          5.7184377,
          5.679183,
          5.679536,
          6.243256,
          6.239169,
          5.7184377,
          6.243256,
          6.232351,
          5.4765024,
          5.3739495,
          5.3626285,
          2.6206872,
          1.6880407,
          2.642075,
          5.3625464,
          6.0461774,
          6.0461774,
          6.0461774,
          5.4628487,
          4.656884,
          5.4628487,
          4.656884,
          5.3625464,
          6.096365,
          4.262981,
          5.4628487,
          6.046173,
          5.871624,
          5.993333,
          5.865726,
          5.993333,
          3.4918845,
          4.200137,
          3.4918604,
          4.2460766,
          1.6888283,
          1.6909297,
          4.3243566,
          1.6894095,
          4.439694,
          4.4738584,
          4.4735503,
          4.2762218,
          4.2029753,
          4.1775517,
          4.1787796,
          4.5519257,
          4.9625897,
          4.5519257,
          4.9625897,
          4.9625897,
          4.9625897,
          0.6958878,
          3.493457,
          0.7817174,
          3.0755186,
          3.493457,
          4.748672,
          3.4934602,
          4.748672,
          0.8164649,
          0.74310094,
          0.74310076,
          1.2792253,
          1.2792253,
          3.4945004,
          0.79941696,
          0.79941696,
          0.8165068,
          0.74310094,
          0.81650716,
          -1.249303,
          -1.2664192,
          -1.2664188,
          0.84915453,
          0.78252876,
          1.0280571,
          1.6539025,
          -1.2694147,
          -1.2694147,
          3.7062576,
          -1.4758102,
          -2.7826793,
          -2.773728,
          -2.8762007,
          4.3896017,
          -2.7880962,
          -2.79401,
          -2.79401,
          -2.799947,
          4.3997197,
          4.3997197,
          4.4237423,
          4.4237423,
          -2.8816397,
          -2.799947,
          5.1025906,
          -3.8245866,
          -2.887119,
          -2.8790278,
          -3.8227854,
          -3.825819,
          4.1018686,
          5.088044,
          -3.8227854,
          -3.82213,
          -3.8227854,
          -3.8227854,
          -4.6096063,
          -4.6106653,
          -4.648861,
          -4.6095796,
          -4.605149,
          -4.6072717,
          -4.611221,
          -4.6092534,
          -5.147241,
          -5.1516075,
          -5.151691,
          6.3506494,
          -4.6087976,
          5.8828864,
          6.3632455,
          -5.1513405,
          -4.607261,
          6.36118,
          -5.1522474,
          -5.1513405,
          6.36118,
          6.955428,
          -6.061116,
          7.416078,
          -6.884699,
          7.416078,
          -7.417423,
          7.7945623,
          -7.599736,
          -7.3293986,
          -7.3467026,
          -7.3293986,
          -7.60406,
          -7.166027,
          -7.387344,
          -6.672235,
          9.839374,
          9.836015,
          5.8131027,
          5.8131027,
          6.1841846,
          3.9692516,
          11.1921215,
          3.9504092,
          11.1882925,
          10.726131,
          11.253207,
          11.808334,
          -3.1580515,
          11.795421,
          -2.6766036,
          12.580334,
          -2.036795,
          13.150728,
          -1.1147084,
          12.977242,
          13.210681,
          13.210681,
          12.485912,
          13.150238,
          -4.8763366,
          14.122535,
          -0.59202147,
          14.130725,
          12.860193,
          13.589746,
          13.60166,
          -0.09110262,
          13.981966,
          -0.10396262,
          -0.14723793,
          0.1786919,
          0.2363162,
          0.2363162,
          0.2113537,
          0.18290974,
          14.331553,
          0.16814023,
          0.1834786,
          13.95594,
          0.22907773,
          0.1834786,
          0.16814023,
          0.1834786,
          14.348925,
          14.358933,
          -0.15888621,
          0.14431886,
          14.4782095,
          -0.6016523,
          -0.116499744,
          -0.59510493,
          -0.58828324,
          -0.6465469,
          -1.3635885,
          -1.3415979,
          -1.343243,
          -2.1349125,
          -2.0954845,
          12.497956,
          -2.131617,
          12.428357,
          -2.0670848,
          -2.0716996,
          12.51016,
          -2.7968094,
          11.574208,
          -3.0315218,
          -2.7992067,
          -2.7992067,
          -2.7992067,
          -3.972257,
          -2.7835684,
          -3.9725118,
          -3.6266408,
          11.033087,
          -3.6286364,
          -3.972257,
          -3.972257,
          -4.5960693,
          -4.594321,
          -4.4955797,
          -4.4935226,
          -4.4935226,
          10.654967,
          -5.324088,
          -5.324088,
          -5.315558,
          -5.321852,
          9.8782425,
          -6.2867703,
          9.8782425,
          -6.286754,
          -6.1693063,
          9.447921,
          9.350226,
          9.368576,
          -6.7877855,
          -6.9644394,
          -6.966351,
          -6.966517,
          -6.8300495,
          -7.153328,
          -7.1561584,
          -7.1556892,
          -6.8682413,
          8.564059,
          -7.556441,
          7.571073,
          -6.90255,
          7.9277573,
          -6.6964045,
          -6.93827,
          7.4866495,
          -6.9649963,
          -6.6959424,
          -6.7193255,
          -3.2671278,
          -6.894586,
          -6.7247086,
          -7.3422694,
          -7.3412595,
          -6.892044,
          -6.7193255,
          -6.7193255,
          -6.7193255,
          -3.196584,
          -6.6959376,
          -6.9870954,
          -3.196584,
          -3.1965392,
          -3.2151098,
          7.7916536,
          -7.417423,
          -7.422053,
          -7.5876336,
          -7.584108,
          -3.0884693,
          -7.3850517,
          -6.987096,
          -3.0884383,
          -7.165589,
          -3.2145326,
          -7.1681433,
          -7.1681433,
          -7.1681433,
          -6.767517,
          -3.0884383,
          -6.7686434,
          -2.9099033,
          -6.7686434,
          -2.909903,
          -6.767517,
          -7.1681433,
          -6.655005,
          -6.763271,
          -6.715497,
          -6.7617564,
          -2.9810455,
          -6.763271,
          -6.060665,
          -6.0722446,
          -6.0743346,
          -2.9099033,
          -6.0623174,
          -2.5281224,
          -6.0623174,
          -6.0623174,
          -2.6609368,
          -6.0623174,
          -6.060665,
          -2.7860298,
          -2.6612012,
          -6.11136,
          -6.060665,
          -2.3319006,
          -6.059513,
          -5.321411,
          -5.266265,
          -5.321115,
          -2.5853114,
          -2.3305142,
          -5.313657,
          -2.5736613,
          -5.313657,
          -5.313657,
          -1.9628341,
          -4.458493,
          -2.319761,
          -5.3136234,
          -2.329842,
          -1.997688,
          -1.997688,
          -1.6111188,
          -1.9665468,
          -1.6114402,
          -1.983511,
          -2.0765998,
          -4.6036186,
          -1.9665468,
          -1.6512861,
          -1.316234,
          -1.9628345,
          -3.4851027,
          -4.4584937,
          -1.8883536,
          -1.316234,
          -1.316234,
          -1.9628345,
          -1.7800816,
          -3.4851027,
          -3.4851027,
          -3.4928775,
          -1.646567,
          -3.4928634,
          -1.3152531,
          -1.7564912,
          -1.315252,
          -1.646567,
          -1.646567,
          -3.1582851,
          -3.5023656,
          -1.2029434,
          -1.6438066,
          -1.3847758,
          -2.6395552,
          -2.6227784,
          -1.3851199,
          -2.4745178,
          -1.7333286,
          12.488419,
          -1.7090412,
          -2.6641896,
          -1.2442688,
          -1.7062274,
          -1.7010552,
          -1.7010552,
          13.096429,
          12.562352,
          -0.9200441,
          -1.0566765,
          -1.7738788,
          -1.0566765,
          -1.0566758,
          -1.0566765,
          12.431005,
          -0.90080184,
          -1.186498,
          13.517565,
          -0.49386108,
          -0.9097635,
          -1.3859878,
          4.424294,
          11.4289055,
          -1.2766469,
          -5.8729696,
          -6.009576,
          -0.1988378,
          13.781401,
          14.1164465,
          -7.4343286,
          -7.2442403,
          -7.4277844,
          14.353038,
          0.9631445,
          4.5523334,
          4.5448375,
          4.6528044,
          4.454799,
          12.303059,
          12.622174,
          12.859158,
          12.863208,
          13.233965,
          13.334609,
          13.418523,
          13.59684,
          14.092442,
          13.435561,
          13.439178,
          13.446785,
          13.925282,
          13.788135,
          13.31637,
          12.943417,
          12.520946,
          12.485701,
          12.44542,
          12.273488,
          11.342152,
          10.961992,
          11.511257,
          10.923848,
          10.918321,
          10.918872,
          10.922686,
          10.638536,
          10.939393,
          10.623597,
          9.329704,
          9.235236,
          9.254171,
          9.093819,
          8.301925,
          7.85202,
          6.2531433,
          7.055239,
          5.847811,
          5.551894,
          5.143486,
          3.791094,
          2.3466012,
          -7.192892,
          5.3193927,
          -5.5528574,
          -4.009601,
          8.938361,
          -3.9963071,
          -3.9726157,
          -21.238836,
          -21.313784,
          -21.491014,
          -7.6270146,
          -5.0046163,
          -20.970098,
          8.17427,
          -2.99308,
          9.1619215,
          -2.9741554,
          -2.6903515,
          -2.969153,
          -2.692125,
          -2.6964896,
          -2.722957,
          -2.7224772,
          -2.7275257,
          9.407173,
          -2.7444973,
          9.480485,
          -2.7548313,
          9.511503,
          9.506126,
          9.49975,
          -2.7467687,
          -2.6856368,
          -3.384062,
          13.321828,
          16.050093,
          15.806619,
          15.819303,
          15.813088,
          15.806619,
          -6.3656383,
          -5.540786,
          -7.498034,
          14.924875,
          -8.767994,
          -8.471215,
          -9.52169,
          -10.414075,
          -10.417995,
          -11.176828,
          -11.176828,
          14.356412,
          14.344914,
          -12.104218,
          -12.1042185,
          -12.359837,
          -12.517535,
          -11.865112,
          -12.277731,
          -12.277732,
          -12.194169,
          -11.907241,
          -11.897274,
          -11.445127,
          -11.216132,
          -11.16346,
          -10.370513,
          13.991535,
          -10.783445,
          -9.703969,
          -8.638705,
          -8.638705,
          12.773399,
          13.439354,
          12.729447,
          -7.1314964,
          -5.610678,
          -5.616675,
          12.304925,
          -5.5929785,
          11.538939,
          12.241651,
          -5.6068316,
          12.234161,
          12.289466,
          -2.4448452,
          -2.4448442,
          -2.4521224,
          -2.4662173,
          -2.4548063,
          -0.6842997,
          -2.9663818,
          -0.68432033,
          -2.3405867,
          11.609539,
          12.341897,
          -2.4634783,
          -2.3527653,
          11.19904,
          -2.9689252,
          12.27454,
          11.647772,
          12.274552,
          12.274255,
          12.274552,
          -2.3361974,
          12.88903,
          12.238192,
          -4.6053286,
          -2.974867,
          -4.584196,
          -4.584187,
          -4.584196,
          -2.974878,
          13.361585,
          -4.5971465,
          12.70376,
          -4.560559,
          -5.580808,
          -5.5827723,
          -11.815786,
          8.587898,
          -10.622415,
          3.8562207,
          0.1139819,
          -3.094617,
          -1.3793175,
          -1.8259392,
          -4.710374,
          -5.6833463,
          12.540058,
          -7.3948956,
          -2.4888933,
          -6.560334,
          -6.511304,
          -8.350569,
          13.760415,
          14.409891,
          14.124063,
          14.140304,
          14.14152,
          14.14214,
          14.325013,
          14.160087,
          13.5709715,
          14.162151,
          14.32526,
          14.745909,
          -10.325446,
          14.32594,
          -9.545138,
          13.965016,
          13.174432,
          -9.611231,
          -9.8021965,
          -10.365652,
          -10.365652,
          14.323703,
          14.328404,
          -10.773418,
          -10.775588,
          -10.80098,
          -10.800981,
          14.207536,
          -11.494993,
          14.207536,
          14.22257,
          -11.897432,
          14.385663,
          14.413394,
          14.40882,
          14.413394,
          14.387257,
          -12.19504,
          14.39787,
          -12.36705,
          14.15468,
          14.091571,
          14.284271,
          12.179184,
          -11.702389,
          14.292294,
          14.199697,
          14.228332,
          14.238109,
          12.268737,
          14.218473,
          14.221321,
          12.368797,
          12.370127,
          14.38362,
          14.485706,
          14.733538,
          14.305539,
          14.706426,
          14.695612,
          12.69934,
          14.725214,
          15.083012,
          12.990825,
          12.990049,
          16.0062,
          15.774522,
          13.11867,
          13.224232,
          16.18375,
          16.183813,
          16.183813,
          16.422916,
          16.422916,
          16.422916,
          16.700163,
          16.700163,
          16.979826,
          16.979622,
          16.978903,
          16.979374,
          17.250711,
          13.7239275,
          17.542168,
          17.545109,
          17.543133,
          17.543394,
          17.85835,
          17.86058,
          13.835489,
          18.316286,
          18.12398,
          19.139715,
          18.833168,
          18.810736,
          14.110892,
          19.596022,
          19.595259,
          14.180431,
          14.180431,
          19.411709,
          20.14163,
          14.295869,
          14.2915,
          14.2865,
          19.683798,
          14.2870455,
          20.885523,
          14.28756,
          14.296754,
          19.64206,
          20.88624,
          19.573603,
          14.317707,
          21.344173,
          21.063866,
          21.357914,
          14.301846,
          14.320767,
          14.321587,
          21.062433,
          20.553871,
          20.550209,
          20.085686,
          20.081139,
          19.60029,
          19.599367,
          19.584671,
          19.051804,
          14.187394,
          19.045504,
          14.151597,
          18.439531,
          17.647617,
          16.749514,
          16.72783,
          6.531256,
          14.785428,
          14.778891,
          14.809082,
          14.8128605,
          14.8172655,
          14.834064,
          14.820941,
          6.649646,
          14.11583,
          14.153888,
          14.113973,
          14.8276615,
          14.152066,
          14.152493,
          14.150713,
          14.150716,
          15.74275,
          14.861056,
          15.781557,
          15.781446,
          15.7467985,
          15.746933,
          16.713774,
          15.784111,
          16.730932,
          15.786659,
          16.741129,
          16.741129,
          16.716759,
          17.631277,
          16.729433,
          17.624138,
          14.125587,
          17.637072,
          18.37726,
          17.639246,
          18.380482,
          18.399593,
          18.375502,
          18.380188,
          14.196448,
          19.00793,
          14.192174,
          18.981586,
          19.545952,
          19.540073,
          19.993715,
          20.400795,
          20.400688,
          20.510233,
          14.307858,
          20.517426,
          20.613197,
          20.62342,
          20.99866,
          20.61407,
          14.324547,
          22.508614,
          21.02601,
          21.86567,
          21.865726,
          14.333741,
          21.865671,
          14.3277645,
          22.518042,
          2.1481931,
          3.0164685,
          3.2217252,
          2.152493,
          21.863903,
          2.1332288,
          2.1521816,
          3.2509944,
          2.1524928,
          2.1191356,
          1.0382164,
          1.0208782,
          0.82938564,
          0.82811135,
          0.81566685,
          2.8081958,
          1.0431875,
          0.8158078,
          1.0431875,
          -0.2240224,
          0.81880045,
          -0.2240224,
          -0.2240224,
          -0.21989049,
          -1.1272967,
          -0.25262368,
          19.253647,
          2.8403563,
          -1.1272976,
          -1.8144866,
          -1.1095248,
          18.36769,
          -1.5758119,
          -2.2267802,
          -2.2334938,
          -1.58277,
          -1.5046065,
          -2.2530694,
          -1.9182546,
          -2.2969434,
          18.760761,
          18.762413,
          -2.3125155,
          18.319149,
          -1.818527,
          -1.8000242,
          -2.2015798,
          -2.1715932,
          -2.1715934,
          -2.1715934,
          18.31785,
          18.31785,
          18.762823,
          -1.7229954,
          18.37538,
          -1.7920247,
          18.765646,
          -1.7920247,
          -1.7920247,
          18.767641,
          -1.1240196,
          -1.7713501,
          19.233965,
          19.233965,
          19.226088,
          18.88008,
          18.88709,
          14.111849,
          18.880283,
          19.226088,
          0.12872182,
          18.88008,
          19.394163,
          20.142948,
          19.583824,
          -0.1809083,
          1.106582,
          19.582985,
          20.916649,
          20.14236,
          0.8931664,
          0.8931664,
          20.91665,
          20.888634,
          19.78537,
          20.142948,
          0.8931664,
          21.890228,
          0.8942646,
          19.712845,
          20.916594,
          20.916594,
          2.267709,
          21.886908,
          2.1350138,
          20.918764,
          20.918764,
          2.2689352,
          20.891249,
          20.922888,
          20.957396,
          2.2606924,
          19.711506,
          21.454325,
          20.920692,
          19.71154,
          21.454325,
          21.454325,
          21.454325,
          2.2599976,
          19.711506,
          2.2254982,
          21.369734,
          20.197454,
          21.458284,
          20.922888,
          3.3442013,
          20.199392,
          21.458385,
          20.178366,
          20.178366,
          21.373144,
          20.140064,
          20.178366,
          21.385475,
          21.385475,
          3.5822434,
          3.583535,
          3.5810764,
          20.552721,
          4.287804,
          4.816486,
          3.4259841,
          2.6920302,
          2.8536656,
          2.627847,
          14.158051,
          1.983322,
          2.77967,
          2.5491157,
          4.841335,
          5.8497615,
          14.744023,
          14.059948,
          7.942212,
          11.862937,
          8.592869,
          8.386151,
          6.7656536,
          6.4811444,
          8.549359,
          12.904194,
          11.812572,
          8.535925,
          8.4471,
          6.7049527,
          8.413144,
          11.863251,
          11.911507,
          8.359382,
          11.913299,
          8.409017,
          8.25258,
          8.195911,
          8.229043,
          6.4948516,
          6.0615973,
          12.076357,
          12.077428,
          5.4591064,
          8.035678,
          8.132972,
          5.849494,
          6.2720532,
          8.382264,
          6.057946,
          6.4913926,
          8.455986,
          11.863936,
          6.678733,
          11.864003,
          8.503264,
          6.4955087,
          5.5491266,
          5.84903,
          7.9370995,
          5.2873945,
          7.8378234,
          5.2884,
          7.942151,
          5.287939,
          5.2022104,
          8.138009,
          8.138466,
          5.652006,
          6.249959,
          5.7514024,
          5.3140755,
          5.6521773,
          5.229699,
          5.325884,
          5.0095687,
          5.4597077,
          5.010298,
          5.003685,
          4.787514,
          -15.739411,
          -15.649104,
          -20.23586,
          -20.266611,
          -15.351839,
          -20.326729,
          -15.344385,
          -20.328636,
          -15.343563,
          -15.250792,
          -15.349849,
          -15.349704,
          -15.25516,
          -15.249406,
          -20.332117,
          -15.350954,
          -15.343415,
          -15.35074,
          -20.326906,
          -20.323975,
          -20.323975,
          -20.481907,
          -20.424181,
          -20.481909,
          -20.469677,
          -20.424908,
          -20.609842,
          -20.595806,
          -20.611084,
          -20.611084,
          -20.923975,
          -21.173964,
          -13.454597,
          -21.068937,
          -21.277367,
          -21.27723,
          -12.804007,
          -11.597518,
          -11.795335,
          -11.586358,
          -11.577489,
          -10.652831,
          -10.111611,
          -10.103885,
          -11.338483,
          -10.938231,
          -11.578858,
          -10.942606,
          -11.051633,
          -11.33898,
          -11.051633,
          -10.457425,
          -10.457425,
          -11.051633,
          -10.095397,
          -10.133322,
          -8.568024,
          -11.068934,
          -10.074401,
          -10.437746,
          -11.009751,
          -11.079342,
          -11.079342,
          -10.845917,
          -11.098863,
          -10.415048,
          -10.900385,
          -8.580722,
          -7.894182,
          -8.5383835,
          -7.8424377,
          -21.064892,
          -7.83808,
          -7.771644,
          -21.072033,
          -7.813584,
          -7.8404818,
          -7.22535,
          -21.10939,
          -8.540129,
          -21.073736,
          -7.8404818,
          -8.527469,
          -8.536445,
          -9.292577,
          -8.525196,
          -9.294434,
          -10.913809,
          -11.33132,
          -10.903337,
          -10.018718,
          -10.912277,
          -10.410013,
          -10.784283,
          -8.569171,
          -10.882704,
          -9.317131,
          -9.363528,
          -10.707054,
          -10.8281975,
          -11.736207,
          -11.745917,
          -11.778262,
          -12.052951,
          -11.894456,
          -11.886146,
          -12.795436,
          -11.745917,
          -12.054582,
          -11.745917,
          -11.889438,
          -11.594152,
          -11.777832,
          -11.990786,
          -11.991524,
          -11.9909,
          -11.736177,
          -11.999971,
          -11.999971,
          -11.739492,
          -11.734916,
          -21.414911,
          -21.027658,
          -7.1909566,
          4.622891,
          -6.8450685,
          -20.95017,
          -21.141779,
          -20.98987,
          -21.032131,
          -6.84385,
          -7.187772,
          -6.794624,
          -20.978752,
          -6.7163916,
          -7.075785,
          -7.0393224,
          -20.58569,
          -7.0387726,
          -20.712917,
          -21.107853,
          -6.51117,
          -6.594006,
          -12.783305,
          -20.619284,
          -20.651659,
          -20.619125,
          -6.5111713,
          -6.695135,
          -6.9454336,
          -6.8554235,
          -7.047149,
          -20.44913,
          -20.563833,
          -20.55867,
          -20.710339,
          -12.785434,
          -13.431908,
          -13.443171,
          -11.854997,
          -13.468259,
          -13.455123,
          -13.739783,
          -20.89406,
          -21.437849,
          -12.0140915,
          -10.833408,
          -8.495695,
          -10.817849,
          -8.350966,
          -8.398291,
          -8.391265,
          -7.7039375,
          -21.096535,
          -6.3551025,
          -20.975227,
          -6.319663,
          -6.380401,
          -6.317983,
          -6.3506446,
          -5.9062653,
          -5.8481846,
          -4.975626,
          -5.1298,
          -2.9370425,
          -4.6429005,
          -2.9373405,
          -5.141207,
          -5.00001,
          -19.621164,
          -4.6405096,
          -4.9839606,
          -5.154584,
          -20.533323,
          -4.4212613,
          -19.62012,
          -0.9736172,
          -19.869226,
          -20.253561,
          -2.6394758,
          -4.2073946,
          -18.792603,
          -2.8519986,
          -3.9731727,
          -2.825459,
          -2.8536942,
          -3.7683063,
          -2.827143,
          -2.818676,
          -2.8172219,
          -2.3689933,
          -2.3684227,
          -2.291048,
          -3.278845,
          -3.2453215,
          -3.0917804,
          -2.3714025,
          -13.841921,
          -2.8427684,
          -2.8940876,
          -2.8301573,
          -3.3531334,
          -17.56119,
          1.4208266,
          2.1470027,
          2.5804539,
          -3.1660018,
          -13.734381,
          -13.627911,
          -13.101298,
          -13.138587,
          -13.311485,
          -13.887482,
          3.4603124,
          3.1778824,
          2.8738801,
          -14.941767,
          2.5788295,
          2.585988,
          2.597287,
          2.3011432,
          -16.3019,
          2.3011432,
          -16.25221,
          -15.937187,
          2.3004515,
          -16.630482,
          2.2964466,
          2.300526,
          2.307372,
          2.307906,
          -16.292248,
          -16.251234,
          2.439885,
          -15.448469,
          -15.793687,
          -15.446413,
          -15.401787,
          -15.732541,
          -14.906024,
          -15.668897,
          -14.869954,
          -14.281435,
          -14.869955,
          -14.869954,
          -14.831536,
          -2.0200667,
          -14.268675,
          -2.2078433,
          -1.579868,
          -1.9653991,
          -1.617469,
          -1.5441707,
          -1.543816,
          -1.543816,
          -1.572812,
          -1.5761405,
          -1.6379881,
          -2.81469,
          -1.3811096,
          -1.9071176,
          -1.5782803,
          -1.5512116,
          -1.9791211,
          -14.338385,
          -2.0131512,
          -13.868243,
          -13.879791,
          -13.922455,
          3.231454,
          5.16451,
          5.1831374,
          3.094667,
          -11.832411,
          -10.959756,
          -10.909609,
          -9.253992,
          -9.001641,
          -7.7468634,
          -7.656463,
          -7.20574,
          -2.4362142,
          -6.7782426,
          -6.898605,
          -3.2007105,
          -5.3799767,
          -3.7550178,
          -3.7602239,
          -4.3901267,
          -5.9470687,
          -7.2390256,
          -5.8467283,
          -7.406441,
          -7.3721275,
          -7.4021077,
          -7.403128,
          -8.696838,
          -8.4207735,
          6.971645,
          -8.41153,
          2.865998,
          8.717429,
          -9.707214,
          2.866021,
          2.9647503,
          2.5326,
          2.9647503,
          6.0430026,
          5.4499297,
          -13.269264,
          5.54118,
          5.110735,
          -10.1108265,
          -7.2731376,
          -3.0183744,
          -2.00419,
          -3.8262982,
          -3.0427854,
          -2.1255476,
          -2.2168152,
          -2.1231194,
          -2.1399887,
          -2.005386,
          1.8207608,
          2.015206,
          1.9287547,
          2.8728452,
          2.8680677,
          2.8971057,
          2.873251,
          2.8697486,
          2.8708425,
          2.06571,
          2.8712423,
          2.8712423,
          4.063371,
          4.066004,
          3.8576262,
          4.2626944,
          4.746744,
          5.973266,
          5.552979,
          6.045423,
          6.117238,
          6.1757126,
          7.661054,
          7.661054,
          7.664436,
          7.661054,
          9.757105,
          7.8203926,
          8.691381,
          9.540229,
          8.714695,
          9.191295,
          8.572492,
          9.401771,
          9.462262,
          11.639188,
          -19.061138,
          6.4144697,
          7.8397574,
          8.291853,
          8.291853,
          8.6914835,
          8.72673,
          8.968355,
          9.23261,
          -17.620546,
          -17.614653,
          17.475498,
          17.493343,
          17.42757,
          17.43523,
          4.901071,
          -3.2464602,
          -4.3594213,
          8.437639,
          9.249617,
          9.004709,
          8.777238,
          17.833809,
          -17.040443,
          -17.052946,
          17.709614,
          18.044275,
          5.1804156,
          5.700853,
          -12.704119,
          12.368723,
          6.6752043,
          -11.71517,
          4.661812,
          4.466423,
          -11.4638405,
          -11.536198,
          5.2835283,
          5.9343014,
          -5.859322,
          -5.326795,
          -4.9061704,
          -4.9057193,
          -4.9971466,
          -5.1120825,
          -5.3229103,
          7.259692,
          6.19207,
          11.48525,
          6.472254,
          6.4664,
          -13.694025,
          -11.9825945,
          -12.256968,
          -12.083085,
          5.3841686,
          -11.961018,
          -11.962937,
          6.0043206,
          6.0043206,
          5.351904,
          -6.1491127,
          -6.148928,
          5.966914,
          5.934609,
          -6.1493325,
          6.006033,
          -6.1491394,
          6.5232205,
          5.383888,
          -6.110332,
          5.385115,
          5.433857,
          -12.429902,
          -12.984569,
          -13.179466,
          -14.069061,
          -14.393384,
          -14.391648,
          -17.326553,
          6.6787066,
          -16.691694,
          -17.476032,
          7.9653044,
          8.302799,
          8.303317,
          8.347354,
          8.417476,
          8.41597,
          -5.9471793,
          8.136639,
          8.387491,
          8.301916,
          -5.898299,
          -5.898103,
          -5.924527,
          7.9621243,
          -17.60329,
          7.9639373,
          -17.166637,
          -17.372053,
          -18.34633,
          7.8425574,
          -19.154072,
          12.015312,
          11.424487,
          8.834231,
          8.129794,
          8.197552,
          -19.295485,
          -18.984877,
          8.3163805,
          -18.043854,
          -18.043863,
          -17.894917,
          -18.478468,
          -17.401787,
          -18.05435,
          -18.05435,
          -17.510168,
          -18.05435,
          -17.673018,
          -18.684584,
          -18.05435,
          -18.773891,
          -17.510168,
          -17.806498,
          8.08672,
          -17.817251,
          -18.987778,
          -17.822525,
          -17.699183,
          -17.673622,
          -18.79221,
          -18.24931,
          -17.831116,
          -19.105202,
          -19.169613,
          12.275795,
          -19.003466,
          -19.117346,
          11.498648,
          -18.824753,
          10.813298,
          10.815264,
          9.938577,
          10.088295,
          10.023237,
          10.790951,
          -19.261892,
          -19.13851,
          10.813078,
          -19.114655,
          10.809336,
          10.054648,
          10.083656,
          9.863898,
          10.053089,
          9.986949,
          -7.9990063,
          9.720953,
          11.042226,
          9.060439,
          -7.9969087,
          -7.9989686,
          10.712152,
          9.981344,
          9.12495,
          -8.106144,
          10.124595,
          10.602056,
          9.00321,
          10.557914,
          -8.016771,
          11.055299,
          11.085257,
          11.051456,
          11.152171,
          2.4624257,
          2.5326,
          2.9827409,
          2.9647503,
          11.377881,
          11.377881,
          11.370326,
          3.8329656,
          3.8249924,
          2.336405,
          11.840043,
          1.0827563,
          12.351559,
          1.0678629,
          12.165112,
          0.9848415,
          13.427829,
          -6.542537,
          -7.8637166,
          -8.468049,
          -12.446072,
          2.6105206,
          2.5326,
          -2.9594,
          3.5414317,
          5.8307104,
          7.279702,
          7.279335,
          4.9839873,
          3.5439277,
          9.167575,
          10.067821,
          5.869816,
          7.527803,
          -10.256241,
          -11.810641,
          -9.430953,
          5.246841,
          3.9295616,
          3.9249198,
          -11.808746,
          -11.8343525,
          -11.840948,
          14.560884,
          -10.19117,
          -8.080527,
          15.263321,
          14.930551,
          -8.330847,
          -8.323148,
          -8.323148,
          -8.324282,
          -8.274044,
          10.08474,
          -20.676691,
          -20.790026,
          -19.74788,
          -4.886634,
          -4.1953506,
          -2.9121304,
          -2.8964107,
          -3.970393,
          -3.771419,
          -18.2024,
          -18.885826,
          -0.90318656,
          -5.5604258,
          -5.557192,
          -5.2153015,
          -6.2003126,
          10.162264,
          15.982812,
          -6.2609086,
          10.163326,
          8.336615,
          -5.2416296,
          -3.9993136,
          -4.4368834,
          -1.334734,
          10.054525,
          -19.581657,
          -0.8206256,
          -0.9609142,
          -1.3285619,
          -17.694897,
          -18.36238,
          -2.8949008,
          -5.092417,
          -3.533286,
          -3.091243,
          -2.9121506,
          -2.97673,
          -2.368955,
          -18.773935,
          -2.8188343,
          -17.159218,
          -3.235699,
          -3.260582,
          -14.806237,
          -13.626946,
          -3.1725647,
          -3.3911312,
          -16.657326,
          -16.612411,
          -14.059396,
          3.9900284,
          -11.409089,
          -11.974545,
          -13.070284,
          -3.4129488,
          -3.3527284,
          3.0633535,
          3.6859527,
          -11.92895,
          3.6825492,
          -3.2513878,
          2.98731,
          -3.4904907,
          -2.9180691,
          -2.8943045,
          3.5022025,
          5.193645,
          -13.149783,
          -10.654564,
          -3.2084987,
          -10.117981,
          -11.308155,
          -11.183191,
          -12.394054,
          -10.178683,
          -10.7551155,
          -12.58247,
          3.7399747,
          4.4017463,
          -11.216758,
          -10.764935,
          -10.622569,
          -9.981071,
          -10.491876,
          2.9839222,
          2.9173212,
          -2.7571368,
          -12.3275175,
          -11.777277,
          3.7125344,
          3.1865103,
          3.5798242,
          3.6313932,
          2.915598,
          2.8049023,
          2.657652,
          4.1692524,
          4.2231693,
          4.3281617,
          4.3263907,
          4.2890015,
          4.186446,
          4.004487,
          3.8076847,
          -2.636206,
          -2.63667,
          -2.6329436,
          -4.025389,
          -2.6912239,
          3.8853302,
          -6.7437296,
          -8.816873,
          -7.3098307,
          4.0583286,
          3.7972043,
          4.9659076,
          4.0744314,
          2.7909098,
          -2.5454142,
          -2.5860443,
          -4.6782913,
          13.549548,
          -4.7476635,
          -4.8720737,
          -5.453363,
          -5.5118065,
          -3.1428242,
          -4.2203703,
          -3.0999346,
          -4.342432,
          -5.757389,
          -1.8624637,
          -1.8210378,
          -0.98856705,
          -1.8377253,
          10.311763,
          10.61377,
          -0.9931634,
          11.182899,
          -2.804703,
          1.8691665,
          2.0356264,
          2.0445611,
          -1.8430507,
          -1.8430508,
          -1.8375149,
          10.571708,
          -1.7950222,
          11.021625,
          11.021625,
          1.8608956,
          3.2001843,
          3.1823158,
          9.446101,
          2.0227203,
          9.873547,
          10.328103,
          10.328102,
          10.021899,
          -14.124864,
          7.6432443,
          -3.1445615,
          -7.8010764,
          -8.435091,
          -3.5284185,
          -8.590398,
          -8.492924,
          4.416751,
          4.7890205,
          4.789612,
          -6.541377,
          5.3114185,
          6.6130867,
          -3.1347575,
          -12.275397,
          4.6174154,
          4.510135,
          -8.563309,
          4.29202,
          4.300498,
          -8.789454,
          4.3002176,
          4.4949975,
          14.473461,
          5.0549927,
          -3.5973012,
          -8.57239,
          -8.972536,
          -9.467942,
          -8.194628,
          -8.079799,
          -8.063981,
          -8.010226,
          -8.427544,
          4.375541,
          -4.6226034,
          -4.5595403,
          4.2993593,
          4.402505,
          4.332524,
          4.768955,
          8.068115,
          -19.365658,
          11.488795,
          -19.608227,
          -19.119322,
          -18.895927,
          -17.767448,
          6.5211277,
          5.946962,
          5.3956323,
          5.499007,
          5.339861,
          5.02963,
          -7.3915634,
          -7.7187467,
          5.9856577,
          9.01582,
          -3.0059454,
          -3.1333258,
          -2.9886236,
          -3.59144,
          -3.0827537,
          -3.0827878,
          -3.5310469,
          -3.5321722,
          -3.1068027,
          -7.9218097,
          4.403346,
          -3.5786178,
          4.4032145,
          4.4298415,
          2.7834468,
          10.325045,
          -7.116563,
          -3.5386298,
          -3.5038972,
          -7.1788683,
          -6.7714357,
          -10.263961,
          -10.034995,
          -11.512244,
          4.9237876,
          4.6874723,
          4.918133,
          -8.136963,
          -7.41328,
          -7.7958236,
          -7.4197083,
          -7.4473963,
          -7.4197083,
          5.132043,
          -7.023951,
          -7.0363545,
          4.6114345,
          4.3748965,
          4.295017,
          4.215901,
          -2.0902038,
          -1.5032799,
          -7.025452,
          -6.223525,
          -2.458861,
          -3.539052,
          -3.503881,
          -3.499686,
          -4.632595,
          -3.4731963,
          -4.8340254,
          -3.4659774,
          -2.4161782,
          -7.047338,
          -2.4356155,
          -2.7192855,
          -2.3912892,
          -1.4835445,
          -7.702868,
          -1.9539812,
          -2.3362622,
          -2.1780565,
          3.5628905,
          3.4780045,
          5.0068483,
          1.9075171,
          6.7756343,
          0.5593613,
          0.55986893,
          9.528378,
          10.300758,
          10.11756,
          9.501097,
          -0.2315816,
          4.4029217,
          4.402751,
          3.2024827,
          3.3784027,
          6.075452,
          17.655825,
          5.851751,
          5.217984,
          2.677732,
          0.33438456,
          -1.1499035,
          -2.2011187,
          -2.4209015,
          -2.965554,
          -3.9580364,
          -4.504379,
          -5.277056,
          15.435325,
          -8.861864,
          -9.553694,
          14.913234,
          -11.330005,
          14.683623,
          -11.913471,
          -12.598047,
          -12.81892,
          -12.534433,
          -12.525581,
          -12.662176,
          -12.254663,
          -11.722158,
          -11.722158,
          -10.486325,
          -9.366572,
          -8.516375,
          -7.617207,
          -7.6172066,
          -7.6201744,
          -4.880179,
          -3.979999,
          10.553551,
          -2.0716338,
          -3.127448,
          -2.0205054,
          2.029312,
          2.0561023,
          -8.887742,
          -8.605624,
          -10.214767,
          4.7539573,
          -9.941616,
          -11.6743555,
          -11.6743555,
          -11.717141,
          -11.717141,
          -11.684683,
          -11.721913,
          -13.097759,
          -13.10147,
          -13.10147,
          -13.106416,
          -13.106411,
          -14.046855,
          -13.165523,
          -14.008659,
          -14.073183,
          10.631976,
          -14.078929,
          -14.078929,
          -14.078929,
          -14.078944,
          -14.078929,
          -14.085604,
          -14.146886,
          -14.354478,
          -14.085604,
          -13.229559,
          -13.229559,
          9.45245,
          -14.154847,
          9.455752,
          -13.235192,
          -12.993811,
          -12.993811,
          -13.242642,
          9.414116,
          -13.246995,
          9.314097,
          9.452548,
          -11.893132,
          8.088906,
          8.050748,
          -11.852987,
          -13.292687,
          -11.852987,
          -11.852677,
          -11.843442,
          8.040046,
          -11.85028,
          6.1663523,
          5.800102,
          -11.85028,
          6.1663523,
          6.1681895,
          6.1663523,
          5.7856417,
          -10.952333,
          4.4685974,
          3.9753282,
          6.1610565,
          6.3610444,
          4.4652324,
          3.9459822,
          3.9752698,
          -9.331259,
          -9.325853,
          4.4411407,
          10.477547,
          3.9049437,
          3.9051874,
          3.9052596,
          2.0746646,
          3.9051847,
          2.0764964,
          2.0764909,
          2.076083,
          2.0730743,
          2.0731187,
          2.0731204,
          0.30282325,
          0.30583882,
          0.26469338,
          0.2646681,
          0.30865777,
          -6.6980615,
          0.26869875,
          0.54731935,
          0.3058388,
          -1.6292877,
          -1.3493022,
          -1.6892122,
          -1.6892118,
          -5.04785,
          -5.04785,
          -2.7379088,
          -5.945801,
          -5.04785,
          -5.04785,
          -5.922495,
          -5.0077124,
          12.8,
          -7.37175,
          -8.493962,
          -7.37175,
          13.362203,
          13.333374,
          -8.485759,
          13.769601,
          -8.2665205,
          -8.176792,
          14.108563,
          14.093793,
          -8.799454,
          -10.140105,
          14.093793,
          -10.144458,
          -10.144458,
          -10.948442,
          -10.948442,
          14.392577,
          -10.948442,
          14.286202,
          -11.257898,
          -11.761795,
          -11.76072,
          -11.76072,
          -12.187185,
          -12.186977,
          -12.035474,
          -12.048411,
          -12.307391,
          -12.05341,
          14.373713,
          14.367736,
          -12.102108,
          -12.443741,
          14.276851,
          -11.74084,
          14.155526,
          -11.74084,
          14.117644,
          -11.133143,
          -11.134883,
          14.225978,
          -11.134556,
          -10.419217,
          -11.1169815,
          -10.397275,
          14.426721,
          -10.398171,
          14.45186,
          -9.5003195,
          14.623253,
          14.703156,
          14.714252,
          -8.4208355,
          14.939482,
          14.926947,
          -8.7208805,
          15.2587805,
          15.245559,
          15.138405,
          15.438755,
          -7.470995,
          -6.3051357,
          15.571825,
          -6.2767344,
          -6.276406,
          15.228838,
          15.424291,
          -5.4661193,
          15.432334,
          -5.5025716,
          15.67238,
          15.908791,
          -4.721092,
          -4.668272,
          -4.6666,
          -4.684667,
          -4.058641,
          -3.4652727,
          -2.993206,
          -2.4233124,
          -1.5090108,
          -0.89006686,
          0.90147173,
          1.2999448,
          3.922649,
          3.5391452,
          3.78992,
          6.0811677,
          4.31184,
          6.3903704,
          6.389865,
          6.2494836,
          3.9158552,
          5.600351,
          5.26307,
          3.3672788,
          2.9433458,
          2.943985,
          2.8180246,
          3.0159872,
          2.8666623,
          3.0897653,
          3.170335,
          3.0426335,
          3.5078526,
          3.1454203,
          3.23269,
          3.232656,
          2.9839935,
          3.9669092,
          3.0267103,
          3.1336591,
          3.1120057,
          3.0042102,
          3.0484517,
          3.0132165,
          3.1217074,
          3.4566834,
          -7.6540055,
          3.4508958,
          3.331812,
          3.1120696,
          3.305078,
          3.6518533,
          3.660025,
          -7.450606,
          4.1944737,
          3.660025,
          4.1947494,
          4.0850782,
          4.086055,
          4.6235275,
          4.6876216,
          4.6867495,
          5.33494,
          5.334546,
          6.3249135,
          6.3248034,
          6.325387,
          6.025789,
          6.325387,
          7.076788,
          7.076788,
          7.122525,
          7.8677387,
          7.8440995,
          7.6563163,
          8.996882,
          8.324843,
          9.31291,
          9.31291,
          9.281557,
          9.313122,
          9.667927,
          9.544858,
          9.665968,
          9.92582,
          9.785234,
          9.904397,
          9.924016,
          9.924016,
          10.060894,
          10.182271,
          10.059889,
          9.932176,
          10.111459,
          10.115513,
          10.1139555,
          10.110284,
          10.054786,
          10.054786,
          10.054786,
          10.053717,
          -9.54052,
          9.953228,
          10.053717,
          10.051212,
          -9.542299,
          9.748247,
          9.748247,
          9.602578,
          9.7467985,
          10.198095,
          9.750647,
          9.757556,
          9.052358,
          9.052751,
          9.052752,
          9.067117,
          9.068208,
          9.058893,
          8.8010845,
          9.07642,
          8.028894,
          7.6996202,
          8.025626,
          8.025626,
          8.029243,
          8.029243,
          8.026476,
          7.6991796,
          -10.732308,
          7.6996093,
          8.028894,
          8.028894,
          8.026478,
          6.9126973,
          6.2347274,
          6.5852532,
          6.576434,
          5.143824,
          6.5853767,
          6.5853767,
          6.5853767,
          6.910589,
          6.2336264,
          5.143824,
          4.5362062,
          5.141926,
          -11.876351,
          5.141926,
          6.584147,
          5.13799,
          5.1046243,
          4.173041,
          -11.877551,
          4.173041,
          4.173041,
          5.652452,
          4.5323315,
          5.649514,
          5.1412735,
          5.174106,
          5.174106,
          5.141274,
          5.1412735,
          4.5332065,
          3.4859903,
          5.1725774,
          3.7357712,
          4.849515,
          -11.905797,
          4.310657,
          1.90791,
          4.484975,
          7.778231,
          -18.76289,
          9.681553,
          -1.962227,
          -3.312301,
          8.756154,
          8.482573,
          9.047487,
          -20.78926,
          -3.3074815,
          -3.3358834,
          -2.0038803,
          -1.3601513,
          -19.915258,
          9.8293705,
          -1.391931,
          -2.6307654,
          -2.6314113,
          -2.6318543,
          9.329571,
          -20.110563,
          -1.9691234,
          9.261207,
          -1.9736894,
          -1.3406954,
          -0.76497847,
          -19.610807,
          -0.7870126,
          -0.7870126,
          -0.294236,
          -0.29423583,
          -18.302713,
          0.59118366,
          -17.825851,
          -17.828886,
          -17.100048,
          -16.825407,
          -17.326456,
          1.442372,
          1.0199114,
          0.6181818,
          8.78718,
          9.233189,
          8.78718,
          8.787534,
          8.787534,
          8.198295,
          -10.098335,
          -10.741486,
          7.8703246,
          6.3527713,
          -11.333242,
          7.1172895,
          -11.755952,
          3.5510943,
          -12.077552,
          -11.76503,
          3.9068995,
          3.970815,
          -12.2451725,
          4.2202597,
          4.7797823,
          -13.399535,
          -13.462678,
          4.7366223,
          -13.513222,
          4.7868953,
          4.905371,
          -12.595617,
          4.889916,
          4.7285013,
          -12.550053,
          -12.497409,
          5.4088984,
          2.674822,
          3.1328487,
          3.1328487,
          3.5002108,
          3.0880957,
          3.507777,
          2.394537,
          1.8188254,
          1.7223934,
          1.7223934,
          1.7223934,
          1.7223934,
          3.1652484,
          -12.173268,
          3.1002264,
          3.1002264,
          3.1157997,
          4.820706,
          4.983187,
          4.820706,
          3.1506834,
          5.1384687,
          3.1143901,
          4.820719,
          5.1411166,
          5.1411166,
          3.1157997,
          5.1411166,
          4.820706,
          4.820706,
          4.8472137,
          4.975227,
          5.4261274,
          5.426192,
          5.298187,
          5.3427153,
          5.342713,
          5.342713,
          5.389007,
          5.3053217,
          5.390409,
          5.390409,
          3.1395352,
          5.2966356,
          3.499696,
          3.500463,
          3.500463,
          1.8612825,
          2.3152432,
          2.3152432,
          2.3152323,
          2.3154743,
          0.85264295,
          0.85165423,
          0.009823639,
          3.6541784,
          -0.10737074,
          0.0098235905,
          0.009823614,
          -0.7458388,
          -0.74497265,
          -0.7396913,
          -1.7654938,
          -1.7874275,
          -2.9337633,
          -2.9295244,
          -3.2365441,
          -2.9292336,
          -2.927865,
          -4.3321276,
          -4.261896,
          -4.7059646,
          -6.1819277,
          -6.181928,
          -7.409016,
          -7.407145,
          -6.183267,
          -7.410883,
          -7.409016,
          -7.406984,
          -7.4232345,
          -7.4053583,
          -8.548635,
          -8.376345,
          9.468261,
          -8.778215,
          -8.747459,
          -8.523948,
          -8.4602375,
          4.665977,
          -9.584759,
          -9.11918,
          -9.553357,
          -8.888922,
          -8.770934,
          -8.772549,
          -8.417741,
          -8.523948,
          -8.370918,
          -8.370918,
          8.891146,
          -8.417263,
          8.959632,
          -8.524284,
          9.437821,
          -8.468463,
          -9.44353,
          9.437578,
          -8.851021,
          -8.97123,
          9.423933,
          -8.991967,
          8.797911,
          -8.888022,
          8.866465,
          -8.97123,
          9.423933,
          9.423933,
          8.842275,
          9.389689,
          -8.112447,
          8.823366,
          8.785947,
          7.400393,
          -8.151606,
          7.3968973,
          -8.168538,
          8.767784,
          8.767784,
          8.767783,
          5.0931377,
          5.0930905,
          5.093109,
          -6.403242,
          5.093107,
          6.8456416,
          4.962875,
          4.962925,
          6.84551,
          4.9626465,
          -6.2708325,
          6.8441052,
          4.6949487,
          6.8441043,
          6.8441052,
          6.8427076,
          6.8459873,
          4.3761897,
          -5.909974,
          4.248615,
          -5.065805,
          4.6949496,
          4.249294,
          -5.9100075,
          -5.910117,
          -6.123845,
          -5.910151,
          -5.9100075,
          -5.910151,
          -5.0845895,
          -6.125453,
          -5.0919466,
          -5.0919466,
          -6.123424,
          -5.6736364,
          -6.123424,
          -5.0919757,
          -5.101087,
          -6.133077,
          -5.4660416,
          -5.4660335,
          -4.9952307,
          -5.257414,
          -5.257414,
          -4.7678437,
          -5.1277256,
          -4.767841,
          -4.258293,
          -4.2582335,
          -4.258293,
          -4.2583313,
          -6.116243,
          -4.7678437,
          -4.7678385,
          -4.2583747,
          -4.2583747,
          -4.2583747,
          6.835784,
          -4.076817,
          2.8328092,
          -4.3249264,
          2.868729,
          -6.121189,
          -6.1112084,
          3.453577,
          3.6429944,
          3.4257283,
          3.631448,
          3.6312633,
          3.7814248,
          3.7847722,
          6.8408437,
          3.6314256,
          3.7814207,
          3.7814207,
          3.7847688,
          3.7762902,
          3.7762902,
          3.7762864,
          -6.1751704,
          3.7847593,
          4.00651,
          4.3077383,
          4.3077383,
          -6.3976116,
          3.6312022,
          -5.3199077,
          -5.894594,
          3.1801786,
          -6.127485,
          -5.894485,
          -5.3199096,
          -5.3200717,
          -5.3200808,
          -5.3201213,
          6.8335147,
          -5.8944874,
          -5.5632315,
          -3.9735827,
          -5.5632315,
          3.776284,
          3.784755,
          -5.5632315,
          -3.9735887,
          3.8963962,
          3.8964033,
          4.224133,
          4.224133,
          4.224133,
          3.8964663,
          4.2241325,
          3.8977072,
          -5.2028384,
          -6.0137305,
          -6.0137305,
          -6.258633,
          -6.2589574,
          -6.2589574,
          -6.2589574,
          -6.258691,
          -6.5965014,
          4.426267,
          -6.120819,
          -6.258691,
          -6.258691,
          -6.648751,
          -5.3378863,
          -4.0211334,
          -6.345264,
          -6.345259,
          -6.649012,
          -6.335024,
          -6.3419237,
          -6.3419237,
          -6.335024,
          -7.208234,
          -7.2092466,
          -7.207097,
          -7.2150216,
          -8.603052,
          -8.602748,
          -10.917163,
          -10.136049,
          -1.0974444,
          -10.924845,
          -0.162445,
          -10.173222,
          -10.91102,
          -9.75872,
          -10.148247,
          -10.936853,
          -10.936853,
          -10.212426,
          -10.2124605,
          -10.2124605,
          -10.21245,
          -10.212437,
          -10.378741,
          -10.125333,
          -10.068852,
          -10.904725,
          -11.355799,
          -11.479097,
          -11.424637,
          -11.346903,
          -11.836986,
          -11.865973,
          -12.014699,
          -11.865621,
          0.7656137,
          -9.969704,
          -9.876249,
          -11.344828,
          2.3185782,
          3.513984,
          3.287589,
          -12.512789,
          -12.248149,
          -11.792553,
          -11.375199,
          -11.369835
         ],
         "z": [
          5.29551,
          11.892073,
          12.099552,
          19.065575,
          19.413668,
          18.957014,
          19.12984,
          19.293358,
          19.19693,
          19.12984,
          19.19693,
          12.58564,
          12.242288,
          12.250532,
          12.551651,
          19.406443,
          19.146769,
          12.495792,
          12.427435,
          11.946438,
          11.945872,
          11.935107,
          12.084829,
          12.8688965,
          12.615762,
          12.530329,
          12.559213,
          12.546696,
          12.084824,
          12.084841,
          12.30827,
          12.040338,
          18.897516,
          19.133606,
          12.87289,
          12.064008,
          12.6967,
          12.85319,
          12.632831,
          5.297221,
          5.297221,
          12.329502,
          5.529261,
          5.529261,
          12.620339,
          5.289242,
          5.527957,
          5.528167,
          -8.413133,
          2.5471835,
          2.5481758,
          2.544647,
          -7.8933907,
          0.7859999,
          -7.428293,
          1.5564914,
          0.18905555,
          0.5402593,
          -7.4356656,
          -0.05444315,
          -5.8163548,
          -5.9769864,
          -5.1420693,
          -5.537331,
          -1.5540568,
          -4.319376,
          -4.052892,
          -2.3396668,
          -4.6323667,
          -4.51324,
          -1.4768089,
          -3.0894816,
          -2.8697205,
          -2.1125972,
          1.830312,
          -1.3554003,
          -1.2994009,
          -6.653914,
          -1.5273974,
          -1.2636796,
          -2.115203,
          -5.7039013,
          -2.109935,
          -2.6350834,
          -1.9741292,
          -1.3528597,
          -6.2956653,
          -6.6628675,
          -1.3788489,
          -6.806226,
          -6.72946,
          -6.439221,
          -6.537162,
          -6.204557,
          -6.204557,
          -6.5154557,
          -5.2377954,
          -3.4518402,
          0.55230415,
          -3.724187,
          0.28668535,
          -4.2088833,
          -4.2088833,
          -3.4007554,
          -6.6533985,
          -6.6404734,
          -0.95638764,
          -0.65970093,
          -6.713065,
          -3.296504,
          -1.0839185,
          -3.297829,
          -6.8245316,
          -3.7298527,
          -6.8379593,
          -3.748826,
          -0.9943307,
          -6.663687,
          -1.0113131,
          -6.6487484,
          3.213399,
          2.8274257,
          -6.7173233,
          -6.7173233,
          -6.7124305,
          -6.7705913,
          -6.742425,
          -6.813697,
          -6.8080325,
          -0.90780705,
          -6.79606,
          -1.1132714,
          -1.117313,
          -1.512596,
          1.7621094,
          1.3175824,
          1.3465153,
          1.3465153,
          1.3676296,
          0.9894891,
          0.9889281,
          15.995041,
          15.977694,
          0.4118937,
          0.4210203,
          15.910138,
          15.909278,
          15.973209,
          15.972496,
          1.0705338,
          1.064423,
          -2.287662,
          -1.8385361,
          -2.320309,
          -1.8622935,
          -5.81915,
          -5.804815,
          -5.700657,
          -5.7022886,
          -5.6726365,
          -4.226442,
          -4.525543,
          -4.5350485,
          -4.5350485,
          -4.6028953,
          -4.6172376,
          -4.6927333,
          -4.692734,
          -4.7092233,
          -4.7092237,
          -4.848598,
          -4.868891,
          -5.2322555,
          -5.803769,
          -6.958875,
          -7.1962757,
          -7.1938057,
          8.020458,
          7.9887896,
          7.8478065,
          7.6327877,
          7.640363,
          8.462688,
          8.456479,
          9.442364,
          9.439838,
          10.398326,
          10.49256,
          11.369332,
          11.279763,
          11.279763,
          12.081749,
          -8.531159,
          12.095983,
          12.097744,
          12.100818,
          12.686079,
          -8.818643,
          12.689868,
          12.689868,
          -8.811392,
          -9.536965,
          13.180699,
          13.255316,
          13.568681,
          13.5409155,
          -9.956818,
          -10.18853,
          -9.486335,
          -9.939402,
          -9.912009,
          -10.918633,
          -10.665642,
          -11.455422,
          -10.946953,
          -11.228298,
          -11.232113,
          -11.232113,
          -11.691839,
          -11.671525,
          -11.691839,
          -11.666303,
          -12.494773,
          -11.989796,
          -12.486452,
          -11.989796,
          7.627459,
          -11.989796,
          -12.124267,
          -12.551958,
          -12.139107,
          -12.109606,
          -13.124537,
          -13.134116,
          -12.1290245,
          -13.146139,
          -13.160724,
          -13.033234,
          -13.728455,
          8.222492,
          -11.978584,
          7.6137757,
          7.879288,
          7.8788266,
          -14.192995,
          -14.684175,
          -13.635046,
          8.27701,
          -12.825534,
          13.950012,
          4.770429,
          7.73394,
          2.2196155,
          -6.5599813,
          -5.563568,
          -0.02528052,
          -0.024319826,
          14.053813,
          0.22641163,
          0.059419315,
          14.0525465,
          11.607255,
          11.966597,
          2.6003914,
          2.015125,
          2.853745,
          1.8611745,
          12.303801,
          11.80478,
          11.016645,
          8.729014,
          -9.315345,
          11.950053,
          12.319078,
          12.746604,
          10.720867,
          11.056446,
          2.6051605,
          7.586801,
          -12.22136,
          7.5619683,
          -20.002726,
          -20.143248,
          7.57746,
          -20.000664,
          6.980366,
          1.3504926,
          5.564775,
          -0.11582598,
          8.49486,
          -8.762043,
          -7.3980536,
          12.31131,
          1.8887944,
          1.4497033,
          2.6024485,
          3.3544457,
          9.208453,
          8.859503,
          8.988648,
          4.0701065,
          7.5958686,
          -14.059615,
          -18.97972,
          7.020771,
          -18.223368,
          -17.857481,
          6.286774,
          -17.261654,
          -17.564783,
          -17.798817,
          -17.822773,
          -1.2587928,
          -17.66787,
          -17.78438,
          -1.4525883,
          -1.4521931,
          -3.0829237,
          -1.4560124,
          -3.0720165,
          -3.0877156,
          -3.0811245,
          -3.081125,
          -5.0091276,
          -4.707182,
          -3.5456383,
          -5.000155,
          -15.54268,
          -4.7078495,
          -4.706079,
          -4.9990225,
          -5.917341,
          -6.086739,
          -6.086739,
          -4.7058134,
          -6.1585236,
          -5.9173408,
          -6.158524,
          -7.2008357,
          -6.158524,
          -17.297396,
          -17.14877,
          -6.9089537,
          -5.963652,
          -5.809274,
          -5.7680893,
          -5.385987,
          -5.4912577,
          -5.6974554,
          -5.6974554,
          -5.9306417,
          -5.166217,
          -6.8897505,
          -7.1979423,
          -6.54207,
          -16.36463,
          -7.1730037,
          -5.963652,
          -7.1742463,
          -6.5286493,
          -6.5334883,
          -6.529802,
          -6.5331573,
          -6.5334883,
          -4.7727175,
          -15.799834,
          -16.286324,
          -6.066113,
          -16.433445,
          -16.101988,
          -5.4029818,
          -5.296436,
          -5.309708,
          -10.216185,
          15.516694,
          0.8386768,
          0.6658193,
          0.1516934,
          0.024641925,
          0.18354023,
          0.6093709,
          1.5393572,
          11.878421,
          9.347713,
          10.337366,
          10.675267,
          11.012885,
          11.367833,
          2.6484158,
          2.6168017,
          2.880971,
          -8.5246935,
          8.083001,
          8.501555,
          -13.987151,
          -15.224579,
          -15.405451,
          7.7345653,
          7.7053137,
          -18.283342,
          6.9848185,
          7.0021963,
          5.7968645,
          5.7463756,
          5.6968756,
          5.735295,
          3.3049355,
          3.3049355,
          4.271635,
          5.3032084,
          3.3824975,
          3.2870798,
          3.1879113,
          4.088132,
          3.1648128,
          -10.211342,
          -10.21314,
          1.932609,
          1.9326042,
          -12.352069,
          1.8891628,
          1.8824339,
          -13.443256,
          0.33147338,
          -0.22009586,
          -11.66638,
          0.866074,
          -0.5479199,
          0.82563394,
          -1.8771014,
          -13.443388,
          -0.22543707,
          -1.86746,
          -1.4590244,
          -13.956105,
          -14.012992,
          -14.352791,
          -14.013435,
          -14.013146,
          -13.954679,
          -1.4625582,
          -14.062063,
          -1.4589626,
          -3.547522,
          -17.438862,
          -3.546339,
          -3.5475206,
          -3.0970447,
          -3.5475206,
          -4.7021303,
          -4.7038336,
          -2.8103788,
          -17.181993,
          -4.702048,
          -3.1020977,
          -17.460297,
          -4.704806,
          -3.1224024,
          -17.242926,
          -17.242926,
          -4.702448,
          -4.6856,
          -4.700346,
          -4.700397,
          -17.244928,
          -17.204895,
          -5.7270074,
          -16.919666,
          -5.5722456,
          -5.5722456,
          -16.870697,
          -4.472873,
          -16.610838,
          -5.0939116,
          -4.6676025,
          -15.983507,
          -16.883724,
          -5.2121344,
          -5.188935,
          -16.340652,
          -16.891623,
          -5.188935,
          -15.847553,
          -5.2121344,
          -17.197947,
          -6.282933,
          -16.631819,
          -6.4237747,
          -16.612312,
          -6.3025856,
          -5.235469,
          -6.3945904,
          -6.3895264,
          -16.589127,
          -15.850769,
          -4.6403275,
          -6.3296027,
          -15.789246,
          -14.974507,
          -15.843862,
          -14.968865,
          -16.136826,
          -15.789246,
          -16.16501,
          -15.4681635,
          -5.7746744,
          -16.318872,
          -15.776459,
          -15.787604,
          -16.318872,
          -15.840537,
          -15.786932,
          -16.591957,
          -15.41264,
          -15.789677,
          -15.789958,
          -15.828753,
          -5.7282414,
          -15.815461,
          -15.607234,
          -16.050531,
          -17.001352,
          -16.082012,
          -16.082012,
          -17.281952,
          -17.035412,
          4.750056,
          -17.59593,
          -17.286562,
          -17.972929,
          -17.801428,
          5.804889,
          6.490657,
          7.0063934,
          -18.500038,
          -18.258295,
          4.338229,
          -18.964544,
          -19.62691,
          -19.94938,
          8.312637,
          -19.95333,
          -19.630898,
          -19.962048,
          8.309478,
          8.829357,
          -19.622154,
          -20.320084,
          8.311278,
          -20.314085,
          -20.328539,
          -19.623981,
          8.314306,
          8.312031,
          -19.180433,
          -18.939384,
          7.6781826,
          7.6769667,
          -19.174692,
          -18.46374,
          -18.20538,
          7.6784024,
          -18.914028,
          7.6752353,
          -18.169931,
          6.3464775,
          6.962739,
          6.1652308,
          -18.026981,
          -17.89868,
          6.130486,
          -17.881485,
          6.153962,
          6.124295,
          5.6173725,
          5.6088514,
          5.623913,
          5.720312,
          5.6033664,
          5.603368,
          5.159268,
          -17.355946,
          5.1395497,
          9.613486,
          4.6520753,
          4.753345,
          4.2804966,
          4.284243,
          4.284243,
          11.8459,
          4.228081,
          4.2280807,
          4.0156984,
          4.017315,
          4.0156984,
          12.345328,
          4.0132713,
          3.8203492,
          3.87484,
          4.012399,
          3.8737924,
          3.8510637,
          3.8752298,
          3.8433878,
          3.8740847,
          13.365059,
          3.851008,
          3.8433878,
          13.365059,
          3.8433878,
          3.851008,
          4.015189,
          13.367213,
          14.26677,
          13.370999,
          4.0733604,
          3.8506784,
          4.4416046,
          3.8506784,
          3.8504746,
          3.8418777,
          4.074868,
          4.0166135,
          3.8476408,
          14.339456,
          14.339456,
          14.357728,
          4.0143404,
          14.318024,
          4.015045,
          14.368227,
          14.313117,
          4.014199,
          4.2624693,
          4.421365,
          4.0093374,
          15.512601,
          4.269369,
          14.384112,
          15.522522,
          15.557022,
          15.531495,
          4.474737,
          4.474737,
          15.544888,
          15.5448885,
          4.4730935,
          4.4730935,
          16.844805,
          16.848047,
          16.24217,
          16.844805,
          4.5811234,
          4.5811234,
          18.017305,
          16.848047,
          17.130968,
          16.849554,
          18.355104,
          17.20125,
          18.032015,
          4.6431417,
          18.030884,
          16.85713,
          18.032015,
          16.85817,
          18.020372,
          17.307432,
          17.307432,
          17.364204,
          18.636726,
          18.730854,
          17.42143,
          17.43326,
          19.866642,
          18.730854,
          18.55551,
          21.23572,
          17.43326,
          21.224632,
          21.224632,
          21.514832,
          21.514345,
          21.281105,
          21.485554,
          21.224632,
          21.281105,
          21.276953,
          21.432344,
          19.880192,
          19.870867,
          4.677733,
          20.682335,
          4.6799965,
          19.871323,
          21.331112,
          21.331112,
          21.331112,
          21.467382,
          18.946638,
          21.467382,
          18.946638,
          19.871323,
          21.746595,
          19.249752,
          21.467386,
          21.331114,
          21.638374,
          21.793922,
          21.603624,
          21.793922,
          17.764338,
          19.342913,
          17.764318,
          19.367826,
          20.683043,
          20.68689,
          19.64513,
          20.683458,
          19.742693,
          19.680216,
          19.680342,
          19.601196,
          19.534029,
          19.507633,
          19.50875,
          19.72147,
          19.382515,
          19.72147,
          19.382515,
          19.382515,
          19.382515,
          17.97703,
          17.72931,
          17.984892,
          4.5953155,
          17.72931,
          19.257164,
          17.72931,
          19.257164,
          17.978222,
          17.970491,
          17.970491,
          18.68261,
          18.68261,
          17.790258,
          16.935015,
          16.935015,
          17.97803,
          17.970491,
          17.97803,
          16.332256,
          16.311367,
          16.311369,
          17.972294,
          17.963062,
          16.673552,
          20.695152,
          16.312517,
          16.312517,
          4.488755,
          15.860513,
          15.001911,
          15.023138,
          14.921978,
          4.296657,
          14.992173,
          14.998611,
          14.998611,
          14.983055,
          4.274718,
          4.274718,
          4.2875323,
          4.2875323,
          14.952771,
          14.983055,
          4.177017,
          13.78982,
          14.9133215,
          14.932802,
          13.796002,
          13.783437,
          3.8538811,
          4.173434,
          13.796004,
          13.797536,
          13.796003,
          13.796003,
          12.752467,
          12.748201,
          12.558246,
          12.753696,
          12.767423,
          12.762775,
          12.748742,
          12.758,
          11.841536,
          11.929611,
          11.929897,
          4.001281,
          12.757585,
          3.9739108,
          4.000487,
          11.931155,
          12.7615,
          4.0007854,
          11.93294,
          11.931155,
          4.0007854,
          4.231047,
          10.380701,
          4.520305,
          9.477226,
          4.520305,
          7.52842,
          4.825449,
          7.627192,
          7.516119,
          7.538614,
          7.516119,
          7.615853,
          5.2042227,
          5.269604,
          3.1596773,
          6.519346,
          6.514155,
          -18.30372,
          -18.30372,
          -19.034372,
          -18.493227,
          9.194597,
          -18.360655,
          9.193446,
          8.505808,
          9.207118,
          10.081968,
          -2.592994,
          10.070275,
          -3.8841076,
          11.012793,
          -17.077435,
          12.294106,
          -6.497099,
          10.802222,
          12.230363,
          12.230363,
          12.705138,
          12.346039,
          -16.334654,
          13.2239685,
          -7.5695167,
          13.283235,
          13.547609,
          13.406794,
          13.365817,
          -8.541617,
          13.97954,
          -8.560788,
          -8.493033,
          -9.10743,
          -9.179066,
          -9.179066,
          -9.194097,
          -9.113498,
          14.651448,
          -9.123117,
          -9.209568,
          14.92161,
          -9.201433,
          -9.209568,
          -9.123117,
          -9.209568,
          14.6736765,
          14.701701,
          -8.51613,
          -9.127131,
          14.016725,
          -7.7178035,
          -8.579513,
          -7.690827,
          -7.679225,
          -7.6473813,
          -6.7209,
          -6.6995544,
          -6.702821,
          -5.378064,
          -5.3855934,
          10.835776,
          -5.378181,
          10.901908,
          -5.2737393,
          -5.2734685,
          10.886085,
          -3.9451993,
          9.9782715,
          -3.9151871,
          -3.9434624,
          -3.9434624,
          -3.9434624,
          -2.5584846,
          -3.935348,
          -2.5577636,
          -2.6298177,
          9.1534395,
          -2.6315343,
          -2.5584846,
          -2.5584846,
          -1.4741358,
          -1.4639119,
          -1.2467405,
          -1.2422193,
          -1.2422194,
          8.463256,
          -0.035838105,
          -0.03583807,
          -0.017916502,
          -0.017047921,
          6.456875,
          1.338247,
          6.456875,
          1.3382585,
          1.6747674,
          5.860751,
          5.8807273,
          5.8824096,
          3.2170117,
          5.3098717,
          5.305651,
          5.3054233,
          7.3608155,
          5.1939,
          5.1906805,
          5.190352,
          7.370562,
          5.34545,
          7.138111,
          4.5124617,
          7.3800726,
          4.8072677,
          9.116926,
          7.396951,
          4.5177665,
          7.404994,
          9.116929,
          9.135322,
          23.108416,
          9.480895,
          9.145622,
          7.529512,
          7.526253,
          9.479129,
          9.135322,
          9.135322,
          9.135322,
          23.172838,
          9.116931,
          7.4122252,
          23.172838,
          23.172886,
          23.177399,
          4.826582,
          7.52842,
          7.5314226,
          7.155858,
          7.154686,
          23.279135,
          7.5484138,
          7.412224,
          23.279518,
          5.178215,
          23.17765,
          5.1749053,
          5.1749053,
          5.1749053,
          3.2028496,
          23.279518,
          3.2048948,
          23.440538,
          3.2048948,
          23.440538,
          3.2028496,
          5.1749053,
          3.4170694,
          3.203019,
          3.1888885,
          3.2026958,
          23.517088,
          3.203019,
          1.5543534,
          1.5688695,
          1.5671483,
          23.440538,
          1.5526804,
          23.47579,
          1.5526804,
          1.5526804,
          23.66521,
          1.5526804,
          1.5543532,
          23.821938,
          23.665243,
          1.7555643,
          1.5543534,
          23.96365,
          1.5556448,
          0.14595287,
          0.07824252,
          0.14379399,
          24.255566,
          23.964039,
          0.13797654,
          24.247927,
          0.13797654,
          0.13797662,
          24.349596,
          -1.196032,
          23.95644,
          0.13844088,
          23.963114,
          24.321268,
          24.321268,
          23.825653,
          24.34463,
          23.826704,
          24.330864,
          23.615654,
          -1.3773698,
          24.34463,
          24.503433,
          24.717018,
          24.349596,
          -2.51538,
          -1.1960323,
          24.40993,
          24.717018,
          24.717018,
          24.349596,
          25.118023,
          -2.51538,
          -2.51538,
          -2.5234625,
          24.500679,
          -2.5234842,
          24.708563,
          25.133913,
          24.70856,
          24.500679,
          24.500679,
          -2.577444,
          -2.5310504,
          24.104612,
          24.496058,
          25.149752,
          -3.848585,
          -3.8478441,
          25.148838,
          -3.7061677,
          -5.2548704,
          11.205364,
          -5.264643,
          -3.8683429,
          25.257639,
          -5.2658887,
          -5.2661915,
          -5.2661915,
          12.303055,
          11.101857,
          -6.37558,
          -6.4442267,
          -5.223175,
          -6.4442267,
          -6.4442263,
          -6.4442267,
          12.72909,
          -6.3594027,
          25.30494,
          13.30895,
          -7.380967,
          -6.352677,
          -5.1819806,
          -19.355865,
          10.70572,
          -5.1791105,
          -17.650394,
          -17.611025,
          -7.155864,
          13.376589,
          12.389413,
          -16.29845,
          -16.303408,
          -16.304644,
          13.966556,
          -10.20473,
          12.376651,
          12.398774,
          12.543677,
          13.103748,
          5.7511053,
          5.2620234,
          4.7017813,
          4.685742,
          3.8969464,
          3.664658,
          3.455706,
          2.9809914,
          1.4608282,
          -0.6187451,
          -0.8295329,
          -0.95426065,
          -1.1236417,
          -1.3315527,
          -1.8307064,
          -2.1287959,
          -3.8137686,
          -3.853687,
          -3.8863878,
          -4.003954,
          -4.6142387,
          -4.82686,
          -4.5205894,
          -4.858468,
          -4.862788,
          -4.862527,
          -4.8588123,
          -4.9576573,
          -4.845342,
          -4.958012,
          -5.2779155,
          -5.2800145,
          -5.1650405,
          -5.1284323,
          -5.3847995,
          -5.4452934,
          -7.1609683,
          -5.4502325,
          -7.3239117,
          -7.3953047,
          -5.3786316,
          -5.6001463,
          -5.835035,
          0.4462711,
          -6.823945,
          -1.0249829,
          -2.225717,
          -5.7613926,
          -2.1568387,
          -1.9682841,
          1.7016152,
          1.6703049,
          1.6571665,
          15.272865,
          -1.1323019,
          2.2631998,
          -6.2172775,
          -4.271438,
          -5.8836384,
          -4.4540977,
          -4.368931,
          -4.7399487,
          -4.4082165,
          -4.489341,
          -4.7926583,
          -4.789096,
          -4.8399982,
          -6.2007256,
          -5.1558332,
          -6.226327,
          -5.3525515,
          -6.215357,
          -6.2147536,
          -6.213673,
          -5.238838,
          -5.161122,
          -5.1798954,
          3.688635,
          5.699894,
          6.3321567,
          6.355981,
          6.3565226,
          6.332156,
          -6.3084846,
          -6.147723,
          -6.6561027,
          9.198829,
          -6.8988395,
          -6.9632177,
          -7.380395,
          -8.034322,
          -8.278701,
          -8.657882,
          -8.657882,
          12.456837,
          12.453571,
          -10.545624,
          -10.545625,
          -10.75805,
          -11.554659,
          -10.306128,
          -11.2834425,
          -11.2834425,
          -12.281214,
          -13.1393585,
          -13.35908,
          -13.756452,
          -14.040062,
          -14.126287,
          -14.628236,
          14.467799,
          -14.679139,
          -15.170435,
          -15.822759,
          -15.822759,
          13.559383,
          13.408744,
          13.588721,
          -16.265114,
          -17.578848,
          -17.604427,
          12.814087,
          -17.64391,
          11.711782,
          12.85708,
          -17.610023,
          11.542476,
          12.823213,
          -17.63652,
          -17.63652,
          -17.643644,
          -17.660048,
          -17.675259,
          -18.205208,
          -18.37911,
          -18.205198,
          -17.58641,
          11.742245,
          11.432899,
          -17.682487,
          -17.595903,
          10.755822,
          -18.380493,
          11.521622,
          11.736783,
          11.54254,
          11.543071,
          11.54254,
          -17.610094,
          12.469595,
          12.849033,
          -17.311525,
          -18.385405,
          -17.33804,
          -17.338037,
          -17.33804,
          -18.385399,
          13.428156,
          -17.252098,
          13.577546,
          -17.45065,
          -17.697802,
          -17.884193,
          5.1688614,
          -16.361582,
          5.4037285,
          -18.841604,
          -17.80042,
          -18.469278,
          8.569364,
          8.691494,
          -17.445457,
          -17.919239,
          13.724577,
          -16.390108,
          8.78075,
          -16.252037,
          -16.270155,
          -15.98517,
          13.69114,
          14.149003,
          14.045985,
          14.065256,
          14.073815,
          14.078928,
          14.21856,
          14.082033,
          14.423313,
          14.089717,
          14.221751,
          13.86691,
          -14.828586,
          14.222936,
          -15.258015,
          14.416079,
          14.662395,
          -15.195372,
          -15.218478,
          -14.759558,
          -14.759558,
          14.261572,
          14.246214,
          -14.728455,
          -14.720338,
          -14.696216,
          -14.696216,
          14.243737,
          -13.754023,
          14.243737,
          14.229221,
          -13.156462,
          13.700183,
          13.689262,
          13.688877,
          13.689262,
          13.700204,
          -11.332778,
          13.399684,
          -10.78867,
          12.930029,
          12.424363,
          12.962894,
          5.930968,
          -9.589035,
          12.9627285,
          12.408055,
          11.782752,
          11.785347,
          5.770746,
          11.786933,
          11.780402,
          5.5578203,
          5.55812,
          11.102398,
          10.097009,
          9.128193,
          10.209339,
          9.224584,
          9.2225895,
          4.969459,
          9.1274805,
          8.357565,
          4.422482,
          4.4223547,
          6.3512673,
          6.3015447,
          4.1555953,
          3.9200118,
          5.6090302,
          5.6198077,
          5.6198077,
          5.0476494,
          5.0476494,
          5.0476494,
          4.5292473,
          4.5292473,
          4.0476193,
          4.0479374,
          4.043987,
          4.0428534,
          3.603172,
          2.614701,
          3.152685,
          3.1482797,
          3.1512275,
          3.150876,
          2.652436,
          2.6481383,
          2.285965,
          2.156255,
          2.1046555,
          1.8312153,
          1.705259,
          1.6546006,
          1.418096,
          0.37525406,
          0.37550917,
          1.1944892,
          1.1944892,
          0.32067078,
          -0.24847889,
          0.7648489,
          0.7633413,
          0.7523319,
          -1.1674483,
          0.7519195,
          -0.87057894,
          0.7500449,
          0.76276565,
          -1.1660236,
          -0.8946233,
          -1.1629982,
          0.5192571,
          -1.7950994,
          -2.3873827,
          -1.7167959,
          0.10466717,
          0.5157142,
          0.3114175,
          -2.3115475,
          -2.6369133,
          -2.6347837,
          -2.7866642,
          -2.7954168,
          -2.863748,
          -2.864342,
          -2.8918242,
          -2.9008086,
          -0.5151113,
          -2.9018393,
          -0.6493885,
          -2.9735892,
          -2.8488553,
          -2.7127733,
          -3.0450897,
          0.4915065,
          -2.1089857,
          -3.060472,
          -2.9971666,
          -2.9953978,
          -2.9889748,
          -2.9487965,
          -2.984149,
          0.3235327,
          -2.8967943,
          -2.4788017,
          -2.8954594,
          -2.9729702,
          -2.454756,
          -2.4777248,
          -2.458078,
          -2.4580765,
          -3.0016778,
          -2.4702241,
          -2.6460745,
          -2.6461873,
          -3.0007076,
          -3.0005658,
          -3.0203142,
          -2.645385,
          -2.7439504,
          -2.6438434,
          -2.7445078,
          -2.7445078,
          -3.0217028,
          -2.8553782,
          -3.0260017,
          -3.0082893,
          -0.74902844,
          -2.8498373,
          -2.8989081,
          -2.8557804,
          -2.8992434,
          -2.9583075,
          -2.9004729,
          -2.8988857,
          -0.5089479,
          -2.92999,
          -0.51219803,
          -2.9092388,
          -2.919199,
          -2.9208305,
          -2.9387965,
          -2.974795,
          -2.9747295,
          -2.8845282,
          0.09504669,
          -2.8885124,
          -3.0105782,
          -3.0235705,
          -2.822171,
          -2.9970825,
          0.30133632,
          -2.5876007,
          -2.833289,
          -2.6760826,
          -2.6760888,
          0.48682502,
          -2.6760828,
          0.51361793,
          -2.5920079,
          2.497521,
          2.9978802,
          2.7039123,
          2.479358,
          -2.6561463,
          2.6007512,
          2.4782965,
          2.6273427,
          2.4793596,
          2.829416,
          1.093068,
          1.1258965,
          1.5833733,
          1.5824618,
          1.5957345,
          -7.1824813,
          1.0828859,
          1.5920603,
          1.0828859,
          0.6195372,
          1.6194082,
          0.6195372,
          0.6195372,
          0.6108413,
          -0.498576,
          0.62880814,
          1.0037091,
          -7.341034,
          -0.50898063,
          -1.4710685,
          -0.562309,
          1.3089621,
          -1.8698627,
          -2.2830071,
          -2.2786443,
          -1.8669263,
          -1.8891696,
          -2.2709749,
          -1.4411663,
          -2.2666383,
          1.4893926,
          1.4976058,
          -2.2588341,
          2.0966291,
          -1.4698232,
          -1.4747643,
          -2.2883105,
          -2.3004847,
          -2.3004847,
          -2.3004847,
          2.0913508,
          2.0913508,
          1.5230553,
          -1.4958249,
          1.3298541,
          -1.4743869,
          1.5335418,
          -1.4743869,
          -1.4743869,
          1.537793,
          -0.5849645,
          -1.4779423,
          1.0093507,
          1.0093507,
          1.0043511,
          0.77665585,
          0.778602,
          1.4209952,
          0.77703923,
          1.0043511,
          0.25828743,
          0.77665585,
          0.3264652,
          -0.28429216,
          0.3842512,
          0.53246665,
          0.97416675,
          0.38466713,
          -1.0532892,
          -0.28341398,
          1.5168587,
          1.5168587,
          -1.0532894,
          -0.89797145,
          -0.34647706,
          -0.28429216,
          1.5168587,
          -1.0483539,
          1.491124,
          -1.1786542,
          -1.0690148,
          -1.0690148,
          2.1144075,
          -1.0725062,
          2.5660303,
          -1.0715678,
          -1.0715678,
          2.1141753,
          -0.9137504,
          -1.0930188,
          -1.2639974,
          2.130805,
          -1.1811032,
          -2.059168,
          -1.0908197,
          -1.1811461,
          -2.059168,
          -2.059168,
          -2.059168,
          2.130915,
          -1.1811032,
          2.240073,
          -1.9272398,
          -2.2672482,
          -2.0661507,
          -1.0930185,
          2.4299173,
          -2.2688751,
          -2.0661585,
          -2.249972,
          -2.249972,
          -1.9335717,
          -2.2381713,
          -2.2499719,
          -1.9418304,
          -1.9418304,
          2.0724487,
          2.06985,
          2.0782447,
          -2.7788765,
          1.9446719,
          1.7328155,
          2.3471487,
          -6.817475,
          -6.9988813,
          1.502209,
          1.2169087,
          3.5187504,
          -7.074638,
          -6.7909226,
          1.7091651,
          1.1169368,
          -2.82636,
          -2.3865361,
          -2.0455155,
          -2.5481946,
          -3.4108663,
          -2.9413755,
          -5.397091,
          -5.3765197,
          -3.3914247,
          -2.152743,
          -2.5498848,
          -3.2015595,
          -3.216548,
          -5.4022946,
          -2.9594762,
          -2.5488102,
          -2.5489638,
          -2.6521933,
          -2.546739,
          -2.9606056,
          -3.015612,
          -3.0465643,
          -2.7184849,
          -5.3761535,
          -5.3380957,
          -2.5513601,
          -2.552045,
          -5.3490543,
          -2.2597854,
          -2.466471,
          -5.3312488,
          -5.352562,
          -2.9720688,
          -5.3390164,
          -5.377343,
          -3.2132561,
          -2.5485075,
          -5.405343,
          -2.5482135,
          -2.903961,
          -5.3751016,
          -7.3995876,
          -5.330432,
          -2.0643291,
          -5.368245,
          -1.869905,
          -5.364681,
          -2.0516841,
          -5.366112,
          -8.351257,
          -2.467202,
          -2.467509,
          -7.3819156,
          -5.3454742,
          -7.3540177,
          -8.255771,
          -7.38279,
          -8.326319,
          -7.442356,
          -7.476163,
          -5.348967,
          -7.4720445,
          -5.3987484,
          -7.499114,
          12.9639225,
          13.035408,
          8.544134,
          8.407154,
          13.271131,
          8.212238,
          13.277684,
          8.209989,
          13.278088,
          13.346319,
          13.272644,
          13.272681,
          13.34375,
          13.347407,
          8.210062,
          13.27254,
          13.278406,
          13.2718935,
          8.208852,
          8.179083,
          8.179083,
          7.499617,
          7.461969,
          7.499618,
          6.98212,
          7.462054,
          7.0538816,
          7.047774,
          7.0546365,
          7.0546365,
          6.684104,
          6.2392898,
          14.565832,
          6.1454234,
          5.656663,
          5.6567674,
          14.746731,
          14.504027,
          14.745415,
          14.501823,
          14.612977,
          14.663939,
          14.556874,
          14.563959,
          15.104502,
          14.942579,
          14.616728,
          14.946195,
          15.925716,
          15.106415,
          15.925716,
          15.541158,
          15.541158,
          15.925716,
          16.200468,
          15.395265,
          14.993813,
          15.931017,
          16.179182,
          15.535394,
          15.911713,
          15.936059,
          15.936059,
          15.734704,
          15.902715,
          16.450373,
          15.792264,
          15.526472,
          15.781776,
          16.133669,
          16.14497,
          2.299602,
          16.135796,
          16.381052,
          2.2843752,
          16.06573,
          16.142382,
          16.136215,
          2.6302001,
          16.141663,
          2.2864156,
          16.142382,
          16.053167,
          16.138073,
          15.788467,
          16.040033,
          15.789267,
          15.823262,
          16.095448,
          15.798498,
          16.14068,
          15.818571,
          16.441698,
          16.670696,
          15.465712,
          15.764119,
          15.658017,
          15.439642,
          15.123658,
          15.438147,
          14.996748,
          15.189244,
          14.676252,
          15.772659,
          15.4256,
          15.394498,
          14.842063,
          15.189243,
          15.764423,
          15.189242,
          15.400159,
          14.566235,
          14.670461,
          15.259334,
          15.170767,
          15.154064,
          14.996792,
          15.197933,
          15.197933,
          15.132144,
          15.010671,
          5.1941533,
          5.33412,
          0.28281415,
          -6.4782486,
          0.18204796,
          5.304529,
          4.99527,
          4.8729835,
          5.339278,
          0.17999491,
          0.29274127,
          -0.048973624,
          5.5901747,
          0.05645474,
          0.2571041,
          -0.071495496,
          5.1027837,
          -0.06864439,
          5.363853,
          4.9672356,
          -0.2439713,
          -0.255596,
          14.916932,
          5.265724,
          5.3035502,
          5.850394,
          -0.24397002,
          0.088621676,
          0.087092765,
          -0.11014335,
          -0.08562068,
          5.761847,
          5.822482,
          5.8212376,
          5.363989,
          14.881969,
          14.607754,
          14.598752,
          14.277584,
          14.576836,
          14.588231,
          14.4185295,
          6.648359,
          5.71507,
          15.060666,
          15.392511,
          15.282237,
          16.753119,
          15.504001,
          15.609506,
          15.603477,
          15.777336,
          2.2187092,
          15.995013,
          1.8369151,
          15.991699,
          16.006914,
          15.992062,
          16.003311,
          15.965376,
          15.961642,
          15.748733,
          15.796078,
          11.083667,
          15.647567,
          11.085042,
          15.791013,
          15.741609,
          0.2640777,
          15.635156,
          15.69858,
          15.724203,
          0.78259254,
          15.501095,
          0.26708186,
          -4.3497543,
          0.30052537,
          0.8425557,
          -3.0026226,
          15.33997,
          0.01558897,
          10.619315,
          15.171224,
          10.37946,
          10.624464,
          15.011307,
          10.385845,
          10.265877,
          10.155557,
          9.091837,
          9.068292,
          8.8793745,
          14.558718,
          14.29156,
          14.052456,
          9.018296,
          1.7499933,
          9.747299,
          9.355704,
          9.905615,
          13.377271,
          -0.039695017,
          -5.2554193,
          -5.664201,
          -5.958404,
          13.386199,
          1.7204683,
          1.6624727,
          1.9466162,
          1.9478393,
          1.9746457,
          1.7713096,
          -7.029675,
          -6.640479,
          -6.263231,
          1.1273407,
          -5.939782,
          -5.9508276,
          -5.9606323,
          -5.6797338,
          0.21316291,
          -5.6797338,
          0.22152436,
          0.26271686,
          -5.697397,
          0.09893037,
          -5.6932735,
          -5.7025614,
          -5.7101526,
          -5.710326,
          0.17153907,
          0.18034755,
          -5.728291,
          0.36255565,
          0.3193691,
          0.3626168,
          0.37643397,
          0.3313574,
          0.5804948,
          0.34410736,
          0.58938134,
          0.80905837,
          0.58938116,
          0.58938134,
          0.5946051,
          13.947411,
          0.8109049,
          13.964639,
          13.958472,
          14.019599,
          14.176195,
          14.001874,
          14.003973,
          14.003973,
          14.172689,
          14.17024,
          14.4137,
          10.157924,
          14.444846,
          14.112541,
          14.171264,
          13.982754,
          14.336779,
          0.8611639,
          13.948205,
          1.1488096,
          1.2274282,
          1.2525499,
          -6.691986,
          4.403672,
          4.3720264,
          6.085924,
          -12.660178,
          -13.090157,
          -13.133924,
          -13.911952,
          -14.084124,
          -14.432477,
          -14.440408,
          -14.555274,
          8.76492,
          -14.6074095,
          -14.513013,
          8.700157,
          -15.241822,
          -15.384258,
          -15.383363,
          8.364153,
          7.660582,
          6.9692426,
          7.655736,
          7.0316415,
          7.110403,
          7.032563,
          7.003137,
          5.8482075,
          5.425473,
          -20.062618,
          5.41288,
          18.67587,
          -19.207594,
          3.435857,
          18.675882,
          19.12984,
          18.786146,
          19.12984,
          -12.102464,
          -11.4735565,
          2.797847,
          -11.488593,
          -10.902639,
          4.805675,
          6.9828234,
          -14.444622,
          -15.835749,
          -15.375512,
          -14.414687,
          -15.929414,
          -15.899685,
          -15.797694,
          -15.822594,
          -15.614788,
          -17.71558,
          -15.100416,
          -15.25775,
          -15.052633,
          -15.322041,
          -14.792778,
          -15.047003,
          -15.080827,
          -15.375178,
          -15.083441,
          -15.082008,
          -15.082008,
          -15.6733465,
          -15.65568,
          -15.371501,
          -15.802677,
          -16.213827,
          -16.529732,
          -16.234253,
          -16.59669,
          -16.664196,
          -16.766207,
          -16.99032,
          -16.990322,
          -16.99177,
          -16.99032,
          6.432079,
          -17.372684,
          -16.923058,
          5.6273794,
          -16.939404,
          5.8106337,
          5.909538,
          5.763889,
          -15.413325,
          -15.996958,
          -2.186752,
          -12.894004,
          -15.086808,
          -15.63425,
          -15.63425,
          -16.128574,
          -16.090996,
          -15.921002,
          -15.7303505,
          -5.992041,
          -6.0377502,
          -13.673093,
          -13.620194,
          -13.595404,
          -13.55345,
          4.8580174,
          7.9907527,
          7.012493,
          -16.39799,
          -17.029716,
          -16.816835,
          -16.629036,
          -13.668707,
          -7.2435265,
          -7.221696,
          -14.07549,
          -14.779181,
          3.954925,
          3.9811633,
          -3.6242697,
          -17.86339,
          5.76075,
          -0.87817425,
          -13.765977,
          -12.817146,
          -0.42625663,
          -0.25489536,
          -14.752896,
          -15.409074,
          5.365265,
          5.6377172,
          5.869541,
          5.869753,
          5.81961,
          5.7596426,
          5.641461,
          -16.15685,
          4.7618732,
          -17.183868,
          5.1249194,
          5.1399403,
          -1.7897375,
          -2.232993,
          -1.947919,
          -0.581649,
          -14.379143,
          -2.2008026,
          -2.2001486,
          -15.369005,
          -15.369005,
          -14.71418,
          5.2351494,
          5.2404146,
          -15.38655,
          -15.40587,
          5.229991,
          -15.368486,
          5.226502,
          -15.909261,
          -14.705981,
          5.2692347,
          -14.707078,
          -14.332321,
          -3.5559175,
          -3.6445363,
          -3.6573045,
          -3.4431682,
          -3.4978178,
          -3.4984891,
          -5.3820386,
          -14.83107,
          -3.762595,
          -5.3686066,
          -14.941332,
          -14.661221,
          -14.658718,
          -14.611188,
          -14.521817,
          -14.51927,
          5.14108,
          -13.892457,
          -14.56495,
          -14.654282,
          5.2275677,
          5.233301,
          5.201314,
          -14.938429,
          -5.355522,
          -14.937159,
          -3.7559884,
          -5.750578,
          -5.2198505,
          4.2980237,
          -4.7473946,
          -16.157219,
          -16.162102,
          4.8038,
          4.490026,
          4.4933705,
          -4.648569,
          -3.3659656,
          -14.644878,
          -5.2715383,
          -5.271732,
          -5.3032255,
          -5.6432953,
          -5.7483687,
          -5.268093,
          -5.268093,
          -3.6957922,
          -5.268093,
          -3.64936,
          -3.6365795,
          -5.268093,
          -3.550328,
          -3.6957922,
          -3.599703,
          -13.892056,
          -3.5925477,
          -3.3837285,
          -3.589309,
          -3.6368234,
          -2.4393768,
          -3.548857,
          -5.222108,
          -3.5805945,
          -4.775325,
          -4.7247615,
          -16.17452,
          -3.387742,
          -3.3069615,
          -16.29374,
          -2.3007789,
          -16.50188,
          -16.50434,
          -16.485245,
          -16.630106,
          -16.55968,
          -16.470722,
          -4.6599574,
          -3.323641,
          -16.503952,
          -3.316194,
          -16.50052,
          -16.589022,
          -16.625408,
          5.7828298,
          -16.588783,
          5.759197,
          3.1313257,
          -16.313663,
          6.1616335,
          -16.417143,
          3.1313305,
          3.1316793,
          5.7370243,
          5.36316,
          -16.48549,
          3.309362,
          5.3779297,
          5.730767,
          -16.399551,
          5.7345843,
          3.1364634,
          6.1571417,
          6.142401,
          6.1588387,
          6.1392665,
          19.293358,
          18.786146,
          18.819332,
          19.12984,
          6.5811973,
          6.5811973,
          6.584369,
          -16.472027,
          -16.643305,
          -16.651808,
          9.263313,
          -16.428446,
          9.757092,
          -16.446966,
          9.91001,
          -16.554228,
          11.910332,
          -16.170378,
          -16.041101,
          -15.844527,
          -13.145775,
          18.813826,
          18.786146,
          -5.175131,
          -5.646529,
          -5.286565,
          -5.457923,
          -5.4585004,
          -5.388409,
          -5.6452236,
          -6.1673484,
          0.535048,
          4.1237106,
          3.0365458,
          -8.559918,
          -10.843293,
          -7.550364,
          4.4683504,
          5.4028354,
          5.405014,
          -13.638152,
          -9.981843,
          -9.98288,
          10.974022,
          -8.397286,
          -7.3177886,
          9.443899,
          10.340255,
          -7.1721745,
          -7.1761785,
          -7.1761785,
          -7.175305,
          -7.264945,
          0.34433544,
          3.5365846,
          3.4903467,
          0.13376741,
          15.7810335,
          15.330693,
          10.955806,
          10.877999,
          15.170791,
          15.0049,
          -0.109193295,
          -0.15287605,
          -4.843099,
          -7.4400654,
          -7.4419794,
          -7.458867,
          -7.09026,
          0.20115532,
          7.6234074,
          -6.7708163,
          0.19743243,
          2.3822746,
          -7.575427,
          -5.4863944,
          -5.0331903,
          -4.1693115,
          -3.0692976,
          0.2368231,
          -4.453693,
          -4.456681,
          -4.1762357,
          -0.033572193,
          -0.031017523,
          10.86934,
          15.982589,
          14.793963,
          13.755062,
          10.95603,
          14.348529,
          9.111788,
          0.0077800583,
          10.155897,
          0.0836554,
          13.7133,
          13.707654,
          1.1084256,
          1.6919686,
          11.940048,
          11.965483,
          0.2325214,
          0.24041277,
          1.3230556,
          -8.422139,
          2.8562515,
          2.5850616,
          1.9736929,
          11.202418,
          11.180616,
          -6.5475745,
          -7.63476,
          2.5817864,
          -7.6332846,
          11.952288,
          -6.465221,
          10.456252,
          9.237933,
          9.355512,
          -7.269813,
          4.362545,
          1.9968612,
          3.108212,
          10.748568,
          3.347312,
          2.8851273,
          2.8693864,
          2.2736843,
          3.3390775,
          3.1023436,
          2.2784748,
          -7.4639087,
          -8.362608,
          2.6172638,
          2.8587132,
          2.8549466,
          3.3531456,
          2.8568099,
          -6.466235,
          -6.307868,
          12.314448,
          2.2811353,
          2.5869741,
          -7.4394326,
          -6.6561575,
          5.902429,
          5.860339,
          6.3829346,
          6.466469,
          6.5274997,
          -8.01304,
          -8.063779,
          -8.326653,
          -8.327082,
          -8.53875,
          -8.241648,
          -8.123199,
          -7.996142,
          8.744367,
          8.769551,
          8.765927,
          -15.245558,
          -15.510794,
          -8.526349,
          7.7051406,
          6.476112,
          7.4372497,
          -15.922235,
          -15.441304,
          -15.970596,
          -15.872123,
          -15.800722,
          -15.374118,
          -15.37755,
          -15.368021,
          12.348531,
          -15.374815,
          -15.375192,
          -15.283025,
          -15.255522,
          8.642351,
          8.424488,
          8.640278,
          8.422035,
          7.742048,
          -15.964695,
          -15.949858,
          -16.322824,
          -15.978796,
          10.503918,
          10.188099,
          -16.324177,
          9.868381,
          -15.554955,
          -17.925617,
          -18.304659,
          -18.33061,
          -16.093176,
          -16.093174,
          -16.04292,
          10.206861,
          -16.031109,
          9.882705,
          9.882704,
          -17.88301,
          -18.233845,
          -18.14233,
          8.380807,
          -18.27738,
          8.294008,
          8.253147,
          8.253146,
          7.6380644,
          -3.4434066,
          -15.262655,
          8.36047,
          4.3309565,
          4.092955,
          8.980917,
          4.0590653,
          4.087435,
          -12.916243,
          -13.7285185,
          -13.730134,
          5.0330663,
          -14.722271,
          -15.821013,
          8.382093,
          -1.991686,
          -12.503991,
          -12.688941,
          4.069876,
          -12.043895,
          -11.004348,
          1.6704649,
          -10.351742,
          -12.730375,
          -17.601662,
          -14.642027,
          8.731244,
          4.0686235,
          3.869622,
          3.6282763,
          4.2847924,
          4.314169,
          4.315585,
          4.3257813,
          4.1016836,
          -10.22008,
          7.8535495,
          7.8469706,
          -9.867056,
          -10.187341,
          -10.962808,
          -11.25306,
          -18.0615,
          -1.8464142,
          -16.23534,
          -2.8203907,
          -3.245879,
          -3.4545,
          -3.6158283,
          -12.767499,
          -12.112489,
          -11.495541,
          -11.492872,
          -11.523928,
          -10.95491,
          4.507554,
          4.341779,
          -12.111947,
          -15.057058,
          7.8349843,
          8.382137,
          7.8723655,
          8.744476,
          8.609124,
          8.60901,
          8.975694,
          8.9727125,
          8.51605,
          4.3370595,
          -11.795258,
          8.814343,
          -11.791685,
          -10.147238,
          -18.922262,
          10.69363,
          6.89706,
          -13.6669445,
          -13.719231,
          6.919856,
          6.773842,
          4.425432,
          3.490778,
          3.2484064,
          -11.011323,
          -10.433956,
          -11.011469,
          4.160153,
          4.5369077,
          4.3406677,
          4.539816,
          4.5582495,
          4.539816,
          -13.21136,
          4.730877,
          4.70796,
          -11.445238,
          -10.2193365,
          -9.879919,
          -8.889406,
          8.366837,
          8.457351,
          -14.351017,
          -13.840366,
          8.607264,
          8.614754,
          8.589098,
          8.5976515,
          7.9311695,
          8.584837,
          8.118756,
          8.566107,
          8.599079,
          -14.313819,
          8.607401,
          8.695992,
          8.585182,
          8.451437,
          -15.1694,
          8.6758375,
          8.750455,
          8.7313795,
          5.700893,
          5.7667603,
          4.4176354,
          -5.5319543,
          4.23876,
          -4.8534775,
          -4.8534713,
          1.2252637,
          0.50342554,
          -2.4415135,
          -5.592306,
          -1.2481337,
          1.779395,
          1.7957898,
          -5.721097,
          -5.6761513,
          0.9313237,
          -3.0581136,
          1.1171031,
          1.5636666,
          1.4297328,
          -0.18052179,
          -1.7920452,
          -3.2331324,
          -3.8414125,
          -4.676807,
          -5.5422063,
          -5.334246,
          -5.4349756,
          8.498961,
          -6.7986507,
          -7.210436,
          11.291607,
          -8.394372,
          12.571769,
          -8.922392,
          -10.507928,
          -11.264088,
          -10.929524,
          -11.5939865,
          -11.819798,
          -12.770254,
          -13.012572,
          -13.012572,
          -13.865079,
          -14.409735,
          -14.819528,
          -15.224781,
          -15.224779,
          -15.23728,
          -15.518515,
          -15.378869,
          11.270355,
          -16.433197,
          -14.321986,
          -16.331875,
          -18.318695,
          -18.359,
          5.845777,
          5.483495,
          4.496267,
          -10.415471,
          3.6447163,
          3.775997,
          3.775997,
          3.865021,
          3.865021,
          3.7959788,
          3.877544,
          3.2317698,
          3.2369323,
          3.2369323,
          3.2543569,
          3.2543433,
          2.138424,
          3.3392153,
          2.055842,
          2.1859567,
          -17.535433,
          2.1976154,
          2.1976154,
          2.1976154,
          2.197614,
          2.1976154,
          2.2088923,
          2.2941005,
          2.7151268,
          2.2088923,
          3.4944117,
          3.4944122,
          -17.740719,
          2.3049695,
          -17.746645,
          3.5135283,
          4.191742,
          4.191742,
          3.5227551,
          -17.720243,
          3.5433788,
          -17.469854,
          -17.750433,
          5.253838,
          -18.367197,
          -18.3562,
          4.975799,
          3.6327443,
          4.9757996,
          4.979382,
          4.400491,
          -18.358503,
          4.99189,
          -19.068167,
          -18.369211,
          4.99189,
          -19.068167,
          -19.067808,
          -19.068167,
          -18.389662,
          5.40357,
          -19.343246,
          -18.645903,
          -19.078861,
          -19.524954,
          -19.338116,
          -18.585485,
          -18.645912,
          6.091943,
          6.122074,
          -19.317429,
          8.523088,
          -18.52429,
          -18.524523,
          -18.523327,
          -18.199041,
          -18.523325,
          -18.19692,
          -18.196918,
          -18.19772,
          -18.244822,
          -18.244856,
          -18.24505,
          -17.716198,
          -17.717558,
          -17.763308,
          -17.763287,
          -17.719076,
          7.7440968,
          -17.764414,
          -17.146746,
          -17.717558,
          -17.229553,
          -16.877756,
          -17.240833,
          -17.240833,
          -16.831228,
          -16.831228,
          -18.38266,
          -17.564678,
          -16.831226,
          -16.831226,
          -17.573618,
          -16.838884,
          13.529388,
          -16.465467,
          -16.000195,
          -16.465467,
          13.903512,
          13.929703,
          -16.014526,
          13.759884,
          -15.979312,
          -16.001173,
          14.039527,
          13.9946785,
          -15.714997,
          -15.042518,
          13.9946785,
          -15.034081,
          -15.034081,
          -14.436542,
          -14.436542,
          14.091468,
          -14.436542,
          14.164176,
          -14.082446,
          -13.377043,
          -13.379097,
          -13.379097,
          -12.81171,
          -12.811705,
          -12.695916,
          -12.639449,
          -11.927025,
          -12.626908,
          13.391182,
          13.390745,
          -11.697162,
          -11.012049,
          12.979664,
          -9.890123,
          12.407865,
          -9.890123,
          12.94022,
          -9.051603,
          -9.049598,
          11.758463,
          -9.04412,
          -8.382809,
          -8.8489685,
          -8.150951,
          10.907201,
          -8.150285,
          11.025556,
          -7.543871,
          10.164151,
          10.03007,
          10.036571,
          -7.0771585,
          9.167497,
          9.171921,
          -6.990309,
          8.265676,
          8.287094,
          8.176833,
          7.1652746,
          -6.637486,
          -5.9894075,
          7.4116373,
          -5.9390445,
          -5.9289646,
          6.9116898,
          7.16713,
          -5.7919393,
          6.331486,
          -5.837685,
          6.427967,
          5.7069616,
          -5.8088436,
          -5.688792,
          -5.6937666,
          -5.7329807,
          -5.4707966,
          -5.1490183,
          -4.56809,
          -3.9027293,
          -2.7675436,
          -2.214912,
          -0.50013375,
          -0.22170043,
          1.398221,
          -5.6461344,
          -5.6001697,
          0.92638665,
          -5.5172014,
          0.6475667,
          0.6500881,
          0.7816186,
          -5.579166,
          1.2905043,
          1.4982026,
          -5.6753135,
          -5.801676,
          -6.3141418,
          -6.0316935,
          -6.174676,
          -5.966264,
          -6.1012845,
          -6.0387726,
          -5.5547085,
          -6.196209,
          -6.066878,
          -6.001428,
          -6.0014076,
          -5.842609,
          1.4660455,
          -5.8123474,
          -5.6851573,
          -5.7174597,
          -5.7217665,
          -5.8010507,
          -5.702019,
          -5.637628,
          -5.818882,
          0.7297133,
          -5.823364,
          -5.442259,
          -5.579323,
          -5.455784,
          -6.114502,
          -6.11173,
          0.5379674,
          -6.2823553,
          -6.11173,
          -6.2807055,
          -6.3259115,
          -6.3233495,
          -6.4332166,
          -6.420068,
          -6.4186096,
          -6.460754,
          -6.469167,
          -6.268326,
          -6.276514,
          -6.2943807,
          -6.277812,
          -6.2943807,
          -6.101294,
          -6.101294,
          -6.1095386,
          -5.9397573,
          -5.960109,
          -5.963038,
          -5.5056944,
          -5.599728,
          -5.0927887,
          -5.0927887,
          -5.1271777,
          -5.096926,
          -4.500775,
          -4.6269984,
          -4.5059357,
          -3.7682476,
          -3.977754,
          -3.7927983,
          -3.768023,
          -3.768023,
          -3.0273302,
          -2.8535755,
          -3.0269964,
          -3.2554116,
          -2.1166475,
          -2.08754,
          -2.091556,
          -2.1224945,
          -1.122074,
          -1.1220741,
          -1.1220741,
          -1.121156,
          -6.5103397,
          -1.3162508,
          -1.1211559,
          -1.1481832,
          -6.509544,
          -0.061932698,
          -0.061932717,
          -0.3149612,
          -0.0639236,
          0.46884304,
          -0.055087272,
          -0.05249314,
          1.1522175,
          1.1530211,
          1.1530213,
          1.1388794,
          1.1402918,
          1.1608639,
          0.8986151,
          1.1463939,
          2.3922958,
          2.0381649,
          2.3817525,
          2.3817525,
          2.391784,
          2.391784,
          2.3829143,
          2.0377166,
          -7.333423,
          2.038146,
          2.3922958,
          2.3922958,
          2.382915,
          3.9411469,
          3.3071265,
          3.6275399,
          3.5907547,
          4.4960756,
          3.6379075,
          3.6379075,
          3.6379075,
          3.9414458,
          3.3135316,
          4.4960756,
          4.428209,
          4.490152,
          -8.372932,
          4.490152,
          3.6470833,
          4.4921856,
          4.35903,
          4.9430885,
          -8.383319,
          4.9430885,
          4.9430885,
          4.4908714,
          4.4314837,
          4.4888268,
          4.5062037,
          4.64043,
          4.64043,
          4.5062065,
          4.5062037,
          4.4322953,
          4.9582906,
          4.634855,
          4.9567223,
          4.557164,
          -9.944555,
          5.0898075,
          -5.5168667,
          4.407524,
          1.9700353,
          0.100754045,
          -1.4460094,
          -3.3108692,
          -2.3349695,
          -5.4345417,
          -5.8355374,
          -5.1790752,
          1.3605503,
          -2.3617165,
          -4.174653,
          -3.4029114,
          -3.6894376,
          0.37232322,
          -3.4106412,
          -3.8562312,
          -2.9787295,
          -2.9417293,
          -2.9411492,
          -4.566641,
          0.5428615,
          -3.3459983,
          -4.665833,
          -3.262049,
          -3.4938047,
          -3.9721744,
          0.24062082,
          -4.011944,
          -4.011944,
          -4.3816442,
          -4.381644,
          -0.008135649,
          -4.8619485,
          -0.01263179,
          -0.012970187,
          0.06563028,
          0.11098864,
          0.027820278,
          -5.265664,
          -5.0588617,
          -4.8666058,
          0.7197241,
          -0.4486604,
          0.7197241,
          0.7212177,
          0.7212177,
          2.47406,
          -6.7797613,
          -7.1684575,
          1.9014456,
          3.3226502,
          -7.5866623,
          4.355925,
          -7.961066,
          5.2014637,
          -8.494559,
          -7.9902196,
          5.193448,
          5.127584,
          -9.029702,
          4.9046364,
          4.6955686,
          -11.712655,
          -11.799704,
          4.7596664,
          -11.881599,
          4.702695,
          4.486986,
          -10.709618,
          3.8411813,
          4.593384,
          -11.036153,
          -11.22691,
          4.036485,
          -6.1410303,
          6.076531,
          6.076531,
          5.935864,
          -6.5699344,
          5.9353824,
          6.734207,
          7.032928,
          7.0768914,
          7.0768914,
          7.0768914,
          7.0768914,
          6.000876,
          -11.807971,
          6.078943,
          6.078943,
          6.0763025,
          4.2139854,
          3.9930835,
          4.2139854,
          6.0136447,
          3.9050274,
          6.076539,
          4.2149534,
          3.9051118,
          3.9051118,
          6.0763025,
          3.9051118,
          4.2139854,
          4.2139854,
          4.3408194,
          4.4833627,
          4.1438684,
          4.143865,
          4.168646,
          4.488155,
          4.4881563,
          4.4881563,
          4.581945,
          4.1659718,
          4.643943,
          4.6439424,
          6.0777073,
          4.2132754,
          5.940125,
          5.9415493,
          5.9415493,
          7.020193,
          6.7837677,
          6.7837677,
          6.7837677,
          6.782103,
          7.540864,
          7.541343,
          7.8583417,
          -7.6189246,
          7.939532,
          7.858341,
          7.8583417,
          7.9792275,
          7.993371,
          7.976058,
          7.8826947,
          7.8700867,
          7.4722915,
          7.45063,
          7.5002975,
          7.44063,
          7.430633,
          6.8932414,
          6.8623376,
          6.987022,
          5.634095,
          5.6340947,
          4.088644,
          4.0844336,
          5.6593776,
          4.093862,
          4.088644,
          4.0817423,
          4.0956655,
          4.077338,
          1.7282516,
          2.2239316,
          -19.538366,
          2.4402282,
          2.4187646,
          2.4431336,
          2.0294976,
          -10.338733,
          3.0741131,
          2.1346266,
          2.984826,
          2.106371,
          2.073617,
          2.5275562,
          2.2025123,
          2.4431336,
          2.3657658,
          2.3657658,
          -20.076853,
          2.2066593,
          -19.282293,
          2.4434905,
          -19.52873,
          2.3210838,
          2.8576427,
          -19.528751,
          2.500747,
          2.3007302,
          -19.528376,
          2.2169127,
          -20.09109,
          2.0872824,
          -19.249397,
          2.3006878,
          -19.528378,
          -19.528406,
          -20.085747,
          -19.515396,
          4.8409047,
          -20.089357,
          -20.09509,
          -19.981985,
          4.8926554,
          -19.98825,
          4.915734,
          -20.101469,
          -20.101463,
          -20.101473,
          -22.262472,
          -22.262524,
          -22.262505,
          6.277923,
          -22.2625,
          -20.323725,
          -22.273085,
          -22.272955,
          -20.324492,
          -22.272968,
          5.9516845,
          -20.322027,
          -22.155437,
          -20.321987,
          -20.322027,
          -20.319815,
          -20.327927,
          -22.032978,
          -12.28179,
          -21.97124,
          7.3692245,
          -22.15544,
          -21.970985,
          -12.28187,
          -12.281612,
          -12.099259,
          -12.281692,
          -12.28187,
          -12.281692,
          7.408633,
          -12.387759,
          7.401787,
          7.401787,
          -12.388209,
          -11.88413,
          -12.388209,
          7.401794,
          7.4238744,
          -12.347165,
          -11.867578,
          -11.867662,
          7.3999953,
          -11.50364,
          -11.50364,
          -11.551737,
          7.454646,
          -11.551744,
          -11.632732,
          -11.632967,
          -11.632732,
          -11.632608,
          -12.392343,
          -11.551737,
          -11.55175,
          -11.632461,
          -11.632461,
          -11.632461,
          -20.315302,
          -11.673341,
          -19.929039,
          -11.948216,
          -19.821388,
          -12.391598,
          -12.431329,
          -21.625555,
          -21.59197,
          -19.763,
          -19.785196,
          -19.785181,
          -21.626144,
          -21.514345,
          -20.317139,
          -19.7852,
          -21.62614,
          -21.62614,
          -21.514341,
          -19.690994,
          -19.690994,
          -19.69099,
          -13.193014,
          -21.514349,
          -21.65799,
          -19.735374,
          -19.735374,
          -13.138862,
          -19.785177,
          -14.865588,
          -12.9012575,
          -20.318762,
          -12.38996,
          -12.901356,
          -14.865586,
          -14.865679,
          -14.865672,
          -14.865635,
          -20.307165,
          -12.901354,
          -14.971396,
          -16.00884,
          -14.971396,
          -19.690987,
          -21.514347,
          -14.971396,
          -16.00879,
          -19.568523,
          -19.568525,
          -19.612673,
          -19.612673,
          -19.612673,
          -19.567034,
          -19.612673,
          -21.429853,
          7.4842896,
          -15.147852,
          -15.147852,
          -15.0277195,
          -15.028705,
          -15.028705,
          -15.028705,
          -15.027592,
          -13.444898,
          -19.647789,
          -12.438006,
          -15.027592,
          -15.027592,
          -13.477065,
          7.5371413,
          -16.005539,
          -14.973486,
          -14.97349,
          -13.476923,
          -14.016094,
          -14.024843,
          -14.024843,
          -14.016048,
          -14.213514,
          -14.214416,
          -14.212567,
          -14.207903,
          -13.697209,
          -13.721963,
          -11.817211,
          -12.569915,
          8.250524,
          -11.825334,
          7.9684134,
          -12.610811,
          -11.809967,
          -13.376443,
          -12.576642,
          -11.83718,
          -11.83718,
          -12.691202,
          -12.691212,
          -12.691212,
          -12.691155,
          -12.691263,
          -12.8015995,
          -12.551646,
          -12.500965,
          -11.799845,
          -12.018771,
          -11.679852,
          -12.624369,
          -12.019645,
          -11.89606,
          -11.840563,
          -11.533384,
          -11.842973,
          7.591769,
          -12.42884,
          -12.3056135,
          -11.992301,
          6.7798953,
          5.927809,
          5.28955,
          -9.835125,
          -9.088623,
          -8.075663,
          -7.853037,
          -7.8380003
         ]
        }
       ],
       "layout": {
        "coloraxis": {
         "colorbar": {
          "title": {
           "text": "Anomaly"
          }
         },
         "colorscale": [
          [
           0,
           "#0d0887"
          ],
          [
           0.1111111111111111,
           "#46039f"
          ],
          [
           0.2222222222222222,
           "#7201a8"
          ],
          [
           0.3333333333333333,
           "#9c179e"
          ],
          [
           0.4444444444444444,
           "#bd3786"
          ],
          [
           0.5555555555555556,
           "#d8576b"
          ],
          [
           0.6666666666666666,
           "#ed7953"
          ],
          [
           0.7777777777777778,
           "#fb9f3a"
          ],
          [
           0.8888888888888888,
           "#fdca26"
          ],
          [
           1,
           "#f0f921"
          ]
         ]
        },
        "height": 800,
        "legend": {
         "tracegroupgap": 0
        },
        "scene": {
         "domain": {
          "x": [
           0,
           1
          ],
          "y": [
           0,
           1
          ]
         },
         "xaxis": {
          "title": {
           "text": "0"
          }
         },
         "yaxis": {
          "title": {
           "text": "1"
          }
         },
         "zaxis": {
          "title": {
           "text": "2"
          }
         }
        },
        "template": {
         "data": {
          "bar": [
           {
            "error_x": {
             "color": "#2a3f5f"
            },
            "error_y": {
             "color": "#2a3f5f"
            },
            "marker": {
             "line": {
              "color": "#E5ECF6",
              "width": 0.5
             },
             "pattern": {
              "fillmode": "overlay",
              "size": 10,
              "solidity": 0.2
             }
            },
            "type": "bar"
           }
          ],
          "barpolar": [
           {
            "marker": {
             "line": {
              "color": "#E5ECF6",
              "width": 0.5
             },
             "pattern": {
              "fillmode": "overlay",
              "size": 10,
              "solidity": 0.2
             }
            },
            "type": "barpolar"
           }
          ],
          "carpet": [
           {
            "aaxis": {
             "endlinecolor": "#2a3f5f",
             "gridcolor": "white",
             "linecolor": "white",
             "minorgridcolor": "white",
             "startlinecolor": "#2a3f5f"
            },
            "baxis": {
             "endlinecolor": "#2a3f5f",
             "gridcolor": "white",
             "linecolor": "white",
             "minorgridcolor": "white",
             "startlinecolor": "#2a3f5f"
            },
            "type": "carpet"
           }
          ],
          "choropleth": [
           {
            "colorbar": {
             "outlinewidth": 0,
             "ticks": ""
            },
            "type": "choropleth"
           }
          ],
          "contour": [
           {
            "colorbar": {
             "outlinewidth": 0,
             "ticks": ""
            },
            "colorscale": [
             [
              0,
              "#0d0887"
             ],
             [
              0.1111111111111111,
              "#46039f"
             ],
             [
              0.2222222222222222,
              "#7201a8"
             ],
             [
              0.3333333333333333,
              "#9c179e"
             ],
             [
              0.4444444444444444,
              "#bd3786"
             ],
             [
              0.5555555555555556,
              "#d8576b"
             ],
             [
              0.6666666666666666,
              "#ed7953"
             ],
             [
              0.7777777777777778,
              "#fb9f3a"
             ],
             [
              0.8888888888888888,
              "#fdca26"
             ],
             [
              1,
              "#f0f921"
             ]
            ],
            "type": "contour"
           }
          ],
          "contourcarpet": [
           {
            "colorbar": {
             "outlinewidth": 0,
             "ticks": ""
            },
            "type": "contourcarpet"
           }
          ],
          "heatmap": [
           {
            "colorbar": {
             "outlinewidth": 0,
             "ticks": ""
            },
            "colorscale": [
             [
              0,
              "#0d0887"
             ],
             [
              0.1111111111111111,
              "#46039f"
             ],
             [
              0.2222222222222222,
              "#7201a8"
             ],
             [
              0.3333333333333333,
              "#9c179e"
             ],
             [
              0.4444444444444444,
              "#bd3786"
             ],
             [
              0.5555555555555556,
              "#d8576b"
             ],
             [
              0.6666666666666666,
              "#ed7953"
             ],
             [
              0.7777777777777778,
              "#fb9f3a"
             ],
             [
              0.8888888888888888,
              "#fdca26"
             ],
             [
              1,
              "#f0f921"
             ]
            ],
            "type": "heatmap"
           }
          ],
          "heatmapgl": [
           {
            "colorbar": {
             "outlinewidth": 0,
             "ticks": ""
            },
            "colorscale": [
             [
              0,
              "#0d0887"
             ],
             [
              0.1111111111111111,
              "#46039f"
             ],
             [
              0.2222222222222222,
              "#7201a8"
             ],
             [
              0.3333333333333333,
              "#9c179e"
             ],
             [
              0.4444444444444444,
              "#bd3786"
             ],
             [
              0.5555555555555556,
              "#d8576b"
             ],
             [
              0.6666666666666666,
              "#ed7953"
             ],
             [
              0.7777777777777778,
              "#fb9f3a"
             ],
             [
              0.8888888888888888,
              "#fdca26"
             ],
             [
              1,
              "#f0f921"
             ]
            ],
            "type": "heatmapgl"
           }
          ],
          "histogram": [
           {
            "marker": {
             "pattern": {
              "fillmode": "overlay",
              "size": 10,
              "solidity": 0.2
             }
            },
            "type": "histogram"
           }
          ],
          "histogram2d": [
           {
            "colorbar": {
             "outlinewidth": 0,
             "ticks": ""
            },
            "colorscale": [
             [
              0,
              "#0d0887"
             ],
             [
              0.1111111111111111,
              "#46039f"
             ],
             [
              0.2222222222222222,
              "#7201a8"
             ],
             [
              0.3333333333333333,
              "#9c179e"
             ],
             [
              0.4444444444444444,
              "#bd3786"
             ],
             [
              0.5555555555555556,
              "#d8576b"
             ],
             [
              0.6666666666666666,
              "#ed7953"
             ],
             [
              0.7777777777777778,
              "#fb9f3a"
             ],
             [
              0.8888888888888888,
              "#fdca26"
             ],
             [
              1,
              "#f0f921"
             ]
            ],
            "type": "histogram2d"
           }
          ],
          "histogram2dcontour": [
           {
            "colorbar": {
             "outlinewidth": 0,
             "ticks": ""
            },
            "colorscale": [
             [
              0,
              "#0d0887"
             ],
             [
              0.1111111111111111,
              "#46039f"
             ],
             [
              0.2222222222222222,
              "#7201a8"
             ],
             [
              0.3333333333333333,
              "#9c179e"
             ],
             [
              0.4444444444444444,
              "#bd3786"
             ],
             [
              0.5555555555555556,
              "#d8576b"
             ],
             [
              0.6666666666666666,
              "#ed7953"
             ],
             [
              0.7777777777777778,
              "#fb9f3a"
             ],
             [
              0.8888888888888888,
              "#fdca26"
             ],
             [
              1,
              "#f0f921"
             ]
            ],
            "type": "histogram2dcontour"
           }
          ],
          "mesh3d": [
           {
            "colorbar": {
             "outlinewidth": 0,
             "ticks": ""
            },
            "type": "mesh3d"
           }
          ],
          "parcoords": [
           {
            "line": {
             "colorbar": {
              "outlinewidth": 0,
              "ticks": ""
             }
            },
            "type": "parcoords"
           }
          ],
          "pie": [
           {
            "automargin": true,
            "type": "pie"
           }
          ],
          "scatter": [
           {
            "marker": {
             "colorbar": {
              "outlinewidth": 0,
              "ticks": ""
             }
            },
            "type": "scatter"
           }
          ],
          "scatter3d": [
           {
            "line": {
             "colorbar": {
              "outlinewidth": 0,
              "ticks": ""
             }
            },
            "marker": {
             "colorbar": {
              "outlinewidth": 0,
              "ticks": ""
             }
            },
            "type": "scatter3d"
           }
          ],
          "scattercarpet": [
           {
            "marker": {
             "colorbar": {
              "outlinewidth": 0,
              "ticks": ""
             }
            },
            "type": "scattercarpet"
           }
          ],
          "scattergeo": [
           {
            "marker": {
             "colorbar": {
              "outlinewidth": 0,
              "ticks": ""
             }
            },
            "type": "scattergeo"
           }
          ],
          "scattergl": [
           {
            "marker": {
             "colorbar": {
              "outlinewidth": 0,
              "ticks": ""
             }
            },
            "type": "scattergl"
           }
          ],
          "scattermapbox": [
           {
            "marker": {
             "colorbar": {
              "outlinewidth": 0,
              "ticks": ""
             }
            },
            "type": "scattermapbox"
           }
          ],
          "scatterpolar": [
           {
            "marker": {
             "colorbar": {
              "outlinewidth": 0,
              "ticks": ""
             }
            },
            "type": "scatterpolar"
           }
          ],
          "scatterpolargl": [
           {
            "marker": {
             "colorbar": {
              "outlinewidth": 0,
              "ticks": ""
             }
            },
            "type": "scatterpolargl"
           }
          ],
          "scatterternary": [
           {
            "marker": {
             "colorbar": {
              "outlinewidth": 0,
              "ticks": ""
             }
            },
            "type": "scatterternary"
           }
          ],
          "surface": [
           {
            "colorbar": {
             "outlinewidth": 0,
             "ticks": ""
            },
            "colorscale": [
             [
              0,
              "#0d0887"
             ],
             [
              0.1111111111111111,
              "#46039f"
             ],
             [
              0.2222222222222222,
              "#7201a8"
             ],
             [
              0.3333333333333333,
              "#9c179e"
             ],
             [
              0.4444444444444444,
              "#bd3786"
             ],
             [
              0.5555555555555556,
              "#d8576b"
             ],
             [
              0.6666666666666666,
              "#ed7953"
             ],
             [
              0.7777777777777778,
              "#fb9f3a"
             ],
             [
              0.8888888888888888,
              "#fdca26"
             ],
             [
              1,
              "#f0f921"
             ]
            ],
            "type": "surface"
           }
          ],
          "table": [
           {
            "cells": {
             "fill": {
              "color": "#EBF0F8"
             },
             "line": {
              "color": "white"
             }
            },
            "header": {
             "fill": {
              "color": "#C8D4E3"
             },
             "line": {
              "color": "white"
             }
            },
            "type": "table"
           }
          ]
         },
         "layout": {
          "annotationdefaults": {
           "arrowcolor": "#2a3f5f",
           "arrowhead": 0,
           "arrowwidth": 1
          },
          "autotypenumbers": "strict",
          "coloraxis": {
           "colorbar": {
            "outlinewidth": 0,
            "ticks": ""
           }
          },
          "colorscale": {
           "diverging": [
            [
             0,
             "#8e0152"
            ],
            [
             0.1,
             "#c51b7d"
            ],
            [
             0.2,
             "#de77ae"
            ],
            [
             0.3,
             "#f1b6da"
            ],
            [
             0.4,
             "#fde0ef"
            ],
            [
             0.5,
             "#f7f7f7"
            ],
            [
             0.6,
             "#e6f5d0"
            ],
            [
             0.7,
             "#b8e186"
            ],
            [
             0.8,
             "#7fbc41"
            ],
            [
             0.9,
             "#4d9221"
            ],
            [
             1,
             "#276419"
            ]
           ],
           "sequential": [
            [
             0,
             "#0d0887"
            ],
            [
             0.1111111111111111,
             "#46039f"
            ],
            [
             0.2222222222222222,
             "#7201a8"
            ],
            [
             0.3333333333333333,
             "#9c179e"
            ],
            [
             0.4444444444444444,
             "#bd3786"
            ],
            [
             0.5555555555555556,
             "#d8576b"
            ],
            [
             0.6666666666666666,
             "#ed7953"
            ],
            [
             0.7777777777777778,
             "#fb9f3a"
            ],
            [
             0.8888888888888888,
             "#fdca26"
            ],
            [
             1,
             "#f0f921"
            ]
           ],
           "sequentialminus": [
            [
             0,
             "#0d0887"
            ],
            [
             0.1111111111111111,
             "#46039f"
            ],
            [
             0.2222222222222222,
             "#7201a8"
            ],
            [
             0.3333333333333333,
             "#9c179e"
            ],
            [
             0.4444444444444444,
             "#bd3786"
            ],
            [
             0.5555555555555556,
             "#d8576b"
            ],
            [
             0.6666666666666666,
             "#ed7953"
            ],
            [
             0.7777777777777778,
             "#fb9f3a"
            ],
            [
             0.8888888888888888,
             "#fdca26"
            ],
            [
             1,
             "#f0f921"
            ]
           ]
          },
          "colorway": [
           "#636efa",
           "#EF553B",
           "#00cc96",
           "#ab63fa",
           "#FFA15A",
           "#19d3f3",
           "#FF6692",
           "#B6E880",
           "#FF97FF",
           "#FECB52"
          ],
          "font": {
           "color": "#2a3f5f"
          },
          "geo": {
           "bgcolor": "white",
           "lakecolor": "white",
           "landcolor": "#E5ECF6",
           "showlakes": true,
           "showland": true,
           "subunitcolor": "white"
          },
          "hoverlabel": {
           "align": "left"
          },
          "hovermode": "closest",
          "mapbox": {
           "style": "light"
          },
          "paper_bgcolor": "white",
          "plot_bgcolor": "#E5ECF6",
          "polar": {
           "angularaxis": {
            "gridcolor": "white",
            "linecolor": "white",
            "ticks": ""
           },
           "bgcolor": "#E5ECF6",
           "radialaxis": {
            "gridcolor": "white",
            "linecolor": "white",
            "ticks": ""
           }
          },
          "scene": {
           "xaxis": {
            "backgroundcolor": "#E5ECF6",
            "gridcolor": "white",
            "gridwidth": 2,
            "linecolor": "white",
            "showbackground": true,
            "ticks": "",
            "zerolinecolor": "white"
           },
           "yaxis": {
            "backgroundcolor": "#E5ECF6",
            "gridcolor": "white",
            "gridwidth": 2,
            "linecolor": "white",
            "showbackground": true,
            "ticks": "",
            "zerolinecolor": "white"
           },
           "zaxis": {
            "backgroundcolor": "#E5ECF6",
            "gridcolor": "white",
            "gridwidth": 2,
            "linecolor": "white",
            "showbackground": true,
            "ticks": "",
            "zerolinecolor": "white"
           }
          },
          "shapedefaults": {
           "line": {
            "color": "#2a3f5f"
           }
          },
          "ternary": {
           "aaxis": {
            "gridcolor": "white",
            "linecolor": "white",
            "ticks": ""
           },
           "baxis": {
            "gridcolor": "white",
            "linecolor": "white",
            "ticks": ""
           },
           "bgcolor": "#E5ECF6",
           "caxis": {
            "gridcolor": "white",
            "linecolor": "white",
            "ticks": ""
           }
          },
          "title": {
           "x": 0.05
          },
          "xaxis": {
           "automargin": true,
           "gridcolor": "white",
           "linecolor": "white",
           "ticks": "",
           "title": {
            "standoff": 15
           },
           "zerolinecolor": "white",
           "zerolinewidth": 2
          },
          "yaxis": {
           "automargin": true,
           "gridcolor": "white",
           "linecolor": "white",
           "ticks": "",
           "title": {
            "standoff": 15
           },
           "zerolinecolor": "white",
           "zerolinewidth": 2
          }
         }
        },
        "title": {
         "text": "3d TSNE Plot for Outliers"
        },
        "width": 900
       }
      },
      "text/html": [
       "<div>                            <div id=\"2489c5c3-e956-414c-b9a8-3f9707c42c83\" class=\"plotly-graph-div\" style=\"height:800px; width:900px;\"></div>            <script type=\"text/javascript\">                require([\"plotly\"], function(Plotly) {                    window.PLOTLYENV=window.PLOTLYENV || {};                                    if (document.getElementById(\"2489c5c3-e956-414c-b9a8-3f9707c42c83\")) {                    Plotly.newPlot(                        \"2489c5c3-e956-414c-b9a8-3f9707c42c83\",                        [{\"customdata\":[[\"2022-01-28 14:11:19\"],[\"2022-01-28 14:16:19\"],[\"2022-01-28 14:21:20\"],[\"2022-01-28 14:26:20\"],[\"2022-01-28 14:31:20\"],[\"2022-01-28 14:36:21\"],[\"2022-01-28 14:41:21\"],[\"2022-01-28 14:46:22\"],[\"2022-01-28 14:51:22\"],[\"2022-01-28 14:56:23\"],[\"2022-01-28 15:01:23\"],[\"2022-01-28 15:06:24\"],[\"2022-01-28 15:11:24\"],[\"2022-01-28 15:16:24\"],[\"2022-01-28 15:21:24\"],[\"2022-01-28 15:26:25\"],[\"2022-01-28 15:31:25\"],[\"2022-01-28 15:36:26\"],[\"2022-01-28 15:41:26\"],[\"2022-01-28 15:46:26\"],[\"2022-01-28 15:51:27\"],[\"2022-01-28 15:56:28\"],[\"2022-01-28 16:01:28\"],[\"2022-01-28 16:06:29\"],[\"2022-01-28 16:11:29\"],[\"2022-01-28 16:16:29\"],[\"2022-01-28 16:21:29\"],[\"2022-01-28 16:26:29\"],[\"2022-01-28 16:31:29\"],[\"2022-01-28 16:36:29\"],[\"2022-01-28 16:41:29\"],[\"2022-01-28 16:46:30\"],[\"2022-01-28 16:51:30\"],[\"2022-01-28 16:56:31\"],[\"2022-01-28 17:01:31\"],[\"2022-01-28 17:06:32\"],[\"2022-01-28 17:11:32\"],[\"2022-01-28 17:16:32\"],[\"2022-01-28 17:21:32\"],[\"2022-01-28 17:26:33\"],[\"2022-01-28 17:31:33\"],[\"2022-01-28 17:36:34\"],[\"2022-01-28 17:41:33\"],[\"2022-01-28 17:46:34\"],[\"2022-01-28 17:51:34\"],[\"2022-01-28 17:56:34\"],[\"2022-01-28 18:01:35\"],[\"2022-01-28 18:06:35\"],[\"2022-01-28 18:11:35\"],[\"2022-01-28 18:16:35\"],[\"2022-01-28 18:21:36\"],[\"2022-01-28 18:26:36\"],[\"2022-01-28 18:31:36\"],[\"2022-01-28 18:36:36\"],[\"2022-01-28 18:41:37\"],[\"2022-01-28 18:46:37\"],[\"2022-01-28 18:51:38\"],[\"2022-01-28 18:56:38\"],[\"2022-01-28 19:01:38\"],[\"2022-01-28 19:06:39\"],[\"2022-01-28 19:11:39\"],[\"2022-01-28 19:16:40\"],[\"2022-01-28 19:21:40\"],[\"2022-01-28 19:26:41\"],[\"2022-01-28 19:31:40\"],[\"2022-01-28 19:36:41\"],[\"2022-01-28 19:41:42\"],[\"2022-01-28 19:46:42\"],[\"2022-01-28 19:51:43\"],[\"2022-01-28 19:56:43\"],[\"2022-01-28 20:01:43\"],[\"2022-01-28 20:06:43\"],[\"2022-01-28 20:11:44\"],[\"2022-01-28 20:16:44\"],[\"2022-01-28 20:21:45\"],[\"2022-01-28 20:26:45\"],[\"2022-01-28 20:31:45\"],[\"2022-01-28 20:36:45\"],[\"2022-01-28 20:41:45\"],[\"2022-01-28 20:46:46\"],[\"2022-01-28 20:51:46\"],[\"2022-01-28 20:56:46\"],[\"2022-01-28 21:01:46\"],[\"2022-01-28 21:06:46\"],[\"2022-01-28 21:11:47\"],[\"2022-01-28 21:16:47\"],[\"2022-01-28 21:21:47\"],[\"2022-01-28 21:26:48\"],[\"2022-01-28 21:31:48\"],[\"2022-01-28 21:36:49\"],[\"2022-01-28 21:41:49\"],[\"2022-01-28 21:46:49\"],[\"2022-01-28 21:51:49\"],[\"2022-01-28 21:56:50\"],[\"2022-01-28 22:01:50\"],[\"2022-01-28 22:06:50\"],[\"2022-01-28 22:11:50\"],[\"2022-01-28 22:16:51\"],[\"2022-01-28 22:21:51\"],[\"2022-01-28 22:26:52\"],[\"2022-01-28 22:31:51\"],[\"2022-01-28 22:36:52\"],[\"2022-01-28 22:41:52\"],[\"2022-01-28 22:46:53\"],[\"2022-01-28 22:51:53\"],[\"2022-01-28 22:56:53\"],[\"2022-01-28 23:01:53\"],[\"2022-01-28 23:06:54\"],[\"2022-01-28 23:11:55\"],[\"2022-01-28 23:16:54\"],[\"2022-01-28 23:21:55\"],[\"2022-01-28 23:26:55\"],[\"2022-01-28 23:31:56\"],[\"2022-01-28 23:36:56\"],[\"2022-01-28 23:41:56\"],[\"2022-01-28 23:46:56\"],[\"2022-01-28 23:51:57\"],[\"2022-01-28 23:56:57\"],[\"2022-01-29 00:01:58\"],[\"2022-01-29 00:06:58\"],[\"2022-01-29 00:11:59\"],[\"2022-01-29 00:16:59\"],[\"2022-01-29 00:22:00\"],[\"2022-01-29 00:27:00\"],[\"2022-01-29 00:32:01\"],[\"2022-01-29 00:37:01\"],[\"2022-01-29 00:42:02\"],[\"2022-01-29 00:47:03\"],[\"2022-01-29 00:52:03\"],[\"2022-01-29 00:57:03\"],[\"2022-01-29 01:02:04\"],[\"2022-01-29 01:07:03\"],[\"2022-01-29 01:12:04\"],[\"2022-01-29 01:17:04\"],[\"2022-01-29 01:22:05\"],[\"2022-01-29 01:27:05\"],[\"2022-01-29 01:32:06\"],[\"2022-01-29 01:37:06\"],[\"2022-01-29 01:42:07\"],[\"2022-01-29 01:47:07\"],[\"2022-01-29 01:52:07\"],[\"2022-01-29 01:57:07\"],[\"2022-01-29 02:02:08\"],[\"2022-01-29 02:07:08\"],[\"2022-01-29 02:12:09\"],[\"2022-01-29 02:17:09\"],[\"2022-01-29 02:22:10\"],[\"2022-01-29 02:27:10\"],[\"2022-01-29 02:32:10\"],[\"2022-01-29 02:37:11\"],[\"2022-01-29 02:42:11\"],[\"2022-01-29 02:47:11\"],[\"2022-01-29 02:52:11\"],[\"2022-01-29 02:57:12\"],[\"2022-01-29 03:02:12\"],[\"2022-01-29 03:07:12\"],[\"2022-01-29 03:12:13\"],[\"2022-01-29 03:17:13\"],[\"2022-01-29 03:22:13\"],[\"2022-01-29 03:27:13\"],[\"2022-01-29 03:32:14\"],[\"2022-01-29 03:37:14\"],[\"2022-01-29 03:42:15\"],[\"2022-01-29 03:47:15\"],[\"2022-01-29 03:52:16\"],[\"2022-01-29 03:57:16\"],[\"2022-01-29 04:02:16\"],[\"2022-01-29 04:07:17\"],[\"2022-01-29 04:12:17\"],[\"2022-01-29 04:17:18\"],[\"2022-01-29 04:22:18\"],[\"2022-01-29 04:27:18\"],[\"2022-01-29 04:32:19\"],[\"2022-01-29 04:37:19\"],[\"2022-01-29 04:42:19\"],[\"2022-01-29 04:47:20\"],[\"2022-01-29 04:52:20\"],[\"2022-01-29 04:57:21\"],[\"2022-01-29 05:02:21\"],[\"2022-01-29 05:07:21\"],[\"2022-01-29 05:12:22\"],[\"2022-01-29 05:17:22\"],[\"2022-01-29 05:22:22\"],[\"2022-01-29 05:27:22\"],[\"2022-01-29 05:32:23\"],[\"2022-01-29 05:37:23\"],[\"2022-01-29 05:42:24\"],[\"2022-01-29 05:47:24\"],[\"2022-01-29 05:52:24\"],[\"2022-01-29 05:57:25\"],[\"2022-01-29 06:02:25\"],[\"2022-01-29 06:07:25\"],[\"2022-01-29 06:12:25\"],[\"2022-01-29 06:17:26\"],[\"2022-01-29 06:22:26\"],[\"2022-01-29 06:27:27\"],[\"2022-01-29 06:32:27\"],[\"2022-01-29 06:37:28\"],[\"2022-01-29 06:42:28\"],[\"2022-01-29 06:47:28\"],[\"2022-01-29 06:52:28\"],[\"2022-01-29 06:57:29\"],[\"2022-01-29 07:02:30\"],[\"2022-01-29 07:07:30\"],[\"2022-01-29 07:12:31\"],[\"2022-01-29 07:17:32\"],[\"2022-01-29 07:22:32\"],[\"2022-01-29 07:27:32\"],[\"2022-01-29 07:32:33\"],[\"2022-01-29 07:37:33\"],[\"2022-01-29 07:42:34\"],[\"2022-01-29 07:47:34\"],[\"2022-01-29 07:52:34\"],[\"2022-01-29 07:57:34\"],[\"2022-01-29 08:02:35\"],[\"2022-01-29 08:07:35\"],[\"2022-01-29 08:12:35\"],[\"2022-01-29 08:17:35\"],[\"2022-01-29 08:22:36\"],[\"2022-01-29 08:27:37\"],[\"2022-01-29 08:32:37\"],[\"2022-01-29 08:37:37\"],[\"2022-01-29 08:42:37\"],[\"2022-01-29 08:47:37\"],[\"2022-01-29 08:52:37\"],[\"2022-01-29 08:57:37\"],[\"2022-01-29 09:02:38\"],[\"2022-01-29 09:07:38\"],[\"2022-01-29 09:12:39\"],[\"2022-01-29 09:17:39\"],[\"2022-01-29 09:22:40\"],[\"2022-01-29 09:27:40\"],[\"2022-01-29 09:32:41\"],[\"2022-01-29 09:37:41\"],[\"2022-01-29 09:42:42\"],[\"2022-01-29 09:47:42\"],[\"2022-01-29 09:52:42\"],[\"2022-01-29 09:57:42\"],[\"2022-01-29 10:02:42\"],[\"2022-01-29 10:07:43\"],[\"2022-01-29 10:12:43\"],[\"2022-01-29 10:17:43\"],[\"2022-01-29 10:22:44\"],[\"2022-01-29 10:27:44\"],[\"2022-01-29 10:32:45\"],[\"2022-01-29 10:37:46\"],[\"2022-01-29 10:42:46\"],[\"2022-01-29 10:47:46\"],[\"2022-01-29 10:52:46\"],[\"2022-01-29 10:57:47\"],[\"2022-01-29 11:02:47\"],[\"2022-01-29 11:07:46\"],[\"2022-01-29 11:12:47\"],[\"2022-01-29 11:17:47\"],[\"2022-01-29 11:22:48\"],[\"2022-01-29 11:27:48\"],[\"2022-01-29 11:32:49\"],[\"2022-01-29 11:37:49\"],[\"2022-01-29 11:42:49\"],[\"2022-01-29 11:47:49\"],[\"2022-01-29 11:52:50\"],[\"2022-01-29 11:57:50\"],[\"2022-01-29 12:02:51\"],[\"2022-01-29 12:07:52\"],[\"2022-01-29 12:12:52\"],[\"2022-01-29 12:17:52\"],[\"2022-01-29 12:22:52\"],[\"2022-01-29 12:27:52\"],[\"2022-01-29 12:32:53\"],[\"2022-01-29 12:37:53\"],[\"2022-01-29 12:42:53\"],[\"2022-01-29 12:47:54\"],[\"2022-01-29 12:52:55\"],[\"2022-01-29 12:57:55\"],[\"2022-01-29 13:02:55\"],[\"2022-01-29 13:07:55\"],[\"2022-01-29 13:12:56\"],[\"2022-01-29 13:17:56\"],[\"2022-01-29 13:22:56\"],[\"2022-01-29 13:27:57\"],[\"2022-01-29 13:32:57\"],[\"2022-01-29 13:37:57\"],[\"2022-01-29 13:42:57\"],[\"2022-01-29 13:47:58\"],[\"2022-01-29 13:52:59\"],[\"2022-01-29 13:57:59\"],[\"2022-01-29 14:02:59\"],[\"2022-01-29 14:07:59\"],[\"2022-01-29 14:13:00\"],[\"2022-01-29 14:18:00\"],[\"2022-01-29 14:23:00\"],[\"2022-01-29 14:28:01\"],[\"2022-01-29 14:33:01\"],[\"2022-01-29 14:38:01\"],[\"2022-01-29 14:43:02\"],[\"2022-01-29 14:48:02\"],[\"2022-01-29 14:53:03\"],[\"2022-01-29 14:58:03\"],[\"2022-01-29 15:03:03\"],[\"2022-01-29 15:08:04\"],[\"2022-01-29 15:13:04\"],[\"2022-01-29 15:18:04\"],[\"2022-01-29 15:23:04\"],[\"2022-01-29 15:28:04\"],[\"2022-01-29 15:33:05\"],[\"2022-01-29 15:38:06\"],[\"2022-01-29 15:43:06\"],[\"2022-01-29 15:48:06\"],[\"2022-01-29 15:53:07\"],[\"2022-01-29 15:58:06\"],[\"2022-01-29 16:03:07\"],[\"2022-01-29 16:08:08\"],[\"2022-01-29 16:13:08\"],[\"2022-01-29 16:18:08\"],[\"2022-01-29 16:23:08\"],[\"2022-01-29 16:28:09\"],[\"2022-01-29 16:33:09\"],[\"2022-01-29 16:38:09\"],[\"2022-01-29 16:43:10\"],[\"2022-01-29 16:48:10\"],[\"2022-01-29 16:53:11\"],[\"2022-01-29 16:58:11\"],[\"2022-01-29 17:03:11\"],[\"2022-01-29 17:08:12\"],[\"2022-01-29 17:13:12\"],[\"2022-01-29 17:18:12\"],[\"2022-01-29 17:23:13\"],[\"2022-01-29 17:28:13\"],[\"2022-01-29 17:33:13\"],[\"2022-01-29 17:38:13\"],[\"2022-01-29 17:43:14\"],[\"2022-01-29 17:48:14\"],[\"2022-01-29 17:53:14\"],[\"2022-01-29 17:58:14\"],[\"2022-01-29 18:03:15\"],[\"2022-01-29 18:08:15\"],[\"2022-01-29 18:13:16\"],[\"2022-01-29 18:18:16\"],[\"2022-01-29 18:23:16\"],[\"2022-01-29 18:28:16\"],[\"2022-01-29 18:33:17\"],[\"2022-01-29 18:38:17\"],[\"2022-01-29 18:43:17\"],[\"2022-01-29 18:48:18\"],[\"2022-01-29 18:53:18\"],[\"2022-01-29 18:58:18\"],[\"2022-01-29 19:03:19\"],[\"2022-01-29 19:08:19\"],[\"2022-01-29 19:13:19\"],[\"2022-01-29 19:18:19\"],[\"2022-01-29 19:23:20\"],[\"2022-01-29 19:28:20\"],[\"2022-01-29 19:33:21\"],[\"2022-01-29 19:38:21\"],[\"2022-01-29 19:43:21\"],[\"2022-01-29 19:48:22\"],[\"2022-01-29 19:53:22\"],[\"2022-01-29 19:58:23\"],[\"2022-01-29 20:03:23\"],[\"2022-01-29 20:08:23\"],[\"2022-01-29 20:13:23\"],[\"2022-01-29 20:18:24\"],[\"2022-01-29 20:23:24\"],[\"2022-01-29 20:28:24\"],[\"2022-01-29 20:33:24\"],[\"2022-01-29 20:38:25\"],[\"2022-01-29 20:43:25\"],[\"2022-01-29 20:48:25\"],[\"2022-01-29 20:53:25\"],[\"2022-01-29 20:58:26\"],[\"2022-01-29 21:03:26\"],[\"2022-01-29 21:08:27\"],[\"2022-01-29 21:13:27\"],[\"2022-01-29 21:18:27\"],[\"2022-01-29 21:23:27\"],[\"2022-01-29 21:28:27\"],[\"2022-01-29 21:33:28\"],[\"2022-01-29 21:38:28\"],[\"2022-01-29 21:43:29\"],[\"2022-01-29 21:48:30\"],[\"2022-01-29 21:53:30\"],[\"2022-01-29 21:58:30\"],[\"2022-01-29 22:03:30\"],[\"2022-01-29 22:08:30\"],[\"2022-01-29 22:13:31\"],[\"2022-01-29 22:18:31\"],[\"2022-01-29 22:23:31\"],[\"2022-01-29 22:28:31\"],[\"2022-01-29 22:33:32\"],[\"2022-01-29 22:38:32\"],[\"2022-01-29 22:43:33\"],[\"2022-01-29 22:48:33\"],[\"2022-01-29 22:53:34\"],[\"2022-01-29 22:58:35\"],[\"2022-01-29 23:03:35\"],[\"2022-01-29 23:08:35\"],[\"2022-01-29 23:13:36\"],[\"2022-01-29 23:18:36\"],[\"2022-01-29 23:23:36\"],[\"2022-01-29 23:28:36\"],[\"2022-01-29 23:33:36\"],[\"2022-01-29 23:38:36\"],[\"2022-01-29 23:43:36\"],[\"2022-01-29 23:48:37\"],[\"2022-01-29 23:53:37\"],[\"2022-01-29 23:58:38\"],[\"2022-01-30 00:03:38\"],[\"2022-01-30 00:08:38\"],[\"2022-01-30 00:13:39\"],[\"2022-01-30 00:18:39\"],[\"2022-01-30 00:23:39\"],[\"2022-01-30 00:28:40\"],[\"2022-01-30 00:33:40\"],[\"2022-01-30 00:38:40\"],[\"2022-01-30 00:43:41\"],[\"2022-01-30 00:48:41\"],[\"2022-01-30 00:53:42\"],[\"2022-01-30 00:58:42\"],[\"2022-01-30 01:03:42\"],[\"2022-01-30 01:08:42\"],[\"2022-01-30 01:13:43\"],[\"2022-01-30 01:18:43\"],[\"2022-01-30 01:23:44\"],[\"2022-01-30 01:28:44\"],[\"2022-01-30 01:33:44\"],[\"2022-01-30 01:38:45\"],[\"2022-01-30 01:43:45\"],[\"2022-01-30 01:48:45\"],[\"2022-01-30 01:53:45\"],[\"2022-01-30 01:58:46\"],[\"2022-01-30 02:03:46\"],[\"2022-01-30 02:08:46\"],[\"2022-01-30 02:13:47\"],[\"2022-01-30 02:18:47\"],[\"2022-01-30 02:23:48\"],[\"2022-01-30 02:28:48\"],[\"2022-01-30 02:33:48\"],[\"2022-01-30 02:38:48\"],[\"2022-01-30 02:43:48\"],[\"2022-01-30 02:48:49\"],[\"2022-01-30 02:53:48\"],[\"2022-01-30 02:58:49\"],[\"2022-01-30 03:03:49\"],[\"2022-01-30 03:08:50\"],[\"2022-01-30 03:13:50\"],[\"2022-01-30 03:18:50\"],[\"2022-01-30 03:23:50\"],[\"2022-01-30 03:28:51\"],[\"2022-01-30 03:33:51\"],[\"2022-01-30 03:38:51\"],[\"2022-01-30 03:43:52\"],[\"2022-01-30 03:48:52\"],[\"2022-01-30 03:53:52\"],[\"2022-01-30 03:58:52\"],[\"2022-01-30 04:03:53\"],[\"2022-01-30 04:08:53\"],[\"2022-01-30 04:13:53\"],[\"2022-01-30 04:18:53\"],[\"2022-01-30 04:23:54\"],[\"2022-01-30 04:28:55\"],[\"2022-01-30 04:33:55\"],[\"2022-01-30 04:38:55\"],[\"2022-01-30 04:43:56\"],[\"2022-01-30 04:48:56\"],[\"2022-01-30 04:53:57\"],[\"2022-01-30 04:58:57\"],[\"2022-01-30 05:03:58\"],[\"2022-01-30 05:08:58\"],[\"2022-01-30 05:13:58\"],[\"2022-01-30 05:18:58\"],[\"2022-01-30 05:23:58\"],[\"2022-01-30 05:28:58\"],[\"2022-01-30 05:33:59\"],[\"2022-01-30 05:38:59\"],[\"2022-01-30 05:43:59\"],[\"2022-01-30 05:49:00\"],[\"2022-01-30 05:54:00\"],[\"2022-01-30 05:59:00\"],[\"2022-01-30 06:04:00\"],[\"2022-01-30 06:09:01\"],[\"2022-01-30 06:14:01\"],[\"2022-01-30 06:19:01\"],[\"2022-01-30 06:24:02\"],[\"2022-01-30 06:29:02\"],[\"2022-01-30 06:34:02\"],[\"2022-01-30 06:39:03\"],[\"2022-01-30 06:44:03\"],[\"2022-01-30 06:49:03\"],[\"2022-01-30 06:54:04\"],[\"2022-01-30 06:59:04\"],[\"2022-01-30 07:04:05\"],[\"2022-01-30 07:09:05\"],[\"2022-01-30 07:14:06\"],[\"2022-01-30 07:19:06\"],[\"2022-01-30 07:24:07\"],[\"2022-01-30 07:29:07\"],[\"2022-01-30 07:34:07\"],[\"2022-01-30 07:39:08\"],[\"2022-01-30 07:44:08\"],[\"2022-01-30 07:49:08\"],[\"2022-01-30 07:54:08\"],[\"2022-01-30 07:59:09\"],[\"2022-01-30 08:04:09\"],[\"2022-01-30 08:09:10\"],[\"2022-01-30 08:14:10\"],[\"2022-01-30 08:19:11\"],[\"2022-01-30 08:24:11\"],[\"2022-01-30 08:29:11\"],[\"2022-01-30 08:34:12\"],[\"2022-01-30 08:39:12\"],[\"2022-01-30 08:44:12\"],[\"2022-01-30 08:49:12\"],[\"2022-01-30 08:54:13\"],[\"2022-01-30 08:59:13\"],[\"2022-01-30 09:04:15\"],[\"2022-01-30 09:09:14\"],[\"2022-01-30 09:14:15\"],[\"2022-01-30 09:19:15\"],[\"2022-01-30 09:24:16\"],[\"2022-01-30 09:29:16\"],[\"2022-01-30 09:34:16\"],[\"2022-01-30 09:39:16\"],[\"2022-01-30 09:44:17\"],[\"2022-01-30 09:49:17\"],[\"2022-01-30 09:54:18\"],[\"2022-01-30 09:59:18\"],[\"2022-01-30 10:04:19\"],[\"2022-01-30 10:09:19\"],[\"2022-01-30 10:14:20\"],[\"2022-01-30 10:19:21\"],[\"2022-01-30 10:24:21\"],[\"2022-01-30 10:29:21\"],[\"2022-01-30 10:34:21\"],[\"2022-01-30 10:39:21\"],[\"2022-01-30 10:44:22\"],[\"2022-01-30 10:49:23\"],[\"2022-01-30 10:54:23\"],[\"2022-01-30 10:59:24\"],[\"2022-01-30 11:04:24\"],[\"2022-01-30 11:09:24\"],[\"2022-01-30 11:14:24\"],[\"2022-01-30 11:19:24\"],[\"2022-01-30 11:24:24\"],[\"2022-01-30 11:29:25\"],[\"2022-01-30 11:34:25\"],[\"2022-01-30 11:39:25\"],[\"2022-01-30 11:44:26\"],[\"2022-01-30 11:49:27\"],[\"2022-01-30 11:54:27\"],[\"2022-01-30 11:59:27\"],[\"2022-01-30 12:04:28\"],[\"2022-01-30 12:09:28\"],[\"2022-01-30 12:14:29\"],[\"2022-01-30 12:19:29\"],[\"2022-01-30 12:24:30\"],[\"2022-01-30 12:29:30\"],[\"2022-01-30 12:34:31\"],[\"2022-01-30 12:39:31\"],[\"2022-01-30 12:44:32\"],[\"2022-01-30 12:49:32\"],[\"2022-01-30 12:54:32\"],[\"2022-01-30 12:59:32\"],[\"2022-01-30 13:04:33\"],[\"2022-01-30 13:09:33\"],[\"2022-01-30 13:14:34\"],[\"2022-01-30 13:19:35\"],[\"2022-01-30 13:24:35\"],[\"2022-01-30 13:29:35\"],[\"2022-01-30 13:34:36\"],[\"2022-01-30 13:39:36\"],[\"2022-01-30 13:44:36\"],[\"2022-01-30 13:49:37\"],[\"2022-01-30 13:54:37\"],[\"2022-01-30 13:59:37\"],[\"2022-01-30 14:04:38\"],[\"2022-01-30 14:09:38\"],[\"2022-01-30 14:14:39\"],[\"2022-01-30 14:19:39\"],[\"2022-01-30 14:24:39\"],[\"2022-01-30 14:29:39\"],[\"2022-01-30 14:34:40\"],[\"2022-01-30 14:39:40\"],[\"2022-01-30 14:44:41\"],[\"2022-01-30 14:49:41\"],[\"2022-01-30 14:54:41\"],[\"2022-01-30 14:59:41\"],[\"2022-01-30 15:04:42\"],[\"2022-01-30 15:09:42\"],[\"2022-01-30 15:14:43\"],[\"2022-01-30 15:19:43\"],[\"2022-01-30 15:24:43\"],[\"2022-01-30 15:29:44\"],[\"2022-01-30 15:34:44\"],[\"2022-01-30 15:39:45\"],[\"2022-01-30 15:44:45\"],[\"2022-01-30 15:49:46\"],[\"2022-01-30 15:54:46\"],[\"2022-01-30 15:59:46\"],[\"2022-01-30 16:04:47\"],[\"2022-01-30 16:09:47\"],[\"2022-01-30 16:14:48\"],[\"2022-01-30 16:19:48\"],[\"2022-01-30 16:24:48\"],[\"2022-01-30 16:29:49\"],[\"2022-01-30 16:34:49\"],[\"2022-01-30 16:39:49\"],[\"2022-01-30 16:44:50\"],[\"2022-01-30 16:49:50\"],[\"2022-01-30 16:54:50\"],[\"2022-01-30 16:59:50\"],[\"2022-01-30 17:04:51\"],[\"2022-01-30 17:09:51\"],[\"2022-01-30 17:14:51\"],[\"2022-01-30 17:19:52\"],[\"2022-01-30 17:24:52\"],[\"2022-01-30 17:29:52\"],[\"2022-01-30 17:34:53\"],[\"2022-01-30 17:39:53\"],[\"2022-01-30 17:44:54\"],[\"2022-01-30 17:49:54\"],[\"2022-01-30 17:54:54\"],[\"2022-01-30 17:59:55\"],[\"2022-01-30 18:04:55\"],[\"2022-01-30 18:09:55\"],[\"2022-01-30 18:14:55\"],[\"2022-01-30 18:19:56\"],[\"2022-01-30 18:24:56\"],[\"2022-01-30 18:29:57\"],[\"2022-01-30 18:34:57\"],[\"2022-01-30 18:39:57\"],[\"2022-01-30 18:44:57\"],[\"2022-01-30 18:49:57\"],[\"2022-01-30 18:54:58\"],[\"2022-01-30 18:59:58\"],[\"2022-01-30 19:04:58\"],[\"2022-01-30 19:09:59\"],[\"2022-01-30 19:14:59\"],[\"2022-01-30 19:19:59\"],[\"2022-01-30 19:25:00\"],[\"2022-01-30 19:30:00\"],[\"2022-01-30 19:34:59\"],[\"2022-01-30 19:40:00\"],[\"2022-01-30 19:45:00\"],[\"2022-01-30 19:50:00\"],[\"2022-01-30 19:55:00\"],[\"2022-01-30 20:00:00\"],[\"2022-01-30 20:05:01\"],[\"2022-01-30 20:10:01\"],[\"2022-01-30 20:15:02\"],[\"2022-01-30 20:20:02\"],[\"2022-01-30 20:25:02\"],[\"2022-01-30 20:30:03\"],[\"2022-01-30 20:35:03\"],[\"2022-01-30 20:40:04\"],[\"2022-01-30 20:45:04\"],[\"2022-01-30 20:50:05\"],[\"2022-01-30 20:55:05\"],[\"2022-01-30 21:00:05\"],[\"2022-01-30 21:05:05\"],[\"2022-01-30 21:10:06\"],[\"2022-01-30 21:15:06\"],[\"2022-01-30 21:20:06\"],[\"2022-01-30 21:25:07\"],[\"2022-01-30 21:30:07\"],[\"2022-01-30 21:35:08\"],[\"2022-01-30 21:40:08\"],[\"2022-01-30 21:45:09\"],[\"2022-01-30 21:50:09\"],[\"2022-01-30 21:55:10\"],[\"2022-01-30 22:00:10\"],[\"2022-01-30 22:05:11\"],[\"2022-01-30 22:10:11\"],[\"2022-01-30 22:15:12\"],[\"2022-01-30 22:20:12\"],[\"2022-01-30 22:25:12\"],[\"2022-01-30 22:30:12\"],[\"2022-01-30 22:35:13\"],[\"2022-01-30 22:40:13\"],[\"2022-01-30 22:45:13\"],[\"2022-01-30 22:50:14\"],[\"2022-01-30 22:55:14\"],[\"2022-01-30 23:00:15\"],[\"2022-01-30 23:05:15\"],[\"2022-01-30 23:10:16\"],[\"2022-01-30 23:15:16\"],[\"2022-01-30 23:20:17\"],[\"2022-01-30 23:25:17\"],[\"2022-01-30 23:30:18\"],[\"2022-01-30 23:35:18\"],[\"2022-01-30 23:40:19\"],[\"2022-01-30 23:45:19\"],[\"2022-01-30 23:50:20\"],[\"2022-01-30 23:55:20\"],[\"2022-01-31 00:00:21\"],[\"2022-01-31 00:05:21\"],[\"2022-01-31 00:10:22\"],[\"2022-01-31 00:15:22\"],[\"2022-01-31 00:20:22\"],[\"2022-01-31 00:25:22\"],[\"2022-01-31 00:30:23\"],[\"2022-01-31 00:35:23\"],[\"2022-01-31 00:40:23\"],[\"2022-01-31 00:45:23\"],[\"2022-01-31 00:50:24\"],[\"2022-01-31 00:55:25\"],[\"2022-01-31 01:00:25\"],[\"2022-01-31 01:05:25\"],[\"2022-01-31 01:10:26\"],[\"2022-01-31 01:15:26\"],[\"2022-01-31 01:20:26\"],[\"2022-01-31 01:25:27\"],[\"2022-01-31 01:30:27\"],[\"2022-01-31 01:35:28\"],[\"2022-01-31 01:40:28\"],[\"2022-01-31 01:45:28\"],[\"2022-01-31 01:50:29\"],[\"2022-01-31 01:55:29\"],[\"2022-01-31 02:00:30\"],[\"2022-01-31 02:05:30\"],[\"2022-01-31 02:10:30\"],[\"2022-01-31 02:15:31\"],[\"2022-01-31 02:20:31\"],[\"2022-01-31 02:25:32\"],[\"2022-01-31 02:30:32\"],[\"2022-01-31 02:35:33\"],[\"2022-01-31 02:40:33\"],[\"2022-01-31 02:45:33\"],[\"2022-01-31 02:50:33\"],[\"2022-01-31 02:55:34\"],[\"2022-01-31 03:00:34\"],[\"2022-01-31 03:05:35\"],[\"2022-01-31 03:10:35\"],[\"2022-01-31 03:15:36\"],[\"2022-01-31 03:20:36\"],[\"2022-01-31 03:25:37\"],[\"2022-01-31 03:30:37\"],[\"2022-01-31 03:35:38\"],[\"2022-01-31 03:40:39\"],[\"2022-01-31 03:45:39\"],[\"2022-01-31 03:50:39\"],[\"2022-01-31 03:55:40\"],[\"2022-01-31 04:00:40\"],[\"2022-01-31 04:05:40\"],[\"2022-01-31 04:10:40\"],[\"2022-01-31 04:15:41\"],[\"2022-01-31 04:20:41\"],[\"2022-01-31 04:25:41\"],[\"2022-01-31 04:30:41\"],[\"2022-01-31 04:35:42\"],[\"2022-01-31 04:40:42\"],[\"2022-01-31 04:45:43\"],[\"2022-01-31 04:50:43\"],[\"2022-01-31 04:55:43\"],[\"2022-01-31 05:00:43\"],[\"2022-01-31 05:05:44\"],[\"2022-01-31 05:10:44\"],[\"2022-01-31 05:15:44\"],[\"2022-01-31 05:20:45\"],[\"2022-01-31 05:25:45\"],[\"2022-01-31 05:30:45\"],[\"2022-01-31 05:35:45\"],[\"2022-01-31 05:40:45\"],[\"2022-01-31 05:45:46\"],[\"2022-01-31 05:50:47\"],[\"2022-01-31 05:55:47\"],[\"2022-01-31 06:00:47\"],[\"2022-01-31 06:05:48\"],[\"2022-01-31 06:10:48\"],[\"2022-01-31 06:15:48\"],[\"2022-01-31 06:20:49\"],[\"2022-01-31 06:25:49\"],[\"2022-01-31 06:30:48\"],[\"2022-01-31 06:35:49\"],[\"2022-01-31 06:40:50\"],[\"2022-01-31 06:45:50\"],[\"2022-01-31 06:50:50\"],[\"2022-01-31 06:55:50\"],[\"2022-01-31 07:00:51\"],[\"2022-01-31 07:05:51\"],[\"2022-01-31 07:10:51\"],[\"2022-01-31 07:15:52\"],[\"2022-01-31 07:20:52\"],[\"2022-01-31 07:25:52\"],[\"2022-01-31 07:30:53\"],[\"2022-01-31 07:35:53\"],[\"2022-01-31 07:40:53\"],[\"2022-01-31 07:45:54\"],[\"2022-01-31 07:50:54\"],[\"2022-01-31 07:55:55\"],[\"2022-01-31 08:00:55\"],[\"2022-01-31 08:05:55\"],[\"2022-01-31 08:10:56\"],[\"2022-01-31 08:15:57\"],[\"2022-01-31 08:20:57\"],[\"2022-01-31 08:25:57\"],[\"2022-01-31 08:30:58\"],[\"2022-01-31 08:35:59\"],[\"2022-01-31 08:40:59\"],[\"2022-01-31 08:45:59\"],[\"2022-01-31 08:50:59\"],[\"2022-01-31 08:56:00\"],[\"2022-01-31 09:01:00\"],[\"2022-01-31 09:06:00\"],[\"2022-01-31 09:11:01\"],[\"2022-01-31 09:16:01\"],[\"2022-01-31 09:21:01\"],[\"2022-01-31 09:26:02\"],[\"2022-01-31 09:31:02\"],[\"2022-01-31 09:36:02\"],[\"2022-01-31 09:41:03\"],[\"2022-01-31 09:46:03\"],[\"2022-01-31 09:51:03\"],[\"2022-01-31 09:56:03\"],[\"2022-01-31 10:01:03\"],[\"2022-01-31 10:06:04\"],[\"2022-01-31 10:11:04\"],[\"2022-01-31 10:16:05\"],[\"2022-01-31 10:21:05\"],[\"2022-01-31 10:26:06\"],[\"2022-01-31 10:31:06\"],[\"2022-01-31 10:36:06\"],[\"2022-01-31 10:41:07\"],[\"2022-01-31 10:46:07\"],[\"2022-01-31 10:51:08\"],[\"2022-01-31 10:56:08\"],[\"2022-01-31 11:01:08\"],[\"2022-01-31 11:06:09\"],[\"2022-01-31 11:11:09\"],[\"2022-01-31 11:16:09\"],[\"2022-01-31 11:21:10\"],[\"2022-01-31 11:26:10\"],[\"2022-01-31 11:31:10\"],[\"2022-01-31 11:36:10\"],[\"2022-01-31 11:41:11\"],[\"2022-01-31 11:46:11\"],[\"2022-01-31 11:51:11\"],[\"2022-01-31 11:56:12\"],[\"2022-01-31 12:01:12\"],[\"2022-01-31 12:06:12\"],[\"2022-01-31 12:11:13\"],[\"2022-01-31 12:16:13\"],[\"2022-01-31 12:21:13\"],[\"2022-01-31 12:26:14\"],[\"2022-01-31 12:31:14\"],[\"2022-01-31 12:36:15\"],[\"2022-01-31 12:41:15\"],[\"2022-01-31 12:46:16\"],[\"2022-01-31 12:51:16\"],[\"2022-01-31 12:56:16\"],[\"2022-01-31 13:01:17\"],[\"2022-01-31 13:06:17\"],[\"2022-01-31 13:11:18\"],[\"2022-01-31 13:16:17\"],[\"2022-01-31 13:21:18\"],[\"2022-01-31 13:26:18\"],[\"2022-01-31 13:31:19\"],[\"2022-01-31 13:36:19\"],[\"2022-01-31 13:41:20\"],[\"2022-01-31 13:46:20\"],[\"2022-01-31 13:51:21\"],[\"2022-01-31 13:56:21\"],[\"2022-01-31 14:01:21\"],[\"2022-01-31 14:06:21\"],[\"2022-01-31 14:11:22\"],[\"2022-01-31 14:16:23\"],[\"2022-01-31 14:21:23\"],[\"2022-01-31 14:26:23\"],[\"2022-01-31 14:31:24\"],[\"2022-01-31 14:36:24\"],[\"2022-01-31 14:41:25\"],[\"2022-01-31 14:46:25\"],[\"2022-01-31 14:51:26\"],[\"2022-01-31 14:56:26\"],[\"2022-01-31 15:01:26\"],[\"2022-01-31 15:06:26\"],[\"2022-01-31 15:11:27\"],[\"2022-01-31 15:16:28\"],[\"2022-01-31 15:21:28\"],[\"2022-01-31 15:26:29\"],[\"2022-01-31 15:31:29\"],[\"2022-01-31 15:36:29\"],[\"2022-01-31 15:41:30\"],[\"2022-01-31 15:46:30\"],[\"2022-01-31 15:51:31\"],[\"2022-01-31 15:56:31\"],[\"2022-01-31 16:01:32\"],[\"2022-01-31 16:06:32\"],[\"2022-01-31 16:11:31\"],[\"2022-01-31 16:16:32\"],[\"2022-01-31 16:21:32\"],[\"2022-01-31 16:26:32\"],[\"2022-01-31 16:31:33\"],[\"2022-01-31 16:36:34\"],[\"2022-01-31 16:41:34\"],[\"2022-01-31 16:46:35\"],[\"2022-01-31 16:51:35\"],[\"2022-01-31 16:56:36\"],[\"2022-01-31 17:01:36\"],[\"2022-01-31 17:06:36\"],[\"2022-01-31 17:11:37\"],[\"2022-01-31 17:16:37\"],[\"2022-01-31 17:21:38\"],[\"2022-01-31 17:26:38\"],[\"2022-01-31 17:31:39\"],[\"2022-01-31 17:36:39\"],[\"2022-01-31 17:41:40\"],[\"2022-01-31 17:46:40\"],[\"2022-01-31 17:51:40\"],[\"2022-01-31 17:56:40\"],[\"2022-01-31 18:01:40\"],[\"2022-01-31 18:06:40\"],[\"2022-01-31 18:11:41\"],[\"2022-01-31 18:16:41\"],[\"2022-01-31 18:21:41\"],[\"2022-01-31 18:26:42\"],[\"2022-01-31 18:31:43\"],[\"2022-01-31 18:36:43\"],[\"2022-01-31 18:41:43\"],[\"2022-01-31 18:46:43\"],[\"2022-01-31 18:51:44\"],[\"2022-01-31 18:56:44\"],[\"2022-01-31 19:01:45\"],[\"2022-01-31 19:06:45\"],[\"2022-01-31 19:11:45\"],[\"2022-01-31 19:16:46\"],[\"2022-01-31 19:21:46\"],[\"2022-01-31 19:26:47\"],[\"2022-01-31 19:31:47\"],[\"2022-01-31 19:36:48\"],[\"2022-01-31 19:41:48\"],[\"2022-01-31 19:46:49\"],[\"2022-01-31 19:51:49\"],[\"2022-01-31 19:56:49\"],[\"2022-01-31 20:01:49\"],[\"2022-01-31 20:06:49\"],[\"2022-01-31 20:11:50\"],[\"2022-01-31 20:16:50\"],[\"2022-01-31 20:21:50\"],[\"2022-01-31 20:26:50\"],[\"2022-01-31 20:31:50\"],[\"2022-01-31 20:36:51\"],[\"2022-01-31 20:41:51\"],[\"2022-01-31 20:46:51\"],[\"2022-01-31 20:51:52\"],[\"2022-01-31 20:56:52\"],[\"2022-01-31 21:01:52\"],[\"2022-01-31 21:06:52\"],[\"2022-01-31 21:11:52\"],[\"2022-01-31 21:16:52\"],[\"2022-01-31 21:21:52\"],[\"2022-01-31 21:26:53\"],[\"2022-01-31 21:31:53\"],[\"2022-01-31 21:36:54\"],[\"2022-01-31 21:41:54\"],[\"2022-01-31 21:46:54\"],[\"2022-01-31 21:51:54\"],[\"2022-01-31 21:56:54\"],[\"2022-01-31 22:01:55\"],[\"2022-01-31 22:06:55\"],[\"2022-01-31 22:11:56\"],[\"2022-01-31 22:16:56\"],[\"2022-01-31 22:21:57\"],[\"2022-01-31 22:26:57\"],[\"2022-01-31 22:31:57\"],[\"2022-01-31 22:36:57\"],[\"2022-01-31 22:41:58\"],[\"2022-01-31 22:46:59\"],[\"2022-01-31 22:51:59\"],[\"2022-01-31 22:56:59\"],[\"2022-01-31 23:02:00\"],[\"2022-01-31 23:07:00\"],[\"2022-01-31 23:12:01\"],[\"2022-01-31 23:17:01\"],[\"2022-01-31 23:22:02\"],[\"2022-01-31 23:27:02\"],[\"2022-01-31 23:32:03\"],[\"2022-01-31 23:37:03\"],[\"2022-01-31 23:42:03\"],[\"2022-01-31 23:47:04\"],[\"2022-01-31 23:52:04\"],[\"2022-01-31 23:57:05\"],[\"2022-02-01 00:02:05\"],[\"2022-02-01 00:07:05\"],[\"2022-02-01 00:12:06\"],[\"2022-02-01 00:17:06\"],[\"2022-02-01 00:22:07\"],[\"2022-02-01 00:27:07\"],[\"2022-02-01 00:32:07\"],[\"2022-02-01 00:37:08\"],[\"2022-02-01 00:42:08\"],[\"2022-02-01 00:47:09\"],[\"2022-02-01 00:52:09\"],[\"2022-02-01 00:57:10\"],[\"2022-02-01 01:02:10\"],[\"2022-02-01 01:07:11\"],[\"2022-02-01 01:12:11\"],[\"2022-02-01 01:17:11\"],[\"2022-02-01 01:22:11\"],[\"2022-02-01 01:27:12\"],[\"2022-02-01 01:32:12\"],[\"2022-02-01 01:37:13\"],[\"2022-02-01 01:42:13\"],[\"2022-02-01 01:47:13\"],[\"2022-02-01 01:52:13\"],[\"2022-02-01 01:57:13\"],[\"2022-02-01 02:02:14\"],[\"2022-02-01 02:07:14\"],[\"2022-02-01 02:12:15\"],[\"2022-02-01 02:17:15\"],[\"2022-02-01 02:22:15\"],[\"2022-02-01 02:27:16\"],[\"2022-02-01 02:32:16\"],[\"2022-02-01 02:37:17\"],[\"2022-02-01 02:42:17\"],[\"2022-02-01 02:47:18\"],[\"2022-02-01 02:52:18\"],[\"2022-02-01 02:57:19\"],[\"2022-02-01 03:02:20\"],[\"2022-02-01 03:07:20\"],[\"2022-02-01 03:12:20\"],[\"2022-02-01 03:17:21\"],[\"2022-02-01 03:22:21\"],[\"2022-02-01 03:27:21\"],[\"2022-02-01 03:32:22\"],[\"2022-02-01 03:37:22\"],[\"2022-02-01 03:42:22\"],[\"2022-02-01 03:47:23\"],[\"2022-02-01 03:52:23\"],[\"2022-02-01 03:57:24\"],[\"2022-02-01 04:02:24\"],[\"2022-02-01 04:07:25\"],[\"2022-02-01 04:12:25\"],[\"2022-02-01 04:17:26\"],[\"2022-02-01 04:22:26\"],[\"2022-02-01 04:27:26\"],[\"2022-02-01 04:32:27\"],[\"2022-02-01 04:37:27\"],[\"2022-02-01 04:42:28\"],[\"2022-02-01 04:47:28\"],[\"2022-02-01 04:52:29\"],[\"2022-02-01 04:57:29\"],[\"2022-02-01 05:02:30\"],[\"2022-02-01 05:07:30\"],[\"2022-02-01 05:12:30\"],[\"2022-02-01 05:17:30\"],[\"2022-02-01 05:22:31\"],[\"2022-02-01 05:27:31\"],[\"2022-02-01 05:32:31\"],[\"2022-02-01 05:37:32\"],[\"2022-02-01 05:42:32\"],[\"2022-02-01 05:47:32\"],[\"2022-02-01 05:52:33\"],[\"2022-02-01 05:57:33\"],[\"2022-02-01 06:02:33\"],[\"2022-02-01 06:07:33\"],[\"2022-02-01 06:12:34\"],[\"2022-02-01 06:17:34\"],[\"2022-02-01 06:22:35\"],[\"2022-02-01 06:27:35\"],[\"2022-02-01 06:32:36\"],[\"2022-02-01 06:37:36\"],[\"2022-02-01 06:42:37\"],[\"2022-02-01 06:47:37\"],[\"2022-02-01 06:52:37\"],[\"2022-02-01 06:57:37\"],[\"2022-02-01 07:02:37\"],[\"2022-02-01 07:07:38\"],[\"2022-02-01 07:12:38\"],[\"2022-02-01 07:17:38\"],[\"2022-02-01 07:22:38\"],[\"2022-02-01 07:27:39\"],[\"2022-02-01 07:32:39\"],[\"2022-02-01 07:37:40\"],[\"2022-02-01 07:42:40\"],[\"2022-02-01 07:47:41\"],[\"2022-02-01 07:52:41\"],[\"2022-02-01 07:57:42\"],[\"2022-02-01 08:02:42\"],[\"2022-02-01 08:07:43\"],[\"2022-02-01 08:12:43\"],[\"2022-02-01 08:17:43\"],[\"2022-02-01 08:22:43\"],[\"2022-02-01 08:27:44\"],[\"2022-02-01 08:32:44\"],[\"2022-02-01 08:37:45\"],[\"2022-02-01 08:42:45\"],[\"2022-02-01 08:47:45\"],[\"2022-02-01 08:52:46\"],[\"2022-02-01 08:57:47\"],[\"2022-02-01 09:02:47\"],[\"2022-02-01 09:07:47\"],[\"2022-02-01 09:12:47\"],[\"2022-02-01 09:17:47\"],[\"2022-02-01 09:22:48\"],[\"2022-02-01 09:27:48\"],[\"2022-02-01 09:32:48\"],[\"2022-02-01 09:37:48\"],[\"2022-02-01 09:42:48\"],[\"2022-02-01 09:47:49\"],[\"2022-02-01 09:52:49\"],[\"2022-02-01 09:57:49\"],[\"2022-02-01 10:02:49\"],[\"2022-02-01 10:07:50\"],[\"2022-02-01 10:12:50\"],[\"2022-02-01 10:17:51\"],[\"2022-02-01 10:22:51\"],[\"2022-02-01 10:27:52\"],[\"2022-02-01 10:32:52\"],[\"2022-02-01 10:37:52\"],[\"2022-02-01 10:42:52\"],[\"2022-02-01 10:47:52\"],[\"2022-02-01 10:52:52\"],[\"2022-02-01 10:57:53\"],[\"2022-02-01 11:02:53\"],[\"2022-02-01 11:07:53\"],[\"2022-02-01 11:12:54\"],[\"2022-02-01 11:17:54\"],[\"2022-02-01 11:22:55\"],[\"2022-02-01 11:27:55\"],[\"2022-02-01 11:32:56\"],[\"2022-02-01 11:37:56\"],[\"2022-02-01 11:42:57\"],[\"2022-02-01 11:47:57\"],[\"2022-02-01 11:52:58\"],[\"2022-02-01 11:57:58\"],[\"2022-02-01 12:02:58\"],[\"2022-02-01 12:07:59\"],[\"2022-02-01 12:12:58\"],[\"2022-02-01 12:17:59\"],[\"2022-02-01 12:23:00\"],[\"2022-02-01 12:28:00\"],[\"2022-02-01 12:33:00\"],[\"2022-02-01 12:38:01\"],[\"2022-02-01 12:43:02\"],[\"2022-02-01 12:48:02\"],[\"2022-02-01 12:53:02\"],[\"2022-02-01 12:58:02\"],[\"2022-02-01 13:03:03\"],[\"2022-02-01 13:08:03\"],[\"2022-02-01 13:13:03\"],[\"2022-02-01 13:18:04\"],[\"2022-02-01 13:23:04\"],[\"2022-02-01 13:28:05\"],[\"2022-02-01 13:33:05\"],[\"2022-02-01 13:38:05\"],[\"2022-02-01 13:43:05\"],[\"2022-02-01 13:48:06\"],[\"2022-02-01 13:53:06\"],[\"2022-02-01 13:58:07\"],[\"2022-02-01 14:03:07\"],[\"2022-02-01 14:08:08\"],[\"2022-02-01 14:13:08\"],[\"2022-02-01 14:18:08\"],[\"2022-02-01 14:23:08\"],[\"2022-02-01 14:28:08\"],[\"2022-02-01 14:33:09\"],[\"2022-02-01 14:38:08\"],[\"2022-02-01 14:43:09\"],[\"2022-02-01 14:48:09\"],[\"2022-02-01 14:53:10\"],[\"2022-02-01 14:58:10\"],[\"2022-02-01 15:03:10\"],[\"2022-02-01 15:08:11\"],[\"2022-02-01 15:13:12\"],[\"2022-02-01 15:18:12\"],[\"2022-02-01 15:23:12\"],[\"2022-02-01 15:28:12\"],[\"2022-02-01 15:33:12\"],[\"2022-02-01 15:38:13\"],[\"2022-02-01 15:43:14\"],[\"2022-02-01 15:48:14\"],[\"2022-02-01 15:53:15\"],[\"2022-02-01 15:58:15\"],[\"2022-02-01 16:03:16\"],[\"2022-02-01 16:08:16\"],[\"2022-02-01 16:13:16\"],[\"2022-02-01 16:18:17\"],[\"2022-02-01 16:23:17\"],[\"2022-02-01 16:28:18\"],[\"2022-02-01 16:33:18\"],[\"2022-02-01 16:38:19\"],[\"2022-02-01 16:43:19\"],[\"2022-02-01 16:48:20\"],[\"2022-02-01 16:53:20\"],[\"2022-02-01 16:58:20\"],[\"2022-02-01 17:03:21\"],[\"2022-02-01 17:08:21\"],[\"2022-02-01 17:13:21\"],[\"2022-02-01 17:18:22\"],[\"2022-02-01 17:23:22\"],[\"2022-02-01 17:28:23\"],[\"2022-02-01 17:33:23\"],[\"2022-02-01 17:38:24\"],[\"2022-02-01 17:43:24\"],[\"2022-02-01 17:48:24\"],[\"2022-02-01 17:53:25\"],[\"2022-02-01 17:58:25\"],[\"2022-02-01 18:03:26\"],[\"2022-02-01 18:08:26\"],[\"2022-02-01 18:13:27\"],[\"2022-02-01 18:18:27\"],[\"2022-02-01 18:23:27\"],[\"2022-02-01 18:28:27\"],[\"2022-02-01 18:33:28\"],[\"2022-02-01 18:38:28\"],[\"2022-02-01 18:43:28\"],[\"2022-02-01 18:48:29\"],[\"2022-02-01 18:53:29\"],[\"2022-02-01 18:58:30\"],[\"2022-02-01 19:03:30\"],[\"2022-02-01 19:08:30\"],[\"2022-02-01 19:13:30\"],[\"2022-02-01 19:18:31\"],[\"2022-02-01 19:23:31\"],[\"2022-02-01 19:28:32\"],[\"2022-02-01 19:33:32\"],[\"2022-02-01 19:38:33\"],[\"2022-02-01 19:43:33\"],[\"2022-02-01 19:48:34\"],[\"2022-02-01 19:53:34\"],[\"2022-02-01 19:58:34\"],[\"2022-02-01 20:03:35\"],[\"2022-02-01 20:08:35\"],[\"2022-02-01 20:13:35\"],[\"2022-02-01 20:18:35\"],[\"2022-02-01 20:23:35\"],[\"2022-02-01 20:28:35\"],[\"2022-02-01 20:33:36\"],[\"2022-02-01 20:38:37\"],[\"2022-02-01 20:43:37\"],[\"2022-02-01 20:48:36\"],[\"2022-02-01 20:53:37\"],[\"2022-02-01 20:58:37\"],[\"2022-02-01 21:03:38\"],[\"2022-02-01 21:08:38\"],[\"2022-02-01 21:13:39\"],[\"2022-02-01 21:18:39\"],[\"2022-02-01 21:23:39\"],[\"2022-02-01 21:28:39\"],[\"2022-02-01 21:33:39\"],[\"2022-02-01 21:38:40\"],[\"2022-02-01 21:43:40\"],[\"2022-02-01 21:48:40\"],[\"2022-02-01 21:53:40\"],[\"2022-02-01 21:58:40\"],[\"2022-02-01 22:03:41\"],[\"2022-02-01 22:08:41\"],[\"2022-02-01 22:13:41\"],[\"2022-02-01 22:18:42\"],[\"2022-02-01 22:23:42\"],[\"2022-02-01 22:28:43\"],[\"2022-02-01 22:33:43\"],[\"2022-02-01 22:38:44\"],[\"2022-02-01 22:43:44\"],[\"2022-02-01 22:48:45\"],[\"2022-02-01 22:53:45\"],[\"2022-02-01 22:58:46\"],[\"2022-02-01 23:03:46\"],[\"2022-02-01 23:08:46\"],[\"2022-02-01 23:13:47\"],[\"2022-02-01 23:18:48\"],[\"2022-02-01 23:23:48\"],[\"2022-02-01 23:28:49\"],[\"2022-02-01 23:33:49\"],[\"2022-02-01 23:38:49\"],[\"2022-02-01 23:43:49\"],[\"2022-02-01 23:48:49\"],[\"2022-02-01 23:53:49\"],[\"2022-02-01 23:58:50\"],[\"2022-02-02 00:03:50\"],[\"2022-02-02 00:08:51\"],[\"2022-02-02 00:13:51\"],[\"2022-02-02 00:18:51\"],[\"2022-02-02 00:23:52\"],[\"2022-02-02 00:28:52\"],[\"2022-02-02 00:33:53\"],[\"2022-02-02 00:38:53\"],[\"2022-02-02 00:43:54\"],[\"2022-02-02 00:48:54\"],[\"2022-02-02 00:53:54\"],[\"2022-02-02 00:58:55\"],[\"2022-02-02 01:03:55\"],[\"2022-02-02 01:08:55\"],[\"2022-02-02 01:13:55\"],[\"2022-02-02 01:18:55\"],[\"2022-02-02 01:23:56\"],[\"2022-02-02 01:28:55\"],[\"2022-02-02 01:33:55\"],[\"2022-02-02 01:38:56\"],[\"2022-02-02 01:43:56\"],[\"2022-02-02 01:48:56\"],[\"2022-02-02 01:53:57\"],[\"2022-02-02 01:58:57\"],[\"2022-02-02 02:03:58\"],[\"2022-02-02 02:08:58\"],[\"2022-02-02 02:13:58\"],[\"2022-02-02 02:18:59\"],[\"2022-02-02 02:23:59\"],[\"2022-02-02 02:29:00\"],[\"2022-02-02 02:34:00\"],[\"2022-02-02 02:39:00\"],[\"2022-02-02 02:44:00\"],[\"2022-02-02 02:49:01\"],[\"2022-02-02 02:54:01\"],[\"2022-02-02 02:59:01\"],[\"2022-02-02 03:04:01\"],[\"2022-02-02 03:09:02\"],[\"2022-02-02 03:14:02\"],[\"2022-02-02 03:19:02\"],[\"2022-02-02 03:24:03\"],[\"2022-02-02 03:29:03\"],[\"2022-02-02 03:34:03\"],[\"2022-02-02 03:39:03\"],[\"2022-02-02 03:44:04\"],[\"2022-02-02 03:49:05\"],[\"2022-02-02 03:54:04\"],[\"2022-02-02 03:59:05\"],[\"2022-02-02 04:04:05\"],[\"2022-02-02 04:09:05\"],[\"2022-02-02 04:14:05\"],[\"2022-02-02 04:19:06\"],[\"2022-02-02 04:24:06\"],[\"2022-02-02 04:29:07\"],[\"2022-02-02 04:34:07\"],[\"2022-02-02 04:39:08\"],[\"2022-02-02 04:44:08\"],[\"2022-02-02 04:49:09\"],[\"2022-02-02 04:54:09\"],[\"2022-02-02 04:59:09\"],[\"2022-02-02 05:04:09\"],[\"2022-02-02 05:09:09\"],[\"2022-02-02 05:14:10\"],[\"2022-02-02 05:19:10\"],[\"2022-02-02 05:24:10\"],[\"2022-02-02 05:29:11\"],[\"2022-02-02 05:34:11\"],[\"2022-02-02 05:39:12\"],[\"2022-02-02 05:44:12\"],[\"2022-02-02 05:49:13\"],[\"2022-02-02 05:54:14\"],[\"2022-02-02 05:59:14\"],[\"2022-02-02 06:04:14\"],[\"2022-02-02 06:09:15\"],[\"2022-02-02 06:14:15\"],[\"2022-02-02 06:19:15\"],[\"2022-02-02 06:24:16\"],[\"2022-02-02 06:29:16\"],[\"2022-02-02 06:34:16\"],[\"2022-02-02 06:39:16\"],[\"2022-02-02 06:44:16\"],[\"2022-02-02 06:49:17\"],[\"2022-02-02 06:54:17\"],[\"2022-02-02 06:59:17\"],[\"2022-02-02 07:04:17\"],[\"2022-02-02 07:09:17\"],[\"2022-02-02 07:14:18\"],[\"2022-02-02 07:19:18\"],[\"2022-02-02 07:24:19\"],[\"2022-02-02 07:29:19\"],[\"2022-02-02 07:34:19\"],[\"2022-02-02 07:39:19\"],[\"2022-02-02 07:44:20\"],[\"2022-02-02 07:49:20\"],[\"2022-02-02 07:54:21\"],[\"2022-02-02 07:59:21\"],[\"2022-02-02 08:04:21\"],[\"2022-02-02 08:09:22\"],[\"2022-02-02 08:14:22\"],[\"2022-02-02 08:19:22\"],[\"2022-02-02 08:24:23\"],[\"2022-02-02 08:29:23\"],[\"2022-02-02 08:34:24\"],[\"2022-02-02 08:39:24\"],[\"2022-02-02 08:44:24\"],[\"2022-02-02 08:49:24\"],[\"2022-02-02 08:54:24\"],[\"2022-02-02 08:59:24\"],[\"2022-02-02 09:04:25\"],[\"2022-02-02 09:09:26\"],[\"2022-02-02 09:14:26\"],[\"2022-02-02 09:19:26\"],[\"2022-02-02 09:24:27\"],[\"2022-02-02 09:29:27\"],[\"2022-02-02 09:34:27\"],[\"2022-02-02 09:39:27\"],[\"2022-02-02 09:44:28\"],[\"2022-02-02 09:49:28\"],[\"2022-02-02 09:54:28\"],[\"2022-02-02 09:59:28\"],[\"2022-02-02 10:04:29\"],[\"2022-02-02 10:09:29\"],[\"2022-02-02 10:14:29\"],[\"2022-02-02 10:19:29\"],[\"2022-02-02 10:24:30\"],[\"2022-02-02 10:29:30\"],[\"2022-02-02 10:34:30\"],[\"2022-02-02 10:39:31\"],[\"2022-02-02 10:44:31\"],[\"2022-02-02 10:49:32\"],[\"2022-02-02 10:54:32\"],[\"2022-02-02 10:59:32\"],[\"2022-02-02 11:04:32\"],[\"2022-02-02 11:09:32\"],[\"2022-02-02 11:14:32\"],[\"2022-02-02 11:19:33\"],[\"2022-02-02 11:24:32\"],[\"2022-02-02 11:29:33\"],[\"2022-02-02 11:34:34\"],[\"2022-02-02 11:39:34\"],[\"2022-02-02 11:44:34\"],[\"2022-02-02 11:49:34\"],[\"2022-02-02 11:54:34\"],[\"2022-02-02 11:59:35\"],[\"2022-02-02 12:04:35\"],[\"2022-02-02 12:09:36\"],[\"2022-02-02 12:14:36\"],[\"2022-02-02 12:19:36\"],[\"2022-02-02 12:24:37\"],[\"2022-02-02 12:29:37\"],[\"2022-02-02 12:34:38\"],[\"2022-02-02 12:39:38\"],[\"2022-02-02 12:44:38\"],[\"2022-02-02 12:49:39\"],[\"2022-02-02 12:54:39\"],[\"2022-02-02 12:59:40\"],[\"2022-02-02 13:04:40\"],[\"2022-02-02 13:09:40\"],[\"2022-02-02 13:14:41\"],[\"2022-02-02 13:19:41\"],[\"2022-02-02 13:24:41\"],[\"2022-02-02 13:29:42\"],[\"2022-02-02 13:34:42\"],[\"2022-02-02 13:39:42\"],[\"2022-02-02 13:44:42\"],[\"2022-02-02 13:49:43\"],[\"2022-02-02 13:54:43\"],[\"2022-02-02 13:59:44\"],[\"2022-02-02 14:04:44\"],[\"2022-02-02 14:09:44\"],[\"2022-02-02 14:14:45\"],[\"2022-02-02 14:19:45\"],[\"2022-02-02 14:24:45\"],[\"2022-02-02 14:29:46\"],[\"2022-02-02 14:34:47\"],[\"2022-02-02 14:39:47\"],[\"2022-02-02 14:44:47\"],[\"2022-02-02 14:49:48\"],[\"2022-02-02 14:54:48\"],[\"2022-02-02 14:59:48\"],[\"2022-02-02 15:04:49\"],[\"2022-02-02 15:09:49\"],[\"2022-02-02 15:14:49\"],[\"2022-02-02 15:19:49\"],[\"2022-02-02 15:24:50\"],[\"2022-02-02 15:29:51\"],[\"2022-02-02 15:34:51\"],[\"2022-02-02 15:39:51\"],[\"2022-02-02 15:44:51\"],[\"2022-02-02 15:49:52\"],[\"2022-02-02 15:54:52\"],[\"2022-02-02 15:59:53\"],[\"2022-02-02 16:04:54\"],[\"2022-02-02 16:09:54\"],[\"2022-02-02 16:14:55\"],[\"2022-02-02 16:19:55\"],[\"2022-02-02 16:24:56\"],[\"2022-02-02 16:29:56\"],[\"2022-02-02 16:34:57\"],[\"2022-02-02 16:39:57\"],[\"2022-02-02 16:44:58\"],[\"2022-02-02 16:49:58\"],[\"2022-02-02 16:54:58\"],[\"2022-02-02 16:59:58\"],[\"2022-02-02 17:04:59\"],[\"2022-02-02 17:09:59\"],[\"2022-02-02 17:15:00\"],[\"2022-02-02 17:20:00\"],[\"2022-02-02 17:25:00\"],[\"2022-02-02 17:30:01\"],[\"2022-02-02 17:35:01\"],[\"2022-02-02 17:40:01\"],[\"2022-02-02 17:45:01\"],[\"2022-02-02 17:50:01\"],[\"2022-02-02 17:55:01\"],[\"2022-02-02 18:00:02\"],[\"2022-02-02 18:05:02\"],[\"2022-02-02 18:10:03\"],[\"2022-02-02 18:15:03\"],[\"2022-02-02 18:20:04\"],[\"2022-02-02 18:25:04\"],[\"2022-02-02 18:30:04\"],[\"2022-02-02 18:35:04\"],[\"2022-02-02 18:40:05\"],[\"2022-02-02 18:45:05\"],[\"2022-02-02 18:50:06\"],[\"2022-02-02 18:55:06\"],[\"2022-02-02 19:00:06\"],[\"2022-02-02 19:05:07\"],[\"2022-02-02 19:10:07\"],[\"2022-02-02 19:15:07\"],[\"2022-02-02 19:20:07\"],[\"2022-02-02 19:25:08\"],[\"2022-02-02 19:30:08\"],[\"2022-02-02 19:35:09\"],[\"2022-02-02 19:40:09\"],[\"2022-02-02 19:45:09\"],[\"2022-02-02 19:50:10\"],[\"2022-02-02 19:55:10\"],[\"2022-02-02 20:00:10\"],[\"2022-02-02 20:05:11\"],[\"2022-02-02 20:10:11\"],[\"2022-02-02 20:15:12\"],[\"2022-02-02 20:20:12\"],[\"2022-02-02 20:25:12\"],[\"2022-02-02 20:30:12\"],[\"2022-02-02 20:35:13\"],[\"2022-02-02 20:40:13\"],[\"2022-02-02 20:45:14\"],[\"2022-02-02 20:50:14\"],[\"2022-02-02 20:55:15\"],[\"2022-02-02 21:00:15\"],[\"2022-02-02 21:05:16\"],[\"2022-02-02 21:10:16\"],[\"2022-02-02 21:15:16\"],[\"2022-02-02 21:20:16\"],[\"2022-02-02 21:25:17\"],[\"2022-02-02 21:30:18\"],[\"2022-02-02 21:35:18\"],[\"2022-02-02 21:40:19\"],[\"2022-02-02 21:45:19\"],[\"2022-02-02 21:50:19\"],[\"2022-02-02 21:55:20\"],[\"2022-02-02 22:00:19\"],[\"2022-02-02 22:05:20\"],[\"2022-02-02 22:10:20\"],[\"2022-02-02 22:15:20\"],[\"2022-02-02 22:20:20\"],[\"2022-02-02 22:25:21\"],[\"2022-02-02 22:30:21\"],[\"2022-02-02 22:35:21\"],[\"2022-02-02 22:40:21\"],[\"2022-02-02 22:45:21\"],[\"2022-02-02 22:50:22\"],[\"2022-02-02 22:55:22\"],[\"2022-02-02 23:00:22\"],[\"2022-02-02 23:05:23\"],[\"2022-02-02 23:10:23\"],[\"2022-02-02 23:15:23\"],[\"2022-02-02 23:20:23\"],[\"2022-02-02 23:25:23\"],[\"2022-02-02 23:30:24\"],[\"2022-02-02 23:35:24\"],[\"2022-02-02 23:40:24\"],[\"2022-02-02 23:45:24\"],[\"2022-02-02 23:50:25\"],[\"2022-02-02 23:55:25\"],[\"2022-02-03 00:00:25\"],[\"2022-02-03 00:05:26\"],[\"2022-02-03 00:10:26\"],[\"2022-02-03 00:15:26\"],[\"2022-02-03 00:20:27\"],[\"2022-02-03 00:25:27\"],[\"2022-02-03 00:30:28\"],[\"2022-02-03 00:35:28\"],[\"2022-02-03 00:40:28\"],[\"2022-02-03 00:45:29\"],[\"2022-02-03 00:50:29\"],[\"2022-02-03 00:55:29\"],[\"2022-02-03 01:00:29\"],[\"2022-02-03 01:05:29\"],[\"2022-02-03 01:10:30\"],[\"2022-02-03 01:15:31\"],[\"2022-02-03 01:20:31\"],[\"2022-02-03 01:25:31\"],[\"2022-02-03 01:30:31\"],[\"2022-02-03 01:35:31\"],[\"2022-02-03 01:40:32\"],[\"2022-02-03 01:45:32\"],[\"2022-02-03 01:50:32\"],[\"2022-02-03 01:55:32\"],[\"2022-02-03 02:00:33\"],[\"2022-02-03 02:05:33\"],[\"2022-02-03 02:10:33\"],[\"2022-02-03 02:15:34\"],[\"2022-02-03 02:20:34\"],[\"2022-02-03 02:25:34\"],[\"2022-02-03 02:30:35\"],[\"2022-02-03 02:35:35\"],[\"2022-02-03 02:40:35\"],[\"2022-02-03 02:45:36\"],[\"2022-02-03 02:50:36\"],[\"2022-02-03 02:55:37\"],[\"2022-02-03 03:00:36\"],[\"2022-02-03 03:05:37\"],[\"2022-02-03 03:10:37\"],[\"2022-02-03 03:15:37\"],[\"2022-02-03 03:20:38\"],[\"2022-02-03 03:25:38\"],[\"2022-02-03 03:30:39\"],[\"2022-02-03 03:35:38\"],[\"2022-02-03 03:40:39\"],[\"2022-02-03 03:45:39\"],[\"2022-02-03 03:50:40\"],[\"2022-02-03 03:55:41\"],[\"2022-02-03 04:00:41\"],[\"2022-02-03 04:05:42\"],[\"2022-02-03 04:10:42\"],[\"2022-02-03 04:15:42\"],[\"2022-02-03 04:20:43\"],[\"2022-02-03 04:25:43\"],[\"2022-02-03 04:30:44\"],[\"2022-02-03 04:35:44\"],[\"2022-02-03 04:40:44\"],[\"2022-02-03 04:45:44\"],[\"2022-02-03 04:50:45\"],[\"2022-02-03 04:55:45\"],[\"2022-02-03 05:00:45\"],[\"2022-02-03 05:05:45\"],[\"2022-02-03 05:10:45\"],[\"2022-02-03 05:15:45\"],[\"2022-02-03 05:20:46\"],[\"2022-02-03 05:25:46\"],[\"2022-02-03 05:30:47\"],[\"2022-02-03 05:35:47\"],[\"2022-02-03 05:40:47\"],[\"2022-02-03 05:45:47\"],[\"2022-02-03 05:50:48\"],[\"2022-02-03 05:55:48\"],[\"2022-02-03 06:00:49\"],[\"2022-02-03 06:05:49\"],[\"2022-02-03 06:10:49\"],[\"2022-02-03 06:15:49\"],[\"2022-02-03 06:20:49\"],[\"2022-02-03 06:25:49\"],[\"2022-02-03 06:30:50\"],[\"2022-02-03 06:35:50\"],[\"2022-02-03 06:40:50\"],[\"2022-02-03 06:45:50\"],[\"2022-02-03 06:50:51\"],[\"2022-02-03 06:55:51\"],[\"2022-02-03 07:00:51\"],[\"2022-02-03 07:05:51\"],[\"2022-02-03 07:10:52\"],[\"2022-02-03 07:15:52\"],[\"2022-02-03 07:20:52\"],[\"2022-02-03 07:25:53\"],[\"2022-02-03 07:30:53\"],[\"2022-02-03 07:35:54\"],[\"2022-02-03 07:40:54\"],[\"2022-02-03 07:45:54\"],[\"2022-02-03 07:50:54\"],[\"2022-02-03 07:55:54\"],[\"2022-02-03 08:00:54\"],[\"2022-02-03 08:05:54\"],[\"2022-02-03 08:10:54\"],[\"2022-02-03 08:15:54\"],[\"2022-02-03 08:20:55\"],[\"2022-02-03 08:25:55\"],[\"2022-02-03 08:30:55\"],[\"2022-02-03 08:35:56\"],[\"2022-02-03 08:40:56\"],[\"2022-02-03 08:45:56\"],[\"2022-02-03 08:50:56\"],[\"2022-02-03 08:55:56\"],[\"2022-02-03 09:00:57\"],[\"2022-02-03 09:05:58\"],[\"2022-02-03 09:10:58\"],[\"2022-02-03 09:15:58\"],[\"2022-02-03 09:20:58\"],[\"2022-02-03 09:25:59\"],[\"2022-02-03 09:30:59\"],[\"2022-02-03 09:35:59\"],[\"2022-02-03 09:40:59\"],[\"2022-02-03 09:46:00\"],[\"2022-02-03 09:51:00\"],[\"2022-02-03 09:56:00\"],[\"2022-02-03 10:01:00\"],[\"2022-02-03 10:06:00\"],[\"2022-02-03 10:11:00\"],[\"2022-02-03 10:16:01\"],[\"2022-02-03 10:21:01\"],[\"2022-02-03 10:26:01\"],[\"2022-02-03 10:31:02\"],[\"2022-02-03 10:36:02\"],[\"2022-02-03 10:41:02\"],[\"2022-02-03 10:46:02\"],[\"2022-02-03 10:51:03\"],[\"2022-02-03 10:56:03\"],[\"2022-02-03 11:01:04\"],[\"2022-02-03 11:06:04\"],[\"2022-02-03 11:11:05\"],[\"2022-02-03 11:16:05\"],[\"2022-02-03 11:21:05\"],[\"2022-02-03 11:26:05\"],[\"2022-02-03 11:31:05\"],[\"2022-02-03 11:36:05\"],[\"2022-02-03 11:41:05\"],[\"2022-02-03 11:46:06\"],[\"2022-02-03 11:51:06\"],[\"2022-02-03 11:56:07\"],[\"2022-02-03 12:01:07\"],[\"2022-02-03 12:06:07\"],[\"2022-02-03 12:11:08\"],[\"2022-02-03 12:16:08\"],[\"2022-02-03 12:21:08\"],[\"2022-02-03 12:26:08\"],[\"2022-02-03 12:31:09\"],[\"2022-02-03 12:36:09\"],[\"2022-02-03 12:41:09\"],[\"2022-02-03 12:46:10\"],[\"2022-02-03 12:51:10\"],[\"2022-02-03 12:56:10\"],[\"2022-02-03 13:01:10\"],[\"2022-02-03 13:06:11\"],[\"2022-02-03 13:11:11\"],[\"2022-02-03 13:16:11\"],[\"2022-02-03 13:21:11\"],[\"2022-02-03 13:26:11\"],[\"2022-02-03 13:31:12\"],[\"2022-02-03 13:36:12\"],[\"2022-02-03 13:41:13\"],[\"2022-02-03 13:46:13\"],[\"2022-02-03 13:51:13\"],[\"2022-02-03 13:56:13\"],[\"2022-02-03 14:01:14\"],[\"2022-02-03 14:06:14\"],[\"2022-02-03 14:11:15\"],[\"2022-02-03 14:16:15\"],[\"2022-02-03 14:21:15\"],[\"2022-02-03 14:26:15\"],[\"2022-02-03 14:31:15\"],[\"2022-02-03 14:36:16\"],[\"2022-02-03 14:41:16\"],[\"2022-02-03 14:46:17\"],[\"2022-02-03 14:51:17\"],[\"2022-02-03 14:56:17\"],[\"2022-02-03 15:01:18\"],[\"2022-02-03 15:06:18\"],[\"2022-02-03 15:11:18\"],[\"2022-02-03 15:16:19\"],[\"2022-02-03 15:21:19\"],[\"2022-02-03 15:26:19\"],[\"2022-02-03 15:31:20\"],[\"2022-02-03 15:36:20\"],[\"2022-02-03 15:41:20\"],[\"2022-02-03 15:46:21\"],[\"2022-02-03 15:51:21\"],[\"2022-02-03 15:56:21\"],[\"2022-02-03 16:01:21\"],[\"2022-02-03 16:06:21\"],[\"2022-02-03 16:11:21\"],[\"2022-02-03 16:16:22\"],[\"2022-02-03 16:21:22\"],[\"2022-02-03 16:26:23\"],[\"2022-02-03 16:31:23\"],[\"2022-02-03 16:36:24\"],[\"2022-02-03 16:41:24\"],[\"2022-02-03 16:46:24\"],[\"2022-02-03 16:51:25\"],[\"2022-02-03 16:56:26\"],[\"2022-02-03 17:01:26\"],[\"2022-02-03 17:06:26\"],[\"2022-02-03 17:11:27\"],[\"2022-02-03 17:16:27\"],[\"2022-02-03 17:21:27\"],[\"2022-02-03 17:26:27\"],[\"2022-02-03 17:31:28\"],[\"2022-02-03 17:36:28\"],[\"2022-02-03 17:41:28\"],[\"2022-02-03 17:46:28\"],[\"2022-02-03 17:51:28\"],[\"2022-02-03 17:56:29\"],[\"2022-02-03 18:01:29\"],[\"2022-02-03 18:06:30\"],[\"2022-02-03 18:11:30\"],[\"2022-02-03 18:16:30\"],[\"2022-02-03 18:21:31\"],[\"2022-02-03 18:26:31\"],[\"2022-02-03 18:31:31\"],[\"2022-02-03 18:36:32\"],[\"2022-02-03 18:41:32\"],[\"2022-02-03 18:46:32\"],[\"2022-02-03 18:51:33\"],[\"2022-02-03 18:56:33\"],[\"2022-02-03 19:01:33\"],[\"2022-02-03 19:06:34\"],[\"2022-02-03 19:11:34\"],[\"2022-02-03 19:16:34\"],[\"2022-02-03 19:21:34\"],[\"2022-02-03 19:26:35\"],[\"2022-02-03 19:31:36\"],[\"2022-02-03 19:36:36\"],[\"2022-02-03 19:41:36\"],[\"2022-02-03 19:46:36\"],[\"2022-02-03 19:51:36\"],[\"2022-02-03 19:56:37\"],[\"2022-02-03 20:01:37\"],[\"2022-02-03 20:06:37\"],[\"2022-02-03 20:11:38\"],[\"2022-02-03 20:16:38\"],[\"2022-02-03 20:21:38\"],[\"2022-02-03 20:26:39\"],[\"2022-02-03 20:31:39\"],[\"2022-02-03 20:36:40\"],[\"2022-02-03 20:41:40\"],[\"2022-02-03 20:46:40\"],[\"2022-02-03 20:51:40\"],[\"2022-02-03 20:56:40\"],[\"2022-02-03 21:01:40\"],[\"2022-02-03 21:06:40\"],[\"2022-02-03 21:11:40\"],[\"2022-02-03 21:16:41\"],[\"2022-02-03 21:21:41\"],[\"2022-02-03 21:26:41\"],[\"2022-02-03 21:31:42\"],[\"2022-02-03 21:36:42\"],[\"2022-02-03 21:41:43\"],[\"2022-02-03 21:46:43\"],[\"2022-02-03 21:51:44\"],[\"2022-02-03 21:56:45\"],[\"2022-02-03 22:01:45\"],[\"2022-02-03 22:06:45\"],[\"2022-02-03 22:11:45\"],[\"2022-02-03 22:16:46\"],[\"2022-02-03 22:21:46\"],[\"2022-02-03 22:26:46\"],[\"2022-02-03 22:31:47\"],[\"2022-02-03 22:36:47\"],[\"2022-02-03 22:41:47\"],[\"2022-02-03 22:46:48\"],[\"2022-02-03 22:51:48\"],[\"2022-02-03 22:56:48\"],[\"2022-02-03 23:01:49\"],[\"2022-02-03 23:06:49\"],[\"2022-02-03 23:11:49\"],[\"2022-02-03 23:16:50\"],[\"2022-02-03 23:21:50\"],[\"2022-02-03 23:26:50\"],[\"2022-02-03 23:31:50\"],[\"2022-02-03 23:36:50\"],[\"2022-02-03 23:41:51\"],[\"2022-02-03 23:46:51\"],[\"2022-02-03 23:51:51\"],[\"2022-02-03 23:56:51\"],[\"2022-02-04 00:01:52\"],[\"2022-02-04 00:06:52\"],[\"2022-02-04 00:11:52\"],[\"2022-02-04 00:16:52\"],[\"2022-02-04 00:21:52\"],[\"2022-02-04 00:26:52\"],[\"2022-02-04 00:31:52\"],[\"2022-02-04 00:36:53\"],[\"2022-02-04 00:41:53\"],[\"2022-02-04 00:46:53\"],[\"2022-02-04 00:51:53\"],[\"2022-02-04 00:56:54\"],[\"2022-02-04 01:01:54\"],[\"2022-02-04 01:06:54\"],[\"2022-02-04 01:11:54\"],[\"2022-02-04 01:16:55\"],[\"2022-02-04 01:21:55\"],[\"2022-02-04 01:26:55\"],[\"2022-02-04 01:31:55\"],[\"2022-02-04 01:36:55\"],[\"2022-02-04 01:41:55\"],[\"2022-02-04 01:46:56\"],[\"2022-02-04 01:51:56\"],[\"2022-02-04 01:56:56\"],[\"2022-02-04 02:01:56\"],[\"2022-02-04 02:06:57\"],[\"2022-02-04 02:11:57\"],[\"2022-02-04 02:16:57\"],[\"2022-02-04 02:21:58\"],[\"2022-02-04 02:26:58\"],[\"2022-02-04 02:31:59\"],[\"2022-02-04 02:36:59\"],[\"2022-02-04 02:41:59\"],[\"2022-02-04 02:46:59\"],[\"2022-02-04 02:52:00\"],[\"2022-02-04 02:57:00\"],[\"2022-02-04 03:02:01\"],[\"2022-02-04 03:07:01\"],[\"2022-02-04 03:12:01\"],[\"2022-02-04 03:17:02\"],[\"2022-02-04 03:22:02\"],[\"2022-02-04 03:27:02\"],[\"2022-02-04 03:32:02\"],[\"2022-02-04 03:37:03\"],[\"2022-02-04 03:42:03\"],[\"2022-02-04 03:47:04\"],[\"2022-02-04 03:52:04\"],[\"2022-02-04 03:57:04\"],[\"2022-02-04 04:02:05\"],[\"2022-02-04 04:07:05\"],[\"2022-02-04 04:12:06\"],[\"2022-02-04 04:17:06\"],[\"2022-02-04 04:22:06\"],[\"2022-02-04 04:27:07\"],[\"2022-02-04 04:32:07\"],[\"2022-02-04 04:37:08\"],[\"2022-02-04 04:42:08\"],[\"2022-02-04 04:47:09\"],[\"2022-02-04 04:52:10\"],[\"2022-02-04 04:57:10\"],[\"2022-02-04 05:02:11\"],[\"2022-02-04 05:07:11\"],[\"2022-02-04 05:12:11\"],[\"2022-02-04 05:17:12\"],[\"2022-02-04 05:22:12\"],[\"2022-02-04 05:27:13\"],[\"2022-02-04 05:32:13\"],[\"2022-02-04 05:37:13\"],[\"2022-02-04 05:42:14\"],[\"2022-02-04 05:47:15\"],[\"2022-02-04 05:52:14\"],[\"2022-02-04 05:57:15\"],[\"2022-02-04 06:02:16\"],[\"2022-02-04 06:07:16\"],[\"2022-02-04 06:12:16\"],[\"2022-02-04 06:17:17\"],[\"2022-02-04 06:22:17\"],[\"2022-02-04 06:27:18\"],[\"2022-02-04 06:32:18\"],[\"2022-02-04 06:37:18\"],[\"2022-02-04 06:42:19\"],[\"2022-02-04 06:47:19\"],[\"2022-02-04 06:52:20\"],[\"2022-02-04 06:57:20\"],[\"2022-02-04 07:02:20\"],[\"2022-02-04 07:07:20\"],[\"2022-02-04 07:12:20\"],[\"2022-02-04 07:17:21\"],[\"2022-02-04 07:22:21\"],[\"2022-02-04 07:27:22\"],[\"2022-02-04 07:32:22\"],[\"2022-02-04 07:37:23\"],[\"2022-02-04 07:42:23\"],[\"2022-02-04 07:47:23\"],[\"2022-02-04 07:52:23\"],[\"2022-02-04 07:57:23\"],[\"2022-02-04 08:02:24\"],[\"2022-02-04 08:07:24\"],[\"2022-02-04 08:12:25\"],[\"2022-02-04 08:17:25\"],[\"2022-02-04 08:22:26\"],[\"2022-02-04 08:27:26\"],[\"2022-02-04 08:32:26\"],[\"2022-02-04 08:37:26\"],[\"2022-02-04 08:42:27\"],[\"2022-02-04 08:47:27\"],[\"2022-02-04 08:52:27\"],[\"2022-02-04 08:57:28\"],[\"2022-02-04 09:02:29\"],[\"2022-02-04 09:07:29\"],[\"2022-02-04 09:12:30\"],[\"2022-02-04 09:17:30\"],[\"2022-02-04 09:22:30\"],[\"2022-02-04 09:27:30\"],[\"2022-02-04 09:32:31\"],[\"2022-02-04 09:37:31\"],[\"2022-02-04 09:42:31\"],[\"2022-02-04 09:47:31\"],[\"2022-02-04 09:52:32\"],[\"2022-02-04 09:57:32\"],[\"2022-02-04 10:02:32\"],[\"2022-02-04 10:07:33\"],[\"2022-02-04 10:12:33\"],[\"2022-02-04 10:17:33\"],[\"2022-02-04 10:22:33\"],[\"2022-02-04 10:27:34\"],[\"2022-02-04 10:32:34\"],[\"2022-02-04 10:37:34\"],[\"2022-02-04 10:42:34\"],[\"2022-02-04 10:47:35\"],[\"2022-02-04 10:52:35\"],[\"2022-02-04 10:57:35\"],[\"2022-02-04 11:02:36\"],[\"2022-02-04 11:07:37\"],[\"2022-02-04 11:12:37\"],[\"2022-02-04 11:17:37\"],[\"2022-02-04 11:22:38\"],[\"2022-02-04 11:27:38\"],[\"2022-02-04 11:32:38\"],[\"2022-02-04 11:37:39\"],[\"2022-02-04 11:42:39\"],[\"2022-02-04 11:47:40\"],[\"2022-02-04 11:52:40\"],[\"2022-02-04 11:57:40\"],[\"2022-02-04 12:02:40\"],[\"2022-02-04 12:07:40\"],[\"2022-02-04 12:12:40\"],[\"2022-02-04 12:17:41\"],[\"2022-02-04 12:22:41\"],[\"2022-02-04 12:27:41\"],[\"2022-02-04 12:32:41\"],[\"2022-02-04 12:37:42\"],[\"2022-02-04 12:42:42\"],[\"2022-02-04 12:47:43\"],[\"2022-02-04 12:52:43\"],[\"2022-02-04 12:57:43\"],[\"2022-02-04 13:02:43\"],[\"2022-02-04 13:07:44\"],[\"2022-02-04 13:12:44\"],[\"2022-02-04 13:17:45\"],[\"2022-02-04 13:22:45\"],[\"2022-02-04 13:27:45\"],[\"2022-02-04 13:32:46\"],[\"2022-02-04 13:37:47\"],[\"2022-02-04 13:42:47\"],[\"2022-02-04 13:47:48\"],[\"2022-02-04 13:52:48\"],[\"2022-02-04 13:57:48\"],[\"2022-02-04 14:02:49\"],[\"2022-02-04 14:07:49\"],[\"2022-02-04 14:12:49\"],[\"2022-02-04 14:17:50\"],[\"2022-02-04 14:22:50\"],[\"2022-02-04 14:27:50\"],[\"2022-02-04 14:32:50\"],[\"2022-02-04 14:37:50\"],[\"2022-02-04 14:42:51\"],[\"2022-02-04 14:47:51\"],[\"2022-02-04 14:52:51\"],[\"2022-02-04 14:57:51\"],[\"2022-02-04 15:02:52\"],[\"2022-02-04 15:07:53\"],[\"2022-02-04 15:12:53\"],[\"2022-02-04 15:17:53\"],[\"2022-02-04 15:22:54\"],[\"2022-02-04 15:27:54\"],[\"2022-02-04 15:32:54\"],[\"2022-02-04 15:37:55\"],[\"2022-02-04 15:42:55\"],[\"2022-02-04 15:47:55\"],[\"2022-02-04 15:52:56\"],[\"2022-02-04 15:57:56\"],[\"2022-02-04 16:02:57\"],[\"2022-02-04 16:07:58\"],[\"2022-02-04 16:12:58\"],[\"2022-02-04 16:17:58\"],[\"2022-02-04 16:22:58\"],[\"2022-02-04 16:27:59\"],[\"2022-02-04 16:32:59\"],[\"2022-02-04 16:38:00\"],[\"2022-02-04 16:43:00\"],[\"2022-02-04 16:48:01\"],[\"2022-02-04 16:53:01\"],[\"2022-02-04 16:58:01\"],[\"2022-02-04 17:03:01\"],[\"2022-02-04 17:08:02\"],[\"2022-02-04 17:13:02\"],[\"2022-02-04 17:18:03\"],[\"2022-02-04 17:23:04\"],[\"2022-02-04 17:28:04\"],[\"2022-02-04 17:33:04\"],[\"2022-02-04 17:38:04\"],[\"2022-02-04 17:43:04\"],[\"2022-02-04 17:48:04\"],[\"2022-02-04 17:53:04\"],[\"2022-02-04 17:58:05\"],[\"2022-02-04 18:03:05\"],[\"2022-02-04 18:08:06\"],[\"2022-02-04 18:13:06\"],[\"2022-02-04 18:18:06\"],[\"2022-02-04 18:23:07\"],[\"2022-02-04 18:28:07\"],[\"2022-02-04 18:33:08\"],[\"2022-02-04 18:38:08\"],[\"2022-02-04 18:43:08\"],[\"2022-02-04 18:48:09\"],[\"2022-02-04 18:53:09\"],[\"2022-02-04 18:58:09\"],[\"2022-02-04 19:03:09\"],[\"2022-02-04 19:08:10\"],[\"2022-02-04 19:13:10\"],[\"2022-02-04 19:18:11\"],[\"2022-02-04 19:23:11\"],[\"2022-02-04 19:28:11\"],[\"2022-02-04 19:33:11\"],[\"2022-02-04 19:38:11\"],[\"2022-02-04 19:43:11\"],[\"2022-02-04 19:48:12\"],[\"2022-02-04 19:53:12\"],[\"2022-02-04 19:58:12\"],[\"2022-02-04 20:03:13\"],[\"2022-02-04 20:08:13\"],[\"2022-02-04 20:13:13\"],[\"2022-02-04 20:18:14\"],[\"2022-02-04 20:23:14\"],[\"2022-02-04 20:28:14\"],[\"2022-02-04 20:33:15\"],[\"2022-02-04 20:38:15\"],[\"2022-02-04 20:43:15\"],[\"2022-02-04 20:48:16\"],[\"2022-02-04 20:53:16\"],[\"2022-02-04 20:58:17\"],[\"2022-02-04 21:03:17\"],[\"2022-02-04 21:08:17\"],[\"2022-02-04 21:13:17\"],[\"2022-02-04 21:18:17\"],[\"2022-02-04 21:23:17\"],[\"2022-02-04 21:28:18\"],[\"2022-02-04 21:33:18\"],[\"2022-02-04 21:38:18\"],[\"2022-02-04 21:43:18\"],[\"2022-02-04 21:48:18\"],[\"2022-02-04 21:53:19\"],[\"2022-02-04 21:58:19\"],[\"2022-02-04 22:03:19\"],[\"2022-02-04 22:08:20\"],[\"2022-02-04 22:13:20\"],[\"2022-02-04 22:18:21\"],[\"2022-02-04 22:23:21\"],[\"2022-02-04 22:28:22\"],[\"2022-02-04 22:33:22\"],[\"2022-02-04 22:38:22\"],[\"2022-02-04 22:43:22\"],[\"2022-02-04 22:48:23\"],[\"2022-02-04 22:53:24\"],[\"2022-02-04 22:58:24\"],[\"2022-02-04 23:03:24\"],[\"2022-02-04 23:08:25\"],[\"2022-02-04 23:13:25\"],[\"2022-02-04 23:18:25\"],[\"2022-02-04 23:23:25\"],[\"2022-02-04 23:28:25\"],[\"2022-02-04 23:33:26\"],[\"2022-02-04 23:38:26\"],[\"2022-02-04 23:43:26\"],[\"2022-02-04 23:48:26\"],[\"2022-02-04 23:53:26\"],[\"2022-02-04 23:58:27\"],[\"2022-02-05 00:03:27\"],[\"2022-02-05 00:08:27\"],[\"2022-02-05 00:13:27\"],[\"2022-02-05 00:18:27\"],[\"2022-02-05 00:23:27\"],[\"2022-02-05 00:28:28\"],[\"2022-02-05 00:33:28\"],[\"2022-02-05 00:38:29\"],[\"2022-02-05 00:43:29\"],[\"2022-02-05 00:48:29\"],[\"2022-02-05 00:53:29\"],[\"2022-02-05 00:58:29\"],[\"2022-02-05 01:03:29\"],[\"2022-02-05 01:08:29\"],[\"2022-02-05 01:13:29\"],[\"2022-02-05 01:18:30\"],[\"2022-02-05 01:23:30\"],[\"2022-02-05 01:28:30\"],[\"2022-02-05 01:33:30\"],[\"2022-02-05 01:38:31\"],[\"2022-02-05 01:43:31\"],[\"2022-02-05 01:48:31\"],[\"2022-02-05 01:53:31\"],[\"2022-02-05 01:58:32\"],[\"2022-02-05 02:03:32\"],[\"2022-02-05 02:08:32\"],[\"2022-02-05 02:13:33\"],[\"2022-02-05 02:18:33\"],[\"2022-02-05 02:23:34\"],[\"2022-02-05 02:28:34\"],[\"2022-02-05 02:33:34\"],[\"2022-02-05 02:38:35\"],[\"2022-02-05 02:43:36\"],[\"2022-02-05 02:48:36\"],[\"2022-02-05 02:53:36\"],[\"2022-02-05 02:58:36\"],[\"2022-02-05 03:03:36\"],[\"2022-02-05 03:08:37\"],[\"2022-02-05 03:13:37\"],[\"2022-02-05 03:18:37\"],[\"2022-02-05 03:23:38\"],[\"2022-02-05 03:28:38\"],[\"2022-02-05 03:33:38\"],[\"2022-02-05 03:38:38\"],[\"2022-02-05 03:43:39\"],[\"2022-02-05 03:48:39\"],[\"2022-02-05 03:53:39\"],[\"2022-02-05 03:58:39\"],[\"2022-02-05 04:03:40\"],[\"2022-02-05 04:08:40\"],[\"2022-02-05 04:13:41\"],[\"2022-02-05 04:18:41\"],[\"2022-02-05 04:23:41\"],[\"2022-02-05 04:28:41\"],[\"2022-02-05 04:33:41\"],[\"2022-02-05 04:38:42\"],[\"2022-02-05 04:43:42\"],[\"2022-02-05 04:48:42\"],[\"2022-02-05 04:53:42\"],[\"2022-02-05 04:58:42\"],[\"2022-02-05 05:03:43\"],[\"2022-02-05 05:08:43\"],[\"2022-02-05 05:13:44\"],[\"2022-02-05 05:18:44\"],[\"2022-02-05 05:23:45\"],[\"2022-02-05 05:28:45\"],[\"2022-02-05 05:33:45\"],[\"2022-02-05 05:38:46\"],[\"2022-02-05 05:43:46\"],[\"2022-02-05 05:48:47\"],[\"2022-02-05 05:53:47\"],[\"2022-02-05 05:58:48\"],[\"2022-02-05 06:03:48\"],[\"2022-02-05 06:08:48\"],[\"2022-02-05 06:13:49\"],[\"2022-02-05 06:18:49\"],[\"2022-02-05 06:23:49\"],[\"2022-02-05 06:28:50\"],[\"2022-02-05 06:33:50\"],[\"2022-02-05 06:38:50\"],[\"2022-02-05 06:43:50\"],[\"2022-02-05 06:48:51\"],[\"2022-02-05 06:53:51\"],[\"2022-02-05 06:58:51\"],[\"2022-02-05 07:03:51\"],[\"2022-02-05 07:08:51\"],[\"2022-02-05 07:13:51\"],[\"2022-02-05 07:18:52\"],[\"2022-02-05 07:23:52\"],[\"2022-02-05 07:28:52\"],[\"2022-02-05 07:33:53\"],[\"2022-02-05 07:38:53\"],[\"2022-02-05 07:43:53\"],[\"2022-02-05 07:48:54\"],[\"2022-02-05 07:53:54\"],[\"2022-02-05 07:58:55\"],[\"2022-02-05 08:03:55\"],[\"2022-02-05 08:08:55\"],[\"2022-02-05 08:13:56\"],[\"2022-02-05 08:18:56\"],[\"2022-02-05 08:23:56\"],[\"2022-02-05 08:28:57\"],[\"2022-02-05 08:33:57\"],[\"2022-02-05 08:38:57\"],[\"2022-02-05 08:43:58\"],[\"2022-02-05 08:48:58\"],[\"2022-02-05 08:53:59\"],[\"2022-02-05 08:58:59\"],[\"2022-02-05 09:03:59\"],[\"2022-02-05 09:08:59\"],[\"2022-02-05 09:13:59\"],[\"2022-02-05 09:19:00\"],[\"2022-02-05 09:24:00\"],[\"2022-02-05 09:29:00\"],[\"2022-02-05 09:34:01\"],[\"2022-02-05 09:39:01\"],[\"2022-02-05 09:44:01\"],[\"2022-02-05 09:49:01\"],[\"2022-02-05 09:54:02\"],[\"2022-02-05 09:59:02\"],[\"2022-02-05 10:04:02\"],[\"2022-02-05 10:09:02\"],[\"2022-02-05 10:14:02\"],[\"2022-02-05 10:19:02\"],[\"2022-02-05 10:24:03\"],[\"2022-02-05 10:29:03\"],[\"2022-02-05 10:34:03\"],[\"2022-02-05 10:39:04\"],[\"2022-02-05 10:44:04\"],[\"2022-02-05 10:49:04\"],[\"2022-02-05 10:54:04\"],[\"2022-02-05 10:59:04\"],[\"2022-02-05 11:04:05\"],[\"2022-02-05 11:09:05\"],[\"2022-02-05 11:14:05\"],[\"2022-02-05 11:19:05\"],[\"2022-02-05 11:24:05\"],[\"2022-02-05 11:29:06\"],[\"2022-02-05 11:34:06\"],[\"2022-02-05 11:39:07\"],[\"2022-02-05 11:44:07\"],[\"2022-02-05 11:49:07\"],[\"2022-02-05 11:54:07\"],[\"2022-02-05 11:59:08\"],[\"2022-02-05 12:04:08\"],[\"2022-02-05 12:09:08\"],[\"2022-02-05 12:14:09\"],[\"2022-02-05 12:19:09\"],[\"2022-02-05 12:24:10\"],[\"2022-02-05 12:29:10\"],[\"2022-02-05 12:34:10\"],[\"2022-02-05 12:39:10\"],[\"2022-02-05 12:44:11\"],[\"2022-02-05 12:49:12\"],[\"2022-02-05 12:54:12\"],[\"2022-02-05 12:59:13\"],[\"2022-02-05 13:04:13\"],[\"2022-02-05 13:09:13\"],[\"2022-02-05 13:14:13\"],[\"2022-02-05 13:19:14\"],[\"2022-02-05 13:24:14\"],[\"2022-02-05 13:29:14\"],[\"2022-02-05 13:34:15\"],[\"2022-02-05 13:39:15\"],[\"2022-02-05 13:44:16\"],[\"2022-02-05 13:49:17\"],[\"2022-02-05 13:54:17\"],[\"2022-02-05 13:59:17\"],[\"2022-02-05 14:04:17\"],[\"2022-02-05 14:09:18\"],[\"2022-02-05 14:14:18\"],[\"2022-02-05 14:19:19\"],[\"2022-02-05 14:24:19\"],[\"2022-02-05 14:29:19\"],[\"2022-02-05 14:34:19\"],[\"2022-02-05 14:39:19\"],[\"2022-02-05 14:44:20\"],[\"2022-02-05 14:49:21\"],[\"2022-02-05 14:54:21\"],[\"2022-02-05 14:59:22\"],[\"2022-02-05 15:04:22\"],[\"2022-02-05 15:09:22\"],[\"2022-02-05 15:14:23\"],[\"2022-02-05 15:19:23\"],[\"2022-02-05 15:24:23\"],[\"2022-02-05 15:29:23\"],[\"2022-02-05 15:34:24\"],[\"2022-02-05 15:39:24\"],[\"2022-02-05 15:44:25\"],[\"2022-02-05 15:49:25\"],[\"2022-02-05 15:54:25\"],[\"2022-02-05 15:59:25\"],[\"2022-02-05 16:04:25\"],[\"2022-02-05 16:09:25\"],[\"2022-02-05 16:14:26\"],[\"2022-02-05 16:19:26\"],[\"2022-02-05 16:24:27\"],[\"2022-02-05 16:29:27\"],[\"2022-02-05 16:34:27\"],[\"2022-02-05 16:39:27\"],[\"2022-02-05 16:44:28\"],[\"2022-02-05 16:49:28\"],[\"2022-02-05 16:54:29\"],[\"2022-02-05 16:59:29\"],[\"2022-02-05 17:04:30\"],[\"2022-02-05 17:09:30\"],[\"2022-02-05 17:14:31\"],[\"2022-02-05 17:19:31\"],[\"2022-02-05 17:24:31\"],[\"2022-02-05 17:29:31\"],[\"2022-02-05 17:34:32\"],[\"2022-02-05 17:39:32\"],[\"2022-02-05 17:44:32\"],[\"2022-02-05 17:49:32\"],[\"2022-02-05 17:54:33\"],[\"2022-02-05 17:59:33\"],[\"2022-02-05 18:04:33\"],[\"2022-02-05 18:09:34\"],[\"2022-02-05 18:14:34\"],[\"2022-02-05 18:19:34\"],[\"2022-02-05 18:24:35\"],[\"2022-02-05 18:29:35\"],[\"2022-02-05 18:34:35\"],[\"2022-02-05 18:39:35\"],[\"2022-02-05 18:44:35\"],[\"2022-02-05 18:49:35\"],[\"2022-02-05 18:54:35\"],[\"2022-02-05 18:59:36\"],[\"2022-02-05 19:04:37\"],[\"2022-02-05 19:09:37\"],[\"2022-02-05 19:14:37\"],[\"2022-02-05 19:19:37\"],[\"2022-02-05 19:24:37\"],[\"2022-02-05 19:29:37\"],[\"2022-02-05 19:34:38\"],[\"2022-02-05 19:39:38\"],[\"2022-02-05 19:44:38\"],[\"2022-02-05 19:49:39\"],[\"2022-02-05 19:54:39\"],[\"2022-02-05 19:59:40\"],[\"2022-02-05 20:04:40\"],[\"2022-02-05 20:09:40\"],[\"2022-02-05 20:14:41\"],[\"2022-02-05 20:19:41\"],[\"2022-02-05 20:24:41\"],[\"2022-02-05 20:29:41\"],[\"2022-02-05 20:34:42\"],[\"2022-02-05 20:39:42\"],[\"2022-02-05 20:44:42\"],[\"2022-02-05 20:49:43\"],[\"2022-02-05 20:54:43\"],[\"2022-02-05 20:59:44\"],[\"2022-02-05 21:04:44\"],[\"2022-02-05 21:09:45\"],[\"2022-02-05 21:14:45\"],[\"2022-02-05 21:19:45\"],[\"2022-02-05 21:24:45\"],[\"2022-02-05 21:29:46\"],[\"2022-02-05 21:34:46\"],[\"2022-02-05 21:39:46\"],[\"2022-02-05 21:44:47\"],[\"2022-02-05 21:49:47\"],[\"2022-02-05 21:54:48\"],[\"2022-02-05 21:59:48\"],[\"2022-02-05 22:04:48\"],[\"2022-02-05 22:09:49\"],[\"2022-02-05 22:14:49\"],[\"2022-02-05 22:19:49\"],[\"2022-02-05 22:24:50\"],[\"2022-02-05 22:29:50\"],[\"2022-02-05 22:34:51\"],[\"2022-02-05 22:39:51\"],[\"2022-02-05 22:44:51\"],[\"2022-02-05 22:49:51\"],[\"2022-02-05 22:54:52\"],[\"2022-02-05 22:59:52\"],[\"2022-02-05 23:04:52\"],[\"2022-02-05 23:09:52\"],[\"2022-02-05 23:14:52\"],[\"2022-02-05 23:19:53\"],[\"2022-02-05 23:24:54\"],[\"2022-02-05 23:29:54\"],[\"2022-02-05 23:34:54\"],[\"2022-02-05 23:39:55\"],[\"2022-02-05 23:44:55\"],[\"2022-02-05 23:49:55\"],[\"2022-02-05 23:54:56\"],[\"2022-02-05 23:59:56\"],[\"2022-02-06 00:04:57\"],[\"2022-02-06 00:09:57\"],[\"2022-02-06 00:14:58\"],[\"2022-02-06 00:19:58\"],[\"2022-02-06 00:24:58\"],[\"2022-02-06 00:29:58\"],[\"2022-02-06 00:34:58\"],[\"2022-02-06 00:39:59\"],[\"2022-02-06 00:44:59\"],[\"2022-02-06 00:49:59\"],[\"2022-02-06 00:55:00\"],[\"2022-02-06 01:00:00\"],[\"2022-02-06 01:05:00\"],[\"2022-02-06 01:10:00\"],[\"2022-02-06 01:15:00\"],[\"2022-02-06 01:20:00\"],[\"2022-02-06 01:25:00\"],[\"2022-02-06 01:30:01\"],[\"2022-02-06 01:35:01\"],[\"2022-02-06 01:40:02\"],[\"2022-02-06 01:45:02\"],[\"2022-02-06 01:50:03\"],[\"2022-02-06 01:55:02\"],[\"2022-02-06 02:00:02\"],[\"2022-02-06 02:05:03\"],[\"2022-02-06 02:10:03\"],[\"2022-02-06 02:15:03\"],[\"2022-02-06 02:20:03\"],[\"2022-02-06 02:25:04\"],[\"2022-02-06 02:30:04\"],[\"2022-02-06 02:35:05\"],[\"2022-02-06 02:40:05\"],[\"2022-02-06 02:45:05\"],[\"2022-02-06 02:50:05\"],[\"2022-02-06 02:55:06\"],[\"2022-02-06 03:00:06\"],[\"2022-02-06 03:05:06\"],[\"2022-02-06 03:10:07\"],[\"2022-02-06 03:15:07\"],[\"2022-02-06 03:20:07\"],[\"2022-02-06 03:25:07\"],[\"2022-02-06 03:30:08\"],[\"2022-02-06 03:35:08\"],[\"2022-02-06 03:40:08\"],[\"2022-02-06 03:45:09\"],[\"2022-02-06 03:50:09\"],[\"2022-02-06 03:55:09\"],[\"2022-02-06 04:00:09\"],[\"2022-02-06 04:05:09\"],[\"2022-02-06 04:10:10\"],[\"2022-02-06 04:15:10\"],[\"2022-02-06 04:20:10\"],[\"2022-02-06 04:25:11\"],[\"2022-02-06 04:30:11\"],[\"2022-02-06 04:35:11\"],[\"2022-02-06 04:40:12\"],[\"2022-02-06 04:45:12\"],[\"2022-02-06 04:50:12\"],[\"2022-02-06 04:55:12\"],[\"2022-02-06 05:00:12\"],[\"2022-02-06 05:05:13\"],[\"2022-02-06 05:10:13\"],[\"2022-02-06 05:15:14\"],[\"2022-02-06 05:20:14\"],[\"2022-02-06 05:25:15\"],[\"2022-02-06 05:30:15\"],[\"2022-02-06 05:35:15\"],[\"2022-02-06 05:40:16\"],[\"2022-02-06 05:45:16\"],[\"2022-02-06 05:50:16\"],[\"2022-02-06 05:55:17\"],[\"2022-02-06 06:00:17\"],[\"2022-02-06 06:05:18\"],[\"2022-02-06 06:10:19\"],[\"2022-02-06 06:15:19\"],[\"2022-02-06 06:20:19\"],[\"2022-02-06 06:25:20\"],[\"2022-02-06 06:30:20\"],[\"2022-02-06 06:35:20\"],[\"2022-02-06 06:40:21\"],[\"2022-02-06 06:45:21\"],[\"2022-02-06 06:50:21\"],[\"2022-02-06 06:55:21\"],[\"2022-02-06 07:00:21\"],[\"2022-02-06 07:05:21\"],[\"2022-02-06 07:10:22\"],[\"2022-02-06 07:15:22\"],[\"2022-02-06 07:20:23\"],[\"2022-02-06 07:25:23\"],[\"2022-02-06 07:30:24\"],[\"2022-02-06 07:35:25\"],[\"2022-02-06 07:40:26\"],[\"2022-02-06 07:45:26\"],[\"2022-02-06 07:50:26\"],[\"2022-02-06 07:55:26\"],[\"2022-02-06 08:00:26\"],[\"2022-02-06 08:05:27\"],[\"2022-02-06 08:10:28\"],[\"2022-02-06 08:15:27\"],[\"2022-02-06 08:20:28\"],[\"2022-02-06 08:25:28\"],[\"2022-02-06 08:30:28\"],[\"2022-02-06 08:35:29\"],[\"2022-02-06 08:40:29\"],[\"2022-02-06 08:45:30\"],[\"2022-02-06 08:50:30\"],[\"2022-02-06 08:55:30\"],[\"2022-02-06 09:00:31\"],[\"2022-02-06 09:05:31\"],[\"2022-02-06 09:10:31\"],[\"2022-02-06 09:15:32\"],[\"2022-02-06 09:20:32\"],[\"2022-02-06 09:25:33\"],[\"2022-02-06 09:30:33\"],[\"2022-02-06 09:35:33\"],[\"2022-02-06 09:40:33\"],[\"2022-02-06 09:45:34\"],[\"2022-02-06 09:50:34\"],[\"2022-02-06 09:55:35\"],[\"2022-02-06 10:00:35\"],[\"2022-02-06 10:05:35\"],[\"2022-02-06 10:10:36\"],[\"2022-02-06 10:15:37\"],[\"2022-02-06 10:20:37\"],[\"2022-02-06 10:25:37\"],[\"2022-02-06 10:30:37\"],[\"2022-02-06 10:35:38\"],[\"2022-02-06 10:40:38\"],[\"2022-02-06 10:45:38\"],[\"2022-02-06 10:50:38\"],[\"2022-02-06 10:55:39\"],[\"2022-02-06 11:00:39\"],[\"2022-02-06 11:05:40\"],[\"2022-02-06 11:10:40\"],[\"2022-02-06 11:15:41\"],[\"2022-02-06 11:20:41\"],[\"2022-02-06 11:25:41\"],[\"2022-02-06 11:30:42\"],[\"2022-02-06 11:35:42\"],[\"2022-02-06 11:40:43\"],[\"2022-02-06 11:45:43\"],[\"2022-02-06 11:50:43\"],[\"2022-02-06 11:55:44\"],[\"2022-02-06 12:00:44\"],[\"2022-02-06 12:05:44\"],[\"2022-02-06 12:10:45\"],[\"2022-02-06 12:15:45\"],[\"2022-02-06 12:20:45\"],[\"2022-02-06 12:25:46\"],[\"2022-02-06 12:30:47\"],[\"2022-02-06 12:35:47\"],[\"2022-02-06 12:40:47\"],[\"2022-02-06 12:45:47\"],[\"2022-02-06 12:50:48\"],[\"2022-02-06 12:55:48\"],[\"2022-02-06 13:00:49\"],[\"2022-02-06 13:05:49\"],[\"2022-02-06 13:10:50\"],[\"2022-02-06 13:15:50\"],[\"2022-02-06 13:20:50\"],[\"2022-02-06 13:25:50\"],[\"2022-02-06 13:30:50\"],[\"2022-02-06 13:35:51\"],[\"2022-02-06 13:40:51\"],[\"2022-02-06 13:45:52\"],[\"2022-02-06 13:50:51\"],[\"2022-02-06 13:55:52\"],[\"2022-02-06 14:00:52\"],[\"2022-02-06 14:05:52\"],[\"2022-02-06 14:10:53\"],[\"2022-02-06 14:15:53\"],[\"2022-02-06 14:20:54\"],[\"2022-02-06 14:25:54\"],[\"2022-02-06 14:30:55\"],[\"2022-02-06 14:35:55\"],[\"2022-02-06 14:40:55\"],[\"2022-02-06 14:45:56\"],[\"2022-02-06 14:50:56\"],[\"2022-02-06 14:55:56\"],[\"2022-02-06 15:00:57\"],[\"2022-02-06 15:05:57\"],[\"2022-02-06 15:10:58\"],[\"2022-02-06 15:15:58\"],[\"2022-02-06 15:20:58\"],[\"2022-02-06 15:25:59\"],[\"2022-02-06 15:30:59\"],[\"2022-02-06 15:35:59\"],[\"2022-02-06 15:40:59\"],[\"2022-02-06 15:46:00\"],[\"2022-02-06 15:51:00\"],[\"2022-02-06 15:56:01\"],[\"2022-02-06 16:01:01\"],[\"2022-02-06 16:06:01\"],[\"2022-02-06 16:11:02\"],[\"2022-02-06 16:16:02\"],[\"2022-02-06 16:21:03\"],[\"2022-02-06 16:26:03\"],[\"2022-02-06 16:31:03\"],[\"2022-02-06 16:36:03\"],[\"2022-02-06 16:41:04\"],[\"2022-02-06 16:46:05\"],[\"2022-02-06 16:51:05\"],[\"2022-02-06 16:56:05\"],[\"2022-02-06 17:01:05\"],[\"2022-02-06 17:06:05\"],[\"2022-02-06 17:11:06\"],[\"2022-02-06 17:16:07\"],[\"2022-02-06 17:21:07\"],[\"2022-02-06 17:26:07\"],[\"2022-02-06 17:31:08\"],[\"2022-02-06 17:36:08\"],[\"2022-02-06 17:41:08\"],[\"2022-02-06 17:46:09\"],[\"2022-02-06 17:51:09\"],[\"2022-02-06 17:56:10\"],[\"2022-02-06 18:01:10\"],[\"2022-02-06 18:06:11\"],[\"2022-02-06 18:11:11\"],[\"2022-02-06 18:16:12\"],[\"2022-02-06 18:21:12\"],[\"2022-02-06 18:26:13\"],[\"2022-02-06 18:31:13\"],[\"2022-02-06 18:36:13\"],[\"2022-02-06 18:41:14\"],[\"2022-02-06 18:46:14\"],[\"2022-02-06 18:51:14\"],[\"2022-02-06 18:56:15\"],[\"2022-02-06 19:01:15\"],[\"2022-02-06 19:06:15\"],[\"2022-02-06 19:11:15\"],[\"2022-02-06 19:16:16\"],[\"2022-02-06 19:21:16\"],[\"2022-02-06 19:26:17\"],[\"2022-02-06 19:31:17\"],[\"2022-02-06 19:36:18\"],[\"2022-02-06 19:41:18\"],[\"2022-02-06 19:46:18\"],[\"2022-02-06 19:51:19\"],[\"2022-02-06 19:56:19\"],[\"2022-02-06 20:01:20\"],[\"2022-02-06 20:06:20\"],[\"2022-02-06 20:11:21\"],[\"2022-02-06 20:16:21\"],[\"2022-02-06 20:21:21\"],[\"2022-02-06 20:26:21\"],[\"2022-02-06 20:31:22\"],[\"2022-02-06 20:36:22\"],[\"2022-02-06 20:41:23\"],[\"2022-02-06 20:46:23\"],[\"2022-02-06 20:51:23\"],[\"2022-02-06 20:56:23\"],[\"2022-02-06 21:01:24\"],[\"2022-02-06 21:06:25\"],[\"2022-02-06 21:11:25\"],[\"2022-02-06 21:16:25\"],[\"2022-02-06 21:21:25\"],[\"2022-02-06 21:26:25\"],[\"2022-02-06 21:31:26\"],[\"2022-02-06 21:36:26\"],[\"2022-02-06 21:41:26\"],[\"2022-02-06 21:46:27\"],[\"2022-02-06 21:51:27\"],[\"2022-02-06 21:56:28\"],[\"2022-02-06 22:01:28\"],[\"2022-02-06 22:06:28\"],[\"2022-02-06 22:11:29\"],[\"2022-02-06 22:16:29\"],[\"2022-02-06 22:21:30\"],[\"2022-02-06 22:26:30\"],[\"2022-02-06 22:31:31\"],[\"2022-02-06 22:36:31\"],[\"2022-02-06 22:41:31\"],[\"2022-02-06 22:46:32\"],[\"2022-02-06 22:51:33\"],[\"2022-02-06 22:56:33\"],[\"2022-02-06 23:01:33\"],[\"2022-02-06 23:06:34\"],[\"2022-02-06 23:11:34\"],[\"2022-02-06 23:16:35\"],[\"2022-02-06 23:21:36\"],[\"2022-02-06 23:26:36\"],[\"2022-02-06 23:31:36\"],[\"2022-02-06 23:36:36\"],[\"2022-02-06 23:41:36\"],[\"2022-02-06 23:46:37\"],[\"2022-02-06 23:51:37\"],[\"2022-02-06 23:56:37\"],[\"2022-02-07 00:01:38\"],[\"2022-02-07 00:06:38\"],[\"2022-02-07 00:11:39\"],[\"2022-02-07 00:16:39\"],[\"2022-02-07 00:21:40\"],[\"2022-02-07 00:26:40\"],[\"2022-02-07 00:31:41\"],[\"2022-02-07 00:36:41\"],[\"2022-02-07 00:41:42\"],[\"2022-02-07 00:46:42\"],[\"2022-02-07 00:51:43\"],[\"2022-02-07 00:56:43\"],[\"2022-02-07 01:01:44\"],[\"2022-02-07 01:06:44\"],[\"2022-02-07 01:11:45\"],[\"2022-02-07 01:16:45\"],[\"2022-02-07 01:21:45\"],[\"2022-02-07 01:26:45\"],[\"2022-02-07 01:31:46\"],[\"2022-02-07 01:36:46\"],[\"2022-02-07 01:41:46\"],[\"2022-02-07 01:46:47\"],[\"2022-02-07 01:51:47\"],[\"2022-02-07 01:56:47\"],[\"2022-02-07 02:01:48\"],[\"2022-02-07 02:06:48\"],[\"2022-02-07 02:11:48\"],[\"2022-02-07 02:16:49\"],[\"2022-02-07 02:21:49\"],[\"2022-02-07 02:26:50\"],[\"2022-02-07 02:31:50\"],[\"2022-02-07 02:36:50\"],[\"2022-02-07 02:41:50\"],[\"2022-02-07 02:46:51\"],[\"2022-02-07 02:51:51\"],[\"2022-02-07 02:56:52\"],[\"2022-02-07 03:01:52\"],[\"2022-02-07 03:06:53\"],[\"2022-02-07 03:11:53\"],[\"2022-02-07 03:16:54\"],[\"2022-02-07 03:21:54\"],[\"2022-02-07 03:26:54\"],[\"2022-02-07 03:31:55\"],[\"2022-02-07 03:36:55\"],[\"2022-02-07 03:41:55\"],[\"2022-02-07 03:46:56\"],[\"2022-02-07 03:51:55\"],[\"2022-02-07 03:56:56\"],[\"2022-02-07 04:01:56\"],[\"2022-02-07 04:06:56\"],[\"2022-02-07 04:11:57\"],[\"2022-02-07 04:16:57\"],[\"2022-02-07 04:21:58\"],[\"2022-02-07 04:26:58\"],[\"2022-02-07 04:31:58\"],[\"2022-02-07 04:36:59\"],[\"2022-02-07 04:41:59\"],[\"2022-02-07 04:47:00\"],[\"2022-02-07 04:52:00\"],[\"2022-02-07 04:57:01\"],[\"2022-02-07 05:02:01\"],[\"2022-02-07 05:07:01\"],[\"2022-02-07 05:12:02\"],[\"2022-02-07 05:17:02\"],[\"2022-02-07 05:22:03\"],[\"2022-02-07 05:27:03\"],[\"2022-02-07 05:32:03\"],[\"2022-02-07 05:37:04\"],[\"2022-02-07 05:42:04\"],[\"2022-02-07 05:47:04\"],[\"2022-02-07 05:52:05\"],[\"2022-02-07 05:57:05\"],[\"2022-02-07 06:02:05\"],[\"2022-02-07 06:07:05\"],[\"2022-02-07 06:12:06\"],[\"2022-02-07 06:17:06\"],[\"2022-02-07 06:22:07\"],[\"2022-02-07 06:27:07\"],[\"2022-02-07 06:32:07\"],[\"2022-02-07 06:37:08\"],[\"2022-02-07 06:42:08\"],[\"2022-02-07 06:47:09\"],[\"2022-02-07 06:52:09\"],[\"2022-02-07 06:57:09\"],[\"2022-02-07 07:02:09\"],[\"2022-02-07 07:07:10\"],[\"2022-02-07 07:12:10\"],[\"2022-02-07 07:17:10\"],[\"2022-02-07 07:22:11\"],[\"2022-02-07 07:27:11\"],[\"2022-02-07 07:32:12\"],[\"2022-02-07 07:37:12\"],[\"2022-02-07 07:42:12\"],[\"2022-02-07 07:47:12\"],[\"2022-02-07 07:52:12\"],[\"2022-02-07 07:57:13\"],[\"2022-02-07 08:02:13\"],[\"2022-02-07 08:07:13\"],[\"2022-02-07 08:12:13\"],[\"2022-02-07 08:17:13\"],[\"2022-02-07 08:22:13\"],[\"2022-02-07 08:27:14\"],[\"2022-02-07 08:32:14\"],[\"2022-02-07 08:37:15\"],[\"2022-02-07 08:42:15\"],[\"2022-02-07 08:47:15\"],[\"2022-02-07 08:52:16\"],[\"2022-02-07 08:57:16\"],[\"2022-02-07 09:02:17\"],[\"2022-02-07 09:07:17\"],[\"2022-02-07 09:12:17\"],[\"2022-02-07 09:17:18\"],[\"2022-02-07 09:22:18\"],[\"2022-02-07 09:27:18\"],[\"2022-02-07 09:32:19\"],[\"2022-02-07 09:37:19\"],[\"2022-02-07 09:42:20\"],[\"2022-02-07 09:47:20\"],[\"2022-02-07 09:52:20\"],[\"2022-02-07 09:57:21\"],[\"2022-02-07 10:02:21\"],[\"2022-02-07 10:07:22\"],[\"2022-02-07 10:12:22\"],[\"2022-02-07 10:17:23\"],[\"2022-02-07 10:22:23\"],[\"2022-02-07 10:27:24\"],[\"2022-02-07 10:32:24\"],[\"2022-02-07 10:37:24\"],[\"2022-02-07 10:42:24\"],[\"2022-02-07 10:47:24\"],[\"2022-02-07 10:52:25\"],[\"2022-02-07 10:57:26\"],[\"2022-02-07 11:02:26\"],[\"2022-02-07 11:07:27\"],[\"2022-02-07 11:12:27\"],[\"2022-02-07 11:17:27\"],[\"2022-02-07 11:22:27\"],[\"2022-02-07 11:27:28\"],[\"2022-02-07 11:32:28\"],[\"2022-02-07 11:37:28\"],[\"2022-02-07 11:42:29\"],[\"2022-02-07 11:47:29\"],[\"2022-02-07 11:52:29\"],[\"2022-02-07 11:57:30\"],[\"2022-02-07 12:02:30\"],[\"2022-02-07 12:07:30\"],[\"2022-02-07 12:12:31\"],[\"2022-02-07 12:17:31\"],[\"2022-02-07 12:22:31\"],[\"2022-02-07 12:27:32\"],[\"2022-02-07 12:32:32\"],[\"2022-02-07 12:37:32\"],[\"2022-02-07 12:42:33\"],[\"2022-02-07 12:47:33\"],[\"2022-02-07 12:52:33\"],[\"2022-02-07 12:57:33\"],[\"2022-02-07 13:02:34\"],[\"2022-02-07 13:07:34\"],[\"2022-02-07 13:12:34\"],[\"2022-02-07 13:17:34\"],[\"2022-02-07 13:22:34\"],[\"2022-02-07 13:27:35\"],[\"2022-02-07 13:32:35\"],[\"2022-02-07 13:37:36\"],[\"2022-02-07 13:42:36\"],[\"2022-02-07 13:47:37\"],[\"2022-02-07 13:52:37\"],[\"2022-02-07 13:57:38\"],[\"2022-02-07 14:02:38\"],[\"2022-02-07 14:07:39\"],[\"2022-02-07 14:12:39\"],[\"2022-02-07 14:17:40\"],[\"2022-02-07 14:22:41\"],[\"2022-02-07 14:27:41\"],[\"2022-02-07 14:32:41\"],[\"2022-02-07 14:37:42\"],[\"2022-02-07 14:42:42\"],[\"2022-02-07 14:47:42\"],[\"2022-02-07 14:52:42\"],[\"2022-02-07 14:57:43\"],[\"2022-02-07 15:02:44\"],[\"2022-02-07 15:07:44\"],[\"2022-02-07 15:12:44\"],[\"2022-02-07 15:17:44\"],[\"2022-02-07 15:22:45\"],[\"2022-02-07 15:27:45\"],[\"2022-02-07 15:32:45\"],[\"2022-02-07 15:37:46\"],[\"2022-02-07 15:42:46\"],[\"2022-02-07 15:47:47\"],[\"2022-02-07 15:52:47\"],[\"2022-02-07 15:57:48\"],[\"2022-02-07 16:02:48\"],[\"2022-02-07 16:07:49\"],[\"2022-02-07 16:12:49\"],[\"2022-02-07 16:17:49\"],[\"2022-02-07 16:22:50\"],[\"2022-02-07 16:27:50\"],[\"2022-02-07 16:32:51\"],[\"2022-02-07 16:37:51\"],[\"2022-02-07 16:42:51\"],[\"2022-02-07 16:47:51\"],[\"2022-02-07 16:52:51\"],[\"2022-02-07 16:57:52\"],[\"2022-02-07 17:02:52\"],[\"2022-02-07 17:07:53\"],[\"2022-02-07 17:12:53\"],[\"2022-02-07 17:17:53\"],[\"2022-02-07 17:22:53\"],[\"2022-02-07 17:27:54\"],[\"2022-02-07 17:32:54\"],[\"2022-02-07 17:37:54\"],[\"2022-02-07 17:42:55\"],[\"2022-02-07 17:47:55\"],[\"2022-02-07 17:52:56\"],[\"2022-02-07 17:57:56\"],[\"2022-02-07 18:02:56\"],[\"2022-02-07 18:07:57\"],[\"2022-02-07 18:12:57\"],[\"2022-02-07 18:17:57\"],[\"2022-02-07 18:22:57\"],[\"2022-02-07 18:27:58\"],[\"2022-02-07 18:32:58\"],[\"2022-02-07 18:37:59\"],[\"2022-02-07 18:42:59\"],[\"2022-02-07 18:47:59\"],[\"2022-02-07 18:53:00\"],[\"2022-02-07 18:58:01\"],[\"2022-02-07 19:03:01\"],[\"2022-02-07 19:08:01\"],[\"2022-02-07 19:13:02\"],[\"2022-02-07 19:18:02\"],[\"2022-02-07 19:23:02\"],[\"2022-02-07 19:28:03\"],[\"2022-02-07 19:33:04\"],[\"2022-02-07 19:38:04\"],[\"2022-02-07 19:43:04\"],[\"2022-02-07 19:48:05\"],[\"2022-02-07 19:53:05\"],[\"2022-02-07 19:58:05\"],[\"2022-02-07 20:03:06\"],[\"2022-02-07 20:08:06\"],[\"2022-02-07 20:13:06\"],[\"2022-02-07 20:18:06\"],[\"2022-02-07 20:23:06\"],[\"2022-02-07 20:28:07\"],[\"2022-02-07 20:33:07\"],[\"2022-02-07 20:38:08\"],[\"2022-02-07 20:43:08\"],[\"2022-02-07 20:48:08\"],[\"2022-02-07 20:53:08\"],[\"2022-02-07 20:58:09\"],[\"2022-02-07 21:03:09\"],[\"2022-02-07 21:08:09\"],[\"2022-02-07 21:13:10\"],[\"2022-02-07 21:18:10\"],[\"2022-02-07 21:23:10\"],[\"2022-02-07 21:28:11\"],[\"2022-02-07 21:33:12\"],[\"2022-02-07 21:38:12\"],[\"2022-02-07 21:43:13\"],[\"2022-02-07 21:48:13\"],[\"2022-02-07 21:53:13\"],[\"2022-02-07 21:58:14\"],[\"2022-02-07 22:03:14\"],[\"2022-02-07 22:08:15\"],[\"2022-02-07 22:13:16\"],[\"2022-02-07 22:18:16\"],[\"2022-02-07 22:23:17\"],[\"2022-02-07 22:28:17\"],[\"2022-02-07 22:33:18\"],[\"2022-02-07 22:38:18\"],[\"2022-02-07 22:43:19\"],[\"2022-02-07 22:48:19\"],[\"2022-02-07 22:53:19\"],[\"2022-02-07 22:58:20\"],[\"2022-02-07 23:03:20\"],[\"2022-02-07 23:08:20\"],[\"2022-02-07 23:13:21\"],[\"2022-02-07 23:18:21\"],[\"2022-02-07 23:23:21\"],[\"2022-02-07 23:28:22\"],[\"2022-02-07 23:33:23\"],[\"2022-02-07 23:38:23\"],[\"2022-02-07 23:43:24\"],[\"2022-02-07 23:48:24\"],[\"2022-02-07 23:53:24\"],[\"2022-02-07 23:58:25\"],[\"2022-02-08 00:03:25\"],[\"2022-02-08 00:08:25\"],[\"2022-02-08 00:13:25\"],[\"2022-02-08 00:18:26\"],[\"2022-02-08 00:23:26\"],[\"2022-02-08 00:28:27\"],[\"2022-02-08 00:33:27\"],[\"2022-02-08 00:38:28\"],[\"2022-02-08 00:43:28\"],[\"2022-02-08 00:48:28\"],[\"2022-02-08 00:53:28\"],[\"2022-02-08 00:58:29\"],[\"2022-02-08 01:03:29\"],[\"2022-02-08 01:08:30\"],[\"2022-02-08 01:13:30\"],[\"2022-02-08 01:18:31\"],[\"2022-02-08 01:23:31\"],[\"2022-02-08 01:28:31\"],[\"2022-02-08 01:33:32\"],[\"2022-02-08 01:38:32\"],[\"2022-02-08 01:43:32\"],[\"2022-02-08 01:48:33\"],[\"2022-02-08 01:53:33\"],[\"2022-02-08 01:58:33\"],[\"2022-02-08 02:03:34\"],[\"2022-02-08 02:08:34\"],[\"2022-02-08 02:13:35\"],[\"2022-02-08 02:18:35\"],[\"2022-02-08 02:23:35\"],[\"2022-02-08 02:28:36\"],[\"2022-02-08 02:33:36\"],[\"2022-02-08 02:38:36\"],[\"2022-02-08 02:43:36\"],[\"2022-02-08 02:48:37\"],[\"2022-02-08 02:53:37\"],[\"2022-02-08 02:58:38\"],[\"2022-02-08 03:03:38\"],[\"2022-02-08 03:08:38\"],[\"2022-02-08 03:13:39\"],[\"2022-02-08 03:18:39\"],[\"2022-02-08 03:23:39\"],[\"2022-02-08 03:28:40\"],[\"2022-02-08 03:33:40\"],[\"2022-02-08 03:38:40\"],[\"2022-02-08 03:43:41\"],[\"2022-02-08 03:48:41\"],[\"2022-02-08 03:53:41\"],[\"2022-02-08 03:58:41\"],[\"2022-02-08 04:03:41\"],[\"2022-02-08 04:08:42\"],[\"2022-02-08 04:13:42\"],[\"2022-02-08 04:18:43\"],[\"2022-02-08 04:23:43\"],[\"2022-02-08 04:28:43\"],[\"2022-02-08 04:33:43\"],[\"2022-02-08 04:38:43\"],[\"2022-02-08 04:43:43\"],[\"2022-02-08 04:48:44\"],[\"2022-02-08 04:53:44\"],[\"2022-02-08 04:58:44\"],[\"2022-02-08 05:03:45\"],[\"2022-02-08 05:08:44\"],[\"2022-02-08 05:13:45\"],[\"2022-02-08 05:18:46\"],[\"2022-02-08 05:23:47\"],[\"2022-02-08 05:28:47\"],[\"2022-02-08 05:33:47\"],[\"2022-02-08 05:38:47\"],[\"2022-02-08 05:43:47\"],[\"2022-02-08 05:48:48\"],[\"2022-02-08 05:53:48\"],[\"2022-02-08 05:58:49\"],[\"2022-02-08 06:03:49\"],[\"2022-02-08 06:08:49\"],[\"2022-02-08 06:13:49\"],[\"2022-02-08 06:18:49\"],[\"2022-02-08 06:23:50\"],[\"2022-02-08 06:28:50\"],[\"2022-02-08 06:33:50\"],[\"2022-02-08 06:38:51\"],[\"2022-02-08 06:43:51\"],[\"2022-02-08 06:48:51\"],[\"2022-02-08 06:53:51\"],[\"2022-02-08 06:58:52\"],[\"2022-02-08 07:03:52\"],[\"2022-02-08 07:08:52\"],[\"2022-02-08 07:13:53\"],[\"2022-02-08 07:18:53\"],[\"2022-02-08 07:23:54\"],[\"2022-02-08 07:28:54\"],[\"2022-02-08 07:33:54\"],[\"2022-02-08 07:38:55\"],[\"2022-02-08 07:43:55\"],[\"2022-02-08 07:48:55\"],[\"2022-02-08 07:53:56\"],[\"2022-02-08 07:58:56\"],[\"2022-02-08 08:03:56\"],[\"2022-02-08 08:08:57\"],[\"2022-02-08 08:13:57\"],[\"2022-02-08 08:18:58\"],[\"2022-02-08 08:23:58\"],[\"2022-02-08 08:28:58\"],[\"2022-02-08 08:33:59\"],[\"2022-02-08 08:38:59\"],[\"2022-02-08 08:43:59\"],[\"2022-02-08 08:49:00\"],[\"2022-02-08 08:54:00\"],[\"2022-02-08 08:59:00\"],[\"2022-02-08 09:04:01\"],[\"2022-02-08 09:09:02\"],[\"2022-02-08 09:14:02\"],[\"2022-02-08 09:19:03\"],[\"2022-02-08 09:24:03\"],[\"2022-02-08 09:29:03\"],[\"2022-02-08 09:34:04\"],[\"2022-02-08 09:39:04\"],[\"2022-02-08 09:44:05\"],[\"2022-02-08 09:49:05\"],[\"2022-02-08 09:54:06\"],[\"2022-02-08 09:59:06\"],[\"2022-02-08 10:04:06\"],[\"2022-02-08 10:09:06\"],[\"2022-02-08 10:14:07\"],[\"2022-02-08 10:19:07\"],[\"2022-02-08 10:24:08\"],[\"2022-02-08 10:29:08\"],[\"2022-02-08 10:34:08\"],[\"2022-02-08 10:39:08\"],[\"2022-02-08 10:44:08\"],[\"2022-02-08 10:49:09\"],[\"2022-02-08 10:54:09\"],[\"2022-02-08 10:59:10\"],[\"2022-02-08 11:04:10\"],[\"2022-02-08 11:09:11\"],[\"2022-02-08 11:14:11\"],[\"2022-02-08 11:19:11\"],[\"2022-02-08 11:24:11\"],[\"2022-02-08 11:29:12\"],[\"2022-02-08 11:34:12\"],[\"2022-02-08 11:39:13\"],[\"2022-02-08 11:44:13\"],[\"2022-02-08 11:49:13\"],[\"2022-02-08 11:54:14\"],[\"2022-02-08 11:59:14\"],[\"2022-02-08 12:04:14\"],[\"2022-02-08 12:09:15\"],[\"2022-02-08 12:14:15\"],[\"2022-02-08 12:19:15\"],[\"2022-02-08 12:24:16\"],[\"2022-02-08 12:29:16\"],[\"2022-02-08 12:34:17\"],[\"2022-02-08 12:39:16\"],[\"2022-02-08 12:44:17\"],[\"2022-02-08 12:49:17\"],[\"2022-02-08 12:54:18\"],[\"2022-02-08 12:59:18\"],[\"2022-02-08 13:04:19\"],[\"2022-02-08 13:09:19\"],[\"2022-02-08 13:14:20\"],[\"2022-02-08 13:19:20\"],[\"2022-02-08 13:24:21\"],[\"2022-02-08 13:29:21\"],[\"2022-02-08 13:34:21\"],[\"2022-02-08 13:39:22\"],[\"2022-02-08 13:44:22\"],[\"2022-02-08 13:49:23\"],[\"2022-02-08 13:54:23\"],[\"2022-02-08 13:59:23\"],[\"2022-02-08 14:04:24\"],[\"2022-02-08 14:09:25\"],[\"2022-02-08 14:14:25\"],[\"2022-02-08 14:19:26\"],[\"2022-02-08 14:24:26\"],[\"2022-02-08 14:29:27\"],[\"2022-02-08 14:34:27\"],[\"2022-02-08 14:39:28\"],[\"2022-02-08 14:44:28\"],[\"2022-02-08 14:49:29\"],[\"2022-02-08 14:54:28\"],[\"2022-02-08 14:59:29\"],[\"2022-02-08 15:04:29\"],[\"2022-02-08 15:09:29\"],[\"2022-02-08 15:14:29\"],[\"2022-02-08 15:19:29\"],[\"2022-02-08 15:24:30\"],[\"2022-02-08 15:29:30\"],[\"2022-02-08 15:34:31\"],[\"2022-02-08 15:39:31\"],[\"2022-02-08 15:44:32\"],[\"2022-02-08 15:49:32\"],[\"2022-02-08 15:54:32\"],[\"2022-02-08 15:59:32\"],[\"2022-02-08 16:04:33\"],[\"2022-02-08 16:09:34\"],[\"2022-02-08 16:14:34\"],[\"2022-02-08 16:19:34\"],[\"2022-02-08 16:24:35\"],[\"2022-02-08 16:29:35\"],[\"2022-02-08 16:34:36\"],[\"2022-02-08 16:39:36\"],[\"2022-02-08 16:44:36\"],[\"2022-02-08 16:49:37\"],[\"2022-02-08 16:54:37\"],[\"2022-02-08 16:59:37\"],[\"2022-02-08 17:04:37\"],[\"2022-02-08 17:09:38\"],[\"2022-02-08 17:14:38\"],[\"2022-02-08 17:19:38\"],[\"2022-02-08 17:24:39\"],[\"2022-02-08 17:29:39\"],[\"2022-02-08 17:34:39\"],[\"2022-02-08 17:39:39\"],[\"2022-02-08 17:44:40\"],[\"2022-02-08 17:49:40\"],[\"2022-02-08 17:54:40\"],[\"2022-02-08 17:59:41\"],[\"2022-02-08 18:04:41\"],[\"2022-02-08 18:09:41\"],[\"2022-02-08 18:14:42\"],[\"2022-02-08 18:19:42\"],[\"2022-02-08 18:24:42\"],[\"2022-02-08 18:29:42\"],[\"2022-02-08 18:34:43\"],[\"2022-02-08 18:39:43\"],[\"2022-02-08 18:44:43\"],[\"2022-02-08 18:49:44\"],[\"2022-02-08 18:54:44\"],[\"2022-02-08 18:59:45\"],[\"2022-02-08 19:04:45\"],[\"2022-02-08 19:09:45\"],[\"2022-02-08 19:14:46\"],[\"2022-02-08 19:19:46\"],[\"2022-02-08 19:24:47\"],[\"2022-02-08 19:29:47\"],[\"2022-02-08 19:34:47\"],[\"2022-02-08 19:39:48\"],[\"2022-02-08 19:44:48\"],[\"2022-02-08 19:49:49\"],[\"2022-02-08 19:54:49\"],[\"2022-02-08 19:59:49\"],[\"2022-02-08 20:04:49\"],[\"2022-02-08 20:09:50\"],[\"2022-02-08 20:14:50\"],[\"2022-02-08 20:19:51\"],[\"2022-02-08 20:24:51\"],[\"2022-02-08 20:29:52\"],[\"2022-02-08 20:34:52\"],[\"2022-02-08 20:39:53\"],[\"2022-02-08 20:44:54\"],[\"2022-02-08 20:49:54\"],[\"2022-02-08 20:54:55\"],[\"2022-02-08 20:59:55\"],[\"2022-02-08 21:04:55\"],[\"2022-02-08 21:09:55\"],[\"2022-02-08 21:14:55\"],[\"2022-02-08 21:19:56\"],[\"2022-02-08 21:24:56\"],[\"2022-02-08 21:29:56\"],[\"2022-02-08 21:34:56\"],[\"2022-02-08 21:39:57\"],[\"2022-02-08 21:44:57\"],[\"2022-02-08 21:49:58\"],[\"2022-02-08 21:54:58\"],[\"2022-02-08 21:59:58\"],[\"2022-02-08 22:04:59\"],[\"2022-02-08 22:10:00\"],[\"2022-02-08 22:15:00\"],[\"2022-02-08 22:19:59\"],[\"2022-02-08 22:25:00\"],[\"2022-02-08 22:30:01\"],[\"2022-02-08 22:35:01\"],[\"2022-02-08 22:40:02\"],[\"2022-02-08 22:45:02\"],[\"2022-02-08 22:50:02\"],[\"2022-02-08 22:55:03\"],[\"2022-02-08 23:00:04\"],[\"2022-02-08 23:05:04\"],[\"2022-02-08 23:10:04\"],[\"2022-02-08 23:15:04\"],[\"2022-02-08 23:20:05\"],[\"2022-02-08 23:25:05\"],[\"2022-02-08 23:30:05\"],[\"2022-02-08 23:35:05\"],[\"2022-02-08 23:40:05\"],[\"2022-02-08 23:45:06\"],[\"2022-02-08 23:50:06\"],[\"2022-02-08 23:55:06\"],[\"2022-02-09 00:00:07\"],[\"2022-02-09 00:05:07\"],[\"2022-02-09 00:10:08\"],[\"2022-02-09 00:15:08\"],[\"2022-02-09 00:20:08\"],[\"2022-02-09 00:25:09\"],[\"2022-02-09 00:30:09\"],[\"2022-02-09 00:35:09\"],[\"2022-02-09 00:40:10\"],[\"2022-02-09 00:45:10\"],[\"2022-02-09 00:50:10\"],[\"2022-02-09 00:55:11\"],[\"2022-02-09 01:00:11\"],[\"2022-02-09 01:05:12\"],[\"2022-02-09 01:10:12\"],[\"2022-02-09 01:15:12\"],[\"2022-02-09 01:20:13\"],[\"2022-02-09 01:25:13\"],[\"2022-02-09 01:30:13\"],[\"2022-02-09 01:35:13\"],[\"2022-02-09 01:40:14\"],[\"2022-02-09 01:45:15\"],[\"2022-02-09 01:50:15\"],[\"2022-02-09 01:55:15\"],[\"2022-02-09 02:00:16\"],[\"2022-02-09 02:05:17\"],[\"2022-02-09 02:10:17\"],[\"2022-02-09 02:15:17\"],[\"2022-02-09 02:20:17\"],[\"2022-02-09 02:25:18\"],[\"2022-02-09 02:30:19\"],[\"2022-02-09 02:35:19\"],[\"2022-02-09 02:40:20\"],[\"2022-02-09 02:45:20\"],[\"2022-02-09 02:50:20\"],[\"2022-02-09 02:55:20\"],[\"2022-02-09 03:00:21\"],[\"2022-02-09 03:05:22\"],[\"2022-02-09 03:10:22\"],[\"2022-02-09 03:15:22\"],[\"2022-02-09 03:20:22\"],[\"2022-02-09 03:25:22\"],[\"2022-02-09 03:30:23\"],[\"2022-02-09 03:35:23\"],[\"2022-02-09 03:40:24\"],[\"2022-02-09 03:45:24\"],[\"2022-02-09 03:50:24\"],[\"2022-02-09 03:55:24\"],[\"2022-02-09 04:00:24\"],[\"2022-02-09 04:05:25\"],[\"2022-02-09 04:10:25\"],[\"2022-02-09 04:15:25\"],[\"2022-02-09 04:20:25\"],[\"2022-02-09 04:25:26\"],[\"2022-02-09 04:30:26\"],[\"2022-02-09 04:35:26\"],[\"2022-02-09 04:40:26\"],[\"2022-02-09 04:45:27\"],[\"2022-02-09 04:50:27\"],[\"2022-02-09 04:55:27\"],[\"2022-02-09 05:00:28\"],[\"2022-02-09 05:05:28\"],[\"2022-02-09 05:10:28\"],[\"2022-02-09 05:15:29\"],[\"2022-02-09 05:20:29\"],[\"2022-02-09 05:25:29\"],[\"2022-02-09 05:30:30\"],[\"2022-02-09 05:35:30\"],[\"2022-02-09 05:40:31\"],[\"2022-02-09 05:45:31\"],[\"2022-02-09 05:50:32\"],[\"2022-02-09 05:55:32\"],[\"2022-02-09 06:00:32\"],[\"2022-02-09 06:05:33\"],[\"2022-02-09 06:10:33\"],[\"2022-02-09 06:15:34\"],[\"2022-02-09 06:20:34\"],[\"2022-02-09 06:25:34\"],[\"2022-02-09 06:30:35\"],[\"2022-02-09 06:35:35\"],[\"2022-02-09 06:40:36\"],[\"2022-02-09 06:45:36\"],[\"2022-02-09 06:50:37\"],[\"2022-02-09 06:55:37\"],[\"2022-02-09 07:00:38\"],[\"2022-02-09 07:05:38\"],[\"2022-02-09 07:10:38\"],[\"2022-02-09 07:15:38\"],[\"2022-02-09 07:20:39\"]],\"hovertemplate\":\"0=%{x}<br>1=%{y}<br>2=%{z}<br>Feature=%{customdata[0]}<br>Anomaly=%{marker.color}<extra></extra>\",\"legendgroup\":\"\",\"marker\":{\"color\":[0,0,0,0,0,0,0,0,0,0,0,0,0,0,0,0,0,0,0,0,0,0,0,0,0,0,0,0,0,0,0,0,0,0,0,0,0,0,0,0,0,0,0,0,0,0,0,0,0,0,0,1,0,0,0,0,0,0,0,0,0,0,0,0,0,0,0,0,0,0,0,0,0,0,0,0,0,0,0,0,0,0,0,0,0,0,0,0,0,0,0,0,0,0,0,0,0,0,0,0,0,0,0,0,0,0,0,0,0,0,0,0,0,0,0,0,0,0,0,0,0,0,0,0,0,0,0,0,0,0,0,0,0,0,0,0,0,0,0,0,0,0,0,0,0,0,0,0,0,0,0,0,0,0,0,0,0,0,0,0,0,0,0,0,0,0,0,0,0,0,0,0,0,0,0,0,0,0,0,0,0,0,0,0,0,0,0,0,0,0,0,0,0,0,0,0,0,0,0,0,0,0,0,0,0,0,0,0,0,0,0,0,0,0,0,0,0,0,0,0,0,0,0,0,0,0,0,0,0,0,0,0,0,0,0,0,0,0,0,0,0,0,0,0,0,0,0,0,0,0,1,0,0,0,0,0,0,0,0,0,0,0,0,0,0,0,0,0,0,0,0,0,0,0,0,0,0,0,1,1,0,0,0,0,0,0,0,0,0,0,0,0,0,0,0,0,0,0,0,0,0,0,0,0,0,0,0,0,0,0,0,0,0,0,0,0,0,0,0,0,0,0,0,0,0,0,0,0,0,0,0,0,0,0,0,0,0,0,0,0,0,0,1,0,0,0,0,0,0,0,0,0,1,0,0,0,0,0,0,0,0,0,0,0,0,0,0,0,0,0,0,0,0,0,0,0,0,0,0,0,0,0,0,0,0,0,0,0,0,0,0,0,0,0,1,0,0,0,0,0,0,0,0,0,0,0,0,0,0,0,0,0,0,0,0,0,0,0,0,0,0,0,0,0,0,0,0,0,0,0,0,0,0,0,0,0,0,0,0,0,0,0,0,0,0,0,0,0,0,0,0,0,0,0,0,0,0,0,0,0,0,0,0,0,0,0,0,0,0,0,0,0,0,0,1,0,0,0,0,0,0,0,0,0,0,0,0,0,0,0,0,0,0,0,0,1,0,0,0,0,0,0,0,0,0,0,0,0,0,0,0,0,0,0,0,0,0,0,0,0,0,0,0,0,0,0,0,0,0,0,0,0,0,0,0,0,0,0,0,0,0,0,0,0,0,0,0,1,0,1,1,0,0,0,0,0,0,0,0,0,0,0,0,0,0,0,0,0,0,0,0,0,0,0,0,0,0,0,0,0,0,0,0,0,0,0,0,0,0,0,0,0,0,0,0,0,0,0,0,0,0,0,0,0,0,0,0,0,0,0,0,0,0,0,0,0,0,0,0,0,0,0,0,0,0,0,0,0,0,0,0,0,0,0,0,0,0,0,0,0,0,0,0,0,0,0,0,0,0,0,0,0,0,0,0,0,0,0,1,0,0,1,0,0,0,0,0,0,0,0,0,0,0,0,1,0,0,0,0,0,0,0,0,0,0,0,0,0,0,1,1,1,1,1,1,0,0,0,0,0,0,0,1,0,0,0,0,0,0,0,0,1,0,1,0,1,1,0,1,0,0,0,0,0,0,0,0,0,0,0,0,0,0,1,0,0,1,0,1,0,0,0,0,0,0,1,0,0,0,0,0,0,0,0,0,0,0,1,0,0,0,0,0,0,0,0,0,0,0,0,0,0,0,0,0,0,0,0,0,0,0,0,0,0,0,0,0,0,0,0,0,0,0,0,0,0,0,0,0,0,0,0,0,0,0,0,0,0,0,0,0,0,0,0,0,0,0,0,0,0,0,0,0,0,0,0,0,0,0,0,0,0,0,0,0,0,0,0,0,0,0,0,0,0,0,0,0,0,0,0,0,0,0,0,0,0,0,0,0,0,0,0,0,0,0,0,0,0,0,0,0,0,0,0,0,0,0,0,0,0,0,0,0,0,0,0,0,0,0,0,0,0,0,0,0,0,0,0,0,0,0,0,0,0,0,0,0,0,0,0,0,0,0,0,0,0,0,0,0,0,0,0,0,0,0,0,0,0,0,0,0,0,0,0,0,0,0,0,0,0,0,0,0,0,0,0,0,0,0,0,0,0,0,0,0,0,0,0,0,0,0,0,0,0,0,0,0,0,0,0,0,0,0,0,0,0,0,0,0,0,0,0,0,0,0,0,0,0,0,0,0,0,0,0,0,0,0,0,0,0,0,0,0,0,0,0,0,0,0,0,0,0,0,0,0,0,0,0,0,0,0,0,0,0,0,0,0,0,0,0,0,0,0,0,0,0,0,0,0,0,0,0,0,0,0,0,0,0,0,0,0,0,0,0,0,0,0,0,0,0,0,1,0,0,0,0,0,0,0,0,0,0,0,0,0,1,0,0,0,0,0,0,0,0,0,0,0,0,0,0,0,0,1,1,1,1,1,0,0,0,0,0,0,0,0,0,0,0,0,1,1,1,1,1,1,1,1,0,0,1,1,1,1,1,1,0,1,1,1,1,1,0,0,0,0,0,0,0,1,0,0,0,0,0,0,0,0,0,0,0,0,0,0,0,0,0,0,0,0,0,0,0,0,0,0,0,1,0,1,1,1,0,0,0,0,0,0,0,0,0,0,0,0,0,0,0,0,0,0,0,0,0,0,0,0,0,0,0,0,0,0,0,0,0,0,0,0,0,0,0,0,0,0,0,0,0,0,0,0,0,0,0,0,0,0,0,0,0,0,0,0,0,0,0,0,0,0,0,0,0,0,0,0,0,0,0,0,0,0,0,0,0,0,0,0,0,0,0,0,0,0,0,0,0,0,0,0,0,0,0,0,0,0,0,0,0,0,0,0,0,0,0,0,0,0,0,0,0,0,0,0,0,0,0,0,0,0,0,0,0,0,0,0,0,0,0,0,0,0,0,0,0,0,0,0,0,0,0,0,0,0,0,0,0,0,0,0,0,0,0,0,0,0,0,0,0,0,0,0,0,0,0,0,0,0,0,0,0,0,0,0,0,0,0,0,0,0,0,0,0,0,0,0,0,0,0,0,0,0,0,0,0,0,0,0,0,0,0,0,0,0,0,0,0,0,0,0,0,0,0,0,0,0,0,0,0,0,0,0,0,0,0,0,0,0,0,0,0,0,0,0,0,0,0,0,0,0,0,0,0,0,0,0,0,0,0,0,0,0,0,0,0,0,0,0,0,0,0,0,0,0,0,0,0,0,0,0,0,0,0,0,0,0,0,0,0,0,0,0,0,0,0,0,0,0,0,0,0,0,0,0,0,0,0,0,0,0,0,0,0,0,0,0,0,0,0,0,0,0,0,0,0,0,0,0,0,0,0,0,0,0,0,0,0,0,0,0,0,0,0,0,0,0,0,0,0,0,0,0,0,0,0,0,0,0,0,0,0,0,0,0,0,0,0,0,0,0,0,0,0,0,0,0,0,0,0,0,0,0,0,0,0,0,0,0,0,0,0,0,0,0,0,0,0,0,0,0,0,0,0,0,0,0,0,0,0,0,0,0,0,0,0,0,0,0,0,0,0,0,0,0,0,0,0,0,0,0,0,0,0,0,0,0,0,0,0,0,0,0,0,0,0,0,0,0,1,0,0,0,1,0,0,0,1,0,0,0,0,0,1,0,0,0,0,0,1,1,0,1,0,0,0,0,0,0,1,1,0,0,0,0,0,0,0,0,0,1,0,1,0,0,0,0,0,0,0,0,0,0,0,0,0,0,0,0,0,0,0,0,0,0,0,0,0,0,1,0,0,1,0,1,0,1,1,1,1,1,1,0,1,1,1,0,0,0,0,0,0,0,0,0,0,0,0,0,0,0,0,0,0,0,0,0,0,0,0,1,1,0,0,0,0,0,0,0,0,0,0,0,0,0,0,0,0,0,0,0,0,0,0,0,0,0,0,0,0,0,0,0,0,0,0,0,0,0,0,0,0,0,0,0,0,0,0,0,0,0,0,0,0,0,0,0,0,0,0,0,0,0,0,0,0,0,0,0,0,0,0,0,0,0,0,0,0,0,0,0,0,0,0,0,0,0,0,0,0,0,0,0,0,0,0,0,0,0,0,0,0,0,0,0,0,0,0,0,0,0,0,0,0,0,0,0,1,0,0,1,0,0,0,0,0,0,0,0,0,0,0,0,0,0,0,0,0,0,0,0,0,1,0,1,0,0,0,0,0,0,0,0,0,0,0,0,0,0,0,0,0,0,0,0,0,0,0,0,0,0,0,0,0,0,0,0,0,0,0,0,0,0,0,0,0,0,0,0,0,0,0,0,0,0,0,0,0,0,0,0,0,0,0,0,0,0,0,0,0,0,0,0,0,0,0,0,0,0,0,0,0,0,0,0,0,0,0,0,0,0,0,0,0,0,0,0,0,0,0,0,0,0,0,0,0,0,0,1,1,0,0,0,0,0,0,0,0,0,0,0,0,0,0,0,0,0,0,0,0,0,0,0,0,0,0,0,0,0,0,0,0,0,0,0,0,0,0,0,0,0,0,1,0,0,1,0,0,0,0,0,0,0,0,0,0,0,0,0,0,0,0,0,0,0,0,0,0,0,0,0,0,0,0,0,0,0,0,0,0,0,0,0,0,0,0,0,0,0,0,0,0,0,0,0,0,1,1,1,1,1,1,1,0,0,0,1,0,0,1,1,1,1,0,0,0,0,0,0,0,0,0,0,0,0,0,0,0,0,0,0,0,0,0,0,0,0,0,0,0,0,0,0,0,0,0,0,0,0,0,0,0,0,0,0,0,0,0,0,0,0,0,0,0,0,0,0,0,0,0,0,0,0,0,0,0,0,0,0,0,0,0,0,0,0,0,0,0,0,0,0,0,0,0,0,0,0,0,0,0,0,0,0,0,0,0,0,0,0,0,0,0,0,0,0,0,0,0,0,0,0,0,0,0,0,0,0,0,0,0,0,0,0,0,0,0,0,0,0,0,0,0,0,0,0,0,0,0,0,0,0,0,0,0,0,0,0,0,0,0,0,0,0,0,0,0,0,0,0,0,0,0,0,0,0,0,0,0,0,0,0,0,0,0,0,0,0,0,0,1,0,0,0,0,1,0,0,0,0,0,0,0,0,1,1,0,0,0,0,0,0,0,0,0,0,0,0,0,0,1,0,0,0,0,0,0,0,0,0,0,0,0,0,0,0,0,0,0,0,1,0,0,0,0,0,0,0,0,0,0,0,0,0,0,0,0,0,0,0,0,0,0,0,0,0,0,0,0,0,0,0,0,0,0,0,0,0,0,0,0,0,0,0,0,0,0,1,0,0,0,0,0,0,0,0,0,0,0,0,0,0,0,0,0,0,0,0,0,0,0,0,0,0,0,0,0,0,0,0,0,0,0,0,0,0,0,0,0,0,0,0,0,0,0,0,0,0,0,0,0,0,0,0,0,0,0,0,0,0,0,0,0,0,0,0,0,0,0,0,0,0,1,1,0,0,0,0,0,0,0,0,0,0,0,0,0,0,0,0,0,0,0,0,0,0,0,0,0,0,0,0,0,0,0,0,0,0,0,0,0,1,0,0,0,0,0,0,0,0,0,0,0,0,0,0,0,0,0,0,0,0,0,1,0,0,0,0,0,0,0,0,0,0,0,0,0,0,0,0,0,0,0,0,0,0,0,0,0,0,0,0,0,1,0,0,1,1,0,0,0,0,0,0,0,0,0,0,0,0,0,0,0,0,0,0,0,0,0,0,0,0,0,0,0,0,0,0,0,0,0,0,0,0,0,0,0,0,0,0,0,1,1,1,0,0,0,0,0,0,0,0,0,0,0,0,0,1,0,1,0,0,0,0,0,0,0,0,0,0,0,0,0,0,0,0,0,0,0,0,0,0,0,0,0,0,0,0,0,0,0,0,0,0,0,1,0,0,1,0,0,0,0,0,0,0,0,0,0,0,0,0,0,0,0,0,0,0,0,0,0,0,0,0,0,0,0,0,0,0,0,0,0,0,0,0,0,0,0,0,0,0,0,0,0,0,0,0,0,0,0,0,0,0,0,0,0,0,0,0,0,0,0,0,0,0,0,0,0,0,0,0,0,0,0,0,0,0,0,0,0,0,0,0,0,0,0,0,0,0,0,0,0,0,0,0,0,0,0,0,0,0,0,0,0,0,0,0,0,0,0,0,0,0,0,0,0,0,0,0,0,0,0,0,0,0,0,0,0,0,0,0,0,0,0,0,0,0,0,0,0,0,0,0,0,0,0,0,0,0,0,0,0,0,0,0,0,0,0,0,0,0,0,0,0,0,0,0,0,0,0,0,0,0,0,0,0,0,0,0,0,0,0,0,0,0,0,0,0,0,0,1,1,0,0,0,0,1,1,0,0,0,0,0,0,0,0,0,0,0,0,0,0,0,0,0,0,0,0,0,0,0,0,0,0,0,0,0,0,0,0,0,0,0,0,0,0,0,0,0,0,0,0,0,0,0,0,0,0,0,0,0,0,0,0,0,0,0,0,0,0,0,0,0,0,0,0,0,0,0,0,0,0,0,0,0,0,0,0,0,0,0,0,0,0,0,0,0,0,0,0,0,0,0,0,0,0,0,0,0,0,0,0,0,0,0,0,0,0,0,0,0,0,0,0,0,0,0,0,0,0,0,0,0,0,0,0,0,0,0,0,0,0,0,0,0,0,0,0,0,0,0,0,0,0,0,1,0,1,0,0,0,0,0,0,0,0,0,0,0,0,0,0,0,0,0,0,0,0,0,0,0,0,0,0,0,0,0,0,0,0,0,0,0,0,0,0,0,0,0,0,0,0,0,0,0,0,0,0,0,0,0,0,0,0,0,0,0,0,0,0,0,0,0,0,0,0,0,1,0,0,1,0,0,0,0,0,0,0,0,0,0,0,0,0,0,0,0,0,0,0,0,0,0,0,1,0,0,0,0,0,0,0,0,0,0,0,0,0,1,0,0,0,0,1,0,0,0,1,0,0,0,0,0,0,0,0,0,0,0,0,0,0,0,0,0,0,0,0,0,0,0,0,0,0,0,0,0,0,0,0,0,0,0,0,0,0,1,0,0,0,0,0,0,0,0,0,0,0,0,0,0,0,0,0,0,0,0,0,0,0,0,0,0,0,0,0,0,0,0,0,0,0,0,0,0,0,0,0,0,0,0,0,0,0,0,0,0,0,0,1,0,0,1,0,0,1,0,1,1,1,1,0,0,0,0,0,0,0,0,0,0,0,0,0,1,0,0,1,0,1,0,0,1,0,0,0,0,0,0,0,0,0,0,0,0,1,0,0,0,0,0,1,0,0,0,0,1,1,0,0,0,0,0,0,0,1,0,0,0,0,0,0,0,0,0,0,0,0,0,0,0,0,1,1,0,0,0,0,0,1,0,0,1,0,0,0,0,1,0,0,0,0,0,0,0,0,0,0,0,0,0,0,0,0,0,0,1,0,0,0,0,1,0,0,0,1,1,1,1,0,0,0,0,0,0,0,0,0,0,0,0,0,0,0,0,0,0,0,0,0,0,0,0,0,0,0,0,0,0,0,0,0,0,0,0,0,0,0,0,0,0,0,0,0,0],\"coloraxis\":\"coloraxis\",\"opacity\":0.7,\"symbol\":\"circle\"},\"mode\":\"markers\",\"name\":\"\",\"scene\":\"scene\",\"showlegend\":false,\"x\":[1.8558065,-0.6361722,-0.25722018,-2.8176508,-2.6943195,-2.8270612,-2.3135612,-2.4433353,-2.8742723,-2.3135612,-2.8742723,-0.07618324,0.04030989,0.03969515,-0.032572523,-2.7075908,-2.375886,-0.35689628,-0.30105194,-0.5419905,-0.54305863,-0.539787,-0.254256,-0.5371252,-0.14333932,-0.4038604,-0.80127436,-0.80184686,-0.9445501,-0.9445579,-1.1202507,-0.80887616,-2.8063056,-2.8536918,-0.5688313,-0.6906758,-0.51584226,-0.6031183,-0.92681044,1.8881555,1.8881555,-0.8474077,1.8981764,1.8981764,-0.9437898,1.8539013,1.8977354,1.8942555,-12.005553,13.93387,13.828336,13.499841,-12.259845,12.912666,-12.2430105,14.509601,13.187826,13.761678,-11.552833,12.897645,-10.9398575,-11.309639,-9.566259,11.350123,-22.102306,13.4941435,-20.532196,14.53032,-20.512672,-20.326975,15.133295,13.78374,-20.895988,-21.91744,-2.8408089,-22.747704,-22.652819,10.868249,-22.067106,-22.608126,-21.919512,12.042507,-21.909357,-21.650734,-22.691748,-22.746027,9.757577,8.920386,-22.802105,8.636353,9.453929,10.204195,10.55712,11.468972,11.468972,10.489819,13.072473,-20.693464,-4.204113,-20.19429,-4.5936995,-20.148083,-20.148083,-20.564741,10.869166,10.832148,-22.997105,-23.390816,7.8984013,-6.4514556,-23.27703,-6.428685,8.318436,-6.9039664,8.27026,-6.898466,-23.088072,8.921609,-23.15456,8.976516,-1.9998145,-2.1682193,9.450035,9.450035,9.506812,8.6213875,8.417015,8.755182,8.755569,-22.92721,9.787042,-22.356665,-22.356903,-22.043571,-3.018588,-3.2850463,-3.419187,-3.419187,-3.5513473,-3.891834,-3.8922422,-7.1279006,-7.5304084,-4.8125134,-4.834298,-7.0992374,-7.10051,-6.9441504,-6.8361335,-4.0677342,-4.0457845,-21.186869,-21.479116,-21.217264,-21.516346,12.646606,12.5974,12.224316,12.222821,12.147615,-9.330527,-9.8894005,-9.885316,-9.885316,-10.455902,-10.452015,-10.4395275,-10.4395275,-10.434444,-10.434444,-10.932313,-10.929333,-10.960384,-11.352613,-11.950688,-12.0620775,-12.06092,9.274779,9.222644,8.982175,8.626236,8.630042,8.206812,8.199253,7.6536913,7.4535265,6.77024,6.8571725,6.0459065,6.2212763,6.2212763,5.3669252,-10.703787,5.356533,5.359415,5.357948,4.6360035,-9.412143,4.639031,4.639031,-9.402924,-8.50589,3.8881922,3.8772845,3.283102,3.2073658,-7.3260794,-7.4941587,-8.448301,-7.305623,-7.304923,-6.4486785,-6.2159014,-5.2761836,-6.470479,-4.966575,-4.9662724,-4.9662724,-3.787048,-3.7528899,-3.787045,-3.772152,-2.5674875,-2.3062835,-2.5609653,-2.3062835,5.0083575,-2.3062835,-0.4099392,-2.6075225,-0.4088257,-0.39013702,1.3693963,1.3679963,-0.40931764,1.3647857,1.3688946,1.4077847,2.150262,3.6574364,1.907937,4.981489,3.950231,3.948986,3.252719,1.1801974,0.6925629,3.6440742,-4.379518,1.3204011,9.199051,5.179598,-11.705849,-16.064156,-17.073948,-7.177927,-7.178859,-10.761314,-8.935198,-8.390099,-10.762258,-12.882484,-12.701463,-12.567601,-11.789581,-12.766037,-10.822527,-12.5201435,-12.819067,-13.1356535,-10.879307,-13.438636,-12.709021,-12.450174,-12.209184,-13.168169,-13.103947,-11.730666,1.1046365,11.389583,1.5099089,7.4757686,8.26175,-10.1497755,7.462824,-10.412849,6.3613214,-12.085584,5.5149326,3.0482562,-13.722607,-15.443065,-12.503825,-10.985813,-10.1641,-11.737479,-12.809047,-13.279338,-13.275902,-13.276682,-13.780157,0.9849942,3.6093385,5.1832776,-10.348389,3.6732836,3.10671,-11.824589,2.6696002,3.1309607,2.2728174,2.3145123,6.819614,1.9907675,2.178671,6.4010367,6.381005,7.3578525,6.363197,7.3860617,7.347456,7.358565,7.358565,8.542616,9.2544,6.4328103,8.561264,-9.779192,9.254732,9.262207,8.56222,12.164225,12.242036,12.242036,9.261323,12.416066,12.164709,12.416068,14.358167,12.416068,1.2331288,0.35457534,13.433951,12.547947,12.340435,12.892207,12.571311,12.835983,13.001731,13.001731,12.644294,12.964998,13.462173,14.356572,14.073677,-9.573564,14.346522,12.547947,14.347151,14.063301,14.069223,14.0648775,14.070298,14.069225,9.323862,-9.421769,0.7738581,12.936904,-9.10375,-8.912756,8.190085,8.265364,8.287187,-10.96966,-8.022719,-3.6342058,-4.3529124,-5.730973,-7.016873,-7.9396133,-9.097131,-10.491198,-12.765204,-9.935558,-13.231294,-13.205572,-13.135092,-13.014676,-11.524654,-11.86673,-12.348521,-14.589443,1.199047,2.0963702,4.9859214,4.068208,1.1255037,4.239375,3.9583685,6.6337323,2.6858985,3.1596553,2.6833658,2.6494675,2.6120987,2.6581993,2.2439086,2.2439086,2.865299,1.8424886,2.2469282,2.208221,2.1715803,2.6372583,2.1229863,-11.481042,-11.480843,3.4311388,3.4310923,-11.416355,3.4263387,3.4154189,-10.961122,4.403338,5.484109,-10.408132,4.496806,5.1031456,4.469769,5.583034,-10.956371,5.483523,5.6058316,6.334997,-10.019649,-10.055866,-10.60939,-10.056502,-10.05823,-10.01779,6.324139,-10.086098,6.3423347,6.403289,1.5480237,6.4160805,6.403288,7.324888,6.403288,9.341508,9.26663,7.8126674,1.1570845,9.299377,7.3157063,1.4754958,9.2946615,7.2748823,1.1869968,1.1869968,9.2997465,13.041439,9.305689,9.34789,1.1775148,1.2150903,12.566453,0.37732247,12.376941,12.376941,0.36226198,9.647614,0.4055677,12.6276655,12.018108,-0.4396119,0.3696779,12.788263,12.815277,0.47080868,0.37206048,12.815277,-0.35442504,12.788263,1.214476,13.88832,0.42020592,13.9802065,0.4128849,13.894662,12.904253,13.963612,13.960027,0.40699312,-0.34502932,12.036406,13.907284,-0.35033354,-0.40005085,-0.3469537,-0.4008571,0.27483642,-0.35033354,0.2835643,-0.905915,13.399869,0.4720306,-0.36435583,-0.35530737,0.4720306,-0.3578739,-0.3611718,0.39638096,-0.8910845,-0.36198962,-0.37106347,-0.45977604,13.354339,-0.4695474,-0.80119944,0.47865495,1.2500814,0.49145263,0.4914527,1.324517,1.0867486,-13.5756855,1.8671185,1.33196,2.8402672,2.2765782,-11.705291,-10.86008,-10.374916,4.1799827,3.7414184,2.795447,5.1240473,6.475849,7.350189,-9.19995,7.36332,6.4949846,7.3945208,-9.198977,-8.762356,6.4645896,7.7484426,-9.200801,7.74538,7.7517576,6.4776154,-9.20742,-9.203105,5.6839757,5.0464926,-9.865393,-9.847961,5.6663837,4.0796413,3.6573162,-9.873655,4.9493003,-9.889231,3.572886,-11.039638,-10.494465,-11.258565,2.8629487,2.6915202,-11.303607,2.6557534,-11.273545,-11.313387,-11.979922,-11.997429,-11.969667,-11.827838,-12.007565,-12.007563,-12.794452,1.4538143,-12.840388,17.078365,-13.859865,-13.577371,-14.844351,-14.828907,-14.828907,14.363592,-14.986895,-14.986895,-15.777587,-15.770943,-15.777588,13.987196,-15.834939,-16.74347,-16.917774,-15.801732,-16.915651,-18.068996,-16.918713,-18.106798,-16.916136,13.500211,-18.069204,-18.106798,13.500211,-18.106798,-18.069204,-19.317137,13.516113,12.88104,13.525187,-18.47831,-18.100548,-19.643808,-18.100548,-18.10648,-18.14611,-18.464333,-19.347858,-18.133492,12.939148,12.939149,12.967214,-19.364487,12.925296,-19.373709,12.972914,12.592266,-19.384218,-20.384888,-19.706915,-19.43081,12.308971,-20.418818,12.984672,12.324988,12.358048,12.330707,-20.664738,-20.664738,12.350013,12.350012,-20.675482,-20.675482,10.999499,11.001903,13.341774,10.999499,-21.179083,-21.179083,12.110295,11.001903,9.313491,11.002851,11.15487,9.291528,12.2431,-21.477507,12.244272,11.010364,12.2431,11.010472,12.171667,9.258937,9.258938,9.241328,11.192226,11.158394,9.223693,9.220093,6.4212613,11.158394,11.042234,5.5737677,9.220093,5.6666155,5.6666155,5.646231,5.64634,5.891418,5.8112216,5.6666155,5.891418,6.0206985,5.934046,6.426699,6.424112,-21.601976,8.86183,-21.598705,6.4255877,6.3270636,6.3270636,6.3270636,6.0618515,10.8356495,6.0618515,10.8356495,6.4255877,5.995382,11.224509,6.0618477,6.3270664,6.373997,6.1647806,6.392321,6.1647806,9.113312,11.132083,9.113285,11.190934,8.861055,8.86013,10.700979,8.860401,10.762674,11.168477,11.1682625,10.710799,10.763297,10.798453,10.796395,11.138784,10.795127,11.138784,10.795127,10.795127,10.795127,12.601924,9.119097,12.674889,-21.233679,9.119097,10.54366,9.119077,10.54366,12.711877,12.650745,12.650745,13.197217,13.197217,9.096895,11.12527,11.12527,12.711746,12.650745,12.711747,13.599367,13.589558,13.589557,12.745986,12.693023,10.5593815,8.864844,13.604015,13.604015,-20.850628,12.866662,14.57302,14.604977,13.791142,-20.126282,14.564757,14.588777,14.588777,14.573354,-20.1074,-20.1074,-20.143028,-20.143028,13.840032,14.573353,-19.190617,15.106287,13.787604,13.811676,15.119619,15.092175,-19.925392,-19.159725,15.119621,15.122078,15.119621,15.11962,15.409423,15.400483,14.902622,15.414467,15.438902,15.433128,15.403946,15.4249525,15.190946,15.547203,15.548493,-16.101856,15.421721,-17.109,-16.10988,15.550959,15.428562,-16.108446,15.564856,15.550959,-16.108446,-15.208175,15.968219,-14.3192835,16.715683,-14.3192835,16.675648,-13.647508,16.634764,16.745846,16.54916,16.745846,16.654984,17.144833,16.522419,17.647173,-11.368865,-11.368747,2.661403,2.661403,2.5670362,2.5521088,-8.9981365,2.4958797,-8.996488,-9.555459,-9.006765,-8.340499,18.091805,-8.322613,18.972736,-7.3090215,0.8546901,-6.050365,19.77166,-7.4512825,-6.0297694,-6.0297694,-5.970098,-6.0852904,-0.36965942,-4.698659,20.09956,-4.712618,-4.742517,-4.7686825,-4.7323127,20.230043,-3.2667122,20.246645,20.994522,20.79159,20.347042,20.347042,20.348381,20.781395,-2.0854871,20.78217,20.35064,-1.9536822,20.338068,20.35064,20.78217,20.35064,-2.0478795,-2.058992,20.639002,20.7937,-3.516492,20.434076,20.254744,20.41611,20.40915,20.13523,19.855911,19.840368,19.84069,19.566137,19.54336,-7.176911,19.565357,-7.181049,20.095663,20.095282,-7.2021804,19.14469,-8.085519,19.62536,19.147203,19.147203,19.147203,19.338863,19.127571,19.337534,18.849136,-8.928902,18.853905,19.338863,19.338863,18.98344,18.96883,18.526636,18.518269,18.518269,-9.566785,18.396889,18.396889,18.372301,18.373117,-11.428897,18.074268,-11.428897,18.074326,18.68434,-12.041053,-11.972108,-11.994244,17.566982,17.994722,17.985353,17.98451,16.556553,17.2124,17.198908,17.201124,16.551252,-12.74708,15.696012,-14.384435,16.550777,-13.734188,16.218966,16.574104,-14.347339,16.571812,16.214622,16.242098,1.9801868,16.7278,16.250257,16.821342,16.796906,16.723976,16.242098,16.242098,16.242098,1.7861196,16.21462,16.58226,1.7861196,1.7859995,1.8130277,-13.644675,16.675648,16.737196,15.71103,15.708884,1.4938617,16.53845,16.58226,1.4938501,17.159092,1.8117571,17.14867,17.14867,17.14867,17.579935,1.4938501,17.58013,1.055802,17.58013,1.0558023,17.579935,17.14867,18.146927,17.58436,17.61808,17.58564,1.0878415,17.58436,17.897867,17.878061,17.87772,1.055802,17.897758,0.45350406,17.897758,17.897758,0.4801054,17.897758,17.897867,0.5186853,0.4804312,18.602398,17.897867,-0.25070572,17.898169,18.201332,17.744995,18.202917,-0.15146519,-0.2535143,18.205387,-0.16374026,18.205387,18.205387,-1.1112,18.41118,-0.26531702,18.205107,-0.25546753,-1.1400452,-1.1400452,-1.15119,-1.1142651,-1.1504918,-1.1292285,-0.30974668,18.889326,-1.1142652,-2.1083248,-1.871514,-1.111201,18.513815,18.41118,-1.0471903,-1.871514,-1.871514,-1.111201,-2.0604634,18.513815,18.513815,18.535942,-2.1092532,18.535942,-1.8775473,-2.0476806,-1.8775494,-2.1092532,-2.1092532,18.076683,18.557383,-1.9719496,-2.112749,-2.6342661,18.896101,18.87964,-2.6358144,18.45536,19.370989,-7.3740053,19.369682,18.943005,-2.9401786,19.3698,19.36736,19.36736,-6.0433598,-7.3578844,20.238232,19.756327,19.999556,19.756327,19.756325,19.756327,-5.9748588,20.231783,-3.0738382,-4.6989512,20.031406,19.684113,19.151295,2.5425143,-8.465661,19.077642,0.16844319,-0.067596056,20.2632,-3.0779188,-4.1944456,-2.8429213,-2.8426964,-2.8479474,1.2271994,20.712467,-1.9934883,-1.985643,-1.6249443,-1.2773992,1.925116,1.8849694,1.7093798,1.70064,1.4908845,1.4127994,1.3341562,1.1301196,0.37654698,0.0048498623,-0.22716635,-0.40862548,-2.2500336,-2.522562,-3.1649046,-3.5306618,-1.9461969,-1.9479674,-1.9594276,-2.0089047,-2.2724993,-2.357629,-2.2082374,-2.3590903,-2.3591287,-2.35902,-2.3589714,-2.4207122,-2.3578355,-2.4247942,-2.67975,-2.7013226,-2.766781,-2.831093,-2.74915,-2.7270422,-2.7709365,-2.555737,-2.6087098,-2.4295983,-1.1002293,0.9740366,3.6819577,-24.135529,7.8968725,-23.130625,-22.084164,11.883732,-21.990149,-21.738089,-3.1573582,-3.2219317,-3.3050199,-5.4649367,-22.361816,-2.5918345,11.322398,-8.51108,10.500245,-8.224851,-7.3949804,-7.8643384,-7.355332,-7.2795696,-7.029254,-7.031679,-6.985471,8.619394,-6.6429205,8.478861,-6.415652,8.503593,8.509045,8.516409,-6.533698,-6.2742743,-8.43112,1.4199752,8.525167,8.496822,8.515625,8.506436,8.496823,-11.504979,-11.165705,-11.6747055,7.3698134,-11.477212,-11.702202,-11.480814,-11.287206,-11.601198,-10.826498,-10.826498,4.440237,4.4345365,-9.2956505,-9.29565,-9.620128,-8.707565,-9.001355,-8.407423,-8.407422,-7.406973,-6.2810974,-6.398379,-5.002006,-5.1167784,-5.208525,-3.9719222,-0.47014195,-3.7609544,-2.745551,-1.4870106,-1.4870102,-4.777968,-4.772413,-4.788268,-0.49873036,0.6127059,0.5820773,-5.987443,0.6717221,-7.271601,-5.988945,0.5848774,-7.4614835,-5.9909678,0.7785932,0.77859354,0.7770171,0.770828,0.76864153,2.5411334,1.5071585,2.5411937,0.78423446,-7.2862406,-7.441514,0.76556873,0.78048974,-8.217632,1.5048009,-7.463095,-7.2912536,-7.476292,-7.476381,-7.476292,0.7780824,-6.1549506,-6.004722,-0.27516052,1.4992477,-0.27151087,-0.27150527,-0.27151087,1.4992378,-4.761982,-0.33408755,-4.778897,-0.23844346,0.542444,0.65905845,5.4692335,-0.10068128,4.4788284,2.8488173,1.8344549,1.5399185,5.009344,4.686332,-0.39037365,0.6081408,-4.745644,-0.09293438,5.6519628,-2.4362514,-2.376909,-1.9717786,-3.1022599,-0.71478313,-1.7944732,-1.7203065,-1.7275072,-1.7314882,-0.6696982,-1.658442,-1.5446254,-1.6649333,-0.6715114,-1.7120318,-4.0951357,-0.67194474,-3.009233,-0.4588171,-1.381264,-2.9889894,-2.8170614,-3.992014,-3.992014,-0.64102775,-0.6689744,-3.7611334,-3.7577338,-3.713034,-3.7130344,0.35160756,-4.839409,0.35160756,0.35739845,-6.2579136,2.1860275,2.2495503,2.2344878,2.2495503,2.1884859,-8.423794,2.9000678,-9.606822,3.582164,4.3110495,3.6156282,1.9268024,-10.183647,3.6227953,4.3851075,5.146663,5.149649,1.893785,5.13458,5.1450295,1.8392591,1.8396294,5.8325143,6.961987,7.3275986,7.176412,7.5275702,7.527161,1.742712,7.3380213,7.9350405,1.6375542,1.6377038,8.619703,8.461636,1.5702332,1.4985162,8.581732,8.582923,8.582923,8.518386,8.518386,8.518386,8.448523,8.448523,8.351268,8.3513365,8.353373,8.353004,8.231222,0.95406175,8.078334,8.076628,8.077801,8.077599,7.872345,7.8699713,0.7915342,7.605717,7.5860744,7.3335285,7.145049,7.159604,0.3123936,5.6674733,5.667968,0.16306663,0.16306663,5.69073,4.581864,-0.1808009,-0.18063426,-0.18636075,2.7315629,-0.18822156,3.0877118,-0.18813132,-0.18320163,2.704868,3.0863972,2.6681538,-0.41513792,0.5259701,-1.2155151,0.46123943,-0.87845534,-0.41830927,-0.64934975,-1.2990081,-2.4153001,-2.432155,-3.1467886,-3.1400867,-3.7746127,-3.7748744,-3.781851,-4.3333354,-1.5350579,-4.340886,-1.6872559,-4.8514504,-5.2665114,-5.581373,-5.7013226,-4.1819334,-5.851784,-5.9931097,-6.1104174,-6.087969,-6.0849605,-6.1606293,-6.081783,-4.202948,-6.057611,-5.936174,-6.0561895,-6.094962,-5.9887543,-5.9355497,-5.9599433,-5.9599466,-5.949993,-5.9220114,-5.831188,-5.830943,-5.947608,-5.947925,-5.6835546,-5.8305235,-5.577671,-5.8298464,-5.574373,-5.574373,-5.682803,-5.2590055,-5.679658,-5.325326,-1.8070016,-5.250907,-4.859827,-5.2558446,-4.857892,-4.872958,-4.863064,-4.8597393,-1.5358151,-4.361399,-1.5354499,-4.386327,-3.7956018,-3.8011537,-3.0863552,-2.1787379,-2.1787016,-2.2462254,-0.89987206,-2.2403698,-1.1991773,-1.1826572,-1.251489,-1.1937625,-0.6628499,0.8981833,-1.2186781,0.51723933,0.5172396,-0.43740848,0.5172395,-0.43343064,0.91560346,-3.8752785,-4.2410736,-3.9968002,-3.8878703,0.58117086,-3.9021285,-3.8900073,-3.9631956,-3.887872,-4.3291655,-3.3394618,-3.3161747,-3.8765745,-3.875724,-3.85972,5.46756,-3.3424115,-3.8589604,-3.3424115,-4.045736,-3.8721945,-4.045736,-4.045736,-4.0449276,-4.3391976,-4.057944,6.566546,5.7332497,-4.3404913,-4.6862593,-4.340842,7.073439,-4.348057,-5.1827636,-5.1797085,-4.3443184,-4.3830905,-5.1668434,-4.654317,-5.1345344,7.240764,7.2349825,-5.123679,7.594644,-4.701306,-4.720602,-5.1957984,-5.2113686,-5.2113686,-5.2113686,7.5942135,7.5942135,7.213422,-4.785221,7.065053,-4.737228,7.2053022,-4.737228,-4.737228,7.204459,-4.3470387,-4.761672,6.5310144,6.5310144,6.539356,6.4617968,6.452254,0.31172425,6.460701,6.539356,-3.769816,6.4617968,5.705185,4.52785,5.6806827,-4.0335445,-3.4326572,5.6811223,3.149859,4.529173,-4.009769,-4.009769,3.149857,3.0856788,4.4040375,4.52785,-4.009769,3.1908913,-4.0056357,2.7462108,3.1455374,3.1455374,-3.9040768,3.182763,-4.4761677,3.144482,3.144482,-3.9009717,3.081787,3.142552,3.2174048,-3.895854,2.743831,0.62437737,3.143802,2.7438447,0.62437737,0.62437737,0.62437737,-3.8987527,2.743831,-3.919513,0.5883294,0.5962786,0.61500734,3.1425557,-3.8800411,0.5926596,0.6150519,0.59164166,0.59164166,0.5797544,0.5889963,0.5916416,0.55522895,0.55522895,-3.5840216,-3.5818868,-3.5864825,-1.0635026,-3.6494403,-3.7436554,-3.8270872,4.6909995,5.300076,-3.403521,0.20241615,-4.5591593,5.293871,4.62833,-3.7373345,-4.041103,-6.572432,-6.3743362,-4.388873,-4.6424227,-4.173558,-4.175018,-2.439611,-2.281697,-4.1936126,-3.5698829,-4.596345,-4.209381,-4.2701693,-2.403732,-4.4297533,-4.645126,-4.6902,-4.280069,-4.6811094,-4.4333143,-4.3617506,-4.456043,-4.445665,-2.2795954,-1.9677684,-4.8075986,-4.810406,-1.4242266,-4.3922153,-4.386999,-1.7860304,-2.1318443,-4.4618,-1.9694213,-2.2812326,-4.2634993,-4.644327,-2.3975046,-4.643105,-4.1899495,-2.2791739,-2.4292178,-1.7851756,-4.398495,-1.2566574,-4.3940372,-1.2548286,-4.3908944,-1.2543793,-2.6801317,-4.3806148,-4.379991,-2.498535,-2.1469972,-2.5565336,-2.7147446,-2.499289,-2.6878617,-2.2710986,-2.0228217,-1.4250137,-2.0212264,-0.92602026,-1.8359722,-1.7287643,-1.7599651,0.17097083,0.16195163,-1.8685265,0.14085013,-1.8703697,0.139716,-1.871549,-1.9013823,-1.86909,-1.8690982,-1.8995367,-1.9019082,0.14025865,-1.8686743,-1.8710939,-1.8687122,0.14288539,0.14619389,0.14619389,0.05229978,0.0896959,0.052299324,-0.023893848,0.08934238,-0.07970512,-0.07558244,-0.07971391,-0.07971391,-0.34113598,-0.6854345,-2.429249,-0.62178373,-0.94086564,-0.9410486,-2.697782,-3.4274147,-2.9059522,-3.6035187,7.0895333,-4.0459266,5.896002,5.89371,7.281312,7.408088,7.0844593,7.4446874,7.290815,7.2763715,7.290815,7.4420323,7.4420323,7.290815,7.3206234,7.5308027,-5.185092,7.2465844,7.2059474,7.319648,7.4131103,7.2274694,7.2274694,6.8669577,6.986035,6.8288093,6.6319227,-5.0549693,-5.4517393,-4.8344703,-5.240046,-2.5819004,-5.2402782,-5.1026206,-2.5968647,-5.2395563,-5.241823,-5.6418686,-2.3681333,-4.8381863,-2.5951583,-5.241823,-4.8259788,-4.836059,-4.4041023,-4.822951,-4.4033375,6.5223126,6.476538,6.6109967,6.7935166,6.532762,6.7997146,6.6110425,-5.0456147,6.709473,-4.3981705,-4.4814916,-3.7534382,-3.54245,-2.8648405,-2.6720688,6.8409963,-2.6136193,-3.0470424,-3.0690193,-2.5980937,-2.672069,-2.6127005,-2.6720686,-3.0475123,-3.4007595,6.7965474,-3.2855427,-3.2947066,-3.2970252,-2.8648365,-3.2861402,-3.2861402,-2.676861,-2.8455877,-1.2933624,-0.6041027,-24.224123,6.9277453,-23.904167,-0.61521345,-1.1808428,-1.0762225,-0.6153382,-23.902925,-24.217028,-24.232933,-1.051491,-24.2134,-24.358232,-23.931776,-0.6124106,-23.930481,-0.8741203,-1.1750286,-23.87454,-23.761703,-2.2771764,-0.79535013,-0.8208556,-0.4611033,-23.874537,-24.223082,-23.868042,-24.220514,-23.948788,-0.45477962,-0.45916662,-0.46055686,-0.8706014,-2.4549656,-2.3590155,-2.3817291,6.8240037,-2.4204626,-2.4010463,-2.3373387,-0.31197044,-0.93527186,-3.5860167,-3.652238,-5.032236,6.867484,-4.7491093,-4.7629147,-4.7634697,-5.2359133,-2.6651154,-6.259311,-2.9687867,-6.2804885,-6.2510853,-6.28137,-6.2697487,-6.6474795,-6.6288977,-7.2897635,-7.503825,-7.2680106,-7.6676006,-7.2656593,-7.5295763,-7.339405,-5.3478723,-7.659335,-7.278245,-7.494485,-4.602277,-7.991854,-5.3476777,-19.877388,-4.603701,-3.6375055,-21.048975,-8.476769,-6.296271,-7.9951587,-8.828173,-8.380054,-7.98612,-9.147676,-8.370532,-8.559855,-8.73328,-7.9780655,-8.010304,-7.877076,-10.014704,-10.375205,-10.746589,-8.086035,-11.508733,-9.333081,-9.922258,-9.106731,-11.376103,-7.7978873,-18.143751,-17.499294,-17.180695,-11.451269,-11.307126,-11.070982,-11.451132,-11.496066,-11.698369,-11.580512,-15.964254,-16.417635,-16.827522,-10.489821,-17.168093,-17.191809,-17.216795,-17.6994,-8.7513275,-17.6994,-8.719302,-8.565639,-17.72091,-8.116336,-17.713734,-17.737535,-17.764008,-17.763544,-7.9943657,-7.970576,-17.967707,-8.363674,-8.491313,-8.364062,-8.365383,-8.46841,-8.812691,-8.4437275,-8.811966,-9.075981,-8.811967,-8.811966,-8.803266,-11.351208,-9.072833,-11.437042,-11.33465,-11.477574,-11.569825,-11.410093,-11.41328,-11.41328,-11.580864,-11.583398,-11.14124,-8.745159,-11.209076,-11.614459,-11.595421,-11.411766,-11.052269,-9.258255,-11.397178,-9.754774,-9.991918,-10.0978565,-16.42909,6.0815654,6.155238,7.162527,-4.157949,-2.9676788,-2.978821,-2.2534764,-2.283106,-1.7851913,-1.8069391,-1.937892,5.997287,-1.7217491,-1.4920956,4.9188175,1.5078602,3.815525,3.8177714,3.6684422,2.9316597,2.072375,2.8434756,2.6973774,2.1891758,2.6950648,2.6760464,2.6391172,1.8351948,7.6224,1.8157734,-2.59753,5.757884,1.9073316,-2.5975704,-2.3135612,-2.3666563,-2.3135612,-9.686302,-10.35447,5.1794257,-10.175211,-10.858873,3.3666658,2.0101519,7.945447,6.1311746,3.8461213,7.956708,6.251963,6.2611237,6.1184697,6.1150002,5.8084755,5.342009,1.0618682,1.1204537,1.1812696,1.34569,1.0389091,1.180085,1.1972128,1.376566,1.0625999,1.1975318,1.1975318,1.6462833,1.6452886,1.455813,1.798154,2.2666056,2.2562845,2.0384705,2.2924116,2.333212,2.388729,2.3389704,2.3389702,2.3448832,2.3389704,-11.2835245,2.3392172,1.8525532,-11.78432,1.8424633,-11.76994,-11.5733185,-11.899267,-8.462191,-0.75439924,5.64375,-9.445824,-9.192144,-9.230034,-9.230033,-9.299,-9.252873,-9.01424,-8.765524,12.362461,12.341022,-0.5484741,-0.54171306,-0.5576784,-0.554602,-20.68682,-11.581904,-13.8107,-9.640258,-9.582377,-9.580387,-9.585471,-0.4550084,12.188196,12.195056,-0.5067389,-0.41473457,-15.735233,-15.895853,6.0068035,2.295503,-11.75983,4.5356193,-12.075841,-12.133319,4.089456,4.190072,-11.314546,-10.944852,-14.5603075,-14.625403,-14.607537,-14.607641,-14.614239,-14.597736,-14.614899,-10.352206,-13.553944,1.1533631,-12.807576,-12.784735,5.983154,5.042795,5.453409,5.071228,-10.646035,5.0465403,5.0475073,-10.857478,-10.857478,-11.218275,-14.442926,-14.420504,-10.901308,-10.940909,-14.465608,-10.854073,-14.488977,-10.774938,-11.17472,-14.368734,-11.176947,-10.59259,5.5316124,5.9488854,5.914999,6.346136,6.2339683,6.2359824,7.368134,-9.910699,5.9009132,7.2930675,-9.031682,-8.706892,-8.705386,-8.660631,-8.577971,-8.577245,-15.368927,-8.522757,-8.609468,-8.70145,-15.094736,-15.065706,-15.150094,-9.030849,7.229417,-9.028637,5.8298807,6.863718,6.9274917,-15.14177,7.051154,-0.46484742,-0.5000961,-14.155363,-14.638839,-14.658195,7.002725,5.796739,-8.690861,7.0356736,7.0356646,7.090665,7.9157434,6.839834,7.0306,7.0306,5.786375,7.0306,5.796748,5.45608,7.0306,5.5985746,5.786375,5.80541,-8.55611,5.8066554,5.8412037,5.806378,5.793227,5.544473,5.6182127,6.962256,5.8068957,7.0576944,7.028948,-0.41309735,5.862935,5.943127,-0.28655645,5.621332,0.018298464,0.02208026,0.024799734,0.24159175,0.12755945,-0.032910097,6.993455,5.9830317,0.02176386,5.950512,0.0143397935,0.17327477,0.23340486,-12.434111,0.17457786,-12.542562,16.17974,-0.23325247,-12.510439,-0.04223733,16.182024,16.179667,-13.033125,-13.408136,0.052060436,16.05902,-13.460278,-13.001206,-0.07437365,-12.962383,16.159725,-12.530508,-12.575655,-12.523855,-12.605531,-2.4433353,-2.3666563,-2.768334,-2.3135612,-12.113069,-12.11307,-12.102601,1.6917243,1.7666318,1.6772726,-9.105344,1.3201102,-8.716525,1.3232603,-8.624342,1.348703,-5.7776093,-2.3929236,-2.4502363,-3.1809714,-8.165117,-2.8642135,-2.3666563,-7.351189,1.3983516,-1.7763308,-2.6417992,-2.640826,-0.89497787,1.408641,8.862357,13.455875,12.870876,13.510713,-12.071245,-9.850842,-11.741029,12.400555,10.120153,10.089456,-6.7712107,-10.858083,-10.8607025,6.4819746,-11.944759,-12.161307,7.714209,7.061027,-11.941418,-11.948154,-11.948154,-11.946391,-12.043933,12.92423,-1.3940244,-1.5542629,-4.3735914,-8.277033,-8.573445,-7.4756885,-7.601353,-8.831123,-9.165854,-7.338171,-6.462815,-20.665894,-12.048949,-12.049344,-11.941966,-11.993992,13.148463,8.808666,-11.815507,13.150151,13.173942,-12.033306,-9.422567,-10.351275,-20.586905,13.768741,-5.3226233,-20.278862,-20.036528,-20.594189,-7.8353868,-6.7662997,-7.6113467,-7.6386447,-9.56554,-11.080451,-7.4755535,-10.453678,-7.941364,-6.3240914,-8.734213,-8.417118,-11.077348,-11.068841,-10.330174,-11.169378,-12.715002,-12.699821,-8.877714,-8.85635,-10.414832,-14.160119,-12.744103,-12.433647,-11.564679,-13.01899,-13.028019,-16.071276,-14.881065,-12.366539,-14.873713,-12.705292,-15.927318,-13.178428,-10.099814,-9.924176,-15.242516,6.191588,-11.638409,-12.795398,-13.154236,-13.02691,-12.698748,-12.529553,-11.8031025,-13.072276,-12.885988,-11.968263,-15.522255,-15.172409,-11.70518,-12.034669,-11.878001,-12.885458,-11.748946,-15.915381,-16.773636,-12.499931,-11.765588,-12.207681,-15.498482,-16.356668,4.6558404,4.862223,4.4098287,4.6203065,3.930563,-15.331168,-15.352951,-15.082165,-15.079504,-14.670186,-14.921375,-14.711135,-14.446564,5.4272885,5.6940274,5.642496,0.5983836,1.3153539,-13.265127,4.0012617,3.9091346,4.0504265,1.6893843,1.4121462,1.7271699,1.689475,1.586486,1.0940849,1.1081724,0.7453981,-6.3051844,0.798285,0.8917801,1.4905916,1.5446503,4.054199,3.55571,3.9665656,3.807906,2.1514387,6.139441,6.1530643,5.7798023,6.141988,-7.5435777,-7.617162,5.819505,-7.7374997,1.4691268,5.9292,6.682556,6.729165,6.4101458,6.4101515,6.2610335,-7.598859,6.284827,-7.6446333,-7.6446333,5.829345,5.6415033,5.3855352,-9.241348,6.637156,-9.461681,-9.638649,-9.63865,-10.192333,6.2952156,-9.415573,-11.313011,-14.707615,-14.064925,-13.27404,-13.686052,-13.875237,-12.300989,-11.71798,-11.716232,-14.428829,-11.258646,-10.633005,-11.27993,5.377987,-11.683474,-12.01298,-13.7213,-12.491648,-12.578913,-1.3599596,-12.777033,-12.054892,1.2236643,-10.840367,-13.278996,-13.694886,-13.523137,-13.26517,-13.627437,-13.864635,-13.90825,-14.033138,-14.030052,-12.545266,0.68220335,0.6556047,-12.998277,-12.478143,-12.505671,-11.452278,2.3717241,5.6774473,-0.37938616,5.9604325,5.8506,5.6452165,5.785317,-9.364535,-9.760244,-10.412274,-10.2070675,-10.464274,-10.969647,-14.915249,-14.950699,-9.730611,-8.519841,-10.947613,-11.276855,-10.877674,-13.2765045,-11.035835,-11.036006,-13.273687,-13.273651,-11.154356,-14.239041,-12.20845,-13.279269,-12.208525,-12.410793,9.350611,-7.5935993,1.3913649,9.090601,9.032775,1.4941894,0.8341845,3.165781,2.568826,4.2074275,-11.110736,-11.648021,-11.11564,-14.685269,-14.696764,-14.669699,-14.658922,-14.448485,-14.658922,-10.738852,-14.718612,-14.826218,-11.730411,-12.550509,-13.025269,-14.0500145,2.6684701,3.7883952,3.2362146,5.121047,3.1947854,2.419226,2.3491156,2.3524137,0.6465729,2.2886822,1.2543347,2.2770357,3.0650182,3.3174338,3.125687,3.5560324,3.0553815,3.7903323,0.81636417,5.554556,5.888094,6.159332,9.631821,9.348571,9.847355,-16.856905,15.983252,-18.93308,-18.933247,16.358158,14.80698,14.495871,11.119276,-4.1117496,-3.4912682,-3.510631,2.1090794,1.7482159,-4.0873833,-5.3686876,-4.0433593,-3.8947554,-3.3251936,-3.7039053,-4.8853455,-6.282266,-6.8501215,-7.9311056,-9.419444,-10.321863,-10.97443,8.122251,-11.286161,-11.250205,5.9451528,-10.394252,4.5401993,-9.594808,-9.365691,-8.496429,-8.125714,-6.9927244,-7.1226587,-6.022284,-4.4469414,-4.4469414,-3.3998663,-2.5159788,-1.4785475,0.7207564,0.72075653,0.711367,0.7692366,3.8767173,-7.213412,6.092758,8.209503,5.9769764,6.6904297,6.762348,2.8740673,2.0511801,3.159233,-11.5289,2.572441,4.5426464,4.5426464,4.6289206,4.6289206,4.5643144,4.641923,5.7450814,5.749649,5.749649,5.771068,5.771071,6.665933,5.8357215,6.650899,6.686779,1.7458631,6.6943493,6.6943493,6.6943493,6.694364,6.6943493,6.7036624,6.733264,7.046866,6.7036624,5.9784355,5.9784355,1.9537683,6.742594,1.9415916,5.99897,6.214591,6.214591,6.003609,1.8465168,6.0237656,1.6831764,1.9150832,5.5820804,2.3010151,2.2707577,5.3917036,6.086007,5.3917036,5.39336,5.050013,2.25844,5.3988733,2.5672114,2.6724975,5.3988733,2.5672114,2.5693562,2.5672114,2.67179,4.7852926,2.5748582,2.579129,2.5692253,2.5392654,2.575544,2.533291,2.5787456,3.8137584,3.858048,2.5507736,-9.487335,2.4733863,2.4733024,2.4719536,2.2995682,2.4719403,2.297429,2.2974265,2.29789,2.3247187,2.3246555,2.3246484,1.7688292,1.7664733,1.7907072,1.7907621,1.7639672,4.028717,1.7871088,1.4877712,1.7664732,0.80335575,0.6907707,0.80669576,0.8066958,-0.6564884,-0.6564884,1.604905,0.03257182,-0.6564884,-0.6564884,0.05813,-0.61728853,-4.6515656,-0.40128547,-1.6550009,-0.40128547,-3.1629891,-3.1638556,-1.6638026,-3.1074681,-2.046244,-2.137343,-1.9084734,-1.9868108,-3.136665,-4.5273604,-1.9868108,-4.52028,-4.52028,-5.481628,-5.481628,0.3521841,-5.481628,0.425134,-5.3690658,-6.604524,-6.6046276,-6.6046276,-7.7799153,-7.7799363,-7.6012173,-7.569962,-8.73895,-7.5648417,2.8951552,2.8904712,-8.534574,-10.128573,3.586655,-10.72432,4.361593,-10.72432,3.5499544,-11.302437,-11.3009,5.204748,-11.294443,-11.680219,-11.096176,-11.4454975,6.2458506,-11.444353,5.981422,-11.703535,6.893398,6.7188234,6.7267447,-11.867041,7.2620473,7.278887,-11.678521,8.001299,7.987929,7.798874,8.210501,-11.674665,-11.287399,8.341258,-11.263676,-11.258675,8.054332,8.194601,-10.822732,8.239416,-10.856267,8.389551,8.448254,-10.171566,-10.1708,-10.16314,-10.166225,-9.478481,-8.628612,-8.1622095,-6.8949385,-5.5969515,-4.8786945,-3.4614117,-3.3273518,-2.9161658,1.4353586,0.97650504,-4.0881357,0.119082935,-4.154083,-4.155029,-4.1250596,0.754068,-3.9625092,-3.8641617,1.7801394,2.7579653,3.366265,3.5131176,4.4299903,3.5224314,4.4245424,4.407787,4.5188375,5.278075,4.4188905,4.399995,4.4000206,3.5069988,-2.9934921,3.501678,3.4968555,3.5030231,2.7889073,2.6777995,2.7867706,3.5169592,4.4041605,-24.441275,4.4163294,4.521209,3.523214,4.54914,5.3716125,5.381454,-24.305563,6.268965,5.381454,6.267805,6.1692214,6.1686273,6.859913,6.9354115,6.933244,7.6012173,7.611883,8.130417,8.134627,8.1425905,8.231738,8.1425905,8.851331,8.851331,8.825744,9.686654,9.730995,9.9632845,10.380175,10.860085,11.449001,11.449001,11.485468,11.448802,12.181887,12.408222,12.183927,12.970994,13.121932,13.00582,12.977869,12.977869,13.548573,13.373671,13.559034,13.706548,14.121355,14.097074,14.104574,14.131133,14.585244,14.585244,14.585244,14.588044,-10.345507,14.978408,14.588044,14.621101,-10.342637,15.053283,15.053282,15.465022,15.05726,14.038259,15.053355,15.100249,15.502875,15.500286,15.500286,15.611316,15.608983,15.494278,15.909985,15.610172,15.849776,16.48167,15.72471,15.72471,15.849756,15.849756,15.722617,16.479939,-9.890925,16.48161,15.849776,15.849776,15.722617,14.901004,16.130474,15.500531,15.459049,14.699568,15.50498,15.50498,15.50498,14.900773,16.128822,14.699568,15.376015,14.699,-8.9528675,14.699,15.506457,14.700321,14.635853,13.962664,-8.961146,13.962664,13.962664,14.029895,15.375085,14.023249,14.701965,14.755665,14.755665,14.701966,14.701965,15.374428,14.879065,14.755545,14.52577,10.264796,-10.833791,10.667886,-16.806347,15.427157,16.825634,-6.1799884,15.753344,-20.506205,-21.225143,13.311322,12.687386,12.894344,-3.4035692,-21.24966,-9.3690815,-20.670273,-20.130741,-4.7470274,13.883975,-20.229443,-21.019165,-20.981441,-20.98122,13.541405,-4.1742725,-20.541866,13.567435,-20.463387,-19.855133,-19.729145,-5.24315,-19.769335,-19.769335,-19.540693,-19.540693,-6.743313,-18.901676,-7.1614428,-7.1621227,-7.489534,-8.191255,-7.6291294,-18.19811,-18.560368,-18.880754,16.820896,16.444155,16.820896,16.817736,16.817736,16.517202,-10.007569,-9.591393,16.895855,16.551048,-9.079791,15.136212,-8.534547,14.428299,-8.027812,-8.560909,14.110506,14.088463,-8.163223,13.877218,13.065926,-8.866352,-8.928542,11.381897,-8.989547,11.404921,10.119295,-6.2678227,8.487605,9.04543,-4.812882,-4.9853396,7.9873652,-16.291914,7.103806,7.103806,5.97202,-16.16196,5.8794603,5.08474,5.8162966,5.9808846,5.9808846,5.9808846,5.980884,8.17563,-3.8729086,7.278428,7.278428,7.2004027,7.934233,8.370808,7.934233,8.116316,7.912284,7.2046113,7.9344487,7.9130254,7.9130254,7.2004023,7.9130254,7.934233,7.934233,7.974772,8.02082,8.077998,8.077902,6.656221,8.116215,8.116215,8.116215,7.7766476,6.6632557,7.813822,7.813822,7.0724287,6.595789,5.958316,5.953667,5.953667,5.670253,5.1646004,5.1646004,5.16459,5.1668296,4.9607186,4.9647384,3.8652432,-14.817586,4.21756,3.8652432,3.8652432,3.19707,3.2395074,3.1951435,2.320511,2.27374,1.3723828,1.3655987,1.6708467,1.3647519,1.3618681,0.8968153,0.837506,1.4355085,0.3671929,0.36719242,-0.00384307,-0.008096346,0.38144273,0.0011603162,-0.00384307,-0.01022499,0.0154842315,-0.014491484,-0.95397687,0.030133026,6.7312346,-0.44744146,-0.4571795,-0.43134594,-0.02388148,-11.645854,1.453222,0.29285493,1.3518894,0.27112347,0.27805376,-0.01657538,0.040886004,-0.43134594,-0.36821362,-0.36821362,8.144041,0.04284378,6.003288,-0.43137807,6.700553,0.085069075,1.1097778,6.700664,-0.05776641,-0.102478325,6.6982307,-0.09825657,8.1656065,0.26237744,5.9034414,-0.10248367,6.6982307,6.6982274,8.160029,6.6605763,1.1156152,8.166536,8.175574,7.4644556,1.1908051,7.4798374,1.2237377,8.191312,8.191312,8.191311,10.63091,10.631002,10.630969,1.091601,10.630969,11.709912,10.695561,10.69533,11.711162,10.695815,0.5716351,11.71336,10.635741,11.71336,11.71336,11.715512,11.717416,10.557709,8.256944,10.537555,1.6877022,10.635741,10.537407,8.2565155,8.25734,8.236316,8.256912,8.2565155,8.256912,1.6948357,11.447903,1.7059292,1.7059289,11.448517,8.216999,11.448517,1.7060497,1.7081275,11.435769,8.218538,8.218123,1.6220045,8.19296,8.19296,8.2152405,1.726855,8.215252,8.248252,8.247869,8.248252,8.248405,11.449333,8.2152405,8.215261,8.248551,8.248551,8.248551,11.727861,8.257591,10.675797,8.283473,10.508998,11.44811,11.458078,10.479714,10.214884,10.39816,10.435045,10.435093,10.176368,9.933298,11.716735,10.435013,10.17637,10.17637,9.9333,10.099184,10.099184,10.099183,8.351195,9.93331,9.972323,10.235036,10.235036,8.362237,10.435105,8.813037,8.3153105,7.7505035,11.447102,8.315021,8.813024,8.813391,8.813301,8.812926,11.717351,8.31502,8.828927,6.943527,8.828927,10.099182,9.93331,8.828927,6.943535,9.719555,9.719557,9.772862,9.772862,9.772862,9.7202425,9.7728615,9.636973,1.7737311,8.5998535,8.5998535,8.781482,8.777822,8.777822,8.777822,8.782011,8.406432,9.909084,11.45762,8.782011,8.782011,8.41401,2.4351273,6.965656,8.9140415,8.91405,8.414202,4.9755077,4.9786906,4.9786906,4.9755073,3.283162,3.2818325,3.284262,3.2844374,2.2152152,2.1814601,1.8765937,1.3654635,3.623223,1.8776765,4.260683,1.4044898,1.8746756,0.8635041,1.3787943,1.8771927,1.8771927,1.5139891,1.5144536,1.5144536,1.5138007,1.5146669,1.2917738,1.3676691,1.3593509,1.8750693,-0.38013697,0.0442701,-2.6644201,-0.41063562,-2.219339,-2.1696253,-1.8960267,-2.1683397,5.0219593,1.3482933,1.4512814,-0.3912724,5.1634097,5.8860617,14.18742,-7.3562484,-8.184087,-8.642697,-9.499314,-9.480433],\"y\":[12.572377,5.500627,5.8171353,2.434701,2.7145302,3.0138721,2.9647503,2.4624257,2.92373,2.9647503,2.92373,5.651856,5.397319,5.3951335,5.5836134,2.7742321,2.4112647,4.918608,4.9251094,5.1011257,5.1021924,5.122234,5.8023696,5.289696,5.710987,4.9156857,5.7467985,5.752148,5.4704356,5.4704514,5.04084,5.6415424,2.4619224,2.4808116,5.294633,4.9991317,4.986881,5.217028,5.55265,12.601989,12.601989,5.7708745,12.4512615,12.4512615,5.537394,12.574801,12.450688,12.444738,-10.147123,8.107691,8.113749,8.140849,-9.089654,9.811914,-6.89832,8.976315,10.174882,9.975372,-9.509937,10.226942,-5.49092,-6.25493,-3.9470549,9.413312,-4.527404,9.4922905,-1.3267531,10.016381,-0.7995929,-0.84442973,9.93899,10.03755,-2.622045,-3.9785573,-20.729488,-5.0806427,-5.0645647,7.2015505,-4.5244093,-5.056383,-3.9775465,8.802851,-3.9746132,-3.3726804,-4.596433,-5.081944,7.91471,7.2933407,-5.097173,5.9204135,6.7639046,7.718737,7.39535,8.080369,8.080369,7.4204373,8.972319,-1.96694,-20.146347,-1.3300687,-19.85866,-0.6736615,-0.6736615,-1.9285623,7.1986756,7.2056146,-5.518984,-5.9797606,5.315942,-2.171822,-5.6069193,-2.1790073,6.384015,-2.3876626,6.4634256,-2.3908856,-5.548754,7.291011,-5.578012,7.2168646,-21.048544,-20.97704,6.759226,6.759226,6.6987457,5.91794,6.148255,5.768218,5.7696633,-5.5129538,6.445134,-5.0109625,-5.010301,-4.5209556,-20.97115,-20.58962,-20.816414,-20.816414,-21.063639,-20.637388,-20.64141,-5.4411273,-5.055598,-19.965584,-19.981361,-4.7477617,-4.7492747,-5.2980614,-5.1751204,-20.917894,-20.880226,-3.3245473,-3.8894134,-3.3189814,-3.8957372,8.504508,8.533437,8.709624,8.709224,8.756959,-3.3448656,-3.8133276,-3.8159049,-3.8159049,-4.2914033,-4.2956,-4.3250113,-4.325011,-4.330529,-4.330529,-4.9468017,-4.956247,-5.176729,-6.1526284,-6.266458,-6.183071,-6.1867414,16.328735,16.291306,16.111015,15.849579,15.853503,15.609826,15.599225,15.479733,15.471289,15.301624,15.278211,15.166168,15.1739,15.1739,15.120257,-11.587625,15.13406,15.143475,15.144728,15.078109,-12.022884,15.090216,15.090216,-12.029116,-12.4238615,15.013457,15.129246,15.045972,14.935992,-12.5408325,-12.617976,-12.429168,-12.546451,-12.541346,-12.621522,-12.598008,-12.472621,-12.618218,-12.496581,-12.495967,-12.495967,-12.212984,-12.217404,-12.212983,-12.221977,-11.536947,-11.814984,-11.54248,-11.814984,0.7102421,-11.814984,-11.374348,-11.499388,-11.379534,-11.372371,-10.74916,-10.757893,-11.375207,-10.7684145,-10.782366,-10.643738,-8.645603,-0.985869,-11.097181,0.73064834,0.0041858,0.0021969937,-7.2621603,-8.070173,-9.738654,-1.1392169,-11.8076,14.3826275,4.6799707,0.5424411,-12.239958,3.0883486,1.9713521,-17.890287,-17.889547,-3.0680013,-16.782331,-17.26492,-3.0686429,-3.5326297,-3.5091467,-12.071348,-13.204314,-11.425809,-12.650965,-2.6712496,-2.509829,-2.7835774,-3.0508122,4.2294526,-3.2507644,-3.1477134,-2.6537623,-3.0922477,-2.917638,-11.2677965,-1.764061,-6.1850586,-4.9467745,7.297797,8.585301,9.6290045,7.167331,8.05448,-13.669224,7.4239683,-12.401076,-2.2957754,4.0582,3.6676772,-2.7527869,-12.728539,-13.288595,-11.280642,-9.906223,-3.4585857,-3.5570192,-3.5234933,-8.549745,-2.475476,-7.2593737,8.052377,7.9324327,8.908226,6.3490667,10.558508,7.914673,8.255443,11.335169,11.4353485,-12.76123,12.105103,12.231349,-12.516555,-12.555045,-12.655679,-12.562736,-12.59626,-12.666376,-12.652871,-12.652863,-11.879034,-12.589983,-12.282076,-11.911284,7.338623,-12.596079,-12.623041,-11.914822,-13.607553,-13.760599,-13.760599,-12.617602,-13.830724,-13.60679,-13.830723,-15.669598,-13.830723,16.268578,15.760814,-13.596017,-13.392456,-13.435902,-13.949814,-13.505518,-13.532677,-13.727024,-13.727024,-13.36912,-13.811998,-13.608134,-15.67226,-16.3655,8.494221,-15.705825,-13.392456,-15.704097,-16.374165,-16.368677,-16.372059,-16.368294,-16.36868,-13.143991,8.146331,15.744015,-17.262943,9.404306,9.369218,-19.048504,-19.29108,-19.285515,5.0296936,-4.4095063,-20.245646,-20.29116,-19.232645,-17.63272,-16.37848,-15.197537,-13.367289,-2.7513635,-2.8952713,-3.100692,-2.937789,-2.7864494,-2.6153617,-10.947738,-11.412086,-11.000136,4.238089,-2.9268205,-3.4614744,-6.1405964,-4.219809,-2.6221273,-6.831604,-6.708796,2.0202937,-7.4679656,-7.602289,-8.793996,-8.822508,-8.847399,-8.838673,-9.989498,-9.989498,-10.19228,-8.522017,-9.946199,-9.976788,-10.009097,-10.272006,-9.989071,4.704539,4.705308,-11.036102,-11.036058,4.7441745,-11.035379,-11.028719,5.0211525,-11.69954,-12.3391695,4.957659,-11.79747,-12.09574,-11.768956,-12.200513,5.022239,-12.336636,-12.196212,-12.632592,5.5353203,5.47688,5.370175,5.4770265,5.480082,5.5311475,-12.643302,5.4307656,-12.572333,-12.301795,13.179535,-12.295234,-12.301796,-12.690968,-12.301796,-12.857428,-12.6245575,-13.097117,14.300442,-12.7363405,-12.7055235,14.6974325,-12.736612,-12.806713,14.334204,14.334204,-12.74289,-14.323691,-12.749275,-12.872619,14.332962,16.28323,-14.214813,15.747716,-14.109689,-14.109689,15.750237,-13.440683,15.723877,-14.077634,-15.000733,15.298656,15.7486925,-14.265524,-14.159615,15.6909,15.750916,-14.159615,17.529236,-14.265524,16.285152,-16.566872,15.732474,-16.459965,15.728723,-16.55758,-14.176958,-16.481865,-16.486502,15.726031,17.544409,-15.026658,-16.543217,17.532652,18.076189,17.53908,18.07138,17.892105,17.532652,17.88029,17.001734,-16.834127,15.6925955,17.52397,17.526293,15.6925955,17.528345,17.520845,15.719506,16.97689,17.518974,17.516226,15.282219,-16.860739,15.278619,15.188931,15.617219,16.34521,15.624026,15.624026,12.854982,14.209829,6.123822,12.018097,12.858598,9.9386635,11.331964,6.848893,7.1491103,7.9828362,9.244985,8.957051,-10.33663,8.073752,6.473612,7.2565675,8.995097,7.264433,6.4799623,7.296201,8.982862,9.331867,6.457071,3.2169406,8.996886,3.2106178,3.2233286,6.4555345,9.029653,9.0065565,8.694636,8.046951,8.970454,8.906013,8.692462,9.215093,8.899516,9.0001745,7.9818964,9.047611,8.8491,7.440138,8.386763,7.794366,10.093123,9.782056,7.881922,9.763803,7.8178177,7.897304,7.3261495,7.334115,7.270532,6.9388022,7.337147,7.3371477,6.8243513,11.775485,6.8739934,-7.1293235,6.406135,6.1565895,6.032333,5.998635,5.9986353,-4.987419,6.295067,6.295065,5.5118823,5.501088,5.5118823,-4.580283,5.917978,4.6400957,4.908672,5.5543065,4.886255,4.188613,4.9111176,4.199462,4.888222,-3.7696893,4.1894913,4.199462,-3.7696893,4.199462,4.1894913,3.5005329,-3.7720788,-2.9470575,-3.7714434,4.730405,4.208965,3.8304994,4.208965,4.2140102,4.22978,4.7226863,3.5157485,4.236759,-2.9177527,-2.917753,-2.915586,3.5311408,-2.927461,3.5328383,-2.9102104,-2.9357471,3.5363665,3.076793,3.8876736,3.5471528,-1.6212283,3.0980594,-2.9033895,-1.6171068,-1.5947773,-1.6107382,3.406852,3.406852,-1.6041477,-1.6041476,3.4267123,3.4267123,0.22270434,0.23113167,-1.2640082,0.22270434,3.039932,3.0399323,0.21266504,0.23113167,3.4794297,0.23503166,4.9885473,3.4824708,0.34433636,2.7246697,0.34357175,0.2680917,0.34433636,0.27112904,0.27118114,3.4854407,3.485439,3.4862282,4.748449,4.723449,3.4869537,3.4882371,5.362607,4.723449,4.994278,5.825249,3.4882371,5.7184377,5.7184377,5.679183,5.679536,6.243256,6.239169,5.7184377,6.243256,6.232351,5.4765024,5.3739495,5.3626285,2.6206872,1.6880407,2.642075,5.3625464,6.0461774,6.0461774,6.0461774,5.4628487,4.656884,5.4628487,4.656884,5.3625464,6.096365,4.262981,5.4628487,6.046173,5.871624,5.993333,5.865726,5.993333,3.4918845,4.200137,3.4918604,4.2460766,1.6888283,1.6909297,4.3243566,1.6894095,4.439694,4.4738584,4.4735503,4.2762218,4.2029753,4.1775517,4.1787796,4.5519257,4.9625897,4.5519257,4.9625897,4.9625897,4.9625897,0.6958878,3.493457,0.7817174,3.0755186,3.493457,4.748672,3.4934602,4.748672,0.8164649,0.74310094,0.74310076,1.2792253,1.2792253,3.4945004,0.79941696,0.79941696,0.8165068,0.74310094,0.81650716,-1.249303,-1.2664192,-1.2664188,0.84915453,0.78252876,1.0280571,1.6539025,-1.2694147,-1.2694147,3.7062576,-1.4758102,-2.7826793,-2.773728,-2.8762007,4.3896017,-2.7880962,-2.79401,-2.79401,-2.799947,4.3997197,4.3997197,4.4237423,4.4237423,-2.8816397,-2.799947,5.1025906,-3.8245866,-2.887119,-2.8790278,-3.8227854,-3.825819,4.1018686,5.088044,-3.8227854,-3.82213,-3.8227854,-3.8227854,-4.6096063,-4.6106653,-4.648861,-4.6095796,-4.605149,-4.6072717,-4.611221,-4.6092534,-5.147241,-5.1516075,-5.151691,6.3506494,-4.6087976,5.8828864,6.3632455,-5.1513405,-4.607261,6.36118,-5.1522474,-5.1513405,6.36118,6.955428,-6.061116,7.416078,-6.884699,7.416078,-7.417423,7.7945623,-7.599736,-7.3293986,-7.3467026,-7.3293986,-7.60406,-7.166027,-7.387344,-6.672235,9.839374,9.836015,5.8131027,5.8131027,6.1841846,3.9692516,11.1921215,3.9504092,11.1882925,10.726131,11.253207,11.808334,-3.1580515,11.795421,-2.6766036,12.580334,-2.036795,13.150728,-1.1147084,12.977242,13.210681,13.210681,12.485912,13.150238,-4.8763366,14.122535,-0.59202147,14.130725,12.860193,13.589746,13.60166,-0.09110262,13.981966,-0.10396262,-0.14723793,0.1786919,0.2363162,0.2363162,0.2113537,0.18290974,14.331553,0.16814023,0.1834786,13.95594,0.22907773,0.1834786,0.16814023,0.1834786,14.348925,14.358933,-0.15888621,0.14431886,14.4782095,-0.6016523,-0.116499744,-0.59510493,-0.58828324,-0.6465469,-1.3635885,-1.3415979,-1.343243,-2.1349125,-2.0954845,12.497956,-2.131617,12.428357,-2.0670848,-2.0716996,12.51016,-2.7968094,11.574208,-3.0315218,-2.7992067,-2.7992067,-2.7992067,-3.972257,-2.7835684,-3.9725118,-3.6266408,11.033087,-3.6286364,-3.972257,-3.972257,-4.5960693,-4.594321,-4.4955797,-4.4935226,-4.4935226,10.654967,-5.324088,-5.324088,-5.315558,-5.321852,9.8782425,-6.2867703,9.8782425,-6.286754,-6.1693063,9.447921,9.350226,9.368576,-6.7877855,-6.9644394,-6.966351,-6.966517,-6.8300495,-7.153328,-7.1561584,-7.1556892,-6.8682413,8.564059,-7.556441,7.571073,-6.90255,7.9277573,-6.6964045,-6.93827,7.4866495,-6.9649963,-6.6959424,-6.7193255,-3.2671278,-6.894586,-6.7247086,-7.3422694,-7.3412595,-6.892044,-6.7193255,-6.7193255,-6.7193255,-3.196584,-6.6959376,-6.9870954,-3.196584,-3.1965392,-3.2151098,7.7916536,-7.417423,-7.422053,-7.5876336,-7.584108,-3.0884693,-7.3850517,-6.987096,-3.0884383,-7.165589,-3.2145326,-7.1681433,-7.1681433,-7.1681433,-6.767517,-3.0884383,-6.7686434,-2.9099033,-6.7686434,-2.909903,-6.767517,-7.1681433,-6.655005,-6.763271,-6.715497,-6.7617564,-2.9810455,-6.763271,-6.060665,-6.0722446,-6.0743346,-2.9099033,-6.0623174,-2.5281224,-6.0623174,-6.0623174,-2.6609368,-6.0623174,-6.060665,-2.7860298,-2.6612012,-6.11136,-6.060665,-2.3319006,-6.059513,-5.321411,-5.266265,-5.321115,-2.5853114,-2.3305142,-5.313657,-2.5736613,-5.313657,-5.313657,-1.9628341,-4.458493,-2.319761,-5.3136234,-2.329842,-1.997688,-1.997688,-1.6111188,-1.9665468,-1.6114402,-1.983511,-2.0765998,-4.6036186,-1.9665468,-1.6512861,-1.316234,-1.9628345,-3.4851027,-4.4584937,-1.8883536,-1.316234,-1.316234,-1.9628345,-1.7800816,-3.4851027,-3.4851027,-3.4928775,-1.646567,-3.4928634,-1.3152531,-1.7564912,-1.315252,-1.646567,-1.646567,-3.1582851,-3.5023656,-1.2029434,-1.6438066,-1.3847758,-2.6395552,-2.6227784,-1.3851199,-2.4745178,-1.7333286,12.488419,-1.7090412,-2.6641896,-1.2442688,-1.7062274,-1.7010552,-1.7010552,13.096429,12.562352,-0.9200441,-1.0566765,-1.7738788,-1.0566765,-1.0566758,-1.0566765,12.431005,-0.90080184,-1.186498,13.517565,-0.49386108,-0.9097635,-1.3859878,4.424294,11.4289055,-1.2766469,-5.8729696,-6.009576,-0.1988378,13.781401,14.1164465,-7.4343286,-7.2442403,-7.4277844,14.353038,0.9631445,4.5523334,4.5448375,4.6528044,4.454799,12.303059,12.622174,12.859158,12.863208,13.233965,13.334609,13.418523,13.59684,14.092442,13.435561,13.439178,13.446785,13.925282,13.788135,13.31637,12.943417,12.520946,12.485701,12.44542,12.273488,11.342152,10.961992,11.511257,10.923848,10.918321,10.918872,10.922686,10.638536,10.939393,10.623597,9.329704,9.235236,9.254171,9.093819,8.301925,7.85202,6.2531433,7.055239,5.847811,5.551894,5.143486,3.791094,2.3466012,-7.192892,5.3193927,-5.5528574,-4.009601,8.938361,-3.9963071,-3.9726157,-21.238836,-21.313784,-21.491014,-7.6270146,-5.0046163,-20.970098,8.17427,-2.99308,9.1619215,-2.9741554,-2.6903515,-2.969153,-2.692125,-2.6964896,-2.722957,-2.7224772,-2.7275257,9.407173,-2.7444973,9.480485,-2.7548313,9.511503,9.506126,9.49975,-2.7467687,-2.6856368,-3.384062,13.321828,16.050093,15.806619,15.819303,15.813088,15.806619,-6.3656383,-5.540786,-7.498034,14.924875,-8.767994,-8.471215,-9.52169,-10.414075,-10.417995,-11.176828,-11.176828,14.356412,14.344914,-12.104218,-12.1042185,-12.359837,-12.517535,-11.865112,-12.277731,-12.277732,-12.194169,-11.907241,-11.897274,-11.445127,-11.216132,-11.16346,-10.370513,13.991535,-10.783445,-9.703969,-8.638705,-8.638705,12.773399,13.439354,12.729447,-7.1314964,-5.610678,-5.616675,12.304925,-5.5929785,11.538939,12.241651,-5.6068316,12.234161,12.289466,-2.4448452,-2.4448442,-2.4521224,-2.4662173,-2.4548063,-0.6842997,-2.9663818,-0.68432033,-2.3405867,11.609539,12.341897,-2.4634783,-2.3527653,11.19904,-2.9689252,12.27454,11.647772,12.274552,12.274255,12.274552,-2.3361974,12.88903,12.238192,-4.6053286,-2.974867,-4.584196,-4.584187,-4.584196,-2.974878,13.361585,-4.5971465,12.70376,-4.560559,-5.580808,-5.5827723,-11.815786,8.587898,-10.622415,3.8562207,0.1139819,-3.094617,-1.3793175,-1.8259392,-4.710374,-5.6833463,12.540058,-7.3948956,-2.4888933,-6.560334,-6.511304,-8.350569,13.760415,14.409891,14.124063,14.140304,14.14152,14.14214,14.325013,14.160087,13.5709715,14.162151,14.32526,14.745909,-10.325446,14.32594,-9.545138,13.965016,13.174432,-9.611231,-9.8021965,-10.365652,-10.365652,14.323703,14.328404,-10.773418,-10.775588,-10.80098,-10.800981,14.207536,-11.494993,14.207536,14.22257,-11.897432,14.385663,14.413394,14.40882,14.413394,14.387257,-12.19504,14.39787,-12.36705,14.15468,14.091571,14.284271,12.179184,-11.702389,14.292294,14.199697,14.228332,14.238109,12.268737,14.218473,14.221321,12.368797,12.370127,14.38362,14.485706,14.733538,14.305539,14.706426,14.695612,12.69934,14.725214,15.083012,12.990825,12.990049,16.0062,15.774522,13.11867,13.224232,16.18375,16.183813,16.183813,16.422916,16.422916,16.422916,16.700163,16.700163,16.979826,16.979622,16.978903,16.979374,17.250711,13.7239275,17.542168,17.545109,17.543133,17.543394,17.85835,17.86058,13.835489,18.316286,18.12398,19.139715,18.833168,18.810736,14.110892,19.596022,19.595259,14.180431,14.180431,19.411709,20.14163,14.295869,14.2915,14.2865,19.683798,14.2870455,20.885523,14.28756,14.296754,19.64206,20.88624,19.573603,14.317707,21.344173,21.063866,21.357914,14.301846,14.320767,14.321587,21.062433,20.553871,20.550209,20.085686,20.081139,19.60029,19.599367,19.584671,19.051804,14.187394,19.045504,14.151597,18.439531,17.647617,16.749514,16.72783,6.531256,14.785428,14.778891,14.809082,14.8128605,14.8172655,14.834064,14.820941,6.649646,14.11583,14.153888,14.113973,14.8276615,14.152066,14.152493,14.150713,14.150716,15.74275,14.861056,15.781557,15.781446,15.7467985,15.746933,16.713774,15.784111,16.730932,15.786659,16.741129,16.741129,16.716759,17.631277,16.729433,17.624138,14.125587,17.637072,18.37726,17.639246,18.380482,18.399593,18.375502,18.380188,14.196448,19.00793,14.192174,18.981586,19.545952,19.540073,19.993715,20.400795,20.400688,20.510233,14.307858,20.517426,20.613197,20.62342,20.99866,20.61407,14.324547,22.508614,21.02601,21.86567,21.865726,14.333741,21.865671,14.3277645,22.518042,2.1481931,3.0164685,3.2217252,2.152493,21.863903,2.1332288,2.1521816,3.2509944,2.1524928,2.1191356,1.0382164,1.0208782,0.82938564,0.82811135,0.81566685,2.8081958,1.0431875,0.8158078,1.0431875,-0.2240224,0.81880045,-0.2240224,-0.2240224,-0.21989049,-1.1272967,-0.25262368,19.253647,2.8403563,-1.1272976,-1.8144866,-1.1095248,18.36769,-1.5758119,-2.2267802,-2.2334938,-1.58277,-1.5046065,-2.2530694,-1.9182546,-2.2969434,18.760761,18.762413,-2.3125155,18.319149,-1.818527,-1.8000242,-2.2015798,-2.1715932,-2.1715934,-2.1715934,18.31785,18.31785,18.762823,-1.7229954,18.37538,-1.7920247,18.765646,-1.7920247,-1.7920247,18.767641,-1.1240196,-1.7713501,19.233965,19.233965,19.226088,18.88008,18.88709,14.111849,18.880283,19.226088,0.12872182,18.88008,19.394163,20.142948,19.583824,-0.1809083,1.106582,19.582985,20.916649,20.14236,0.8931664,0.8931664,20.91665,20.888634,19.78537,20.142948,0.8931664,21.890228,0.8942646,19.712845,20.916594,20.916594,2.267709,21.886908,2.1350138,20.918764,20.918764,2.2689352,20.891249,20.922888,20.957396,2.2606924,19.711506,21.454325,20.920692,19.71154,21.454325,21.454325,21.454325,2.2599976,19.711506,2.2254982,21.369734,20.197454,21.458284,20.922888,3.3442013,20.199392,21.458385,20.178366,20.178366,21.373144,20.140064,20.178366,21.385475,21.385475,3.5822434,3.583535,3.5810764,20.552721,4.287804,4.816486,3.4259841,2.6920302,2.8536656,2.627847,14.158051,1.983322,2.77967,2.5491157,4.841335,5.8497615,14.744023,14.059948,7.942212,11.862937,8.592869,8.386151,6.7656536,6.4811444,8.549359,12.904194,11.812572,8.535925,8.4471,6.7049527,8.413144,11.863251,11.911507,8.359382,11.913299,8.409017,8.25258,8.195911,8.229043,6.4948516,6.0615973,12.076357,12.077428,5.4591064,8.035678,8.132972,5.849494,6.2720532,8.382264,6.057946,6.4913926,8.455986,11.863936,6.678733,11.864003,8.503264,6.4955087,5.5491266,5.84903,7.9370995,5.2873945,7.8378234,5.2884,7.942151,5.287939,5.2022104,8.138009,8.138466,5.652006,6.249959,5.7514024,5.3140755,5.6521773,5.229699,5.325884,5.0095687,5.4597077,5.010298,5.003685,4.787514,-15.739411,-15.649104,-20.23586,-20.266611,-15.351839,-20.326729,-15.344385,-20.328636,-15.343563,-15.250792,-15.349849,-15.349704,-15.25516,-15.249406,-20.332117,-15.350954,-15.343415,-15.35074,-20.326906,-20.323975,-20.323975,-20.481907,-20.424181,-20.481909,-20.469677,-20.424908,-20.609842,-20.595806,-20.611084,-20.611084,-20.923975,-21.173964,-13.454597,-21.068937,-21.277367,-21.27723,-12.804007,-11.597518,-11.795335,-11.586358,-11.577489,-10.652831,-10.111611,-10.103885,-11.338483,-10.938231,-11.578858,-10.942606,-11.051633,-11.33898,-11.051633,-10.457425,-10.457425,-11.051633,-10.095397,-10.133322,-8.568024,-11.068934,-10.074401,-10.437746,-11.009751,-11.079342,-11.079342,-10.845917,-11.098863,-10.415048,-10.900385,-8.580722,-7.894182,-8.5383835,-7.8424377,-21.064892,-7.83808,-7.771644,-21.072033,-7.813584,-7.8404818,-7.22535,-21.10939,-8.540129,-21.073736,-7.8404818,-8.527469,-8.536445,-9.292577,-8.525196,-9.294434,-10.913809,-11.33132,-10.903337,-10.018718,-10.912277,-10.410013,-10.784283,-8.569171,-10.882704,-9.317131,-9.363528,-10.707054,-10.8281975,-11.736207,-11.745917,-11.778262,-12.052951,-11.894456,-11.886146,-12.795436,-11.745917,-12.054582,-11.745917,-11.889438,-11.594152,-11.777832,-11.990786,-11.991524,-11.9909,-11.736177,-11.999971,-11.999971,-11.739492,-11.734916,-21.414911,-21.027658,-7.1909566,4.622891,-6.8450685,-20.95017,-21.141779,-20.98987,-21.032131,-6.84385,-7.187772,-6.794624,-20.978752,-6.7163916,-7.075785,-7.0393224,-20.58569,-7.0387726,-20.712917,-21.107853,-6.51117,-6.594006,-12.783305,-20.619284,-20.651659,-20.619125,-6.5111713,-6.695135,-6.9454336,-6.8554235,-7.047149,-20.44913,-20.563833,-20.55867,-20.710339,-12.785434,-13.431908,-13.443171,-11.854997,-13.468259,-13.455123,-13.739783,-20.89406,-21.437849,-12.0140915,-10.833408,-8.495695,-10.817849,-8.350966,-8.398291,-8.391265,-7.7039375,-21.096535,-6.3551025,-20.975227,-6.319663,-6.380401,-6.317983,-6.3506446,-5.9062653,-5.8481846,-4.975626,-5.1298,-2.9370425,-4.6429005,-2.9373405,-5.141207,-5.00001,-19.621164,-4.6405096,-4.9839606,-5.154584,-20.533323,-4.4212613,-19.62012,-0.9736172,-19.869226,-20.253561,-2.6394758,-4.2073946,-18.792603,-2.8519986,-3.9731727,-2.825459,-2.8536942,-3.7683063,-2.827143,-2.818676,-2.8172219,-2.3689933,-2.3684227,-2.291048,-3.278845,-3.2453215,-3.0917804,-2.3714025,-13.841921,-2.8427684,-2.8940876,-2.8301573,-3.3531334,-17.56119,1.4208266,2.1470027,2.5804539,-3.1660018,-13.734381,-13.627911,-13.101298,-13.138587,-13.311485,-13.887482,3.4603124,3.1778824,2.8738801,-14.941767,2.5788295,2.585988,2.597287,2.3011432,-16.3019,2.3011432,-16.25221,-15.937187,2.3004515,-16.630482,2.2964466,2.300526,2.307372,2.307906,-16.292248,-16.251234,2.439885,-15.448469,-15.793687,-15.446413,-15.401787,-15.732541,-14.906024,-15.668897,-14.869954,-14.281435,-14.869955,-14.869954,-14.831536,-2.0200667,-14.268675,-2.2078433,-1.579868,-1.9653991,-1.617469,-1.5441707,-1.543816,-1.543816,-1.572812,-1.5761405,-1.6379881,-2.81469,-1.3811096,-1.9071176,-1.5782803,-1.5512116,-1.9791211,-14.338385,-2.0131512,-13.868243,-13.879791,-13.922455,3.231454,5.16451,5.1831374,3.094667,-11.832411,-10.959756,-10.909609,-9.253992,-9.001641,-7.7468634,-7.656463,-7.20574,-2.4362142,-6.7782426,-6.898605,-3.2007105,-5.3799767,-3.7550178,-3.7602239,-4.3901267,-5.9470687,-7.2390256,-5.8467283,-7.406441,-7.3721275,-7.4021077,-7.403128,-8.696838,-8.4207735,6.971645,-8.41153,2.865998,8.717429,-9.707214,2.866021,2.9647503,2.5326,2.9647503,6.0430026,5.4499297,-13.269264,5.54118,5.110735,-10.1108265,-7.2731376,-3.0183744,-2.00419,-3.8262982,-3.0427854,-2.1255476,-2.2168152,-2.1231194,-2.1399887,-2.005386,1.8207608,2.015206,1.9287547,2.8728452,2.8680677,2.8971057,2.873251,2.8697486,2.8708425,2.06571,2.8712423,2.8712423,4.063371,4.066004,3.8576262,4.2626944,4.746744,5.973266,5.552979,6.045423,6.117238,6.1757126,7.661054,7.661054,7.664436,7.661054,9.757105,7.8203926,8.691381,9.540229,8.714695,9.191295,8.572492,9.401771,9.462262,11.639188,-19.061138,6.4144697,7.8397574,8.291853,8.291853,8.6914835,8.72673,8.968355,9.23261,-17.620546,-17.614653,17.475498,17.493343,17.42757,17.43523,4.901071,-3.2464602,-4.3594213,8.437639,9.249617,9.004709,8.777238,17.833809,-17.040443,-17.052946,17.709614,18.044275,5.1804156,5.700853,-12.704119,12.368723,6.6752043,-11.71517,4.661812,4.466423,-11.4638405,-11.536198,5.2835283,5.9343014,-5.859322,-5.326795,-4.9061704,-4.9057193,-4.9971466,-5.1120825,-5.3229103,7.259692,6.19207,11.48525,6.472254,6.4664,-13.694025,-11.9825945,-12.256968,-12.083085,5.3841686,-11.961018,-11.962937,6.0043206,6.0043206,5.351904,-6.1491127,-6.148928,5.966914,5.934609,-6.1493325,6.006033,-6.1491394,6.5232205,5.383888,-6.110332,5.385115,5.433857,-12.429902,-12.984569,-13.179466,-14.069061,-14.393384,-14.391648,-17.326553,6.6787066,-16.691694,-17.476032,7.9653044,8.302799,8.303317,8.347354,8.417476,8.41597,-5.9471793,8.136639,8.387491,8.301916,-5.898299,-5.898103,-5.924527,7.9621243,-17.60329,7.9639373,-17.166637,-17.372053,-18.34633,7.8425574,-19.154072,12.015312,11.424487,8.834231,8.129794,8.197552,-19.295485,-18.984877,8.3163805,-18.043854,-18.043863,-17.894917,-18.478468,-17.401787,-18.05435,-18.05435,-17.510168,-18.05435,-17.673018,-18.684584,-18.05435,-18.773891,-17.510168,-17.806498,8.08672,-17.817251,-18.987778,-17.822525,-17.699183,-17.673622,-18.79221,-18.24931,-17.831116,-19.105202,-19.169613,12.275795,-19.003466,-19.117346,11.498648,-18.824753,10.813298,10.815264,9.938577,10.088295,10.023237,10.790951,-19.261892,-19.13851,10.813078,-19.114655,10.809336,10.054648,10.083656,9.863898,10.053089,9.986949,-7.9990063,9.720953,11.042226,9.060439,-7.9969087,-7.9989686,10.712152,9.981344,9.12495,-8.106144,10.124595,10.602056,9.00321,10.557914,-8.016771,11.055299,11.085257,11.051456,11.152171,2.4624257,2.5326,2.9827409,2.9647503,11.377881,11.377881,11.370326,3.8329656,3.8249924,2.336405,11.840043,1.0827563,12.351559,1.0678629,12.165112,0.9848415,13.427829,-6.542537,-7.8637166,-8.468049,-12.446072,2.6105206,2.5326,-2.9594,3.5414317,5.8307104,7.279702,7.279335,4.9839873,3.5439277,9.167575,10.067821,5.869816,7.527803,-10.256241,-11.810641,-9.430953,5.246841,3.9295616,3.9249198,-11.808746,-11.8343525,-11.840948,14.560884,-10.19117,-8.080527,15.263321,14.930551,-8.330847,-8.323148,-8.323148,-8.324282,-8.274044,10.08474,-20.676691,-20.790026,-19.74788,-4.886634,-4.1953506,-2.9121304,-2.8964107,-3.970393,-3.771419,-18.2024,-18.885826,-0.90318656,-5.5604258,-5.557192,-5.2153015,-6.2003126,10.162264,15.982812,-6.2609086,10.163326,8.336615,-5.2416296,-3.9993136,-4.4368834,-1.334734,10.054525,-19.581657,-0.8206256,-0.9609142,-1.3285619,-17.694897,-18.36238,-2.8949008,-5.092417,-3.533286,-3.091243,-2.9121506,-2.97673,-2.368955,-18.773935,-2.8188343,-17.159218,-3.235699,-3.260582,-14.806237,-13.626946,-3.1725647,-3.3911312,-16.657326,-16.612411,-14.059396,3.9900284,-11.409089,-11.974545,-13.070284,-3.4129488,-3.3527284,3.0633535,3.6859527,-11.92895,3.6825492,-3.2513878,2.98731,-3.4904907,-2.9180691,-2.8943045,3.5022025,5.193645,-13.149783,-10.654564,-3.2084987,-10.117981,-11.308155,-11.183191,-12.394054,-10.178683,-10.7551155,-12.58247,3.7399747,4.4017463,-11.216758,-10.764935,-10.622569,-9.981071,-10.491876,2.9839222,2.9173212,-2.7571368,-12.3275175,-11.777277,3.7125344,3.1865103,3.5798242,3.6313932,2.915598,2.8049023,2.657652,4.1692524,4.2231693,4.3281617,4.3263907,4.2890015,4.186446,4.004487,3.8076847,-2.636206,-2.63667,-2.6329436,-4.025389,-2.6912239,3.8853302,-6.7437296,-8.816873,-7.3098307,4.0583286,3.7972043,4.9659076,4.0744314,2.7909098,-2.5454142,-2.5860443,-4.6782913,13.549548,-4.7476635,-4.8720737,-5.453363,-5.5118065,-3.1428242,-4.2203703,-3.0999346,-4.342432,-5.757389,-1.8624637,-1.8210378,-0.98856705,-1.8377253,10.311763,10.61377,-0.9931634,11.182899,-2.804703,1.8691665,2.0356264,2.0445611,-1.8430507,-1.8430508,-1.8375149,10.571708,-1.7950222,11.021625,11.021625,1.8608956,3.2001843,3.1823158,9.446101,2.0227203,9.873547,10.328103,10.328102,10.021899,-14.124864,7.6432443,-3.1445615,-7.8010764,-8.435091,-3.5284185,-8.590398,-8.492924,4.416751,4.7890205,4.789612,-6.541377,5.3114185,6.6130867,-3.1347575,-12.275397,4.6174154,4.510135,-8.563309,4.29202,4.300498,-8.789454,4.3002176,4.4949975,14.473461,5.0549927,-3.5973012,-8.57239,-8.972536,-9.467942,-8.194628,-8.079799,-8.063981,-8.010226,-8.427544,4.375541,-4.6226034,-4.5595403,4.2993593,4.402505,4.332524,4.768955,8.068115,-19.365658,11.488795,-19.608227,-19.119322,-18.895927,-17.767448,6.5211277,5.946962,5.3956323,5.499007,5.339861,5.02963,-7.3915634,-7.7187467,5.9856577,9.01582,-3.0059454,-3.1333258,-2.9886236,-3.59144,-3.0827537,-3.0827878,-3.5310469,-3.5321722,-3.1068027,-7.9218097,4.403346,-3.5786178,4.4032145,4.4298415,2.7834468,10.325045,-7.116563,-3.5386298,-3.5038972,-7.1788683,-6.7714357,-10.263961,-10.034995,-11.512244,4.9237876,4.6874723,4.918133,-8.136963,-7.41328,-7.7958236,-7.4197083,-7.4473963,-7.4197083,5.132043,-7.023951,-7.0363545,4.6114345,4.3748965,4.295017,4.215901,-2.0902038,-1.5032799,-7.025452,-6.223525,-2.458861,-3.539052,-3.503881,-3.499686,-4.632595,-3.4731963,-4.8340254,-3.4659774,-2.4161782,-7.047338,-2.4356155,-2.7192855,-2.3912892,-1.4835445,-7.702868,-1.9539812,-2.3362622,-2.1780565,3.5628905,3.4780045,5.0068483,1.9075171,6.7756343,0.5593613,0.55986893,9.528378,10.300758,10.11756,9.501097,-0.2315816,4.4029217,4.402751,3.2024827,3.3784027,6.075452,17.655825,5.851751,5.217984,2.677732,0.33438456,-1.1499035,-2.2011187,-2.4209015,-2.965554,-3.9580364,-4.504379,-5.277056,15.435325,-8.861864,-9.553694,14.913234,-11.330005,14.683623,-11.913471,-12.598047,-12.81892,-12.534433,-12.525581,-12.662176,-12.254663,-11.722158,-11.722158,-10.486325,-9.366572,-8.516375,-7.617207,-7.6172066,-7.6201744,-4.880179,-3.979999,10.553551,-2.0716338,-3.127448,-2.0205054,2.029312,2.0561023,-8.887742,-8.605624,-10.214767,4.7539573,-9.941616,-11.6743555,-11.6743555,-11.717141,-11.717141,-11.684683,-11.721913,-13.097759,-13.10147,-13.10147,-13.106416,-13.106411,-14.046855,-13.165523,-14.008659,-14.073183,10.631976,-14.078929,-14.078929,-14.078929,-14.078944,-14.078929,-14.085604,-14.146886,-14.354478,-14.085604,-13.229559,-13.229559,9.45245,-14.154847,9.455752,-13.235192,-12.993811,-12.993811,-13.242642,9.414116,-13.246995,9.314097,9.452548,-11.893132,8.088906,8.050748,-11.852987,-13.292687,-11.852987,-11.852677,-11.843442,8.040046,-11.85028,6.1663523,5.800102,-11.85028,6.1663523,6.1681895,6.1663523,5.7856417,-10.952333,4.4685974,3.9753282,6.1610565,6.3610444,4.4652324,3.9459822,3.9752698,-9.331259,-9.325853,4.4411407,10.477547,3.9049437,3.9051874,3.9052596,2.0746646,3.9051847,2.0764964,2.0764909,2.076083,2.0730743,2.0731187,2.0731204,0.30282325,0.30583882,0.26469338,0.2646681,0.30865777,-6.6980615,0.26869875,0.54731935,0.3058388,-1.6292877,-1.3493022,-1.6892122,-1.6892118,-5.04785,-5.04785,-2.7379088,-5.945801,-5.04785,-5.04785,-5.922495,-5.0077124,12.8,-7.37175,-8.493962,-7.37175,13.362203,13.333374,-8.485759,13.769601,-8.2665205,-8.176792,14.108563,14.093793,-8.799454,-10.140105,14.093793,-10.144458,-10.144458,-10.948442,-10.948442,14.392577,-10.948442,14.286202,-11.257898,-11.761795,-11.76072,-11.76072,-12.187185,-12.186977,-12.035474,-12.048411,-12.307391,-12.05341,14.373713,14.367736,-12.102108,-12.443741,14.276851,-11.74084,14.155526,-11.74084,14.117644,-11.133143,-11.134883,14.225978,-11.134556,-10.419217,-11.1169815,-10.397275,14.426721,-10.398171,14.45186,-9.5003195,14.623253,14.703156,14.714252,-8.4208355,14.939482,14.926947,-8.7208805,15.2587805,15.245559,15.138405,15.438755,-7.470995,-6.3051357,15.571825,-6.2767344,-6.276406,15.228838,15.424291,-5.4661193,15.432334,-5.5025716,15.67238,15.908791,-4.721092,-4.668272,-4.6666,-4.684667,-4.058641,-3.4652727,-2.993206,-2.4233124,-1.5090108,-0.89006686,0.90147173,1.2999448,3.922649,3.5391452,3.78992,6.0811677,4.31184,6.3903704,6.389865,6.2494836,3.9158552,5.600351,5.26307,3.3672788,2.9433458,2.943985,2.8180246,3.0159872,2.8666623,3.0897653,3.170335,3.0426335,3.5078526,3.1454203,3.23269,3.232656,2.9839935,3.9669092,3.0267103,3.1336591,3.1120057,3.0042102,3.0484517,3.0132165,3.1217074,3.4566834,-7.6540055,3.4508958,3.331812,3.1120696,3.305078,3.6518533,3.660025,-7.450606,4.1944737,3.660025,4.1947494,4.0850782,4.086055,4.6235275,4.6876216,4.6867495,5.33494,5.334546,6.3249135,6.3248034,6.325387,6.025789,6.325387,7.076788,7.076788,7.122525,7.8677387,7.8440995,7.6563163,8.996882,8.324843,9.31291,9.31291,9.281557,9.313122,9.667927,9.544858,9.665968,9.92582,9.785234,9.904397,9.924016,9.924016,10.060894,10.182271,10.059889,9.932176,10.111459,10.115513,10.1139555,10.110284,10.054786,10.054786,10.054786,10.053717,-9.54052,9.953228,10.053717,10.051212,-9.542299,9.748247,9.748247,9.602578,9.7467985,10.198095,9.750647,9.757556,9.052358,9.052751,9.052752,9.067117,9.068208,9.058893,8.8010845,9.07642,8.028894,7.6996202,8.025626,8.025626,8.029243,8.029243,8.026476,7.6991796,-10.732308,7.6996093,8.028894,8.028894,8.026478,6.9126973,6.2347274,6.5852532,6.576434,5.143824,6.5853767,6.5853767,6.5853767,6.910589,6.2336264,5.143824,4.5362062,5.141926,-11.876351,5.141926,6.584147,5.13799,5.1046243,4.173041,-11.877551,4.173041,4.173041,5.652452,4.5323315,5.649514,5.1412735,5.174106,5.174106,5.141274,5.1412735,4.5332065,3.4859903,5.1725774,3.7357712,4.849515,-11.905797,4.310657,1.90791,4.484975,7.778231,-18.76289,9.681553,-1.962227,-3.312301,8.756154,8.482573,9.047487,-20.78926,-3.3074815,-3.3358834,-2.0038803,-1.3601513,-19.915258,9.8293705,-1.391931,-2.6307654,-2.6314113,-2.6318543,9.329571,-20.110563,-1.9691234,9.261207,-1.9736894,-1.3406954,-0.76497847,-19.610807,-0.7870126,-0.7870126,-0.294236,-0.29423583,-18.302713,0.59118366,-17.825851,-17.828886,-17.100048,-16.825407,-17.326456,1.442372,1.0199114,0.6181818,8.78718,9.233189,8.78718,8.787534,8.787534,8.198295,-10.098335,-10.741486,7.8703246,6.3527713,-11.333242,7.1172895,-11.755952,3.5510943,-12.077552,-11.76503,3.9068995,3.970815,-12.2451725,4.2202597,4.7797823,-13.399535,-13.462678,4.7366223,-13.513222,4.7868953,4.905371,-12.595617,4.889916,4.7285013,-12.550053,-12.497409,5.4088984,2.674822,3.1328487,3.1328487,3.5002108,3.0880957,3.507777,2.394537,1.8188254,1.7223934,1.7223934,1.7223934,1.7223934,3.1652484,-12.173268,3.1002264,3.1002264,3.1157997,4.820706,4.983187,4.820706,3.1506834,5.1384687,3.1143901,4.820719,5.1411166,5.1411166,3.1157997,5.1411166,4.820706,4.820706,4.8472137,4.975227,5.4261274,5.426192,5.298187,5.3427153,5.342713,5.342713,5.389007,5.3053217,5.390409,5.390409,3.1395352,5.2966356,3.499696,3.500463,3.500463,1.8612825,2.3152432,2.3152432,2.3152323,2.3154743,0.85264295,0.85165423,0.009823639,3.6541784,-0.10737074,0.0098235905,0.009823614,-0.7458388,-0.74497265,-0.7396913,-1.7654938,-1.7874275,-2.9337633,-2.9295244,-3.2365441,-2.9292336,-2.927865,-4.3321276,-4.261896,-4.7059646,-6.1819277,-6.181928,-7.409016,-7.407145,-6.183267,-7.410883,-7.409016,-7.406984,-7.4232345,-7.4053583,-8.548635,-8.376345,9.468261,-8.778215,-8.747459,-8.523948,-8.4602375,4.665977,-9.584759,-9.11918,-9.553357,-8.888922,-8.770934,-8.772549,-8.417741,-8.523948,-8.370918,-8.370918,8.891146,-8.417263,8.959632,-8.524284,9.437821,-8.468463,-9.44353,9.437578,-8.851021,-8.97123,9.423933,-8.991967,8.797911,-8.888022,8.866465,-8.97123,9.423933,9.423933,8.842275,9.389689,-8.112447,8.823366,8.785947,7.400393,-8.151606,7.3968973,-8.168538,8.767784,8.767784,8.767783,5.0931377,5.0930905,5.093109,-6.403242,5.093107,6.8456416,4.962875,4.962925,6.84551,4.9626465,-6.2708325,6.8441052,4.6949487,6.8441043,6.8441052,6.8427076,6.8459873,4.3761897,-5.909974,4.248615,-5.065805,4.6949496,4.249294,-5.9100075,-5.910117,-6.123845,-5.910151,-5.9100075,-5.910151,-5.0845895,-6.125453,-5.0919466,-5.0919466,-6.123424,-5.6736364,-6.123424,-5.0919757,-5.101087,-6.133077,-5.4660416,-5.4660335,-4.9952307,-5.257414,-5.257414,-4.7678437,-5.1277256,-4.767841,-4.258293,-4.2582335,-4.258293,-4.2583313,-6.116243,-4.7678437,-4.7678385,-4.2583747,-4.2583747,-4.2583747,6.835784,-4.076817,2.8328092,-4.3249264,2.868729,-6.121189,-6.1112084,3.453577,3.6429944,3.4257283,3.631448,3.6312633,3.7814248,3.7847722,6.8408437,3.6314256,3.7814207,3.7814207,3.7847688,3.7762902,3.7762902,3.7762864,-6.1751704,3.7847593,4.00651,4.3077383,4.3077383,-6.3976116,3.6312022,-5.3199077,-5.894594,3.1801786,-6.127485,-5.894485,-5.3199096,-5.3200717,-5.3200808,-5.3201213,6.8335147,-5.8944874,-5.5632315,-3.9735827,-5.5632315,3.776284,3.784755,-5.5632315,-3.9735887,3.8963962,3.8964033,4.224133,4.224133,4.224133,3.8964663,4.2241325,3.8977072,-5.2028384,-6.0137305,-6.0137305,-6.258633,-6.2589574,-6.2589574,-6.2589574,-6.258691,-6.5965014,4.426267,-6.120819,-6.258691,-6.258691,-6.648751,-5.3378863,-4.0211334,-6.345264,-6.345259,-6.649012,-6.335024,-6.3419237,-6.3419237,-6.335024,-7.208234,-7.2092466,-7.207097,-7.2150216,-8.603052,-8.602748,-10.917163,-10.136049,-1.0974444,-10.924845,-0.162445,-10.173222,-10.91102,-9.75872,-10.148247,-10.936853,-10.936853,-10.212426,-10.2124605,-10.2124605,-10.21245,-10.212437,-10.378741,-10.125333,-10.068852,-10.904725,-11.355799,-11.479097,-11.424637,-11.346903,-11.836986,-11.865973,-12.014699,-11.865621,0.7656137,-9.969704,-9.876249,-11.344828,2.3185782,3.513984,3.287589,-12.512789,-12.248149,-11.792553,-11.375199,-11.369835],\"z\":[5.29551,11.892073,12.099552,19.065575,19.413668,18.957014,19.12984,19.293358,19.19693,19.12984,19.19693,12.58564,12.242288,12.250532,12.551651,19.406443,19.146769,12.495792,12.427435,11.946438,11.945872,11.935107,12.084829,12.8688965,12.615762,12.530329,12.559213,12.546696,12.084824,12.084841,12.30827,12.040338,18.897516,19.133606,12.87289,12.064008,12.6967,12.85319,12.632831,5.297221,5.297221,12.329502,5.529261,5.529261,12.620339,5.289242,5.527957,5.528167,-8.413133,2.5471835,2.5481758,2.544647,-7.8933907,0.7859999,-7.428293,1.5564914,0.18905555,0.5402593,-7.4356656,-0.05444315,-5.8163548,-5.9769864,-5.1420693,-5.537331,-1.5540568,-4.319376,-4.052892,-2.3396668,-4.6323667,-4.51324,-1.4768089,-3.0894816,-2.8697205,-2.1125972,1.830312,-1.3554003,-1.2994009,-6.653914,-1.5273974,-1.2636796,-2.115203,-5.7039013,-2.109935,-2.6350834,-1.9741292,-1.3528597,-6.2956653,-6.6628675,-1.3788489,-6.806226,-6.72946,-6.439221,-6.537162,-6.204557,-6.204557,-6.5154557,-5.2377954,-3.4518402,0.55230415,-3.724187,0.28668535,-4.2088833,-4.2088833,-3.4007554,-6.6533985,-6.6404734,-0.95638764,-0.65970093,-6.713065,-3.296504,-1.0839185,-3.297829,-6.8245316,-3.7298527,-6.8379593,-3.748826,-0.9943307,-6.663687,-1.0113131,-6.6487484,3.213399,2.8274257,-6.7173233,-6.7173233,-6.7124305,-6.7705913,-6.742425,-6.813697,-6.8080325,-0.90780705,-6.79606,-1.1132714,-1.117313,-1.512596,1.7621094,1.3175824,1.3465153,1.3465153,1.3676296,0.9894891,0.9889281,15.995041,15.977694,0.4118937,0.4210203,15.910138,15.909278,15.973209,15.972496,1.0705338,1.064423,-2.287662,-1.8385361,-2.320309,-1.8622935,-5.81915,-5.804815,-5.700657,-5.7022886,-5.6726365,-4.226442,-4.525543,-4.5350485,-4.5350485,-4.6028953,-4.6172376,-4.6927333,-4.692734,-4.7092233,-4.7092237,-4.848598,-4.868891,-5.2322555,-5.803769,-6.958875,-7.1962757,-7.1938057,8.020458,7.9887896,7.8478065,7.6327877,7.640363,8.462688,8.456479,9.442364,9.439838,10.398326,10.49256,11.369332,11.279763,11.279763,12.081749,-8.531159,12.095983,12.097744,12.100818,12.686079,-8.818643,12.689868,12.689868,-8.811392,-9.536965,13.180699,13.255316,13.568681,13.5409155,-9.956818,-10.18853,-9.486335,-9.939402,-9.912009,-10.918633,-10.665642,-11.455422,-10.946953,-11.228298,-11.232113,-11.232113,-11.691839,-11.671525,-11.691839,-11.666303,-12.494773,-11.989796,-12.486452,-11.989796,7.627459,-11.989796,-12.124267,-12.551958,-12.139107,-12.109606,-13.124537,-13.134116,-12.1290245,-13.146139,-13.160724,-13.033234,-13.728455,8.222492,-11.978584,7.6137757,7.879288,7.8788266,-14.192995,-14.684175,-13.635046,8.27701,-12.825534,13.950012,4.770429,7.73394,2.2196155,-6.5599813,-5.563568,-0.02528052,-0.024319826,14.053813,0.22641163,0.059419315,14.0525465,11.607255,11.966597,2.6003914,2.015125,2.853745,1.8611745,12.303801,11.80478,11.016645,8.729014,-9.315345,11.950053,12.319078,12.746604,10.720867,11.056446,2.6051605,7.586801,-12.22136,7.5619683,-20.002726,-20.143248,7.57746,-20.000664,6.980366,1.3504926,5.564775,-0.11582598,8.49486,-8.762043,-7.3980536,12.31131,1.8887944,1.4497033,2.6024485,3.3544457,9.208453,8.859503,8.988648,4.0701065,7.5958686,-14.059615,-18.97972,7.020771,-18.223368,-17.857481,6.286774,-17.261654,-17.564783,-17.798817,-17.822773,-1.2587928,-17.66787,-17.78438,-1.4525883,-1.4521931,-3.0829237,-1.4560124,-3.0720165,-3.0877156,-3.0811245,-3.081125,-5.0091276,-4.707182,-3.5456383,-5.000155,-15.54268,-4.7078495,-4.706079,-4.9990225,-5.917341,-6.086739,-6.086739,-4.7058134,-6.1585236,-5.9173408,-6.158524,-7.2008357,-6.158524,-17.297396,-17.14877,-6.9089537,-5.963652,-5.809274,-5.7680893,-5.385987,-5.4912577,-5.6974554,-5.6974554,-5.9306417,-5.166217,-6.8897505,-7.1979423,-6.54207,-16.36463,-7.1730037,-5.963652,-7.1742463,-6.5286493,-6.5334883,-6.529802,-6.5331573,-6.5334883,-4.7727175,-15.799834,-16.286324,-6.066113,-16.433445,-16.101988,-5.4029818,-5.296436,-5.309708,-10.216185,15.516694,0.8386768,0.6658193,0.1516934,0.024641925,0.18354023,0.6093709,1.5393572,11.878421,9.347713,10.337366,10.675267,11.012885,11.367833,2.6484158,2.6168017,2.880971,-8.5246935,8.083001,8.501555,-13.987151,-15.224579,-15.405451,7.7345653,7.7053137,-18.283342,6.9848185,7.0021963,5.7968645,5.7463756,5.6968756,5.735295,3.3049355,3.3049355,4.271635,5.3032084,3.3824975,3.2870798,3.1879113,4.088132,3.1648128,-10.211342,-10.21314,1.932609,1.9326042,-12.352069,1.8891628,1.8824339,-13.443256,0.33147338,-0.22009586,-11.66638,0.866074,-0.5479199,0.82563394,-1.8771014,-13.443388,-0.22543707,-1.86746,-1.4590244,-13.956105,-14.012992,-14.352791,-14.013435,-14.013146,-13.954679,-1.4625582,-14.062063,-1.4589626,-3.547522,-17.438862,-3.546339,-3.5475206,-3.0970447,-3.5475206,-4.7021303,-4.7038336,-2.8103788,-17.181993,-4.702048,-3.1020977,-17.460297,-4.704806,-3.1224024,-17.242926,-17.242926,-4.702448,-4.6856,-4.700346,-4.700397,-17.244928,-17.204895,-5.7270074,-16.919666,-5.5722456,-5.5722456,-16.870697,-4.472873,-16.610838,-5.0939116,-4.6676025,-15.983507,-16.883724,-5.2121344,-5.188935,-16.340652,-16.891623,-5.188935,-15.847553,-5.2121344,-17.197947,-6.282933,-16.631819,-6.4237747,-16.612312,-6.3025856,-5.235469,-6.3945904,-6.3895264,-16.589127,-15.850769,-4.6403275,-6.3296027,-15.789246,-14.974507,-15.843862,-14.968865,-16.136826,-15.789246,-16.16501,-15.4681635,-5.7746744,-16.318872,-15.776459,-15.787604,-16.318872,-15.840537,-15.786932,-16.591957,-15.41264,-15.789677,-15.789958,-15.828753,-5.7282414,-15.815461,-15.607234,-16.050531,-17.001352,-16.082012,-16.082012,-17.281952,-17.035412,4.750056,-17.59593,-17.286562,-17.972929,-17.801428,5.804889,6.490657,7.0063934,-18.500038,-18.258295,4.338229,-18.964544,-19.62691,-19.94938,8.312637,-19.95333,-19.630898,-19.962048,8.309478,8.829357,-19.622154,-20.320084,8.311278,-20.314085,-20.328539,-19.623981,8.314306,8.312031,-19.180433,-18.939384,7.6781826,7.6769667,-19.174692,-18.46374,-18.20538,7.6784024,-18.914028,7.6752353,-18.169931,6.3464775,6.962739,6.1652308,-18.026981,-17.89868,6.130486,-17.881485,6.153962,6.124295,5.6173725,5.6088514,5.623913,5.720312,5.6033664,5.603368,5.159268,-17.355946,5.1395497,9.613486,4.6520753,4.753345,4.2804966,4.284243,4.284243,11.8459,4.228081,4.2280807,4.0156984,4.017315,4.0156984,12.345328,4.0132713,3.8203492,3.87484,4.012399,3.8737924,3.8510637,3.8752298,3.8433878,3.8740847,13.365059,3.851008,3.8433878,13.365059,3.8433878,3.851008,4.015189,13.367213,14.26677,13.370999,4.0733604,3.8506784,4.4416046,3.8506784,3.8504746,3.8418777,4.074868,4.0166135,3.8476408,14.339456,14.339456,14.357728,4.0143404,14.318024,4.015045,14.368227,14.313117,4.014199,4.2624693,4.421365,4.0093374,15.512601,4.269369,14.384112,15.522522,15.557022,15.531495,4.474737,4.474737,15.544888,15.5448885,4.4730935,4.4730935,16.844805,16.848047,16.24217,16.844805,4.5811234,4.5811234,18.017305,16.848047,17.130968,16.849554,18.355104,17.20125,18.032015,4.6431417,18.030884,16.85713,18.032015,16.85817,18.020372,17.307432,17.307432,17.364204,18.636726,18.730854,17.42143,17.43326,19.866642,18.730854,18.55551,21.23572,17.43326,21.224632,21.224632,21.514832,21.514345,21.281105,21.485554,21.224632,21.281105,21.276953,21.432344,19.880192,19.870867,4.677733,20.682335,4.6799965,19.871323,21.331112,21.331112,21.331112,21.467382,18.946638,21.467382,18.946638,19.871323,21.746595,19.249752,21.467386,21.331114,21.638374,21.793922,21.603624,21.793922,17.764338,19.342913,17.764318,19.367826,20.683043,20.68689,19.64513,20.683458,19.742693,19.680216,19.680342,19.601196,19.534029,19.507633,19.50875,19.72147,19.382515,19.72147,19.382515,19.382515,19.382515,17.97703,17.72931,17.984892,4.5953155,17.72931,19.257164,17.72931,19.257164,17.978222,17.970491,17.970491,18.68261,18.68261,17.790258,16.935015,16.935015,17.97803,17.970491,17.97803,16.332256,16.311367,16.311369,17.972294,17.963062,16.673552,20.695152,16.312517,16.312517,4.488755,15.860513,15.001911,15.023138,14.921978,4.296657,14.992173,14.998611,14.998611,14.983055,4.274718,4.274718,4.2875323,4.2875323,14.952771,14.983055,4.177017,13.78982,14.9133215,14.932802,13.796002,13.783437,3.8538811,4.173434,13.796004,13.797536,13.796003,13.796003,12.752467,12.748201,12.558246,12.753696,12.767423,12.762775,12.748742,12.758,11.841536,11.929611,11.929897,4.001281,12.757585,3.9739108,4.000487,11.931155,12.7615,4.0007854,11.93294,11.931155,4.0007854,4.231047,10.380701,4.520305,9.477226,4.520305,7.52842,4.825449,7.627192,7.516119,7.538614,7.516119,7.615853,5.2042227,5.269604,3.1596773,6.519346,6.514155,-18.30372,-18.30372,-19.034372,-18.493227,9.194597,-18.360655,9.193446,8.505808,9.207118,10.081968,-2.592994,10.070275,-3.8841076,11.012793,-17.077435,12.294106,-6.497099,10.802222,12.230363,12.230363,12.705138,12.346039,-16.334654,13.2239685,-7.5695167,13.283235,13.547609,13.406794,13.365817,-8.541617,13.97954,-8.560788,-8.493033,-9.10743,-9.179066,-9.179066,-9.194097,-9.113498,14.651448,-9.123117,-9.209568,14.92161,-9.201433,-9.209568,-9.123117,-9.209568,14.6736765,14.701701,-8.51613,-9.127131,14.016725,-7.7178035,-8.579513,-7.690827,-7.679225,-7.6473813,-6.7209,-6.6995544,-6.702821,-5.378064,-5.3855934,10.835776,-5.378181,10.901908,-5.2737393,-5.2734685,10.886085,-3.9451993,9.9782715,-3.9151871,-3.9434624,-3.9434624,-3.9434624,-2.5584846,-3.935348,-2.5577636,-2.6298177,9.1534395,-2.6315343,-2.5584846,-2.5584846,-1.4741358,-1.4639119,-1.2467405,-1.2422193,-1.2422194,8.463256,-0.035838105,-0.03583807,-0.017916502,-0.017047921,6.456875,1.338247,6.456875,1.3382585,1.6747674,5.860751,5.8807273,5.8824096,3.2170117,5.3098717,5.305651,5.3054233,7.3608155,5.1939,5.1906805,5.190352,7.370562,5.34545,7.138111,4.5124617,7.3800726,4.8072677,9.116926,7.396951,4.5177665,7.404994,9.116929,9.135322,23.108416,9.480895,9.145622,7.529512,7.526253,9.479129,9.135322,9.135322,9.135322,23.172838,9.116931,7.4122252,23.172838,23.172886,23.177399,4.826582,7.52842,7.5314226,7.155858,7.154686,23.279135,7.5484138,7.412224,23.279518,5.178215,23.17765,5.1749053,5.1749053,5.1749053,3.2028496,23.279518,3.2048948,23.440538,3.2048948,23.440538,3.2028496,5.1749053,3.4170694,3.203019,3.1888885,3.2026958,23.517088,3.203019,1.5543534,1.5688695,1.5671483,23.440538,1.5526804,23.47579,1.5526804,1.5526804,23.66521,1.5526804,1.5543532,23.821938,23.665243,1.7555643,1.5543534,23.96365,1.5556448,0.14595287,0.07824252,0.14379399,24.255566,23.964039,0.13797654,24.247927,0.13797654,0.13797662,24.349596,-1.196032,23.95644,0.13844088,23.963114,24.321268,24.321268,23.825653,24.34463,23.826704,24.330864,23.615654,-1.3773698,24.34463,24.503433,24.717018,24.349596,-2.51538,-1.1960323,24.40993,24.717018,24.717018,24.349596,25.118023,-2.51538,-2.51538,-2.5234625,24.500679,-2.5234842,24.708563,25.133913,24.70856,24.500679,24.500679,-2.577444,-2.5310504,24.104612,24.496058,25.149752,-3.848585,-3.8478441,25.148838,-3.7061677,-5.2548704,11.205364,-5.264643,-3.8683429,25.257639,-5.2658887,-5.2661915,-5.2661915,12.303055,11.101857,-6.37558,-6.4442267,-5.223175,-6.4442267,-6.4442263,-6.4442267,12.72909,-6.3594027,25.30494,13.30895,-7.380967,-6.352677,-5.1819806,-19.355865,10.70572,-5.1791105,-17.650394,-17.611025,-7.155864,13.376589,12.389413,-16.29845,-16.303408,-16.304644,13.966556,-10.20473,12.376651,12.398774,12.543677,13.103748,5.7511053,5.2620234,4.7017813,4.685742,3.8969464,3.664658,3.455706,2.9809914,1.4608282,-0.6187451,-0.8295329,-0.95426065,-1.1236417,-1.3315527,-1.8307064,-2.1287959,-3.8137686,-3.853687,-3.8863878,-4.003954,-4.6142387,-4.82686,-4.5205894,-4.858468,-4.862788,-4.862527,-4.8588123,-4.9576573,-4.845342,-4.958012,-5.2779155,-5.2800145,-5.1650405,-5.1284323,-5.3847995,-5.4452934,-7.1609683,-5.4502325,-7.3239117,-7.3953047,-5.3786316,-5.6001463,-5.835035,0.4462711,-6.823945,-1.0249829,-2.225717,-5.7613926,-2.1568387,-1.9682841,1.7016152,1.6703049,1.6571665,15.272865,-1.1323019,2.2631998,-6.2172775,-4.271438,-5.8836384,-4.4540977,-4.368931,-4.7399487,-4.4082165,-4.489341,-4.7926583,-4.789096,-4.8399982,-6.2007256,-5.1558332,-6.226327,-5.3525515,-6.215357,-6.2147536,-6.213673,-5.238838,-5.161122,-5.1798954,3.688635,5.699894,6.3321567,6.355981,6.3565226,6.332156,-6.3084846,-6.147723,-6.6561027,9.198829,-6.8988395,-6.9632177,-7.380395,-8.034322,-8.278701,-8.657882,-8.657882,12.456837,12.453571,-10.545624,-10.545625,-10.75805,-11.554659,-10.306128,-11.2834425,-11.2834425,-12.281214,-13.1393585,-13.35908,-13.756452,-14.040062,-14.126287,-14.628236,14.467799,-14.679139,-15.170435,-15.822759,-15.822759,13.559383,13.408744,13.588721,-16.265114,-17.578848,-17.604427,12.814087,-17.64391,11.711782,12.85708,-17.610023,11.542476,12.823213,-17.63652,-17.63652,-17.643644,-17.660048,-17.675259,-18.205208,-18.37911,-18.205198,-17.58641,11.742245,11.432899,-17.682487,-17.595903,10.755822,-18.380493,11.521622,11.736783,11.54254,11.543071,11.54254,-17.610094,12.469595,12.849033,-17.311525,-18.385405,-17.33804,-17.338037,-17.33804,-18.385399,13.428156,-17.252098,13.577546,-17.45065,-17.697802,-17.884193,5.1688614,-16.361582,5.4037285,-18.841604,-17.80042,-18.469278,8.569364,8.691494,-17.445457,-17.919239,13.724577,-16.390108,8.78075,-16.252037,-16.270155,-15.98517,13.69114,14.149003,14.045985,14.065256,14.073815,14.078928,14.21856,14.082033,14.423313,14.089717,14.221751,13.86691,-14.828586,14.222936,-15.258015,14.416079,14.662395,-15.195372,-15.218478,-14.759558,-14.759558,14.261572,14.246214,-14.728455,-14.720338,-14.696216,-14.696216,14.243737,-13.754023,14.243737,14.229221,-13.156462,13.700183,13.689262,13.688877,13.689262,13.700204,-11.332778,13.399684,-10.78867,12.930029,12.424363,12.962894,5.930968,-9.589035,12.9627285,12.408055,11.782752,11.785347,5.770746,11.786933,11.780402,5.5578203,5.55812,11.102398,10.097009,9.128193,10.209339,9.224584,9.2225895,4.969459,9.1274805,8.357565,4.422482,4.4223547,6.3512673,6.3015447,4.1555953,3.9200118,5.6090302,5.6198077,5.6198077,5.0476494,5.0476494,5.0476494,4.5292473,4.5292473,4.0476193,4.0479374,4.043987,4.0428534,3.603172,2.614701,3.152685,3.1482797,3.1512275,3.150876,2.652436,2.6481383,2.285965,2.156255,2.1046555,1.8312153,1.705259,1.6546006,1.418096,0.37525406,0.37550917,1.1944892,1.1944892,0.32067078,-0.24847889,0.7648489,0.7633413,0.7523319,-1.1674483,0.7519195,-0.87057894,0.7500449,0.76276565,-1.1660236,-0.8946233,-1.1629982,0.5192571,-1.7950994,-2.3873827,-1.7167959,0.10466717,0.5157142,0.3114175,-2.3115475,-2.6369133,-2.6347837,-2.7866642,-2.7954168,-2.863748,-2.864342,-2.8918242,-2.9008086,-0.5151113,-2.9018393,-0.6493885,-2.9735892,-2.8488553,-2.7127733,-3.0450897,0.4915065,-2.1089857,-3.060472,-2.9971666,-2.9953978,-2.9889748,-2.9487965,-2.984149,0.3235327,-2.8967943,-2.4788017,-2.8954594,-2.9729702,-2.454756,-2.4777248,-2.458078,-2.4580765,-3.0016778,-2.4702241,-2.6460745,-2.6461873,-3.0007076,-3.0005658,-3.0203142,-2.645385,-2.7439504,-2.6438434,-2.7445078,-2.7445078,-3.0217028,-2.8553782,-3.0260017,-3.0082893,-0.74902844,-2.8498373,-2.8989081,-2.8557804,-2.8992434,-2.9583075,-2.9004729,-2.8988857,-0.5089479,-2.92999,-0.51219803,-2.9092388,-2.919199,-2.9208305,-2.9387965,-2.974795,-2.9747295,-2.8845282,0.09504669,-2.8885124,-3.0105782,-3.0235705,-2.822171,-2.9970825,0.30133632,-2.5876007,-2.833289,-2.6760826,-2.6760888,0.48682502,-2.6760828,0.51361793,-2.5920079,2.497521,2.9978802,2.7039123,2.479358,-2.6561463,2.6007512,2.4782965,2.6273427,2.4793596,2.829416,1.093068,1.1258965,1.5833733,1.5824618,1.5957345,-7.1824813,1.0828859,1.5920603,1.0828859,0.6195372,1.6194082,0.6195372,0.6195372,0.6108413,-0.498576,0.62880814,1.0037091,-7.341034,-0.50898063,-1.4710685,-0.562309,1.3089621,-1.8698627,-2.2830071,-2.2786443,-1.8669263,-1.8891696,-2.2709749,-1.4411663,-2.2666383,1.4893926,1.4976058,-2.2588341,2.0966291,-1.4698232,-1.4747643,-2.2883105,-2.3004847,-2.3004847,-2.3004847,2.0913508,2.0913508,1.5230553,-1.4958249,1.3298541,-1.4743869,1.5335418,-1.4743869,-1.4743869,1.537793,-0.5849645,-1.4779423,1.0093507,1.0093507,1.0043511,0.77665585,0.778602,1.4209952,0.77703923,1.0043511,0.25828743,0.77665585,0.3264652,-0.28429216,0.3842512,0.53246665,0.97416675,0.38466713,-1.0532892,-0.28341398,1.5168587,1.5168587,-1.0532894,-0.89797145,-0.34647706,-0.28429216,1.5168587,-1.0483539,1.491124,-1.1786542,-1.0690148,-1.0690148,2.1144075,-1.0725062,2.5660303,-1.0715678,-1.0715678,2.1141753,-0.9137504,-1.0930188,-1.2639974,2.130805,-1.1811032,-2.059168,-1.0908197,-1.1811461,-2.059168,-2.059168,-2.059168,2.130915,-1.1811032,2.240073,-1.9272398,-2.2672482,-2.0661507,-1.0930185,2.4299173,-2.2688751,-2.0661585,-2.249972,-2.249972,-1.9335717,-2.2381713,-2.2499719,-1.9418304,-1.9418304,2.0724487,2.06985,2.0782447,-2.7788765,1.9446719,1.7328155,2.3471487,-6.817475,-6.9988813,1.502209,1.2169087,3.5187504,-7.074638,-6.7909226,1.7091651,1.1169368,-2.82636,-2.3865361,-2.0455155,-2.5481946,-3.4108663,-2.9413755,-5.397091,-5.3765197,-3.3914247,-2.152743,-2.5498848,-3.2015595,-3.216548,-5.4022946,-2.9594762,-2.5488102,-2.5489638,-2.6521933,-2.546739,-2.9606056,-3.015612,-3.0465643,-2.7184849,-5.3761535,-5.3380957,-2.5513601,-2.552045,-5.3490543,-2.2597854,-2.466471,-5.3312488,-5.352562,-2.9720688,-5.3390164,-5.377343,-3.2132561,-2.5485075,-5.405343,-2.5482135,-2.903961,-5.3751016,-7.3995876,-5.330432,-2.0643291,-5.368245,-1.869905,-5.364681,-2.0516841,-5.366112,-8.351257,-2.467202,-2.467509,-7.3819156,-5.3454742,-7.3540177,-8.255771,-7.38279,-8.326319,-7.442356,-7.476163,-5.348967,-7.4720445,-5.3987484,-7.499114,12.9639225,13.035408,8.544134,8.407154,13.271131,8.212238,13.277684,8.209989,13.278088,13.346319,13.272644,13.272681,13.34375,13.347407,8.210062,13.27254,13.278406,13.2718935,8.208852,8.179083,8.179083,7.499617,7.461969,7.499618,6.98212,7.462054,7.0538816,7.047774,7.0546365,7.0546365,6.684104,6.2392898,14.565832,6.1454234,5.656663,5.6567674,14.746731,14.504027,14.745415,14.501823,14.612977,14.663939,14.556874,14.563959,15.104502,14.942579,14.616728,14.946195,15.925716,15.106415,15.925716,15.541158,15.541158,15.925716,16.200468,15.395265,14.993813,15.931017,16.179182,15.535394,15.911713,15.936059,15.936059,15.734704,15.902715,16.450373,15.792264,15.526472,15.781776,16.133669,16.14497,2.299602,16.135796,16.381052,2.2843752,16.06573,16.142382,16.136215,2.6302001,16.141663,2.2864156,16.142382,16.053167,16.138073,15.788467,16.040033,15.789267,15.823262,16.095448,15.798498,16.14068,15.818571,16.441698,16.670696,15.465712,15.764119,15.658017,15.439642,15.123658,15.438147,14.996748,15.189244,14.676252,15.772659,15.4256,15.394498,14.842063,15.189243,15.764423,15.189242,15.400159,14.566235,14.670461,15.259334,15.170767,15.154064,14.996792,15.197933,15.197933,15.132144,15.010671,5.1941533,5.33412,0.28281415,-6.4782486,0.18204796,5.304529,4.99527,4.8729835,5.339278,0.17999491,0.29274127,-0.048973624,5.5901747,0.05645474,0.2571041,-0.071495496,5.1027837,-0.06864439,5.363853,4.9672356,-0.2439713,-0.255596,14.916932,5.265724,5.3035502,5.850394,-0.24397002,0.088621676,0.087092765,-0.11014335,-0.08562068,5.761847,5.822482,5.8212376,5.363989,14.881969,14.607754,14.598752,14.277584,14.576836,14.588231,14.4185295,6.648359,5.71507,15.060666,15.392511,15.282237,16.753119,15.504001,15.609506,15.603477,15.777336,2.2187092,15.995013,1.8369151,15.991699,16.006914,15.992062,16.003311,15.965376,15.961642,15.748733,15.796078,11.083667,15.647567,11.085042,15.791013,15.741609,0.2640777,15.635156,15.69858,15.724203,0.78259254,15.501095,0.26708186,-4.3497543,0.30052537,0.8425557,-3.0026226,15.33997,0.01558897,10.619315,15.171224,10.37946,10.624464,15.011307,10.385845,10.265877,10.155557,9.091837,9.068292,8.8793745,14.558718,14.29156,14.052456,9.018296,1.7499933,9.747299,9.355704,9.905615,13.377271,-0.039695017,-5.2554193,-5.664201,-5.958404,13.386199,1.7204683,1.6624727,1.9466162,1.9478393,1.9746457,1.7713096,-7.029675,-6.640479,-6.263231,1.1273407,-5.939782,-5.9508276,-5.9606323,-5.6797338,0.21316291,-5.6797338,0.22152436,0.26271686,-5.697397,0.09893037,-5.6932735,-5.7025614,-5.7101526,-5.710326,0.17153907,0.18034755,-5.728291,0.36255565,0.3193691,0.3626168,0.37643397,0.3313574,0.5804948,0.34410736,0.58938134,0.80905837,0.58938116,0.58938134,0.5946051,13.947411,0.8109049,13.964639,13.958472,14.019599,14.176195,14.001874,14.003973,14.003973,14.172689,14.17024,14.4137,10.157924,14.444846,14.112541,14.171264,13.982754,14.336779,0.8611639,13.948205,1.1488096,1.2274282,1.2525499,-6.691986,4.403672,4.3720264,6.085924,-12.660178,-13.090157,-13.133924,-13.911952,-14.084124,-14.432477,-14.440408,-14.555274,8.76492,-14.6074095,-14.513013,8.700157,-15.241822,-15.384258,-15.383363,8.364153,7.660582,6.9692426,7.655736,7.0316415,7.110403,7.032563,7.003137,5.8482075,5.425473,-20.062618,5.41288,18.67587,-19.207594,3.435857,18.675882,19.12984,18.786146,19.12984,-12.102464,-11.4735565,2.797847,-11.488593,-10.902639,4.805675,6.9828234,-14.444622,-15.835749,-15.375512,-14.414687,-15.929414,-15.899685,-15.797694,-15.822594,-15.614788,-17.71558,-15.100416,-15.25775,-15.052633,-15.322041,-14.792778,-15.047003,-15.080827,-15.375178,-15.083441,-15.082008,-15.082008,-15.6733465,-15.65568,-15.371501,-15.802677,-16.213827,-16.529732,-16.234253,-16.59669,-16.664196,-16.766207,-16.99032,-16.990322,-16.99177,-16.99032,6.432079,-17.372684,-16.923058,5.6273794,-16.939404,5.8106337,5.909538,5.763889,-15.413325,-15.996958,-2.186752,-12.894004,-15.086808,-15.63425,-15.63425,-16.128574,-16.090996,-15.921002,-15.7303505,-5.992041,-6.0377502,-13.673093,-13.620194,-13.595404,-13.55345,4.8580174,7.9907527,7.012493,-16.39799,-17.029716,-16.816835,-16.629036,-13.668707,-7.2435265,-7.221696,-14.07549,-14.779181,3.954925,3.9811633,-3.6242697,-17.86339,5.76075,-0.87817425,-13.765977,-12.817146,-0.42625663,-0.25489536,-14.752896,-15.409074,5.365265,5.6377172,5.869541,5.869753,5.81961,5.7596426,5.641461,-16.15685,4.7618732,-17.183868,5.1249194,5.1399403,-1.7897375,-2.232993,-1.947919,-0.581649,-14.379143,-2.2008026,-2.2001486,-15.369005,-15.369005,-14.71418,5.2351494,5.2404146,-15.38655,-15.40587,5.229991,-15.368486,5.226502,-15.909261,-14.705981,5.2692347,-14.707078,-14.332321,-3.5559175,-3.6445363,-3.6573045,-3.4431682,-3.4978178,-3.4984891,-5.3820386,-14.83107,-3.762595,-5.3686066,-14.941332,-14.661221,-14.658718,-14.611188,-14.521817,-14.51927,5.14108,-13.892457,-14.56495,-14.654282,5.2275677,5.233301,5.201314,-14.938429,-5.355522,-14.937159,-3.7559884,-5.750578,-5.2198505,4.2980237,-4.7473946,-16.157219,-16.162102,4.8038,4.490026,4.4933705,-4.648569,-3.3659656,-14.644878,-5.2715383,-5.271732,-5.3032255,-5.6432953,-5.7483687,-5.268093,-5.268093,-3.6957922,-5.268093,-3.64936,-3.6365795,-5.268093,-3.550328,-3.6957922,-3.599703,-13.892056,-3.5925477,-3.3837285,-3.589309,-3.6368234,-2.4393768,-3.548857,-5.222108,-3.5805945,-4.775325,-4.7247615,-16.17452,-3.387742,-3.3069615,-16.29374,-2.3007789,-16.50188,-16.50434,-16.485245,-16.630106,-16.55968,-16.470722,-4.6599574,-3.323641,-16.503952,-3.316194,-16.50052,-16.589022,-16.625408,5.7828298,-16.588783,5.759197,3.1313257,-16.313663,6.1616335,-16.417143,3.1313305,3.1316793,5.7370243,5.36316,-16.48549,3.309362,5.3779297,5.730767,-16.399551,5.7345843,3.1364634,6.1571417,6.142401,6.1588387,6.1392665,19.293358,18.786146,18.819332,19.12984,6.5811973,6.5811973,6.584369,-16.472027,-16.643305,-16.651808,9.263313,-16.428446,9.757092,-16.446966,9.91001,-16.554228,11.910332,-16.170378,-16.041101,-15.844527,-13.145775,18.813826,18.786146,-5.175131,-5.646529,-5.286565,-5.457923,-5.4585004,-5.388409,-5.6452236,-6.1673484,0.535048,4.1237106,3.0365458,-8.559918,-10.843293,-7.550364,4.4683504,5.4028354,5.405014,-13.638152,-9.981843,-9.98288,10.974022,-8.397286,-7.3177886,9.443899,10.340255,-7.1721745,-7.1761785,-7.1761785,-7.175305,-7.264945,0.34433544,3.5365846,3.4903467,0.13376741,15.7810335,15.330693,10.955806,10.877999,15.170791,15.0049,-0.109193295,-0.15287605,-4.843099,-7.4400654,-7.4419794,-7.458867,-7.09026,0.20115532,7.6234074,-6.7708163,0.19743243,2.3822746,-7.575427,-5.4863944,-5.0331903,-4.1693115,-3.0692976,0.2368231,-4.453693,-4.456681,-4.1762357,-0.033572193,-0.031017523,10.86934,15.982589,14.793963,13.755062,10.95603,14.348529,9.111788,0.0077800583,10.155897,0.0836554,13.7133,13.707654,1.1084256,1.6919686,11.940048,11.965483,0.2325214,0.24041277,1.3230556,-8.422139,2.8562515,2.5850616,1.9736929,11.202418,11.180616,-6.5475745,-7.63476,2.5817864,-7.6332846,11.952288,-6.465221,10.456252,9.237933,9.355512,-7.269813,4.362545,1.9968612,3.108212,10.748568,3.347312,2.8851273,2.8693864,2.2736843,3.3390775,3.1023436,2.2784748,-7.4639087,-8.362608,2.6172638,2.8587132,2.8549466,3.3531456,2.8568099,-6.466235,-6.307868,12.314448,2.2811353,2.5869741,-7.4394326,-6.6561575,5.902429,5.860339,6.3829346,6.466469,6.5274997,-8.01304,-8.063779,-8.326653,-8.327082,-8.53875,-8.241648,-8.123199,-7.996142,8.744367,8.769551,8.765927,-15.245558,-15.510794,-8.526349,7.7051406,6.476112,7.4372497,-15.922235,-15.441304,-15.970596,-15.872123,-15.800722,-15.374118,-15.37755,-15.368021,12.348531,-15.374815,-15.375192,-15.283025,-15.255522,8.642351,8.424488,8.640278,8.422035,7.742048,-15.964695,-15.949858,-16.322824,-15.978796,10.503918,10.188099,-16.324177,9.868381,-15.554955,-17.925617,-18.304659,-18.33061,-16.093176,-16.093174,-16.04292,10.206861,-16.031109,9.882705,9.882704,-17.88301,-18.233845,-18.14233,8.380807,-18.27738,8.294008,8.253147,8.253146,7.6380644,-3.4434066,-15.262655,8.36047,4.3309565,4.092955,8.980917,4.0590653,4.087435,-12.916243,-13.7285185,-13.730134,5.0330663,-14.722271,-15.821013,8.382093,-1.991686,-12.503991,-12.688941,4.069876,-12.043895,-11.004348,1.6704649,-10.351742,-12.730375,-17.601662,-14.642027,8.731244,4.0686235,3.869622,3.6282763,4.2847924,4.314169,4.315585,4.3257813,4.1016836,-10.22008,7.8535495,7.8469706,-9.867056,-10.187341,-10.962808,-11.25306,-18.0615,-1.8464142,-16.23534,-2.8203907,-3.245879,-3.4545,-3.6158283,-12.767499,-12.112489,-11.495541,-11.492872,-11.523928,-10.95491,4.507554,4.341779,-12.111947,-15.057058,7.8349843,8.382137,7.8723655,8.744476,8.609124,8.60901,8.975694,8.9727125,8.51605,4.3370595,-11.795258,8.814343,-11.791685,-10.147238,-18.922262,10.69363,6.89706,-13.6669445,-13.719231,6.919856,6.773842,4.425432,3.490778,3.2484064,-11.011323,-10.433956,-11.011469,4.160153,4.5369077,4.3406677,4.539816,4.5582495,4.539816,-13.21136,4.730877,4.70796,-11.445238,-10.2193365,-9.879919,-8.889406,8.366837,8.457351,-14.351017,-13.840366,8.607264,8.614754,8.589098,8.5976515,7.9311695,8.584837,8.118756,8.566107,8.599079,-14.313819,8.607401,8.695992,8.585182,8.451437,-15.1694,8.6758375,8.750455,8.7313795,5.700893,5.7667603,4.4176354,-5.5319543,4.23876,-4.8534775,-4.8534713,1.2252637,0.50342554,-2.4415135,-5.592306,-1.2481337,1.779395,1.7957898,-5.721097,-5.6761513,0.9313237,-3.0581136,1.1171031,1.5636666,1.4297328,-0.18052179,-1.7920452,-3.2331324,-3.8414125,-4.676807,-5.5422063,-5.334246,-5.4349756,8.498961,-6.7986507,-7.210436,11.291607,-8.394372,12.571769,-8.922392,-10.507928,-11.264088,-10.929524,-11.5939865,-11.819798,-12.770254,-13.012572,-13.012572,-13.865079,-14.409735,-14.819528,-15.224781,-15.224779,-15.23728,-15.518515,-15.378869,11.270355,-16.433197,-14.321986,-16.331875,-18.318695,-18.359,5.845777,5.483495,4.496267,-10.415471,3.6447163,3.775997,3.775997,3.865021,3.865021,3.7959788,3.877544,3.2317698,3.2369323,3.2369323,3.2543569,3.2543433,2.138424,3.3392153,2.055842,2.1859567,-17.535433,2.1976154,2.1976154,2.1976154,2.197614,2.1976154,2.2088923,2.2941005,2.7151268,2.2088923,3.4944117,3.4944122,-17.740719,2.3049695,-17.746645,3.5135283,4.191742,4.191742,3.5227551,-17.720243,3.5433788,-17.469854,-17.750433,5.253838,-18.367197,-18.3562,4.975799,3.6327443,4.9757996,4.979382,4.400491,-18.358503,4.99189,-19.068167,-18.369211,4.99189,-19.068167,-19.067808,-19.068167,-18.389662,5.40357,-19.343246,-18.645903,-19.078861,-19.524954,-19.338116,-18.585485,-18.645912,6.091943,6.122074,-19.317429,8.523088,-18.52429,-18.524523,-18.523327,-18.199041,-18.523325,-18.19692,-18.196918,-18.19772,-18.244822,-18.244856,-18.24505,-17.716198,-17.717558,-17.763308,-17.763287,-17.719076,7.7440968,-17.764414,-17.146746,-17.717558,-17.229553,-16.877756,-17.240833,-17.240833,-16.831228,-16.831228,-18.38266,-17.564678,-16.831226,-16.831226,-17.573618,-16.838884,13.529388,-16.465467,-16.000195,-16.465467,13.903512,13.929703,-16.014526,13.759884,-15.979312,-16.001173,14.039527,13.9946785,-15.714997,-15.042518,13.9946785,-15.034081,-15.034081,-14.436542,-14.436542,14.091468,-14.436542,14.164176,-14.082446,-13.377043,-13.379097,-13.379097,-12.81171,-12.811705,-12.695916,-12.639449,-11.927025,-12.626908,13.391182,13.390745,-11.697162,-11.012049,12.979664,-9.890123,12.407865,-9.890123,12.94022,-9.051603,-9.049598,11.758463,-9.04412,-8.382809,-8.8489685,-8.150951,10.907201,-8.150285,11.025556,-7.543871,10.164151,10.03007,10.036571,-7.0771585,9.167497,9.171921,-6.990309,8.265676,8.287094,8.176833,7.1652746,-6.637486,-5.9894075,7.4116373,-5.9390445,-5.9289646,6.9116898,7.16713,-5.7919393,6.331486,-5.837685,6.427967,5.7069616,-5.8088436,-5.688792,-5.6937666,-5.7329807,-5.4707966,-5.1490183,-4.56809,-3.9027293,-2.7675436,-2.214912,-0.50013375,-0.22170043,1.398221,-5.6461344,-5.6001697,0.92638665,-5.5172014,0.6475667,0.6500881,0.7816186,-5.579166,1.2905043,1.4982026,-5.6753135,-5.801676,-6.3141418,-6.0316935,-6.174676,-5.966264,-6.1012845,-6.0387726,-5.5547085,-6.196209,-6.066878,-6.001428,-6.0014076,-5.842609,1.4660455,-5.8123474,-5.6851573,-5.7174597,-5.7217665,-5.8010507,-5.702019,-5.637628,-5.818882,0.7297133,-5.823364,-5.442259,-5.579323,-5.455784,-6.114502,-6.11173,0.5379674,-6.2823553,-6.11173,-6.2807055,-6.3259115,-6.3233495,-6.4332166,-6.420068,-6.4186096,-6.460754,-6.469167,-6.268326,-6.276514,-6.2943807,-6.277812,-6.2943807,-6.101294,-6.101294,-6.1095386,-5.9397573,-5.960109,-5.963038,-5.5056944,-5.599728,-5.0927887,-5.0927887,-5.1271777,-5.096926,-4.500775,-4.6269984,-4.5059357,-3.7682476,-3.977754,-3.7927983,-3.768023,-3.768023,-3.0273302,-2.8535755,-3.0269964,-3.2554116,-2.1166475,-2.08754,-2.091556,-2.1224945,-1.122074,-1.1220741,-1.1220741,-1.121156,-6.5103397,-1.3162508,-1.1211559,-1.1481832,-6.509544,-0.061932698,-0.061932717,-0.3149612,-0.0639236,0.46884304,-0.055087272,-0.05249314,1.1522175,1.1530211,1.1530213,1.1388794,1.1402918,1.1608639,0.8986151,1.1463939,2.3922958,2.0381649,2.3817525,2.3817525,2.391784,2.391784,2.3829143,2.0377166,-7.333423,2.038146,2.3922958,2.3922958,2.382915,3.9411469,3.3071265,3.6275399,3.5907547,4.4960756,3.6379075,3.6379075,3.6379075,3.9414458,3.3135316,4.4960756,4.428209,4.490152,-8.372932,4.490152,3.6470833,4.4921856,4.35903,4.9430885,-8.383319,4.9430885,4.9430885,4.4908714,4.4314837,4.4888268,4.5062037,4.64043,4.64043,4.5062065,4.5062037,4.4322953,4.9582906,4.634855,4.9567223,4.557164,-9.944555,5.0898075,-5.5168667,4.407524,1.9700353,0.100754045,-1.4460094,-3.3108692,-2.3349695,-5.4345417,-5.8355374,-5.1790752,1.3605503,-2.3617165,-4.174653,-3.4029114,-3.6894376,0.37232322,-3.4106412,-3.8562312,-2.9787295,-2.9417293,-2.9411492,-4.566641,0.5428615,-3.3459983,-4.665833,-3.262049,-3.4938047,-3.9721744,0.24062082,-4.011944,-4.011944,-4.3816442,-4.381644,-0.008135649,-4.8619485,-0.01263179,-0.012970187,0.06563028,0.11098864,0.027820278,-5.265664,-5.0588617,-4.8666058,0.7197241,-0.4486604,0.7197241,0.7212177,0.7212177,2.47406,-6.7797613,-7.1684575,1.9014456,3.3226502,-7.5866623,4.355925,-7.961066,5.2014637,-8.494559,-7.9902196,5.193448,5.127584,-9.029702,4.9046364,4.6955686,-11.712655,-11.799704,4.7596664,-11.881599,4.702695,4.486986,-10.709618,3.8411813,4.593384,-11.036153,-11.22691,4.036485,-6.1410303,6.076531,6.076531,5.935864,-6.5699344,5.9353824,6.734207,7.032928,7.0768914,7.0768914,7.0768914,7.0768914,6.000876,-11.807971,6.078943,6.078943,6.0763025,4.2139854,3.9930835,4.2139854,6.0136447,3.9050274,6.076539,4.2149534,3.9051118,3.9051118,6.0763025,3.9051118,4.2139854,4.2139854,4.3408194,4.4833627,4.1438684,4.143865,4.168646,4.488155,4.4881563,4.4881563,4.581945,4.1659718,4.643943,4.6439424,6.0777073,4.2132754,5.940125,5.9415493,5.9415493,7.020193,6.7837677,6.7837677,6.7837677,6.782103,7.540864,7.541343,7.8583417,-7.6189246,7.939532,7.858341,7.8583417,7.9792275,7.993371,7.976058,7.8826947,7.8700867,7.4722915,7.45063,7.5002975,7.44063,7.430633,6.8932414,6.8623376,6.987022,5.634095,5.6340947,4.088644,4.0844336,5.6593776,4.093862,4.088644,4.0817423,4.0956655,4.077338,1.7282516,2.2239316,-19.538366,2.4402282,2.4187646,2.4431336,2.0294976,-10.338733,3.0741131,2.1346266,2.984826,2.106371,2.073617,2.5275562,2.2025123,2.4431336,2.3657658,2.3657658,-20.076853,2.2066593,-19.282293,2.4434905,-19.52873,2.3210838,2.8576427,-19.528751,2.500747,2.3007302,-19.528376,2.2169127,-20.09109,2.0872824,-19.249397,2.3006878,-19.528378,-19.528406,-20.085747,-19.515396,4.8409047,-20.089357,-20.09509,-19.981985,4.8926554,-19.98825,4.915734,-20.101469,-20.101463,-20.101473,-22.262472,-22.262524,-22.262505,6.277923,-22.2625,-20.323725,-22.273085,-22.272955,-20.324492,-22.272968,5.9516845,-20.322027,-22.155437,-20.321987,-20.322027,-20.319815,-20.327927,-22.032978,-12.28179,-21.97124,7.3692245,-22.15544,-21.970985,-12.28187,-12.281612,-12.099259,-12.281692,-12.28187,-12.281692,7.408633,-12.387759,7.401787,7.401787,-12.388209,-11.88413,-12.388209,7.401794,7.4238744,-12.347165,-11.867578,-11.867662,7.3999953,-11.50364,-11.50364,-11.551737,7.454646,-11.551744,-11.632732,-11.632967,-11.632732,-11.632608,-12.392343,-11.551737,-11.55175,-11.632461,-11.632461,-11.632461,-20.315302,-11.673341,-19.929039,-11.948216,-19.821388,-12.391598,-12.431329,-21.625555,-21.59197,-19.763,-19.785196,-19.785181,-21.626144,-21.514345,-20.317139,-19.7852,-21.62614,-21.62614,-21.514341,-19.690994,-19.690994,-19.69099,-13.193014,-21.514349,-21.65799,-19.735374,-19.735374,-13.138862,-19.785177,-14.865588,-12.9012575,-20.318762,-12.38996,-12.901356,-14.865586,-14.865679,-14.865672,-14.865635,-20.307165,-12.901354,-14.971396,-16.00884,-14.971396,-19.690987,-21.514347,-14.971396,-16.00879,-19.568523,-19.568525,-19.612673,-19.612673,-19.612673,-19.567034,-19.612673,-21.429853,7.4842896,-15.147852,-15.147852,-15.0277195,-15.028705,-15.028705,-15.028705,-15.027592,-13.444898,-19.647789,-12.438006,-15.027592,-15.027592,-13.477065,7.5371413,-16.005539,-14.973486,-14.97349,-13.476923,-14.016094,-14.024843,-14.024843,-14.016048,-14.213514,-14.214416,-14.212567,-14.207903,-13.697209,-13.721963,-11.817211,-12.569915,8.250524,-11.825334,7.9684134,-12.610811,-11.809967,-13.376443,-12.576642,-11.83718,-11.83718,-12.691202,-12.691212,-12.691212,-12.691155,-12.691263,-12.8015995,-12.551646,-12.500965,-11.799845,-12.018771,-11.679852,-12.624369,-12.019645,-11.89606,-11.840563,-11.533384,-11.842973,7.591769,-12.42884,-12.3056135,-11.992301,6.7798953,5.927809,5.28955,-9.835125,-9.088623,-8.075663,-7.853037,-7.8380003],\"type\":\"scatter3d\"}],                        {\"template\":{\"data\":{\"bar\":[{\"error_x\":{\"color\":\"#2a3f5f\"},\"error_y\":{\"color\":\"#2a3f5f\"},\"marker\":{\"line\":{\"color\":\"#E5ECF6\",\"width\":0.5},\"pattern\":{\"fillmode\":\"overlay\",\"size\":10,\"solidity\":0.2}},\"type\":\"bar\"}],\"barpolar\":[{\"marker\":{\"line\":{\"color\":\"#E5ECF6\",\"width\":0.5},\"pattern\":{\"fillmode\":\"overlay\",\"size\":10,\"solidity\":0.2}},\"type\":\"barpolar\"}],\"carpet\":[{\"aaxis\":{\"endlinecolor\":\"#2a3f5f\",\"gridcolor\":\"white\",\"linecolor\":\"white\",\"minorgridcolor\":\"white\",\"startlinecolor\":\"#2a3f5f\"},\"baxis\":{\"endlinecolor\":\"#2a3f5f\",\"gridcolor\":\"white\",\"linecolor\":\"white\",\"minorgridcolor\":\"white\",\"startlinecolor\":\"#2a3f5f\"},\"type\":\"carpet\"}],\"choropleth\":[{\"colorbar\":{\"outlinewidth\":0,\"ticks\":\"\"},\"type\":\"choropleth\"}],\"contour\":[{\"colorbar\":{\"outlinewidth\":0,\"ticks\":\"\"},\"colorscale\":[[0.0,\"#0d0887\"],[0.1111111111111111,\"#46039f\"],[0.2222222222222222,\"#7201a8\"],[0.3333333333333333,\"#9c179e\"],[0.4444444444444444,\"#bd3786\"],[0.5555555555555556,\"#d8576b\"],[0.6666666666666666,\"#ed7953\"],[0.7777777777777778,\"#fb9f3a\"],[0.8888888888888888,\"#fdca26\"],[1.0,\"#f0f921\"]],\"type\":\"contour\"}],\"contourcarpet\":[{\"colorbar\":{\"outlinewidth\":0,\"ticks\":\"\"},\"type\":\"contourcarpet\"}],\"heatmap\":[{\"colorbar\":{\"outlinewidth\":0,\"ticks\":\"\"},\"colorscale\":[[0.0,\"#0d0887\"],[0.1111111111111111,\"#46039f\"],[0.2222222222222222,\"#7201a8\"],[0.3333333333333333,\"#9c179e\"],[0.4444444444444444,\"#bd3786\"],[0.5555555555555556,\"#d8576b\"],[0.6666666666666666,\"#ed7953\"],[0.7777777777777778,\"#fb9f3a\"],[0.8888888888888888,\"#fdca26\"],[1.0,\"#f0f921\"]],\"type\":\"heatmap\"}],\"heatmapgl\":[{\"colorbar\":{\"outlinewidth\":0,\"ticks\":\"\"},\"colorscale\":[[0.0,\"#0d0887\"],[0.1111111111111111,\"#46039f\"],[0.2222222222222222,\"#7201a8\"],[0.3333333333333333,\"#9c179e\"],[0.4444444444444444,\"#bd3786\"],[0.5555555555555556,\"#d8576b\"],[0.6666666666666666,\"#ed7953\"],[0.7777777777777778,\"#fb9f3a\"],[0.8888888888888888,\"#fdca26\"],[1.0,\"#f0f921\"]],\"type\":\"heatmapgl\"}],\"histogram\":[{\"marker\":{\"pattern\":{\"fillmode\":\"overlay\",\"size\":10,\"solidity\":0.2}},\"type\":\"histogram\"}],\"histogram2d\":[{\"colorbar\":{\"outlinewidth\":0,\"ticks\":\"\"},\"colorscale\":[[0.0,\"#0d0887\"],[0.1111111111111111,\"#46039f\"],[0.2222222222222222,\"#7201a8\"],[0.3333333333333333,\"#9c179e\"],[0.4444444444444444,\"#bd3786\"],[0.5555555555555556,\"#d8576b\"],[0.6666666666666666,\"#ed7953\"],[0.7777777777777778,\"#fb9f3a\"],[0.8888888888888888,\"#fdca26\"],[1.0,\"#f0f921\"]],\"type\":\"histogram2d\"}],\"histogram2dcontour\":[{\"colorbar\":{\"outlinewidth\":0,\"ticks\":\"\"},\"colorscale\":[[0.0,\"#0d0887\"],[0.1111111111111111,\"#46039f\"],[0.2222222222222222,\"#7201a8\"],[0.3333333333333333,\"#9c179e\"],[0.4444444444444444,\"#bd3786\"],[0.5555555555555556,\"#d8576b\"],[0.6666666666666666,\"#ed7953\"],[0.7777777777777778,\"#fb9f3a\"],[0.8888888888888888,\"#fdca26\"],[1.0,\"#f0f921\"]],\"type\":\"histogram2dcontour\"}],\"mesh3d\":[{\"colorbar\":{\"outlinewidth\":0,\"ticks\":\"\"},\"type\":\"mesh3d\"}],\"parcoords\":[{\"line\":{\"colorbar\":{\"outlinewidth\":0,\"ticks\":\"\"}},\"type\":\"parcoords\"}],\"pie\":[{\"automargin\":true,\"type\":\"pie\"}],\"scatter\":[{\"marker\":{\"colorbar\":{\"outlinewidth\":0,\"ticks\":\"\"}},\"type\":\"scatter\"}],\"scatter3d\":[{\"line\":{\"colorbar\":{\"outlinewidth\":0,\"ticks\":\"\"}},\"marker\":{\"colorbar\":{\"outlinewidth\":0,\"ticks\":\"\"}},\"type\":\"scatter3d\"}],\"scattercarpet\":[{\"marker\":{\"colorbar\":{\"outlinewidth\":0,\"ticks\":\"\"}},\"type\":\"scattercarpet\"}],\"scattergeo\":[{\"marker\":{\"colorbar\":{\"outlinewidth\":0,\"ticks\":\"\"}},\"type\":\"scattergeo\"}],\"scattergl\":[{\"marker\":{\"colorbar\":{\"outlinewidth\":0,\"ticks\":\"\"}},\"type\":\"scattergl\"}],\"scattermapbox\":[{\"marker\":{\"colorbar\":{\"outlinewidth\":0,\"ticks\":\"\"}},\"type\":\"scattermapbox\"}],\"scatterpolar\":[{\"marker\":{\"colorbar\":{\"outlinewidth\":0,\"ticks\":\"\"}},\"type\":\"scatterpolar\"}],\"scatterpolargl\":[{\"marker\":{\"colorbar\":{\"outlinewidth\":0,\"ticks\":\"\"}},\"type\":\"scatterpolargl\"}],\"scatterternary\":[{\"marker\":{\"colorbar\":{\"outlinewidth\":0,\"ticks\":\"\"}},\"type\":\"scatterternary\"}],\"surface\":[{\"colorbar\":{\"outlinewidth\":0,\"ticks\":\"\"},\"colorscale\":[[0.0,\"#0d0887\"],[0.1111111111111111,\"#46039f\"],[0.2222222222222222,\"#7201a8\"],[0.3333333333333333,\"#9c179e\"],[0.4444444444444444,\"#bd3786\"],[0.5555555555555556,\"#d8576b\"],[0.6666666666666666,\"#ed7953\"],[0.7777777777777778,\"#fb9f3a\"],[0.8888888888888888,\"#fdca26\"],[1.0,\"#f0f921\"]],\"type\":\"surface\"}],\"table\":[{\"cells\":{\"fill\":{\"color\":\"#EBF0F8\"},\"line\":{\"color\":\"white\"}},\"header\":{\"fill\":{\"color\":\"#C8D4E3\"},\"line\":{\"color\":\"white\"}},\"type\":\"table\"}]},\"layout\":{\"annotationdefaults\":{\"arrowcolor\":\"#2a3f5f\",\"arrowhead\":0,\"arrowwidth\":1},\"autotypenumbers\":\"strict\",\"coloraxis\":{\"colorbar\":{\"outlinewidth\":0,\"ticks\":\"\"}},\"colorscale\":{\"diverging\":[[0,\"#8e0152\"],[0.1,\"#c51b7d\"],[0.2,\"#de77ae\"],[0.3,\"#f1b6da\"],[0.4,\"#fde0ef\"],[0.5,\"#f7f7f7\"],[0.6,\"#e6f5d0\"],[0.7,\"#b8e186\"],[0.8,\"#7fbc41\"],[0.9,\"#4d9221\"],[1,\"#276419\"]],\"sequential\":[[0.0,\"#0d0887\"],[0.1111111111111111,\"#46039f\"],[0.2222222222222222,\"#7201a8\"],[0.3333333333333333,\"#9c179e\"],[0.4444444444444444,\"#bd3786\"],[0.5555555555555556,\"#d8576b\"],[0.6666666666666666,\"#ed7953\"],[0.7777777777777778,\"#fb9f3a\"],[0.8888888888888888,\"#fdca26\"],[1.0,\"#f0f921\"]],\"sequentialminus\":[[0.0,\"#0d0887\"],[0.1111111111111111,\"#46039f\"],[0.2222222222222222,\"#7201a8\"],[0.3333333333333333,\"#9c179e\"],[0.4444444444444444,\"#bd3786\"],[0.5555555555555556,\"#d8576b\"],[0.6666666666666666,\"#ed7953\"],[0.7777777777777778,\"#fb9f3a\"],[0.8888888888888888,\"#fdca26\"],[1.0,\"#f0f921\"]]},\"colorway\":[\"#636efa\",\"#EF553B\",\"#00cc96\",\"#ab63fa\",\"#FFA15A\",\"#19d3f3\",\"#FF6692\",\"#B6E880\",\"#FF97FF\",\"#FECB52\"],\"font\":{\"color\":\"#2a3f5f\"},\"geo\":{\"bgcolor\":\"white\",\"lakecolor\":\"white\",\"landcolor\":\"#E5ECF6\",\"showlakes\":true,\"showland\":true,\"subunitcolor\":\"white\"},\"hoverlabel\":{\"align\":\"left\"},\"hovermode\":\"closest\",\"mapbox\":{\"style\":\"light\"},\"paper_bgcolor\":\"white\",\"plot_bgcolor\":\"#E5ECF6\",\"polar\":{\"angularaxis\":{\"gridcolor\":\"white\",\"linecolor\":\"white\",\"ticks\":\"\"},\"bgcolor\":\"#E5ECF6\",\"radialaxis\":{\"gridcolor\":\"white\",\"linecolor\":\"white\",\"ticks\":\"\"}},\"scene\":{\"xaxis\":{\"backgroundcolor\":\"#E5ECF6\",\"gridcolor\":\"white\",\"gridwidth\":2,\"linecolor\":\"white\",\"showbackground\":true,\"ticks\":\"\",\"zerolinecolor\":\"white\"},\"yaxis\":{\"backgroundcolor\":\"#E5ECF6\",\"gridcolor\":\"white\",\"gridwidth\":2,\"linecolor\":\"white\",\"showbackground\":true,\"ticks\":\"\",\"zerolinecolor\":\"white\"},\"zaxis\":{\"backgroundcolor\":\"#E5ECF6\",\"gridcolor\":\"white\",\"gridwidth\":2,\"linecolor\":\"white\",\"showbackground\":true,\"ticks\":\"\",\"zerolinecolor\":\"white\"}},\"shapedefaults\":{\"line\":{\"color\":\"#2a3f5f\"}},\"ternary\":{\"aaxis\":{\"gridcolor\":\"white\",\"linecolor\":\"white\",\"ticks\":\"\"},\"baxis\":{\"gridcolor\":\"white\",\"linecolor\":\"white\",\"ticks\":\"\"},\"bgcolor\":\"#E5ECF6\",\"caxis\":{\"gridcolor\":\"white\",\"linecolor\":\"white\",\"ticks\":\"\"}},\"title\":{\"x\":0.05},\"xaxis\":{\"automargin\":true,\"gridcolor\":\"white\",\"linecolor\":\"white\",\"ticks\":\"\",\"title\":{\"standoff\":15},\"zerolinecolor\":\"white\",\"zerolinewidth\":2},\"yaxis\":{\"automargin\":true,\"gridcolor\":\"white\",\"linecolor\":\"white\",\"ticks\":\"\",\"title\":{\"standoff\":15},\"zerolinecolor\":\"white\",\"zerolinewidth\":2}}},\"scene\":{\"domain\":{\"x\":[0.0,1.0],\"y\":[0.0,1.0]},\"xaxis\":{\"title\":{\"text\":\"0\"}},\"yaxis\":{\"title\":{\"text\":\"1\"}},\"zaxis\":{\"title\":{\"text\":\"2\"}}},\"coloraxis\":{\"colorbar\":{\"title\":{\"text\":\"Anomaly\"}},\"colorscale\":[[0.0,\"#0d0887\"],[0.1111111111111111,\"#46039f\"],[0.2222222222222222,\"#7201a8\"],[0.3333333333333333,\"#9c179e\"],[0.4444444444444444,\"#bd3786\"],[0.5555555555555556,\"#d8576b\"],[0.6666666666666666,\"#ed7953\"],[0.7777777777777778,\"#fb9f3a\"],[0.8888888888888888,\"#fdca26\"],[1.0,\"#f0f921\"]]},\"legend\":{\"tracegroupgap\":0},\"title\":{\"text\":\"3d TSNE Plot for Outliers\"},\"height\":800,\"width\":900},                        {\"responsive\": true}                    ).then(function(){\n",
       "                            \n",
       "var gd = document.getElementById('2489c5c3-e956-414c-b9a8-3f9707c42c83');\n",
       "var x = new MutationObserver(function (mutations, observer) {{\n",
       "        var display = window.getComputedStyle(gd).display;\n",
       "        if (!display || display === 'none') {{\n",
       "            console.log([gd, 'removed!']);\n",
       "            Plotly.purge(gd);\n",
       "            observer.disconnect();\n",
       "        }}\n",
       "}});\n",
       "\n",
       "// Listen for the removal of the full notebook cells\n",
       "var notebookContainer = gd.closest('#notebook-container');\n",
       "if (notebookContainer) {{\n",
       "    x.observe(notebookContainer, {childList: true});\n",
       "}}\n",
       "\n",
       "// Listen for the clearing of the current output cell\n",
       "var outputEl = gd.closest('.output');\n",
       "if (outputEl) {{\n",
       "    x.observe(outputEl, {childList: true});\n",
       "}}\n",
       "\n",
       "                        })                };                });            </script>        </div>"
      ]
     },
     "metadata": {},
     "output_type": "display_data"
    }
   ],
   "source": [
    "plot_model(lof)"
   ]
  },
  {
   "cell_type": "code",
   "execution_count": 7,
   "metadata": {},
   "outputs": [
    {
     "data": {
      "text/html": [
       "<div>\n",
       "<style scoped>\n",
       "    .dataframe tbody tr th:only-of-type {\n",
       "        vertical-align: middle;\n",
       "    }\n",
       "\n",
       "    .dataframe tbody tr th {\n",
       "        vertical-align: top;\n",
       "    }\n",
       "\n",
       "    .dataframe thead th {\n",
       "        text-align: right;\n",
       "    }\n",
       "</style>\n",
       "<table border=\"1\" class=\"dataframe\">\n",
       "  <thead>\n",
       "    <tr style=\"text-align: right;\">\n",
       "      <th></th>\n",
       "      <th>Name</th>\n",
       "      <th>Reference</th>\n",
       "    </tr>\n",
       "    <tr>\n",
       "      <th>ID</th>\n",
       "      <th></th>\n",
       "      <th></th>\n",
       "    </tr>\n",
       "  </thead>\n",
       "  <tbody>\n",
       "    <tr>\n",
       "      <th>abod</th>\n",
       "      <td>Angle-base Outlier Detection</td>\n",
       "      <td>pyod.models.abod.ABOD</td>\n",
       "    </tr>\n",
       "    <tr>\n",
       "      <th>cluster</th>\n",
       "      <td>Clustering-Based Local Outlier</td>\n",
       "      <td>pyod.models.cblof.CBLOF</td>\n",
       "    </tr>\n",
       "    <tr>\n",
       "      <th>cof</th>\n",
       "      <td>Connectivity-Based Local Outlier</td>\n",
       "      <td>pyod.models.cof.COF</td>\n",
       "    </tr>\n",
       "    <tr>\n",
       "      <th>iforest</th>\n",
       "      <td>Isolation Forest</td>\n",
       "      <td>pyod.models.iforest.IForest</td>\n",
       "    </tr>\n",
       "    <tr>\n",
       "      <th>histogram</th>\n",
       "      <td>Histogram-based Outlier Detection</td>\n",
       "      <td>pyod.models.hbos.HBOS</td>\n",
       "    </tr>\n",
       "    <tr>\n",
       "      <th>knn</th>\n",
       "      <td>K-Nearest Neighbors Detector</td>\n",
       "      <td>pyod.models.knn.KNN</td>\n",
       "    </tr>\n",
       "    <tr>\n",
       "      <th>lof</th>\n",
       "      <td>Local Outlier Factor</td>\n",
       "      <td>pyod.models.lof.LOF</td>\n",
       "    </tr>\n",
       "    <tr>\n",
       "      <th>svm</th>\n",
       "      <td>One-class SVM detector</td>\n",
       "      <td>pyod.models.ocsvm.OCSVM</td>\n",
       "    </tr>\n",
       "    <tr>\n",
       "      <th>pca</th>\n",
       "      <td>Principal Component Analysis</td>\n",
       "      <td>pyod.models.pca.PCA</td>\n",
       "    </tr>\n",
       "    <tr>\n",
       "      <th>mcd</th>\n",
       "      <td>Minimum Covariance Determinant</td>\n",
       "      <td>pyod.models.mcd.MCD</td>\n",
       "    </tr>\n",
       "    <tr>\n",
       "      <th>sod</th>\n",
       "      <td>Subspace Outlier Detection</td>\n",
       "      <td>pyod.models.sod.SOD</td>\n",
       "    </tr>\n",
       "    <tr>\n",
       "      <th>sos</th>\n",
       "      <td>Stochastic Outlier Selection</td>\n",
       "      <td>pyod.models.sos.SOS</td>\n",
       "    </tr>\n",
       "  </tbody>\n",
       "</table>\n",
       "</div>"
      ],
      "text/plain": [
       "                                        Name                    Reference\n",
       "ID                                                                       \n",
       "abod            Angle-base Outlier Detection        pyod.models.abod.ABOD\n",
       "cluster       Clustering-Based Local Outlier      pyod.models.cblof.CBLOF\n",
       "cof         Connectivity-Based Local Outlier          pyod.models.cof.COF\n",
       "iforest                     Isolation Forest  pyod.models.iforest.IForest\n",
       "histogram  Histogram-based Outlier Detection        pyod.models.hbos.HBOS\n",
       "knn             K-Nearest Neighbors Detector          pyod.models.knn.KNN\n",
       "lof                     Local Outlier Factor          pyod.models.lof.LOF\n",
       "svm                   One-class SVM detector      pyod.models.ocsvm.OCSVM\n",
       "pca             Principal Component Analysis          pyod.models.pca.PCA\n",
       "mcd           Minimum Covariance Determinant          pyod.models.mcd.MCD\n",
       "sod               Subspace Outlier Detection          pyod.models.sod.SOD\n",
       "sos             Stochastic Outlier Selection          pyod.models.sos.SOS"
      ]
     },
     "execution_count": 7,
     "metadata": {},
     "output_type": "execute_result"
    }
   ],
   "source": [
    "models()"
   ]
  },
  {
   "cell_type": "code",
   "execution_count": 27,
   "metadata": {},
   "outputs": [
    {
     "data": {
      "text/html": [
       "<div>\n",
       "<style scoped>\n",
       "    .dataframe tbody tr th:only-of-type {\n",
       "        vertical-align: middle;\n",
       "    }\n",
       "\n",
       "    .dataframe tbody tr th {\n",
       "        vertical-align: top;\n",
       "    }\n",
       "\n",
       "    .dataframe thead th {\n",
       "        text-align: right;\n",
       "    }\n",
       "</style>\n",
       "<table border=\"1\" class=\"dataframe\">\n",
       "  <thead>\n",
       "    <tr style=\"text-align: right;\">\n",
       "      <th></th>\n",
       "      <th>Total number of rows</th>\n",
       "      <th>Number of anomalies identified</th>\n",
       "    </tr>\n",
       "  </thead>\n",
       "  <tbody>\n",
       "    <tr>\n",
       "      <th>0</th>\n",
       "      <td>12117</td>\n",
       "      <td>3211</td>\n",
       "    </tr>\n",
       "  </tbody>\n",
       "</table>\n",
       "</div>"
      ],
      "text/plain": [
       "   Total number of rows  Number of anomalies identified\n",
       "0                 12117                            3211"
      ]
     },
     "execution_count": 27,
     "metadata": {},
     "output_type": "execute_result"
    }
   ],
   "source": [
    "anomaly_rows = unseen_predictions[unseen_predictions[\"Anomaly\"] == 1]\n",
    "num_an = anomaly_rows.__len__();\n",
    "\n",
    "num_total = unseen_predictions.__len__()\n",
    "\n",
    "dataTwo = {'Total number of rows': [num_total], 'Number of anomalies identified': [num_an]}\n",
    "\n",
    "df = pd.DataFrame(dataTwo)\n",
    "df.head()\n",
    "\n",
    "#print(df)\n",
    "\n",
    "#print(num_an)\n",
    "#print(num_total)"
   ]
  }
 ],
 "metadata": {
  "interpreter": {
   "hash": "4519571cc91a93d0c72c28044431df44a89b4f51d710bc5492c4fa68ab57f462"
  },
  "kernelspec": {
   "display_name": "Python 3.8.10 ('venv': venv)",
   "language": "python",
   "name": "python3"
  },
  "language_info": {
   "codemirror_mode": {
    "name": "ipython",
    "version": 3
   },
   "file_extension": ".py",
   "mimetype": "text/x-python",
   "name": "python",
   "nbconvert_exporter": "python",
   "pygments_lexer": "ipython3",
   "version": "3.8.10"
  },
  "orig_nbformat": 4
 },
 "nbformat": 4,
 "nbformat_minor": 2
}
