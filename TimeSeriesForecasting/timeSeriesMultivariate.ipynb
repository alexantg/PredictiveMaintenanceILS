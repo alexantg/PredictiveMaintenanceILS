{
 "cells": [
  {
   "cell_type": "code",
   "execution_count": 1,
   "metadata": {},
   "outputs": [],
   "source": [
    "import pandas as pd\n",
    "import numpy as np\n",
    "%matplotlib inline\n",
    "import matplotlib.pyplot as plt"
   ]
  },
  {
   "cell_type": "code",
   "execution_count": 2,
   "metadata": {},
   "outputs": [
    {
     "data": {
      "text/html": [
       "<div>\n",
       "<style scoped>\n",
       "    .dataframe tbody tr th:only-of-type {\n",
       "        vertical-align: middle;\n",
       "    }\n",
       "\n",
       "    .dataframe tbody tr th {\n",
       "        vertical-align: top;\n",
       "    }\n",
       "\n",
       "    .dataframe thead th {\n",
       "        text-align: right;\n",
       "    }\n",
       "</style>\n",
       "<table border=\"1\" class=\"dataframe\">\n",
       "  <thead>\n",
       "    <tr style=\"text-align: right;\">\n",
       "      <th></th>\n",
       "      <th>MON1 CL DDM (?A)</th>\n",
       "      <th>MON1 CL RF (dB)</th>\n",
       "      <th>MON1 DS DDM (?A)</th>\n",
       "      <th>MON1 DS RF (dB)</th>\n",
       "      <th>MON1 NF DDM (?A)</th>\n",
       "      <th>MON1 NF RF (dB)</th>\n",
       "      <th>MON1 CLR DDM (?A)</th>\n",
       "      <th>MON1 CLR RF (dB)</th>\n",
       "    </tr>\n",
       "    <tr>\n",
       "      <th>Timestamp</th>\n",
       "      <th></th>\n",
       "      <th></th>\n",
       "      <th></th>\n",
       "      <th></th>\n",
       "      <th></th>\n",
       "      <th></th>\n",
       "      <th></th>\n",
       "      <th></th>\n",
       "    </tr>\n",
       "  </thead>\n",
       "  <tbody>\n",
       "    <tr>\n",
       "      <th>2022-01-28 14:11:19</th>\n",
       "      <td>2.02</td>\n",
       "      <td>0.32</td>\n",
       "      <td>0.87</td>\n",
       "      <td>0.29</td>\n",
       "      <td>-3.18</td>\n",
       "      <td>0.19</td>\n",
       "      <td>2.31</td>\n",
       "      <td>0.34</td>\n",
       "    </tr>\n",
       "    <tr>\n",
       "      <th>2022-01-28 14:16:19</th>\n",
       "      <td>1.74</td>\n",
       "      <td>0.32</td>\n",
       "      <td>0.87</td>\n",
       "      <td>0.29</td>\n",
       "      <td>-2.89</td>\n",
       "      <td>0.19</td>\n",
       "      <td>2.31</td>\n",
       "      <td>0.34</td>\n",
       "    </tr>\n",
       "    <tr>\n",
       "      <th>2022-01-28 14:21:20</th>\n",
       "      <td>1.74</td>\n",
       "      <td>0.32</td>\n",
       "      <td>0.87</td>\n",
       "      <td>0.29</td>\n",
       "      <td>-3.18</td>\n",
       "      <td>0.19</td>\n",
       "      <td>2.60</td>\n",
       "      <td>0.34</td>\n",
       "    </tr>\n",
       "    <tr>\n",
       "      <th>2022-01-28 14:26:20</th>\n",
       "      <td>0.29</td>\n",
       "      <td>-39.90</td>\n",
       "      <td>-76.94</td>\n",
       "      <td>-39.90</td>\n",
       "      <td>0.00</td>\n",
       "      <td>-39.90</td>\n",
       "      <td>-322.78</td>\n",
       "      <td>-35.61</td>\n",
       "    </tr>\n",
       "    <tr>\n",
       "      <th>2022-01-28 14:31:20</th>\n",
       "      <td>0.00</td>\n",
       "      <td>-39.90</td>\n",
       "      <td>-76.94</td>\n",
       "      <td>-39.90</td>\n",
       "      <td>0.00</td>\n",
       "      <td>-39.90</td>\n",
       "      <td>-322.49</td>\n",
       "      <td>-35.61</td>\n",
       "    </tr>\n",
       "  </tbody>\n",
       "</table>\n",
       "</div>"
      ],
      "text/plain": [
       "                     MON1 CL DDM (?A)  MON1 CL RF (dB)  MON1 DS DDM (?A)  \\\n",
       "Timestamp                                                                  \n",
       "2022-01-28 14:11:19              2.02             0.32              0.87   \n",
       "2022-01-28 14:16:19              1.74             0.32              0.87   \n",
       "2022-01-28 14:21:20              1.74             0.32              0.87   \n",
       "2022-01-28 14:26:20              0.29           -39.90            -76.94   \n",
       "2022-01-28 14:31:20              0.00           -39.90            -76.94   \n",
       "\n",
       "                     MON1 DS RF (dB)  MON1 NF DDM (?A)  MON1 NF RF (dB)  \\\n",
       "Timestamp                                                                 \n",
       "2022-01-28 14:11:19             0.29             -3.18             0.19   \n",
       "2022-01-28 14:16:19             0.29             -2.89             0.19   \n",
       "2022-01-28 14:21:20             0.29             -3.18             0.19   \n",
       "2022-01-28 14:26:20           -39.90              0.00           -39.90   \n",
       "2022-01-28 14:31:20           -39.90              0.00           -39.90   \n",
       "\n",
       "                     MON1 CLR DDM (?A)  MON1 CLR RF (dB)  \n",
       "Timestamp                                                 \n",
       "2022-01-28 14:11:19               2.31              0.34  \n",
       "2022-01-28 14:16:19               2.31              0.34  \n",
       "2022-01-28 14:21:20               2.60              0.34  \n",
       "2022-01-28 14:26:20            -322.78            -35.61  \n",
       "2022-01-28 14:31:20            -322.49            -35.61  "
      ]
     },
     "execution_count": 2,
     "metadata": {},
     "output_type": "execute_result"
    }
   ],
   "source": [
    "df = pd.read_csv('FormattedData/train.csv',index_col='Timestamp',infer_datetime_format=True)\n",
    "\n",
    "df.head()"
   ]
  },
  {
   "cell_type": "code",
   "execution_count": 3,
   "metadata": {},
   "outputs": [
    {
     "name": "stdout",
     "output_type": "stream",
     "text": [
      "<class 'pandas.core.frame.DataFrame'>\n",
      "Index: 3371 entries, 2022-01-28 14:11:19 to 2022-02-09 07:20:39\n",
      "Data columns (total 8 columns):\n",
      " #   Column             Non-Null Count  Dtype  \n",
      "---  ------             --------------  -----  \n",
      " 0   MON1 CL DDM (?A)   3371 non-null   float64\n",
      " 1   MON1 CL RF (dB)    3371 non-null   float64\n",
      " 2   MON1 DS DDM (?A)   3371 non-null   float64\n",
      " 3   MON1 DS RF (dB)    3371 non-null   float64\n",
      " 4   MON1 NF DDM (?A)   3371 non-null   float64\n",
      " 5   MON1 NF RF (dB)    3371 non-null   float64\n",
      " 6   MON1 CLR DDM (?A)  3371 non-null   float64\n",
      " 7   MON1 CLR RF (dB)   3371 non-null   float64\n",
      "dtypes: float64(8)\n",
      "memory usage: 237.0+ KB\n"
     ]
    }
   ],
   "source": [
    "df.info()"
   ]
  },
  {
   "cell_type": "code",
   "execution_count": 4,
   "metadata": {},
   "outputs": [
    {
     "data": {
      "text/plain": [
       "3371"
      ]
     },
     "execution_count": 4,
     "metadata": {},
     "output_type": "execute_result"
    }
   ],
   "source": [
    "len(df)"
   ]
  },
  {
   "cell_type": "code",
   "execution_count": 5,
   "metadata": {},
   "outputs": [],
   "source": [
    "test = df.iloc[:-8000]\n",
    "train = df.iloc[-8000:]"
   ]
  },
  {
   "cell_type": "code",
   "execution_count": 6,
   "metadata": {},
   "outputs": [
    {
     "data": {
      "text/html": [
       "<div>\n",
       "<style scoped>\n",
       "    .dataframe tbody tr th:only-of-type {\n",
       "        vertical-align: middle;\n",
       "    }\n",
       "\n",
       "    .dataframe tbody tr th {\n",
       "        vertical-align: top;\n",
       "    }\n",
       "\n",
       "    .dataframe thead th {\n",
       "        text-align: right;\n",
       "    }\n",
       "</style>\n",
       "<table border=\"1\" class=\"dataframe\">\n",
       "  <thead>\n",
       "    <tr style=\"text-align: right;\">\n",
       "      <th></th>\n",
       "      <th>MON1 CL DDM (?A)</th>\n",
       "      <th>MON1 CL RF (dB)</th>\n",
       "      <th>MON1 DS DDM (?A)</th>\n",
       "      <th>MON1 DS RF (dB)</th>\n",
       "      <th>MON1 NF DDM (?A)</th>\n",
       "      <th>MON1 NF RF (dB)</th>\n",
       "      <th>MON1 CLR DDM (?A)</th>\n",
       "      <th>MON1 CLR RF (dB)</th>\n",
       "    </tr>\n",
       "    <tr>\n",
       "      <th>Timestamp</th>\n",
       "      <th></th>\n",
       "      <th></th>\n",
       "      <th></th>\n",
       "      <th></th>\n",
       "      <th></th>\n",
       "      <th></th>\n",
       "      <th></th>\n",
       "      <th></th>\n",
       "    </tr>\n",
       "  </thead>\n",
       "  <tbody>\n",
       "    <tr>\n",
       "      <th>2022-01-28 14:11:19</th>\n",
       "      <td>2.02</td>\n",
       "      <td>0.32</td>\n",
       "      <td>0.87</td>\n",
       "      <td>0.29</td>\n",
       "      <td>-3.18</td>\n",
       "      <td>0.19</td>\n",
       "      <td>2.31</td>\n",
       "      <td>0.34</td>\n",
       "    </tr>\n",
       "    <tr>\n",
       "      <th>2022-01-28 14:16:19</th>\n",
       "      <td>1.74</td>\n",
       "      <td>0.32</td>\n",
       "      <td>0.87</td>\n",
       "      <td>0.29</td>\n",
       "      <td>-2.89</td>\n",
       "      <td>0.19</td>\n",
       "      <td>2.31</td>\n",
       "      <td>0.34</td>\n",
       "    </tr>\n",
       "    <tr>\n",
       "      <th>2022-01-28 14:21:20</th>\n",
       "      <td>1.74</td>\n",
       "      <td>0.32</td>\n",
       "      <td>0.87</td>\n",
       "      <td>0.29</td>\n",
       "      <td>-3.18</td>\n",
       "      <td>0.19</td>\n",
       "      <td>2.60</td>\n",
       "      <td>0.34</td>\n",
       "    </tr>\n",
       "    <tr>\n",
       "      <th>2022-01-28 14:26:20</th>\n",
       "      <td>0.29</td>\n",
       "      <td>-39.90</td>\n",
       "      <td>-76.94</td>\n",
       "      <td>-39.90</td>\n",
       "      <td>0.00</td>\n",
       "      <td>-39.90</td>\n",
       "      <td>-322.78</td>\n",
       "      <td>-35.61</td>\n",
       "    </tr>\n",
       "    <tr>\n",
       "      <th>2022-01-28 14:31:20</th>\n",
       "      <td>0.00</td>\n",
       "      <td>-39.90</td>\n",
       "      <td>-76.94</td>\n",
       "      <td>-39.90</td>\n",
       "      <td>0.00</td>\n",
       "      <td>-39.90</td>\n",
       "      <td>-322.49</td>\n",
       "      <td>-35.61</td>\n",
       "    </tr>\n",
       "    <tr>\n",
       "      <th>...</th>\n",
       "      <td>...</td>\n",
       "      <td>...</td>\n",
       "      <td>...</td>\n",
       "      <td>...</td>\n",
       "      <td>...</td>\n",
       "      <td>...</td>\n",
       "      <td>...</td>\n",
       "      <td>...</td>\n",
       "    </tr>\n",
       "    <tr>\n",
       "      <th>2022-02-09 07:00:38</th>\n",
       "      <td>2.60</td>\n",
       "      <td>0.29</td>\n",
       "      <td>1.45</td>\n",
       "      <td>0.26</td>\n",
       "      <td>-1.74</td>\n",
       "      <td>0.18</td>\n",
       "      <td>4.92</td>\n",
       "      <td>0.28</td>\n",
       "    </tr>\n",
       "    <tr>\n",
       "      <th>2022-02-09 07:05:38</th>\n",
       "      <td>2.60</td>\n",
       "      <td>0.29</td>\n",
       "      <td>1.45</td>\n",
       "      <td>0.26</td>\n",
       "      <td>-2.02</td>\n",
       "      <td>0.19</td>\n",
       "      <td>4.63</td>\n",
       "      <td>0.29</td>\n",
       "    </tr>\n",
       "    <tr>\n",
       "      <th>2022-02-09 07:10:38</th>\n",
       "      <td>2.60</td>\n",
       "      <td>0.29</td>\n",
       "      <td>1.74</td>\n",
       "      <td>0.26</td>\n",
       "      <td>-2.31</td>\n",
       "      <td>0.19</td>\n",
       "      <td>4.63</td>\n",
       "      <td>0.28</td>\n",
       "    </tr>\n",
       "    <tr>\n",
       "      <th>2022-02-09 07:15:38</th>\n",
       "      <td>2.60</td>\n",
       "      <td>0.30</td>\n",
       "      <td>1.45</td>\n",
       "      <td>0.26</td>\n",
       "      <td>-2.60</td>\n",
       "      <td>0.17</td>\n",
       "      <td>4.63</td>\n",
       "      <td>0.28</td>\n",
       "    </tr>\n",
       "    <tr>\n",
       "      <th>2022-02-09 07:20:39</th>\n",
       "      <td>2.60</td>\n",
       "      <td>0.30</td>\n",
       "      <td>1.45</td>\n",
       "      <td>0.26</td>\n",
       "      <td>-2.60</td>\n",
       "      <td>0.20</td>\n",
       "      <td>4.63</td>\n",
       "      <td>0.29</td>\n",
       "    </tr>\n",
       "  </tbody>\n",
       "</table>\n",
       "<p>3371 rows × 8 columns</p>\n",
       "</div>"
      ],
      "text/plain": [
       "                     MON1 CL DDM (?A)  MON1 CL RF (dB)  MON1 DS DDM (?A)  \\\n",
       "Timestamp                                                                  \n",
       "2022-01-28 14:11:19              2.02             0.32              0.87   \n",
       "2022-01-28 14:16:19              1.74             0.32              0.87   \n",
       "2022-01-28 14:21:20              1.74             0.32              0.87   \n",
       "2022-01-28 14:26:20              0.29           -39.90            -76.94   \n",
       "2022-01-28 14:31:20              0.00           -39.90            -76.94   \n",
       "...                               ...              ...               ...   \n",
       "2022-02-09 07:00:38              2.60             0.29              1.45   \n",
       "2022-02-09 07:05:38              2.60             0.29              1.45   \n",
       "2022-02-09 07:10:38              2.60             0.29              1.74   \n",
       "2022-02-09 07:15:38              2.60             0.30              1.45   \n",
       "2022-02-09 07:20:39              2.60             0.30              1.45   \n",
       "\n",
       "                     MON1 DS RF (dB)  MON1 NF DDM (?A)  MON1 NF RF (dB)  \\\n",
       "Timestamp                                                                 \n",
       "2022-01-28 14:11:19             0.29             -3.18             0.19   \n",
       "2022-01-28 14:16:19             0.29             -2.89             0.19   \n",
       "2022-01-28 14:21:20             0.29             -3.18             0.19   \n",
       "2022-01-28 14:26:20           -39.90              0.00           -39.90   \n",
       "2022-01-28 14:31:20           -39.90              0.00           -39.90   \n",
       "...                              ...               ...              ...   \n",
       "2022-02-09 07:00:38             0.26             -1.74             0.18   \n",
       "2022-02-09 07:05:38             0.26             -2.02             0.19   \n",
       "2022-02-09 07:10:38             0.26             -2.31             0.19   \n",
       "2022-02-09 07:15:38             0.26             -2.60             0.17   \n",
       "2022-02-09 07:20:39             0.26             -2.60             0.20   \n",
       "\n",
       "                     MON1 CLR DDM (?A)  MON1 CLR RF (dB)  \n",
       "Timestamp                                                 \n",
       "2022-01-28 14:11:19               2.31              0.34  \n",
       "2022-01-28 14:16:19               2.31              0.34  \n",
       "2022-01-28 14:21:20               2.60              0.34  \n",
       "2022-01-28 14:26:20            -322.78            -35.61  \n",
       "2022-01-28 14:31:20            -322.49            -35.61  \n",
       "...                                ...               ...  \n",
       "2022-02-09 07:00:38               4.92              0.28  \n",
       "2022-02-09 07:05:38               4.63              0.29  \n",
       "2022-02-09 07:10:38               4.63              0.28  \n",
       "2022-02-09 07:15:38               4.63              0.28  \n",
       "2022-02-09 07:20:39               4.63              0.29  \n",
       "\n",
       "[3371 rows x 8 columns]"
      ]
     },
     "execution_count": 6,
     "metadata": {},
     "output_type": "execute_result"
    }
   ],
   "source": [
    "train"
   ]
  },
  {
   "cell_type": "code",
   "execution_count": 18,
   "metadata": {},
   "outputs": [
    {
     "data": {
      "text/html": [
       "<div>\n",
       "<style scoped>\n",
       "    .dataframe tbody tr th:only-of-type {\n",
       "        vertical-align: middle;\n",
       "    }\n",
       "\n",
       "    .dataframe tbody tr th {\n",
       "        vertical-align: top;\n",
       "    }\n",
       "\n",
       "    .dataframe thead th {\n",
       "        text-align: right;\n",
       "    }\n",
       "</style>\n",
       "<table border=\"1\" class=\"dataframe\">\n",
       "  <thead>\n",
       "    <tr style=\"text-align: right;\">\n",
       "      <th></th>\n",
       "      <th>MON1 CL DDM (?A)</th>\n",
       "      <th>MON1 CL RF (dB)</th>\n",
       "      <th>MON1 DS DDM (?A)</th>\n",
       "      <th>MON1 DS RF (dB)</th>\n",
       "      <th>MON1 NF DDM (?A)</th>\n",
       "      <th>MON1 NF RF (dB)</th>\n",
       "      <th>MON1 CLR DDM (?A)</th>\n",
       "      <th>MON1 CLR RF (dB)</th>\n",
       "    </tr>\n",
       "    <tr>\n",
       "      <th>Timestamp</th>\n",
       "      <th></th>\n",
       "      <th></th>\n",
       "      <th></th>\n",
       "      <th></th>\n",
       "      <th></th>\n",
       "      <th></th>\n",
       "      <th></th>\n",
       "      <th></th>\n",
       "    </tr>\n",
       "  </thead>\n",
       "  <tbody>\n",
       "  </tbody>\n",
       "</table>\n",
       "</div>"
      ],
      "text/plain": [
       "Empty DataFrame\n",
       "Columns: [MON1 CL DDM (?A), MON1 CL RF (dB), MON1 DS DDM (?A), MON1 DS RF (dB), MON1 NF DDM (?A), MON1 NF RF (dB), MON1 CLR DDM (?A), MON1 CLR RF (dB)]\n",
       "Index: []"
      ]
     },
     "execution_count": 18,
     "metadata": {},
     "output_type": "execute_result"
    }
   ],
   "source": [
    "test"
   ]
  },
  {
   "cell_type": "code",
   "execution_count": 8,
   "metadata": {},
   "outputs": [
    {
     "data": {
      "text/plain": [
       "MinMaxScaler()"
      ]
     },
     "execution_count": 8,
     "metadata": {},
     "output_type": "execute_result"
    }
   ],
   "source": [
    "from sklearn.preprocessing import MinMaxScaler\n",
    "\n",
    "scaler = MinMaxScaler()\n",
    "\n",
    "scaler.fit(train)"
   ]
  },
  {
   "cell_type": "code",
   "execution_count": 9,
   "metadata": {},
   "outputs": [
    {
     "ename": "ValueError",
     "evalue": "Found array with 0 sample(s) (shape=(0, 8)) while a minimum of 1 is required.",
     "output_type": "error",
     "traceback": [
      "\u001b[1;31m---------------------------------------------------------------------------\u001b[0m",
      "\u001b[1;31mValueError\u001b[0m                                Traceback (most recent call last)",
      "\u001b[1;32mc:\\Users\\borga\\Documents\\GitHub\\TimeSeriesForecasting\\timeSeriesMultivariate.ipynb Cell 9'\u001b[0m in \u001b[0;36m<cell line: 2>\u001b[1;34m()\u001b[0m\n\u001b[0;32m      <a href='vscode-notebook-cell:/c%3A/Users/borga/Documents/GitHub/TimeSeriesForecasting/timeSeriesMultivariate.ipynb#ch0000008?line=0'>1</a>\u001b[0m scaled_train \u001b[39m=\u001b[39m scaler\u001b[39m.\u001b[39mtransform(train)\n\u001b[1;32m----> <a href='vscode-notebook-cell:/c%3A/Users/borga/Documents/GitHub/TimeSeriesForecasting/timeSeriesMultivariate.ipynb#ch0000008?line=1'>2</a>\u001b[0m scaled_test \u001b[39m=\u001b[39m scaler\u001b[39m.\u001b[39;49mtransform(test)\n",
      "File \u001b[1;32mc:\\Users\\borga\\anaconda3\\envs\\daEnvi\\lib\\site-packages\\sklearn\\preprocessing\\_data.py:496\u001b[0m, in \u001b[0;36mMinMaxScaler.transform\u001b[1;34m(self, X)\u001b[0m\n\u001b[0;32m    <a href='file:///c%3A/Users/borga/anaconda3/envs/daEnvi/lib/site-packages/sklearn/preprocessing/_data.py?line=481'>482</a>\u001b[0m \u001b[39m\"\"\"Scale features of X according to feature_range.\u001b[39;00m\n\u001b[0;32m    <a href='file:///c%3A/Users/borga/anaconda3/envs/daEnvi/lib/site-packages/sklearn/preprocessing/_data.py?line=482'>483</a>\u001b[0m \n\u001b[0;32m    <a href='file:///c%3A/Users/borga/anaconda3/envs/daEnvi/lib/site-packages/sklearn/preprocessing/_data.py?line=483'>484</a>\u001b[0m \u001b[39mParameters\u001b[39;00m\n\u001b[1;32m   (...)\u001b[0m\n\u001b[0;32m    <a href='file:///c%3A/Users/borga/anaconda3/envs/daEnvi/lib/site-packages/sklearn/preprocessing/_data.py?line=491'>492</a>\u001b[0m \u001b[39m    Transformed data.\u001b[39;00m\n\u001b[0;32m    <a href='file:///c%3A/Users/borga/anaconda3/envs/daEnvi/lib/site-packages/sklearn/preprocessing/_data.py?line=492'>493</a>\u001b[0m \u001b[39m\"\"\"\u001b[39;00m\n\u001b[0;32m    <a href='file:///c%3A/Users/borga/anaconda3/envs/daEnvi/lib/site-packages/sklearn/preprocessing/_data.py?line=493'>494</a>\u001b[0m check_is_fitted(\u001b[39mself\u001b[39m)\n\u001b[1;32m--> <a href='file:///c%3A/Users/borga/anaconda3/envs/daEnvi/lib/site-packages/sklearn/preprocessing/_data.py?line=495'>496</a>\u001b[0m X \u001b[39m=\u001b[39m \u001b[39mself\u001b[39;49m\u001b[39m.\u001b[39;49m_validate_data(\n\u001b[0;32m    <a href='file:///c%3A/Users/borga/anaconda3/envs/daEnvi/lib/site-packages/sklearn/preprocessing/_data.py?line=496'>497</a>\u001b[0m     X,\n\u001b[0;32m    <a href='file:///c%3A/Users/borga/anaconda3/envs/daEnvi/lib/site-packages/sklearn/preprocessing/_data.py?line=497'>498</a>\u001b[0m     copy\u001b[39m=\u001b[39;49m\u001b[39mself\u001b[39;49m\u001b[39m.\u001b[39;49mcopy,\n\u001b[0;32m    <a href='file:///c%3A/Users/borga/anaconda3/envs/daEnvi/lib/site-packages/sklearn/preprocessing/_data.py?line=498'>499</a>\u001b[0m     dtype\u001b[39m=\u001b[39;49mFLOAT_DTYPES,\n\u001b[0;32m    <a href='file:///c%3A/Users/borga/anaconda3/envs/daEnvi/lib/site-packages/sklearn/preprocessing/_data.py?line=499'>500</a>\u001b[0m     force_all_finite\u001b[39m=\u001b[39;49m\u001b[39m\"\u001b[39;49m\u001b[39mallow-nan\u001b[39;49m\u001b[39m\"\u001b[39;49m,\n\u001b[0;32m    <a href='file:///c%3A/Users/borga/anaconda3/envs/daEnvi/lib/site-packages/sklearn/preprocessing/_data.py?line=500'>501</a>\u001b[0m     reset\u001b[39m=\u001b[39;49m\u001b[39mFalse\u001b[39;49;00m,\n\u001b[0;32m    <a href='file:///c%3A/Users/borga/anaconda3/envs/daEnvi/lib/site-packages/sklearn/preprocessing/_data.py?line=501'>502</a>\u001b[0m )\n\u001b[0;32m    <a href='file:///c%3A/Users/borga/anaconda3/envs/daEnvi/lib/site-packages/sklearn/preprocessing/_data.py?line=503'>504</a>\u001b[0m X \u001b[39m*\u001b[39m\u001b[39m=\u001b[39m \u001b[39mself\u001b[39m\u001b[39m.\u001b[39mscale_\n\u001b[0;32m    <a href='file:///c%3A/Users/borga/anaconda3/envs/daEnvi/lib/site-packages/sklearn/preprocessing/_data.py?line=504'>505</a>\u001b[0m X \u001b[39m+\u001b[39m\u001b[39m=\u001b[39m \u001b[39mself\u001b[39m\u001b[39m.\u001b[39mmin_\n",
      "File \u001b[1;32mc:\\Users\\borga\\anaconda3\\envs\\daEnvi\\lib\\site-packages\\sklearn\\base.py:566\u001b[0m, in \u001b[0;36mBaseEstimator._validate_data\u001b[1;34m(self, X, y, reset, validate_separately, **check_params)\u001b[0m\n\u001b[0;32m    <a href='file:///c%3A/Users/borga/anaconda3/envs/daEnvi/lib/site-packages/sklearn/base.py?line=563'>564</a>\u001b[0m     \u001b[39mraise\u001b[39;00m \u001b[39mValueError\u001b[39;00m(\u001b[39m\"\u001b[39m\u001b[39mValidation should be done on X, y or both.\u001b[39m\u001b[39m\"\u001b[39m)\n\u001b[0;32m    <a href='file:///c%3A/Users/borga/anaconda3/envs/daEnvi/lib/site-packages/sklearn/base.py?line=564'>565</a>\u001b[0m \u001b[39melif\u001b[39;00m \u001b[39mnot\u001b[39;00m no_val_X \u001b[39mand\u001b[39;00m no_val_y:\n\u001b[1;32m--> <a href='file:///c%3A/Users/borga/anaconda3/envs/daEnvi/lib/site-packages/sklearn/base.py?line=565'>566</a>\u001b[0m     X \u001b[39m=\u001b[39m check_array(X, \u001b[39m*\u001b[39;49m\u001b[39m*\u001b[39;49mcheck_params)\n\u001b[0;32m    <a href='file:///c%3A/Users/borga/anaconda3/envs/daEnvi/lib/site-packages/sklearn/base.py?line=566'>567</a>\u001b[0m     out \u001b[39m=\u001b[39m X\n\u001b[0;32m    <a href='file:///c%3A/Users/borga/anaconda3/envs/daEnvi/lib/site-packages/sklearn/base.py?line=567'>568</a>\u001b[0m \u001b[39melif\u001b[39;00m no_val_X \u001b[39mand\u001b[39;00m \u001b[39mnot\u001b[39;00m no_val_y:\n",
      "File \u001b[1;32mc:\\Users\\borga\\anaconda3\\envs\\daEnvi\\lib\\site-packages\\sklearn\\utils\\validation.py:805\u001b[0m, in \u001b[0;36mcheck_array\u001b[1;34m(array, accept_sparse, accept_large_sparse, dtype, order, copy, force_all_finite, ensure_2d, allow_nd, ensure_min_samples, ensure_min_features, estimator)\u001b[0m\n\u001b[0;32m    <a href='file:///c%3A/Users/borga/anaconda3/envs/daEnvi/lib/site-packages/sklearn/utils/validation.py?line=802'>803</a>\u001b[0m     n_samples \u001b[39m=\u001b[39m _num_samples(array)\n\u001b[0;32m    <a href='file:///c%3A/Users/borga/anaconda3/envs/daEnvi/lib/site-packages/sklearn/utils/validation.py?line=803'>804</a>\u001b[0m     \u001b[39mif\u001b[39;00m n_samples \u001b[39m<\u001b[39m ensure_min_samples:\n\u001b[1;32m--> <a href='file:///c%3A/Users/borga/anaconda3/envs/daEnvi/lib/site-packages/sklearn/utils/validation.py?line=804'>805</a>\u001b[0m         \u001b[39mraise\u001b[39;00m \u001b[39mValueError\u001b[39;00m(\n\u001b[0;32m    <a href='file:///c%3A/Users/borga/anaconda3/envs/daEnvi/lib/site-packages/sklearn/utils/validation.py?line=805'>806</a>\u001b[0m             \u001b[39m\"\u001b[39m\u001b[39mFound array with \u001b[39m\u001b[39m%d\u001b[39;00m\u001b[39m sample(s) (shape=\u001b[39m\u001b[39m%s\u001b[39;00m\u001b[39m) while a\u001b[39m\u001b[39m\"\u001b[39m\n\u001b[0;32m    <a href='file:///c%3A/Users/borga/anaconda3/envs/daEnvi/lib/site-packages/sklearn/utils/validation.py?line=806'>807</a>\u001b[0m             \u001b[39m\"\u001b[39m\u001b[39m minimum of \u001b[39m\u001b[39m%d\u001b[39;00m\u001b[39m is required\u001b[39m\u001b[39m%s\u001b[39;00m\u001b[39m.\u001b[39m\u001b[39m\"\u001b[39m\n\u001b[0;32m    <a href='file:///c%3A/Users/borga/anaconda3/envs/daEnvi/lib/site-packages/sklearn/utils/validation.py?line=807'>808</a>\u001b[0m             \u001b[39m%\u001b[39m (n_samples, array\u001b[39m.\u001b[39mshape, ensure_min_samples, context)\n\u001b[0;32m    <a href='file:///c%3A/Users/borga/anaconda3/envs/daEnvi/lib/site-packages/sklearn/utils/validation.py?line=808'>809</a>\u001b[0m         )\n\u001b[0;32m    <a href='file:///c%3A/Users/borga/anaconda3/envs/daEnvi/lib/site-packages/sklearn/utils/validation.py?line=810'>811</a>\u001b[0m \u001b[39mif\u001b[39;00m ensure_min_features \u001b[39m>\u001b[39m \u001b[39m0\u001b[39m \u001b[39mand\u001b[39;00m array\u001b[39m.\u001b[39mndim \u001b[39m==\u001b[39m \u001b[39m2\u001b[39m:\n\u001b[0;32m    <a href='file:///c%3A/Users/borga/anaconda3/envs/daEnvi/lib/site-packages/sklearn/utils/validation.py?line=811'>812</a>\u001b[0m     n_features \u001b[39m=\u001b[39m array\u001b[39m.\u001b[39mshape[\u001b[39m1\u001b[39m]\n",
      "\u001b[1;31mValueError\u001b[0m: Found array with 0 sample(s) (shape=(0, 8)) while a minimum of 1 is required."
     ]
    }
   ],
   "source": [
    "scaled_train = scaler.transform(train)\n",
    "scaled_test = scaler.transform(test)"
   ]
  },
  {
   "cell_type": "code",
   "execution_count": null,
   "metadata": {},
   "outputs": [],
   "source": [
    "from keras.preprocessing.sequence import TimeseriesGenerator\n",
    "\n",
    "# define generator\n",
    "length = 24 # Length of the output sequences (in number of timesteps)\n",
    "batch_size = 1 #Number of timeseries samples in each batch\n",
    "generator = TimeseriesGenerator(scaled_train, scaled_train, length=length, batch_size=batch_size)\n"
   ]
  },
  {
   "cell_type": "code",
   "execution_count": null,
   "metadata": {},
   "outputs": [],
   "source": [
    "len(scaled_train)"
   ]
  },
  {
   "cell_type": "code",
   "execution_count": null,
   "metadata": {},
   "outputs": [],
   "source": [
    "len(generator)"
   ]
  },
  {
   "cell_type": "code",
   "execution_count": null,
   "metadata": {},
   "outputs": [],
   "source": [
    "X,y = generator[0]\n",
    "\n",
    "print(f'Given the Array: \\n{X.flatten()}')\n",
    "print(f'Predict this y: \\n {y}')\n"
   ]
  },
  {
   "cell_type": "code",
   "execution_count": null,
   "metadata": {},
   "outputs": [],
   "source": [
    "#Create model\n",
    "\n",
    "from keras.models import Sequential\n",
    "from keras.layers import Dense,LSTM\n",
    "\n",
    "scaled_train.shape"
   ]
  },
  {
   "cell_type": "code",
   "execution_count": null,
   "metadata": {},
   "outputs": [],
   "source": [
    "import tensorflow as tf\n",
    "from keras.optimizers import Adam\n",
    "seed_value = 0\n",
    "tf.random.set_seed(seed_value)\n",
    "\n",
    "model = Sequential()\n",
    "\n",
    "# Simple RNN layer\n",
    "model.add(LSTM(50,input_shape=(length,scaled_train.shape[1])))\n",
    "\n",
    "# Final Prediction (one neuron per feature)\n",
    "model.add(Dense(scaled_train.shape[1]))\n",
    "\n",
    "adam = Adam(learning_rate=0.01)\n",
    "\n",
    "model.compile(optimizer=adam, loss='mse')"
   ]
  },
  {
   "cell_type": "code",
   "execution_count": null,
   "metadata": {},
   "outputs": [],
   "source": [
    "model.summary()"
   ]
  },
  {
   "cell_type": "code",
   "execution_count": null,
   "metadata": {},
   "outputs": [],
   "source": [
    "from keras.callbacks import EarlyStopping\n",
    "\n",
    "#early_stop = EarlyStopping(monitor='val_loss',patience=1, min_delta=1, verbose=1, mode=min)\n",
    "\n",
    "#early_stop = EarlyStopping(monitor='val_loss', mode='min', verbose=1)\n",
    "\n",
    "validation_generator = TimeseriesGenerator(scaled_test,scaled_test, \n",
    "                                           length=length, batch_size=batch_size)\n",
    "\n"
   ]
  },
  {
   "cell_type": "code",
   "execution_count": null,
   "metadata": {},
   "outputs": [],
   "source": [
    "model.fit(generator,epochs=10,\n",
    "                    validation_data=validation_generator)\n"
   ]
  },
  {
   "cell_type": "code",
   "execution_count": null,
   "metadata": {},
   "outputs": [],
   "source": [
    "dataTwo = {'Model': [\"LSTM\"], 'Optimizer': [\"adam\"], 'Loss-Function': [\"mse\"], 'Epochs' : [\"10\"], 'Num of nodes': \"50\", 'Callbacks' : \"None\", 'Batch-Size': [batch_size], 'Length' : [length]}\n",
    "\n",
    "df = pd.DataFrame(dataTwo)\n",
    "df.head()\n"
   ]
  },
  {
   "cell_type": "code",
   "execution_count": null,
   "metadata": {},
   "outputs": [],
   "source": [
    "model.history.history.keys()"
   ]
  },
  {
   "cell_type": "code",
   "execution_count": null,
   "metadata": {},
   "outputs": [],
   "source": [
    "\n",
    "\n",
    "losses = pd.DataFrame(model.history.history)\n",
    "losses.plot()\n",
    "\n"
   ]
  },
  {
   "cell_type": "code",
   "execution_count": null,
   "metadata": {},
   "outputs": [],
   "source": [
    "first_eval_batch = scaled_train[-length:]\n",
    "\n",
    "\n",
    "\n",
    "first_eval_batch\n",
    "\n"
   ]
  },
  {
   "cell_type": "code",
   "execution_count": null,
   "metadata": {},
   "outputs": [],
   "source": [
    "first_eval_batch = first_eval_batch.reshape((1, length, scaled_train.shape[1]))"
   ]
  },
  {
   "cell_type": "code",
   "execution_count": null,
   "metadata": {},
   "outputs": [],
   "source": [
    "model.predict(first_eval_batch)"
   ]
  },
  {
   "cell_type": "code",
   "execution_count": null,
   "metadata": {},
   "outputs": [],
   "source": [
    "n_features = scaled_train.shape[1]\n",
    "test_predictions = []\n",
    "\n",
    "first_eval_batch = scaled_train[-length:]\n",
    "current_batch = first_eval_batch.reshape((1, length, n_features))\n",
    "\n",
    "for i in range(len(test)):\n",
    "    \n",
    "    # get prediction 1 time stamp ahead ([0] is for grabbing just the number instead of [array])\n",
    "    current_pred = model.predict(current_batch)[0]\n",
    "    \n",
    "    # store prediction\n",
    "    test_predictions.append(current_pred) \n",
    "    \n",
    "    # update batch to now include prediction and drop first value\n",
    "    current_batch = np.append(current_batch[:,1:,:],[[current_pred]],axis=1)"
   ]
  },
  {
   "cell_type": "code",
   "execution_count": null,
   "metadata": {},
   "outputs": [],
   "source": [
    "test_predictions"
   ]
  },
  {
   "cell_type": "code",
   "execution_count": null,
   "metadata": {},
   "outputs": [],
   "source": [
    "scaled_test"
   ]
  },
  {
   "cell_type": "code",
   "execution_count": null,
   "metadata": {},
   "outputs": [],
   "source": [
    "\n",
    "true_predictions = scaler.inverse_transform(test_predictions)\n"
   ]
  },
  {
   "cell_type": "code",
   "execution_count": null,
   "metadata": {},
   "outputs": [],
   "source": [
    "\n",
    "\n",
    "true_predictions\n",
    "\n"
   ]
  },
  {
   "cell_type": "code",
   "execution_count": null,
   "metadata": {},
   "outputs": [],
   "source": [
    "\n",
    "\n",
    "true_predictions = pd.DataFrame(data=true_predictions,columns=test.columns)\n",
    "\n"
   ]
  },
  {
   "cell_type": "code",
   "execution_count": null,
   "metadata": {},
   "outputs": [],
   "source": [
    "true_predictions.head(4000)"
   ]
  },
  {
   "cell_type": "code",
   "execution_count": null,
   "metadata": {},
   "outputs": [],
   "source": [
    "from keras.models import load_model\n",
    "\n",
    "model.save(\"multivariate.h5\")"
   ]
  },
  {
   "cell_type": "code",
   "execution_count": null,
   "metadata": {},
   "outputs": [],
   "source": [
    "test.plot()\n",
    "\n",
    "true_predictions.plot()"
   ]
  }
 ],
 "metadata": {
  "interpreter": {
   "hash": "a708ac0f91fd663acc019f9ec5872948c864bb4bb0bbfaa8980548815af444bf"
  },
  "kernelspec": {
   "display_name": "Python 3.8.11 ('daEnvi')",
   "language": "python",
   "name": "python3"
  },
  "language_info": {
   "codemirror_mode": {
    "name": "ipython",
    "version": 3
   },
   "file_extension": ".py",
   "mimetype": "text/x-python",
   "name": "python",
   "nbconvert_exporter": "python",
   "pygments_lexer": "ipython3",
   "version": "3.8.11"
  },
  "orig_nbformat": 4
 },
 "nbformat": 4,
 "nbformat_minor": 2
}
